{
  "nbformat": 4,
  "nbformat_minor": 0,
  "metadata": {
    "colab": {
      "name": "Covid-19",
      "provenance": [],
      "collapsed_sections": []
    },
    "kernelspec": {
      "name": "python3",
      "display_name": "Python 3"
    }
  },
  "cells": [
    {
      "cell_type": "markdown",
      "metadata": {
        "id": "aXl3EuBPcUwQ"
      },
      "source": [
        "# Pandas and Covid-19"
      ]
    },
    {
      "cell_type": "markdown",
      "metadata": {
        "id": "u1D4tS_27Hvp"
      },
      "source": [
        "This notebook is an example of data analysis and manipulation with **Pandas** and has beed created in [Google Colab](https://colab.research.google.com)\n",
        "\n",
        "Enjoy it!"
      ]
    },
    {
      "cell_type": "code",
      "metadata": {
        "id": "Ak8L8x7IcWYq"
      },
      "source": [
        "import numpy as np\n",
        "import pandas as pd"
      ],
      "execution_count": 4,
      "outputs": []
    },
    {
      "cell_type": "markdown",
      "metadata": {
        "id": "xwUVHjYncbDi"
      },
      "source": [
        "## The Data\n",
        "\n",
        "To get some data I and going to download it from Data Repository by Johns Hopkins CSSE\n",
        "\n",
        "https://github.com/CSSEGISandData/COVID-19"
      ]
    },
    {
      "cell_type": "markdown",
      "metadata": {
        "id": "d4xNQXcnyseg"
      },
      "source": [
        "I first remove the folder where I am goint to store the data so I can re-execute this sentences without any problems ..."
      ]
    },
    {
      "cell_type": "code",
      "metadata": {
        "id": "A08RQDq5gWAH"
      },
      "source": [
        "!rm -rf ./COVID-19"
      ],
      "execution_count": 5,
      "outputs": []
    },
    {
      "cell_type": "markdown",
      "metadata": {
        "id": "kopIho38y-6Y"
      },
      "source": [
        "The dataset is avaible in GitHub so I use the `git` command to get it"
      ]
    },
    {
      "cell_type": "code",
      "metadata": {
        "id": "hZeguxIvckRR",
        "colab": {
          "base_uri": "https://localhost:8080/"
        },
        "outputId": "97237b61-c4fd-4b5a-d486-aa2ff56097f7"
      },
      "source": [
        "!git clone https://github.com/CSSEGISandData/COVID-19.git"
      ],
      "execution_count": 6,
      "outputs": [
        {
          "output_type": "stream",
          "text": [
            "Cloning into 'COVID-19'...\n",
            "remote: Enumerating objects: 22, done.\u001b[K\n",
            "remote: Counting objects: 100% (22/22), done.\u001b[K\n",
            "remote: Compressing objects: 100% (18/18), done.\u001b[K\n",
            "remote: Total 73782 (delta 5), reused 9 (delta 4), pack-reused 73760\u001b[K\n",
            "Receiving objects: 100% (73782/73782), 612.75 MiB | 26.83 MiB/s, done.\n",
            "Resolving deltas: 100% (48819/48819), done.\n",
            "Checking out files: 100% (796/796), done.\n"
          ],
          "name": "stdout"
        }
      ]
    },
    {
      "cell_type": "markdown",
      "metadata": {
        "id": "2SWMmbQedx8n"
      },
      "source": [
        "More than 600 Mb of data ..."
      ]
    },
    {
      "cell_type": "markdown",
      "metadata": {
        "id": "HGm4qwtpOicp"
      },
      "source": [
        "## Exporing the data\n"
      ]
    },
    {
      "cell_type": "code",
      "metadata": {
        "id": "ecwwk7FHcu1T",
        "colab": {
          "base_uri": "https://localhost:8080/"
        },
        "outputId": "b5b485b4-efa2-4868-ab88-051f1974c0b1"
      },
      "source": [
        "!ls -lt ./COVID-19/csse_covid_19_data/csse_covid_19_daily_reports | head"
      ],
      "execution_count": 7,
      "outputs": [
        {
          "output_type": "stream",
          "text": [
            "total 125036\n",
            "-rw-r--r-- 1 root root 564489 Dec 11 08:02 12-10-2020.csv\n",
            "-rw-r--r-- 1 root root      0 Dec 11 08:02 README.md\n",
            "-rw-r--r-- 1 root root 564365 Dec 11 08:02 12-09-2020.csv\n",
            "-rw-r--r-- 1 root root 564020 Dec 11 08:02 12-08-2020.csv\n",
            "-rw-r--r-- 1 root root 564274 Dec 11 08:02 12-07-2020.csv\n",
            "-rw-r--r-- 1 root root 564118 Dec 11 08:02 12-06-2020.csv\n",
            "-rw-r--r-- 1 root root 563825 Dec 11 08:02 12-05-2020.csv\n",
            "-rw-r--r-- 1 root root 563697 Dec 11 08:02 12-04-2020.csv\n",
            "-rw-r--r-- 1 root root 563695 Dec 11 08:02 12-03-2020.csv\n"
          ],
          "name": "stdout"
        }
      ]
    },
    {
      "cell_type": "markdown",
      "metadata": {
        "id": "bT58_j-syjxN"
      },
      "source": [
        "Yes!!!  \n",
        "We have data files ..."
      ]
    },
    {
      "cell_type": "markdown",
      "metadata": {
        "id": "-5p6k2r3ySM8"
      },
      "source": [
        "Perfect. Let's explore the first dataset generated ..."
      ]
    },
    {
      "cell_type": "code",
      "metadata": {
        "id": "SmcipMo7d0Y6"
      },
      "source": [
        "first = pd.read_csv(\"./COVID-19/csse_covid_19_data/csse_covid_19_daily_reports/01-22-2020.csv\")"
      ],
      "execution_count": 8,
      "outputs": []
    },
    {
      "cell_type": "code",
      "metadata": {
        "id": "5KWgFLIJesbq",
        "colab": {
          "base_uri": "https://localhost:8080/",
          "height": 206
        },
        "outputId": "c88086f6-623d-437b-cefc-21cf9ce6dc79"
      },
      "source": [
        "first.head()"
      ],
      "execution_count": 9,
      "outputs": [
        {
          "output_type": "execute_result",
          "data": {
            "text/html": [
              "<div>\n",
              "<style scoped>\n",
              "    .dataframe tbody tr th:only-of-type {\n",
              "        vertical-align: middle;\n",
              "    }\n",
              "\n",
              "    .dataframe tbody tr th {\n",
              "        vertical-align: top;\n",
              "    }\n",
              "\n",
              "    .dataframe thead th {\n",
              "        text-align: right;\n",
              "    }\n",
              "</style>\n",
              "<table border=\"1\" class=\"dataframe\">\n",
              "  <thead>\n",
              "    <tr style=\"text-align: right;\">\n",
              "      <th></th>\n",
              "      <th>Province/State</th>\n",
              "      <th>Country/Region</th>\n",
              "      <th>Last Update</th>\n",
              "      <th>Confirmed</th>\n",
              "      <th>Deaths</th>\n",
              "      <th>Recovered</th>\n",
              "    </tr>\n",
              "  </thead>\n",
              "  <tbody>\n",
              "    <tr>\n",
              "      <th>0</th>\n",
              "      <td>Anhui</td>\n",
              "      <td>Mainland China</td>\n",
              "      <td>1/22/2020 17:00</td>\n",
              "      <td>1.0</td>\n",
              "      <td>NaN</td>\n",
              "      <td>NaN</td>\n",
              "    </tr>\n",
              "    <tr>\n",
              "      <th>1</th>\n",
              "      <td>Beijing</td>\n",
              "      <td>Mainland China</td>\n",
              "      <td>1/22/2020 17:00</td>\n",
              "      <td>14.0</td>\n",
              "      <td>NaN</td>\n",
              "      <td>NaN</td>\n",
              "    </tr>\n",
              "    <tr>\n",
              "      <th>2</th>\n",
              "      <td>Chongqing</td>\n",
              "      <td>Mainland China</td>\n",
              "      <td>1/22/2020 17:00</td>\n",
              "      <td>6.0</td>\n",
              "      <td>NaN</td>\n",
              "      <td>NaN</td>\n",
              "    </tr>\n",
              "    <tr>\n",
              "      <th>3</th>\n",
              "      <td>Fujian</td>\n",
              "      <td>Mainland China</td>\n",
              "      <td>1/22/2020 17:00</td>\n",
              "      <td>1.0</td>\n",
              "      <td>NaN</td>\n",
              "      <td>NaN</td>\n",
              "    </tr>\n",
              "    <tr>\n",
              "      <th>4</th>\n",
              "      <td>Gansu</td>\n",
              "      <td>Mainland China</td>\n",
              "      <td>1/22/2020 17:00</td>\n",
              "      <td>NaN</td>\n",
              "      <td>NaN</td>\n",
              "      <td>NaN</td>\n",
              "    </tr>\n",
              "  </tbody>\n",
              "</table>\n",
              "</div>"
            ],
            "text/plain": [
              "  Province/State  Country/Region      Last Update  Confirmed  Deaths  Recovered\n",
              "0          Anhui  Mainland China  1/22/2020 17:00        1.0     NaN        NaN\n",
              "1        Beijing  Mainland China  1/22/2020 17:00       14.0     NaN        NaN\n",
              "2      Chongqing  Mainland China  1/22/2020 17:00        6.0     NaN        NaN\n",
              "3         Fujian  Mainland China  1/22/2020 17:00        1.0     NaN        NaN\n",
              "4          Gansu  Mainland China  1/22/2020 17:00        NaN     NaN        NaN"
            ]
          },
          "metadata": {
            "tags": []
          },
          "execution_count": 9
        }
      ]
    },
    {
      "cell_type": "markdown",
      "metadata": {
        "id": "XrJfIWFWyXcX"
      },
      "source": [
        "And one of the last ones ..."
      ]
    },
    {
      "cell_type": "code",
      "metadata": {
        "id": "5FjlQ7HneuYR"
      },
      "source": [
        "last = pd.read_csv(\"./COVID-19/csse_covid_19_data/csse_covid_19_daily_reports/12-06-2020.csv\")"
      ],
      "execution_count": 10,
      "outputs": []
    },
    {
      "cell_type": "code",
      "metadata": {
        "id": "E3TYyKhoe_Yz",
        "colab": {
          "base_uri": "https://localhost:8080/",
          "height": 206
        },
        "outputId": "e9913a5f-dae1-499a-ef79-ded51e3f5402"
      },
      "source": [
        "last.head()"
      ],
      "execution_count": 11,
      "outputs": [
        {
          "output_type": "execute_result",
          "data": {
            "text/html": [
              "<div>\n",
              "<style scoped>\n",
              "    .dataframe tbody tr th:only-of-type {\n",
              "        vertical-align: middle;\n",
              "    }\n",
              "\n",
              "    .dataframe tbody tr th {\n",
              "        vertical-align: top;\n",
              "    }\n",
              "\n",
              "    .dataframe thead th {\n",
              "        text-align: right;\n",
              "    }\n",
              "</style>\n",
              "<table border=\"1\" class=\"dataframe\">\n",
              "  <thead>\n",
              "    <tr style=\"text-align: right;\">\n",
              "      <th></th>\n",
              "      <th>FIPS</th>\n",
              "      <th>Admin2</th>\n",
              "      <th>Province_State</th>\n",
              "      <th>Country_Region</th>\n",
              "      <th>Last_Update</th>\n",
              "      <th>Lat</th>\n",
              "      <th>Long_</th>\n",
              "      <th>Confirmed</th>\n",
              "      <th>Deaths</th>\n",
              "      <th>Recovered</th>\n",
              "      <th>Active</th>\n",
              "      <th>Combined_Key</th>\n",
              "      <th>Incident_Rate</th>\n",
              "      <th>Case_Fatality_Ratio</th>\n",
              "    </tr>\n",
              "  </thead>\n",
              "  <tbody>\n",
              "    <tr>\n",
              "      <th>0</th>\n",
              "      <td>NaN</td>\n",
              "      <td>NaN</td>\n",
              "      <td>NaN</td>\n",
              "      <td>Afghanistan</td>\n",
              "      <td>2020-12-07 05:26:14</td>\n",
              "      <td>33.93911</td>\n",
              "      <td>67.709953</td>\n",
              "      <td>47306</td>\n",
              "      <td>1874</td>\n",
              "      <td>37685</td>\n",
              "      <td>7747.0</td>\n",
              "      <td>Afghanistan</td>\n",
              "      <td>121.520719</td>\n",
              "      <td>3.961443</td>\n",
              "    </tr>\n",
              "    <tr>\n",
              "      <th>1</th>\n",
              "      <td>NaN</td>\n",
              "      <td>NaN</td>\n",
              "      <td>NaN</td>\n",
              "      <td>Albania</td>\n",
              "      <td>2020-12-07 05:26:14</td>\n",
              "      <td>41.15330</td>\n",
              "      <td>20.168300</td>\n",
              "      <td>42988</td>\n",
              "      <td>905</td>\n",
              "      <td>21617</td>\n",
              "      <td>20466.0</td>\n",
              "      <td>Albania</td>\n",
              "      <td>1493.779971</td>\n",
              "      <td>2.105239</td>\n",
              "    </tr>\n",
              "    <tr>\n",
              "      <th>2</th>\n",
              "      <td>NaN</td>\n",
              "      <td>NaN</td>\n",
              "      <td>NaN</td>\n",
              "      <td>Algeria</td>\n",
              "      <td>2020-12-07 05:26:14</td>\n",
              "      <td>28.03390</td>\n",
              "      <td>1.659600</td>\n",
              "      <td>88252</td>\n",
              "      <td>2516</td>\n",
              "      <td>57146</td>\n",
              "      <td>28590.0</td>\n",
              "      <td>Algeria</td>\n",
              "      <td>201.254050</td>\n",
              "      <td>2.850927</td>\n",
              "    </tr>\n",
              "    <tr>\n",
              "      <th>3</th>\n",
              "      <td>NaN</td>\n",
              "      <td>NaN</td>\n",
              "      <td>NaN</td>\n",
              "      <td>Andorra</td>\n",
              "      <td>2020-12-07 05:26:14</td>\n",
              "      <td>42.50630</td>\n",
              "      <td>1.521800</td>\n",
              "      <td>7050</td>\n",
              "      <td>78</td>\n",
              "      <td>6238</td>\n",
              "      <td>734.0</td>\n",
              "      <td>Andorra</td>\n",
              "      <td>9124.441856</td>\n",
              "      <td>1.106383</td>\n",
              "    </tr>\n",
              "    <tr>\n",
              "      <th>4</th>\n",
              "      <td>NaN</td>\n",
              "      <td>NaN</td>\n",
              "      <td>NaN</td>\n",
              "      <td>Angola</td>\n",
              "      <td>2020-12-07 05:26:14</td>\n",
              "      <td>-11.20270</td>\n",
              "      <td>17.873900</td>\n",
              "      <td>15591</td>\n",
              "      <td>354</td>\n",
              "      <td>8338</td>\n",
              "      <td>6899.0</td>\n",
              "      <td>Angola</td>\n",
              "      <td>47.437695</td>\n",
              "      <td>2.270541</td>\n",
              "    </tr>\n",
              "  </tbody>\n",
              "</table>\n",
              "</div>"
            ],
            "text/plain": [
              "   FIPS Admin2 Province_State  ... Combined_Key Incident_Rate  Case_Fatality_Ratio\n",
              "0   NaN    NaN            NaN  ...  Afghanistan    121.520719             3.961443\n",
              "1   NaN    NaN            NaN  ...      Albania   1493.779971             2.105239\n",
              "2   NaN    NaN            NaN  ...      Algeria    201.254050             2.850927\n",
              "3   NaN    NaN            NaN  ...      Andorra   9124.441856             1.106383\n",
              "4   NaN    NaN            NaN  ...       Angola     47.437695             2.270541\n",
              "\n",
              "[5 rows x 14 columns]"
            ]
          },
          "metadata": {
            "tags": []
          },
          "execution_count": 11
        }
      ]
    },
    {
      "cell_type": "markdown",
      "metadata": {
        "id": "3BwR-LBfycpM"
      },
      "source": [
        "Can I concatenate both datasets?"
      ]
    },
    {
      "cell_type": "code",
      "metadata": {
        "id": "WkKG-beB4jHf",
        "colab": {
          "base_uri": "https://localhost:8080/",
          "height": 677
        },
        "outputId": "4a5aac32-733e-423a-fdc4-54696942672b"
      },
      "source": [
        "last.query(\"Country_Region == 'Spain'\")"
      ],
      "execution_count": 12,
      "outputs": [
        {
          "output_type": "execute_result",
          "data": {
            "text/html": [
              "<div>\n",
              "<style scoped>\n",
              "    .dataframe tbody tr th:only-of-type {\n",
              "        vertical-align: middle;\n",
              "    }\n",
              "\n",
              "    .dataframe tbody tr th {\n",
              "        vertical-align: top;\n",
              "    }\n",
              "\n",
              "    .dataframe thead th {\n",
              "        text-align: right;\n",
              "    }\n",
              "</style>\n",
              "<table border=\"1\" class=\"dataframe\">\n",
              "  <thead>\n",
              "    <tr style=\"text-align: right;\">\n",
              "      <th></th>\n",
              "      <th>FIPS</th>\n",
              "      <th>Admin2</th>\n",
              "      <th>Province_State</th>\n",
              "      <th>Country_Region</th>\n",
              "      <th>Last_Update</th>\n",
              "      <th>Lat</th>\n",
              "      <th>Long_</th>\n",
              "      <th>Confirmed</th>\n",
              "      <th>Deaths</th>\n",
              "      <th>Recovered</th>\n",
              "      <th>Active</th>\n",
              "      <th>Combined_Key</th>\n",
              "      <th>Incident_Rate</th>\n",
              "      <th>Case_Fatality_Ratio</th>\n",
              "    </tr>\n",
              "  </thead>\n",
              "  <tbody>\n",
              "    <tr>\n",
              "      <th>594</th>\n",
              "      <td>NaN</td>\n",
              "      <td>NaN</td>\n",
              "      <td>Andalusia</td>\n",
              "      <td>Spain</td>\n",
              "      <td>2020-12-07 05:26:14</td>\n",
              "      <td>37.544300</td>\n",
              "      <td>-4.727800</td>\n",
              "      <td>238783</td>\n",
              "      <td>4296</td>\n",
              "      <td>10671</td>\n",
              "      <td>223816.0</td>\n",
              "      <td>Andalusia, Spain</td>\n",
              "      <td>2833.410759</td>\n",
              "      <td>1.799123</td>\n",
              "    </tr>\n",
              "    <tr>\n",
              "      <th>595</th>\n",
              "      <td>NaN</td>\n",
              "      <td>NaN</td>\n",
              "      <td>Aragon</td>\n",
              "      <td>Spain</td>\n",
              "      <td>2020-12-07 05:26:14</td>\n",
              "      <td>41.597600</td>\n",
              "      <td>-0.905700</td>\n",
              "      <td>74534</td>\n",
              "      <td>2360</td>\n",
              "      <td>3772</td>\n",
              "      <td>68402.0</td>\n",
              "      <td>Aragon, Spain</td>\n",
              "      <td>5644.009553</td>\n",
              "      <td>3.166340</td>\n",
              "    </tr>\n",
              "    <tr>\n",
              "      <th>596</th>\n",
              "      <td>NaN</td>\n",
              "      <td>NaN</td>\n",
              "      <td>Asturias</td>\n",
              "      <td>Spain</td>\n",
              "      <td>2020-12-07 05:26:14</td>\n",
              "      <td>43.361400</td>\n",
              "      <td>-5.859300</td>\n",
              "      <td>24175</td>\n",
              "      <td>1073</td>\n",
              "      <td>1063</td>\n",
              "      <td>22039.0</td>\n",
              "      <td>Asturias, Spain</td>\n",
              "      <td>2364.985497</td>\n",
              "      <td>4.438469</td>\n",
              "    </tr>\n",
              "    <tr>\n",
              "      <th>597</th>\n",
              "      <td>NaN</td>\n",
              "      <td>NaN</td>\n",
              "      <td>Baleares</td>\n",
              "      <td>Spain</td>\n",
              "      <td>2020-12-07 05:26:14</td>\n",
              "      <td>39.710358</td>\n",
              "      <td>2.995148</td>\n",
              "      <td>25288</td>\n",
              "      <td>425</td>\n",
              "      <td>1533</td>\n",
              "      <td>23330.0</td>\n",
              "      <td>Baleares, Spain</td>\n",
              "      <td>2128.225413</td>\n",
              "      <td>1.680639</td>\n",
              "    </tr>\n",
              "    <tr>\n",
              "      <th>598</th>\n",
              "      <td>NaN</td>\n",
              "      <td>NaN</td>\n",
              "      <td>C. Valenciana</td>\n",
              "      <td>Spain</td>\n",
              "      <td>2020-12-07 05:26:14</td>\n",
              "      <td>39.484000</td>\n",
              "      <td>-0.753300</td>\n",
              "      <td>108586</td>\n",
              "      <td>2444</td>\n",
              "      <td>9970</td>\n",
              "      <td>96172.0</td>\n",
              "      <td>C. Valenciana, Spain</td>\n",
              "      <td>2182.646766</td>\n",
              "      <td>2.250751</td>\n",
              "    </tr>\n",
              "    <tr>\n",
              "      <th>599</th>\n",
              "      <td>NaN</td>\n",
              "      <td>NaN</td>\n",
              "      <td>Canarias</td>\n",
              "      <td>Spain</td>\n",
              "      <td>2020-12-07 05:26:14</td>\n",
              "      <td>28.291600</td>\n",
              "      <td>-16.629100</td>\n",
              "      <td>21753</td>\n",
              "      <td>346</td>\n",
              "      <td>1537</td>\n",
              "      <td>19870.0</td>\n",
              "      <td>Canarias, Spain</td>\n",
              "      <td>985.680826</td>\n",
              "      <td>1.590585</td>\n",
              "    </tr>\n",
              "    <tr>\n",
              "      <th>600</th>\n",
              "      <td>NaN</td>\n",
              "      <td>NaN</td>\n",
              "      <td>Cantabria</td>\n",
              "      <td>Spain</td>\n",
              "      <td>2020-12-07 05:26:14</td>\n",
              "      <td>43.182800</td>\n",
              "      <td>-3.987800</td>\n",
              "      <td>15903</td>\n",
              "      <td>324</td>\n",
              "      <td>2287</td>\n",
              "      <td>13292.0</td>\n",
              "      <td>Cantabria, Spain</td>\n",
              "      <td>2734.160762</td>\n",
              "      <td>2.037351</td>\n",
              "    </tr>\n",
              "    <tr>\n",
              "      <th>601</th>\n",
              "      <td>NaN</td>\n",
              "      <td>NaN</td>\n",
              "      <td>Castilla - La Mancha</td>\n",
              "      <td>Spain</td>\n",
              "      <td>2020-12-07 05:26:14</td>\n",
              "      <td>39.279600</td>\n",
              "      <td>-3.097700</td>\n",
              "      <td>87956</td>\n",
              "      <td>3825</td>\n",
              "      <td>6392</td>\n",
              "      <td>77739.0</td>\n",
              "      <td>Castilla - La Mancha, Spain</td>\n",
              "      <td>4322.423419</td>\n",
              "      <td>4.348765</td>\n",
              "    </tr>\n",
              "    <tr>\n",
              "      <th>602</th>\n",
              "      <td>NaN</td>\n",
              "      <td>NaN</td>\n",
              "      <td>Castilla y Leon</td>\n",
              "      <td>Spain</td>\n",
              "      <td>2020-12-07 05:26:14</td>\n",
              "      <td>41.835700</td>\n",
              "      <td>-4.397600</td>\n",
              "      <td>123433</td>\n",
              "      <td>4647</td>\n",
              "      <td>8716</td>\n",
              "      <td>110070.0</td>\n",
              "      <td>Castilla y Leon, Spain</td>\n",
              "      <td>5126.523580</td>\n",
              "      <td>3.764795</td>\n",
              "    </tr>\n",
              "    <tr>\n",
              "      <th>603</th>\n",
              "      <td>NaN</td>\n",
              "      <td>NaN</td>\n",
              "      <td>Catalonia</td>\n",
              "      <td>Spain</td>\n",
              "      <td>2020-12-07 05:26:14</td>\n",
              "      <td>41.591200</td>\n",
              "      <td>1.520900</td>\n",
              "      <td>310141</td>\n",
              "      <td>8126</td>\n",
              "      <td>26203</td>\n",
              "      <td>275812.0</td>\n",
              "      <td>Catalonia, Spain</td>\n",
              "      <td>4098.907398</td>\n",
              "      <td>2.620099</td>\n",
              "    </tr>\n",
              "    <tr>\n",
              "      <th>604</th>\n",
              "      <td>NaN</td>\n",
              "      <td>NaN</td>\n",
              "      <td>Ceuta</td>\n",
              "      <td>Spain</td>\n",
              "      <td>2020-12-07 05:26:14</td>\n",
              "      <td>35.889400</td>\n",
              "      <td>-5.321300</td>\n",
              "      <td>2854</td>\n",
              "      <td>55</td>\n",
              "      <td>163</td>\n",
              "      <td>2636.0</td>\n",
              "      <td>Ceuta, Spain</td>\n",
              "      <td>3364.415471</td>\n",
              "      <td>1.927120</td>\n",
              "    </tr>\n",
              "    <tr>\n",
              "      <th>605</th>\n",
              "      <td>NaN</td>\n",
              "      <td>NaN</td>\n",
              "      <td>Extremadura</td>\n",
              "      <td>Spain</td>\n",
              "      <td>2020-12-07 05:26:14</td>\n",
              "      <td>39.493700</td>\n",
              "      <td>-6.067900</td>\n",
              "      <td>29461</td>\n",
              "      <td>971</td>\n",
              "      <td>2652</td>\n",
              "      <td>25838.0</td>\n",
              "      <td>Extremadura, Spain</td>\n",
              "      <td>2765.190197</td>\n",
              "      <td>3.295883</td>\n",
              "    </tr>\n",
              "    <tr>\n",
              "      <th>606</th>\n",
              "      <td>NaN</td>\n",
              "      <td>NaN</td>\n",
              "      <td>Galicia</td>\n",
              "      <td>Spain</td>\n",
              "      <td>2020-12-07 05:26:14</td>\n",
              "      <td>42.575100</td>\n",
              "      <td>-8.133900</td>\n",
              "      <td>51557</td>\n",
              "      <td>1246</td>\n",
              "      <td>9204</td>\n",
              "      <td>41107.0</td>\n",
              "      <td>Galicia, Spain</td>\n",
              "      <td>1909.206681</td>\n",
              "      <td>2.416743</td>\n",
              "    </tr>\n",
              "    <tr>\n",
              "      <th>607</th>\n",
              "      <td>NaN</td>\n",
              "      <td>NaN</td>\n",
              "      <td>La Rioja</td>\n",
              "      <td>Spain</td>\n",
              "      <td>2020-12-07 05:26:14</td>\n",
              "      <td>42.287100</td>\n",
              "      <td>-2.539600</td>\n",
              "      <td>16881</td>\n",
              "      <td>561</td>\n",
              "      <td>3107</td>\n",
              "      <td>13213.0</td>\n",
              "      <td>La Rioja, Spain</td>\n",
              "      <td>5383.469772</td>\n",
              "      <td>3.323263</td>\n",
              "    </tr>\n",
              "    <tr>\n",
              "      <th>608</th>\n",
              "      <td>NaN</td>\n",
              "      <td>NaN</td>\n",
              "      <td>Madrid</td>\n",
              "      <td>Spain</td>\n",
              "      <td>2020-12-07 05:26:14</td>\n",
              "      <td>40.416800</td>\n",
              "      <td>-3.703800</td>\n",
              "      <td>354326</td>\n",
              "      <td>11426</td>\n",
              "      <td>40736</td>\n",
              "      <td>302164.0</td>\n",
              "      <td>Madrid, Spain</td>\n",
              "      <td>5334.910050</td>\n",
              "      <td>3.224714</td>\n",
              "    </tr>\n",
              "    <tr>\n",
              "      <th>609</th>\n",
              "      <td>NaN</td>\n",
              "      <td>NaN</td>\n",
              "      <td>Melilla</td>\n",
              "      <td>Spain</td>\n",
              "      <td>2020-12-07 05:26:14</td>\n",
              "      <td>35.292300</td>\n",
              "      <td>-2.938100</td>\n",
              "      <td>4152</td>\n",
              "      <td>43</td>\n",
              "      <td>125</td>\n",
              "      <td>3984.0</td>\n",
              "      <td>Melilla, Spain</td>\n",
              "      <td>4902.643791</td>\n",
              "      <td>1.035645</td>\n",
              "    </tr>\n",
              "    <tr>\n",
              "      <th>610</th>\n",
              "      <td>NaN</td>\n",
              "      <td>NaN</td>\n",
              "      <td>Murcia</td>\n",
              "      <td>Spain</td>\n",
              "      <td>2020-12-07 05:26:14</td>\n",
              "      <td>37.992200</td>\n",
              "      <td>-1.130700</td>\n",
              "      <td>55116</td>\n",
              "      <td>623</td>\n",
              "      <td>2180</td>\n",
              "      <td>52313.0</td>\n",
              "      <td>Murcia, Spain</td>\n",
              "      <td>3704.871332</td>\n",
              "      <td>1.130343</td>\n",
              "    </tr>\n",
              "    <tr>\n",
              "      <th>611</th>\n",
              "      <td>NaN</td>\n",
              "      <td>NaN</td>\n",
              "      <td>Navarra</td>\n",
              "      <td>Spain</td>\n",
              "      <td>2020-12-07 05:26:14</td>\n",
              "      <td>42.695400</td>\n",
              "      <td>-1.676100</td>\n",
              "      <td>40032</td>\n",
              "      <td>893</td>\n",
              "      <td>3905</td>\n",
              "      <td>35234.0</td>\n",
              "      <td>Navarra, Spain</td>\n",
              "      <td>6159.280925</td>\n",
              "      <td>2.230715</td>\n",
              "    </tr>\n",
              "    <tr>\n",
              "      <th>612</th>\n",
              "      <td>NaN</td>\n",
              "      <td>NaN</td>\n",
              "      <td>Pais Vasco</td>\n",
              "      <td>Spain</td>\n",
              "      <td>2020-12-07 05:26:14</td>\n",
              "      <td>42.989600</td>\n",
              "      <td>-2.618900</td>\n",
              "      <td>99716</td>\n",
              "      <td>2568</td>\n",
              "      <td>16160</td>\n",
              "      <td>80988.0</td>\n",
              "      <td>Pais Vasco, Spain</td>\n",
              "      <td>4578.581005</td>\n",
              "      <td>2.575314</td>\n",
              "    </tr>\n",
              "    <tr>\n",
              "      <th>613</th>\n",
              "      <td>NaN</td>\n",
              "      <td>NaN</td>\n",
              "      <td>Unknown</td>\n",
              "      <td>Spain</td>\n",
              "      <td>2020-12-07 05:26:14</td>\n",
              "      <td>NaN</td>\n",
              "      <td>NaN</td>\n",
              "      <td>0</td>\n",
              "      <td>0</td>\n",
              "      <td>0</td>\n",
              "      <td>0.0</td>\n",
              "      <td>Unknown, Spain</td>\n",
              "      <td>NaN</td>\n",
              "      <td>NaN</td>\n",
              "    </tr>\n",
              "  </tbody>\n",
              "</table>\n",
              "</div>"
            ],
            "text/plain": [
              "     FIPS Admin2  ... Incident_Rate Case_Fatality_Ratio\n",
              "594   NaN    NaN  ...   2833.410759            1.799123\n",
              "595   NaN    NaN  ...   5644.009553            3.166340\n",
              "596   NaN    NaN  ...   2364.985497            4.438469\n",
              "597   NaN    NaN  ...   2128.225413            1.680639\n",
              "598   NaN    NaN  ...   2182.646766            2.250751\n",
              "599   NaN    NaN  ...    985.680826            1.590585\n",
              "600   NaN    NaN  ...   2734.160762            2.037351\n",
              "601   NaN    NaN  ...   4322.423419            4.348765\n",
              "602   NaN    NaN  ...   5126.523580            3.764795\n",
              "603   NaN    NaN  ...   4098.907398            2.620099\n",
              "604   NaN    NaN  ...   3364.415471            1.927120\n",
              "605   NaN    NaN  ...   2765.190197            3.295883\n",
              "606   NaN    NaN  ...   1909.206681            2.416743\n",
              "607   NaN    NaN  ...   5383.469772            3.323263\n",
              "608   NaN    NaN  ...   5334.910050            3.224714\n",
              "609   NaN    NaN  ...   4902.643791            1.035645\n",
              "610   NaN    NaN  ...   3704.871332            1.130343\n",
              "611   NaN    NaN  ...   6159.280925            2.230715\n",
              "612   NaN    NaN  ...   4578.581005            2.575314\n",
              "613   NaN    NaN  ...           NaN                 NaN\n",
              "\n",
              "[20 rows x 14 columns]"
            ]
          },
          "metadata": {
            "tags": []
          },
          "execution_count": 12
        }
      ]
    },
    {
      "cell_type": "code",
      "metadata": {
        "id": "ud-ibwwtfgnJ",
        "colab": {
          "base_uri": "https://localhost:8080/",
          "height": 424
        },
        "outputId": "23c37064-d254-4168-8e76-018b4f1bfaad"
      },
      "source": [
        "pd.concat((first, last), axis = 0)"
      ],
      "execution_count": 13,
      "outputs": [
        {
          "output_type": "execute_result",
          "data": {
            "text/html": [
              "<div>\n",
              "<style scoped>\n",
              "    .dataframe tbody tr th:only-of-type {\n",
              "        vertical-align: middle;\n",
              "    }\n",
              "\n",
              "    .dataframe tbody tr th {\n",
              "        vertical-align: top;\n",
              "    }\n",
              "\n",
              "    .dataframe thead th {\n",
              "        text-align: right;\n",
              "    }\n",
              "</style>\n",
              "<table border=\"1\" class=\"dataframe\">\n",
              "  <thead>\n",
              "    <tr style=\"text-align: right;\">\n",
              "      <th></th>\n",
              "      <th>Province/State</th>\n",
              "      <th>Country/Region</th>\n",
              "      <th>Last Update</th>\n",
              "      <th>Confirmed</th>\n",
              "      <th>Deaths</th>\n",
              "      <th>Recovered</th>\n",
              "      <th>FIPS</th>\n",
              "      <th>Admin2</th>\n",
              "      <th>Province_State</th>\n",
              "      <th>Country_Region</th>\n",
              "      <th>Last_Update</th>\n",
              "      <th>Lat</th>\n",
              "      <th>Long_</th>\n",
              "      <th>Active</th>\n",
              "      <th>Combined_Key</th>\n",
              "      <th>Incident_Rate</th>\n",
              "      <th>Case_Fatality_Ratio</th>\n",
              "    </tr>\n",
              "  </thead>\n",
              "  <tbody>\n",
              "    <tr>\n",
              "      <th>0</th>\n",
              "      <td>Anhui</td>\n",
              "      <td>Mainland China</td>\n",
              "      <td>1/22/2020 17:00</td>\n",
              "      <td>1.0</td>\n",
              "      <td>NaN</td>\n",
              "      <td>NaN</td>\n",
              "      <td>NaN</td>\n",
              "      <td>NaN</td>\n",
              "      <td>NaN</td>\n",
              "      <td>NaN</td>\n",
              "      <td>NaN</td>\n",
              "      <td>NaN</td>\n",
              "      <td>NaN</td>\n",
              "      <td>NaN</td>\n",
              "      <td>NaN</td>\n",
              "      <td>NaN</td>\n",
              "      <td>NaN</td>\n",
              "    </tr>\n",
              "    <tr>\n",
              "      <th>1</th>\n",
              "      <td>Beijing</td>\n",
              "      <td>Mainland China</td>\n",
              "      <td>1/22/2020 17:00</td>\n",
              "      <td>14.0</td>\n",
              "      <td>NaN</td>\n",
              "      <td>NaN</td>\n",
              "      <td>NaN</td>\n",
              "      <td>NaN</td>\n",
              "      <td>NaN</td>\n",
              "      <td>NaN</td>\n",
              "      <td>NaN</td>\n",
              "      <td>NaN</td>\n",
              "      <td>NaN</td>\n",
              "      <td>NaN</td>\n",
              "      <td>NaN</td>\n",
              "      <td>NaN</td>\n",
              "      <td>NaN</td>\n",
              "    </tr>\n",
              "    <tr>\n",
              "      <th>2</th>\n",
              "      <td>Chongqing</td>\n",
              "      <td>Mainland China</td>\n",
              "      <td>1/22/2020 17:00</td>\n",
              "      <td>6.0</td>\n",
              "      <td>NaN</td>\n",
              "      <td>NaN</td>\n",
              "      <td>NaN</td>\n",
              "      <td>NaN</td>\n",
              "      <td>NaN</td>\n",
              "      <td>NaN</td>\n",
              "      <td>NaN</td>\n",
              "      <td>NaN</td>\n",
              "      <td>NaN</td>\n",
              "      <td>NaN</td>\n",
              "      <td>NaN</td>\n",
              "      <td>NaN</td>\n",
              "      <td>NaN</td>\n",
              "    </tr>\n",
              "    <tr>\n",
              "      <th>3</th>\n",
              "      <td>Fujian</td>\n",
              "      <td>Mainland China</td>\n",
              "      <td>1/22/2020 17:00</td>\n",
              "      <td>1.0</td>\n",
              "      <td>NaN</td>\n",
              "      <td>NaN</td>\n",
              "      <td>NaN</td>\n",
              "      <td>NaN</td>\n",
              "      <td>NaN</td>\n",
              "      <td>NaN</td>\n",
              "      <td>NaN</td>\n",
              "      <td>NaN</td>\n",
              "      <td>NaN</td>\n",
              "      <td>NaN</td>\n",
              "      <td>NaN</td>\n",
              "      <td>NaN</td>\n",
              "      <td>NaN</td>\n",
              "    </tr>\n",
              "    <tr>\n",
              "      <th>4</th>\n",
              "      <td>Gansu</td>\n",
              "      <td>Mainland China</td>\n",
              "      <td>1/22/2020 17:00</td>\n",
              "      <td>NaN</td>\n",
              "      <td>NaN</td>\n",
              "      <td>NaN</td>\n",
              "      <td>NaN</td>\n",
              "      <td>NaN</td>\n",
              "      <td>NaN</td>\n",
              "      <td>NaN</td>\n",
              "      <td>NaN</td>\n",
              "      <td>NaN</td>\n",
              "      <td>NaN</td>\n",
              "      <td>NaN</td>\n",
              "      <td>NaN</td>\n",
              "      <td>NaN</td>\n",
              "      <td>NaN</td>\n",
              "    </tr>\n",
              "    <tr>\n",
              "      <th>...</th>\n",
              "      <td>...</td>\n",
              "      <td>...</td>\n",
              "      <td>...</td>\n",
              "      <td>...</td>\n",
              "      <td>...</td>\n",
              "      <td>...</td>\n",
              "      <td>...</td>\n",
              "      <td>...</td>\n",
              "      <td>...</td>\n",
              "      <td>...</td>\n",
              "      <td>...</td>\n",
              "      <td>...</td>\n",
              "      <td>...</td>\n",
              "      <td>...</td>\n",
              "      <td>...</td>\n",
              "      <td>...</td>\n",
              "      <td>...</td>\n",
              "    </tr>\n",
              "    <tr>\n",
              "      <th>3971</th>\n",
              "      <td>NaN</td>\n",
              "      <td>NaN</td>\n",
              "      <td>NaN</td>\n",
              "      <td>1366.0</td>\n",
              "      <td>35.0</td>\n",
              "      <td>1220.0</td>\n",
              "      <td>NaN</td>\n",
              "      <td>NaN</td>\n",
              "      <td>NaN</td>\n",
              "      <td>Vietnam</td>\n",
              "      <td>2020-12-07 05:26:14</td>\n",
              "      <td>14.058324</td>\n",
              "      <td>108.277199</td>\n",
              "      <td>111.0</td>\n",
              "      <td>Vietnam</td>\n",
              "      <td>1.403349</td>\n",
              "      <td>2.562225</td>\n",
              "    </tr>\n",
              "    <tr>\n",
              "      <th>3972</th>\n",
              "      <td>NaN</td>\n",
              "      <td>NaN</td>\n",
              "      <td>NaN</td>\n",
              "      <td>98038.0</td>\n",
              "      <td>828.0</td>\n",
              "      <td>72773.0</td>\n",
              "      <td>NaN</td>\n",
              "      <td>NaN</td>\n",
              "      <td>NaN</td>\n",
              "      <td>West Bank and Gaza</td>\n",
              "      <td>2020-12-07 05:26:14</td>\n",
              "      <td>31.952200</td>\n",
              "      <td>35.233200</td>\n",
              "      <td>24437.0</td>\n",
              "      <td>West Bank and Gaza</td>\n",
              "      <td>1921.780149</td>\n",
              "      <td>0.844570</td>\n",
              "    </tr>\n",
              "    <tr>\n",
              "      <th>3973</th>\n",
              "      <td>NaN</td>\n",
              "      <td>NaN</td>\n",
              "      <td>NaN</td>\n",
              "      <td>2337.0</td>\n",
              "      <td>639.0</td>\n",
              "      <td>1549.0</td>\n",
              "      <td>NaN</td>\n",
              "      <td>NaN</td>\n",
              "      <td>NaN</td>\n",
              "      <td>Yemen</td>\n",
              "      <td>2020-12-07 05:26:14</td>\n",
              "      <td>15.552727</td>\n",
              "      <td>48.516388</td>\n",
              "      <td>149.0</td>\n",
              "      <td>Yemen</td>\n",
              "      <td>7.835454</td>\n",
              "      <td>27.342747</td>\n",
              "    </tr>\n",
              "    <tr>\n",
              "      <th>3974</th>\n",
              "      <td>NaN</td>\n",
              "      <td>NaN</td>\n",
              "      <td>NaN</td>\n",
              "      <td>17916.0</td>\n",
              "      <td>364.0</td>\n",
              "      <td>17173.0</td>\n",
              "      <td>NaN</td>\n",
              "      <td>NaN</td>\n",
              "      <td>NaN</td>\n",
              "      <td>Zambia</td>\n",
              "      <td>2020-12-07 05:26:14</td>\n",
              "      <td>-13.133897</td>\n",
              "      <td>27.849332</td>\n",
              "      <td>379.0</td>\n",
              "      <td>Zambia</td>\n",
              "      <td>97.454541</td>\n",
              "      <td>2.031704</td>\n",
              "    </tr>\n",
              "    <tr>\n",
              "      <th>3975</th>\n",
              "      <td>NaN</td>\n",
              "      <td>NaN</td>\n",
              "      <td>NaN</td>\n",
              "      <td>10718.0</td>\n",
              "      <td>291.0</td>\n",
              "      <td>8880.0</td>\n",
              "      <td>NaN</td>\n",
              "      <td>NaN</td>\n",
              "      <td>NaN</td>\n",
              "      <td>Zimbabwe</td>\n",
              "      <td>2020-12-07 05:26:14</td>\n",
              "      <td>-19.015438</td>\n",
              "      <td>29.154857</td>\n",
              "      <td>1547.0</td>\n",
              "      <td>Zimbabwe</td>\n",
              "      <td>72.112310</td>\n",
              "      <td>2.715059</td>\n",
              "    </tr>\n",
              "  </tbody>\n",
              "</table>\n",
              "<p>4014 rows × 17 columns</p>\n",
              "</div>"
            ],
            "text/plain": [
              "     Province/State  Country/Region  ... Incident_Rate  Case_Fatality_Ratio\n",
              "0             Anhui  Mainland China  ...           NaN                  NaN\n",
              "1           Beijing  Mainland China  ...           NaN                  NaN\n",
              "2         Chongqing  Mainland China  ...           NaN                  NaN\n",
              "3            Fujian  Mainland China  ...           NaN                  NaN\n",
              "4             Gansu  Mainland China  ...           NaN                  NaN\n",
              "...             ...             ...  ...           ...                  ...\n",
              "3971            NaN             NaN  ...      1.403349             2.562225\n",
              "3972            NaN             NaN  ...   1921.780149             0.844570\n",
              "3973            NaN             NaN  ...      7.835454            27.342747\n",
              "3974            NaN             NaN  ...     97.454541             2.031704\n",
              "3975            NaN             NaN  ...     72.112310             2.715059\n",
              "\n",
              "[4014 rows x 17 columns]"
            ]
          },
          "metadata": {
            "tags": []
          },
          "execution_count": 13
        }
      ]
    },
    {
      "cell_type": "markdown",
      "metadata": {
        "id": "qp0FzW2Iw5eN"
      },
      "source": [
        "Ups!!! The column names don't match :-("
      ]
    },
    {
      "cell_type": "markdown",
      "metadata": {
        "id": "ghaZx5_9OorK"
      },
      "source": [
        "## Loading the data into Pandas and cleaning it"
      ]
    },
    {
      "cell_type": "code",
      "metadata": {
        "id": "M9bC8STciFTa"
      },
      "source": [
        "import glob\n",
        "import os\n",
        "\n",
        "files = glob.glob(\"./COVID-19/csse_covid_19_data/csse_covid_19_daily_reports/*.csv\")\n",
        "files.sort(key=os.path.getmtime)"
      ],
      "execution_count": 14,
      "outputs": []
    },
    {
      "cell_type": "markdown",
      "metadata": {
        "id": "vs7_lsZlxYuL"
      },
      "source": [
        "We are going to:\n",
        "- Create a blank Dataset to store all the data\n",
        "- Load every dataset unifying the column names so we can concatenate it without any problem.\n",
        "- Remove extra blank spaces from the country field\n",
        "- Enrich the information with the date of the data in the correct type"
      ]
    },
    {
      "cell_type": "code",
      "metadata": {
        "id": "FT8e_Vu2jjG6"
      },
      "source": [
        "data = pd.DataFrame()\n",
        "for file in files:  \n",
        "  df = pd.read_csv(file).rename(columns = {'Province/State' : 'State', \n",
        "                        \"Country/Region\" : 'Country',\n",
        "                        'Province_State' : 'State', \n",
        "                        \"Country_Region\" : 'Country',\n",
        "                        'Last Update' : 'Last_Update',\n",
        "                        'Confirmed' : 'ConfirmedAcum',\n",
        "                        'Deaths' : 'DeathsAcum',\n",
        "                        'Recovered' : 'RecoveredAcum'})\n",
        "  df = df.assign(Date = pd.to_datetime(file[-14:-4], format = '%m-%d-%Y'),\n",
        "                 Country = df.Country.str.strip())\n",
        "  data = pd.concat((data, df), axis = 0)\n"
      ],
      "execution_count": 15,
      "outputs": []
    },
    {
      "cell_type": "markdown",
      "metadata": {
        "id": "eYgaZTZRxPef"
      },
      "source": [
        "I noticed that the country names were a little messy.   \n",
        "Let's fix it ..."
      ]
    },
    {
      "cell_type": "code",
      "metadata": {
        "id": "k4Ivs-ocj9ZD"
      },
      "source": [
        "data['Country'] = data.Country.replace({'Bahamas, The' : 'Bahamas',\n",
        "                         'Congo (Brazzaville)' : 'Congo',\n",
        "                         'Congo (Kinshasa)' : 'Congo',\n",
        "                         \"Cote d'Ivoire\" : \"Cote d'Ivoire\",\n",
        "                         \"Curacao\" : \"Curaçao\",\n",
        "                         'Czech Republic' : 'Czech Republic (Czechia)',\n",
        "                         'Czechia' : 'Czech Republic (Czechia)',\n",
        "                         'Faroe Islands' : 'Faeroe Islands',\n",
        "                         'Macau' : 'Macao',\n",
        "                         'Mainland China' : 'China',\n",
        "                         'Palestine' : 'State of Palestine',\n",
        "                         'Reunion' : 'Réunion',\n",
        "                         'Saint Kitts and Nevis' : 'Saint Kitts & Nevis',\n",
        "                         'Sao Tome and Principe' : 'Sao Tome & Principe',\n",
        "                         'US' : 'United States',\n",
        "                         'Gambia, The' : 'Gambia',\n",
        "                         'Hong Kong SAR' : 'Hong Kong',\n",
        "                         'Korea, South' : 'South Korea',\n",
        "                         'Macao SAR' : 'Macao',\n",
        "                         'Taiwan*' : 'Taiwan',\n",
        "                         'Viet Nam' : 'Vietnam',\n",
        "                         'West Bank and Gaza' : 'State of Palestine',\n",
        "                         'occupied Palestinian territory' : 'State of Palestine'\n",
        "                         })"
      ],
      "execution_count": 16,
      "outputs": []
    },
    {
      "cell_type": "markdown",
      "metadata": {
        "id": "UULovmSp076p"
      },
      "source": [
        "I'm going to fill in the NULL values ​​of the 'State' and 'Admin2' fields so that later I can group the information correctly"
      ]
    },
    {
      "cell_type": "code",
      "metadata": {
        "id": "sqOtm5KZ02bb"
      },
      "source": [
        "data = data.fillna({'State' : 'NA', 'Admin2' : 'NA'})"
      ],
      "execution_count": 17,
      "outputs": []
    },
    {
      "cell_type": "markdown",
      "metadata": {
        "id": "stPODK5u2kK7"
      },
      "source": [
        "Finally I am going to be left alone with the columns that interest me"
      ]
    },
    {
      "cell_type": "code",
      "metadata": {
        "id": "tN2qJzZ92j7C"
      },
      "source": [
        "data = data.filter(['Date', 'Country', 'State', 'Admin2', 'ConfirmedAcum', 'DeathsAcum', 'RecoveredAcum'])"
      ],
      "execution_count": 58,
      "outputs": []
    },
    {
      "cell_type": "markdown",
      "metadata": {
        "id": "eKGKWEv81QOC"
      },
      "source": [
        "Let's verify the structure of the dateset ..."
      ]
    },
    {
      "cell_type": "code",
      "metadata": {
        "id": "PaHfgHxw02f6",
        "colab": {
          "base_uri": "https://localhost:8080/"
        },
        "outputId": "fd2cdd5c-8dfa-4593-ab98-c31adbd42e3f"
      },
      "source": [
        "data.info()"
      ],
      "execution_count": 59,
      "outputs": [
        {
          "output_type": "stream",
          "text": [
            "<class 'pandas.core.frame.DataFrame'>\n",
            "Int64Index: 987119 entries, 2599 to 983585\n",
            "Data columns (total 7 columns):\n",
            " #   Column         Non-Null Count   Dtype         \n",
            "---  ------         --------------   -----         \n",
            " 0   Date           987119 non-null  datetime64[ns]\n",
            " 1   Country        987119 non-null  object        \n",
            " 2   State          987119 non-null  object        \n",
            " 3   Admin2         987119 non-null  object        \n",
            " 4   ConfirmedAcum  987119 non-null  float64       \n",
            " 5   DeathsAcum     987119 non-null  float64       \n",
            " 6   RecoveredAcum  987119 non-null  float64       \n",
            "dtypes: datetime64[ns](1), float64(3), object(3)\n",
            "memory usage: 60.2+ MB\n"
          ],
          "name": "stdout"
        }
      ]
    },
    {
      "cell_type": "markdown",
      "metadata": {
        "id": "KHTrGOkI3EZ5"
      },
      "source": [
        "Wait a set, I think that can be interesting have a column the the active cases. Let's create it ..."
      ]
    },
    {
      "cell_type": "code",
      "metadata": {
        "id": "MHo4mEHk3SV-"
      },
      "source": [
        "data['ActiveAcum'] = data.ConfirmedAcum  - data.DeathsAcum - data.RecoveredAcum"
      ],
      "execution_count": 60,
      "outputs": []
    },
    {
      "cell_type": "code",
      "metadata": {
        "id": "rWWw4HKt3kem",
        "colab": {
          "base_uri": "https://localhost:8080/",
          "height": 206
        },
        "outputId": "dbb9e816-7d2f-4f8b-b43a-77f8682a6ab3"
      },
      "source": [
        "data.query(\"Country == 'Spain'\") \\\r\n",
        "    .sort_values('Date', ascending = False).head()"
      ],
      "execution_count": 61,
      "outputs": [
        {
          "output_type": "execute_result",
          "data": {
            "text/html": [
              "<div>\n",
              "<style scoped>\n",
              "    .dataframe tbody tr th:only-of-type {\n",
              "        vertical-align: middle;\n",
              "    }\n",
              "\n",
              "    .dataframe tbody tr th {\n",
              "        vertical-align: top;\n",
              "    }\n",
              "\n",
              "    .dataframe thead th {\n",
              "        text-align: right;\n",
              "    }\n",
              "</style>\n",
              "<table border=\"1\" class=\"dataframe\">\n",
              "  <thead>\n",
              "    <tr style=\"text-align: right;\">\n",
              "      <th></th>\n",
              "      <th>Date</th>\n",
              "      <th>Country</th>\n",
              "      <th>State</th>\n",
              "      <th>Admin2</th>\n",
              "      <th>ConfirmedAcum</th>\n",
              "      <th>DeathsAcum</th>\n",
              "      <th>RecoveredAcum</th>\n",
              "      <th>ActiveAcum</th>\n",
              "    </tr>\n",
              "  </thead>\n",
              "  <tbody>\n",
              "    <tr>\n",
              "      <th>983756</th>\n",
              "      <td>2020-12-10</td>\n",
              "      <td>Spain</td>\n",
              "      <td>Unknown</td>\n",
              "      <td>NA</td>\n",
              "      <td>0.0</td>\n",
              "      <td>0.0</td>\n",
              "      <td>0.0</td>\n",
              "      <td>0.0</td>\n",
              "    </tr>\n",
              "    <tr>\n",
              "      <th>983752</th>\n",
              "      <td>2020-12-10</td>\n",
              "      <td>Spain</td>\n",
              "      <td>Melilla</td>\n",
              "      <td>NA</td>\n",
              "      <td>4214.0</td>\n",
              "      <td>42.0</td>\n",
              "      <td>125.0</td>\n",
              "      <td>4047.0</td>\n",
              "    </tr>\n",
              "    <tr>\n",
              "      <th>983754</th>\n",
              "      <td>2020-12-10</td>\n",
              "      <td>Spain</td>\n",
              "      <td>Navarra</td>\n",
              "      <td>NA</td>\n",
              "      <td>40504.0</td>\n",
              "      <td>913.0</td>\n",
              "      <td>3905.0</td>\n",
              "      <td>35686.0</td>\n",
              "    </tr>\n",
              "    <tr>\n",
              "      <th>983744</th>\n",
              "      <td>2020-12-10</td>\n",
              "      <td>Spain</td>\n",
              "      <td>Castilla - La Mancha</td>\n",
              "      <td>NA</td>\n",
              "      <td>89734.0</td>\n",
              "      <td>3871.0</td>\n",
              "      <td>6392.0</td>\n",
              "      <td>79471.0</td>\n",
              "    </tr>\n",
              "    <tr>\n",
              "      <th>983742</th>\n",
              "      <td>2020-12-10</td>\n",
              "      <td>Spain</td>\n",
              "      <td>Canarias</td>\n",
              "      <td>NA</td>\n",
              "      <td>22702.0</td>\n",
              "      <td>354.0</td>\n",
              "      <td>1537.0</td>\n",
              "      <td>20811.0</td>\n",
              "    </tr>\n",
              "  </tbody>\n",
              "</table>\n",
              "</div>"
            ],
            "text/plain": [
              "             Date Country  ... RecoveredAcum ActiveAcum\n",
              "983756 2020-12-10   Spain  ...           0.0        0.0\n",
              "983752 2020-12-10   Spain  ...         125.0     4047.0\n",
              "983754 2020-12-10   Spain  ...        3905.0    35686.0\n",
              "983744 2020-12-10   Spain  ...        6392.0    79471.0\n",
              "983742 2020-12-10   Spain  ...        1537.0    20811.0\n",
              "\n",
              "[5 rows x 8 columns]"
            ]
          },
          "metadata": {
            "tags": []
          },
          "execution_count": 61
        }
      ]
    },
    {
      "cell_type": "markdown",
      "metadata": {
        "id": "Hy7ezfe71YfW"
      },
      "source": [
        "Perfect :-)"
      ]
    },
    {
      "cell_type": "markdown",
      "metadata": {
        "id": "QXWtfzg61dT8"
      },
      "source": [
        "Now, I am going to group and summarize the data because I want to be sure that there is only one row per Date, Country, State and Admin2"
      ]
    },
    {
      "cell_type": "code",
      "metadata": {
        "id": "Sv6N4XzATqDb"
      },
      "source": [
        "data = data \\\r\n",
        "      .groupby([\"Date\", \"Country\", \"State\", \"Admin2\"], as_index = False )\\\r\n",
        "      .agg(\"sum\")"
      ],
      "execution_count": 62,
      "outputs": []
    },
    {
      "cell_type": "code",
      "metadata": {
        "id": "uMxyZOlHoMuf",
        "colab": {
          "base_uri": "https://localhost:8080/",
          "height": 206
        },
        "outputId": "6b6167b3-c150-4ada-e7e8-76a54ae4a4ef"
      },
      "source": [
        "data.head()"
      ],
      "execution_count": 63,
      "outputs": [
        {
          "output_type": "execute_result",
          "data": {
            "text/html": [
              "<div>\n",
              "<style scoped>\n",
              "    .dataframe tbody tr th:only-of-type {\n",
              "        vertical-align: middle;\n",
              "    }\n",
              "\n",
              "    .dataframe tbody tr th {\n",
              "        vertical-align: top;\n",
              "    }\n",
              "\n",
              "    .dataframe thead th {\n",
              "        text-align: right;\n",
              "    }\n",
              "</style>\n",
              "<table border=\"1\" class=\"dataframe\">\n",
              "  <thead>\n",
              "    <tr style=\"text-align: right;\">\n",
              "      <th></th>\n",
              "      <th>Date</th>\n",
              "      <th>Country</th>\n",
              "      <th>State</th>\n",
              "      <th>Admin2</th>\n",
              "      <th>ConfirmedAcum</th>\n",
              "      <th>DeathsAcum</th>\n",
              "      <th>RecoveredAcum</th>\n",
              "      <th>ActiveAcum</th>\n",
              "    </tr>\n",
              "  </thead>\n",
              "  <tbody>\n",
              "    <tr>\n",
              "      <th>0</th>\n",
              "      <td>2020-01-22</td>\n",
              "      <td>China</td>\n",
              "      <td>Anhui</td>\n",
              "      <td>NA</td>\n",
              "      <td>1.0</td>\n",
              "      <td>0.0</td>\n",
              "      <td>0.0</td>\n",
              "      <td>1.0</td>\n",
              "    </tr>\n",
              "    <tr>\n",
              "      <th>1</th>\n",
              "      <td>2020-01-22</td>\n",
              "      <td>China</td>\n",
              "      <td>Beijing</td>\n",
              "      <td>NA</td>\n",
              "      <td>14.0</td>\n",
              "      <td>0.0</td>\n",
              "      <td>0.0</td>\n",
              "      <td>14.0</td>\n",
              "    </tr>\n",
              "    <tr>\n",
              "      <th>2</th>\n",
              "      <td>2020-01-22</td>\n",
              "      <td>China</td>\n",
              "      <td>Chongqing</td>\n",
              "      <td>NA</td>\n",
              "      <td>6.0</td>\n",
              "      <td>0.0</td>\n",
              "      <td>0.0</td>\n",
              "      <td>6.0</td>\n",
              "    </tr>\n",
              "    <tr>\n",
              "      <th>3</th>\n",
              "      <td>2020-01-22</td>\n",
              "      <td>China</td>\n",
              "      <td>Fujian</td>\n",
              "      <td>NA</td>\n",
              "      <td>1.0</td>\n",
              "      <td>0.0</td>\n",
              "      <td>0.0</td>\n",
              "      <td>1.0</td>\n",
              "    </tr>\n",
              "    <tr>\n",
              "      <th>4</th>\n",
              "      <td>2020-01-22</td>\n",
              "      <td>China</td>\n",
              "      <td>Gansu</td>\n",
              "      <td>NA</td>\n",
              "      <td>0.0</td>\n",
              "      <td>0.0</td>\n",
              "      <td>0.0</td>\n",
              "      <td>0.0</td>\n",
              "    </tr>\n",
              "  </tbody>\n",
              "</table>\n",
              "</div>"
            ],
            "text/plain": [
              "        Date Country      State  ... DeathsAcum  RecoveredAcum  ActiveAcum\n",
              "0 2020-01-22   China      Anhui  ...        0.0            0.0         1.0\n",
              "1 2020-01-22   China    Beijing  ...        0.0            0.0        14.0\n",
              "2 2020-01-22   China  Chongqing  ...        0.0            0.0         6.0\n",
              "3 2020-01-22   China     Fujian  ...        0.0            0.0         1.0\n",
              "4 2020-01-22   China      Gansu  ...        0.0            0.0         0.0\n",
              "\n",
              "[5 rows x 8 columns]"
            ]
          },
          "metadata": {
            "tags": []
          },
          "execution_count": 63
        }
      ]
    },
    {
      "cell_type": "markdown",
      "metadata": {
        "id": "TZbi_Sr6SbO5"
      },
      "source": [
        "##  Daily Cases\n",
        "I am going to enrich the data by creating new columns with the daily cases.  \n",
        "\n",
        "First I create new columns with the cases from the previous day"
      ]
    },
    {
      "cell_type": "code",
      "metadata": {
        "id": "g8MHMIevPoA0"
      },
      "source": [
        "data = data \\\n",
        "      .sort_values(['State', 'Country', 'Date']) \\\n",
        "      .assign(ConfirmedPrevious = data.groupby(['Admin2', 'State', 'Country']).shift(1)[\"ConfirmedAcum\"],\n",
        "              DeathsPrevious = data.groupby(['Admin2', 'State', 'Country']).shift(1)[\"DeathsAcum\"],\n",
        "              RecoveredPrevious = data.groupby(['Admin2', 'State', 'Country']).shift(1)[\"RecoveredAcum\"],\n",
        "              ActivePrevious = data.groupby(['Admin2', 'State', 'Country']).shift(1)[\"ActiveAcum\"],\n",
        "      ) \\\n",
        "      .fillna({ 'ConfirmedPrevious' : 0, 'DeathsPrevious' : 0, 'RecoveredPrevious' : 0 })"
      ],
      "execution_count": 64,
      "outputs": []
    },
    {
      "cell_type": "code",
      "metadata": {
        "id": "DDT2ontmYspr",
        "colab": {
          "base_uri": "https://localhost:8080/",
          "height": 206
        },
        "outputId": "6e2a7bbf-997f-486e-958f-0dee2a7d9d11"
      },
      "source": [
        "data.head()"
      ],
      "execution_count": 65,
      "outputs": [
        {
          "output_type": "execute_result",
          "data": {
            "text/html": [
              "<div>\n",
              "<style scoped>\n",
              "    .dataframe tbody tr th:only-of-type {\n",
              "        vertical-align: middle;\n",
              "    }\n",
              "\n",
              "    .dataframe tbody tr th {\n",
              "        vertical-align: top;\n",
              "    }\n",
              "\n",
              "    .dataframe thead th {\n",
              "        text-align: right;\n",
              "    }\n",
              "</style>\n",
              "<table border=\"1\" class=\"dataframe\">\n",
              "  <thead>\n",
              "    <tr style=\"text-align: right;\">\n",
              "      <th></th>\n",
              "      <th>Date</th>\n",
              "      <th>Country</th>\n",
              "      <th>State</th>\n",
              "      <th>Admin2</th>\n",
              "      <th>ConfirmedAcum</th>\n",
              "      <th>DeathsAcum</th>\n",
              "      <th>RecoveredAcum</th>\n",
              "      <th>ActiveAcum</th>\n",
              "      <th>ConfirmedPrevious</th>\n",
              "      <th>DeathsPrevious</th>\n",
              "      <th>RecoveredPrevious</th>\n",
              "      <th>ActivePrevious</th>\n",
              "    </tr>\n",
              "  </thead>\n",
              "  <tbody>\n",
              "    <tr>\n",
              "      <th>2599</th>\n",
              "      <td>2020-02-28</td>\n",
              "      <td>Canada</td>\n",
              "      <td>Montreal, QC</td>\n",
              "      <td>NA</td>\n",
              "      <td>1.0</td>\n",
              "      <td>0.0</td>\n",
              "      <td>0.0</td>\n",
              "      <td>1.0</td>\n",
              "      <td>0.0</td>\n",
              "      <td>0.0</td>\n",
              "      <td>0.0</td>\n",
              "      <td>NaN</td>\n",
              "    </tr>\n",
              "    <tr>\n",
              "      <th>2713</th>\n",
              "      <td>2020-02-29</td>\n",
              "      <td>Canada</td>\n",
              "      <td>Montreal, QC</td>\n",
              "      <td>NA</td>\n",
              "      <td>1.0</td>\n",
              "      <td>0.0</td>\n",
              "      <td>0.0</td>\n",
              "      <td>1.0</td>\n",
              "      <td>1.0</td>\n",
              "      <td>0.0</td>\n",
              "      <td>0.0</td>\n",
              "      <td>1.0</td>\n",
              "    </tr>\n",
              "    <tr>\n",
              "      <th>2834</th>\n",
              "      <td>2020-03-01</td>\n",
              "      <td>Canada</td>\n",
              "      <td>Montreal, QC</td>\n",
              "      <td>NA</td>\n",
              "      <td>1.0</td>\n",
              "      <td>0.0</td>\n",
              "      <td>0.0</td>\n",
              "      <td>1.0</td>\n",
              "      <td>1.0</td>\n",
              "      <td>0.0</td>\n",
              "      <td>0.0</td>\n",
              "      <td>1.0</td>\n",
              "    </tr>\n",
              "    <tr>\n",
              "      <th>2961</th>\n",
              "      <td>2020-03-02</td>\n",
              "      <td>Canada</td>\n",
              "      <td>Montreal, QC</td>\n",
              "      <td>NA</td>\n",
              "      <td>1.0</td>\n",
              "      <td>0.0</td>\n",
              "      <td>0.0</td>\n",
              "      <td>1.0</td>\n",
              "      <td>1.0</td>\n",
              "      <td>0.0</td>\n",
              "      <td>0.0</td>\n",
              "      <td>1.0</td>\n",
              "    </tr>\n",
              "    <tr>\n",
              "      <th>3103</th>\n",
              "      <td>2020-03-03</td>\n",
              "      <td>Canada</td>\n",
              "      <td>Montreal, QC</td>\n",
              "      <td>NA</td>\n",
              "      <td>1.0</td>\n",
              "      <td>0.0</td>\n",
              "      <td>0.0</td>\n",
              "      <td>1.0</td>\n",
              "      <td>1.0</td>\n",
              "      <td>0.0</td>\n",
              "      <td>0.0</td>\n",
              "      <td>1.0</td>\n",
              "    </tr>\n",
              "  </tbody>\n",
              "</table>\n",
              "</div>"
            ],
            "text/plain": [
              "           Date Country  ... RecoveredPrevious ActivePrevious\n",
              "2599 2020-02-28  Canada  ...               0.0            NaN\n",
              "2713 2020-02-29  Canada  ...               0.0            1.0\n",
              "2834 2020-03-01  Canada  ...               0.0            1.0\n",
              "2961 2020-03-02  Canada  ...               0.0            1.0\n",
              "3103 2020-03-03  Canada  ...               0.0            1.0\n",
              "\n",
              "[5 rows x 12 columns]"
            ]
          },
          "metadata": {
            "tags": []
          },
          "execution_count": 65
        }
      ]
    },
    {
      "cell_type": "markdown",
      "metadata": {
        "id": "7sbEQUt06Cw9"
      },
      "source": [
        "After that I am going to assign the new fields subtracting the previous acum cases to the actual acum cases"
      ]
    },
    {
      "cell_type": "code",
      "metadata": {
        "id": "95W2LJ4yXESe"
      },
      "source": [
        "data = data.assign(Confirmed = data.ConfirmedAcum -  data.ConfirmedPrevious,\n",
        "            Deaths = data.DeathsAcum - data.DeathsPrevious,\n",
        "            Recovered = data.RecoveredAcum - data.RecoveredPrevious,\n",
        "            Active = data.ActiveAcum - data.ActivePrevious\n",
        "            )"
      ],
      "execution_count": 66,
      "outputs": []
    },
    {
      "cell_type": "markdown",
      "metadata": {
        "id": "R3aiurFY6btc"
      },
      "source": [
        "I no longer need the fields I used to make the calculation so I can drop them"
      ]
    },
    {
      "cell_type": "code",
      "metadata": {
        "id": "EyYZ8SAA51rY"
      },
      "source": [
        "data = data.drop(['ConfirmedPrevious', 'DeathsPrevious', 'RecoveredPrevious', 'ActivePrevious'], axis = 1)"
      ],
      "execution_count": 67,
      "outputs": []
    },
    {
      "cell_type": "markdown",
      "metadata": {
        "id": "kv94Eilb6t22"
      },
      "source": [
        "Does the data look good?"
      ]
    },
    {
      "cell_type": "code",
      "metadata": {
        "id": "vrr3xpFIRlfW",
        "colab": {
          "base_uri": "https://localhost:8080/",
          "height": 424
        },
        "outputId": "a488a62d-c34f-476f-9131-5b1d8f56e1a8"
      },
      "source": [
        "data.query(\"Country == 'Spain'\")"
      ],
      "execution_count": 68,
      "outputs": [
        {
          "output_type": "execute_result",
          "data": {
            "text/html": [
              "<div>\n",
              "<style scoped>\n",
              "    .dataframe tbody tr th:only-of-type {\n",
              "        vertical-align: middle;\n",
              "    }\n",
              "\n",
              "    .dataframe tbody tr th {\n",
              "        vertical-align: top;\n",
              "    }\n",
              "\n",
              "    .dataframe thead th {\n",
              "        text-align: right;\n",
              "    }\n",
              "</style>\n",
              "<table border=\"1\" class=\"dataframe\">\n",
              "  <thead>\n",
              "    <tr style=\"text-align: right;\">\n",
              "      <th></th>\n",
              "      <th>Date</th>\n",
              "      <th>Country</th>\n",
              "      <th>State</th>\n",
              "      <th>Admin2</th>\n",
              "      <th>ConfirmedAcum</th>\n",
              "      <th>DeathsAcum</th>\n",
              "      <th>RecoveredAcum</th>\n",
              "      <th>ActiveAcum</th>\n",
              "      <th>Confirmed</th>\n",
              "      <th>Deaths</th>\n",
              "      <th>Recovered</th>\n",
              "      <th>Active</th>\n",
              "    </tr>\n",
              "  </thead>\n",
              "  <tbody>\n",
              "    <tr>\n",
              "      <th>172138</th>\n",
              "      <td>2020-05-14</td>\n",
              "      <td>Spain</td>\n",
              "      <td>Andalusia</td>\n",
              "      <td>NA</td>\n",
              "      <td>12359.0</td>\n",
              "      <td>1336.0</td>\n",
              "      <td>9918.0</td>\n",
              "      <td>1105.0</td>\n",
              "      <td>12359.0</td>\n",
              "      <td>1336.0</td>\n",
              "      <td>9918.0</td>\n",
              "      <td>NaN</td>\n",
              "    </tr>\n",
              "    <tr>\n",
              "      <th>175432</th>\n",
              "      <td>2020-05-15</td>\n",
              "      <td>Spain</td>\n",
              "      <td>Andalusia</td>\n",
              "      <td>NA</td>\n",
              "      <td>12401.0</td>\n",
              "      <td>1344.0</td>\n",
              "      <td>10148.0</td>\n",
              "      <td>909.0</td>\n",
              "      <td>42.0</td>\n",
              "      <td>8.0</td>\n",
              "      <td>230.0</td>\n",
              "      <td>-196.0</td>\n",
              "    </tr>\n",
              "    <tr>\n",
              "      <th>178732</th>\n",
              "      <td>2020-05-16</td>\n",
              "      <td>Spain</td>\n",
              "      <td>Andalusia</td>\n",
              "      <td>NA</td>\n",
              "      <td>12420.0</td>\n",
              "      <td>1355.0</td>\n",
              "      <td>10319.0</td>\n",
              "      <td>746.0</td>\n",
              "      <td>19.0</td>\n",
              "      <td>11.0</td>\n",
              "      <td>171.0</td>\n",
              "      <td>-163.0</td>\n",
              "    </tr>\n",
              "    <tr>\n",
              "      <th>182036</th>\n",
              "      <td>2020-05-17</td>\n",
              "      <td>Spain</td>\n",
              "      <td>Andalusia</td>\n",
              "      <td>NA</td>\n",
              "      <td>12420.0</td>\n",
              "      <td>1355.0</td>\n",
              "      <td>10319.0</td>\n",
              "      <td>746.0</td>\n",
              "      <td>0.0</td>\n",
              "      <td>0.0</td>\n",
              "      <td>0.0</td>\n",
              "      <td>0.0</td>\n",
              "    </tr>\n",
              "    <tr>\n",
              "      <th>185343</th>\n",
              "      <td>2020-05-18</td>\n",
              "      <td>Spain</td>\n",
              "      <td>Andalusia</td>\n",
              "      <td>NA</td>\n",
              "      <td>12458.0</td>\n",
              "      <td>1358.0</td>\n",
              "      <td>10671.0</td>\n",
              "      <td>429.0</td>\n",
              "      <td>38.0</td>\n",
              "      <td>3.0</td>\n",
              "      <td>352.0</td>\n",
              "      <td>-317.0</td>\n",
              "    </tr>\n",
              "    <tr>\n",
              "      <th>...</th>\n",
              "      <td>...</td>\n",
              "      <td>...</td>\n",
              "      <td>...</td>\n",
              "      <td>...</td>\n",
              "      <td>...</td>\n",
              "      <td>...</td>\n",
              "      <td>...</td>\n",
              "      <td>...</td>\n",
              "      <td>...</td>\n",
              "      <td>...</td>\n",
              "      <td>...</td>\n",
              "      <td>...</td>\n",
              "    </tr>\n",
              "    <tr>\n",
              "      <th>967856</th>\n",
              "      <td>2020-12-06</td>\n",
              "      <td>Spain</td>\n",
              "      <td>Unknown</td>\n",
              "      <td>NA</td>\n",
              "      <td>0.0</td>\n",
              "      <td>0.0</td>\n",
              "      <td>0.0</td>\n",
              "      <td>0.0</td>\n",
              "      <td>0.0</td>\n",
              "      <td>0.0</td>\n",
              "      <td>0.0</td>\n",
              "      <td>0.0</td>\n",
              "    </tr>\n",
              "    <tr>\n",
              "      <th>971831</th>\n",
              "      <td>2020-12-07</td>\n",
              "      <td>Spain</td>\n",
              "      <td>Unknown</td>\n",
              "      <td>NA</td>\n",
              "      <td>0.0</td>\n",
              "      <td>0.0</td>\n",
              "      <td>0.0</td>\n",
              "      <td>0.0</td>\n",
              "      <td>0.0</td>\n",
              "      <td>0.0</td>\n",
              "      <td>0.0</td>\n",
              "      <td>0.0</td>\n",
              "    </tr>\n",
              "    <tr>\n",
              "      <th>975806</th>\n",
              "      <td>2020-12-08</td>\n",
              "      <td>Spain</td>\n",
              "      <td>Unknown</td>\n",
              "      <td>NA</td>\n",
              "      <td>0.0</td>\n",
              "      <td>0.0</td>\n",
              "      <td>0.0</td>\n",
              "      <td>0.0</td>\n",
              "      <td>0.0</td>\n",
              "      <td>0.0</td>\n",
              "      <td>0.0</td>\n",
              "      <td>0.0</td>\n",
              "    </tr>\n",
              "    <tr>\n",
              "      <th>979781</th>\n",
              "      <td>2020-12-09</td>\n",
              "      <td>Spain</td>\n",
              "      <td>Unknown</td>\n",
              "      <td>NA</td>\n",
              "      <td>0.0</td>\n",
              "      <td>0.0</td>\n",
              "      <td>0.0</td>\n",
              "      <td>0.0</td>\n",
              "      <td>0.0</td>\n",
              "      <td>0.0</td>\n",
              "      <td>0.0</td>\n",
              "      <td>0.0</td>\n",
              "    </tr>\n",
              "    <tr>\n",
              "      <th>983756</th>\n",
              "      <td>2020-12-10</td>\n",
              "      <td>Spain</td>\n",
              "      <td>Unknown</td>\n",
              "      <td>NA</td>\n",
              "      <td>0.0</td>\n",
              "      <td>0.0</td>\n",
              "      <td>0.0</td>\n",
              "      <td>0.0</td>\n",
              "      <td>0.0</td>\n",
              "      <td>0.0</td>\n",
              "      <td>0.0</td>\n",
              "      <td>0.0</td>\n",
              "    </tr>\n",
              "  </tbody>\n",
              "</table>\n",
              "<p>4318 rows × 12 columns</p>\n",
              "</div>"
            ],
            "text/plain": [
              "             Date Country      State  ...  Deaths  Recovered  Active\n",
              "172138 2020-05-14   Spain  Andalusia  ...  1336.0     9918.0     NaN\n",
              "175432 2020-05-15   Spain  Andalusia  ...     8.0      230.0  -196.0\n",
              "178732 2020-05-16   Spain  Andalusia  ...    11.0      171.0  -163.0\n",
              "182036 2020-05-17   Spain  Andalusia  ...     0.0        0.0     0.0\n",
              "185343 2020-05-18   Spain  Andalusia  ...     3.0      352.0  -317.0\n",
              "...           ...     ...        ...  ...     ...        ...     ...\n",
              "967856 2020-12-06   Spain    Unknown  ...     0.0        0.0     0.0\n",
              "971831 2020-12-07   Spain    Unknown  ...     0.0        0.0     0.0\n",
              "975806 2020-12-08   Spain    Unknown  ...     0.0        0.0     0.0\n",
              "979781 2020-12-09   Spain    Unknown  ...     0.0        0.0     0.0\n",
              "983756 2020-12-10   Spain    Unknown  ...     0.0        0.0     0.0\n",
              "\n",
              "[4318 rows x 12 columns]"
            ]
          },
          "metadata": {
            "tags": []
          },
          "execution_count": 68
        }
      ]
    },
    {
      "cell_type": "markdown",
      "metadata": {
        "id": "6iVrbLMbPK12"
      },
      "source": [
        "## Data By Country\n",
        "\n",
        "\n"
      ]
    },
    {
      "cell_type": "markdown",
      "metadata": {
        "id": "WmgHcHDV8YwI"
      },
      "source": [
        "So far, we have data by 3 geographical levels: Country, State and a lower level called Admin2"
      ]
    },
    {
      "cell_type": "markdown",
      "metadata": {
        "id": "Q27Z37fC8qp3"
      },
      "source": [
        "The problem is that not all countries have this level of information, so I will create a new dataset only with the country level data"
      ]
    },
    {
      "cell_type": "code",
      "metadata": {
        "id": "HdFBOvQnoHyb",
        "colab": {
          "base_uri": "https://localhost:8080/"
        },
        "outputId": "f919017a-ae37-4369-bb0d-10ded5d7f9db"
      },
      "source": [
        "data_by_country = data.groupby([\"Date\", \"Country\"], as_index = False ).agg(\"sum\")\n",
        "data_by_country = data_by_country.sort_values(['Country', 'Date'])\n",
        "data_by_country.info()"
      ],
      "execution_count": 70,
      "outputs": [
        {
          "output_type": "stream",
          "text": [
            "<class 'pandas.core.frame.DataFrame'>\n",
            "Int64Index: 52979 entries, 848 to 52978\n",
            "Data columns (total 10 columns):\n",
            " #   Column         Non-Null Count  Dtype         \n",
            "---  ------         --------------  -----         \n",
            " 0   Date           52979 non-null  datetime64[ns]\n",
            " 1   Country        52979 non-null  object        \n",
            " 2   ConfirmedAcum  52979 non-null  float64       \n",
            " 3   DeathsAcum     52979 non-null  float64       \n",
            " 4   RecoveredAcum  52979 non-null  float64       \n",
            " 5   ActiveAcum     52979 non-null  float64       \n",
            " 6   Confirmed      52979 non-null  float64       \n",
            " 7   Deaths         52979 non-null  float64       \n",
            " 8   Recovered      52979 non-null  float64       \n",
            " 9   Active         52979 non-null  float64       \n",
            "dtypes: datetime64[ns](1), float64(8), object(1)\n",
            "memory usage: 4.4+ MB\n"
          ],
          "name": "stdout"
        }
      ]
    },
    {
      "cell_type": "code",
      "metadata": {
        "id": "l4ZlhVtkoOUr",
        "colab": {
          "base_uri": "https://localhost:8080/",
          "height": 206
        },
        "outputId": "21c07d08-8308-49c2-d016-d327d4f89c25"
      },
      "source": [
        "data_by_country.head()"
      ],
      "execution_count": 71,
      "outputs": [
        {
          "output_type": "execute_result",
          "data": {
            "text/html": [
              "<div>\n",
              "<style scoped>\n",
              "    .dataframe tbody tr th:only-of-type {\n",
              "        vertical-align: middle;\n",
              "    }\n",
              "\n",
              "    .dataframe tbody tr th {\n",
              "        vertical-align: top;\n",
              "    }\n",
              "\n",
              "    .dataframe thead th {\n",
              "        text-align: right;\n",
              "    }\n",
              "</style>\n",
              "<table border=\"1\" class=\"dataframe\">\n",
              "  <thead>\n",
              "    <tr style=\"text-align: right;\">\n",
              "      <th></th>\n",
              "      <th>Date</th>\n",
              "      <th>Country</th>\n",
              "      <th>ConfirmedAcum</th>\n",
              "      <th>DeathsAcum</th>\n",
              "      <th>RecoveredAcum</th>\n",
              "      <th>ActiveAcum</th>\n",
              "      <th>Confirmed</th>\n",
              "      <th>Deaths</th>\n",
              "      <th>Recovered</th>\n",
              "      <th>Active</th>\n",
              "    </tr>\n",
              "  </thead>\n",
              "  <tbody>\n",
              "    <tr>\n",
              "      <th>848</th>\n",
              "      <td>2020-02-24</td>\n",
              "      <td>Afghanistan</td>\n",
              "      <td>1.0</td>\n",
              "      <td>0.0</td>\n",
              "      <td>0.0</td>\n",
              "      <td>1.0</td>\n",
              "      <td>1.0</td>\n",
              "      <td>0.0</td>\n",
              "      <td>0.0</td>\n",
              "      <td>0.0</td>\n",
              "    </tr>\n",
              "    <tr>\n",
              "      <th>886</th>\n",
              "      <td>2020-02-25</td>\n",
              "      <td>Afghanistan</td>\n",
              "      <td>1.0</td>\n",
              "      <td>0.0</td>\n",
              "      <td>0.0</td>\n",
              "      <td>1.0</td>\n",
              "      <td>0.0</td>\n",
              "      <td>0.0</td>\n",
              "      <td>0.0</td>\n",
              "      <td>0.0</td>\n",
              "    </tr>\n",
              "    <tr>\n",
              "      <th>928</th>\n",
              "      <td>2020-02-26</td>\n",
              "      <td>Afghanistan</td>\n",
              "      <td>1.0</td>\n",
              "      <td>0.0</td>\n",
              "      <td>0.0</td>\n",
              "      <td>1.0</td>\n",
              "      <td>0.0</td>\n",
              "      <td>0.0</td>\n",
              "      <td>0.0</td>\n",
              "      <td>0.0</td>\n",
              "    </tr>\n",
              "    <tr>\n",
              "      <th>977</th>\n",
              "      <td>2020-02-27</td>\n",
              "      <td>Afghanistan</td>\n",
              "      <td>1.0</td>\n",
              "      <td>0.0</td>\n",
              "      <td>0.0</td>\n",
              "      <td>1.0</td>\n",
              "      <td>0.0</td>\n",
              "      <td>0.0</td>\n",
              "      <td>0.0</td>\n",
              "      <td>0.0</td>\n",
              "    </tr>\n",
              "    <tr>\n",
              "      <th>1030</th>\n",
              "      <td>2020-02-28</td>\n",
              "      <td>Afghanistan</td>\n",
              "      <td>1.0</td>\n",
              "      <td>0.0</td>\n",
              "      <td>0.0</td>\n",
              "      <td>1.0</td>\n",
              "      <td>0.0</td>\n",
              "      <td>0.0</td>\n",
              "      <td>0.0</td>\n",
              "      <td>0.0</td>\n",
              "    </tr>\n",
              "  </tbody>\n",
              "</table>\n",
              "</div>"
            ],
            "text/plain": [
              "           Date      Country  ConfirmedAcum  ...  Deaths  Recovered  Active\n",
              "848  2020-02-24  Afghanistan            1.0  ...     0.0        0.0     0.0\n",
              "886  2020-02-25  Afghanistan            1.0  ...     0.0        0.0     0.0\n",
              "928  2020-02-26  Afghanistan            1.0  ...     0.0        0.0     0.0\n",
              "977  2020-02-27  Afghanistan            1.0  ...     0.0        0.0     0.0\n",
              "1030 2020-02-28  Afghanistan            1.0  ...     0.0        0.0     0.0\n",
              "\n",
              "[5 rows x 10 columns]"
            ]
          },
          "metadata": {
            "tags": []
          },
          "execution_count": 71
        }
      ]
    },
    {
      "cell_type": "code",
      "metadata": {
        "id": "qEkuhtfkrW1l",
        "colab": {
          "base_uri": "https://localhost:8080/",
          "height": 424
        },
        "outputId": "e65e69fe-bac4-468e-b1d6-71afbfbbed96"
      },
      "source": [
        "data_by_country[data_by_country.Country == 'United States']"
      ],
      "execution_count": 72,
      "outputs": [
        {
          "output_type": "execute_result",
          "data": {
            "text/html": [
              "<div>\n",
              "<style scoped>\n",
              "    .dataframe tbody tr th:only-of-type {\n",
              "        vertical-align: middle;\n",
              "    }\n",
              "\n",
              "    .dataframe tbody tr th {\n",
              "        vertical-align: top;\n",
              "    }\n",
              "\n",
              "    .dataframe thead th {\n",
              "        text-align: right;\n",
              "    }\n",
              "</style>\n",
              "<table border=\"1\" class=\"dataframe\">\n",
              "  <thead>\n",
              "    <tr style=\"text-align: right;\">\n",
              "      <th></th>\n",
              "      <th>Date</th>\n",
              "      <th>Country</th>\n",
              "      <th>ConfirmedAcum</th>\n",
              "      <th>DeathsAcum</th>\n",
              "      <th>RecoveredAcum</th>\n",
              "      <th>ActiveAcum</th>\n",
              "      <th>Confirmed</th>\n",
              "      <th>Deaths</th>\n",
              "      <th>Recovered</th>\n",
              "      <th>Active</th>\n",
              "    </tr>\n",
              "  </thead>\n",
              "  <tbody>\n",
              "    <tr>\n",
              "      <th>7</th>\n",
              "      <td>2020-01-22</td>\n",
              "      <td>United States</td>\n",
              "      <td>1.0</td>\n",
              "      <td>0.0</td>\n",
              "      <td>0.0</td>\n",
              "      <td>1.0</td>\n",
              "      <td>1.0</td>\n",
              "      <td>0.0</td>\n",
              "      <td>0.0</td>\n",
              "      <td>0.0</td>\n",
              "    </tr>\n",
              "    <tr>\n",
              "      <th>22</th>\n",
              "      <td>2020-01-23</td>\n",
              "      <td>United States</td>\n",
              "      <td>1.0</td>\n",
              "      <td>0.0</td>\n",
              "      <td>0.0</td>\n",
              "      <td>1.0</td>\n",
              "      <td>0.0</td>\n",
              "      <td>0.0</td>\n",
              "      <td>0.0</td>\n",
              "      <td>0.0</td>\n",
              "    </tr>\n",
              "    <tr>\n",
              "      <th>33</th>\n",
              "      <td>2020-01-24</td>\n",
              "      <td>United States</td>\n",
              "      <td>2.0</td>\n",
              "      <td>0.0</td>\n",
              "      <td>0.0</td>\n",
              "      <td>2.0</td>\n",
              "      <td>1.0</td>\n",
              "      <td>0.0</td>\n",
              "      <td>0.0</td>\n",
              "      <td>0.0</td>\n",
              "    </tr>\n",
              "    <tr>\n",
              "      <th>47</th>\n",
              "      <td>2020-01-25</td>\n",
              "      <td>United States</td>\n",
              "      <td>2.0</td>\n",
              "      <td>0.0</td>\n",
              "      <td>0.0</td>\n",
              "      <td>2.0</td>\n",
              "      <td>1.0</td>\n",
              "      <td>0.0</td>\n",
              "      <td>0.0</td>\n",
              "      <td>0.0</td>\n",
              "    </tr>\n",
              "    <tr>\n",
              "      <th>62</th>\n",
              "      <td>2020-01-26</td>\n",
              "      <td>United States</td>\n",
              "      <td>5.0</td>\n",
              "      <td>0.0</td>\n",
              "      <td>0.0</td>\n",
              "      <td>5.0</td>\n",
              "      <td>3.0</td>\n",
              "      <td>0.0</td>\n",
              "      <td>0.0</td>\n",
              "      <td>0.0</td>\n",
              "    </tr>\n",
              "    <tr>\n",
              "      <th>...</th>\n",
              "      <td>...</td>\n",
              "      <td>...</td>\n",
              "      <td>...</td>\n",
              "      <td>...</td>\n",
              "      <td>...</td>\n",
              "      <td>...</td>\n",
              "      <td>...</td>\n",
              "      <td>...</td>\n",
              "      <td>...</td>\n",
              "      <td>...</td>\n",
              "    </tr>\n",
              "    <tr>\n",
              "      <th>52210</th>\n",
              "      <td>2020-12-06</td>\n",
              "      <td>United States</td>\n",
              "      <td>14756982.0</td>\n",
              "      <td>282299.0</td>\n",
              "      <td>5624444.0</td>\n",
              "      <td>8850239.0</td>\n",
              "      <td>175664.0</td>\n",
              "      <td>1113.0</td>\n",
              "      <td>48418.0</td>\n",
              "      <td>126133.0</td>\n",
              "    </tr>\n",
              "    <tr>\n",
              "      <th>52400</th>\n",
              "      <td>2020-12-07</td>\n",
              "      <td>United States</td>\n",
              "      <td>14949417.0</td>\n",
              "      <td>283703.0</td>\n",
              "      <td>5714557.0</td>\n",
              "      <td>8951157.0</td>\n",
              "      <td>192435.0</td>\n",
              "      <td>1404.0</td>\n",
              "      <td>90113.0</td>\n",
              "      <td>100918.0</td>\n",
              "    </tr>\n",
              "    <tr>\n",
              "      <th>52590</th>\n",
              "      <td>2020-12-08</td>\n",
              "      <td>United States</td>\n",
              "      <td>15165295.0</td>\n",
              "      <td>286249.0</td>\n",
              "      <td>5786915.0</td>\n",
              "      <td>9092131.0</td>\n",
              "      <td>215878.0</td>\n",
              "      <td>2546.0</td>\n",
              "      <td>72358.0</td>\n",
              "      <td>140974.0</td>\n",
              "    </tr>\n",
              "    <tr>\n",
              "      <th>52780</th>\n",
              "      <td>2020-12-09</td>\n",
              "      <td>United States</td>\n",
              "      <td>15386562.0</td>\n",
              "      <td>289373.0</td>\n",
              "      <td>5889896.0</td>\n",
              "      <td>9207293.0</td>\n",
              "      <td>221267.0</td>\n",
              "      <td>3124.0</td>\n",
              "      <td>102981.0</td>\n",
              "      <td>115162.0</td>\n",
              "    </tr>\n",
              "    <tr>\n",
              "      <th>52970</th>\n",
              "      <td>2020-12-10</td>\n",
              "      <td>United States</td>\n",
              "      <td>15611014.0</td>\n",
              "      <td>292141.0</td>\n",
              "      <td>5985047.0</td>\n",
              "      <td>9333826.0</td>\n",
              "      <td>224452.0</td>\n",
              "      <td>2768.0</td>\n",
              "      <td>95151.0</td>\n",
              "      <td>126533.0</td>\n",
              "    </tr>\n",
              "  </tbody>\n",
              "</table>\n",
              "<p>324 rows × 10 columns</p>\n",
              "</div>"
            ],
            "text/plain": [
              "            Date        Country  ConfirmedAcum  ...  Deaths  Recovered    Active\n",
              "7     2020-01-22  United States            1.0  ...     0.0        0.0       0.0\n",
              "22    2020-01-23  United States            1.0  ...     0.0        0.0       0.0\n",
              "33    2020-01-24  United States            2.0  ...     0.0        0.0       0.0\n",
              "47    2020-01-25  United States            2.0  ...     0.0        0.0       0.0\n",
              "62    2020-01-26  United States            5.0  ...     0.0        0.0       0.0\n",
              "...          ...            ...            ...  ...     ...        ...       ...\n",
              "52210 2020-12-06  United States     14756982.0  ...  1113.0    48418.0  126133.0\n",
              "52400 2020-12-07  United States     14949417.0  ...  1404.0    90113.0  100918.0\n",
              "52590 2020-12-08  United States     15165295.0  ...  2546.0    72358.0  140974.0\n",
              "52780 2020-12-09  United States     15386562.0  ...  3124.0   102981.0  115162.0\n",
              "52970 2020-12-10  United States     15611014.0  ...  2768.0    95151.0  126533.0\n",
              "\n",
              "[324 rows x 10 columns]"
            ]
          },
          "metadata": {
            "tags": []
          },
          "execution_count": 72
        }
      ]
    },
    {
      "cell_type": "markdown",
      "metadata": {
        "id": "5SkKjf2zaM33"
      },
      "source": [
        "## Cases per million inhabitants\n",
        "\n"
      ]
    },
    {
      "cell_type": "markdown",
      "metadata": {
        "id": "9Doq50kGLEzX"
      },
      "source": [
        "We are going to enrich the information with the number of cases per million inhabitants, so we need population data by country.\n",
        "\n",
        "A small internet search leads me to a page that has population data for 2020:\n",
        "\n",
        "https://www.worldometers.info/world-population/population-by-country/\n",
        "\n",
        "It seems that this information is protected to be downloaded automatically so I have no choice but to do it manually and upload the data to a GitHub Repository:\n",
        "\n",
        "https://github.com/dvillaj/world-population/\n",
        "\n"
      ]
    },
    {
      "cell_type": "markdown",
      "metadata": {
        "id": "QJuioEUaMoVZ"
      },
      "source": [
        "I load the data to the Pandas, clean it up and just maintain the field of the population \n"
      ]
    },
    {
      "cell_type": "code",
      "metadata": {
        "id": "MP-rwsGkeHRv"
      },
      "source": [
        "population = pd.read_excel(\"https://github.com/dvillaj/world-population/blob/master/data/world-popultation-2020.xlsx?raw=true\", sheet_name=\"Data\")"
      ],
      "execution_count": 73,
      "outputs": []
    },
    {
      "cell_type": "code",
      "metadata": {
        "id": "KqTM6UkHeRXA",
        "colab": {
          "base_uri": "https://localhost:8080/"
        },
        "outputId": "979f17b3-8071-484a-e1e9-45e908f404f1"
      },
      "source": [
        "population.info()"
      ],
      "execution_count": 74,
      "outputs": [
        {
          "output_type": "stream",
          "text": [
            "<class 'pandas.core.frame.DataFrame'>\n",
            "RangeIndex: 235 entries, 0 to 234\n",
            "Data columns (total 11 columns):\n",
            " #   Column             Non-Null Count  Dtype  \n",
            "---  ------             --------------  -----  \n",
            " 0   Country            235 non-null    object \n",
            " 1   Population (2020)  235 non-null    int64  \n",
            " 2   Yearly Change      235 non-null    float64\n",
            " 3   Net Change         235 non-null    int64  \n",
            " 4   Density (P/Km²)    235 non-null    float64\n",
            " 5   Land Area (Km²)    235 non-null    int64  \n",
            " 6   Migrants (net)     201 non-null    float64\n",
            " 7   Fertility Rate     201 non-null    float64\n",
            " 8   Average Age        201 non-null    float64\n",
            " 9   Urban Pop %        222 non-null    float64\n",
            " 10  World Share        235 non-null    float64\n",
            "dtypes: float64(7), int64(3), object(1)\n",
            "memory usage: 20.3+ KB\n"
          ],
          "name": "stdout"
        }
      ]
    },
    {
      "cell_type": "code",
      "metadata": {
        "id": "fssvIxSPs_xR"
      },
      "source": [
        "population = population.rename(columns = {\n",
        "    'Population (2020)' : 'Population',\n",
        "    'Yearly Change' : 'Yearly_Change',\n",
        "    'Net Change' : 'Net_Change',\n",
        "    'Density (P/Km²)' : 'Density',\n",
        "    'Land Area (Km²)' : 'Land_Area',\n",
        "    'Migrants (net)' : 'igrants',\n",
        "    'Fertility Rate' : 'Fertility',\n",
        "    'Average Age' : 'Mean_Age',\n",
        "    'Urban Pop %' : 'Urban_Pop',\n",
        "    'World Share' : 'World_Share'\n",
        "})"
      ],
      "execution_count": 75,
      "outputs": []
    },
    {
      "cell_type": "code",
      "metadata": {
        "id": "s7kZJnI1E3lT"
      },
      "source": [
        "population = population.filter(['Country', 'Population'])"
      ],
      "execution_count": 78,
      "outputs": []
    },
    {
      "cell_type": "code",
      "metadata": {
        "id": "sgeL52pNrCR6",
        "colab": {
          "base_uri": "https://localhost:8080/",
          "height": 206
        },
        "outputId": "4ea7810e-f3dd-42e7-d3c1-83f79ce45944"
      },
      "source": [
        "population.head()"
      ],
      "execution_count": 79,
      "outputs": [
        {
          "output_type": "execute_result",
          "data": {
            "text/html": [
              "<div>\n",
              "<style scoped>\n",
              "    .dataframe tbody tr th:only-of-type {\n",
              "        vertical-align: middle;\n",
              "    }\n",
              "\n",
              "    .dataframe tbody tr th {\n",
              "        vertical-align: top;\n",
              "    }\n",
              "\n",
              "    .dataframe thead th {\n",
              "        text-align: right;\n",
              "    }\n",
              "</style>\n",
              "<table border=\"1\" class=\"dataframe\">\n",
              "  <thead>\n",
              "    <tr style=\"text-align: right;\">\n",
              "      <th></th>\n",
              "      <th>Country</th>\n",
              "      <th>Population</th>\n",
              "    </tr>\n",
              "  </thead>\n",
              "  <tbody>\n",
              "    <tr>\n",
              "      <th>0</th>\n",
              "      <td>Afghanistan</td>\n",
              "      <td>38928346</td>\n",
              "    </tr>\n",
              "    <tr>\n",
              "      <th>1</th>\n",
              "      <td>Albania</td>\n",
              "      <td>2877797</td>\n",
              "    </tr>\n",
              "    <tr>\n",
              "      <th>2</th>\n",
              "      <td>Algeria</td>\n",
              "      <td>43851044</td>\n",
              "    </tr>\n",
              "    <tr>\n",
              "      <th>3</th>\n",
              "      <td>American Samoa</td>\n",
              "      <td>55191</td>\n",
              "    </tr>\n",
              "    <tr>\n",
              "      <th>4</th>\n",
              "      <td>Andorra</td>\n",
              "      <td>77265</td>\n",
              "    </tr>\n",
              "  </tbody>\n",
              "</table>\n",
              "</div>"
            ],
            "text/plain": [
              "          Country  Population\n",
              "0     Afghanistan    38928346\n",
              "1         Albania     2877797\n",
              "2         Algeria    43851044\n",
              "3  American Samoa       55191\n",
              "4         Andorra       77265"
            ]
          },
          "metadata": {
            "tags": []
          },
          "execution_count": 79
        }
      ]
    },
    {
      "cell_type": "markdown",
      "metadata": {
        "id": "0KKRRJK7M_WN"
      },
      "source": [
        "Now I join the population Dataset with the country data to have the population in this dataset"
      ]
    },
    {
      "cell_type": "code",
      "metadata": {
        "id": "FlmyQ_H0xLbP"
      },
      "source": [
        "data_by_country = data_by_country.merge(population, how = 'left', on = 'Country')"
      ],
      "execution_count": 80,
      "outputs": []
    },
    {
      "cell_type": "code",
      "metadata": {
        "id": "mFuMJ5XvmBIF",
        "colab": {
          "base_uri": "https://localhost:8080/"
        },
        "outputId": "16186243-c255-4967-e368-221279704750"
      },
      "source": [
        "data_by_country.info()"
      ],
      "execution_count": 81,
      "outputs": [
        {
          "output_type": "stream",
          "text": [
            "<class 'pandas.core.frame.DataFrame'>\n",
            "Int64Index: 52979 entries, 0 to 52978\n",
            "Data columns (total 11 columns):\n",
            " #   Column         Non-Null Count  Dtype         \n",
            "---  ------         --------------  -----         \n",
            " 0   Date           52979 non-null  datetime64[ns]\n",
            " 1   Country        52979 non-null  object        \n",
            " 2   ConfirmedAcum  52979 non-null  float64       \n",
            " 3   DeathsAcum     52979 non-null  float64       \n",
            " 4   RecoveredAcum  52979 non-null  float64       \n",
            " 5   ActiveAcum     52979 non-null  float64       \n",
            " 6   Confirmed      52979 non-null  float64       \n",
            " 7   Deaths         52979 non-null  float64       \n",
            " 8   Recovered      52979 non-null  float64       \n",
            " 9   Active         52979 non-null  float64       \n",
            " 10  Population     51253 non-null  float64       \n",
            "dtypes: datetime64[ns](1), float64(9), object(1)\n",
            "memory usage: 4.9+ MB\n"
          ],
          "name": "stdout"
        }
      ]
    },
    {
      "cell_type": "code",
      "metadata": {
        "id": "A-TiQcLCFGaw",
        "colab": {
          "base_uri": "https://localhost:8080/",
          "height": 206
        },
        "outputId": "d019e4be-5082-451f-eaf2-de3a59496495"
      },
      "source": [
        "data_by_country.head()"
      ],
      "execution_count": 82,
      "outputs": [
        {
          "output_type": "execute_result",
          "data": {
            "text/html": [
              "<div>\n",
              "<style scoped>\n",
              "    .dataframe tbody tr th:only-of-type {\n",
              "        vertical-align: middle;\n",
              "    }\n",
              "\n",
              "    .dataframe tbody tr th {\n",
              "        vertical-align: top;\n",
              "    }\n",
              "\n",
              "    .dataframe thead th {\n",
              "        text-align: right;\n",
              "    }\n",
              "</style>\n",
              "<table border=\"1\" class=\"dataframe\">\n",
              "  <thead>\n",
              "    <tr style=\"text-align: right;\">\n",
              "      <th></th>\n",
              "      <th>Date</th>\n",
              "      <th>Country</th>\n",
              "      <th>ConfirmedAcum</th>\n",
              "      <th>DeathsAcum</th>\n",
              "      <th>RecoveredAcum</th>\n",
              "      <th>ActiveAcum</th>\n",
              "      <th>Confirmed</th>\n",
              "      <th>Deaths</th>\n",
              "      <th>Recovered</th>\n",
              "      <th>Active</th>\n",
              "      <th>Population</th>\n",
              "    </tr>\n",
              "  </thead>\n",
              "  <tbody>\n",
              "    <tr>\n",
              "      <th>0</th>\n",
              "      <td>2020-02-24</td>\n",
              "      <td>Afghanistan</td>\n",
              "      <td>1.0</td>\n",
              "      <td>0.0</td>\n",
              "      <td>0.0</td>\n",
              "      <td>1.0</td>\n",
              "      <td>1.0</td>\n",
              "      <td>0.0</td>\n",
              "      <td>0.0</td>\n",
              "      <td>0.0</td>\n",
              "      <td>38928346.0</td>\n",
              "    </tr>\n",
              "    <tr>\n",
              "      <th>1</th>\n",
              "      <td>2020-02-25</td>\n",
              "      <td>Afghanistan</td>\n",
              "      <td>1.0</td>\n",
              "      <td>0.0</td>\n",
              "      <td>0.0</td>\n",
              "      <td>1.0</td>\n",
              "      <td>0.0</td>\n",
              "      <td>0.0</td>\n",
              "      <td>0.0</td>\n",
              "      <td>0.0</td>\n",
              "      <td>38928346.0</td>\n",
              "    </tr>\n",
              "    <tr>\n",
              "      <th>2</th>\n",
              "      <td>2020-02-26</td>\n",
              "      <td>Afghanistan</td>\n",
              "      <td>1.0</td>\n",
              "      <td>0.0</td>\n",
              "      <td>0.0</td>\n",
              "      <td>1.0</td>\n",
              "      <td>0.0</td>\n",
              "      <td>0.0</td>\n",
              "      <td>0.0</td>\n",
              "      <td>0.0</td>\n",
              "      <td>38928346.0</td>\n",
              "    </tr>\n",
              "    <tr>\n",
              "      <th>3</th>\n",
              "      <td>2020-02-27</td>\n",
              "      <td>Afghanistan</td>\n",
              "      <td>1.0</td>\n",
              "      <td>0.0</td>\n",
              "      <td>0.0</td>\n",
              "      <td>1.0</td>\n",
              "      <td>0.0</td>\n",
              "      <td>0.0</td>\n",
              "      <td>0.0</td>\n",
              "      <td>0.0</td>\n",
              "      <td>38928346.0</td>\n",
              "    </tr>\n",
              "    <tr>\n",
              "      <th>4</th>\n",
              "      <td>2020-02-28</td>\n",
              "      <td>Afghanistan</td>\n",
              "      <td>1.0</td>\n",
              "      <td>0.0</td>\n",
              "      <td>0.0</td>\n",
              "      <td>1.0</td>\n",
              "      <td>0.0</td>\n",
              "      <td>0.0</td>\n",
              "      <td>0.0</td>\n",
              "      <td>0.0</td>\n",
              "      <td>38928346.0</td>\n",
              "    </tr>\n",
              "  </tbody>\n",
              "</table>\n",
              "</div>"
            ],
            "text/plain": [
              "        Date      Country  ConfirmedAcum  ...  Recovered  Active  Population\n",
              "0 2020-02-24  Afghanistan            1.0  ...        0.0     0.0  38928346.0\n",
              "1 2020-02-25  Afghanistan            1.0  ...        0.0     0.0  38928346.0\n",
              "2 2020-02-26  Afghanistan            1.0  ...        0.0     0.0  38928346.0\n",
              "3 2020-02-27  Afghanistan            1.0  ...        0.0     0.0  38928346.0\n",
              "4 2020-02-28  Afghanistan            1.0  ...        0.0     0.0  38928346.0\n",
              "\n",
              "[5 rows x 11 columns]"
            ]
          },
          "metadata": {
            "tags": []
          },
          "execution_count": 82
        }
      ]
    },
    {
      "cell_type": "markdown",
      "metadata": {
        "id": "tLyawi0QNN8E"
      },
      "source": [
        "And finally I calculate the number of cases per million inhabitants"
      ]
    },
    {
      "cell_type": "code",
      "metadata": {
        "id": "Q3B760gwH1JI",
        "colab": {
          "base_uri": "https://localhost:8080/",
          "height": 206
        },
        "outputId": "d6e01c1e-48df-44b5-ad44-146a9ec9b0d4"
      },
      "source": [
        "data_by_country = data_by_country \\\n",
        "      .assign(ConfirmedAcum_Millon = data_by_country.ConfirmedAcum / data_by_country.Population * 1000000)\n",
        "      \n",
        "data_by_country.head()"
      ],
      "execution_count": 84,
      "outputs": [
        {
          "output_type": "execute_result",
          "data": {
            "text/html": [
              "<div>\n",
              "<style scoped>\n",
              "    .dataframe tbody tr th:only-of-type {\n",
              "        vertical-align: middle;\n",
              "    }\n",
              "\n",
              "    .dataframe tbody tr th {\n",
              "        vertical-align: top;\n",
              "    }\n",
              "\n",
              "    .dataframe thead th {\n",
              "        text-align: right;\n",
              "    }\n",
              "</style>\n",
              "<table border=\"1\" class=\"dataframe\">\n",
              "  <thead>\n",
              "    <tr style=\"text-align: right;\">\n",
              "      <th></th>\n",
              "      <th>Date</th>\n",
              "      <th>Country</th>\n",
              "      <th>ConfirmedAcum</th>\n",
              "      <th>DeathsAcum</th>\n",
              "      <th>RecoveredAcum</th>\n",
              "      <th>ActiveAcum</th>\n",
              "      <th>Confirmed</th>\n",
              "      <th>Deaths</th>\n",
              "      <th>Recovered</th>\n",
              "      <th>Active</th>\n",
              "      <th>Population</th>\n",
              "      <th>ConfirmedAcum_Millon</th>\n",
              "    </tr>\n",
              "  </thead>\n",
              "  <tbody>\n",
              "    <tr>\n",
              "      <th>0</th>\n",
              "      <td>2020-02-24</td>\n",
              "      <td>Afghanistan</td>\n",
              "      <td>1.0</td>\n",
              "      <td>0.0</td>\n",
              "      <td>0.0</td>\n",
              "      <td>1.0</td>\n",
              "      <td>1.0</td>\n",
              "      <td>0.0</td>\n",
              "      <td>0.0</td>\n",
              "      <td>0.0</td>\n",
              "      <td>38928346.0</td>\n",
              "      <td>0.025688</td>\n",
              "    </tr>\n",
              "    <tr>\n",
              "      <th>1</th>\n",
              "      <td>2020-02-25</td>\n",
              "      <td>Afghanistan</td>\n",
              "      <td>1.0</td>\n",
              "      <td>0.0</td>\n",
              "      <td>0.0</td>\n",
              "      <td>1.0</td>\n",
              "      <td>0.0</td>\n",
              "      <td>0.0</td>\n",
              "      <td>0.0</td>\n",
              "      <td>0.0</td>\n",
              "      <td>38928346.0</td>\n",
              "      <td>0.025688</td>\n",
              "    </tr>\n",
              "    <tr>\n",
              "      <th>2</th>\n",
              "      <td>2020-02-26</td>\n",
              "      <td>Afghanistan</td>\n",
              "      <td>1.0</td>\n",
              "      <td>0.0</td>\n",
              "      <td>0.0</td>\n",
              "      <td>1.0</td>\n",
              "      <td>0.0</td>\n",
              "      <td>0.0</td>\n",
              "      <td>0.0</td>\n",
              "      <td>0.0</td>\n",
              "      <td>38928346.0</td>\n",
              "      <td>0.025688</td>\n",
              "    </tr>\n",
              "    <tr>\n",
              "      <th>3</th>\n",
              "      <td>2020-02-27</td>\n",
              "      <td>Afghanistan</td>\n",
              "      <td>1.0</td>\n",
              "      <td>0.0</td>\n",
              "      <td>0.0</td>\n",
              "      <td>1.0</td>\n",
              "      <td>0.0</td>\n",
              "      <td>0.0</td>\n",
              "      <td>0.0</td>\n",
              "      <td>0.0</td>\n",
              "      <td>38928346.0</td>\n",
              "      <td>0.025688</td>\n",
              "    </tr>\n",
              "    <tr>\n",
              "      <th>4</th>\n",
              "      <td>2020-02-28</td>\n",
              "      <td>Afghanistan</td>\n",
              "      <td>1.0</td>\n",
              "      <td>0.0</td>\n",
              "      <td>0.0</td>\n",
              "      <td>1.0</td>\n",
              "      <td>0.0</td>\n",
              "      <td>0.0</td>\n",
              "      <td>0.0</td>\n",
              "      <td>0.0</td>\n",
              "      <td>38928346.0</td>\n",
              "      <td>0.025688</td>\n",
              "    </tr>\n",
              "  </tbody>\n",
              "</table>\n",
              "</div>"
            ],
            "text/plain": [
              "        Date      Country  ...  Population  ConfirmedAcum_Millon\n",
              "0 2020-02-24  Afghanistan  ...  38928346.0              0.025688\n",
              "1 2020-02-25  Afghanistan  ...  38928346.0              0.025688\n",
              "2 2020-02-26  Afghanistan  ...  38928346.0              0.025688\n",
              "3 2020-02-27  Afghanistan  ...  38928346.0              0.025688\n",
              "4 2020-02-28  Afghanistan  ...  38928346.0              0.025688\n",
              "\n",
              "[5 rows x 12 columns]"
            ]
          },
          "metadata": {
            "tags": []
          },
          "execution_count": 84
        }
      ]
    },
    {
      "cell_type": "markdown",
      "metadata": {
        "id": "Vke4moEnmMci"
      },
      "source": [
        "## Rankins"
      ]
    },
    {
      "cell_type": "markdown",
      "metadata": {
        "id": "6PFpzjJPNXlx"
      },
      "source": [
        "I'm going to create a dataset of last day's cases. \n",
        "\n",
        "The goal is to get a set of rankings that tell me the countries with the most cases\n",
        "\n",
        "So I need a variable that contains the last date of the dataset"
      ]
    },
    {
      "cell_type": "code",
      "metadata": {
        "id": "fpjj8I1gIDkH",
        "colab": {
          "base_uri": "https://localhost:8080/"
        },
        "outputId": "fbe025a8-688e-4276-a2b3-539adb55a492"
      },
      "source": [
        "last_day = list(data_by_country.Date.sort_values(ascending = False))[0]\n",
        "last_day"
      ],
      "execution_count": 87,
      "outputs": [
        {
          "output_type": "execute_result",
          "data": {
            "text/plain": [
              "Timestamp('2020-12-10 00:00:00')"
            ]
          },
          "metadata": {
            "tags": []
          },
          "execution_count": 87
        }
      ]
    },
    {
      "cell_type": "markdown",
      "metadata": {
        "id": "iNaG20HENndT"
      },
      "source": [
        "Now I can filter the data by this date"
      ]
    },
    {
      "cell_type": "code",
      "metadata": {
        "id": "5xYLSoqXIH7o",
        "colab": {
          "base_uri": "https://localhost:8080/"
        },
        "outputId": "2459d9a4-9f44-4ba8-b509-d8235d85ab3c"
      },
      "source": [
        "last_day_data = data_by_country[data_by_country.Date == last_day]\n",
        "last_day_data.info()"
      ],
      "execution_count": 88,
      "outputs": [
        {
          "output_type": "stream",
          "text": [
            "<class 'pandas.core.frame.DataFrame'>\n",
            "Int64Index: 190 entries, 290 to 52978\n",
            "Data columns (total 12 columns):\n",
            " #   Column                Non-Null Count  Dtype         \n",
            "---  ------                --------------  -----         \n",
            " 0   Date                  190 non-null    datetime64[ns]\n",
            " 1   Country               190 non-null    object        \n",
            " 2   ConfirmedAcum         190 non-null    float64       \n",
            " 3   DeathsAcum            190 non-null    float64       \n",
            " 4   RecoveredAcum         190 non-null    float64       \n",
            " 5   ActiveAcum            190 non-null    float64       \n",
            " 6   Confirmed             190 non-null    float64       \n",
            " 7   Deaths                190 non-null    float64       \n",
            " 8   Recovered             190 non-null    float64       \n",
            " 9   Active                190 non-null    float64       \n",
            " 10  Population            184 non-null    float64       \n",
            " 11  ConfirmedAcum_Millon  184 non-null    float64       \n",
            "dtypes: datetime64[ns](1), float64(10), object(1)\n",
            "memory usage: 19.3+ KB\n"
          ],
          "name": "stdout"
        }
      ]
    },
    {
      "cell_type": "code",
      "metadata": {
        "id": "cwirZFd_IK0I",
        "colab": {
          "base_uri": "https://localhost:8080/",
          "height": 424
        },
        "outputId": "6f414829-72f9-4e44-d786-30b70ab133d0"
      },
      "source": [
        "last_day_data"
      ],
      "execution_count": 89,
      "outputs": [
        {
          "output_type": "execute_result",
          "data": {
            "text/html": [
              "<div>\n",
              "<style scoped>\n",
              "    .dataframe tbody tr th:only-of-type {\n",
              "        vertical-align: middle;\n",
              "    }\n",
              "\n",
              "    .dataframe tbody tr th {\n",
              "        vertical-align: top;\n",
              "    }\n",
              "\n",
              "    .dataframe thead th {\n",
              "        text-align: right;\n",
              "    }\n",
              "</style>\n",
              "<table border=\"1\" class=\"dataframe\">\n",
              "  <thead>\n",
              "    <tr style=\"text-align: right;\">\n",
              "      <th></th>\n",
              "      <th>Date</th>\n",
              "      <th>Country</th>\n",
              "      <th>ConfirmedAcum</th>\n",
              "      <th>DeathsAcum</th>\n",
              "      <th>RecoveredAcum</th>\n",
              "      <th>ActiveAcum</th>\n",
              "      <th>Confirmed</th>\n",
              "      <th>Deaths</th>\n",
              "      <th>Recovered</th>\n",
              "      <th>Active</th>\n",
              "      <th>Population</th>\n",
              "      <th>ConfirmedAcum_Millon</th>\n",
              "    </tr>\n",
              "  </thead>\n",
              "  <tbody>\n",
              "    <tr>\n",
              "      <th>290</th>\n",
              "      <td>2020-12-10</td>\n",
              "      <td>Afghanistan</td>\n",
              "      <td>48053.0</td>\n",
              "      <td>1935.0</td>\n",
              "      <td>38099.0</td>\n",
              "      <td>8019.0</td>\n",
              "      <td>202.0</td>\n",
              "      <td>16.0</td>\n",
              "      <td>67.0</td>\n",
              "      <td>119.0</td>\n",
              "      <td>38928346.0</td>\n",
              "      <td>1234.396139</td>\n",
              "    </tr>\n",
              "    <tr>\n",
              "      <th>567</th>\n",
              "      <td>2020-12-10</td>\n",
              "      <td>Albania</td>\n",
              "      <td>46061.0</td>\n",
              "      <td>965.0</td>\n",
              "      <td>23609.0</td>\n",
              "      <td>21487.0</td>\n",
              "      <td>873.0</td>\n",
              "      <td>14.0</td>\n",
              "      <td>537.0</td>\n",
              "      <td>322.0</td>\n",
              "      <td>2877797.0</td>\n",
              "      <td>16005.645985</td>\n",
              "    </tr>\n",
              "    <tr>\n",
              "      <th>857</th>\n",
              "      <td>2020-12-10</td>\n",
              "      <td>Algeria</td>\n",
              "      <td>90579.0</td>\n",
              "      <td>2564.0</td>\n",
              "      <td>59135.0</td>\n",
              "      <td>28880.0</td>\n",
              "      <td>565.0</td>\n",
              "      <td>10.0</td>\n",
              "      <td>989.0</td>\n",
              "      <td>-434.0</td>\n",
              "      <td>43851044.0</td>\n",
              "      <td>2065.606465</td>\n",
              "    </tr>\n",
              "    <tr>\n",
              "      <th>1141</th>\n",
              "      <td>2020-12-10</td>\n",
              "      <td>Andorra</td>\n",
              "      <td>7190.0</td>\n",
              "      <td>78.0</td>\n",
              "      <td>6505.0</td>\n",
              "      <td>607.0</td>\n",
              "      <td>28.0</td>\n",
              "      <td>0.0</td>\n",
              "      <td>53.0</td>\n",
              "      <td>-25.0</td>\n",
              "      <td>77265.0</td>\n",
              "      <td>93056.364460</td>\n",
              "    </tr>\n",
              "    <tr>\n",
              "      <th>1407</th>\n",
              "      <td>2020-12-10</td>\n",
              "      <td>Angola</td>\n",
              "      <td>15925.0</td>\n",
              "      <td>362.0</td>\n",
              "      <td>8679.0</td>\n",
              "      <td>6884.0</td>\n",
              "      <td>121.0</td>\n",
              "      <td>4.0</td>\n",
              "      <td>100.0</td>\n",
              "      <td>17.0</td>\n",
              "      <td>32866272.0</td>\n",
              "      <td>484.539287</td>\n",
              "    </tr>\n",
              "    <tr>\n",
              "      <th>...</th>\n",
              "      <td>...</td>\n",
              "      <td>...</td>\n",
              "      <td>...</td>\n",
              "      <td>...</td>\n",
              "      <td>...</td>\n",
              "      <td>...</td>\n",
              "      <td>...</td>\n",
              "      <td>...</td>\n",
              "      <td>...</td>\n",
              "      <td>...</td>\n",
              "      <td>...</td>\n",
              "      <td>...</td>\n",
              "    </tr>\n",
              "    <tr>\n",
              "      <th>51876</th>\n",
              "      <td>2020-12-10</td>\n",
              "      <td>Venezuela</td>\n",
              "      <td>106280.0</td>\n",
              "      <td>938.0</td>\n",
              "      <td>101384.0</td>\n",
              "      <td>3958.0</td>\n",
              "      <td>428.0</td>\n",
              "      <td>5.0</td>\n",
              "      <td>432.0</td>\n",
              "      <td>-9.0</td>\n",
              "      <td>28435940.0</td>\n",
              "      <td>3737.523711</td>\n",
              "    </tr>\n",
              "    <tr>\n",
              "      <th>52199</th>\n",
              "      <td>2020-12-10</td>\n",
              "      <td>Vietnam</td>\n",
              "      <td>1385.0</td>\n",
              "      <td>35.0</td>\n",
              "      <td>1225.0</td>\n",
              "      <td>125.0</td>\n",
              "      <td>4.0</td>\n",
              "      <td>0.0</td>\n",
              "      <td>0.0</td>\n",
              "      <td>4.0</td>\n",
              "      <td>97338579.0</td>\n",
              "      <td>14.228685</td>\n",
              "    </tr>\n",
              "    <tr>\n",
              "      <th>52444</th>\n",
              "      <td>2020-12-10</td>\n",
              "      <td>Yemen</td>\n",
              "      <td>2081.0</td>\n",
              "      <td>606.0</td>\n",
              "      <td>1383.0</td>\n",
              "      <td>92.0</td>\n",
              "      <td>2.0</td>\n",
              "      <td>0.0</td>\n",
              "      <td>0.0</td>\n",
              "      <td>2.0</td>\n",
              "      <td>29825964.0</td>\n",
              "      <td>69.771425</td>\n",
              "    </tr>\n",
              "    <tr>\n",
              "      <th>52712</th>\n",
              "      <td>2020-12-10</td>\n",
              "      <td>Zambia</td>\n",
              "      <td>18091.0</td>\n",
              "      <td>364.0</td>\n",
              "      <td>17307.0</td>\n",
              "      <td>420.0</td>\n",
              "      <td>29.0</td>\n",
              "      <td>0.0</td>\n",
              "      <td>12.0</td>\n",
              "      <td>17.0</td>\n",
              "      <td>18383955.0</td>\n",
              "      <td>984.064637</td>\n",
              "    </tr>\n",
              "    <tr>\n",
              "      <th>52978</th>\n",
              "      <td>2020-12-10</td>\n",
              "      <td>Zimbabwe</td>\n",
              "      <td>11081.0</td>\n",
              "      <td>305.0</td>\n",
              "      <td>9253.0</td>\n",
              "      <td>1523.0</td>\n",
              "      <td>74.0</td>\n",
              "      <td>1.0</td>\n",
              "      <td>106.0</td>\n",
              "      <td>-33.0</td>\n",
              "      <td>14862924.0</td>\n",
              "      <td>745.546435</td>\n",
              "    </tr>\n",
              "  </tbody>\n",
              "</table>\n",
              "<p>190 rows × 12 columns</p>\n",
              "</div>"
            ],
            "text/plain": [
              "            Date      Country  ...  Population  ConfirmedAcum_Millon\n",
              "290   2020-12-10  Afghanistan  ...  38928346.0           1234.396139\n",
              "567   2020-12-10      Albania  ...   2877797.0          16005.645985\n",
              "857   2020-12-10      Algeria  ...  43851044.0           2065.606465\n",
              "1141  2020-12-10      Andorra  ...     77265.0          93056.364460\n",
              "1407  2020-12-10       Angola  ...  32866272.0            484.539287\n",
              "...          ...          ...  ...         ...                   ...\n",
              "51876 2020-12-10    Venezuela  ...  28435940.0           3737.523711\n",
              "52199 2020-12-10      Vietnam  ...  97338579.0             14.228685\n",
              "52444 2020-12-10        Yemen  ...  29825964.0             69.771425\n",
              "52712 2020-12-10       Zambia  ...  18383955.0            984.064637\n",
              "52978 2020-12-10     Zimbabwe  ...  14862924.0            745.546435\n",
              "\n",
              "[190 rows x 12 columns]"
            ]
          },
          "metadata": {
            "tags": []
          },
          "execution_count": 89
        }
      ]
    },
    {
      "cell_type": "markdown",
      "metadata": {
        "id": "mmTBsUOROG6s"
      },
      "source": [
        "Let's assign new columns with the most interesting rankins ..."
      ]
    },
    {
      "cell_type": "code",
      "metadata": {
        "id": "6jBUyahqINJ6",
        "colab": {
          "base_uri": "https://localhost:8080/",
          "height": 424
        },
        "outputId": "667bd6fd-612e-4b78-e463-26ada4b72170"
      },
      "source": [
        "last_day_data = last_day_data.assign(\n",
        "    Rank_ConfirmedAcum = last_day_data.ConfirmedAcum.rank(),\n",
        "    Rank_Confirmed = last_day_data.Confirmed.rank(),\n",
        "    Rank_ActiveAcum = last_day_data.ActiveAcum.rank(),\n",
        "    Rank_Active = last_day_data.Active.rank(),\n",
        "    Rank_ConfirmedAcum_Millon = last_day_data.ConfirmedAcum_Millon.rank()\n",
        ")\n",
        "last_day_data"
      ],
      "execution_count": 90,
      "outputs": [
        {
          "output_type": "execute_result",
          "data": {
            "text/html": [
              "<div>\n",
              "<style scoped>\n",
              "    .dataframe tbody tr th:only-of-type {\n",
              "        vertical-align: middle;\n",
              "    }\n",
              "\n",
              "    .dataframe tbody tr th {\n",
              "        vertical-align: top;\n",
              "    }\n",
              "\n",
              "    .dataframe thead th {\n",
              "        text-align: right;\n",
              "    }\n",
              "</style>\n",
              "<table border=\"1\" class=\"dataframe\">\n",
              "  <thead>\n",
              "    <tr style=\"text-align: right;\">\n",
              "      <th></th>\n",
              "      <th>Date</th>\n",
              "      <th>Country</th>\n",
              "      <th>ConfirmedAcum</th>\n",
              "      <th>DeathsAcum</th>\n",
              "      <th>RecoveredAcum</th>\n",
              "      <th>ActiveAcum</th>\n",
              "      <th>Confirmed</th>\n",
              "      <th>Deaths</th>\n",
              "      <th>Recovered</th>\n",
              "      <th>Active</th>\n",
              "      <th>Population</th>\n",
              "      <th>ConfirmedAcum_Millon</th>\n",
              "      <th>Rank_ConfirmedAcum</th>\n",
              "      <th>Rank_Confirmed</th>\n",
              "      <th>Rank_ActiveAcum</th>\n",
              "      <th>Rank_Active</th>\n",
              "      <th>Rank_ConfirmedAcum_Millon</th>\n",
              "    </tr>\n",
              "  </thead>\n",
              "  <tbody>\n",
              "    <tr>\n",
              "      <th>290</th>\n",
              "      <td>2020-12-10</td>\n",
              "      <td>Afghanistan</td>\n",
              "      <td>48053.0</td>\n",
              "      <td>1935.0</td>\n",
              "      <td>38099.0</td>\n",
              "      <td>8019.0</td>\n",
              "      <td>202.0</td>\n",
              "      <td>16.0</td>\n",
              "      <td>67.0</td>\n",
              "      <td>119.0</td>\n",
              "      <td>38928346.0</td>\n",
              "      <td>1234.396139</td>\n",
              "      <td>103.0</td>\n",
              "      <td>94.0</td>\n",
              "      <td>105.0</td>\n",
              "      <td>133.0</td>\n",
              "      <td>61.0</td>\n",
              "    </tr>\n",
              "    <tr>\n",
              "      <th>567</th>\n",
              "      <td>2020-12-10</td>\n",
              "      <td>Albania</td>\n",
              "      <td>46061.0</td>\n",
              "      <td>965.0</td>\n",
              "      <td>23609.0</td>\n",
              "      <td>21487.0</td>\n",
              "      <td>873.0</td>\n",
              "      <td>14.0</td>\n",
              "      <td>537.0</td>\n",
              "      <td>322.0</td>\n",
              "      <td>2877797.0</td>\n",
              "      <td>16005.645985</td>\n",
              "      <td>102.0</td>\n",
              "      <td>123.0</td>\n",
              "      <td>129.0</td>\n",
              "      <td>146.0</td>\n",
              "      <td>124.0</td>\n",
              "    </tr>\n",
              "    <tr>\n",
              "      <th>857</th>\n",
              "      <td>2020-12-10</td>\n",
              "      <td>Algeria</td>\n",
              "      <td>90579.0</td>\n",
              "      <td>2564.0</td>\n",
              "      <td>59135.0</td>\n",
              "      <td>28880.0</td>\n",
              "      <td>565.0</td>\n",
              "      <td>10.0</td>\n",
              "      <td>989.0</td>\n",
              "      <td>-434.0</td>\n",
              "      <td>43851044.0</td>\n",
              "      <td>2065.606465</td>\n",
              "      <td>116.0</td>\n",
              "      <td>114.0</td>\n",
              "      <td>143.0</td>\n",
              "      <td>20.0</td>\n",
              "      <td>73.0</td>\n",
              "    </tr>\n",
              "    <tr>\n",
              "      <th>1141</th>\n",
              "      <td>2020-12-10</td>\n",
              "      <td>Andorra</td>\n",
              "      <td>7190.0</td>\n",
              "      <td>78.0</td>\n",
              "      <td>6505.0</td>\n",
              "      <td>607.0</td>\n",
              "      <td>28.0</td>\n",
              "      <td>0.0</td>\n",
              "      <td>53.0</td>\n",
              "      <td>-25.0</td>\n",
              "      <td>77265.0</td>\n",
              "      <td>93056.364460</td>\n",
              "      <td>62.0</td>\n",
              "      <td>64.0</td>\n",
              "      <td>61.0</td>\n",
              "      <td>39.0</td>\n",
              "      <td>184.0</td>\n",
              "    </tr>\n",
              "    <tr>\n",
              "      <th>1407</th>\n",
              "      <td>2020-12-10</td>\n",
              "      <td>Angola</td>\n",
              "      <td>15925.0</td>\n",
              "      <td>362.0</td>\n",
              "      <td>8679.0</td>\n",
              "      <td>6884.0</td>\n",
              "      <td>121.0</td>\n",
              "      <td>4.0</td>\n",
              "      <td>100.0</td>\n",
              "      <td>17.0</td>\n",
              "      <td>32866272.0</td>\n",
              "      <td>484.539287</td>\n",
              "      <td>81.0</td>\n",
              "      <td>85.0</td>\n",
              "      <td>102.0</td>\n",
              "      <td>114.5</td>\n",
              "      <td>36.0</td>\n",
              "    </tr>\n",
              "    <tr>\n",
              "      <th>...</th>\n",
              "      <td>...</td>\n",
              "      <td>...</td>\n",
              "      <td>...</td>\n",
              "      <td>...</td>\n",
              "      <td>...</td>\n",
              "      <td>...</td>\n",
              "      <td>...</td>\n",
              "      <td>...</td>\n",
              "      <td>...</td>\n",
              "      <td>...</td>\n",
              "      <td>...</td>\n",
              "      <td>...</td>\n",
              "      <td>...</td>\n",
              "      <td>...</td>\n",
              "      <td>...</td>\n",
              "      <td>...</td>\n",
              "      <td>...</td>\n",
              "    </tr>\n",
              "    <tr>\n",
              "      <th>51876</th>\n",
              "      <td>2020-12-10</td>\n",
              "      <td>Venezuela</td>\n",
              "      <td>106280.0</td>\n",
              "      <td>938.0</td>\n",
              "      <td>101384.0</td>\n",
              "      <td>3958.0</td>\n",
              "      <td>428.0</td>\n",
              "      <td>5.0</td>\n",
              "      <td>432.0</td>\n",
              "      <td>-9.0</td>\n",
              "      <td>28435940.0</td>\n",
              "      <td>3737.523711</td>\n",
              "      <td>124.0</td>\n",
              "      <td>105.0</td>\n",
              "      <td>95.0</td>\n",
              "      <td>41.0</td>\n",
              "      <td>82.0</td>\n",
              "    </tr>\n",
              "    <tr>\n",
              "      <th>52199</th>\n",
              "      <td>2020-12-10</td>\n",
              "      <td>Vietnam</td>\n",
              "      <td>1385.0</td>\n",
              "      <td>35.0</td>\n",
              "      <td>1225.0</td>\n",
              "      <td>125.0</td>\n",
              "      <td>4.0</td>\n",
              "      <td>0.0</td>\n",
              "      <td>0.0</td>\n",
              "      <td>4.0</td>\n",
              "      <td>97338579.0</td>\n",
              "      <td>14.228685</td>\n",
              "      <td>32.0</td>\n",
              "      <td>49.0</td>\n",
              "      <td>40.0</td>\n",
              "      <td>104.0</td>\n",
              "      <td>5.0</td>\n",
              "    </tr>\n",
              "    <tr>\n",
              "      <th>52444</th>\n",
              "      <td>2020-12-10</td>\n",
              "      <td>Yemen</td>\n",
              "      <td>2081.0</td>\n",
              "      <td>606.0</td>\n",
              "      <td>1383.0</td>\n",
              "      <td>92.0</td>\n",
              "      <td>2.0</td>\n",
              "      <td>0.0</td>\n",
              "      <td>0.0</td>\n",
              "      <td>2.0</td>\n",
              "      <td>29825964.0</td>\n",
              "      <td>69.771425</td>\n",
              "      <td>37.0</td>\n",
              "      <td>45.5</td>\n",
              "      <td>37.0</td>\n",
              "      <td>99.5</td>\n",
              "      <td>15.0</td>\n",
              "    </tr>\n",
              "    <tr>\n",
              "      <th>52712</th>\n",
              "      <td>2020-12-10</td>\n",
              "      <td>Zambia</td>\n",
              "      <td>18091.0</td>\n",
              "      <td>364.0</td>\n",
              "      <td>17307.0</td>\n",
              "      <td>420.0</td>\n",
              "      <td>29.0</td>\n",
              "      <td>0.0</td>\n",
              "      <td>12.0</td>\n",
              "      <td>17.0</td>\n",
              "      <td>18383955.0</td>\n",
              "      <td>984.064637</td>\n",
              "      <td>86.0</td>\n",
              "      <td>65.0</td>\n",
              "      <td>55.0</td>\n",
              "      <td>114.5</td>\n",
              "      <td>51.0</td>\n",
              "    </tr>\n",
              "    <tr>\n",
              "      <th>52978</th>\n",
              "      <td>2020-12-10</td>\n",
              "      <td>Zimbabwe</td>\n",
              "      <td>11081.0</td>\n",
              "      <td>305.0</td>\n",
              "      <td>9253.0</td>\n",
              "      <td>1523.0</td>\n",
              "      <td>74.0</td>\n",
              "      <td>1.0</td>\n",
              "      <td>106.0</td>\n",
              "      <td>-33.0</td>\n",
              "      <td>14862924.0</td>\n",
              "      <td>745.546435</td>\n",
              "      <td>72.0</td>\n",
              "      <td>74.5</td>\n",
              "      <td>78.0</td>\n",
              "      <td>34.0</td>\n",
              "      <td>45.0</td>\n",
              "    </tr>\n",
              "  </tbody>\n",
              "</table>\n",
              "<p>190 rows × 17 columns</p>\n",
              "</div>"
            ],
            "text/plain": [
              "            Date      Country  ...  Rank_Active  Rank_ConfirmedAcum_Millon\n",
              "290   2020-12-10  Afghanistan  ...        133.0                       61.0\n",
              "567   2020-12-10      Albania  ...        146.0                      124.0\n",
              "857   2020-12-10      Algeria  ...         20.0                       73.0\n",
              "1141  2020-12-10      Andorra  ...         39.0                      184.0\n",
              "1407  2020-12-10       Angola  ...        114.5                       36.0\n",
              "...          ...          ...  ...          ...                        ...\n",
              "51876 2020-12-10    Venezuela  ...         41.0                       82.0\n",
              "52199 2020-12-10      Vietnam  ...        104.0                        5.0\n",
              "52444 2020-12-10        Yemen  ...         99.5                       15.0\n",
              "52712 2020-12-10       Zambia  ...        114.5                       51.0\n",
              "52978 2020-12-10     Zimbabwe  ...         34.0                       45.0\n",
              "\n",
              "[190 rows x 17 columns]"
            ]
          },
          "metadata": {
            "tags": []
          },
          "execution_count": 90
        }
      ]
    },
    {
      "cell_type": "markdown",
      "metadata": {
        "id": "HivVOvHXONay"
      },
      "source": [
        "Which countries have the most confirmed cases?"
      ]
    },
    {
      "cell_type": "code",
      "metadata": {
        "id": "_7PM3zGbIPso",
        "colab": {
          "base_uri": "https://localhost:8080/",
          "height": 363
        },
        "outputId": "76b1ad80-15a6-4b3e-8890-576cd25bc58a"
      },
      "source": [
        "last_day_data \\\r\n",
        "  .sort_values('Rank_ConfirmedAcum', ascending = False) \\\r\n",
        "  .filter(['Country', 'ConfirmedAcum']) \\\r\n",
        "  .reset_index(drop = True) \\\r\n",
        "  .head(10)"
      ],
      "execution_count": 92,
      "outputs": [
        {
          "output_type": "execute_result",
          "data": {
            "text/html": [
              "<div>\n",
              "<style scoped>\n",
              "    .dataframe tbody tr th:only-of-type {\n",
              "        vertical-align: middle;\n",
              "    }\n",
              "\n",
              "    .dataframe tbody tr th {\n",
              "        vertical-align: top;\n",
              "    }\n",
              "\n",
              "    .dataframe thead th {\n",
              "        text-align: right;\n",
              "    }\n",
              "</style>\n",
              "<table border=\"1\" class=\"dataframe\">\n",
              "  <thead>\n",
              "    <tr style=\"text-align: right;\">\n",
              "      <th></th>\n",
              "      <th>Country</th>\n",
              "      <th>ConfirmedAcum</th>\n",
              "    </tr>\n",
              "  </thead>\n",
              "  <tbody>\n",
              "    <tr>\n",
              "      <th>0</th>\n",
              "      <td>United States</td>\n",
              "      <td>15611014.0</td>\n",
              "    </tr>\n",
              "    <tr>\n",
              "      <th>1</th>\n",
              "      <td>India</td>\n",
              "      <td>9796744.0</td>\n",
              "    </tr>\n",
              "    <tr>\n",
              "      <th>2</th>\n",
              "      <td>Brazil</td>\n",
              "      <td>6781799.0</td>\n",
              "    </tr>\n",
              "    <tr>\n",
              "      <th>3</th>\n",
              "      <td>Russia</td>\n",
              "      <td>2546113.0</td>\n",
              "    </tr>\n",
              "    <tr>\n",
              "      <th>4</th>\n",
              "      <td>France</td>\n",
              "      <td>2391643.0</td>\n",
              "    </tr>\n",
              "    <tr>\n",
              "      <th>5</th>\n",
              "      <td>United Kingdom</td>\n",
              "      <td>1792611.0</td>\n",
              "    </tr>\n",
              "    <tr>\n",
              "      <th>6</th>\n",
              "      <td>Italy</td>\n",
              "      <td>1787147.0</td>\n",
              "    </tr>\n",
              "    <tr>\n",
              "      <th>7</th>\n",
              "      <td>Spain</td>\n",
              "      <td>1720056.0</td>\n",
              "    </tr>\n",
              "    <tr>\n",
              "      <th>8</th>\n",
              "      <td>Argentina</td>\n",
              "      <td>1482216.0</td>\n",
              "    </tr>\n",
              "    <tr>\n",
              "      <th>9</th>\n",
              "      <td>Colombia</td>\n",
              "      <td>1399911.0</td>\n",
              "    </tr>\n",
              "  </tbody>\n",
              "</table>\n",
              "</div>"
            ],
            "text/plain": [
              "          Country  ConfirmedAcum\n",
              "0   United States     15611014.0\n",
              "1           India      9796744.0\n",
              "2          Brazil      6781799.0\n",
              "3          Russia      2546113.0\n",
              "4          France      2391643.0\n",
              "5  United Kingdom      1792611.0\n",
              "6           Italy      1787147.0\n",
              "7           Spain      1720056.0\n",
              "8       Argentina      1482216.0\n",
              "9        Colombia      1399911.0"
            ]
          },
          "metadata": {
            "tags": []
          },
          "execution_count": 92
        }
      ]
    },
    {
      "cell_type": "markdown",
      "metadata": {
        "id": "Zlu8j_bvOYCT"
      },
      "source": [
        "Which countries have more confirmed cases on the last day?"
      ]
    },
    {
      "cell_type": "code",
      "metadata": {
        "id": "PCYQySQTISh4",
        "colab": {
          "base_uri": "https://localhost:8080/",
          "height": 363
        },
        "outputId": "2ca7cded-4b30-4ddf-828e-a7c999699dcd"
      },
      "source": [
        "last_day_data \\\r\n",
        "  .sort_values('Rank_Confirmed', ascending = False) \\\r\n",
        "  .filter(['Country', 'Confirmed']) \\\r\n",
        "  .reset_index(drop = True) \\\r\n",
        "  .head(10)"
      ],
      "execution_count": 93,
      "outputs": [
        {
          "output_type": "execute_result",
          "data": {
            "text/html": [
              "<div>\n",
              "<style scoped>\n",
              "    .dataframe tbody tr th:only-of-type {\n",
              "        vertical-align: middle;\n",
              "    }\n",
              "\n",
              "    .dataframe tbody tr th {\n",
              "        vertical-align: top;\n",
              "    }\n",
              "\n",
              "    .dataframe thead th {\n",
              "        text-align: right;\n",
              "    }\n",
              "</style>\n",
              "<table border=\"1\" class=\"dataframe\">\n",
              "  <thead>\n",
              "    <tr style=\"text-align: right;\">\n",
              "      <th></th>\n",
              "      <th>Country</th>\n",
              "      <th>Confirmed</th>\n",
              "    </tr>\n",
              "  </thead>\n",
              "  <tbody>\n",
              "    <tr>\n",
              "      <th>0</th>\n",
              "      <td>United States</td>\n",
              "      <td>224452.0</td>\n",
              "    </tr>\n",
              "    <tr>\n",
              "      <th>1</th>\n",
              "      <td>Brazil</td>\n",
              "      <td>53347.0</td>\n",
              "    </tr>\n",
              "    <tr>\n",
              "      <th>2</th>\n",
              "      <td>Germany</td>\n",
              "      <td>32734.0</td>\n",
              "    </tr>\n",
              "    <tr>\n",
              "      <th>3</th>\n",
              "      <td>Turkey</td>\n",
              "      <td>30424.0</td>\n",
              "    </tr>\n",
              "    <tr>\n",
              "      <th>4</th>\n",
              "      <td>India</td>\n",
              "      <td>29373.0</td>\n",
              "    </tr>\n",
              "    <tr>\n",
              "      <th>5</th>\n",
              "      <td>Russia</td>\n",
              "      <td>27562.0</td>\n",
              "    </tr>\n",
              "    <tr>\n",
              "      <th>6</th>\n",
              "      <td>United Kingdom</td>\n",
              "      <td>21066.0</td>\n",
              "    </tr>\n",
              "    <tr>\n",
              "      <th>7</th>\n",
              "      <td>Italy</td>\n",
              "      <td>16998.0</td>\n",
              "    </tr>\n",
              "    <tr>\n",
              "      <th>8</th>\n",
              "      <td>Poland</td>\n",
              "      <td>13750.0</td>\n",
              "    </tr>\n",
              "    <tr>\n",
              "      <th>9</th>\n",
              "      <td>Ukraine</td>\n",
              "      <td>13736.0</td>\n",
              "    </tr>\n",
              "  </tbody>\n",
              "</table>\n",
              "</div>"
            ],
            "text/plain": [
              "          Country  Confirmed\n",
              "0   United States   224452.0\n",
              "1          Brazil    53347.0\n",
              "2         Germany    32734.0\n",
              "3          Turkey    30424.0\n",
              "4           India    29373.0\n",
              "5          Russia    27562.0\n",
              "6  United Kingdom    21066.0\n",
              "7           Italy    16998.0\n",
              "8          Poland    13750.0\n",
              "9         Ukraine    13736.0"
            ]
          },
          "metadata": {
            "tags": []
          },
          "execution_count": 93
        }
      ]
    },
    {
      "cell_type": "markdown",
      "metadata": {
        "id": "3m_EcGT6OhPK"
      },
      "source": [
        "Which countries have the most active cases?"
      ]
    },
    {
      "cell_type": "code",
      "metadata": {
        "id": "VjKAEOvNIVvY",
        "colab": {
          "base_uri": "https://localhost:8080/",
          "height": 363
        },
        "outputId": "ac9a2b23-c468-46a0-905d-5cad8c0e0408"
      },
      "source": [
        "last_day_data \\\r\n",
        "  .sort_values('Rank_ActiveAcum', ascending = False) \\\r\n",
        "  .filter(['Country', 'ActiveAcum']) \\\r\n",
        "  .reset_index(drop = True) \\\r\n",
        "  .head(10)"
      ],
      "execution_count": 94,
      "outputs": [
        {
          "output_type": "execute_result",
          "data": {
            "text/html": [
              "<div>\n",
              "<style scoped>\n",
              "    .dataframe tbody tr th:only-of-type {\n",
              "        vertical-align: middle;\n",
              "    }\n",
              "\n",
              "    .dataframe tbody tr th {\n",
              "        vertical-align: top;\n",
              "    }\n",
              "\n",
              "    .dataframe thead th {\n",
              "        text-align: right;\n",
              "    }\n",
              "</style>\n",
              "<table border=\"1\" class=\"dataframe\">\n",
              "  <thead>\n",
              "    <tr style=\"text-align: right;\">\n",
              "      <th></th>\n",
              "      <th>Country</th>\n",
              "      <th>ActiveAcum</th>\n",
              "    </tr>\n",
              "  </thead>\n",
              "  <tbody>\n",
              "    <tr>\n",
              "      <th>0</th>\n",
              "      <td>United States</td>\n",
              "      <td>9333826.0</td>\n",
              "    </tr>\n",
              "    <tr>\n",
              "      <th>1</th>\n",
              "      <td>France</td>\n",
              "      <td>2154251.0</td>\n",
              "    </tr>\n",
              "    <tr>\n",
              "      <th>2</th>\n",
              "      <td>United Kingdom</td>\n",
              "      <td>1725645.0</td>\n",
              "    </tr>\n",
              "    <tr>\n",
              "      <th>3</th>\n",
              "      <td>Spain</td>\n",
              "      <td>1522336.0</td>\n",
              "    </tr>\n",
              "    <tr>\n",
              "      <th>4</th>\n",
              "      <td>Italy</td>\n",
              "      <td>696527.0</td>\n",
              "    </tr>\n",
              "    <tr>\n",
              "      <th>5</th>\n",
              "      <td>Belgium</td>\n",
              "      <td>582705.0</td>\n",
              "    </tr>\n",
              "    <tr>\n",
              "      <th>6</th>\n",
              "      <td>Netherlands</td>\n",
              "      <td>577837.0</td>\n",
              "    </tr>\n",
              "    <tr>\n",
              "      <th>7</th>\n",
              "      <td>Brazil</td>\n",
              "      <td>558815.0</td>\n",
              "    </tr>\n",
              "    <tr>\n",
              "      <th>8</th>\n",
              "      <td>Turkey</td>\n",
              "      <td>487422.0</td>\n",
              "    </tr>\n",
              "    <tr>\n",
              "      <th>9</th>\n",
              "      <td>Russia</td>\n",
              "      <td>486207.0</td>\n",
              "    </tr>\n",
              "  </tbody>\n",
              "</table>\n",
              "</div>"
            ],
            "text/plain": [
              "          Country  ActiveAcum\n",
              "0   United States   9333826.0\n",
              "1          France   2154251.0\n",
              "2  United Kingdom   1725645.0\n",
              "3           Spain   1522336.0\n",
              "4           Italy    696527.0\n",
              "5         Belgium    582705.0\n",
              "6     Netherlands    577837.0\n",
              "7          Brazil    558815.0\n",
              "8          Turkey    487422.0\n",
              "9          Russia    486207.0"
            ]
          },
          "metadata": {
            "tags": []
          },
          "execution_count": 94
        }
      ]
    },
    {
      "cell_type": "markdown",
      "metadata": {
        "id": "0TybT0p1OmEG"
      },
      "source": [
        "Which countries had the most active cases on the last day?"
      ]
    },
    {
      "cell_type": "code",
      "metadata": {
        "id": "h76bTP6rIavQ",
        "colab": {
          "base_uri": "https://localhost:8080/",
          "height": 363
        },
        "outputId": "3ff90bd4-5b66-4b23-9944-f27ce42800c0"
      },
      "source": [
        "last_day_data \\\r\n",
        "  .sort_values('Rank_Active', ascending = False) \\\r\n",
        "  .filter(['Country', 'Active']) \\\r\n",
        "  .reset_index(drop = True) \\\r\n",
        "  .head(10)"
      ],
      "execution_count": 95,
      "outputs": [
        {
          "output_type": "execute_result",
          "data": {
            "text/html": [
              "<div>\n",
              "<style scoped>\n",
              "    .dataframe tbody tr th:only-of-type {\n",
              "        vertical-align: middle;\n",
              "    }\n",
              "\n",
              "    .dataframe tbody tr th {\n",
              "        vertical-align: top;\n",
              "    }\n",
              "\n",
              "    .dataframe thead th {\n",
              "        text-align: right;\n",
              "    }\n",
              "</style>\n",
              "<table border=\"1\" class=\"dataframe\">\n",
              "  <thead>\n",
              "    <tr style=\"text-align: right;\">\n",
              "      <th></th>\n",
              "      <th>Country</th>\n",
              "      <th>Active</th>\n",
              "    </tr>\n",
              "  </thead>\n",
              "  <tbody>\n",
              "    <tr>\n",
              "      <th>0</th>\n",
              "      <td>United States</td>\n",
              "      <td>126533.0</td>\n",
              "    </tr>\n",
              "    <tr>\n",
              "      <th>1</th>\n",
              "      <td>Turkey</td>\n",
              "      <td>24972.0</td>\n",
              "    </tr>\n",
              "    <tr>\n",
              "      <th>2</th>\n",
              "      <td>United Kingdom</td>\n",
              "      <td>20541.0</td>\n",
              "    </tr>\n",
              "    <tr>\n",
              "      <th>3</th>\n",
              "      <td>France</td>\n",
              "      <td>12027.0</td>\n",
              "    </tr>\n",
              "    <tr>\n",
              "      <th>4</th>\n",
              "      <td>Germany</td>\n",
              "      <td>11489.0</td>\n",
              "    </tr>\n",
              "    <tr>\n",
              "      <th>5</th>\n",
              "      <td>Netherlands</td>\n",
              "      <td>8668.0</td>\n",
              "    </tr>\n",
              "    <tr>\n",
              "      <th>6</th>\n",
              "      <td>Sweden</td>\n",
              "      <td>7877.0</td>\n",
              "    </tr>\n",
              "    <tr>\n",
              "      <th>7</th>\n",
              "      <td>Spain</td>\n",
              "      <td>7630.0</td>\n",
              "    </tr>\n",
              "    <tr>\n",
              "      <th>8</th>\n",
              "      <td>Serbia</td>\n",
              "      <td>7337.0</td>\n",
              "    </tr>\n",
              "    <tr>\n",
              "      <th>9</th>\n",
              "      <td>South Africa</td>\n",
              "      <td>5980.0</td>\n",
              "    </tr>\n",
              "  </tbody>\n",
              "</table>\n",
              "</div>"
            ],
            "text/plain": [
              "          Country    Active\n",
              "0   United States  126533.0\n",
              "1          Turkey   24972.0\n",
              "2  United Kingdom   20541.0\n",
              "3          France   12027.0\n",
              "4         Germany   11489.0\n",
              "5     Netherlands    8668.0\n",
              "6          Sweden    7877.0\n",
              "7           Spain    7630.0\n",
              "8          Serbia    7337.0\n",
              "9    South Africa    5980.0"
            ]
          },
          "metadata": {
            "tags": []
          },
          "execution_count": 95
        }
      ]
    },
    {
      "cell_type": "markdown",
      "metadata": {
        "id": "g560FCcvOrm4"
      },
      "source": [
        "Which countries have the most active cases per million inhabitants?"
      ]
    },
    {
      "cell_type": "code",
      "metadata": {
        "id": "lycUSCknKvYW",
        "colab": {
          "base_uri": "https://localhost:8080/",
          "height": 677
        },
        "outputId": "e068b6af-bc9f-4b9b-b649-e64c4fdbaea0"
      },
      "source": [
        "last_day_data \\\r\n",
        "  .sort_values('Rank_ConfirmedAcum_Millon', ascending = False) \\\r\n",
        "  .filter(['Country', 'ConfirmedAcum_Millon']) \\\r\n",
        "  .reset_index(drop = True) \\\r\n",
        "  .head(20)"
      ],
      "execution_count": 96,
      "outputs": [
        {
          "output_type": "execute_result",
          "data": {
            "text/html": [
              "<div>\n",
              "<style scoped>\n",
              "    .dataframe tbody tr th:only-of-type {\n",
              "        vertical-align: middle;\n",
              "    }\n",
              "\n",
              "    .dataframe tbody tr th {\n",
              "        vertical-align: top;\n",
              "    }\n",
              "\n",
              "    .dataframe thead th {\n",
              "        text-align: right;\n",
              "    }\n",
              "</style>\n",
              "<table border=\"1\" class=\"dataframe\">\n",
              "  <thead>\n",
              "    <tr style=\"text-align: right;\">\n",
              "      <th></th>\n",
              "      <th>Country</th>\n",
              "      <th>ConfirmedAcum_Millon</th>\n",
              "    </tr>\n",
              "  </thead>\n",
              "  <tbody>\n",
              "    <tr>\n",
              "      <th>0</th>\n",
              "      <td>Andorra</td>\n",
              "      <td>93056.364460</td>\n",
              "    </tr>\n",
              "    <tr>\n",
              "      <th>1</th>\n",
              "      <td>Luxembourg</td>\n",
              "      <td>63959.116774</td>\n",
              "    </tr>\n",
              "    <tr>\n",
              "      <th>2</th>\n",
              "      <td>Montenegro</td>\n",
              "      <td>63950.285480</td>\n",
              "    </tr>\n",
              "    <tr>\n",
              "      <th>3</th>\n",
              "      <td>San Marino</td>\n",
              "      <td>55052.901477</td>\n",
              "    </tr>\n",
              "    <tr>\n",
              "      <th>4</th>\n",
              "      <td>Czech Republic (Czechia)</td>\n",
              "      <td>52603.791154</td>\n",
              "    </tr>\n",
              "    <tr>\n",
              "      <th>5</th>\n",
              "      <td>Bahrain</td>\n",
              "      <td>52088.212391</td>\n",
              "    </tr>\n",
              "    <tr>\n",
              "      <th>6</th>\n",
              "      <td>Belgium</td>\n",
              "      <td>51804.704950</td>\n",
              "    </tr>\n",
              "    <tr>\n",
              "      <th>7</th>\n",
              "      <td>Armenia</td>\n",
              "      <td>49013.867577</td>\n",
              "    </tr>\n",
              "    <tr>\n",
              "      <th>8</th>\n",
              "      <td>Qatar</td>\n",
              "      <td>48772.445352</td>\n",
              "    </tr>\n",
              "    <tr>\n",
              "      <th>9</th>\n",
              "      <td>United States</td>\n",
              "      <td>47162.806560</td>\n",
              "    </tr>\n",
              "    <tr>\n",
              "      <th>10</th>\n",
              "      <td>Georgia</td>\n",
              "      <td>44859.741395</td>\n",
              "    </tr>\n",
              "    <tr>\n",
              "      <th>11</th>\n",
              "      <td>Slovenia</td>\n",
              "      <td>44215.844821</td>\n",
              "    </tr>\n",
              "    <tr>\n",
              "      <th>12</th>\n",
              "      <td>Panama</td>\n",
              "      <td>42974.278797</td>\n",
              "    </tr>\n",
              "    <tr>\n",
              "      <th>13</th>\n",
              "      <td>Switzerland</td>\n",
              "      <td>42600.936240</td>\n",
              "    </tr>\n",
              "    <tr>\n",
              "      <th>14</th>\n",
              "      <td>Israel</td>\n",
              "      <td>40713.485648</td>\n",
              "    </tr>\n",
              "    <tr>\n",
              "      <th>15</th>\n",
              "      <td>Croatia</td>\n",
              "      <td>39946.731845</td>\n",
              "    </tr>\n",
              "    <tr>\n",
              "      <th>16</th>\n",
              "      <td>Liechtenstein</td>\n",
              "      <td>37793.747377</td>\n",
              "    </tr>\n",
              "    <tr>\n",
              "      <th>17</th>\n",
              "      <td>Spain</td>\n",
              "      <td>36788.881769</td>\n",
              "    </tr>\n",
              "    <tr>\n",
              "      <th>18</th>\n",
              "      <td>France</td>\n",
              "      <td>36640.330256</td>\n",
              "    </tr>\n",
              "    <tr>\n",
              "      <th>19</th>\n",
              "      <td>Austria</td>\n",
              "      <td>34829.462344</td>\n",
              "    </tr>\n",
              "  </tbody>\n",
              "</table>\n",
              "</div>"
            ],
            "text/plain": [
              "                     Country  ConfirmedAcum_Millon\n",
              "0                    Andorra          93056.364460\n",
              "1                 Luxembourg          63959.116774\n",
              "2                 Montenegro          63950.285480\n",
              "3                 San Marino          55052.901477\n",
              "4   Czech Republic (Czechia)          52603.791154\n",
              "5                    Bahrain          52088.212391\n",
              "6                    Belgium          51804.704950\n",
              "7                    Armenia          49013.867577\n",
              "8                      Qatar          48772.445352\n",
              "9              United States          47162.806560\n",
              "10                   Georgia          44859.741395\n",
              "11                  Slovenia          44215.844821\n",
              "12                    Panama          42974.278797\n",
              "13               Switzerland          42600.936240\n",
              "14                    Israel          40713.485648\n",
              "15                   Croatia          39946.731845\n",
              "16             Liechtenstein          37793.747377\n",
              "17                     Spain          36788.881769\n",
              "18                    France          36640.330256\n",
              "19                   Austria          34829.462344"
            ]
          },
          "metadata": {
            "tags": []
          },
          "execution_count": 96
        }
      ]
    },
    {
      "cell_type": "markdown",
      "metadata": {
        "id": "6P2fEQV6NAtA"
      },
      "source": [
        "What is the total number of cases?"
      ]
    },
    {
      "cell_type": "code",
      "metadata": {
        "id": "alM4NqMRLoYG",
        "colab": {
          "base_uri": "https://localhost:8080/",
          "height": 143
        },
        "outputId": "1cf3a14d-2f09-4e2d-a572-26d088fa93de"
      },
      "source": [
        "import locale\n",
        "locale.setlocale(locale.LC_ALL, '')\n",
        "\n",
        "total_cases = last_day_data[[\"ConfirmedAcum\", \"RecoveredAcum\", \"DeathsAcum\"]] \\\n",
        "        .aggregate(\"sum\")\\\n",
        "        .apply(lambda value : locale.format(\"%d\", value, grouping=True))\n",
        "\n",
        "total = pd.DataFrame(total_cases, columns= [\"Total Cases\"])\n",
        "total.index = ['Confirmed', 'Recovered', 'Deaths']\n",
        "total"
      ],
      "execution_count": 120,
      "outputs": [
        {
          "output_type": "execute_result",
          "data": {
            "text/html": [
              "<div>\n",
              "<style scoped>\n",
              "    .dataframe tbody tr th:only-of-type {\n",
              "        vertical-align: middle;\n",
              "    }\n",
              "\n",
              "    .dataframe tbody tr th {\n",
              "        vertical-align: top;\n",
              "    }\n",
              "\n",
              "    .dataframe thead th {\n",
              "        text-align: right;\n",
              "    }\n",
              "</style>\n",
              "<table border=\"1\" class=\"dataframe\">\n",
              "  <thead>\n",
              "    <tr style=\"text-align: right;\">\n",
              "      <th></th>\n",
              "      <th>Total Cases</th>\n",
              "    </tr>\n",
              "  </thead>\n",
              "  <tbody>\n",
              "    <tr>\n",
              "      <th>Confirmed</th>\n",
              "      <td>69,592,554</td>\n",
              "    </tr>\n",
              "    <tr>\n",
              "      <th>Recovered</th>\n",
              "      <td>44,871,360</td>\n",
              "    </tr>\n",
              "    <tr>\n",
              "      <th>Deaths</th>\n",
              "      <td>1,581,856</td>\n",
              "    </tr>\n",
              "  </tbody>\n",
              "</table>\n",
              "</div>"
            ],
            "text/plain": [
              "          Total Cases\n",
              "Confirmed  69,592,554\n",
              "Recovered  44,871,360\n",
              "Deaths      1,581,856"
            ]
          },
          "metadata": {
            "tags": []
          },
          "execution_count": 120
        }
      ]
    },
    {
      "cell_type": "markdown",
      "metadata": {
        "id": "avu2mpN0I0G5"
      },
      "source": [
        "## Saving the clean dataset"
      ]
    },
    {
      "cell_type": "markdown",
      "metadata": {
        "id": "CtsWStYjPJfB"
      },
      "source": [
        "Finally I will create an Excel file with the information per country once it is clean and in perfect condition to apply some machine learning algorithms ..."
      ]
    },
    {
      "cell_type": "code",
      "metadata": {
        "id": "Dba5dgwrl9Hq"
      },
      "source": [
        "data_by_country.to_excel(\"All_data.xlsx\", index = False)"
      ],
      "execution_count": 121,
      "outputs": []
    },
    {
      "cell_type": "markdown",
      "metadata": {
        "id": "ZJfrwxxqBw0E"
      },
      "source": [
        "## Convert to PDF"
      ]
    },
    {
      "cell_type": "markdown",
      "metadata": {
        "id": "KmnVL-1hQgGI"
      },
      "source": [
        "[Google Colab](https://colab.research.google.com) does not have a 'export to PDF' feature so let's install the packages needed to export this notebook to pdf manually."
      ]
    },
    {
      "cell_type": "markdown",
      "metadata": {
        "id": "BGnOuy6yZM_w"
      },
      "source": [
        "```\n",
        "!apt-get install texlive texlive-xetex texlive-latex-extra pandoc\n",
        "!pip install pypandoc\n",
        "```"
      ]
    },
    {
      "cell_type": "markdown",
      "metadata": {
        "id": "kbI8rID3Q_go"
      },
      "source": [
        "\n",
        "Now let's mount our 'google drive' unit into this notebook so we can access to it.\n",
        "\n"
      ]
    },
    {
      "cell_type": "markdown",
      "metadata": {
        "id": "AT-CcNDnZQgY"
      },
      "source": [
        "``` \n",
        "from google.colab import drive\n",
        "drive.mount('/content/drive')\n",
        "```"
      ]
    },
    {
      "cell_type": "markdown",
      "metadata": {
        "id": "cr0aRjrURRBW"
      },
      "source": [
        "Let's list the notebooks in 'Google Drive' to check that everything is fine and copy it to the local directory"
      ]
    },
    {
      "cell_type": "markdown",
      "metadata": {
        "id": "-mewsE2IZ7G5"
      },
      "source": [
        "```\n",
        "ls -la \"./drive/My Drive/Colab Notebooks/\"\n",
        "```"
      ]
    },
    {
      "cell_type": "markdown",
      "metadata": {
        "id": "RbYuMo3RaNEJ"
      },
      "source": [
        "```\n",
        "!cp \"./drive/My Drive/Colab Notebooks/Covid-19.ipynb\" .\n",
        "```"
      ]
    },
    {
      "cell_type": "markdown",
      "metadata": {
        "id": "EksU7CpiRtcJ"
      },
      "source": [
        "The last step is generate a PDF from this notebook :-)"
      ]
    },
    {
      "cell_type": "markdown",
      "metadata": {
        "id": "aeL4AzONbcF6"
      },
      "source": [
        "```\n",
        "!jupyter nbconvert --to PDF \"Covid-19.ipynb\"\n",
        "````"
      ]
    },
    {
      "cell_type": "markdown",
      "metadata": {
        "id": "EwKZmiVFBJlI"
      },
      "source": [
        "Other Option ..."
      ]
    },
    {
      "cell_type": "code",
      "metadata": {
        "colab": {
          "base_uri": "https://localhost:8080/",
          "height": 623
        },
        "id": "mx9zEJn5_uob",
        "outputId": "8bb13117-23dd-4860-f5bf-b01678e56777"
      },
      "source": [
        "!wget -nc https://raw.githubusercontent.com/brpy/colab-pdf/master/colab_pdf.py\n",
        "from colab_pdf import colab_pdf\n",
        "colab_pdf('Covid-19.ipynb')"
      ],
      "execution_count": null,
      "outputs": [
        {
          "output_type": "stream",
          "text": [
            "File ‘colab_pdf.py’ already there; not retrieving.\n",
            "\n",
            "Hit:1 https://cloud.r-project.org/bin/linux/ubuntu bionic-cran40/ InRelease\n",
            "Ign:2 https://developer.download.nvidia.com/compute/cuda/repos/ubuntu1804/x86_64  InRelease\n",
            "Ign:3 https://developer.download.nvidia.com/compute/machine-learning/repos/ubuntu1804/x86_64  InRelease\n",
            "Hit:4 https://developer.download.nvidia.com/compute/cuda/repos/ubuntu1804/x86_64  Release\n",
            "Hit:5 https://developer.download.nvidia.com/compute/machine-learning/repos/ubuntu1804/x86_64  Release\n",
            "Hit:6 http://ppa.launchpad.net/c2d4u.team/c2d4u4.0+/ubuntu bionic InRelease\n",
            "Hit:8 http://security.ubuntu.com/ubuntu bionic-security InRelease\n",
            "Hit:9 http://archive.ubuntu.com/ubuntu bionic InRelease\n",
            "Hit:11 http://ppa.launchpad.net/graphics-drivers/ppa/ubuntu bionic InRelease\n",
            "Hit:12 http://archive.ubuntu.com/ubuntu bionic-updates InRelease\n",
            "Hit:13 http://archive.ubuntu.com/ubuntu bionic-backports InRelease\n",
            "Reading package lists... Done\n",
            "Building dependency tree       \n",
            "Reading state information... Done\n",
            "16 packages can be upgraded. Run 'apt list --upgradable' to see them.\n",
            "Reading package lists... Done\n",
            "Building dependency tree       \n",
            "Reading state information... Done\n",
            "texlive-fonts-recommended is already the newest version (2017.20180305-1).\n",
            "texlive-generic-recommended is already the newest version (2017.20180305-1).\n",
            "texlive-xetex is already the newest version (2017.20180305-1).\n",
            "0 upgraded, 0 newly installed, 0 to remove and 16 not upgraded.\n",
            "[NbConvertApp] Converting notebook /content/drive/My Drive/Colab Notebooks/Covid-19.ipynb to pdf\n",
            "[NbConvertApp] Writing 108793 bytes to ./notebook.tex\n",
            "[NbConvertApp] Building PDF\n",
            "[NbConvertApp] Running xelatex 3 times: [u'xelatex', u'./notebook.tex', '-quiet']\n",
            "[NbConvertApp] Running bibtex 1 time: [u'bibtex', u'./notebook']\n",
            "[NbConvertApp] WARNING | bibtex had problems, most likely because there were no citations\n",
            "[NbConvertApp] PDF successfully created\n",
            "[NbConvertApp] Writing 77498 bytes to /content/drive/My Drive/Covid-19.pdf\n"
          ],
          "name": "stdout"
        },
        {
          "output_type": "display_data",
          "data": {
            "application/javascript": [
              "\n",
              "    async function download(id, filename, size) {\n",
              "      if (!google.colab.kernel.accessAllowed) {\n",
              "        return;\n",
              "      }\n",
              "      const div = document.createElement('div');\n",
              "      const label = document.createElement('label');\n",
              "      label.textContent = `Downloading \"${filename}\": `;\n",
              "      div.appendChild(label);\n",
              "      const progress = document.createElement('progress');\n",
              "      progress.max = size;\n",
              "      div.appendChild(progress);\n",
              "      document.body.appendChild(div);\n",
              "\n",
              "      const buffers = [];\n",
              "      let downloaded = 0;\n",
              "\n",
              "      const channel = await google.colab.kernel.comms.open(id);\n",
              "      // Send a message to notify the kernel that we're ready.\n",
              "      channel.send({})\n",
              "\n",
              "      for await (const message of channel.messages) {\n",
              "        // Send a message to notify the kernel that we're ready.\n",
              "        channel.send({})\n",
              "        if (message.buffers) {\n",
              "          for (const buffer of message.buffers) {\n",
              "            buffers.push(buffer);\n",
              "            downloaded += buffer.byteLength;\n",
              "            progress.value = downloaded;\n",
              "          }\n",
              "        }\n",
              "      }\n",
              "      const blob = new Blob(buffers, {type: 'application/binary'});\n",
              "      const a = document.createElement('a');\n",
              "      a.href = window.URL.createObjectURL(blob);\n",
              "      a.download = filename;\n",
              "      div.appendChild(a);\n",
              "      a.click();\n",
              "      div.remove();\n",
              "    }\n",
              "  "
            ],
            "text/plain": [
              "<IPython.core.display.Javascript object>"
            ]
          },
          "metadata": {
            "tags": []
          }
        },
        {
          "output_type": "display_data",
          "data": {
            "application/javascript": [
              "download(\"download_63e1253f-4dc2-4a2f-913c-915a2f51cc32\", \"Covid-19.pdf\", 77498)"
            ],
            "text/plain": [
              "<IPython.core.display.Javascript object>"
            ]
          },
          "metadata": {
            "tags": []
          }
        },
        {
          "output_type": "execute_result",
          "data": {
            "application/vnd.google.colaboratory.intrinsic+json": {
              "type": "string"
            },
            "text/plain": [
              "'File ready to be Downloaded and Saved to Drive'"
            ]
          },
          "metadata": {
            "tags": []
          },
          "execution_count": 52
        }
      ]
    },
    {
      "cell_type": "code",
      "metadata": {
        "id": "o-JPBKb3AUUk"
      },
      "source": [
        ""
      ],
      "execution_count": null,
      "outputs": []
    }
  ]
}