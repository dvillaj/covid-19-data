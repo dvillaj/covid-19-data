{
  "nbformat": 4,
  "nbformat_minor": 0,
  "metadata": {
    "colab": {
      "name": "Covid-19",
      "provenance": [],
      "collapsed_sections": [],
      "toc_visible": true
    },
    "kernelspec": {
      "name": "python3",
      "display_name": "Python 3"
    }
  },
  "cells": [
    {
      "cell_type": "markdown",
      "metadata": {
        "id": "aXl3EuBPcUwQ"
      },
      "source": [
        "# Pandas and Covid-19"
      ]
    },
    {
      "cell_type": "markdown",
      "metadata": {
        "id": "u1D4tS_27Hvp"
      },
      "source": [
        "This notebook is an example of data analysis and manipulation with **Pandas** and has beed created in [Google Colab](https://colab.research.google.com)\n",
        "\n",
        "Enjoy it!"
      ]
    },
    {
      "cell_type": "code",
      "metadata": {
        "id": "Ak8L8x7IcWYq"
      },
      "source": [
        "import numpy as np\n",
        "import pandas as pd"
      ],
      "execution_count": 2,
      "outputs": []
    },
    {
      "cell_type": "markdown",
      "metadata": {
        "id": "xwUVHjYncbDi"
      },
      "source": [
        "## The Data\n",
        "\n",
        "To get some data I and going to download it from Data Repository by Johns Hopkins CSSE\n",
        "\n",
        "https://github.com/CSSEGISandData/COVID-19"
      ]
    },
    {
      "cell_type": "markdown",
      "metadata": {
        "id": "d4xNQXcnyseg"
      },
      "source": [
        "I first remove the folder where I am goint to store the data so I can re-execute this sentences without any problems ..."
      ]
    },
    {
      "cell_type": "code",
      "metadata": {
        "id": "A08RQDq5gWAH"
      },
      "source": [
        "!rm -rf ./COVID-19"
      ],
      "execution_count": 3,
      "outputs": []
    },
    {
      "cell_type": "markdown",
      "metadata": {
        "id": "kopIho38y-6Y"
      },
      "source": [
        "The dataset is avaible in GitHub so I use the `git` command to get it"
      ]
    },
    {
      "cell_type": "code",
      "metadata": {
        "id": "hZeguxIvckRR",
        "colab": {
          "base_uri": "https://localhost:8080/"
        },
        "outputId": "95903464-c03d-4f4e-b483-3d285b66a5af"
      },
      "source": [
        "!git clone https://github.com/CSSEGISandData/COVID-19.git"
      ],
      "execution_count": 4,
      "outputs": [
        {
          "output_type": "stream",
          "text": [
            "Cloning into 'COVID-19'...\n",
            "remote: Enumerating objects: 12, done.\u001b[K\n",
            "remote: Counting objects: 100% (12/12), done.\u001b[K\n",
            "remote: Compressing objects: 100% (8/8), done.\u001b[K\n",
            "remote: Total 72227 (delta 4), reused 9 (delta 4), pack-reused 72215\u001b[K\n",
            "Receiving objects: 100% (72227/72227), 602.99 MiB | 32.08 MiB/s, done.\n",
            "Resolving deltas: 100% (47504/47504), done.\n",
            "Checking out files: 100% (788/788), done.\n"
          ],
          "name": "stdout"
        }
      ]
    },
    {
      "cell_type": "markdown",
      "metadata": {
        "id": "2SWMmbQedx8n"
      },
      "source": [
        "More than 600 Mb of data ..."
      ]
    },
    {
      "cell_type": "markdown",
      "metadata": {
        "id": "HGm4qwtpOicp"
      },
      "source": [
        "## Exporing the data\n"
      ]
    },
    {
      "cell_type": "code",
      "metadata": {
        "id": "ecwwk7FHcu1T",
        "colab": {
          "base_uri": "https://localhost:8080/"
        },
        "outputId": "885a4671-371e-4504-b03b-1e54ed7f667a"
      },
      "source": [
        "!ls -lt ./COVID-19/csse_covid_19_data/csse_covid_19_daily_reports | head"
      ],
      "execution_count": 7,
      "outputs": [
        {
          "output_type": "stream",
          "text": [
            "total 122836\n",
            "-rw-r--r-- 1 root root 564157 Dec  7 18:29 12-06-2020.csv\n",
            "-rw-r--r-- 1 root root      0 Dec  7 18:29 README.md\n",
            "-rw-r--r-- 1 root root 563864 Dec  7 18:29 12-05-2020.csv\n",
            "-rw-r--r-- 1 root root 563736 Dec  7 18:29 12-04-2020.csv\n",
            "-rw-r--r-- 1 root root 563734 Dec  7 18:29 12-03-2020.csv\n",
            "-rw-r--r-- 1 root root 563593 Dec  7 18:29 12-02-2020.csv\n",
            "-rw-r--r-- 1 root root 562961 Dec  7 18:29 12-01-2020.csv\n",
            "-rw-r--r-- 1 root root 562859 Dec  7 18:29 11-30-2020.csv\n",
            "-rw-r--r-- 1 root root 563046 Dec  7 18:29 11-29-2020.csv\n"
          ],
          "name": "stdout"
        }
      ]
    },
    {
      "cell_type": "markdown",
      "metadata": {
        "id": "bT58_j-syjxN"
      },
      "source": [
        "Yes!!!  \n",
        "We have data files ..."
      ]
    },
    {
      "cell_type": "markdown",
      "metadata": {
        "id": "-5p6k2r3ySM8"
      },
      "source": [
        "Perfect. Let's explore the first dataset generated ..."
      ]
    },
    {
      "cell_type": "code",
      "metadata": {
        "id": "SmcipMo7d0Y6"
      },
      "source": [
        "first = pd.read_csv(\"./COVID-19/csse_covid_19_data/csse_covid_19_daily_reports/01-22-2020.csv\")"
      ],
      "execution_count": 8,
      "outputs": []
    },
    {
      "cell_type": "code",
      "metadata": {
        "id": "5KWgFLIJesbq",
        "colab": {
          "base_uri": "https://localhost:8080/",
          "height": 206
        },
        "outputId": "550d86e2-8d1e-4ac0-e660-af6189ba34b6"
      },
      "source": [
        "first.head()"
      ],
      "execution_count": 9,
      "outputs": [
        {
          "output_type": "execute_result",
          "data": {
            "text/html": [
              "<div>\n",
              "<style scoped>\n",
              "    .dataframe tbody tr th:only-of-type {\n",
              "        vertical-align: middle;\n",
              "    }\n",
              "\n",
              "    .dataframe tbody tr th {\n",
              "        vertical-align: top;\n",
              "    }\n",
              "\n",
              "    .dataframe thead th {\n",
              "        text-align: right;\n",
              "    }\n",
              "</style>\n",
              "<table border=\"1\" class=\"dataframe\">\n",
              "  <thead>\n",
              "    <tr style=\"text-align: right;\">\n",
              "      <th></th>\n",
              "      <th>Province/State</th>\n",
              "      <th>Country/Region</th>\n",
              "      <th>Last Update</th>\n",
              "      <th>Confirmed</th>\n",
              "      <th>Deaths</th>\n",
              "      <th>Recovered</th>\n",
              "    </tr>\n",
              "  </thead>\n",
              "  <tbody>\n",
              "    <tr>\n",
              "      <th>0</th>\n",
              "      <td>Anhui</td>\n",
              "      <td>Mainland China</td>\n",
              "      <td>1/22/2020 17:00</td>\n",
              "      <td>1.0</td>\n",
              "      <td>NaN</td>\n",
              "      <td>NaN</td>\n",
              "    </tr>\n",
              "    <tr>\n",
              "      <th>1</th>\n",
              "      <td>Beijing</td>\n",
              "      <td>Mainland China</td>\n",
              "      <td>1/22/2020 17:00</td>\n",
              "      <td>14.0</td>\n",
              "      <td>NaN</td>\n",
              "      <td>NaN</td>\n",
              "    </tr>\n",
              "    <tr>\n",
              "      <th>2</th>\n",
              "      <td>Chongqing</td>\n",
              "      <td>Mainland China</td>\n",
              "      <td>1/22/2020 17:00</td>\n",
              "      <td>6.0</td>\n",
              "      <td>NaN</td>\n",
              "      <td>NaN</td>\n",
              "    </tr>\n",
              "    <tr>\n",
              "      <th>3</th>\n",
              "      <td>Fujian</td>\n",
              "      <td>Mainland China</td>\n",
              "      <td>1/22/2020 17:00</td>\n",
              "      <td>1.0</td>\n",
              "      <td>NaN</td>\n",
              "      <td>NaN</td>\n",
              "    </tr>\n",
              "    <tr>\n",
              "      <th>4</th>\n",
              "      <td>Gansu</td>\n",
              "      <td>Mainland China</td>\n",
              "      <td>1/22/2020 17:00</td>\n",
              "      <td>NaN</td>\n",
              "      <td>NaN</td>\n",
              "      <td>NaN</td>\n",
              "    </tr>\n",
              "  </tbody>\n",
              "</table>\n",
              "</div>"
            ],
            "text/plain": [
              "  Province/State  Country/Region      Last Update  Confirmed  Deaths  Recovered\n",
              "0          Anhui  Mainland China  1/22/2020 17:00        1.0     NaN        NaN\n",
              "1        Beijing  Mainland China  1/22/2020 17:00       14.0     NaN        NaN\n",
              "2      Chongqing  Mainland China  1/22/2020 17:00        6.0     NaN        NaN\n",
              "3         Fujian  Mainland China  1/22/2020 17:00        1.0     NaN        NaN\n",
              "4          Gansu  Mainland China  1/22/2020 17:00        NaN     NaN        NaN"
            ]
          },
          "metadata": {
            "tags": []
          },
          "execution_count": 9
        }
      ]
    },
    {
      "cell_type": "markdown",
      "metadata": {
        "id": "XrJfIWFWyXcX"
      },
      "source": [
        "And one of the last ones ..."
      ]
    },
    {
      "cell_type": "code",
      "metadata": {
        "id": "5FjlQ7HneuYR"
      },
      "source": [
        "last = pd.read_csv(\"./COVID-19/csse_covid_19_data/csse_covid_19_daily_reports/12-06-2020.csv\")"
      ],
      "execution_count": 10,
      "outputs": []
    },
    {
      "cell_type": "code",
      "metadata": {
        "id": "E3TYyKhoe_Yz",
        "colab": {
          "base_uri": "https://localhost:8080/",
          "height": 206
        },
        "outputId": "9c3482b6-9b39-4ea6-c472-f5e8c3b7df18"
      },
      "source": [
        "last.head()"
      ],
      "execution_count": 11,
      "outputs": [
        {
          "output_type": "execute_result",
          "data": {
            "text/html": [
              "<div>\n",
              "<style scoped>\n",
              "    .dataframe tbody tr th:only-of-type {\n",
              "        vertical-align: middle;\n",
              "    }\n",
              "\n",
              "    .dataframe tbody tr th {\n",
              "        vertical-align: top;\n",
              "    }\n",
              "\n",
              "    .dataframe thead th {\n",
              "        text-align: right;\n",
              "    }\n",
              "</style>\n",
              "<table border=\"1\" class=\"dataframe\">\n",
              "  <thead>\n",
              "    <tr style=\"text-align: right;\">\n",
              "      <th></th>\n",
              "      <th>FIPS</th>\n",
              "      <th>Admin2</th>\n",
              "      <th>Province_State</th>\n",
              "      <th>Country_Region</th>\n",
              "      <th>Last_Update</th>\n",
              "      <th>Lat</th>\n",
              "      <th>Long_</th>\n",
              "      <th>Confirmed</th>\n",
              "      <th>Deaths</th>\n",
              "      <th>Recovered</th>\n",
              "      <th>Active</th>\n",
              "      <th>Combined_Key</th>\n",
              "      <th>Incident_Rate</th>\n",
              "      <th>Case_Fatality_Ratio</th>\n",
              "    </tr>\n",
              "  </thead>\n",
              "  <tbody>\n",
              "    <tr>\n",
              "      <th>0</th>\n",
              "      <td>NaN</td>\n",
              "      <td>NaN</td>\n",
              "      <td>NaN</td>\n",
              "      <td>Afghanistan</td>\n",
              "      <td>2020-12-07 05:26:14</td>\n",
              "      <td>33.93911</td>\n",
              "      <td>67.709953</td>\n",
              "      <td>47306</td>\n",
              "      <td>1874</td>\n",
              "      <td>37685</td>\n",
              "      <td>7747.0</td>\n",
              "      <td>Afghanistan</td>\n",
              "      <td>121.520719</td>\n",
              "      <td>3.961443</td>\n",
              "    </tr>\n",
              "    <tr>\n",
              "      <th>1</th>\n",
              "      <td>NaN</td>\n",
              "      <td>NaN</td>\n",
              "      <td>NaN</td>\n",
              "      <td>Albania</td>\n",
              "      <td>2020-12-07 05:26:14</td>\n",
              "      <td>41.15330</td>\n",
              "      <td>20.168300</td>\n",
              "      <td>42988</td>\n",
              "      <td>905</td>\n",
              "      <td>21617</td>\n",
              "      <td>20466.0</td>\n",
              "      <td>Albania</td>\n",
              "      <td>1493.779971</td>\n",
              "      <td>2.105239</td>\n",
              "    </tr>\n",
              "    <tr>\n",
              "      <th>2</th>\n",
              "      <td>NaN</td>\n",
              "      <td>NaN</td>\n",
              "      <td>NaN</td>\n",
              "      <td>Algeria</td>\n",
              "      <td>2020-12-07 05:26:14</td>\n",
              "      <td>28.03390</td>\n",
              "      <td>1.659600</td>\n",
              "      <td>88252</td>\n",
              "      <td>2516</td>\n",
              "      <td>57146</td>\n",
              "      <td>28590.0</td>\n",
              "      <td>Algeria</td>\n",
              "      <td>201.254050</td>\n",
              "      <td>2.850927</td>\n",
              "    </tr>\n",
              "    <tr>\n",
              "      <th>3</th>\n",
              "      <td>NaN</td>\n",
              "      <td>NaN</td>\n",
              "      <td>NaN</td>\n",
              "      <td>Andorra</td>\n",
              "      <td>2020-12-07 05:26:14</td>\n",
              "      <td>42.50630</td>\n",
              "      <td>1.521800</td>\n",
              "      <td>7050</td>\n",
              "      <td>78</td>\n",
              "      <td>6238</td>\n",
              "      <td>734.0</td>\n",
              "      <td>Andorra</td>\n",
              "      <td>9124.441856</td>\n",
              "      <td>1.106383</td>\n",
              "    </tr>\n",
              "    <tr>\n",
              "      <th>4</th>\n",
              "      <td>NaN</td>\n",
              "      <td>NaN</td>\n",
              "      <td>NaN</td>\n",
              "      <td>Angola</td>\n",
              "      <td>2020-12-07 05:26:14</td>\n",
              "      <td>-11.20270</td>\n",
              "      <td>17.873900</td>\n",
              "      <td>15591</td>\n",
              "      <td>354</td>\n",
              "      <td>8338</td>\n",
              "      <td>6899.0</td>\n",
              "      <td>Angola</td>\n",
              "      <td>47.437695</td>\n",
              "      <td>2.270541</td>\n",
              "    </tr>\n",
              "  </tbody>\n",
              "</table>\n",
              "</div>"
            ],
            "text/plain": [
              "   FIPS Admin2 Province_State  ... Combined_Key Incident_Rate  Case_Fatality_Ratio\n",
              "0   NaN    NaN            NaN  ...  Afghanistan    121.520719             3.961443\n",
              "1   NaN    NaN            NaN  ...      Albania   1493.779971             2.105239\n",
              "2   NaN    NaN            NaN  ...      Algeria    201.254050             2.850927\n",
              "3   NaN    NaN            NaN  ...      Andorra   9124.441856             1.106383\n",
              "4   NaN    NaN            NaN  ...       Angola     47.437695             2.270541\n",
              "\n",
              "[5 rows x 14 columns]"
            ]
          },
          "metadata": {
            "tags": []
          },
          "execution_count": 11
        }
      ]
    },
    {
      "cell_type": "markdown",
      "metadata": {
        "id": "3BwR-LBfycpM"
      },
      "source": [
        "Can I concatenate both datasets?"
      ]
    },
    {
      "cell_type": "code",
      "metadata": {
        "id": "WkKG-beB4jHf",
        "colab": {
          "base_uri": "https://localhost:8080/",
          "height": 677
        },
        "outputId": "0c847ddc-3728-4525-ec7b-964411305758"
      },
      "source": [
        "last.query(\"Country_Region == 'Spain'\")"
      ],
      "execution_count": 12,
      "outputs": [
        {
          "output_type": "execute_result",
          "data": {
            "text/html": [
              "<div>\n",
              "<style scoped>\n",
              "    .dataframe tbody tr th:only-of-type {\n",
              "        vertical-align: middle;\n",
              "    }\n",
              "\n",
              "    .dataframe tbody tr th {\n",
              "        vertical-align: top;\n",
              "    }\n",
              "\n",
              "    .dataframe thead th {\n",
              "        text-align: right;\n",
              "    }\n",
              "</style>\n",
              "<table border=\"1\" class=\"dataframe\">\n",
              "  <thead>\n",
              "    <tr style=\"text-align: right;\">\n",
              "      <th></th>\n",
              "      <th>FIPS</th>\n",
              "      <th>Admin2</th>\n",
              "      <th>Province_State</th>\n",
              "      <th>Country_Region</th>\n",
              "      <th>Last_Update</th>\n",
              "      <th>Lat</th>\n",
              "      <th>Long_</th>\n",
              "      <th>Confirmed</th>\n",
              "      <th>Deaths</th>\n",
              "      <th>Recovered</th>\n",
              "      <th>Active</th>\n",
              "      <th>Combined_Key</th>\n",
              "      <th>Incident_Rate</th>\n",
              "      <th>Case_Fatality_Ratio</th>\n",
              "    </tr>\n",
              "  </thead>\n",
              "  <tbody>\n",
              "    <tr>\n",
              "      <th>593</th>\n",
              "      <td>NaN</td>\n",
              "      <td>NaN</td>\n",
              "      <td>Andalusia</td>\n",
              "      <td>Spain</td>\n",
              "      <td>2020-12-07 05:26:14</td>\n",
              "      <td>37.544300</td>\n",
              "      <td>-4.727800</td>\n",
              "      <td>238783</td>\n",
              "      <td>4296</td>\n",
              "      <td>10671</td>\n",
              "      <td>223816.0</td>\n",
              "      <td>Andalusia, Spain</td>\n",
              "      <td>2833.410759</td>\n",
              "      <td>1.799123</td>\n",
              "    </tr>\n",
              "    <tr>\n",
              "      <th>594</th>\n",
              "      <td>NaN</td>\n",
              "      <td>NaN</td>\n",
              "      <td>Aragon</td>\n",
              "      <td>Spain</td>\n",
              "      <td>2020-12-07 05:26:14</td>\n",
              "      <td>41.597600</td>\n",
              "      <td>-0.905700</td>\n",
              "      <td>74534</td>\n",
              "      <td>2360</td>\n",
              "      <td>3772</td>\n",
              "      <td>68402.0</td>\n",
              "      <td>Aragon, Spain</td>\n",
              "      <td>5644.009553</td>\n",
              "      <td>3.166340</td>\n",
              "    </tr>\n",
              "    <tr>\n",
              "      <th>595</th>\n",
              "      <td>NaN</td>\n",
              "      <td>NaN</td>\n",
              "      <td>Asturias</td>\n",
              "      <td>Spain</td>\n",
              "      <td>2020-12-07 05:26:14</td>\n",
              "      <td>43.361400</td>\n",
              "      <td>-5.859300</td>\n",
              "      <td>24175</td>\n",
              "      <td>1073</td>\n",
              "      <td>1063</td>\n",
              "      <td>22039.0</td>\n",
              "      <td>Asturias, Spain</td>\n",
              "      <td>2364.985497</td>\n",
              "      <td>4.438469</td>\n",
              "    </tr>\n",
              "    <tr>\n",
              "      <th>596</th>\n",
              "      <td>NaN</td>\n",
              "      <td>NaN</td>\n",
              "      <td>Baleares</td>\n",
              "      <td>Spain</td>\n",
              "      <td>2020-12-07 05:26:14</td>\n",
              "      <td>39.710358</td>\n",
              "      <td>2.995148</td>\n",
              "      <td>25288</td>\n",
              "      <td>425</td>\n",
              "      <td>1533</td>\n",
              "      <td>23330.0</td>\n",
              "      <td>Baleares, Spain</td>\n",
              "      <td>2128.225413</td>\n",
              "      <td>1.680639</td>\n",
              "    </tr>\n",
              "    <tr>\n",
              "      <th>597</th>\n",
              "      <td>NaN</td>\n",
              "      <td>NaN</td>\n",
              "      <td>C. Valenciana</td>\n",
              "      <td>Spain</td>\n",
              "      <td>2020-12-07 05:26:14</td>\n",
              "      <td>39.484000</td>\n",
              "      <td>-0.753300</td>\n",
              "      <td>108586</td>\n",
              "      <td>2444</td>\n",
              "      <td>9970</td>\n",
              "      <td>96172.0</td>\n",
              "      <td>C. Valenciana, Spain</td>\n",
              "      <td>2182.646766</td>\n",
              "      <td>2.250751</td>\n",
              "    </tr>\n",
              "    <tr>\n",
              "      <th>598</th>\n",
              "      <td>NaN</td>\n",
              "      <td>NaN</td>\n",
              "      <td>Canarias</td>\n",
              "      <td>Spain</td>\n",
              "      <td>2020-12-07 05:26:14</td>\n",
              "      <td>28.291600</td>\n",
              "      <td>-16.629100</td>\n",
              "      <td>21753</td>\n",
              "      <td>346</td>\n",
              "      <td>1537</td>\n",
              "      <td>19870.0</td>\n",
              "      <td>Canarias, Spain</td>\n",
              "      <td>985.680826</td>\n",
              "      <td>1.590585</td>\n",
              "    </tr>\n",
              "    <tr>\n",
              "      <th>599</th>\n",
              "      <td>NaN</td>\n",
              "      <td>NaN</td>\n",
              "      <td>Cantabria</td>\n",
              "      <td>Spain</td>\n",
              "      <td>2020-12-07 05:26:14</td>\n",
              "      <td>43.182800</td>\n",
              "      <td>-3.987800</td>\n",
              "      <td>15903</td>\n",
              "      <td>324</td>\n",
              "      <td>2287</td>\n",
              "      <td>13292.0</td>\n",
              "      <td>Cantabria, Spain</td>\n",
              "      <td>2734.160762</td>\n",
              "      <td>2.037351</td>\n",
              "    </tr>\n",
              "    <tr>\n",
              "      <th>600</th>\n",
              "      <td>NaN</td>\n",
              "      <td>NaN</td>\n",
              "      <td>Castilla - La Mancha</td>\n",
              "      <td>Spain</td>\n",
              "      <td>2020-12-07 05:26:14</td>\n",
              "      <td>39.279600</td>\n",
              "      <td>-3.097700</td>\n",
              "      <td>87956</td>\n",
              "      <td>3825</td>\n",
              "      <td>6392</td>\n",
              "      <td>77739.0</td>\n",
              "      <td>Castilla - La Mancha, Spain</td>\n",
              "      <td>4322.423419</td>\n",
              "      <td>4.348765</td>\n",
              "    </tr>\n",
              "    <tr>\n",
              "      <th>601</th>\n",
              "      <td>NaN</td>\n",
              "      <td>NaN</td>\n",
              "      <td>Castilla y Leon</td>\n",
              "      <td>Spain</td>\n",
              "      <td>2020-12-07 05:26:14</td>\n",
              "      <td>41.835700</td>\n",
              "      <td>-4.397600</td>\n",
              "      <td>123433</td>\n",
              "      <td>4647</td>\n",
              "      <td>8716</td>\n",
              "      <td>110070.0</td>\n",
              "      <td>Castilla y Leon, Spain</td>\n",
              "      <td>5126.523580</td>\n",
              "      <td>3.764795</td>\n",
              "    </tr>\n",
              "    <tr>\n",
              "      <th>602</th>\n",
              "      <td>NaN</td>\n",
              "      <td>NaN</td>\n",
              "      <td>Catalonia</td>\n",
              "      <td>Spain</td>\n",
              "      <td>2020-12-07 05:26:14</td>\n",
              "      <td>41.591200</td>\n",
              "      <td>1.520900</td>\n",
              "      <td>310141</td>\n",
              "      <td>8126</td>\n",
              "      <td>26203</td>\n",
              "      <td>275812.0</td>\n",
              "      <td>Catalonia, Spain</td>\n",
              "      <td>4098.907398</td>\n",
              "      <td>2.620099</td>\n",
              "    </tr>\n",
              "    <tr>\n",
              "      <th>603</th>\n",
              "      <td>NaN</td>\n",
              "      <td>NaN</td>\n",
              "      <td>Ceuta</td>\n",
              "      <td>Spain</td>\n",
              "      <td>2020-12-07 05:26:14</td>\n",
              "      <td>35.889400</td>\n",
              "      <td>-5.321300</td>\n",
              "      <td>2854</td>\n",
              "      <td>55</td>\n",
              "      <td>163</td>\n",
              "      <td>2636.0</td>\n",
              "      <td>Ceuta, Spain</td>\n",
              "      <td>3364.415471</td>\n",
              "      <td>1.927120</td>\n",
              "    </tr>\n",
              "    <tr>\n",
              "      <th>604</th>\n",
              "      <td>NaN</td>\n",
              "      <td>NaN</td>\n",
              "      <td>Extremadura</td>\n",
              "      <td>Spain</td>\n",
              "      <td>2020-12-07 05:26:14</td>\n",
              "      <td>39.493700</td>\n",
              "      <td>-6.067900</td>\n",
              "      <td>29461</td>\n",
              "      <td>971</td>\n",
              "      <td>2652</td>\n",
              "      <td>25838.0</td>\n",
              "      <td>Extremadura, Spain</td>\n",
              "      <td>2765.190197</td>\n",
              "      <td>3.295883</td>\n",
              "    </tr>\n",
              "    <tr>\n",
              "      <th>605</th>\n",
              "      <td>NaN</td>\n",
              "      <td>NaN</td>\n",
              "      <td>Galicia</td>\n",
              "      <td>Spain</td>\n",
              "      <td>2020-12-07 05:26:14</td>\n",
              "      <td>42.575100</td>\n",
              "      <td>-8.133900</td>\n",
              "      <td>51557</td>\n",
              "      <td>1246</td>\n",
              "      <td>9204</td>\n",
              "      <td>41107.0</td>\n",
              "      <td>Galicia, Spain</td>\n",
              "      <td>1909.206681</td>\n",
              "      <td>2.416743</td>\n",
              "    </tr>\n",
              "    <tr>\n",
              "      <th>606</th>\n",
              "      <td>NaN</td>\n",
              "      <td>NaN</td>\n",
              "      <td>La Rioja</td>\n",
              "      <td>Spain</td>\n",
              "      <td>2020-12-07 05:26:14</td>\n",
              "      <td>42.287100</td>\n",
              "      <td>-2.539600</td>\n",
              "      <td>16881</td>\n",
              "      <td>561</td>\n",
              "      <td>3107</td>\n",
              "      <td>13213.0</td>\n",
              "      <td>La Rioja, Spain</td>\n",
              "      <td>5383.469772</td>\n",
              "      <td>3.323263</td>\n",
              "    </tr>\n",
              "    <tr>\n",
              "      <th>607</th>\n",
              "      <td>NaN</td>\n",
              "      <td>NaN</td>\n",
              "      <td>Madrid</td>\n",
              "      <td>Spain</td>\n",
              "      <td>2020-12-07 05:26:14</td>\n",
              "      <td>40.416800</td>\n",
              "      <td>-3.703800</td>\n",
              "      <td>354326</td>\n",
              "      <td>11426</td>\n",
              "      <td>40736</td>\n",
              "      <td>302164.0</td>\n",
              "      <td>Madrid, Spain</td>\n",
              "      <td>5334.910050</td>\n",
              "      <td>3.224714</td>\n",
              "    </tr>\n",
              "    <tr>\n",
              "      <th>608</th>\n",
              "      <td>NaN</td>\n",
              "      <td>NaN</td>\n",
              "      <td>Melilla</td>\n",
              "      <td>Spain</td>\n",
              "      <td>2020-12-07 05:26:14</td>\n",
              "      <td>35.292300</td>\n",
              "      <td>-2.938100</td>\n",
              "      <td>4152</td>\n",
              "      <td>43</td>\n",
              "      <td>125</td>\n",
              "      <td>3984.0</td>\n",
              "      <td>Melilla, Spain</td>\n",
              "      <td>4902.643791</td>\n",
              "      <td>1.035645</td>\n",
              "    </tr>\n",
              "    <tr>\n",
              "      <th>609</th>\n",
              "      <td>NaN</td>\n",
              "      <td>NaN</td>\n",
              "      <td>Murcia</td>\n",
              "      <td>Spain</td>\n",
              "      <td>2020-12-07 05:26:14</td>\n",
              "      <td>37.992200</td>\n",
              "      <td>-1.130700</td>\n",
              "      <td>55116</td>\n",
              "      <td>623</td>\n",
              "      <td>2180</td>\n",
              "      <td>52313.0</td>\n",
              "      <td>Murcia, Spain</td>\n",
              "      <td>3704.871332</td>\n",
              "      <td>1.130343</td>\n",
              "    </tr>\n",
              "    <tr>\n",
              "      <th>610</th>\n",
              "      <td>NaN</td>\n",
              "      <td>NaN</td>\n",
              "      <td>Navarra</td>\n",
              "      <td>Spain</td>\n",
              "      <td>2020-12-07 05:26:14</td>\n",
              "      <td>42.695400</td>\n",
              "      <td>-1.676100</td>\n",
              "      <td>40032</td>\n",
              "      <td>893</td>\n",
              "      <td>3905</td>\n",
              "      <td>35234.0</td>\n",
              "      <td>Navarra, Spain</td>\n",
              "      <td>6159.280925</td>\n",
              "      <td>2.230715</td>\n",
              "    </tr>\n",
              "    <tr>\n",
              "      <th>611</th>\n",
              "      <td>NaN</td>\n",
              "      <td>NaN</td>\n",
              "      <td>Pais Vasco</td>\n",
              "      <td>Spain</td>\n",
              "      <td>2020-12-07 05:26:14</td>\n",
              "      <td>42.989600</td>\n",
              "      <td>-2.618900</td>\n",
              "      <td>99716</td>\n",
              "      <td>2568</td>\n",
              "      <td>16160</td>\n",
              "      <td>80988.0</td>\n",
              "      <td>Pais Vasco, Spain</td>\n",
              "      <td>4578.581005</td>\n",
              "      <td>2.575314</td>\n",
              "    </tr>\n",
              "    <tr>\n",
              "      <th>612</th>\n",
              "      <td>NaN</td>\n",
              "      <td>NaN</td>\n",
              "      <td>Unknown</td>\n",
              "      <td>Spain</td>\n",
              "      <td>2020-12-07 05:26:14</td>\n",
              "      <td>NaN</td>\n",
              "      <td>NaN</td>\n",
              "      <td>0</td>\n",
              "      <td>0</td>\n",
              "      <td>0</td>\n",
              "      <td>0.0</td>\n",
              "      <td>Unknown, Spain</td>\n",
              "      <td>NaN</td>\n",
              "      <td>NaN</td>\n",
              "    </tr>\n",
              "  </tbody>\n",
              "</table>\n",
              "</div>"
            ],
            "text/plain": [
              "     FIPS Admin2  ... Incident_Rate Case_Fatality_Ratio\n",
              "593   NaN    NaN  ...   2833.410759            1.799123\n",
              "594   NaN    NaN  ...   5644.009553            3.166340\n",
              "595   NaN    NaN  ...   2364.985497            4.438469\n",
              "596   NaN    NaN  ...   2128.225413            1.680639\n",
              "597   NaN    NaN  ...   2182.646766            2.250751\n",
              "598   NaN    NaN  ...    985.680826            1.590585\n",
              "599   NaN    NaN  ...   2734.160762            2.037351\n",
              "600   NaN    NaN  ...   4322.423419            4.348765\n",
              "601   NaN    NaN  ...   5126.523580            3.764795\n",
              "602   NaN    NaN  ...   4098.907398            2.620099\n",
              "603   NaN    NaN  ...   3364.415471            1.927120\n",
              "604   NaN    NaN  ...   2765.190197            3.295883\n",
              "605   NaN    NaN  ...   1909.206681            2.416743\n",
              "606   NaN    NaN  ...   5383.469772            3.323263\n",
              "607   NaN    NaN  ...   5334.910050            3.224714\n",
              "608   NaN    NaN  ...   4902.643791            1.035645\n",
              "609   NaN    NaN  ...   3704.871332            1.130343\n",
              "610   NaN    NaN  ...   6159.280925            2.230715\n",
              "611   NaN    NaN  ...   4578.581005            2.575314\n",
              "612   NaN    NaN  ...           NaN                 NaN\n",
              "\n",
              "[20 rows x 14 columns]"
            ]
          },
          "metadata": {
            "tags": []
          },
          "execution_count": 12
        }
      ]
    },
    {
      "cell_type": "code",
      "metadata": {
        "id": "ud-ibwwtfgnJ",
        "colab": {
          "base_uri": "https://localhost:8080/",
          "height": 424
        },
        "outputId": "6ee9e5da-26bc-4a8f-e28a-e6de80cabfad"
      },
      "source": [
        "pd.concat((first, last), axis = 0)"
      ],
      "execution_count": 13,
      "outputs": [
        {
          "output_type": "execute_result",
          "data": {
            "text/html": [
              "<div>\n",
              "<style scoped>\n",
              "    .dataframe tbody tr th:only-of-type {\n",
              "        vertical-align: middle;\n",
              "    }\n",
              "\n",
              "    .dataframe tbody tr th {\n",
              "        vertical-align: top;\n",
              "    }\n",
              "\n",
              "    .dataframe thead th {\n",
              "        text-align: right;\n",
              "    }\n",
              "</style>\n",
              "<table border=\"1\" class=\"dataframe\">\n",
              "  <thead>\n",
              "    <tr style=\"text-align: right;\">\n",
              "      <th></th>\n",
              "      <th>Province/State</th>\n",
              "      <th>Country/Region</th>\n",
              "      <th>Last Update</th>\n",
              "      <th>Confirmed</th>\n",
              "      <th>Deaths</th>\n",
              "      <th>Recovered</th>\n",
              "      <th>FIPS</th>\n",
              "      <th>Admin2</th>\n",
              "      <th>Province_State</th>\n",
              "      <th>Country_Region</th>\n",
              "      <th>Last_Update</th>\n",
              "      <th>Lat</th>\n",
              "      <th>Long_</th>\n",
              "      <th>Active</th>\n",
              "      <th>Combined_Key</th>\n",
              "      <th>Incident_Rate</th>\n",
              "      <th>Case_Fatality_Ratio</th>\n",
              "    </tr>\n",
              "  </thead>\n",
              "  <tbody>\n",
              "    <tr>\n",
              "      <th>0</th>\n",
              "      <td>Anhui</td>\n",
              "      <td>Mainland China</td>\n",
              "      <td>1/22/2020 17:00</td>\n",
              "      <td>1.0</td>\n",
              "      <td>NaN</td>\n",
              "      <td>NaN</td>\n",
              "      <td>NaN</td>\n",
              "      <td>NaN</td>\n",
              "      <td>NaN</td>\n",
              "      <td>NaN</td>\n",
              "      <td>NaN</td>\n",
              "      <td>NaN</td>\n",
              "      <td>NaN</td>\n",
              "      <td>NaN</td>\n",
              "      <td>NaN</td>\n",
              "      <td>NaN</td>\n",
              "      <td>NaN</td>\n",
              "    </tr>\n",
              "    <tr>\n",
              "      <th>1</th>\n",
              "      <td>Beijing</td>\n",
              "      <td>Mainland China</td>\n",
              "      <td>1/22/2020 17:00</td>\n",
              "      <td>14.0</td>\n",
              "      <td>NaN</td>\n",
              "      <td>NaN</td>\n",
              "      <td>NaN</td>\n",
              "      <td>NaN</td>\n",
              "      <td>NaN</td>\n",
              "      <td>NaN</td>\n",
              "      <td>NaN</td>\n",
              "      <td>NaN</td>\n",
              "      <td>NaN</td>\n",
              "      <td>NaN</td>\n",
              "      <td>NaN</td>\n",
              "      <td>NaN</td>\n",
              "      <td>NaN</td>\n",
              "    </tr>\n",
              "    <tr>\n",
              "      <th>2</th>\n",
              "      <td>Chongqing</td>\n",
              "      <td>Mainland China</td>\n",
              "      <td>1/22/2020 17:00</td>\n",
              "      <td>6.0</td>\n",
              "      <td>NaN</td>\n",
              "      <td>NaN</td>\n",
              "      <td>NaN</td>\n",
              "      <td>NaN</td>\n",
              "      <td>NaN</td>\n",
              "      <td>NaN</td>\n",
              "      <td>NaN</td>\n",
              "      <td>NaN</td>\n",
              "      <td>NaN</td>\n",
              "      <td>NaN</td>\n",
              "      <td>NaN</td>\n",
              "      <td>NaN</td>\n",
              "      <td>NaN</td>\n",
              "    </tr>\n",
              "    <tr>\n",
              "      <th>3</th>\n",
              "      <td>Fujian</td>\n",
              "      <td>Mainland China</td>\n",
              "      <td>1/22/2020 17:00</td>\n",
              "      <td>1.0</td>\n",
              "      <td>NaN</td>\n",
              "      <td>NaN</td>\n",
              "      <td>NaN</td>\n",
              "      <td>NaN</td>\n",
              "      <td>NaN</td>\n",
              "      <td>NaN</td>\n",
              "      <td>NaN</td>\n",
              "      <td>NaN</td>\n",
              "      <td>NaN</td>\n",
              "      <td>NaN</td>\n",
              "      <td>NaN</td>\n",
              "      <td>NaN</td>\n",
              "      <td>NaN</td>\n",
              "    </tr>\n",
              "    <tr>\n",
              "      <th>4</th>\n",
              "      <td>Gansu</td>\n",
              "      <td>Mainland China</td>\n",
              "      <td>1/22/2020 17:00</td>\n",
              "      <td>NaN</td>\n",
              "      <td>NaN</td>\n",
              "      <td>NaN</td>\n",
              "      <td>NaN</td>\n",
              "      <td>NaN</td>\n",
              "      <td>NaN</td>\n",
              "      <td>NaN</td>\n",
              "      <td>NaN</td>\n",
              "      <td>NaN</td>\n",
              "      <td>NaN</td>\n",
              "      <td>NaN</td>\n",
              "      <td>NaN</td>\n",
              "      <td>NaN</td>\n",
              "      <td>NaN</td>\n",
              "    </tr>\n",
              "    <tr>\n",
              "      <th>...</th>\n",
              "      <td>...</td>\n",
              "      <td>...</td>\n",
              "      <td>...</td>\n",
              "      <td>...</td>\n",
              "      <td>...</td>\n",
              "      <td>...</td>\n",
              "      <td>...</td>\n",
              "      <td>...</td>\n",
              "      <td>...</td>\n",
              "      <td>...</td>\n",
              "      <td>...</td>\n",
              "      <td>...</td>\n",
              "      <td>...</td>\n",
              "      <td>...</td>\n",
              "      <td>...</td>\n",
              "      <td>...</td>\n",
              "      <td>...</td>\n",
              "    </tr>\n",
              "    <tr>\n",
              "      <th>3971</th>\n",
              "      <td>NaN</td>\n",
              "      <td>NaN</td>\n",
              "      <td>NaN</td>\n",
              "      <td>98038.0</td>\n",
              "      <td>828.0</td>\n",
              "      <td>72773.0</td>\n",
              "      <td>NaN</td>\n",
              "      <td>NaN</td>\n",
              "      <td>NaN</td>\n",
              "      <td>West Bank and Gaza</td>\n",
              "      <td>2020-12-07 05:26:14</td>\n",
              "      <td>31.952200</td>\n",
              "      <td>35.233200</td>\n",
              "      <td>24437.0</td>\n",
              "      <td>West Bank and Gaza</td>\n",
              "      <td>1921.780149</td>\n",
              "      <td>0.844570</td>\n",
              "    </tr>\n",
              "    <tr>\n",
              "      <th>3972</th>\n",
              "      <td>NaN</td>\n",
              "      <td>NaN</td>\n",
              "      <td>NaN</td>\n",
              "      <td>10.0</td>\n",
              "      <td>1.0</td>\n",
              "      <td>8.0</td>\n",
              "      <td>NaN</td>\n",
              "      <td>NaN</td>\n",
              "      <td>NaN</td>\n",
              "      <td>Western Sahara</td>\n",
              "      <td>2020-12-07 05:26:14</td>\n",
              "      <td>24.215500</td>\n",
              "      <td>-12.885800</td>\n",
              "      <td>1.0</td>\n",
              "      <td>Western Sahara</td>\n",
              "      <td>1.674116</td>\n",
              "      <td>10.000000</td>\n",
              "    </tr>\n",
              "    <tr>\n",
              "      <th>3973</th>\n",
              "      <td>NaN</td>\n",
              "      <td>NaN</td>\n",
              "      <td>NaN</td>\n",
              "      <td>2337.0</td>\n",
              "      <td>639.0</td>\n",
              "      <td>1549.0</td>\n",
              "      <td>NaN</td>\n",
              "      <td>NaN</td>\n",
              "      <td>NaN</td>\n",
              "      <td>Yemen</td>\n",
              "      <td>2020-12-07 05:26:14</td>\n",
              "      <td>15.552727</td>\n",
              "      <td>48.516388</td>\n",
              "      <td>149.0</td>\n",
              "      <td>Yemen</td>\n",
              "      <td>7.835454</td>\n",
              "      <td>27.342747</td>\n",
              "    </tr>\n",
              "    <tr>\n",
              "      <th>3974</th>\n",
              "      <td>NaN</td>\n",
              "      <td>NaN</td>\n",
              "      <td>NaN</td>\n",
              "      <td>17916.0</td>\n",
              "      <td>364.0</td>\n",
              "      <td>17173.0</td>\n",
              "      <td>NaN</td>\n",
              "      <td>NaN</td>\n",
              "      <td>NaN</td>\n",
              "      <td>Zambia</td>\n",
              "      <td>2020-12-07 05:26:14</td>\n",
              "      <td>-13.133897</td>\n",
              "      <td>27.849332</td>\n",
              "      <td>379.0</td>\n",
              "      <td>Zambia</td>\n",
              "      <td>97.454541</td>\n",
              "      <td>2.031704</td>\n",
              "    </tr>\n",
              "    <tr>\n",
              "      <th>3975</th>\n",
              "      <td>NaN</td>\n",
              "      <td>NaN</td>\n",
              "      <td>NaN</td>\n",
              "      <td>10718.0</td>\n",
              "      <td>291.0</td>\n",
              "      <td>8880.0</td>\n",
              "      <td>NaN</td>\n",
              "      <td>NaN</td>\n",
              "      <td>NaN</td>\n",
              "      <td>Zimbabwe</td>\n",
              "      <td>2020-12-07 05:26:14</td>\n",
              "      <td>-19.015438</td>\n",
              "      <td>29.154857</td>\n",
              "      <td>1547.0</td>\n",
              "      <td>Zimbabwe</td>\n",
              "      <td>72.112310</td>\n",
              "      <td>2.715059</td>\n",
              "    </tr>\n",
              "  </tbody>\n",
              "</table>\n",
              "<p>4014 rows × 17 columns</p>\n",
              "</div>"
            ],
            "text/plain": [
              "     Province/State  Country/Region  ... Incident_Rate  Case_Fatality_Ratio\n",
              "0             Anhui  Mainland China  ...           NaN                  NaN\n",
              "1           Beijing  Mainland China  ...           NaN                  NaN\n",
              "2         Chongqing  Mainland China  ...           NaN                  NaN\n",
              "3            Fujian  Mainland China  ...           NaN                  NaN\n",
              "4             Gansu  Mainland China  ...           NaN                  NaN\n",
              "...             ...             ...  ...           ...                  ...\n",
              "3971            NaN             NaN  ...   1921.780149             0.844570\n",
              "3972            NaN             NaN  ...      1.674116            10.000000\n",
              "3973            NaN             NaN  ...      7.835454            27.342747\n",
              "3974            NaN             NaN  ...     97.454541             2.031704\n",
              "3975            NaN             NaN  ...     72.112310             2.715059\n",
              "\n",
              "[4014 rows x 17 columns]"
            ]
          },
          "metadata": {
            "tags": []
          },
          "execution_count": 13
        }
      ]
    },
    {
      "cell_type": "markdown",
      "metadata": {
        "id": "qp0FzW2Iw5eN"
      },
      "source": [
        "Ups!!! The column names don't match :-("
      ]
    },
    {
      "cell_type": "markdown",
      "metadata": {
        "id": "ghaZx5_9OorK"
      },
      "source": [
        "## Loading the data into Pandas and cleaning it"
      ]
    },
    {
      "cell_type": "code",
      "metadata": {
        "id": "M9bC8STciFTa"
      },
      "source": [
        "import glob\n",
        "import os\n",
        "\n",
        "files = glob.glob(\"./COVID-19/csse_covid_19_data/csse_covid_19_daily_reports/*.csv\")\n",
        "files.sort(key=os.path.getmtime)"
      ],
      "execution_count": 14,
      "outputs": []
    },
    {
      "cell_type": "markdown",
      "metadata": {
        "id": "vs7_lsZlxYuL"
      },
      "source": [
        "We are going to:\n",
        "- Create a blank Dataset to store all the data\n",
        "- Load every dataset unifying the column names so we can concatenate it without any problem.\n",
        "- Remove extra blank spaces from the country field\n",
        "- Enrich the information with the date of the data in the correct type"
      ]
    },
    {
      "cell_type": "code",
      "metadata": {
        "id": "FT8e_Vu2jjG6"
      },
      "source": [
        "data = pd.DataFrame()\n",
        "for file in files:  \n",
        "  df = pd.read_csv(file).rename(columns = {'Province/State' : 'State', \n",
        "                        \"Country/Region\" : 'Country',\n",
        "                        'Province_State' : 'State', \n",
        "                        \"Country_Region\" : 'Country',\n",
        "                        'Last Update' : 'Last_Update',\n",
        "                        'Confirmed' : 'ConfirmedAcum',\n",
        "                        'Deaths' : 'DeathsAcum',\n",
        "                        'Recovered' : 'RecoveredAcum'})\n",
        "  df = df.assign(Date = pd.to_datetime(file[-14:-4], format = '%m-%d-%Y'),\n",
        "                 Country = df.Country.str.strip())\n",
        "  data = pd.concat((data, df), axis = 0)\n"
      ],
      "execution_count": 15,
      "outputs": []
    },
    {
      "cell_type": "markdown",
      "metadata": {
        "id": "eYgaZTZRxPef"
      },
      "source": [
        "I noticed that the country names were a little messy.   \n",
        "Let's fix it ..."
      ]
    },
    {
      "cell_type": "code",
      "metadata": {
        "id": "k4Ivs-ocj9ZD"
      },
      "source": [
        "data['Country'] = data.Country.replace({'Bahamas, The' : 'Bahamas',\n",
        "                         'Congo (Brazzaville)' : 'Congo',\n",
        "                         'Congo (Kinshasa)' : 'Congo',\n",
        "                         \"Cote d'Ivoire\" : \"Cote d'Ivoire\",\n",
        "                         \"Curacao\" : \"Curaçao\",\n",
        "                         'Czech Republic' : 'Czech Republic (Czechia)',\n",
        "                         'Czechia' : 'Czech Republic (Czechia)',\n",
        "                         'Faroe Islands' : 'Faeroe Islands',\n",
        "                         'Macau' : 'Macao',\n",
        "                         'Mainland China' : 'China',\n",
        "                         'Palestine' : 'State of Palestine',\n",
        "                         'Reunion' : 'Réunion',\n",
        "                         'Saint Kitts and Nevis' : 'Saint Kitts & Nevis',\n",
        "                         'Sao Tome and Principe' : 'Sao Tome & Principe',\n",
        "                         'US' : 'United States',\n",
        "                         'Gambia, The' : 'Gambia',\n",
        "                         'Hong Kong SAR' : 'Hong Kong',\n",
        "                         'Korea, South' : 'South Korea',\n",
        "                         'Macao SAR' : 'Macao',\n",
        "                         'Taiwan*' : 'Taiwan',\n",
        "                         'Viet Nam' : 'Vietnam',\n",
        "                         'West Bank and Gaza' : 'State of Palestine',\n",
        "                         'occupied Palestinian territory' : 'State of Palestine'\n",
        "                         })"
      ],
      "execution_count": 16,
      "outputs": []
    },
    {
      "cell_type": "markdown",
      "metadata": {
        "id": "UULovmSp076p"
      },
      "source": [
        "I'm going to fill in the NULL values ​​of the 'State' and 'Admin2' fields so that later I can group the information correctly"
      ]
    },
    {
      "cell_type": "code",
      "metadata": {
        "id": "sqOtm5KZ02bb"
      },
      "source": [
        "data = data.fillna({'State' : 'NA', 'Admin2' : 'NA'})"
      ],
      "execution_count": 18,
      "outputs": []
    },
    {
      "cell_type": "markdown",
      "metadata": {
        "id": "stPODK5u2kK7"
      },
      "source": [
        "Finally I am going to be left alone with the columns that interest me"
      ]
    },
    {
      "cell_type": "code",
      "metadata": {
        "id": "tN2qJzZ92j7C"
      },
      "source": [
        "data = data[['Date', 'Country', 'State', 'Admin2', 'ConfirmedAcum', 'DeathsAcum', 'RecoveredAcum']]"
      ],
      "execution_count": 19,
      "outputs": []
    },
    {
      "cell_type": "markdown",
      "metadata": {
        "id": "eKGKWEv81QOC"
      },
      "source": [
        "Let's verify the structure of the dateset ..."
      ]
    },
    {
      "cell_type": "code",
      "metadata": {
        "id": "PaHfgHxw02f6",
        "colab": {
          "base_uri": "https://localhost:8080/"
        },
        "outputId": "7d8ccb46-60a9-4e2d-d935-751537efa122"
      },
      "source": [
        "data.info()"
      ],
      "execution_count": 20,
      "outputs": [
        {
          "output_type": "stream",
          "text": [
            "<class 'pandas.core.frame.DataFrame'>\n",
            "Int64Index: 971477 entries, 0 to 3975\n",
            "Data columns (total 7 columns):\n",
            " #   Column         Non-Null Count   Dtype         \n",
            "---  ------         --------------   -----         \n",
            " 0   Date           971477 non-null  datetime64[ns]\n",
            " 1   Country        971477 non-null  object        \n",
            " 2   State          971477 non-null  object        \n",
            " 3   Admin2         971477 non-null  object        \n",
            " 4   ConfirmedAcum  971458 non-null  float64       \n",
            " 5   DeathsAcum     971035 non-null  float64       \n",
            " 6   RecoveredAcum  971086 non-null  float64       \n",
            "dtypes: datetime64[ns](1), float64(3), object(3)\n",
            "memory usage: 59.3+ MB\n"
          ],
          "name": "stdout"
        }
      ]
    },
    {
      "cell_type": "markdown",
      "metadata": {
        "id": "KHTrGOkI3EZ5"
      },
      "source": [
        "Wait a set, I think that can be interesting have a column the the active cases. Let's create it ..."
      ]
    },
    {
      "cell_type": "code",
      "metadata": {
        "id": "MHo4mEHk3SV-"
      },
      "source": [
        "data['ActiveAcum'] = data.ConfirmedAcum  - data.DeathsAcum - data.RecoveredAcum"
      ],
      "execution_count": 21,
      "outputs": []
    },
    {
      "cell_type": "code",
      "metadata": {
        "id": "rWWw4HKt3kem",
        "colab": {
          "base_uri": "https://localhost:8080/",
          "height": 206
        },
        "outputId": "7c454833-553c-4e64-fe9c-4a48a89bbc46"
      },
      "source": [
        "data.query(\"Country == 'Spain'\").sort_values('Date', ascending = False).head()"
      ],
      "execution_count": 22,
      "outputs": [
        {
          "output_type": "execute_result",
          "data": {
            "text/html": [
              "<div>\n",
              "<style scoped>\n",
              "    .dataframe tbody tr th:only-of-type {\n",
              "        vertical-align: middle;\n",
              "    }\n",
              "\n",
              "    .dataframe tbody tr th {\n",
              "        vertical-align: top;\n",
              "    }\n",
              "\n",
              "    .dataframe thead th {\n",
              "        text-align: right;\n",
              "    }\n",
              "</style>\n",
              "<table border=\"1\" class=\"dataframe\">\n",
              "  <thead>\n",
              "    <tr style=\"text-align: right;\">\n",
              "      <th></th>\n",
              "      <th>Date</th>\n",
              "      <th>Country</th>\n",
              "      <th>State</th>\n",
              "      <th>Admin2</th>\n",
              "      <th>ConfirmedAcum</th>\n",
              "      <th>DeathsAcum</th>\n",
              "      <th>RecoveredAcum</th>\n",
              "      <th>ActiveAcum</th>\n",
              "    </tr>\n",
              "  </thead>\n",
              "  <tbody>\n",
              "    <tr>\n",
              "      <th>612</th>\n",
              "      <td>2020-12-06</td>\n",
              "      <td>Spain</td>\n",
              "      <td>Unknown</td>\n",
              "      <td>NA</td>\n",
              "      <td>0.0</td>\n",
              "      <td>0.0</td>\n",
              "      <td>0.0</td>\n",
              "      <td>0.0</td>\n",
              "    </tr>\n",
              "    <tr>\n",
              "      <th>602</th>\n",
              "      <td>2020-12-06</td>\n",
              "      <td>Spain</td>\n",
              "      <td>Catalonia</td>\n",
              "      <td>NA</td>\n",
              "      <td>310141.0</td>\n",
              "      <td>8126.0</td>\n",
              "      <td>26203.0</td>\n",
              "      <td>275812.0</td>\n",
              "    </tr>\n",
              "    <tr>\n",
              "      <th>593</th>\n",
              "      <td>2020-12-06</td>\n",
              "      <td>Spain</td>\n",
              "      <td>Andalusia</td>\n",
              "      <td>NA</td>\n",
              "      <td>238783.0</td>\n",
              "      <td>4296.0</td>\n",
              "      <td>10671.0</td>\n",
              "      <td>223816.0</td>\n",
              "    </tr>\n",
              "    <tr>\n",
              "      <th>594</th>\n",
              "      <td>2020-12-06</td>\n",
              "      <td>Spain</td>\n",
              "      <td>Aragon</td>\n",
              "      <td>NA</td>\n",
              "      <td>74534.0</td>\n",
              "      <td>2360.0</td>\n",
              "      <td>3772.0</td>\n",
              "      <td>68402.0</td>\n",
              "    </tr>\n",
              "    <tr>\n",
              "      <th>595</th>\n",
              "      <td>2020-12-06</td>\n",
              "      <td>Spain</td>\n",
              "      <td>Asturias</td>\n",
              "      <td>NA</td>\n",
              "      <td>24175.0</td>\n",
              "      <td>1073.0</td>\n",
              "      <td>1063.0</td>\n",
              "      <td>22039.0</td>\n",
              "    </tr>\n",
              "  </tbody>\n",
              "</table>\n",
              "</div>"
            ],
            "text/plain": [
              "          Date Country      State  ... DeathsAcum  RecoveredAcum  ActiveAcum\n",
              "612 2020-12-06   Spain    Unknown  ...        0.0            0.0         0.0\n",
              "602 2020-12-06   Spain  Catalonia  ...     8126.0        26203.0    275812.0\n",
              "593 2020-12-06   Spain  Andalusia  ...     4296.0        10671.0    223816.0\n",
              "594 2020-12-06   Spain     Aragon  ...     2360.0         3772.0     68402.0\n",
              "595 2020-12-06   Spain   Asturias  ...     1073.0         1063.0     22039.0\n",
              "\n",
              "[5 rows x 8 columns]"
            ]
          },
          "metadata": {
            "tags": []
          },
          "execution_count": 22
        }
      ]
    },
    {
      "cell_type": "markdown",
      "metadata": {
        "id": "Hy7ezfe71YfW"
      },
      "source": [
        "Perfect :-)"
      ]
    },
    {
      "cell_type": "markdown",
      "metadata": {
        "id": "QXWtfzg61dT8"
      },
      "source": [
        "Now, I am going to group and summarize the data because I want to be sure that there is only one row per Date, Country, State and Admin2"
      ]
    },
    {
      "cell_type": "code",
      "metadata": {
        "id": "Sv6N4XzATqDb"
      },
      "source": [
        "data = data.groupby([\"Date\", \"Country\", \"State\", \"Admin2\"]).agg(\"sum\").reset_index()"
      ],
      "execution_count": 23,
      "outputs": []
    },
    {
      "cell_type": "code",
      "metadata": {
        "id": "uMxyZOlHoMuf",
        "colab": {
          "base_uri": "https://localhost:8080/",
          "height": 206
        },
        "outputId": "8afa1ce2-844c-43ea-ef64-257e1e59220d"
      },
      "source": [
        "data.head()"
      ],
      "execution_count": 24,
      "outputs": [
        {
          "output_type": "execute_result",
          "data": {
            "text/html": [
              "<div>\n",
              "<style scoped>\n",
              "    .dataframe tbody tr th:only-of-type {\n",
              "        vertical-align: middle;\n",
              "    }\n",
              "\n",
              "    .dataframe tbody tr th {\n",
              "        vertical-align: top;\n",
              "    }\n",
              "\n",
              "    .dataframe thead th {\n",
              "        text-align: right;\n",
              "    }\n",
              "</style>\n",
              "<table border=\"1\" class=\"dataframe\">\n",
              "  <thead>\n",
              "    <tr style=\"text-align: right;\">\n",
              "      <th></th>\n",
              "      <th>Date</th>\n",
              "      <th>Country</th>\n",
              "      <th>State</th>\n",
              "      <th>Admin2</th>\n",
              "      <th>ConfirmedAcum</th>\n",
              "      <th>DeathsAcum</th>\n",
              "      <th>RecoveredAcum</th>\n",
              "      <th>ActiveAcum</th>\n",
              "    </tr>\n",
              "  </thead>\n",
              "  <tbody>\n",
              "    <tr>\n",
              "      <th>0</th>\n",
              "      <td>2020-01-22</td>\n",
              "      <td>China</td>\n",
              "      <td>Anhui</td>\n",
              "      <td>NA</td>\n",
              "      <td>1.0</td>\n",
              "      <td>0.0</td>\n",
              "      <td>0.0</td>\n",
              "      <td>0.0</td>\n",
              "    </tr>\n",
              "    <tr>\n",
              "      <th>1</th>\n",
              "      <td>2020-01-22</td>\n",
              "      <td>China</td>\n",
              "      <td>Beijing</td>\n",
              "      <td>NA</td>\n",
              "      <td>14.0</td>\n",
              "      <td>0.0</td>\n",
              "      <td>0.0</td>\n",
              "      <td>0.0</td>\n",
              "    </tr>\n",
              "    <tr>\n",
              "      <th>2</th>\n",
              "      <td>2020-01-22</td>\n",
              "      <td>China</td>\n",
              "      <td>Chongqing</td>\n",
              "      <td>NA</td>\n",
              "      <td>6.0</td>\n",
              "      <td>0.0</td>\n",
              "      <td>0.0</td>\n",
              "      <td>0.0</td>\n",
              "    </tr>\n",
              "    <tr>\n",
              "      <th>3</th>\n",
              "      <td>2020-01-22</td>\n",
              "      <td>China</td>\n",
              "      <td>Fujian</td>\n",
              "      <td>NA</td>\n",
              "      <td>1.0</td>\n",
              "      <td>0.0</td>\n",
              "      <td>0.0</td>\n",
              "      <td>0.0</td>\n",
              "    </tr>\n",
              "    <tr>\n",
              "      <th>4</th>\n",
              "      <td>2020-01-22</td>\n",
              "      <td>China</td>\n",
              "      <td>Gansu</td>\n",
              "      <td>NA</td>\n",
              "      <td>0.0</td>\n",
              "      <td>0.0</td>\n",
              "      <td>0.0</td>\n",
              "      <td>0.0</td>\n",
              "    </tr>\n",
              "  </tbody>\n",
              "</table>\n",
              "</div>"
            ],
            "text/plain": [
              "        Date Country      State  ... DeathsAcum  RecoveredAcum  ActiveAcum\n",
              "0 2020-01-22   China      Anhui  ...        0.0            0.0         0.0\n",
              "1 2020-01-22   China    Beijing  ...        0.0            0.0         0.0\n",
              "2 2020-01-22   China  Chongqing  ...        0.0            0.0         0.0\n",
              "3 2020-01-22   China     Fujian  ...        0.0            0.0         0.0\n",
              "4 2020-01-22   China      Gansu  ...        0.0            0.0         0.0\n",
              "\n",
              "[5 rows x 8 columns]"
            ]
          },
          "metadata": {
            "tags": []
          },
          "execution_count": 24
        }
      ]
    },
    {
      "cell_type": "markdown",
      "metadata": {
        "id": "TZbi_Sr6SbO5"
      },
      "source": [
        "##  Daily Cases\n",
        "I am going to enrich the data by creating new columns with the daily cases.  \n",
        "\n",
        "First I create new columns with the cases from the previous day"
      ]
    },
    {
      "cell_type": "code",
      "metadata": {
        "id": "g8MHMIevPoA0"
      },
      "source": [
        "data = data.sort_values(['State', 'Country', 'Date']).\\\n",
        "            assign(ConfirmedPrevious = data.groupby(['Admin2', 'State', 'Country']).shift(1)[\"ConfirmedAcum\"],\n",
        "                   DeathsPrevious = data.groupby(['Admin2', 'State', 'Country']).shift(1)[\"DeathsAcum\"],\n",
        "                   RecoveredPrevious = data.groupby(['Admin2', 'State', 'Country']).shift(1)[\"RecoveredAcum\"],\n",
        "                   ActivePrevious = data.groupby(['Admin2', 'State', 'Country']).shift(1)[\"ActiveAcum\"],\n",
        "            ).\\\n",
        "            fillna({ 'ConfirmedPrevious' : 0, 'DeathsPrevious' : 0, 'RecoveredPrevious' : 0 })"
      ],
      "execution_count": 25,
      "outputs": []
    },
    {
      "cell_type": "code",
      "metadata": {
        "id": "DDT2ontmYspr",
        "colab": {
          "base_uri": "https://localhost:8080/",
          "height": 206
        },
        "outputId": "83c71dbe-98b5-495c-d1f9-b38c5332de61"
      },
      "source": [
        "data.head()"
      ],
      "execution_count": 26,
      "outputs": [
        {
          "output_type": "execute_result",
          "data": {
            "text/html": [
              "<div>\n",
              "<style scoped>\n",
              "    .dataframe tbody tr th:only-of-type {\n",
              "        vertical-align: middle;\n",
              "    }\n",
              "\n",
              "    .dataframe tbody tr th {\n",
              "        vertical-align: top;\n",
              "    }\n",
              "\n",
              "    .dataframe thead th {\n",
              "        text-align: right;\n",
              "    }\n",
              "</style>\n",
              "<table border=\"1\" class=\"dataframe\">\n",
              "  <thead>\n",
              "    <tr style=\"text-align: right;\">\n",
              "      <th></th>\n",
              "      <th>Date</th>\n",
              "      <th>Country</th>\n",
              "      <th>State</th>\n",
              "      <th>Admin2</th>\n",
              "      <th>ConfirmedAcum</th>\n",
              "      <th>DeathsAcum</th>\n",
              "      <th>RecoveredAcum</th>\n",
              "      <th>ActiveAcum</th>\n",
              "      <th>ConfirmedPrevious</th>\n",
              "      <th>DeathsPrevious</th>\n",
              "      <th>RecoveredPrevious</th>\n",
              "      <th>ActivePrevious</th>\n",
              "    </tr>\n",
              "  </thead>\n",
              "  <tbody>\n",
              "    <tr>\n",
              "      <th>2599</th>\n",
              "      <td>2020-02-28</td>\n",
              "      <td>Canada</td>\n",
              "      <td>Montreal, QC</td>\n",
              "      <td>NA</td>\n",
              "      <td>1.0</td>\n",
              "      <td>0.0</td>\n",
              "      <td>0.0</td>\n",
              "      <td>1.0</td>\n",
              "      <td>0.0</td>\n",
              "      <td>0.0</td>\n",
              "      <td>0.0</td>\n",
              "      <td>NaN</td>\n",
              "    </tr>\n",
              "    <tr>\n",
              "      <th>2713</th>\n",
              "      <td>2020-02-29</td>\n",
              "      <td>Canada</td>\n",
              "      <td>Montreal, QC</td>\n",
              "      <td>NA</td>\n",
              "      <td>1.0</td>\n",
              "      <td>0.0</td>\n",
              "      <td>0.0</td>\n",
              "      <td>1.0</td>\n",
              "      <td>1.0</td>\n",
              "      <td>0.0</td>\n",
              "      <td>0.0</td>\n",
              "      <td>1.0</td>\n",
              "    </tr>\n",
              "    <tr>\n",
              "      <th>2834</th>\n",
              "      <td>2020-03-01</td>\n",
              "      <td>Canada</td>\n",
              "      <td>Montreal, QC</td>\n",
              "      <td>NA</td>\n",
              "      <td>1.0</td>\n",
              "      <td>0.0</td>\n",
              "      <td>0.0</td>\n",
              "      <td>1.0</td>\n",
              "      <td>1.0</td>\n",
              "      <td>0.0</td>\n",
              "      <td>0.0</td>\n",
              "      <td>1.0</td>\n",
              "    </tr>\n",
              "    <tr>\n",
              "      <th>2961</th>\n",
              "      <td>2020-03-02</td>\n",
              "      <td>Canada</td>\n",
              "      <td>Montreal, QC</td>\n",
              "      <td>NA</td>\n",
              "      <td>1.0</td>\n",
              "      <td>0.0</td>\n",
              "      <td>0.0</td>\n",
              "      <td>1.0</td>\n",
              "      <td>1.0</td>\n",
              "      <td>0.0</td>\n",
              "      <td>0.0</td>\n",
              "      <td>1.0</td>\n",
              "    </tr>\n",
              "    <tr>\n",
              "      <th>3103</th>\n",
              "      <td>2020-03-03</td>\n",
              "      <td>Canada</td>\n",
              "      <td>Montreal, QC</td>\n",
              "      <td>NA</td>\n",
              "      <td>1.0</td>\n",
              "      <td>0.0</td>\n",
              "      <td>0.0</td>\n",
              "      <td>1.0</td>\n",
              "      <td>1.0</td>\n",
              "      <td>0.0</td>\n",
              "      <td>0.0</td>\n",
              "      <td>1.0</td>\n",
              "    </tr>\n",
              "  </tbody>\n",
              "</table>\n",
              "</div>"
            ],
            "text/plain": [
              "           Date Country  ... RecoveredPrevious ActivePrevious\n",
              "2599 2020-02-28  Canada  ...               0.0            NaN\n",
              "2713 2020-02-29  Canada  ...               0.0            1.0\n",
              "2834 2020-03-01  Canada  ...               0.0            1.0\n",
              "2961 2020-03-02  Canada  ...               0.0            1.0\n",
              "3103 2020-03-03  Canada  ...               0.0            1.0\n",
              "\n",
              "[5 rows x 12 columns]"
            ]
          },
          "metadata": {
            "tags": []
          },
          "execution_count": 26
        }
      ]
    },
    {
      "cell_type": "markdown",
      "metadata": {
        "id": "7sbEQUt06Cw9"
      },
      "source": [
        "After that I am going to assign the new fields subtracting the previous acum cases to the actual acum cases"
      ]
    },
    {
      "cell_type": "code",
      "metadata": {
        "id": "95W2LJ4yXESe"
      },
      "source": [
        "data = data.assign(Confirmed = data.ConfirmedAcum -  data.ConfirmedPrevious,\n",
        "            Deaths = data.DeathsAcum - data.DeathsPrevious,\n",
        "            Recovered = data.RecoveredAcum - data.RecoveredPrevious,\n",
        "            Active = data.ActiveAcum - data.ActivePrevious\n",
        "            )"
      ],
      "execution_count": 27,
      "outputs": []
    },
    {
      "cell_type": "markdown",
      "metadata": {
        "id": "R3aiurFY6btc"
      },
      "source": [
        "I no longer need the fields I used to make the calculation so I can drop them"
      ]
    },
    {
      "cell_type": "code",
      "metadata": {
        "id": "EyYZ8SAA51rY"
      },
      "source": [
        "data = data.drop(['ConfirmedPrevious', 'DeathsPrevious', 'RecoveredPrevious', 'ActivePrevious'], axis = 1)"
      ],
      "execution_count": 28,
      "outputs": []
    },
    {
      "cell_type": "markdown",
      "metadata": {
        "id": "kv94Eilb6t22"
      },
      "source": [
        "Does the data look good?"
      ]
    },
    {
      "cell_type": "code",
      "metadata": {
        "id": "vrr3xpFIRlfW",
        "colab": {
          "base_uri": "https://localhost:8080/",
          "height": 424
        },
        "outputId": "a1742154-4b80-4465-d50e-c82862272657"
      },
      "source": [
        "data.query(\"Country == 'Spain'\")"
      ],
      "execution_count": 29,
      "outputs": [
        {
          "output_type": "execute_result",
          "data": {
            "text/html": [
              "<div>\n",
              "<style scoped>\n",
              "    .dataframe tbody tr th:only-of-type {\n",
              "        vertical-align: middle;\n",
              "    }\n",
              "\n",
              "    .dataframe tbody tr th {\n",
              "        vertical-align: top;\n",
              "    }\n",
              "\n",
              "    .dataframe thead th {\n",
              "        text-align: right;\n",
              "    }\n",
              "</style>\n",
              "<table border=\"1\" class=\"dataframe\">\n",
              "  <thead>\n",
              "    <tr style=\"text-align: right;\">\n",
              "      <th></th>\n",
              "      <th>Date</th>\n",
              "      <th>Country</th>\n",
              "      <th>State</th>\n",
              "      <th>Admin2</th>\n",
              "      <th>ConfirmedAcum</th>\n",
              "      <th>DeathsAcum</th>\n",
              "      <th>RecoveredAcum</th>\n",
              "      <th>ActiveAcum</th>\n",
              "      <th>Confirmed</th>\n",
              "      <th>Deaths</th>\n",
              "      <th>Recovered</th>\n",
              "      <th>Active</th>\n",
              "    </tr>\n",
              "  </thead>\n",
              "  <tbody>\n",
              "    <tr>\n",
              "      <th>172123</th>\n",
              "      <td>2020-05-14</td>\n",
              "      <td>Spain</td>\n",
              "      <td>Andalusia</td>\n",
              "      <td>NA</td>\n",
              "      <td>12359.0</td>\n",
              "      <td>1336.0</td>\n",
              "      <td>9918.0</td>\n",
              "      <td>1105.0</td>\n",
              "      <td>12359.0</td>\n",
              "      <td>1336.0</td>\n",
              "      <td>9918.0</td>\n",
              "      <td>NaN</td>\n",
              "    </tr>\n",
              "    <tr>\n",
              "      <th>175417</th>\n",
              "      <td>2020-05-15</td>\n",
              "      <td>Spain</td>\n",
              "      <td>Andalusia</td>\n",
              "      <td>NA</td>\n",
              "      <td>12401.0</td>\n",
              "      <td>1344.0</td>\n",
              "      <td>10148.0</td>\n",
              "      <td>909.0</td>\n",
              "      <td>42.0</td>\n",
              "      <td>8.0</td>\n",
              "      <td>230.0</td>\n",
              "      <td>-196.0</td>\n",
              "    </tr>\n",
              "    <tr>\n",
              "      <th>178717</th>\n",
              "      <td>2020-05-16</td>\n",
              "      <td>Spain</td>\n",
              "      <td>Andalusia</td>\n",
              "      <td>NA</td>\n",
              "      <td>12420.0</td>\n",
              "      <td>1355.0</td>\n",
              "      <td>10319.0</td>\n",
              "      <td>746.0</td>\n",
              "      <td>19.0</td>\n",
              "      <td>11.0</td>\n",
              "      <td>171.0</td>\n",
              "      <td>-163.0</td>\n",
              "    </tr>\n",
              "    <tr>\n",
              "      <th>182021</th>\n",
              "      <td>2020-05-17</td>\n",
              "      <td>Spain</td>\n",
              "      <td>Andalusia</td>\n",
              "      <td>NA</td>\n",
              "      <td>12420.0</td>\n",
              "      <td>1355.0</td>\n",
              "      <td>10319.0</td>\n",
              "      <td>746.0</td>\n",
              "      <td>0.0</td>\n",
              "      <td>0.0</td>\n",
              "      <td>0.0</td>\n",
              "      <td>0.0</td>\n",
              "    </tr>\n",
              "    <tr>\n",
              "      <th>185328</th>\n",
              "      <td>2020-05-18</td>\n",
              "      <td>Spain</td>\n",
              "      <td>Andalusia</td>\n",
              "      <td>NA</td>\n",
              "      <td>12458.0</td>\n",
              "      <td>1358.0</td>\n",
              "      <td>10671.0</td>\n",
              "      <td>429.0</td>\n",
              "      <td>38.0</td>\n",
              "      <td>3.0</td>\n",
              "      <td>352.0</td>\n",
              "      <td>-317.0</td>\n",
              "    </tr>\n",
              "    <tr>\n",
              "      <th>...</th>\n",
              "      <td>...</td>\n",
              "      <td>...</td>\n",
              "      <td>...</td>\n",
              "      <td>...</td>\n",
              "      <td>...</td>\n",
              "      <td>...</td>\n",
              "      <td>...</td>\n",
              "      <td>...</td>\n",
              "      <td>...</td>\n",
              "      <td>...</td>\n",
              "      <td>...</td>\n",
              "      <td>...</td>\n",
              "    </tr>\n",
              "    <tr>\n",
              "      <th>951941</th>\n",
              "      <td>2020-12-02</td>\n",
              "      <td>Spain</td>\n",
              "      <td>Unknown</td>\n",
              "      <td>NA</td>\n",
              "      <td>0.0</td>\n",
              "      <td>0.0</td>\n",
              "      <td>0.0</td>\n",
              "      <td>0.0</td>\n",
              "      <td>0.0</td>\n",
              "      <td>0.0</td>\n",
              "      <td>0.0</td>\n",
              "      <td>0.0</td>\n",
              "    </tr>\n",
              "    <tr>\n",
              "      <th>955916</th>\n",
              "      <td>2020-12-03</td>\n",
              "      <td>Spain</td>\n",
              "      <td>Unknown</td>\n",
              "      <td>NA</td>\n",
              "      <td>0.0</td>\n",
              "      <td>0.0</td>\n",
              "      <td>0.0</td>\n",
              "      <td>0.0</td>\n",
              "      <td>0.0</td>\n",
              "      <td>0.0</td>\n",
              "      <td>0.0</td>\n",
              "      <td>0.0</td>\n",
              "    </tr>\n",
              "    <tr>\n",
              "      <th>959891</th>\n",
              "      <td>2020-12-04</td>\n",
              "      <td>Spain</td>\n",
              "      <td>Unknown</td>\n",
              "      <td>NA</td>\n",
              "      <td>0.0</td>\n",
              "      <td>0.0</td>\n",
              "      <td>0.0</td>\n",
              "      <td>0.0</td>\n",
              "      <td>0.0</td>\n",
              "      <td>0.0</td>\n",
              "      <td>0.0</td>\n",
              "      <td>0.0</td>\n",
              "    </tr>\n",
              "    <tr>\n",
              "      <th>963866</th>\n",
              "      <td>2020-12-05</td>\n",
              "      <td>Spain</td>\n",
              "      <td>Unknown</td>\n",
              "      <td>NA</td>\n",
              "      <td>0.0</td>\n",
              "      <td>0.0</td>\n",
              "      <td>0.0</td>\n",
              "      <td>0.0</td>\n",
              "      <td>0.0</td>\n",
              "      <td>0.0</td>\n",
              "      <td>0.0</td>\n",
              "      <td>0.0</td>\n",
              "    </tr>\n",
              "    <tr>\n",
              "      <th>967841</th>\n",
              "      <td>2020-12-06</td>\n",
              "      <td>Spain</td>\n",
              "      <td>Unknown</td>\n",
              "      <td>NA</td>\n",
              "      <td>0.0</td>\n",
              "      <td>0.0</td>\n",
              "      <td>0.0</td>\n",
              "      <td>0.0</td>\n",
              "      <td>0.0</td>\n",
              "      <td>0.0</td>\n",
              "      <td>0.0</td>\n",
              "      <td>0.0</td>\n",
              "    </tr>\n",
              "  </tbody>\n",
              "</table>\n",
              "<p>4238 rows × 12 columns</p>\n",
              "</div>"
            ],
            "text/plain": [
              "             Date Country      State  ...  Deaths  Recovered  Active\n",
              "172123 2020-05-14   Spain  Andalusia  ...  1336.0     9918.0     NaN\n",
              "175417 2020-05-15   Spain  Andalusia  ...     8.0      230.0  -196.0\n",
              "178717 2020-05-16   Spain  Andalusia  ...    11.0      171.0  -163.0\n",
              "182021 2020-05-17   Spain  Andalusia  ...     0.0        0.0     0.0\n",
              "185328 2020-05-18   Spain  Andalusia  ...     3.0      352.0  -317.0\n",
              "...           ...     ...        ...  ...     ...        ...     ...\n",
              "951941 2020-12-02   Spain    Unknown  ...     0.0        0.0     0.0\n",
              "955916 2020-12-03   Spain    Unknown  ...     0.0        0.0     0.0\n",
              "959891 2020-12-04   Spain    Unknown  ...     0.0        0.0     0.0\n",
              "963866 2020-12-05   Spain    Unknown  ...     0.0        0.0     0.0\n",
              "967841 2020-12-06   Spain    Unknown  ...     0.0        0.0     0.0\n",
              "\n",
              "[4238 rows x 12 columns]"
            ]
          },
          "metadata": {
            "tags": []
          },
          "execution_count": 29
        }
      ]
    },
    {
      "cell_type": "markdown",
      "metadata": {
        "id": "6iVrbLMbPK12"
      },
      "source": [
        "## Data By Country\n",
        "\n",
        "\n"
      ]
    },
    {
      "cell_type": "markdown",
      "metadata": {
        "id": "WmgHcHDV8YwI"
      },
      "source": [
        "So far, we have data by 3 geographical levels: Country, State and a lower level called Admin2"
      ]
    },
    {
      "cell_type": "markdown",
      "metadata": {
        "id": "Q27Z37fC8qp3"
      },
      "source": [
        "The problem is that not all countries have this level of information, so I will create a new dataset only with the country level data"
      ]
    },
    {
      "cell_type": "code",
      "metadata": {
        "id": "HdFBOvQnoHyb",
        "colab": {
          "base_uri": "https://localhost:8080/"
        },
        "outputId": "09c9f0fe-fd47-4a24-8b85-affee343fcf2"
      },
      "source": [
        "data_by_country = data.groupby([\"Date\", \"Country\"]).agg(\"sum\").reset_index()\n",
        "data_by_country = data_by_country.sort_values(['Country', 'Date'])\n",
        "data_by_country.info()"
      ],
      "execution_count": 30,
      "outputs": [
        {
          "output_type": "stream",
          "text": [
            "<class 'pandas.core.frame.DataFrame'>\n",
            "Int64Index: 52205 entries, 848 to 52204\n",
            "Data columns (total 10 columns):\n",
            " #   Column         Non-Null Count  Dtype         \n",
            "---  ------         --------------  -----         \n",
            " 0   Date           52205 non-null  datetime64[ns]\n",
            " 1   Country        52205 non-null  object        \n",
            " 2   ConfirmedAcum  52205 non-null  float64       \n",
            " 3   DeathsAcum     52205 non-null  float64       \n",
            " 4   RecoveredAcum  52205 non-null  float64       \n",
            " 5   ActiveAcum     52205 non-null  float64       \n",
            " 6   Confirmed      52205 non-null  float64       \n",
            " 7   Deaths         52205 non-null  float64       \n",
            " 8   Recovered      52205 non-null  float64       \n",
            " 9   Active         52205 non-null  float64       \n",
            "dtypes: datetime64[ns](1), float64(8), object(1)\n",
            "memory usage: 4.4+ MB\n"
          ],
          "name": "stdout"
        }
      ]
    },
    {
      "cell_type": "code",
      "metadata": {
        "id": "l4ZlhVtkoOUr",
        "colab": {
          "base_uri": "https://localhost:8080/",
          "height": 206
        },
        "outputId": "3319f9d3-d2cb-40ff-f785-699d4d42b7c1"
      },
      "source": [
        "data_by_country.head()"
      ],
      "execution_count": 31,
      "outputs": [
        {
          "output_type": "execute_result",
          "data": {
            "text/html": [
              "<div>\n",
              "<style scoped>\n",
              "    .dataframe tbody tr th:only-of-type {\n",
              "        vertical-align: middle;\n",
              "    }\n",
              "\n",
              "    .dataframe tbody tr th {\n",
              "        vertical-align: top;\n",
              "    }\n",
              "\n",
              "    .dataframe thead th {\n",
              "        text-align: right;\n",
              "    }\n",
              "</style>\n",
              "<table border=\"1\" class=\"dataframe\">\n",
              "  <thead>\n",
              "    <tr style=\"text-align: right;\">\n",
              "      <th></th>\n",
              "      <th>Date</th>\n",
              "      <th>Country</th>\n",
              "      <th>ConfirmedAcum</th>\n",
              "      <th>DeathsAcum</th>\n",
              "      <th>RecoveredAcum</th>\n",
              "      <th>ActiveAcum</th>\n",
              "      <th>Confirmed</th>\n",
              "      <th>Deaths</th>\n",
              "      <th>Recovered</th>\n",
              "      <th>Active</th>\n",
              "    </tr>\n",
              "  </thead>\n",
              "  <tbody>\n",
              "    <tr>\n",
              "      <th>848</th>\n",
              "      <td>2020-02-24</td>\n",
              "      <td>Afghanistan</td>\n",
              "      <td>1.0</td>\n",
              "      <td>0.0</td>\n",
              "      <td>0.0</td>\n",
              "      <td>1.0</td>\n",
              "      <td>1.0</td>\n",
              "      <td>0.0</td>\n",
              "      <td>0.0</td>\n",
              "      <td>0.0</td>\n",
              "    </tr>\n",
              "    <tr>\n",
              "      <th>886</th>\n",
              "      <td>2020-02-25</td>\n",
              "      <td>Afghanistan</td>\n",
              "      <td>1.0</td>\n",
              "      <td>0.0</td>\n",
              "      <td>0.0</td>\n",
              "      <td>1.0</td>\n",
              "      <td>0.0</td>\n",
              "      <td>0.0</td>\n",
              "      <td>0.0</td>\n",
              "      <td>0.0</td>\n",
              "    </tr>\n",
              "    <tr>\n",
              "      <th>928</th>\n",
              "      <td>2020-02-26</td>\n",
              "      <td>Afghanistan</td>\n",
              "      <td>1.0</td>\n",
              "      <td>0.0</td>\n",
              "      <td>0.0</td>\n",
              "      <td>1.0</td>\n",
              "      <td>0.0</td>\n",
              "      <td>0.0</td>\n",
              "      <td>0.0</td>\n",
              "      <td>0.0</td>\n",
              "    </tr>\n",
              "    <tr>\n",
              "      <th>977</th>\n",
              "      <td>2020-02-27</td>\n",
              "      <td>Afghanistan</td>\n",
              "      <td>1.0</td>\n",
              "      <td>0.0</td>\n",
              "      <td>0.0</td>\n",
              "      <td>1.0</td>\n",
              "      <td>0.0</td>\n",
              "      <td>0.0</td>\n",
              "      <td>0.0</td>\n",
              "      <td>0.0</td>\n",
              "    </tr>\n",
              "    <tr>\n",
              "      <th>1030</th>\n",
              "      <td>2020-02-28</td>\n",
              "      <td>Afghanistan</td>\n",
              "      <td>1.0</td>\n",
              "      <td>0.0</td>\n",
              "      <td>0.0</td>\n",
              "      <td>1.0</td>\n",
              "      <td>0.0</td>\n",
              "      <td>0.0</td>\n",
              "      <td>0.0</td>\n",
              "      <td>0.0</td>\n",
              "    </tr>\n",
              "  </tbody>\n",
              "</table>\n",
              "</div>"
            ],
            "text/plain": [
              "           Date      Country  ConfirmedAcum  ...  Deaths  Recovered  Active\n",
              "848  2020-02-24  Afghanistan            1.0  ...     0.0        0.0     0.0\n",
              "886  2020-02-25  Afghanistan            1.0  ...     0.0        0.0     0.0\n",
              "928  2020-02-26  Afghanistan            1.0  ...     0.0        0.0     0.0\n",
              "977  2020-02-27  Afghanistan            1.0  ...     0.0        0.0     0.0\n",
              "1030 2020-02-28  Afghanistan            1.0  ...     0.0        0.0     0.0\n",
              "\n",
              "[5 rows x 10 columns]"
            ]
          },
          "metadata": {
            "tags": []
          },
          "execution_count": 31
        }
      ]
    },
    {
      "cell_type": "code",
      "metadata": {
        "id": "qEkuhtfkrW1l",
        "colab": {
          "base_uri": "https://localhost:8080/",
          "height": 424
        },
        "outputId": "587924a0-bf0f-46b1-c1de-4e489b1e1d6b"
      },
      "source": [
        "data_by_country[data_by_country.Country == 'United States']"
      ],
      "execution_count": 32,
      "outputs": [
        {
          "output_type": "execute_result",
          "data": {
            "text/html": [
              "<div>\n",
              "<style scoped>\n",
              "    .dataframe tbody tr th:only-of-type {\n",
              "        vertical-align: middle;\n",
              "    }\n",
              "\n",
              "    .dataframe tbody tr th {\n",
              "        vertical-align: top;\n",
              "    }\n",
              "\n",
              "    .dataframe thead th {\n",
              "        text-align: right;\n",
              "    }\n",
              "</style>\n",
              "<table border=\"1\" class=\"dataframe\">\n",
              "  <thead>\n",
              "    <tr style=\"text-align: right;\">\n",
              "      <th></th>\n",
              "      <th>Date</th>\n",
              "      <th>Country</th>\n",
              "      <th>ConfirmedAcum</th>\n",
              "      <th>DeathsAcum</th>\n",
              "      <th>RecoveredAcum</th>\n",
              "      <th>ActiveAcum</th>\n",
              "      <th>Confirmed</th>\n",
              "      <th>Deaths</th>\n",
              "      <th>Recovered</th>\n",
              "      <th>Active</th>\n",
              "    </tr>\n",
              "  </thead>\n",
              "  <tbody>\n",
              "    <tr>\n",
              "      <th>7</th>\n",
              "      <td>2020-01-22</td>\n",
              "      <td>United States</td>\n",
              "      <td>1.0</td>\n",
              "      <td>0.0</td>\n",
              "      <td>0.0</td>\n",
              "      <td>0.0</td>\n",
              "      <td>1.0</td>\n",
              "      <td>0.0</td>\n",
              "      <td>0.0</td>\n",
              "      <td>0.0</td>\n",
              "    </tr>\n",
              "    <tr>\n",
              "      <th>22</th>\n",
              "      <td>2020-01-23</td>\n",
              "      <td>United States</td>\n",
              "      <td>1.0</td>\n",
              "      <td>0.0</td>\n",
              "      <td>0.0</td>\n",
              "      <td>0.0</td>\n",
              "      <td>0.0</td>\n",
              "      <td>0.0</td>\n",
              "      <td>0.0</td>\n",
              "      <td>0.0</td>\n",
              "    </tr>\n",
              "    <tr>\n",
              "      <th>33</th>\n",
              "      <td>2020-01-24</td>\n",
              "      <td>United States</td>\n",
              "      <td>2.0</td>\n",
              "      <td>0.0</td>\n",
              "      <td>0.0</td>\n",
              "      <td>0.0</td>\n",
              "      <td>1.0</td>\n",
              "      <td>0.0</td>\n",
              "      <td>0.0</td>\n",
              "      <td>0.0</td>\n",
              "    </tr>\n",
              "    <tr>\n",
              "      <th>47</th>\n",
              "      <td>2020-01-25</td>\n",
              "      <td>United States</td>\n",
              "      <td>2.0</td>\n",
              "      <td>0.0</td>\n",
              "      <td>0.0</td>\n",
              "      <td>0.0</td>\n",
              "      <td>1.0</td>\n",
              "      <td>0.0</td>\n",
              "      <td>0.0</td>\n",
              "      <td>0.0</td>\n",
              "    </tr>\n",
              "    <tr>\n",
              "      <th>62</th>\n",
              "      <td>2020-01-26</td>\n",
              "      <td>United States</td>\n",
              "      <td>5.0</td>\n",
              "      <td>0.0</td>\n",
              "      <td>0.0</td>\n",
              "      <td>0.0</td>\n",
              "      <td>3.0</td>\n",
              "      <td>0.0</td>\n",
              "      <td>0.0</td>\n",
              "      <td>0.0</td>\n",
              "    </tr>\n",
              "    <tr>\n",
              "      <th>...</th>\n",
              "      <td>...</td>\n",
              "      <td>...</td>\n",
              "      <td>...</td>\n",
              "      <td>...</td>\n",
              "      <td>...</td>\n",
              "      <td>...</td>\n",
              "      <td>...</td>\n",
              "      <td>...</td>\n",
              "      <td>...</td>\n",
              "      <td>...</td>\n",
              "    </tr>\n",
              "    <tr>\n",
              "      <th>51435</th>\n",
              "      <td>2020-12-02</td>\n",
              "      <td>United States</td>\n",
              "      <td>13921913.0</td>\n",
              "      <td>273446.0</td>\n",
              "      <td>5322128.0</td>\n",
              "      <td>8326339.0</td>\n",
              "      <td>200055.0</td>\n",
              "      <td>2804.0</td>\n",
              "      <td>95547.0</td>\n",
              "      <td>101704.0</td>\n",
              "    </tr>\n",
              "    <tr>\n",
              "      <th>51625</th>\n",
              "      <td>2020-12-03</td>\n",
              "      <td>United States</td>\n",
              "      <td>14139577.0</td>\n",
              "      <td>276325.0</td>\n",
              "      <td>5404018.0</td>\n",
              "      <td>8459234.0</td>\n",
              "      <td>217664.0</td>\n",
              "      <td>2879.0</td>\n",
              "      <td>81890.0</td>\n",
              "      <td>132895.0</td>\n",
              "    </tr>\n",
              "    <tr>\n",
              "      <th>51815</th>\n",
              "      <td>2020-12-04</td>\n",
              "      <td>United States</td>\n",
              "      <td>14367462.0</td>\n",
              "      <td>278932.0</td>\n",
              "      <td>5470389.0</td>\n",
              "      <td>8618141.0</td>\n",
              "      <td>227885.0</td>\n",
              "      <td>2607.0</td>\n",
              "      <td>66371.0</td>\n",
              "      <td>158907.0</td>\n",
              "    </tr>\n",
              "    <tr>\n",
              "      <th>52005</th>\n",
              "      <td>2020-12-05</td>\n",
              "      <td>United States</td>\n",
              "      <td>14581337.0</td>\n",
              "      <td>281186.0</td>\n",
              "      <td>5576026.0</td>\n",
              "      <td>8724125.0</td>\n",
              "      <td>213875.0</td>\n",
              "      <td>2254.0</td>\n",
              "      <td>105637.0</td>\n",
              "      <td>105984.0</td>\n",
              "    </tr>\n",
              "    <tr>\n",
              "      <th>52195</th>\n",
              "      <td>2020-12-06</td>\n",
              "      <td>United States</td>\n",
              "      <td>14757000.0</td>\n",
              "      <td>282299.0</td>\n",
              "      <td>5624444.0</td>\n",
              "      <td>8850257.0</td>\n",
              "      <td>175663.0</td>\n",
              "      <td>1113.0</td>\n",
              "      <td>48418.0</td>\n",
              "      <td>126132.0</td>\n",
              "    </tr>\n",
              "  </tbody>\n",
              "</table>\n",
              "<p>320 rows × 10 columns</p>\n",
              "</div>"
            ],
            "text/plain": [
              "            Date        Country  ConfirmedAcum  ...  Deaths  Recovered    Active\n",
              "7     2020-01-22  United States            1.0  ...     0.0        0.0       0.0\n",
              "22    2020-01-23  United States            1.0  ...     0.0        0.0       0.0\n",
              "33    2020-01-24  United States            2.0  ...     0.0        0.0       0.0\n",
              "47    2020-01-25  United States            2.0  ...     0.0        0.0       0.0\n",
              "62    2020-01-26  United States            5.0  ...     0.0        0.0       0.0\n",
              "...          ...            ...            ...  ...     ...        ...       ...\n",
              "51435 2020-12-02  United States     13921913.0  ...  2804.0    95547.0  101704.0\n",
              "51625 2020-12-03  United States     14139577.0  ...  2879.0    81890.0  132895.0\n",
              "51815 2020-12-04  United States     14367462.0  ...  2607.0    66371.0  158907.0\n",
              "52005 2020-12-05  United States     14581337.0  ...  2254.0   105637.0  105984.0\n",
              "52195 2020-12-06  United States     14757000.0  ...  1113.0    48418.0  126132.0\n",
              "\n",
              "[320 rows x 10 columns]"
            ]
          },
          "metadata": {
            "tags": []
          },
          "execution_count": 32
        }
      ]
    },
    {
      "cell_type": "markdown",
      "metadata": {
        "id": "5SkKjf2zaM33"
      },
      "source": [
        "## Cases per million inhabitants\n",
        "\n"
      ]
    },
    {
      "cell_type": "markdown",
      "metadata": {
        "id": "9Doq50kGLEzX"
      },
      "source": [
        "We are going to enrich the information with the number of cases per million inhabitants, so we need population data by country.\n",
        "\n",
        "A small internet search leads me to a page that has population data for 2020:\n",
        "\n",
        "https://www.worldometers.info/world-population/population-by-country/\n",
        "\n",
        "It seems that this information is protected to be downloaded automatically so I have no choice but to do it manually and upload the data to a GitHub Repository:\n",
        "\n",
        "https://github.com/dvillaj/world-population/\n",
        "\n"
      ]
    },
    {
      "cell_type": "markdown",
      "metadata": {
        "id": "QJuioEUaMoVZ"
      },
      "source": [
        "I load the data to the Pandas, clean it up and just maintain the field of the population \n"
      ]
    },
    {
      "cell_type": "code",
      "metadata": {
        "id": "MP-rwsGkeHRv"
      },
      "source": [
        "population = pd.read_excel(\"https://github.com/dvillaj/world-population/blob/master/data/world-popultation-2020.xlsx?raw=true\", sheet_name=\"Data\")"
      ],
      "execution_count": 33,
      "outputs": []
    },
    {
      "cell_type": "code",
      "metadata": {
        "id": "KqTM6UkHeRXA",
        "colab": {
          "base_uri": "https://localhost:8080/"
        },
        "outputId": "f329b45d-5676-4334-bd83-31c34c77bb01"
      },
      "source": [
        "population.info()"
      ],
      "execution_count": 34,
      "outputs": [
        {
          "output_type": "stream",
          "text": [
            "<class 'pandas.core.frame.DataFrame'>\n",
            "RangeIndex: 235 entries, 0 to 234\n",
            "Data columns (total 11 columns):\n",
            " #   Column             Non-Null Count  Dtype  \n",
            "---  ------             --------------  -----  \n",
            " 0   Country            235 non-null    object \n",
            " 1   Population (2020)  235 non-null    int64  \n",
            " 2   Yearly Change      235 non-null    float64\n",
            " 3   Net Change         235 non-null    int64  \n",
            " 4   Density (P/Km²)    235 non-null    float64\n",
            " 5   Land Area (Km²)    235 non-null    int64  \n",
            " 6   Migrants (net)     201 non-null    float64\n",
            " 7   Fertility Rate     201 non-null    float64\n",
            " 8   Average Age        201 non-null    float64\n",
            " 9   Urban Pop %        222 non-null    float64\n",
            " 10  World Share        235 non-null    float64\n",
            "dtypes: float64(7), int64(3), object(1)\n",
            "memory usage: 20.3+ KB\n"
          ],
          "name": "stdout"
        }
      ]
    },
    {
      "cell_type": "code",
      "metadata": {
        "id": "fssvIxSPs_xR"
      },
      "source": [
        "population = population.rename(columns = {\n",
        "    'Population (2020)' : 'Population',\n",
        "    'Yearly Change' : 'Yearly_Change',\n",
        "    'Net Change' : 'Net_Change',\n",
        "    'Density (P/Km²)' : 'Density',\n",
        "    'Land Area (Km²)' : 'Land_Area',\n",
        "    'Migrants (net)' : 'igrants',\n",
        "    'Fertility Rate' : 'Fertility',\n",
        "    'Average Age' : 'Mean_Age',\n",
        "    'Urban Pop %' : 'Urban_Pop',\n",
        "    'World Share' : 'World_Share'\n",
        "})"
      ],
      "execution_count": 35,
      "outputs": []
    },
    {
      "cell_type": "code",
      "metadata": {
        "id": "s7kZJnI1E3lT"
      },
      "source": [
        "population = population[['Country', 'Population']]"
      ],
      "execution_count": 36,
      "outputs": []
    },
    {
      "cell_type": "code",
      "metadata": {
        "id": "sgeL52pNrCR6",
        "colab": {
          "base_uri": "https://localhost:8080/",
          "height": 206
        },
        "outputId": "4eb30964-6065-400b-e5b2-847298ff6875"
      },
      "source": [
        "population.head()"
      ],
      "execution_count": 37,
      "outputs": [
        {
          "output_type": "execute_result",
          "data": {
            "text/html": [
              "<div>\n",
              "<style scoped>\n",
              "    .dataframe tbody tr th:only-of-type {\n",
              "        vertical-align: middle;\n",
              "    }\n",
              "\n",
              "    .dataframe tbody tr th {\n",
              "        vertical-align: top;\n",
              "    }\n",
              "\n",
              "    .dataframe thead th {\n",
              "        text-align: right;\n",
              "    }\n",
              "</style>\n",
              "<table border=\"1\" class=\"dataframe\">\n",
              "  <thead>\n",
              "    <tr style=\"text-align: right;\">\n",
              "      <th></th>\n",
              "      <th>Country</th>\n",
              "      <th>Population</th>\n",
              "    </tr>\n",
              "  </thead>\n",
              "  <tbody>\n",
              "    <tr>\n",
              "      <th>0</th>\n",
              "      <td>Afghanistan</td>\n",
              "      <td>38928346</td>\n",
              "    </tr>\n",
              "    <tr>\n",
              "      <th>1</th>\n",
              "      <td>Albania</td>\n",
              "      <td>2877797</td>\n",
              "    </tr>\n",
              "    <tr>\n",
              "      <th>2</th>\n",
              "      <td>Algeria</td>\n",
              "      <td>43851044</td>\n",
              "    </tr>\n",
              "    <tr>\n",
              "      <th>3</th>\n",
              "      <td>American Samoa</td>\n",
              "      <td>55191</td>\n",
              "    </tr>\n",
              "    <tr>\n",
              "      <th>4</th>\n",
              "      <td>Andorra</td>\n",
              "      <td>77265</td>\n",
              "    </tr>\n",
              "  </tbody>\n",
              "</table>\n",
              "</div>"
            ],
            "text/plain": [
              "          Country  Population\n",
              "0     Afghanistan    38928346\n",
              "1         Albania     2877797\n",
              "2         Algeria    43851044\n",
              "3  American Samoa       55191\n",
              "4         Andorra       77265"
            ]
          },
          "metadata": {
            "tags": []
          },
          "execution_count": 37
        }
      ]
    },
    {
      "cell_type": "markdown",
      "metadata": {
        "id": "0KKRRJK7M_WN"
      },
      "source": [
        "Now I join the population Dataset with the country data to have the population in this dataset"
      ]
    },
    {
      "cell_type": "code",
      "metadata": {
        "id": "FlmyQ_H0xLbP"
      },
      "source": [
        "data_by_country = data_by_country.merge(population, how = 'left', on = 'Country')"
      ],
      "execution_count": 38,
      "outputs": []
    },
    {
      "cell_type": "code",
      "metadata": {
        "id": "mFuMJ5XvmBIF",
        "colab": {
          "base_uri": "https://localhost:8080/"
        },
        "outputId": "b9ac020d-ee9d-405b-a88f-97b9804f3b7c"
      },
      "source": [
        "data_by_country.info()"
      ],
      "execution_count": 39,
      "outputs": [
        {
          "output_type": "stream",
          "text": [
            "<class 'pandas.core.frame.DataFrame'>\n",
            "Int64Index: 52205 entries, 0 to 52204\n",
            "Data columns (total 11 columns):\n",
            " #   Column         Non-Null Count  Dtype         \n",
            "---  ------         --------------  -----         \n",
            " 0   Date           52205 non-null  datetime64[ns]\n",
            " 1   Country        52205 non-null  object        \n",
            " 2   ConfirmedAcum  52205 non-null  float64       \n",
            " 3   DeathsAcum     52205 non-null  float64       \n",
            " 4   RecoveredAcum  52205 non-null  float64       \n",
            " 5   ActiveAcum     52205 non-null  float64       \n",
            " 6   Confirmed      52205 non-null  float64       \n",
            " 7   Deaths         52205 non-null  float64       \n",
            " 8   Recovered      52205 non-null  float64       \n",
            " 9   Active         52205 non-null  float64       \n",
            " 10  Population     50503 non-null  float64       \n",
            "dtypes: datetime64[ns](1), float64(9), object(1)\n",
            "memory usage: 4.8+ MB\n"
          ],
          "name": "stdout"
        }
      ]
    },
    {
      "cell_type": "code",
      "metadata": {
        "id": "A-TiQcLCFGaw",
        "colab": {
          "base_uri": "https://localhost:8080/",
          "height": 206
        },
        "outputId": "7079e172-8b72-4d94-ffc4-240a84c91509"
      },
      "source": [
        "data_by_country.head()"
      ],
      "execution_count": 40,
      "outputs": [
        {
          "output_type": "execute_result",
          "data": {
            "text/html": [
              "<div>\n",
              "<style scoped>\n",
              "    .dataframe tbody tr th:only-of-type {\n",
              "        vertical-align: middle;\n",
              "    }\n",
              "\n",
              "    .dataframe tbody tr th {\n",
              "        vertical-align: top;\n",
              "    }\n",
              "\n",
              "    .dataframe thead th {\n",
              "        text-align: right;\n",
              "    }\n",
              "</style>\n",
              "<table border=\"1\" class=\"dataframe\">\n",
              "  <thead>\n",
              "    <tr style=\"text-align: right;\">\n",
              "      <th></th>\n",
              "      <th>Date</th>\n",
              "      <th>Country</th>\n",
              "      <th>ConfirmedAcum</th>\n",
              "      <th>DeathsAcum</th>\n",
              "      <th>RecoveredAcum</th>\n",
              "      <th>ActiveAcum</th>\n",
              "      <th>Confirmed</th>\n",
              "      <th>Deaths</th>\n",
              "      <th>Recovered</th>\n",
              "      <th>Active</th>\n",
              "      <th>Population</th>\n",
              "    </tr>\n",
              "  </thead>\n",
              "  <tbody>\n",
              "    <tr>\n",
              "      <th>0</th>\n",
              "      <td>2020-02-24</td>\n",
              "      <td>Afghanistan</td>\n",
              "      <td>1.0</td>\n",
              "      <td>0.0</td>\n",
              "      <td>0.0</td>\n",
              "      <td>1.0</td>\n",
              "      <td>1.0</td>\n",
              "      <td>0.0</td>\n",
              "      <td>0.0</td>\n",
              "      <td>0.0</td>\n",
              "      <td>38928346.0</td>\n",
              "    </tr>\n",
              "    <tr>\n",
              "      <th>1</th>\n",
              "      <td>2020-02-25</td>\n",
              "      <td>Afghanistan</td>\n",
              "      <td>1.0</td>\n",
              "      <td>0.0</td>\n",
              "      <td>0.0</td>\n",
              "      <td>1.0</td>\n",
              "      <td>0.0</td>\n",
              "      <td>0.0</td>\n",
              "      <td>0.0</td>\n",
              "      <td>0.0</td>\n",
              "      <td>38928346.0</td>\n",
              "    </tr>\n",
              "    <tr>\n",
              "      <th>2</th>\n",
              "      <td>2020-02-26</td>\n",
              "      <td>Afghanistan</td>\n",
              "      <td>1.0</td>\n",
              "      <td>0.0</td>\n",
              "      <td>0.0</td>\n",
              "      <td>1.0</td>\n",
              "      <td>0.0</td>\n",
              "      <td>0.0</td>\n",
              "      <td>0.0</td>\n",
              "      <td>0.0</td>\n",
              "      <td>38928346.0</td>\n",
              "    </tr>\n",
              "    <tr>\n",
              "      <th>3</th>\n",
              "      <td>2020-02-27</td>\n",
              "      <td>Afghanistan</td>\n",
              "      <td>1.0</td>\n",
              "      <td>0.0</td>\n",
              "      <td>0.0</td>\n",
              "      <td>1.0</td>\n",
              "      <td>0.0</td>\n",
              "      <td>0.0</td>\n",
              "      <td>0.0</td>\n",
              "      <td>0.0</td>\n",
              "      <td>38928346.0</td>\n",
              "    </tr>\n",
              "    <tr>\n",
              "      <th>4</th>\n",
              "      <td>2020-02-28</td>\n",
              "      <td>Afghanistan</td>\n",
              "      <td>1.0</td>\n",
              "      <td>0.0</td>\n",
              "      <td>0.0</td>\n",
              "      <td>1.0</td>\n",
              "      <td>0.0</td>\n",
              "      <td>0.0</td>\n",
              "      <td>0.0</td>\n",
              "      <td>0.0</td>\n",
              "      <td>38928346.0</td>\n",
              "    </tr>\n",
              "  </tbody>\n",
              "</table>\n",
              "</div>"
            ],
            "text/plain": [
              "        Date      Country  ConfirmedAcum  ...  Recovered  Active  Population\n",
              "0 2020-02-24  Afghanistan            1.0  ...        0.0     0.0  38928346.0\n",
              "1 2020-02-25  Afghanistan            1.0  ...        0.0     0.0  38928346.0\n",
              "2 2020-02-26  Afghanistan            1.0  ...        0.0     0.0  38928346.0\n",
              "3 2020-02-27  Afghanistan            1.0  ...        0.0     0.0  38928346.0\n",
              "4 2020-02-28  Afghanistan            1.0  ...        0.0     0.0  38928346.0\n",
              "\n",
              "[5 rows x 11 columns]"
            ]
          },
          "metadata": {
            "tags": []
          },
          "execution_count": 40
        }
      ]
    },
    {
      "cell_type": "markdown",
      "metadata": {
        "id": "tLyawi0QNN8E"
      },
      "source": [
        "And finally I calculate the number of cases per million inhabitants"
      ]
    },
    {
      "cell_type": "code",
      "metadata": {
        "id": "Q3B760gwH1JI",
        "colab": {
          "base_uri": "https://localhost:8080/",
          "height": 206
        },
        "outputId": "6ef16ceb-54a1-44fe-b310-388f331ca03e"
      },
      "source": [
        "data_by_country = data_by_country.assign(ConfirmedAcum_Millon = data_by_country.ConfirmedAcum / data_by_country.Population * 1000000)\n",
        "data_by_country.head()"
      ],
      "execution_count": 41,
      "outputs": [
        {
          "output_type": "execute_result",
          "data": {
            "text/html": [
              "<div>\n",
              "<style scoped>\n",
              "    .dataframe tbody tr th:only-of-type {\n",
              "        vertical-align: middle;\n",
              "    }\n",
              "\n",
              "    .dataframe tbody tr th {\n",
              "        vertical-align: top;\n",
              "    }\n",
              "\n",
              "    .dataframe thead th {\n",
              "        text-align: right;\n",
              "    }\n",
              "</style>\n",
              "<table border=\"1\" class=\"dataframe\">\n",
              "  <thead>\n",
              "    <tr style=\"text-align: right;\">\n",
              "      <th></th>\n",
              "      <th>Date</th>\n",
              "      <th>Country</th>\n",
              "      <th>ConfirmedAcum</th>\n",
              "      <th>DeathsAcum</th>\n",
              "      <th>RecoveredAcum</th>\n",
              "      <th>ActiveAcum</th>\n",
              "      <th>Confirmed</th>\n",
              "      <th>Deaths</th>\n",
              "      <th>Recovered</th>\n",
              "      <th>Active</th>\n",
              "      <th>Population</th>\n",
              "      <th>ConfirmedAcum_Millon</th>\n",
              "    </tr>\n",
              "  </thead>\n",
              "  <tbody>\n",
              "    <tr>\n",
              "      <th>0</th>\n",
              "      <td>2020-02-24</td>\n",
              "      <td>Afghanistan</td>\n",
              "      <td>1.0</td>\n",
              "      <td>0.0</td>\n",
              "      <td>0.0</td>\n",
              "      <td>1.0</td>\n",
              "      <td>1.0</td>\n",
              "      <td>0.0</td>\n",
              "      <td>0.0</td>\n",
              "      <td>0.0</td>\n",
              "      <td>38928346.0</td>\n",
              "      <td>0.025688</td>\n",
              "    </tr>\n",
              "    <tr>\n",
              "      <th>1</th>\n",
              "      <td>2020-02-25</td>\n",
              "      <td>Afghanistan</td>\n",
              "      <td>1.0</td>\n",
              "      <td>0.0</td>\n",
              "      <td>0.0</td>\n",
              "      <td>1.0</td>\n",
              "      <td>0.0</td>\n",
              "      <td>0.0</td>\n",
              "      <td>0.0</td>\n",
              "      <td>0.0</td>\n",
              "      <td>38928346.0</td>\n",
              "      <td>0.025688</td>\n",
              "    </tr>\n",
              "    <tr>\n",
              "      <th>2</th>\n",
              "      <td>2020-02-26</td>\n",
              "      <td>Afghanistan</td>\n",
              "      <td>1.0</td>\n",
              "      <td>0.0</td>\n",
              "      <td>0.0</td>\n",
              "      <td>1.0</td>\n",
              "      <td>0.0</td>\n",
              "      <td>0.0</td>\n",
              "      <td>0.0</td>\n",
              "      <td>0.0</td>\n",
              "      <td>38928346.0</td>\n",
              "      <td>0.025688</td>\n",
              "    </tr>\n",
              "    <tr>\n",
              "      <th>3</th>\n",
              "      <td>2020-02-27</td>\n",
              "      <td>Afghanistan</td>\n",
              "      <td>1.0</td>\n",
              "      <td>0.0</td>\n",
              "      <td>0.0</td>\n",
              "      <td>1.0</td>\n",
              "      <td>0.0</td>\n",
              "      <td>0.0</td>\n",
              "      <td>0.0</td>\n",
              "      <td>0.0</td>\n",
              "      <td>38928346.0</td>\n",
              "      <td>0.025688</td>\n",
              "    </tr>\n",
              "    <tr>\n",
              "      <th>4</th>\n",
              "      <td>2020-02-28</td>\n",
              "      <td>Afghanistan</td>\n",
              "      <td>1.0</td>\n",
              "      <td>0.0</td>\n",
              "      <td>0.0</td>\n",
              "      <td>1.0</td>\n",
              "      <td>0.0</td>\n",
              "      <td>0.0</td>\n",
              "      <td>0.0</td>\n",
              "      <td>0.0</td>\n",
              "      <td>38928346.0</td>\n",
              "      <td>0.025688</td>\n",
              "    </tr>\n",
              "  </tbody>\n",
              "</table>\n",
              "</div>"
            ],
            "text/plain": [
              "        Date      Country  ...  Population  ConfirmedAcum_Millon\n",
              "0 2020-02-24  Afghanistan  ...  38928346.0              0.025688\n",
              "1 2020-02-25  Afghanistan  ...  38928346.0              0.025688\n",
              "2 2020-02-26  Afghanistan  ...  38928346.0              0.025688\n",
              "3 2020-02-27  Afghanistan  ...  38928346.0              0.025688\n",
              "4 2020-02-28  Afghanistan  ...  38928346.0              0.025688\n",
              "\n",
              "[5 rows x 12 columns]"
            ]
          },
          "metadata": {
            "tags": []
          },
          "execution_count": 41
        }
      ]
    },
    {
      "cell_type": "markdown",
      "metadata": {
        "id": "Vke4moEnmMci"
      },
      "source": [
        "## Rankins"
      ]
    },
    {
      "cell_type": "markdown",
      "metadata": {
        "id": "6PFpzjJPNXlx"
      },
      "source": [
        "I'm going to create a dataset of last day's cases. \n",
        "\n",
        "The goal is to get a set of rankings that tell me the countries with the most cases\n",
        "\n",
        "So I need a variable that contains the last date of the dataset"
      ]
    },
    {
      "cell_type": "code",
      "metadata": {
        "id": "fpjj8I1gIDkH",
        "colab": {
          "base_uri": "https://localhost:8080/"
        },
        "outputId": "88a17d7e-7d3d-4a10-9f9b-d365f4495b96"
      },
      "source": [
        "last_day = list(data_by_country.Date.sort_values(ascending = False))[0]\n",
        "last_day"
      ],
      "execution_count": 42,
      "outputs": [
        {
          "output_type": "execute_result",
          "data": {
            "text/plain": [
              "Timestamp('2020-12-06 00:00:00')"
            ]
          },
          "metadata": {
            "tags": []
          },
          "execution_count": 42
        }
      ]
    },
    {
      "cell_type": "markdown",
      "metadata": {
        "id": "iNaG20HENndT"
      },
      "source": [
        "Now I can filter the data by this date"
      ]
    },
    {
      "cell_type": "code",
      "metadata": {
        "id": "5xYLSoqXIH7o",
        "colab": {
          "base_uri": "https://localhost:8080/"
        },
        "outputId": "b09ebcba-a0f0-4a9e-b23d-746f01be0b60"
      },
      "source": [
        "last_day_data = data_by_country[data_by_country.Date == last_day]\n",
        "last_day_data.info()"
      ],
      "execution_count": 43,
      "outputs": [
        {
          "output_type": "stream",
          "text": [
            "<class 'pandas.core.frame.DataFrame'>\n",
            "Int64Index: 190 entries, 286 to 52204\n",
            "Data columns (total 12 columns):\n",
            " #   Column                Non-Null Count  Dtype         \n",
            "---  ------                --------------  -----         \n",
            " 0   Date                  190 non-null    datetime64[ns]\n",
            " 1   Country               190 non-null    object        \n",
            " 2   ConfirmedAcum         190 non-null    float64       \n",
            " 3   DeathsAcum            190 non-null    float64       \n",
            " 4   RecoveredAcum         190 non-null    float64       \n",
            " 5   ActiveAcum            190 non-null    float64       \n",
            " 6   Confirmed             190 non-null    float64       \n",
            " 7   Deaths                190 non-null    float64       \n",
            " 8   Recovered             190 non-null    float64       \n",
            " 9   Active                190 non-null    float64       \n",
            " 10  Population            184 non-null    float64       \n",
            " 11  ConfirmedAcum_Millon  184 non-null    float64       \n",
            "dtypes: datetime64[ns](1), float64(10), object(1)\n",
            "memory usage: 19.3+ KB\n"
          ],
          "name": "stdout"
        }
      ]
    },
    {
      "cell_type": "code",
      "metadata": {
        "id": "cwirZFd_IK0I",
        "colab": {
          "base_uri": "https://localhost:8080/",
          "height": 424
        },
        "outputId": "8a6c39ca-f99d-44e0-8fb7-1378e0d12994"
      },
      "source": [
        "last_day_data"
      ],
      "execution_count": 44,
      "outputs": [
        {
          "output_type": "execute_result",
          "data": {
            "text/html": [
              "<div>\n",
              "<style scoped>\n",
              "    .dataframe tbody tr th:only-of-type {\n",
              "        vertical-align: middle;\n",
              "    }\n",
              "\n",
              "    .dataframe tbody tr th {\n",
              "        vertical-align: top;\n",
              "    }\n",
              "\n",
              "    .dataframe thead th {\n",
              "        text-align: right;\n",
              "    }\n",
              "</style>\n",
              "<table border=\"1\" class=\"dataframe\">\n",
              "  <thead>\n",
              "    <tr style=\"text-align: right;\">\n",
              "      <th></th>\n",
              "      <th>Date</th>\n",
              "      <th>Country</th>\n",
              "      <th>ConfirmedAcum</th>\n",
              "      <th>DeathsAcum</th>\n",
              "      <th>RecoveredAcum</th>\n",
              "      <th>ActiveAcum</th>\n",
              "      <th>Confirmed</th>\n",
              "      <th>Deaths</th>\n",
              "      <th>Recovered</th>\n",
              "      <th>Active</th>\n",
              "      <th>Population</th>\n",
              "      <th>ConfirmedAcum_Millon</th>\n",
              "    </tr>\n",
              "  </thead>\n",
              "  <tbody>\n",
              "    <tr>\n",
              "      <th>286</th>\n",
              "      <td>2020-12-06</td>\n",
              "      <td>Afghanistan</td>\n",
              "      <td>47306.0</td>\n",
              "      <td>1874.0</td>\n",
              "      <td>37685.0</td>\n",
              "      <td>7747.0</td>\n",
              "      <td>234.0</td>\n",
              "      <td>10.0</td>\n",
              "      <td>292.0</td>\n",
              "      <td>-68.0</td>\n",
              "      <td>38928346.0</td>\n",
              "      <td>1215.207037</td>\n",
              "    </tr>\n",
              "    <tr>\n",
              "      <th>559</th>\n",
              "      <td>2020-12-06</td>\n",
              "      <td>Albania</td>\n",
              "      <td>42988.0</td>\n",
              "      <td>905.0</td>\n",
              "      <td>21617.0</td>\n",
              "      <td>20466.0</td>\n",
              "      <td>840.0</td>\n",
              "      <td>16.0</td>\n",
              "      <td>331.0</td>\n",
              "      <td>493.0</td>\n",
              "      <td>2877797.0</td>\n",
              "      <td>14937.815280</td>\n",
              "    </tr>\n",
              "    <tr>\n",
              "      <th>845</th>\n",
              "      <td>2020-12-06</td>\n",
              "      <td>Algeria</td>\n",
              "      <td>88252.0</td>\n",
              "      <td>2516.0</td>\n",
              "      <td>57146.0</td>\n",
              "      <td>28590.0</td>\n",
              "      <td>750.0</td>\n",
              "      <td>15.0</td>\n",
              "      <td>529.0</td>\n",
              "      <td>206.0</td>\n",
              "      <td>43851044.0</td>\n",
              "      <td>2012.540454</td>\n",
              "    </tr>\n",
              "    <tr>\n",
              "      <th>1125</th>\n",
              "      <td>2020-12-06</td>\n",
              "      <td>Andorra</td>\n",
              "      <td>7050.0</td>\n",
              "      <td>78.0</td>\n",
              "      <td>6238.0</td>\n",
              "      <td>734.0</td>\n",
              "      <td>45.0</td>\n",
              "      <td>0.0</td>\n",
              "      <td>67.0</td>\n",
              "      <td>-22.0</td>\n",
              "      <td>77265.0</td>\n",
              "      <td>91244.418560</td>\n",
              "    </tr>\n",
              "    <tr>\n",
              "      <th>1387</th>\n",
              "      <td>2020-12-06</td>\n",
              "      <td>Angola</td>\n",
              "      <td>15591.0</td>\n",
              "      <td>354.0</td>\n",
              "      <td>8338.0</td>\n",
              "      <td>6899.0</td>\n",
              "      <td>55.0</td>\n",
              "      <td>0.0</td>\n",
              "      <td>3.0</td>\n",
              "      <td>52.0</td>\n",
              "      <td>32866272.0</td>\n",
              "      <td>474.376893</td>\n",
              "    </tr>\n",
              "    <tr>\n",
              "      <th>...</th>\n",
              "      <td>...</td>\n",
              "      <td>...</td>\n",
              "      <td>...</td>\n",
              "      <td>...</td>\n",
              "      <td>...</td>\n",
              "      <td>...</td>\n",
              "      <td>...</td>\n",
              "      <td>...</td>\n",
              "      <td>...</td>\n",
              "      <td>...</td>\n",
              "      <td>...</td>\n",
              "      <td>...</td>\n",
              "    </tr>\n",
              "    <tr>\n",
              "      <th>51191</th>\n",
              "      <td>2020-12-06</td>\n",
              "      <td>Vietnam</td>\n",
              "      <td>1366.0</td>\n",
              "      <td>35.0</td>\n",
              "      <td>1220.0</td>\n",
              "      <td>111.0</td>\n",
              "      <td>1.0</td>\n",
              "      <td>0.0</td>\n",
              "      <td>0.0</td>\n",
              "      <td>1.0</td>\n",
              "      <td>97338579.0</td>\n",
              "      <td>14.033490</td>\n",
              "    </tr>\n",
              "    <tr>\n",
              "      <th>51437</th>\n",
              "      <td>2020-12-06</td>\n",
              "      <td>Western Sahara</td>\n",
              "      <td>10.0</td>\n",
              "      <td>1.0</td>\n",
              "      <td>8.0</td>\n",
              "      <td>1.0</td>\n",
              "      <td>0.0</td>\n",
              "      <td>0.0</td>\n",
              "      <td>0.0</td>\n",
              "      <td>0.0</td>\n",
              "      <td>597339.0</td>\n",
              "      <td>16.740913</td>\n",
              "    </tr>\n",
              "    <tr>\n",
              "      <th>51678</th>\n",
              "      <td>2020-12-06</td>\n",
              "      <td>Yemen</td>\n",
              "      <td>2337.0</td>\n",
              "      <td>639.0</td>\n",
              "      <td>1549.0</td>\n",
              "      <td>149.0</td>\n",
              "      <td>33.0</td>\n",
              "      <td>6.0</td>\n",
              "      <td>2.0</td>\n",
              "      <td>25.0</td>\n",
              "      <td>29825964.0</td>\n",
              "      <td>78.354550</td>\n",
              "    </tr>\n",
              "    <tr>\n",
              "      <th>51942</th>\n",
              "      <td>2020-12-06</td>\n",
              "      <td>Zambia</td>\n",
              "      <td>17916.0</td>\n",
              "      <td>364.0</td>\n",
              "      <td>17173.0</td>\n",
              "      <td>379.0</td>\n",
              "      <td>18.0</td>\n",
              "      <td>0.0</td>\n",
              "      <td>5.0</td>\n",
              "      <td>13.0</td>\n",
              "      <td>18383955.0</td>\n",
              "      <td>974.545466</td>\n",
              "    </tr>\n",
              "    <tr>\n",
              "      <th>52204</th>\n",
              "      <td>2020-12-06</td>\n",
              "      <td>Zimbabwe</td>\n",
              "      <td>10718.0</td>\n",
              "      <td>291.0</td>\n",
              "      <td>8880.0</td>\n",
              "      <td>1547.0</td>\n",
              "      <td>101.0</td>\n",
              "      <td>0.0</td>\n",
              "      <td>36.0</td>\n",
              "      <td>65.0</td>\n",
              "      <td>14862924.0</td>\n",
              "      <td>721.123246</td>\n",
              "    </tr>\n",
              "  </tbody>\n",
              "</table>\n",
              "<p>190 rows × 12 columns</p>\n",
              "</div>"
            ],
            "text/plain": [
              "            Date         Country  ...  Population  ConfirmedAcum_Millon\n",
              "286   2020-12-06     Afghanistan  ...  38928346.0           1215.207037\n",
              "559   2020-12-06         Albania  ...   2877797.0          14937.815280\n",
              "845   2020-12-06         Algeria  ...  43851044.0           2012.540454\n",
              "1125  2020-12-06         Andorra  ...     77265.0          91244.418560\n",
              "1387  2020-12-06          Angola  ...  32866272.0            474.376893\n",
              "...          ...             ...  ...         ...                   ...\n",
              "51191 2020-12-06         Vietnam  ...  97338579.0             14.033490\n",
              "51437 2020-12-06  Western Sahara  ...    597339.0             16.740913\n",
              "51678 2020-12-06           Yemen  ...  29825964.0             78.354550\n",
              "51942 2020-12-06          Zambia  ...  18383955.0            974.545466\n",
              "52204 2020-12-06        Zimbabwe  ...  14862924.0            721.123246\n",
              "\n",
              "[190 rows x 12 columns]"
            ]
          },
          "metadata": {
            "tags": []
          },
          "execution_count": 44
        }
      ]
    },
    {
      "cell_type": "markdown",
      "metadata": {
        "id": "mmTBsUOROG6s"
      },
      "source": [
        "Let's assign new columns with the most interesting rankins ..."
      ]
    },
    {
      "cell_type": "code",
      "metadata": {
        "id": "6jBUyahqINJ6",
        "colab": {
          "base_uri": "https://localhost:8080/",
          "height": 424
        },
        "outputId": "0b30175b-a07d-4297-9fe7-4324ad53fcbb"
      },
      "source": [
        "last_day_data = last_day_data.assign(\n",
        "    Rank_ConfirmedAcum = last_day_data.ConfirmedAcum.rank(),\n",
        "    Rank_Confirmed = last_day_data.Confirmed.rank(),\n",
        "    Rank_ActiveAcum = last_day_data.ActiveAcum.rank(),\n",
        "    Rank_Active = last_day_data.Active.rank(),\n",
        "    Rank_ConfirmedAcum_Millon = last_day_data.ConfirmedAcum_Millon.rank()\n",
        ")\n",
        "last_day_data"
      ],
      "execution_count": 45,
      "outputs": [
        {
          "output_type": "execute_result",
          "data": {
            "text/html": [
              "<div>\n",
              "<style scoped>\n",
              "    .dataframe tbody tr th:only-of-type {\n",
              "        vertical-align: middle;\n",
              "    }\n",
              "\n",
              "    .dataframe tbody tr th {\n",
              "        vertical-align: top;\n",
              "    }\n",
              "\n",
              "    .dataframe thead th {\n",
              "        text-align: right;\n",
              "    }\n",
              "</style>\n",
              "<table border=\"1\" class=\"dataframe\">\n",
              "  <thead>\n",
              "    <tr style=\"text-align: right;\">\n",
              "      <th></th>\n",
              "      <th>Date</th>\n",
              "      <th>Country</th>\n",
              "      <th>ConfirmedAcum</th>\n",
              "      <th>DeathsAcum</th>\n",
              "      <th>RecoveredAcum</th>\n",
              "      <th>ActiveAcum</th>\n",
              "      <th>Confirmed</th>\n",
              "      <th>Deaths</th>\n",
              "      <th>Recovered</th>\n",
              "      <th>Active</th>\n",
              "      <th>Population</th>\n",
              "      <th>ConfirmedAcum_Millon</th>\n",
              "      <th>Rank_ConfirmedAcum</th>\n",
              "      <th>Rank_Confirmed</th>\n",
              "      <th>Rank_ActiveAcum</th>\n",
              "      <th>Rank_Active</th>\n",
              "      <th>Rank_ConfirmedAcum_Millon</th>\n",
              "    </tr>\n",
              "  </thead>\n",
              "  <tbody>\n",
              "    <tr>\n",
              "      <th>286</th>\n",
              "      <td>2020-12-06</td>\n",
              "      <td>Afghanistan</td>\n",
              "      <td>47306.0</td>\n",
              "      <td>1874.0</td>\n",
              "      <td>37685.0</td>\n",
              "      <td>7747.0</td>\n",
              "      <td>234.0</td>\n",
              "      <td>10.0</td>\n",
              "      <td>292.0</td>\n",
              "      <td>-68.0</td>\n",
              "      <td>38928346.0</td>\n",
              "      <td>1215.207037</td>\n",
              "      <td>103.0</td>\n",
              "      <td>102.0</td>\n",
              "      <td>106.0</td>\n",
              "      <td>34.0</td>\n",
              "      <td>61.0</td>\n",
              "    </tr>\n",
              "    <tr>\n",
              "      <th>559</th>\n",
              "      <td>2020-12-06</td>\n",
              "      <td>Albania</td>\n",
              "      <td>42988.0</td>\n",
              "      <td>905.0</td>\n",
              "      <td>21617.0</td>\n",
              "      <td>20466.0</td>\n",
              "      <td>840.0</td>\n",
              "      <td>16.0</td>\n",
              "      <td>331.0</td>\n",
              "      <td>493.0</td>\n",
              "      <td>2877797.0</td>\n",
              "      <td>14937.815280</td>\n",
              "      <td>102.0</td>\n",
              "      <td>134.0</td>\n",
              "      <td>128.0</td>\n",
              "      <td>162.0</td>\n",
              "      <td>124.0</td>\n",
              "    </tr>\n",
              "    <tr>\n",
              "      <th>845</th>\n",
              "      <td>2020-12-06</td>\n",
              "      <td>Algeria</td>\n",
              "      <td>88252.0</td>\n",
              "      <td>2516.0</td>\n",
              "      <td>57146.0</td>\n",
              "      <td>28590.0</td>\n",
              "      <td>750.0</td>\n",
              "      <td>15.0</td>\n",
              "      <td>529.0</td>\n",
              "      <td>206.0</td>\n",
              "      <td>43851044.0</td>\n",
              "      <td>2012.540454</td>\n",
              "      <td>117.0</td>\n",
              "      <td>131.0</td>\n",
              "      <td>142.0</td>\n",
              "      <td>146.0</td>\n",
              "      <td>73.0</td>\n",
              "    </tr>\n",
              "    <tr>\n",
              "      <th>1125</th>\n",
              "      <td>2020-12-06</td>\n",
              "      <td>Andorra</td>\n",
              "      <td>7050.0</td>\n",
              "      <td>78.0</td>\n",
              "      <td>6238.0</td>\n",
              "      <td>734.0</td>\n",
              "      <td>45.0</td>\n",
              "      <td>0.0</td>\n",
              "      <td>67.0</td>\n",
              "      <td>-22.0</td>\n",
              "      <td>77265.0</td>\n",
              "      <td>91244.418560</td>\n",
              "      <td>62.0</td>\n",
              "      <td>77.5</td>\n",
              "      <td>65.0</td>\n",
              "      <td>37.5</td>\n",
              "      <td>184.0</td>\n",
              "    </tr>\n",
              "    <tr>\n",
              "      <th>1387</th>\n",
              "      <td>2020-12-06</td>\n",
              "      <td>Angola</td>\n",
              "      <td>15591.0</td>\n",
              "      <td>354.0</td>\n",
              "      <td>8338.0</td>\n",
              "      <td>6899.0</td>\n",
              "      <td>55.0</td>\n",
              "      <td>0.0</td>\n",
              "      <td>3.0</td>\n",
              "      <td>52.0</td>\n",
              "      <td>32866272.0</td>\n",
              "      <td>474.376893</td>\n",
              "      <td>82.0</td>\n",
              "      <td>79.0</td>\n",
              "      <td>101.0</td>\n",
              "      <td>129.0</td>\n",
              "      <td>38.0</td>\n",
              "    </tr>\n",
              "    <tr>\n",
              "      <th>...</th>\n",
              "      <td>...</td>\n",
              "      <td>...</td>\n",
              "      <td>...</td>\n",
              "      <td>...</td>\n",
              "      <td>...</td>\n",
              "      <td>...</td>\n",
              "      <td>...</td>\n",
              "      <td>...</td>\n",
              "      <td>...</td>\n",
              "      <td>...</td>\n",
              "      <td>...</td>\n",
              "      <td>...</td>\n",
              "      <td>...</td>\n",
              "      <td>...</td>\n",
              "      <td>...</td>\n",
              "      <td>...</td>\n",
              "      <td>...</td>\n",
              "    </tr>\n",
              "    <tr>\n",
              "      <th>51191</th>\n",
              "      <td>2020-12-06</td>\n",
              "      <td>Vietnam</td>\n",
              "      <td>1366.0</td>\n",
              "      <td>35.0</td>\n",
              "      <td>1220.0</td>\n",
              "      <td>111.0</td>\n",
              "      <td>1.0</td>\n",
              "      <td>0.0</td>\n",
              "      <td>0.0</td>\n",
              "      <td>1.0</td>\n",
              "      <td>97338579.0</td>\n",
              "      <td>14.033490</td>\n",
              "      <td>32.0</td>\n",
              "      <td>51.0</td>\n",
              "      <td>37.0</td>\n",
              "      <td>99.0</td>\n",
              "      <td>4.0</td>\n",
              "    </tr>\n",
              "    <tr>\n",
              "      <th>51437</th>\n",
              "      <td>2020-12-06</td>\n",
              "      <td>Western Sahara</td>\n",
              "      <td>10.0</td>\n",
              "      <td>1.0</td>\n",
              "      <td>8.0</td>\n",
              "      <td>1.0</td>\n",
              "      <td>0.0</td>\n",
              "      <td>0.0</td>\n",
              "      <td>0.0</td>\n",
              "      <td>0.0</td>\n",
              "      <td>597339.0</td>\n",
              "      <td>16.740913</td>\n",
              "      <td>4.0</td>\n",
              "      <td>25.0</td>\n",
              "      <td>7.0</td>\n",
              "      <td>74.0</td>\n",
              "      <td>5.0</td>\n",
              "    </tr>\n",
              "    <tr>\n",
              "      <th>51678</th>\n",
              "      <td>2020-12-06</td>\n",
              "      <td>Yemen</td>\n",
              "      <td>2337.0</td>\n",
              "      <td>639.0</td>\n",
              "      <td>1549.0</td>\n",
              "      <td>149.0</td>\n",
              "      <td>33.0</td>\n",
              "      <td>6.0</td>\n",
              "      <td>2.0</td>\n",
              "      <td>25.0</td>\n",
              "      <td>29825964.0</td>\n",
              "      <td>78.354550</td>\n",
              "      <td>40.0</td>\n",
              "      <td>71.0</td>\n",
              "      <td>42.0</td>\n",
              "      <td>118.5</td>\n",
              "      <td>17.0</td>\n",
              "    </tr>\n",
              "    <tr>\n",
              "      <th>51942</th>\n",
              "      <td>2020-12-06</td>\n",
              "      <td>Zambia</td>\n",
              "      <td>17916.0</td>\n",
              "      <td>364.0</td>\n",
              "      <td>17173.0</td>\n",
              "      <td>379.0</td>\n",
              "      <td>18.0</td>\n",
              "      <td>0.0</td>\n",
              "      <td>5.0</td>\n",
              "      <td>13.0</td>\n",
              "      <td>18383955.0</td>\n",
              "      <td>974.545466</td>\n",
              "      <td>86.0</td>\n",
              "      <td>65.5</td>\n",
              "      <td>55.0</td>\n",
              "      <td>110.0</td>\n",
              "      <td>51.0</td>\n",
              "    </tr>\n",
              "    <tr>\n",
              "      <th>52204</th>\n",
              "      <td>2020-12-06</td>\n",
              "      <td>Zimbabwe</td>\n",
              "      <td>10718.0</td>\n",
              "      <td>291.0</td>\n",
              "      <td>8880.0</td>\n",
              "      <td>1547.0</td>\n",
              "      <td>101.0</td>\n",
              "      <td>0.0</td>\n",
              "      <td>36.0</td>\n",
              "      <td>65.0</td>\n",
              "      <td>14862924.0</td>\n",
              "      <td>721.123246</td>\n",
              "      <td>72.0</td>\n",
              "      <td>89.0</td>\n",
              "      <td>80.0</td>\n",
              "      <td>131.0</td>\n",
              "      <td>45.0</td>\n",
              "    </tr>\n",
              "  </tbody>\n",
              "</table>\n",
              "<p>190 rows × 17 columns</p>\n",
              "</div>"
            ],
            "text/plain": [
              "            Date         Country  ...  Rank_Active  Rank_ConfirmedAcum_Millon\n",
              "286   2020-12-06     Afghanistan  ...         34.0                       61.0\n",
              "559   2020-12-06         Albania  ...        162.0                      124.0\n",
              "845   2020-12-06         Algeria  ...        146.0                       73.0\n",
              "1125  2020-12-06         Andorra  ...         37.5                      184.0\n",
              "1387  2020-12-06          Angola  ...        129.0                       38.0\n",
              "...          ...             ...  ...          ...                        ...\n",
              "51191 2020-12-06         Vietnam  ...         99.0                        4.0\n",
              "51437 2020-12-06  Western Sahara  ...         74.0                        5.0\n",
              "51678 2020-12-06           Yemen  ...        118.5                       17.0\n",
              "51942 2020-12-06          Zambia  ...        110.0                       51.0\n",
              "52204 2020-12-06        Zimbabwe  ...        131.0                       45.0\n",
              "\n",
              "[190 rows x 17 columns]"
            ]
          },
          "metadata": {
            "tags": []
          },
          "execution_count": 45
        }
      ]
    },
    {
      "cell_type": "markdown",
      "metadata": {
        "id": "HivVOvHXONay"
      },
      "source": [
        "Which countries have the most confirmed cases?"
      ]
    },
    {
      "cell_type": "code",
      "metadata": {
        "id": "_7PM3zGbIPso",
        "colab": {
          "base_uri": "https://localhost:8080/",
          "height": 363
        },
        "outputId": "b88c1569-a4c0-443d-a1bb-ce450dae0b88"
      },
      "source": [
        "last_day_data.sort_values('Rank_ConfirmedAcum', ascending = False)[['Country', 'ConfirmedAcum']].reset_index(drop = True).head(10)"
      ],
      "execution_count": 46,
      "outputs": [
        {
          "output_type": "execute_result",
          "data": {
            "text/html": [
              "<div>\n",
              "<style scoped>\n",
              "    .dataframe tbody tr th:only-of-type {\n",
              "        vertical-align: middle;\n",
              "    }\n",
              "\n",
              "    .dataframe tbody tr th {\n",
              "        vertical-align: top;\n",
              "    }\n",
              "\n",
              "    .dataframe thead th {\n",
              "        text-align: right;\n",
              "    }\n",
              "</style>\n",
              "<table border=\"1\" class=\"dataframe\">\n",
              "  <thead>\n",
              "    <tr style=\"text-align: right;\">\n",
              "      <th></th>\n",
              "      <th>Country</th>\n",
              "      <th>ConfirmedAcum</th>\n",
              "    </tr>\n",
              "  </thead>\n",
              "  <tbody>\n",
              "    <tr>\n",
              "      <th>0</th>\n",
              "      <td>United States</td>\n",
              "      <td>14757000.0</td>\n",
              "    </tr>\n",
              "    <tr>\n",
              "      <th>1</th>\n",
              "      <td>India</td>\n",
              "      <td>9677203.0</td>\n",
              "    </tr>\n",
              "    <tr>\n",
              "      <th>2</th>\n",
              "      <td>Brazil</td>\n",
              "      <td>6603540.0</td>\n",
              "    </tr>\n",
              "    <tr>\n",
              "      <th>3</th>\n",
              "      <td>Russia</td>\n",
              "      <td>2439163.0</td>\n",
              "    </tr>\n",
              "    <tr>\n",
              "      <th>4</th>\n",
              "      <td>France</td>\n",
              "      <td>2345648.0</td>\n",
              "    </tr>\n",
              "    <tr>\n",
              "      <th>5</th>\n",
              "      <td>Italy</td>\n",
              "      <td>1728878.0</td>\n",
              "    </tr>\n",
              "    <tr>\n",
              "      <th>6</th>\n",
              "      <td>United Kingdom</td>\n",
              "      <td>1727751.0</td>\n",
              "    </tr>\n",
              "    <tr>\n",
              "      <th>7</th>\n",
              "      <td>Spain</td>\n",
              "      <td>1684647.0</td>\n",
              "    </tr>\n",
              "    <tr>\n",
              "      <th>8</th>\n",
              "      <td>Argentina</td>\n",
              "      <td>1463110.0</td>\n",
              "    </tr>\n",
              "    <tr>\n",
              "      <th>9</th>\n",
              "      <td>Colombia</td>\n",
              "      <td>1371103.0</td>\n",
              "    </tr>\n",
              "  </tbody>\n",
              "</table>\n",
              "</div>"
            ],
            "text/plain": [
              "          Country  ConfirmedAcum\n",
              "0   United States     14757000.0\n",
              "1           India      9677203.0\n",
              "2          Brazil      6603540.0\n",
              "3          Russia      2439163.0\n",
              "4          France      2345648.0\n",
              "5           Italy      1728878.0\n",
              "6  United Kingdom      1727751.0\n",
              "7           Spain      1684647.0\n",
              "8       Argentina      1463110.0\n",
              "9        Colombia      1371103.0"
            ]
          },
          "metadata": {
            "tags": []
          },
          "execution_count": 46
        }
      ]
    },
    {
      "cell_type": "markdown",
      "metadata": {
        "id": "Zlu8j_bvOYCT"
      },
      "source": [
        "Which countries have more confirmed cases on the last day?"
      ]
    },
    {
      "cell_type": "code",
      "metadata": {
        "id": "PCYQySQTISh4",
        "colab": {
          "base_uri": "https://localhost:8080/",
          "height": 363
        },
        "outputId": "c66fb813-db93-4e21-8dc1-9be7628a8199"
      },
      "source": [
        "last_day_data.sort_values('Rank_Confirmed', ascending = False)[['Country', 'Confirmed']].reset_index(drop = True).head(10)"
      ],
      "execution_count": 47,
      "outputs": [
        {
          "output_type": "execute_result",
          "data": {
            "text/html": [
              "<div>\n",
              "<style scoped>\n",
              "    .dataframe tbody tr th:only-of-type {\n",
              "        vertical-align: middle;\n",
              "    }\n",
              "\n",
              "    .dataframe tbody tr th {\n",
              "        vertical-align: top;\n",
              "    }\n",
              "\n",
              "    .dataframe thead th {\n",
              "        text-align: right;\n",
              "    }\n",
              "</style>\n",
              "<table border=\"1\" class=\"dataframe\">\n",
              "  <thead>\n",
              "    <tr style=\"text-align: right;\">\n",
              "      <th></th>\n",
              "      <th>Country</th>\n",
              "      <th>Confirmed</th>\n",
              "    </tr>\n",
              "  </thead>\n",
              "  <tbody>\n",
              "    <tr>\n",
              "      <th>0</th>\n",
              "      <td>United States</td>\n",
              "      <td>175663.0</td>\n",
              "    </tr>\n",
              "    <tr>\n",
              "      <th>1</th>\n",
              "      <td>India</td>\n",
              "      <td>32981.0</td>\n",
              "    </tr>\n",
              "    <tr>\n",
              "      <th>2</th>\n",
              "      <td>Turkey</td>\n",
              "      <td>30402.0</td>\n",
              "    </tr>\n",
              "    <tr>\n",
              "      <th>3</th>\n",
              "      <td>Russia</td>\n",
              "      <td>28701.0</td>\n",
              "    </tr>\n",
              "    <tr>\n",
              "      <th>4</th>\n",
              "      <td>Brazil</td>\n",
              "      <td>26363.0</td>\n",
              "    </tr>\n",
              "    <tr>\n",
              "      <th>5</th>\n",
              "      <td>Italy</td>\n",
              "      <td>18887.0</td>\n",
              "    </tr>\n",
              "    <tr>\n",
              "      <th>6</th>\n",
              "      <td>United Kingdom</td>\n",
              "      <td>17372.0</td>\n",
              "    </tr>\n",
              "    <tr>\n",
              "      <th>7</th>\n",
              "      <td>Ukraine</td>\n",
              "      <td>11928.0</td>\n",
              "    </tr>\n",
              "    <tr>\n",
              "      <th>8</th>\n",
              "      <td>Iran</td>\n",
              "      <td>11561.0</td>\n",
              "    </tr>\n",
              "    <tr>\n",
              "      <th>9</th>\n",
              "      <td>France</td>\n",
              "      <td>11022.0</td>\n",
              "    </tr>\n",
              "  </tbody>\n",
              "</table>\n",
              "</div>"
            ],
            "text/plain": [
              "          Country  Confirmed\n",
              "0   United States   175663.0\n",
              "1           India    32981.0\n",
              "2          Turkey    30402.0\n",
              "3          Russia    28701.0\n",
              "4          Brazil    26363.0\n",
              "5           Italy    18887.0\n",
              "6  United Kingdom    17372.0\n",
              "7         Ukraine    11928.0\n",
              "8            Iran    11561.0\n",
              "9          France    11022.0"
            ]
          },
          "metadata": {
            "tags": []
          },
          "execution_count": 47
        }
      ]
    },
    {
      "cell_type": "markdown",
      "metadata": {
        "id": "3m_EcGT6OhPK"
      },
      "source": [
        "Which countries have the most active cases?"
      ]
    },
    {
      "cell_type": "code",
      "metadata": {
        "id": "VjKAEOvNIVvY",
        "colab": {
          "base_uri": "https://localhost:8080/",
          "height": 363
        },
        "outputId": "779ea6b4-79b5-4121-e719-cf2f04bffd9f"
      },
      "source": [
        "last_day_data.sort_values('Rank_ActiveAcum', ascending = False)[['Country', 'ActiveAcum']].reset_index(drop = True).head(10)"
      ],
      "execution_count": 48,
      "outputs": [
        {
          "output_type": "execute_result",
          "data": {
            "text/html": [
              "<div>\n",
              "<style scoped>\n",
              "    .dataframe tbody tr th:only-of-type {\n",
              "        vertical-align: middle;\n",
              "    }\n",
              "\n",
              "    .dataframe tbody tr th {\n",
              "        vertical-align: top;\n",
              "    }\n",
              "\n",
              "    .dataframe thead th {\n",
              "        text-align: right;\n",
              "    }\n",
              "</style>\n",
              "<table border=\"1\" class=\"dataframe\">\n",
              "  <thead>\n",
              "    <tr style=\"text-align: right;\">\n",
              "      <th></th>\n",
              "      <th>Country</th>\n",
              "      <th>ActiveAcum</th>\n",
              "    </tr>\n",
              "  </thead>\n",
              "  <tbody>\n",
              "    <tr>\n",
              "      <th>0</th>\n",
              "      <td>United States</td>\n",
              "      <td>8850257.0</td>\n",
              "    </tr>\n",
              "    <tr>\n",
              "      <th>1</th>\n",
              "      <td>France</td>\n",
              "      <td>2115181.0</td>\n",
              "    </tr>\n",
              "    <tr>\n",
              "      <th>2</th>\n",
              "      <td>United Kingdom</td>\n",
              "      <td>1662673.0</td>\n",
              "    </tr>\n",
              "    <tr>\n",
              "      <th>3</th>\n",
              "      <td>Spain</td>\n",
              "      <td>1488019.0</td>\n",
              "    </tr>\n",
              "    <tr>\n",
              "      <th>4</th>\n",
              "      <td>Italy</td>\n",
              "      <td>755306.0</td>\n",
              "    </tr>\n",
              "    <tr>\n",
              "      <th>5</th>\n",
              "      <td>Belgium</td>\n",
              "      <td>574436.0</td>\n",
              "    </tr>\n",
              "    <tr>\n",
              "      <th>6</th>\n",
              "      <td>Brazil</td>\n",
              "      <td>559942.0</td>\n",
              "    </tr>\n",
              "    <tr>\n",
              "      <th>7</th>\n",
              "      <td>Netherlands</td>\n",
              "      <td>549560.0</td>\n",
              "    </tr>\n",
              "    <tr>\n",
              "      <th>8</th>\n",
              "      <td>Russia</td>\n",
              "      <td>475744.0</td>\n",
              "    </tr>\n",
              "    <tr>\n",
              "      <th>9</th>\n",
              "      <td>India</td>\n",
              "      <td>396729.0</td>\n",
              "    </tr>\n",
              "  </tbody>\n",
              "</table>\n",
              "</div>"
            ],
            "text/plain": [
              "          Country  ActiveAcum\n",
              "0   United States   8850257.0\n",
              "1          France   2115181.0\n",
              "2  United Kingdom   1662673.0\n",
              "3           Spain   1488019.0\n",
              "4           Italy    755306.0\n",
              "5         Belgium    574436.0\n",
              "6          Brazil    559942.0\n",
              "7     Netherlands    549560.0\n",
              "8          Russia    475744.0\n",
              "9           India    396729.0"
            ]
          },
          "metadata": {
            "tags": []
          },
          "execution_count": 48
        }
      ]
    },
    {
      "cell_type": "markdown",
      "metadata": {
        "id": "0TybT0p1OmEG"
      },
      "source": [
        "Which countries had the most active cases on the last day?"
      ]
    },
    {
      "cell_type": "code",
      "metadata": {
        "id": "h76bTP6rIavQ",
        "colab": {
          "base_uri": "https://localhost:8080/",
          "height": 363
        },
        "outputId": "857e14b0-599c-4df5-bea6-b37f47cee251"
      },
      "source": [
        "last_day_data.sort_values('Rank_Active', ascending = False)[['Country', 'Active']].reset_index(drop = True).head(10)"
      ],
      "execution_count": 49,
      "outputs": [
        {
          "output_type": "execute_result",
          "data": {
            "text/html": [
              "<div>\n",
              "<style scoped>\n",
              "    .dataframe tbody tr th:only-of-type {\n",
              "        vertical-align: middle;\n",
              "    }\n",
              "\n",
              "    .dataframe tbody tr th {\n",
              "        vertical-align: top;\n",
              "    }\n",
              "\n",
              "    .dataframe thead th {\n",
              "        text-align: right;\n",
              "    }\n",
              "</style>\n",
              "<table border=\"1\" class=\"dataframe\">\n",
              "  <thead>\n",
              "    <tr style=\"text-align: right;\">\n",
              "      <th></th>\n",
              "      <th>Country</th>\n",
              "      <th>Active</th>\n",
              "    </tr>\n",
              "  </thead>\n",
              "  <tbody>\n",
              "    <tr>\n",
              "      <th>0</th>\n",
              "      <td>United States</td>\n",
              "      <td>126132.0</td>\n",
              "    </tr>\n",
              "    <tr>\n",
              "      <th>1</th>\n",
              "      <td>Turkey</td>\n",
              "      <td>26196.0</td>\n",
              "    </tr>\n",
              "    <tr>\n",
              "      <th>2</th>\n",
              "      <td>Brazil</td>\n",
              "      <td>24231.0</td>\n",
              "    </tr>\n",
              "    <tr>\n",
              "      <th>3</th>\n",
              "      <td>United Kingdom</td>\n",
              "      <td>17055.0</td>\n",
              "    </tr>\n",
              "    <tr>\n",
              "      <th>4</th>\n",
              "      <td>France</td>\n",
              "      <td>10620.0</td>\n",
              "    </tr>\n",
              "    <tr>\n",
              "      <th>5</th>\n",
              "      <td>Russia</td>\n",
              "      <td>6984.0</td>\n",
              "    </tr>\n",
              "    <tr>\n",
              "      <th>6</th>\n",
              "      <td>Netherlands</td>\n",
              "      <td>6853.0</td>\n",
              "    </tr>\n",
              "    <tr>\n",
              "      <th>7</th>\n",
              "      <td>Serbia</td>\n",
              "      <td>5751.0</td>\n",
              "    </tr>\n",
              "    <tr>\n",
              "      <th>8</th>\n",
              "      <td>Ukraine</td>\n",
              "      <td>5631.0</td>\n",
              "    </tr>\n",
              "    <tr>\n",
              "      <th>9</th>\n",
              "      <td>Hungary</td>\n",
              "      <td>5249.0</td>\n",
              "    </tr>\n",
              "  </tbody>\n",
              "</table>\n",
              "</div>"
            ],
            "text/plain": [
              "          Country    Active\n",
              "0   United States  126132.0\n",
              "1          Turkey   26196.0\n",
              "2          Brazil   24231.0\n",
              "3  United Kingdom   17055.0\n",
              "4          France   10620.0\n",
              "5          Russia    6984.0\n",
              "6     Netherlands    6853.0\n",
              "7          Serbia    5751.0\n",
              "8         Ukraine    5631.0\n",
              "9         Hungary    5249.0"
            ]
          },
          "metadata": {
            "tags": []
          },
          "execution_count": 49
        }
      ]
    },
    {
      "cell_type": "markdown",
      "metadata": {
        "id": "g560FCcvOrm4"
      },
      "source": [
        "Which countries have the most active cases per million inhabitants?"
      ]
    },
    {
      "cell_type": "code",
      "metadata": {
        "id": "lycUSCknKvYW",
        "colab": {
          "base_uri": "https://localhost:8080/",
          "height": 677
        },
        "outputId": "7ee2f152-457e-430c-faeb-07670f4336a4"
      },
      "source": [
        "last_day_data.sort_values('Rank_ConfirmedAcum_Millon', ascending = False)[['Country', 'ConfirmedAcum_Millon']].reset_index(drop = True).head(20)"
      ],
      "execution_count": 50,
      "outputs": [
        {
          "output_type": "execute_result",
          "data": {
            "text/html": [
              "<div>\n",
              "<style scoped>\n",
              "    .dataframe tbody tr th:only-of-type {\n",
              "        vertical-align: middle;\n",
              "    }\n",
              "\n",
              "    .dataframe tbody tr th {\n",
              "        vertical-align: top;\n",
              "    }\n",
              "\n",
              "    .dataframe thead th {\n",
              "        text-align: right;\n",
              "    }\n",
              "</style>\n",
              "<table border=\"1\" class=\"dataframe\">\n",
              "  <thead>\n",
              "    <tr style=\"text-align: right;\">\n",
              "      <th></th>\n",
              "      <th>Country</th>\n",
              "      <th>ConfirmedAcum_Millon</th>\n",
              "    </tr>\n",
              "  </thead>\n",
              "  <tbody>\n",
              "    <tr>\n",
              "      <th>0</th>\n",
              "      <td>Andorra</td>\n",
              "      <td>91244.418560</td>\n",
              "    </tr>\n",
              "    <tr>\n",
              "      <th>1</th>\n",
              "      <td>Montenegro</td>\n",
              "      <td>60894.874106</td>\n",
              "    </tr>\n",
              "    <tr>\n",
              "      <th>2</th>\n",
              "      <td>Luxembourg</td>\n",
              "      <td>59134.666075</td>\n",
              "    </tr>\n",
              "    <tr>\n",
              "      <th>3</th>\n",
              "      <td>San Marino</td>\n",
              "      <td>52724.647078</td>\n",
              "    </tr>\n",
              "    <tr>\n",
              "      <th>4</th>\n",
              "      <td>Bahrain</td>\n",
              "      <td>51675.653439</td>\n",
              "    </tr>\n",
              "    <tr>\n",
              "      <th>5</th>\n",
              "      <td>Czech Republic (Czechia)</td>\n",
              "      <td>51063.028312</td>\n",
              "    </tr>\n",
              "    <tr>\n",
              "      <th>6</th>\n",
              "      <td>Belgium</td>\n",
              "      <td>51059.124184</td>\n",
              "    </tr>\n",
              "    <tr>\n",
              "      <th>7</th>\n",
              "      <td>Qatar</td>\n",
              "      <td>48561.411401</td>\n",
              "    </tr>\n",
              "    <tr>\n",
              "      <th>8</th>\n",
              "      <td>Armenia</td>\n",
              "      <td>47899.210426</td>\n",
              "    </tr>\n",
              "    <tr>\n",
              "      <th>9</th>\n",
              "      <td>United States</td>\n",
              "      <td>44582.724505</td>\n",
              "    </tr>\n",
              "    <tr>\n",
              "      <th>10</th>\n",
              "      <td>Slovenia</td>\n",
              "      <td>41273.477131</td>\n",
              "    </tr>\n",
              "    <tr>\n",
              "      <th>11</th>\n",
              "      <td>Panama</td>\n",
              "      <td>41188.550853</td>\n",
              "    </tr>\n",
              "    <tr>\n",
              "      <th>12</th>\n",
              "      <td>Georgia</td>\n",
              "      <td>40729.054462</td>\n",
              "    </tr>\n",
              "    <tr>\n",
              "      <th>13</th>\n",
              "      <td>Israel</td>\n",
              "      <td>39848.027880</td>\n",
              "    </tr>\n",
              "    <tr>\n",
              "      <th>14</th>\n",
              "      <td>Switzerland</td>\n",
              "      <td>39804.973574</td>\n",
              "    </tr>\n",
              "    <tr>\n",
              "      <th>15</th>\n",
              "      <td>Croatia</td>\n",
              "      <td>36624.414441</td>\n",
              "    </tr>\n",
              "    <tr>\n",
              "      <th>16</th>\n",
              "      <td>Liechtenstein</td>\n",
              "      <td>36613.512379</td>\n",
              "    </tr>\n",
              "    <tr>\n",
              "      <th>17</th>\n",
              "      <td>Spain</td>\n",
              "      <td>36031.547407</td>\n",
              "    </tr>\n",
              "    <tr>\n",
              "      <th>18</th>\n",
              "      <td>France</td>\n",
              "      <td>35935.679942</td>\n",
              "    </tr>\n",
              "    <tr>\n",
              "      <th>19</th>\n",
              "      <td>Kuwait</td>\n",
              "      <td>33805.549656</td>\n",
              "    </tr>\n",
              "  </tbody>\n",
              "</table>\n",
              "</div>"
            ],
            "text/plain": [
              "                     Country  ConfirmedAcum_Millon\n",
              "0                    Andorra          91244.418560\n",
              "1                 Montenegro          60894.874106\n",
              "2                 Luxembourg          59134.666075\n",
              "3                 San Marino          52724.647078\n",
              "4                    Bahrain          51675.653439\n",
              "5   Czech Republic (Czechia)          51063.028312\n",
              "6                    Belgium          51059.124184\n",
              "7                      Qatar          48561.411401\n",
              "8                    Armenia          47899.210426\n",
              "9              United States          44582.724505\n",
              "10                  Slovenia          41273.477131\n",
              "11                    Panama          41188.550853\n",
              "12                   Georgia          40729.054462\n",
              "13                    Israel          39848.027880\n",
              "14               Switzerland          39804.973574\n",
              "15                   Croatia          36624.414441\n",
              "16             Liechtenstein          36613.512379\n",
              "17                     Spain          36031.547407\n",
              "18                    France          35935.679942\n",
              "19                    Kuwait          33805.549656"
            ]
          },
          "metadata": {
            "tags": []
          },
          "execution_count": 50
        }
      ]
    },
    {
      "cell_type": "markdown",
      "metadata": {
        "id": "6P2fEQV6NAtA"
      },
      "source": [
        "What is the total number of cases?"
      ]
    },
    {
      "cell_type": "code",
      "metadata": {
        "id": "alM4NqMRLoYG",
        "colab": {
          "base_uri": "https://localhost:8080/",
          "height": 81
        },
        "outputId": "140fc0a8-5bfa-4056-8b12-095b30528137"
      },
      "source": [
        "import locale\n",
        "locale.setlocale(locale.LC_ALL, '')\n",
        "\n",
        "total = pd.DataFrame(last_day_data[[\"ConfirmedAcum\", \"RecoveredAcum\", \"DeathsAcum\"]].aggregate(\"sum\")\\\n",
        "                     .apply(lambda value : locale.format(\"%d\", value, grouping=True)))\n",
        "total.columns = [\"Total Cases\"]\n",
        "total.index = ['Confirmed', 'Recovered', 'Deaths']\n",
        "display(total.T)\n"
      ],
      "execution_count": 52,
      "outputs": [
        {
          "output_type": "display_data",
          "data": {
            "text/html": [
              "<div>\n",
              "<style scoped>\n",
              "    .dataframe tbody tr th:only-of-type {\n",
              "        vertical-align: middle;\n",
              "    }\n",
              "\n",
              "    .dataframe tbody tr th {\n",
              "        vertical-align: top;\n",
              "    }\n",
              "\n",
              "    .dataframe thead th {\n",
              "        text-align: right;\n",
              "    }\n",
              "</style>\n",
              "<table border=\"1\" class=\"dataframe\">\n",
              "  <thead>\n",
              "    <tr style=\"text-align: right;\">\n",
              "      <th></th>\n",
              "      <th>Confirmed</th>\n",
              "      <th>Recovered</th>\n",
              "      <th>Deaths</th>\n",
              "    </tr>\n",
              "  </thead>\n",
              "  <tbody>\n",
              "    <tr>\n",
              "      <th>Total Cases</th>\n",
              "      <td>67,073,728</td>\n",
              "      <td>43,103,827</td>\n",
              "      <td>1,536,056</td>\n",
              "    </tr>\n",
              "  </tbody>\n",
              "</table>\n",
              "</div>"
            ],
            "text/plain": [
              "              Confirmed   Recovered     Deaths\n",
              "Total Cases  67,073,728  43,103,827  1,536,056"
            ]
          },
          "metadata": {
            "tags": []
          }
        }
      ]
    },
    {
      "cell_type": "markdown",
      "metadata": {
        "id": "avu2mpN0I0G5"
      },
      "source": [
        "## Saving the clean dataset"
      ]
    },
    {
      "cell_type": "markdown",
      "metadata": {
        "id": "CtsWStYjPJfB"
      },
      "source": [
        "Finally I will create an Excel file with the information per country once it is clean and in perfect condition to apply some machine learning algorithms ..."
      ]
    },
    {
      "cell_type": "code",
      "metadata": {
        "id": "Dba5dgwrl9Hq"
      },
      "source": [
        "data_by_country.to_excel(\"All_data.xlsx\", index = False)"
      ],
      "execution_count": 54,
      "outputs": []
    },
    {
      "cell_type": "markdown",
      "metadata": {
        "id": "ZJfrwxxqBw0E"
      },
      "source": [
        "## Convert to PDF"
      ]
    },
    {
      "cell_type": "markdown",
      "metadata": {
        "id": "KmnVL-1hQgGI"
      },
      "source": [
        "[Google Colab](https://colab.research.google.com) does not have a 'export to PDF' feature so let's install the packages needed to export this notebook to pdf manually."
      ]
    },
    {
      "cell_type": "markdown",
      "metadata": {
        "id": "BGnOuy6yZM_w"
      },
      "source": [
        "```\n",
        "!apt-get install texlive texlive-xetex texlive-latex-extra pandoc\n",
        "!pip install pypandoc\n",
        "```"
      ]
    },
    {
      "cell_type": "markdown",
      "metadata": {
        "id": "kbI8rID3Q_go"
      },
      "source": [
        "\n",
        "Now let's mount our 'google drive' unit into this notebook so we can access to it.\n",
        "\n"
      ]
    },
    {
      "cell_type": "markdown",
      "metadata": {
        "id": "AT-CcNDnZQgY"
      },
      "source": [
        "``` \n",
        "from google.colab import drive\n",
        "drive.mount('/content/drive')\n",
        "```"
      ]
    },
    {
      "cell_type": "markdown",
      "metadata": {
        "id": "cr0aRjrURRBW"
      },
      "source": [
        "Let's list the notebooks in 'Google Drive' to check that everything is fine and copy it to the local directory"
      ]
    },
    {
      "cell_type": "markdown",
      "metadata": {
        "id": "-mewsE2IZ7G5"
      },
      "source": [
        "```\n",
        "ls -la \"./drive/My Drive/Colab Notebooks/\"\n",
        "```"
      ]
    },
    {
      "cell_type": "markdown",
      "metadata": {
        "id": "RbYuMo3RaNEJ"
      },
      "source": [
        "```\n",
        "!cp \"./drive/My Drive/Colab Notebooks/Covid-19.ipynb\" .\n",
        "```"
      ]
    },
    {
      "cell_type": "markdown",
      "metadata": {
        "id": "EksU7CpiRtcJ"
      },
      "source": [
        "The last step is generate a PDF from this notebook :-)"
      ]
    },
    {
      "cell_type": "markdown",
      "metadata": {
        "id": "aeL4AzONbcF6"
      },
      "source": [
        "```\n",
        "!jupyter nbconvert --to PDF \"Covid-19.ipynb\"\n",
        "````"
      ]
    }
  ]
}