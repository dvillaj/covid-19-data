{
  "nbformat": 4,
  "nbformat_minor": 0,
  "metadata": {
    "colab": {
      "name": "Covid-19",
      "provenance": [],
      "collapsed_sections": [],
      "toc_visible": true
    },
    "kernelspec": {
      "name": "python3",
      "display_name": "Python 3"
    }
  },
  "cells": [
    {
      "cell_type": "markdown",
      "metadata": {
        "id": "aXl3EuBPcUwQ",
        "colab_type": "text"
      },
      "source": [
        "# Pandas and Covid-19"
      ]
    },
    {
      "cell_type": "markdown",
      "metadata": {
        "id": "u1D4tS_27Hvp",
        "colab_type": "text"
      },
      "source": [
        "This notebook is an example of data analysis and manipulation with **Pandas** and has beed created in [Google Colab](https://colab.research.google.com)\n",
        "\n",
        "Enjoy it!"
      ]
    },
    {
      "cell_type": "code",
      "metadata": {
        "id": "Ak8L8x7IcWYq",
        "colab_type": "code",
        "colab": {}
      },
      "source": [
        "import numpy as np\n",
        "import pandas as pd"
      ],
      "execution_count": 0,
      "outputs": []
    },
    {
      "cell_type": "markdown",
      "metadata": {
        "id": "xwUVHjYncbDi",
        "colab_type": "text"
      },
      "source": [
        "## The Data\n",
        "\n",
        "To get some data I and going to download it from Data Repository by Johns Hopkins CSSE\n",
        "\n",
        "https://github.com/CSSEGISandData/COVID-19"
      ]
    },
    {
      "cell_type": "markdown",
      "metadata": {
        "id": "d4xNQXcnyseg",
        "colab_type": "text"
      },
      "source": [
        "I first remove the folder where I am goint to store the data so I can re-execute this sentences without any problems ..."
      ]
    },
    {
      "cell_type": "code",
      "metadata": {
        "id": "A08RQDq5gWAH",
        "colab_type": "code",
        "colab": {}
      },
      "source": [
        "!rm -rf ./COVID-19"
      ],
      "execution_count": 0,
      "outputs": []
    },
    {
      "cell_type": "markdown",
      "metadata": {
        "id": "kopIho38y-6Y",
        "colab_type": "text"
      },
      "source": [
        "The dataset is avaible in GitHub so I use the `git` command to get it"
      ]
    },
    {
      "cell_type": "code",
      "metadata": {
        "id": "hZeguxIvckRR",
        "colab_type": "code",
        "outputId": "cd2580a6-e166-41d0-999f-e314c94e823d",
        "colab": {
          "base_uri": "https://localhost:8080/",
          "height": 146
        }
      },
      "source": [
        "!git clone https://github.com/CSSEGISandData/COVID-19.git"
      ],
      "execution_count": 3,
      "outputs": [
        {
          "output_type": "stream",
          "text": [
            "Cloning into 'COVID-19'...\n",
            "remote: Enumerating objects: 14, done.\u001b[K\n",
            "remote: Counting objects:   7% (1/14)\u001b[K\rremote: Counting objects:  14% (2/14)\u001b[K\rremote: Counting objects:  21% (3/14)\u001b[K\rremote: Counting objects:  28% (4/14)\u001b[K\rremote: Counting objects:  35% (5/14)\u001b[K\rremote: Counting objects:  42% (6/14)\u001b[K\rremote: Counting objects:  50% (7/14)\u001b[K\rremote: Counting objects:  57% (8/14)\u001b[K\rremote: Counting objects:  64% (9/14)\u001b[K\rremote: Counting objects:  71% (10/14)\u001b[K\rremote: Counting objects:  78% (11/14)\u001b[K\rremote: Counting objects:  85% (12/14)\u001b[K\rremote: Counting objects:  92% (13/14)\u001b[K\rremote: Counting objects: 100% (14/14)\u001b[K\rremote: Counting objects: 100% (14/14), done.\u001b[K\n",
            "remote: Compressing objects: 100% (9/9), done.\u001b[K\n",
            "remote: Total 21425 (delta 5), reused 10 (delta 5), pack-reused 21411\u001b[K\n",
            "Receiving objects: 100% (21425/21425), 90.29 MiB | 33.30 MiB/s, done.\n",
            "Resolving deltas: 100% (11436/11436), done.\n"
          ],
          "name": "stdout"
        }
      ]
    },
    {
      "cell_type": "markdown",
      "metadata": {
        "id": "HGm4qwtpOicp",
        "colab_type": "text"
      },
      "source": [
        "## Exporing the data\n"
      ]
    },
    {
      "cell_type": "code",
      "metadata": {
        "id": "ecwwk7FHcu1T",
        "colab_type": "code",
        "outputId": "e560047a-6ff3-42a1-9cd5-cb67cd43d3a9",
        "colab": {
          "base_uri": "https://localhost:8080/",
          "height": 201
        }
      },
      "source": [
        "!ls -lt ./COVID-19/csse_covid_19_data/csse_covid_19_daily_reports | head"
      ],
      "execution_count": 4,
      "outputs": [
        {
          "output_type": "stream",
          "text": [
            "total 9544\n",
            "-rw-r--r-- 1 root root 317177 Apr 21 05:16 04-20-2020.csv\n",
            "-rw-r--r-- 1 root root      0 Apr 21 05:16 README.md\n",
            "-rw-r--r-- 1 root root 317954 Apr 21 05:16 04-19-2020.csv\n",
            "-rw-r--r-- 1 root root 315926 Apr 21 05:16 04-18-2020.csv\n",
            "-rw-r--r-- 1 root root 314848 Apr 21 05:16 04-17-2020.csv\n",
            "-rw-r--r-- 1 root root 312551 Apr 21 05:16 04-15-2020.csv\n",
            "-rw-r--r-- 1 root root 314226 Apr 21 05:16 04-16-2020.csv\n",
            "-rw-r--r-- 1 root root 305548 Apr 21 05:16 04-12-2020.csv\n",
            "-rw-r--r-- 1 root root 309742 Apr 21 05:16 04-13-2020.csv\n"
          ],
          "name": "stdout"
        }
      ]
    },
    {
      "cell_type": "markdown",
      "metadata": {
        "id": "bT58_j-syjxN",
        "colab_type": "text"
      },
      "source": [
        "Yes!!!  \n",
        "We have data files ..."
      ]
    },
    {
      "cell_type": "markdown",
      "metadata": {
        "id": "-5p6k2r3ySM8",
        "colab_type": "text"
      },
      "source": [
        "Perfect. Let's explore the first dataset generated ..."
      ]
    },
    {
      "cell_type": "code",
      "metadata": {
        "id": "SmcipMo7d0Y6",
        "colab_type": "code",
        "colab": {}
      },
      "source": [
        "first = pd.read_csv(\"./COVID-19/csse_covid_19_data/csse_covid_19_daily_reports/01-22-2020.csv\")"
      ],
      "execution_count": 0,
      "outputs": []
    },
    {
      "cell_type": "code",
      "metadata": {
        "id": "5KWgFLIJesbq",
        "colab_type": "code",
        "outputId": "b15a6f83-c6f2-4921-f1ec-e8309d059387",
        "colab": {
          "base_uri": "https://localhost:8080/",
          "height": 206
        }
      },
      "source": [
        "first.head()"
      ],
      "execution_count": 6,
      "outputs": [
        {
          "output_type": "execute_result",
          "data": {
            "text/html": [
              "<div>\n",
              "<style scoped>\n",
              "    .dataframe tbody tr th:only-of-type {\n",
              "        vertical-align: middle;\n",
              "    }\n",
              "\n",
              "    .dataframe tbody tr th {\n",
              "        vertical-align: top;\n",
              "    }\n",
              "\n",
              "    .dataframe thead th {\n",
              "        text-align: right;\n",
              "    }\n",
              "</style>\n",
              "<table border=\"1\" class=\"dataframe\">\n",
              "  <thead>\n",
              "    <tr style=\"text-align: right;\">\n",
              "      <th></th>\n",
              "      <th>Province/State</th>\n",
              "      <th>Country/Region</th>\n",
              "      <th>Last Update</th>\n",
              "      <th>Confirmed</th>\n",
              "      <th>Deaths</th>\n",
              "      <th>Recovered</th>\n",
              "    </tr>\n",
              "  </thead>\n",
              "  <tbody>\n",
              "    <tr>\n",
              "      <th>0</th>\n",
              "      <td>Anhui</td>\n",
              "      <td>Mainland China</td>\n",
              "      <td>1/22/2020 17:00</td>\n",
              "      <td>1.0</td>\n",
              "      <td>NaN</td>\n",
              "      <td>NaN</td>\n",
              "    </tr>\n",
              "    <tr>\n",
              "      <th>1</th>\n",
              "      <td>Beijing</td>\n",
              "      <td>Mainland China</td>\n",
              "      <td>1/22/2020 17:00</td>\n",
              "      <td>14.0</td>\n",
              "      <td>NaN</td>\n",
              "      <td>NaN</td>\n",
              "    </tr>\n",
              "    <tr>\n",
              "      <th>2</th>\n",
              "      <td>Chongqing</td>\n",
              "      <td>Mainland China</td>\n",
              "      <td>1/22/2020 17:00</td>\n",
              "      <td>6.0</td>\n",
              "      <td>NaN</td>\n",
              "      <td>NaN</td>\n",
              "    </tr>\n",
              "    <tr>\n",
              "      <th>3</th>\n",
              "      <td>Fujian</td>\n",
              "      <td>Mainland China</td>\n",
              "      <td>1/22/2020 17:00</td>\n",
              "      <td>1.0</td>\n",
              "      <td>NaN</td>\n",
              "      <td>NaN</td>\n",
              "    </tr>\n",
              "    <tr>\n",
              "      <th>4</th>\n",
              "      <td>Gansu</td>\n",
              "      <td>Mainland China</td>\n",
              "      <td>1/22/2020 17:00</td>\n",
              "      <td>NaN</td>\n",
              "      <td>NaN</td>\n",
              "      <td>NaN</td>\n",
              "    </tr>\n",
              "  </tbody>\n",
              "</table>\n",
              "</div>"
            ],
            "text/plain": [
              "  Province/State  Country/Region      Last Update  Confirmed  Deaths  Recovered\n",
              "0          Anhui  Mainland China  1/22/2020 17:00        1.0     NaN        NaN\n",
              "1        Beijing  Mainland China  1/22/2020 17:00       14.0     NaN        NaN\n",
              "2      Chongqing  Mainland China  1/22/2020 17:00        6.0     NaN        NaN\n",
              "3         Fujian  Mainland China  1/22/2020 17:00        1.0     NaN        NaN\n",
              "4          Gansu  Mainland China  1/22/2020 17:00        NaN     NaN        NaN"
            ]
          },
          "metadata": {
            "tags": []
          },
          "execution_count": 6
        }
      ]
    },
    {
      "cell_type": "markdown",
      "metadata": {
        "id": "XrJfIWFWyXcX",
        "colab_type": "text"
      },
      "source": [
        "And one of the last ones ..."
      ]
    },
    {
      "cell_type": "code",
      "metadata": {
        "id": "5FjlQ7HneuYR",
        "colab_type": "code",
        "colab": {}
      },
      "source": [
        "last = pd.read_csv(\"./COVID-19/csse_covid_19_data/csse_covid_19_daily_reports/04-18-2020.csv\")"
      ],
      "execution_count": 0,
      "outputs": []
    },
    {
      "cell_type": "code",
      "metadata": {
        "id": "E3TYyKhoe_Yz",
        "colab_type": "code",
        "outputId": "4cfd7895-2fde-47d7-8bc6-663405cd2055",
        "colab": {
          "base_uri": "https://localhost:8080/",
          "height": 206
        }
      },
      "source": [
        "last.head()"
      ],
      "execution_count": 8,
      "outputs": [
        {
          "output_type": "execute_result",
          "data": {
            "text/html": [
              "<div>\n",
              "<style scoped>\n",
              "    .dataframe tbody tr th:only-of-type {\n",
              "        vertical-align: middle;\n",
              "    }\n",
              "\n",
              "    .dataframe tbody tr th {\n",
              "        vertical-align: top;\n",
              "    }\n",
              "\n",
              "    .dataframe thead th {\n",
              "        text-align: right;\n",
              "    }\n",
              "</style>\n",
              "<table border=\"1\" class=\"dataframe\">\n",
              "  <thead>\n",
              "    <tr style=\"text-align: right;\">\n",
              "      <th></th>\n",
              "      <th>FIPS</th>\n",
              "      <th>Admin2</th>\n",
              "      <th>Province_State</th>\n",
              "      <th>Country_Region</th>\n",
              "      <th>Last_Update</th>\n",
              "      <th>Lat</th>\n",
              "      <th>Long_</th>\n",
              "      <th>Confirmed</th>\n",
              "      <th>Deaths</th>\n",
              "      <th>Recovered</th>\n",
              "      <th>Active</th>\n",
              "      <th>Combined_Key</th>\n",
              "    </tr>\n",
              "  </thead>\n",
              "  <tbody>\n",
              "    <tr>\n",
              "      <th>0</th>\n",
              "      <td>45001.0</td>\n",
              "      <td>Abbeville</td>\n",
              "      <td>South Carolina</td>\n",
              "      <td>US</td>\n",
              "      <td>2020-04-18 22:32:47</td>\n",
              "      <td>34.223334</td>\n",
              "      <td>-82.461707</td>\n",
              "      <td>15</td>\n",
              "      <td>0</td>\n",
              "      <td>0</td>\n",
              "      <td>15</td>\n",
              "      <td>Abbeville, South Carolina, US</td>\n",
              "    </tr>\n",
              "    <tr>\n",
              "      <th>1</th>\n",
              "      <td>22001.0</td>\n",
              "      <td>Acadia</td>\n",
              "      <td>Louisiana</td>\n",
              "      <td>US</td>\n",
              "      <td>2020-04-18 22:32:47</td>\n",
              "      <td>30.295065</td>\n",
              "      <td>-92.414197</td>\n",
              "      <td>110</td>\n",
              "      <td>7</td>\n",
              "      <td>0</td>\n",
              "      <td>103</td>\n",
              "      <td>Acadia, Louisiana, US</td>\n",
              "    </tr>\n",
              "    <tr>\n",
              "      <th>2</th>\n",
              "      <td>51001.0</td>\n",
              "      <td>Accomack</td>\n",
              "      <td>Virginia</td>\n",
              "      <td>US</td>\n",
              "      <td>2020-04-18 22:32:47</td>\n",
              "      <td>37.767072</td>\n",
              "      <td>-75.632346</td>\n",
              "      <td>33</td>\n",
              "      <td>0</td>\n",
              "      <td>0</td>\n",
              "      <td>33</td>\n",
              "      <td>Accomack, Virginia, US</td>\n",
              "    </tr>\n",
              "    <tr>\n",
              "      <th>3</th>\n",
              "      <td>16001.0</td>\n",
              "      <td>Ada</td>\n",
              "      <td>Idaho</td>\n",
              "      <td>US</td>\n",
              "      <td>2020-04-18 22:32:47</td>\n",
              "      <td>43.452658</td>\n",
              "      <td>-116.241552</td>\n",
              "      <td>593</td>\n",
              "      <td>9</td>\n",
              "      <td>0</td>\n",
              "      <td>584</td>\n",
              "      <td>Ada, Idaho, US</td>\n",
              "    </tr>\n",
              "    <tr>\n",
              "      <th>4</th>\n",
              "      <td>19001.0</td>\n",
              "      <td>Adair</td>\n",
              "      <td>Iowa</td>\n",
              "      <td>US</td>\n",
              "      <td>2020-04-18 22:32:47</td>\n",
              "      <td>41.330756</td>\n",
              "      <td>-94.471059</td>\n",
              "      <td>1</td>\n",
              "      <td>0</td>\n",
              "      <td>0</td>\n",
              "      <td>1</td>\n",
              "      <td>Adair, Iowa, US</td>\n",
              "    </tr>\n",
              "  </tbody>\n",
              "</table>\n",
              "</div>"
            ],
            "text/plain": [
              "      FIPS     Admin2  ... Active                   Combined_Key\n",
              "0  45001.0  Abbeville  ...     15  Abbeville, South Carolina, US\n",
              "1  22001.0     Acadia  ...    103          Acadia, Louisiana, US\n",
              "2  51001.0   Accomack  ...     33         Accomack, Virginia, US\n",
              "3  16001.0        Ada  ...    584                 Ada, Idaho, US\n",
              "4  19001.0      Adair  ...      1                Adair, Iowa, US\n",
              "\n",
              "[5 rows x 12 columns]"
            ]
          },
          "metadata": {
            "tags": []
          },
          "execution_count": 8
        }
      ]
    },
    {
      "cell_type": "markdown",
      "metadata": {
        "id": "3BwR-LBfycpM",
        "colab_type": "text"
      },
      "source": [
        "Can I concatenate both datasets?"
      ]
    },
    {
      "cell_type": "code",
      "metadata": {
        "id": "WkKG-beB4jHf",
        "colab_type": "code",
        "outputId": "c749e3bd-f318-4f20-ff2e-dd5c970c00e5",
        "colab": {
          "base_uri": "https://localhost:8080/",
          "height": 81
        }
      },
      "source": [
        "last.query(\"Country_Region == 'Spain'\")"
      ],
      "execution_count": 9,
      "outputs": [
        {
          "output_type": "execute_result",
          "data": {
            "text/html": [
              "<div>\n",
              "<style scoped>\n",
              "    .dataframe tbody tr th:only-of-type {\n",
              "        vertical-align: middle;\n",
              "    }\n",
              "\n",
              "    .dataframe tbody tr th {\n",
              "        vertical-align: top;\n",
              "    }\n",
              "\n",
              "    .dataframe thead th {\n",
              "        text-align: right;\n",
              "    }\n",
              "</style>\n",
              "<table border=\"1\" class=\"dataframe\">\n",
              "  <thead>\n",
              "    <tr style=\"text-align: right;\">\n",
              "      <th></th>\n",
              "      <th>FIPS</th>\n",
              "      <th>Admin2</th>\n",
              "      <th>Province_State</th>\n",
              "      <th>Country_Region</th>\n",
              "      <th>Last_Update</th>\n",
              "      <th>Lat</th>\n",
              "      <th>Long_</th>\n",
              "      <th>Confirmed</th>\n",
              "      <th>Deaths</th>\n",
              "      <th>Recovered</th>\n",
              "      <th>Active</th>\n",
              "      <th>Combined_Key</th>\n",
              "    </tr>\n",
              "  </thead>\n",
              "  <tbody>\n",
              "    <tr>\n",
              "      <th>3025</th>\n",
              "      <td>NaN</td>\n",
              "      <td>NaN</td>\n",
              "      <td>NaN</td>\n",
              "      <td>Spain</td>\n",
              "      <td>2020-04-18 22:32:28</td>\n",
              "      <td>40.463667</td>\n",
              "      <td>-3.74922</td>\n",
              "      <td>191726</td>\n",
              "      <td>20043</td>\n",
              "      <td>74797</td>\n",
              "      <td>96886</td>\n",
              "      <td>Spain</td>\n",
              "    </tr>\n",
              "  </tbody>\n",
              "</table>\n",
              "</div>"
            ],
            "text/plain": [
              "      FIPS Admin2 Province_State  ... Recovered Active  Combined_Key\n",
              "3025   NaN    NaN            NaN  ...     74797  96886         Spain\n",
              "\n",
              "[1 rows x 12 columns]"
            ]
          },
          "metadata": {
            "tags": []
          },
          "execution_count": 9
        }
      ]
    },
    {
      "cell_type": "code",
      "metadata": {
        "id": "ud-ibwwtfgnJ",
        "colab_type": "code",
        "outputId": "8769a332-5fe5-4542-aa59-ba766425ad22",
        "colab": {
          "base_uri": "https://localhost:8080/",
          "height": 424
        }
      },
      "source": [
        "pd.concat((first, last), axis = 0)"
      ],
      "execution_count": 10,
      "outputs": [
        {
          "output_type": "execute_result",
          "data": {
            "text/html": [
              "<div>\n",
              "<style scoped>\n",
              "    .dataframe tbody tr th:only-of-type {\n",
              "        vertical-align: middle;\n",
              "    }\n",
              "\n",
              "    .dataframe tbody tr th {\n",
              "        vertical-align: top;\n",
              "    }\n",
              "\n",
              "    .dataframe thead th {\n",
              "        text-align: right;\n",
              "    }\n",
              "</style>\n",
              "<table border=\"1\" class=\"dataframe\">\n",
              "  <thead>\n",
              "    <tr style=\"text-align: right;\">\n",
              "      <th></th>\n",
              "      <th>Province/State</th>\n",
              "      <th>Country/Region</th>\n",
              "      <th>Last Update</th>\n",
              "      <th>Confirmed</th>\n",
              "      <th>Deaths</th>\n",
              "      <th>Recovered</th>\n",
              "      <th>FIPS</th>\n",
              "      <th>Admin2</th>\n",
              "      <th>Province_State</th>\n",
              "      <th>Country_Region</th>\n",
              "      <th>Last_Update</th>\n",
              "      <th>Lat</th>\n",
              "      <th>Long_</th>\n",
              "      <th>Active</th>\n",
              "      <th>Combined_Key</th>\n",
              "    </tr>\n",
              "  </thead>\n",
              "  <tbody>\n",
              "    <tr>\n",
              "      <th>0</th>\n",
              "      <td>Anhui</td>\n",
              "      <td>Mainland China</td>\n",
              "      <td>1/22/2020 17:00</td>\n",
              "      <td>1.0</td>\n",
              "      <td>NaN</td>\n",
              "      <td>NaN</td>\n",
              "      <td>NaN</td>\n",
              "      <td>NaN</td>\n",
              "      <td>NaN</td>\n",
              "      <td>NaN</td>\n",
              "      <td>NaN</td>\n",
              "      <td>NaN</td>\n",
              "      <td>NaN</td>\n",
              "      <td>NaN</td>\n",
              "      <td>NaN</td>\n",
              "    </tr>\n",
              "    <tr>\n",
              "      <th>1</th>\n",
              "      <td>Beijing</td>\n",
              "      <td>Mainland China</td>\n",
              "      <td>1/22/2020 17:00</td>\n",
              "      <td>14.0</td>\n",
              "      <td>NaN</td>\n",
              "      <td>NaN</td>\n",
              "      <td>NaN</td>\n",
              "      <td>NaN</td>\n",
              "      <td>NaN</td>\n",
              "      <td>NaN</td>\n",
              "      <td>NaN</td>\n",
              "      <td>NaN</td>\n",
              "      <td>NaN</td>\n",
              "      <td>NaN</td>\n",
              "      <td>NaN</td>\n",
              "    </tr>\n",
              "    <tr>\n",
              "      <th>2</th>\n",
              "      <td>Chongqing</td>\n",
              "      <td>Mainland China</td>\n",
              "      <td>1/22/2020 17:00</td>\n",
              "      <td>6.0</td>\n",
              "      <td>NaN</td>\n",
              "      <td>NaN</td>\n",
              "      <td>NaN</td>\n",
              "      <td>NaN</td>\n",
              "      <td>NaN</td>\n",
              "      <td>NaN</td>\n",
              "      <td>NaN</td>\n",
              "      <td>NaN</td>\n",
              "      <td>NaN</td>\n",
              "      <td>NaN</td>\n",
              "      <td>NaN</td>\n",
              "    </tr>\n",
              "    <tr>\n",
              "      <th>3</th>\n",
              "      <td>Fujian</td>\n",
              "      <td>Mainland China</td>\n",
              "      <td>1/22/2020 17:00</td>\n",
              "      <td>1.0</td>\n",
              "      <td>NaN</td>\n",
              "      <td>NaN</td>\n",
              "      <td>NaN</td>\n",
              "      <td>NaN</td>\n",
              "      <td>NaN</td>\n",
              "      <td>NaN</td>\n",
              "      <td>NaN</td>\n",
              "      <td>NaN</td>\n",
              "      <td>NaN</td>\n",
              "      <td>NaN</td>\n",
              "      <td>NaN</td>\n",
              "    </tr>\n",
              "    <tr>\n",
              "      <th>4</th>\n",
              "      <td>Gansu</td>\n",
              "      <td>Mainland China</td>\n",
              "      <td>1/22/2020 17:00</td>\n",
              "      <td>NaN</td>\n",
              "      <td>NaN</td>\n",
              "      <td>NaN</td>\n",
              "      <td>NaN</td>\n",
              "      <td>NaN</td>\n",
              "      <td>NaN</td>\n",
              "      <td>NaN</td>\n",
              "      <td>NaN</td>\n",
              "      <td>NaN</td>\n",
              "      <td>NaN</td>\n",
              "      <td>NaN</td>\n",
              "      <td>NaN</td>\n",
              "    </tr>\n",
              "    <tr>\n",
              "      <th>...</th>\n",
              "      <td>...</td>\n",
              "      <td>...</td>\n",
              "      <td>...</td>\n",
              "      <td>...</td>\n",
              "      <td>...</td>\n",
              "      <td>...</td>\n",
              "      <td>...</td>\n",
              "      <td>...</td>\n",
              "      <td>...</td>\n",
              "      <td>...</td>\n",
              "      <td>...</td>\n",
              "      <td>...</td>\n",
              "      <td>...</td>\n",
              "      <td>...</td>\n",
              "      <td>...</td>\n",
              "    </tr>\n",
              "    <tr>\n",
              "      <th>3048</th>\n",
              "      <td>NaN</td>\n",
              "      <td>NaN</td>\n",
              "      <td>NaN</td>\n",
              "      <td>418.0</td>\n",
              "      <td>2.0</td>\n",
              "      <td>69.0</td>\n",
              "      <td>NaN</td>\n",
              "      <td>NaN</td>\n",
              "      <td>NaN</td>\n",
              "      <td>West Bank and Gaza</td>\n",
              "      <td>2020-04-18 22:32:28</td>\n",
              "      <td>31.952200</td>\n",
              "      <td>35.233200</td>\n",
              "      <td>347.0</td>\n",
              "      <td>West Bank and Gaza</td>\n",
              "    </tr>\n",
              "    <tr>\n",
              "      <th>3049</th>\n",
              "      <td>NaN</td>\n",
              "      <td>NaN</td>\n",
              "      <td>NaN</td>\n",
              "      <td>6.0</td>\n",
              "      <td>0.0</td>\n",
              "      <td>0.0</td>\n",
              "      <td>NaN</td>\n",
              "      <td>NaN</td>\n",
              "      <td>NaN</td>\n",
              "      <td>Western Sahara</td>\n",
              "      <td>2020-04-18 22:32:28</td>\n",
              "      <td>24.215500</td>\n",
              "      <td>-12.885800</td>\n",
              "      <td>6.0</td>\n",
              "      <td>Western Sahara</td>\n",
              "    </tr>\n",
              "    <tr>\n",
              "      <th>3050</th>\n",
              "      <td>NaN</td>\n",
              "      <td>NaN</td>\n",
              "      <td>NaN</td>\n",
              "      <td>1.0</td>\n",
              "      <td>0.0</td>\n",
              "      <td>0.0</td>\n",
              "      <td>NaN</td>\n",
              "      <td>NaN</td>\n",
              "      <td>NaN</td>\n",
              "      <td>Yemen</td>\n",
              "      <td>2020-04-18 22:32:28</td>\n",
              "      <td>15.552727</td>\n",
              "      <td>48.516388</td>\n",
              "      <td>1.0</td>\n",
              "      <td>Yemen</td>\n",
              "    </tr>\n",
              "    <tr>\n",
              "      <th>3051</th>\n",
              "      <td>NaN</td>\n",
              "      <td>NaN</td>\n",
              "      <td>NaN</td>\n",
              "      <td>57.0</td>\n",
              "      <td>2.0</td>\n",
              "      <td>33.0</td>\n",
              "      <td>NaN</td>\n",
              "      <td>NaN</td>\n",
              "      <td>NaN</td>\n",
              "      <td>Zambia</td>\n",
              "      <td>2020-04-18 22:32:28</td>\n",
              "      <td>-13.133897</td>\n",
              "      <td>27.849332</td>\n",
              "      <td>22.0</td>\n",
              "      <td>Zambia</td>\n",
              "    </tr>\n",
              "    <tr>\n",
              "      <th>3052</th>\n",
              "      <td>NaN</td>\n",
              "      <td>NaN</td>\n",
              "      <td>NaN</td>\n",
              "      <td>25.0</td>\n",
              "      <td>3.0</td>\n",
              "      <td>2.0</td>\n",
              "      <td>NaN</td>\n",
              "      <td>NaN</td>\n",
              "      <td>NaN</td>\n",
              "      <td>Zimbabwe</td>\n",
              "      <td>2020-04-18 22:32:28</td>\n",
              "      <td>-19.015438</td>\n",
              "      <td>29.154857</td>\n",
              "      <td>20.0</td>\n",
              "      <td>Zimbabwe</td>\n",
              "    </tr>\n",
              "  </tbody>\n",
              "</table>\n",
              "<p>3091 rows × 15 columns</p>\n",
              "</div>"
            ],
            "text/plain": [
              "     Province/State  Country/Region  ... Active        Combined_Key\n",
              "0             Anhui  Mainland China  ...    NaN                 NaN\n",
              "1           Beijing  Mainland China  ...    NaN                 NaN\n",
              "2         Chongqing  Mainland China  ...    NaN                 NaN\n",
              "3            Fujian  Mainland China  ...    NaN                 NaN\n",
              "4             Gansu  Mainland China  ...    NaN                 NaN\n",
              "...             ...             ...  ...    ...                 ...\n",
              "3048            NaN             NaN  ...  347.0  West Bank and Gaza\n",
              "3049            NaN             NaN  ...    6.0      Western Sahara\n",
              "3050            NaN             NaN  ...    1.0               Yemen\n",
              "3051            NaN             NaN  ...   22.0              Zambia\n",
              "3052            NaN             NaN  ...   20.0            Zimbabwe\n",
              "\n",
              "[3091 rows x 15 columns]"
            ]
          },
          "metadata": {
            "tags": []
          },
          "execution_count": 10
        }
      ]
    },
    {
      "cell_type": "markdown",
      "metadata": {
        "id": "qp0FzW2Iw5eN",
        "colab_type": "text"
      },
      "source": [
        "Ups!!! The column names don't match :-("
      ]
    },
    {
      "cell_type": "markdown",
      "metadata": {
        "id": "ghaZx5_9OorK",
        "colab_type": "text"
      },
      "source": [
        "#Loading the data into Pandas  and cleaning it"
      ]
    },
    {
      "cell_type": "code",
      "metadata": {
        "id": "M9bC8STciFTa",
        "colab_type": "code",
        "colab": {}
      },
      "source": [
        "import glob\n",
        "import os\n",
        "\n",
        "files = glob.glob(\"./COVID-19/csse_covid_19_data/csse_covid_19_daily_reports/*.csv\")\n",
        "files.sort(key=os.path.getmtime)"
      ],
      "execution_count": 0,
      "outputs": []
    },
    {
      "cell_type": "markdown",
      "metadata": {
        "id": "vs7_lsZlxYuL",
        "colab_type": "text"
      },
      "source": [
        "We are going to:\n",
        "- Create a blank Dataset to store all the data\n",
        "- Load every dataset unifying the column names so we can concatenate it without any problem.\n",
        "- Remove extra blank spaces from the country field\n",
        "- Enrich the information with the date of the data in the correct type"
      ]
    },
    {
      "cell_type": "code",
      "metadata": {
        "id": "FT8e_Vu2jjG6",
        "colab_type": "code",
        "colab": {}
      },
      "source": [
        "data = pd.DataFrame()\n",
        "for file in files:  \n",
        "  df = pd.read_csv(file).rename(columns = {'Province/State' : 'State', \n",
        "                        \"Country/Region\" : 'Country',\n",
        "                        'Province_State' : 'State', \n",
        "                        \"Country_Region\" : 'Country',\n",
        "                        'Last Update' : 'Last_Update',\n",
        "                        'Confirmed' : 'ConfirmedAcum',\n",
        "                        'Deaths' : 'DeathsAcum',\n",
        "                        'Recovered' : 'RecoveredAcum'})\n",
        "  df = df.assign(Date = pd.to_datetime(file[-14:-4], format = '%m-%d-%Y'),\n",
        "                 Country = df.Country.str.strip())\n",
        "  data = pd.concat((data, df), axis = 0)\n"
      ],
      "execution_count": 0,
      "outputs": []
    },
    {
      "cell_type": "markdown",
      "metadata": {
        "id": "eYgaZTZRxPef",
        "colab_type": "text"
      },
      "source": [
        "I noticed that the country names were a little messy.   \n",
        "Let's fix it ..."
      ]
    },
    {
      "cell_type": "code",
      "metadata": {
        "id": "k4Ivs-ocj9ZD",
        "colab_type": "code",
        "colab": {}
      },
      "source": [
        "data['Country'] = data.Country.replace({'Bahamas, The' : 'Bahamas',\n",
        "                         'Congo (Brazzaville)' : 'Congo',\n",
        "                         'Congo (Kinshasa)' : 'Congo',\n",
        "                         \"Cote d'Ivoire\" : \"Cote d'Ivoire\",\n",
        "                         \"Curacao\" : \"Curaçao\",\n",
        "                         'Czech Republic' : 'Czech Republic (Czechia)',\n",
        "                         'Czechia' : 'Czech Republic (Czechia)',\n",
        "                         'Faroe Islands' : 'Faeroe Islands',\n",
        "                         'Macau' : 'Macao',\n",
        "                         'Mainland China' : 'China',\n",
        "                         'Palestine' : 'State of Palestine',\n",
        "                         'Reunion' : 'Réunion',\n",
        "                         'Saint Kitts and Nevis' : 'Saint Kitts & Nevis',\n",
        "                         'Sao Tome and Principe' : 'Sao Tome & Principe',\n",
        "                         'US' : 'United States',\n",
        "                         'Gambia, The' : 'Gambia',\n",
        "                         'Hong Kong SAR' : 'Hong Kong',\n",
        "                         'Korea, South' : 'South Korea',\n",
        "                         'Macao SAR' : 'Macao',\n",
        "                         'Taiwan*' : 'Taiwan',\n",
        "                         'Viet Nam' : 'Vietnam',\n",
        "                         'West Bank and Gaza' : 'State of Palestine'\n",
        "                         })"
      ],
      "execution_count": 0,
      "outputs": []
    },
    {
      "cell_type": "markdown",
      "metadata": {
        "id": "UULovmSp076p",
        "colab_type": "text"
      },
      "source": [
        "I'm going to fill in the null values ​​of the 'State' and 'Admin2' fields so that I can later group the data correctly"
      ]
    },
    {
      "cell_type": "code",
      "metadata": {
        "id": "sqOtm5KZ02bb",
        "colab_type": "code",
        "colab": {}
      },
      "source": [
        "data = data.fillna({'State' : 'NA', 'Admin2' : 'NA'})"
      ],
      "execution_count": 0,
      "outputs": []
    },
    {
      "cell_type": "markdown",
      "metadata": {
        "id": "stPODK5u2kK7",
        "colab_type": "text"
      },
      "source": [
        "Finally I am going to be left alone with the columns that interest me"
      ]
    },
    {
      "cell_type": "code",
      "metadata": {
        "id": "tN2qJzZ92j7C",
        "colab_type": "code",
        "colab": {}
      },
      "source": [
        "data = data[['Date', 'Country', 'State', 'Admin2', 'ConfirmedAcum', 'DeathsAcum', 'RecoveredAcum']]"
      ],
      "execution_count": 0,
      "outputs": []
    },
    {
      "cell_type": "markdown",
      "metadata": {
        "id": "eKGKWEv81QOC",
        "colab_type": "text"
      },
      "source": [
        "Let's verify the structure of the dateset ..."
      ]
    },
    {
      "cell_type": "code",
      "metadata": {
        "id": "PaHfgHxw02f6",
        "colab_type": "code",
        "outputId": "5edcf21f-8b1b-43e9-f97a-234314fa4fdd",
        "colab": {
          "base_uri": "https://localhost:8080/",
          "height": 274
        }
      },
      "source": [
        "data.info()"
      ],
      "execution_count": 16,
      "outputs": [
        {
          "output_type": "stream",
          "text": [
            "<class 'pandas.core.frame.DataFrame'>\n",
            "Int64Index: 98669 entries, 0 to 3080\n",
            "Data columns (total 7 columns):\n",
            " #   Column         Non-Null Count  Dtype         \n",
            "---  ------         --------------  -----         \n",
            " 0   Date           98669 non-null  datetime64[ns]\n",
            " 1   Country        98669 non-null  object        \n",
            " 2   State          98669 non-null  object        \n",
            " 3   Admin2         98669 non-null  object        \n",
            " 4   ConfirmedAcum  98650 non-null  float64       \n",
            " 5   DeathsAcum     98228 non-null  float64       \n",
            " 6   RecoveredAcum  98281 non-null  float64       \n",
            "dtypes: datetime64[ns](1), float64(3), object(3)\n",
            "memory usage: 6.0+ MB\n"
          ],
          "name": "stdout"
        }
      ]
    },
    {
      "cell_type": "markdown",
      "metadata": {
        "id": "KHTrGOkI3EZ5",
        "colab_type": "text"
      },
      "source": [
        "Wait a set, I think that can be interesting have a column the the active cases. Let's create it ..."
      ]
    },
    {
      "cell_type": "code",
      "metadata": {
        "id": "MHo4mEHk3SV-",
        "colab_type": "code",
        "colab": {}
      },
      "source": [
        "data['ActiveAcum'] = data.ConfirmedAcum  - data.DeathsAcum - data.RecoveredAcum"
      ],
      "execution_count": 0,
      "outputs": []
    },
    {
      "cell_type": "code",
      "metadata": {
        "id": "rWWw4HKt3kem",
        "colab_type": "code",
        "outputId": "ec3b9a6e-746d-4b8c-eafc-cff4823df67d",
        "colab": {
          "base_uri": "https://localhost:8080/",
          "height": 206
        }
      },
      "source": [
        "data.query(\"Country == 'Spain'\").sort_values('Date', ascending = False).head()"
      ],
      "execution_count": 18,
      "outputs": [
        {
          "output_type": "execute_result",
          "data": {
            "text/html": [
              "<div>\n",
              "<style scoped>\n",
              "    .dataframe tbody tr th:only-of-type {\n",
              "        vertical-align: middle;\n",
              "    }\n",
              "\n",
              "    .dataframe tbody tr th {\n",
              "        vertical-align: top;\n",
              "    }\n",
              "\n",
              "    .dataframe thead th {\n",
              "        text-align: right;\n",
              "    }\n",
              "</style>\n",
              "<table border=\"1\" class=\"dataframe\">\n",
              "  <thead>\n",
              "    <tr style=\"text-align: right;\">\n",
              "      <th></th>\n",
              "      <th>Date</th>\n",
              "      <th>Country</th>\n",
              "      <th>State</th>\n",
              "      <th>Admin2</th>\n",
              "      <th>ConfirmedAcum</th>\n",
              "      <th>DeathsAcum</th>\n",
              "      <th>RecoveredAcum</th>\n",
              "      <th>ActiveAcum</th>\n",
              "    </tr>\n",
              "  </thead>\n",
              "  <tbody>\n",
              "    <tr>\n",
              "      <th>3053</th>\n",
              "      <td>2020-04-20</td>\n",
              "      <td>Spain</td>\n",
              "      <td>NA</td>\n",
              "      <td>NA</td>\n",
              "      <td>200210.0</td>\n",
              "      <td>20852.0</td>\n",
              "      <td>80587.0</td>\n",
              "      <td>98771.0</td>\n",
              "    </tr>\n",
              "    <tr>\n",
              "      <th>3044</th>\n",
              "      <td>2020-04-19</td>\n",
              "      <td>Spain</td>\n",
              "      <td>NA</td>\n",
              "      <td>NA</td>\n",
              "      <td>198674.0</td>\n",
              "      <td>20453.0</td>\n",
              "      <td>77357.0</td>\n",
              "      <td>100864.0</td>\n",
              "    </tr>\n",
              "    <tr>\n",
              "      <th>3025</th>\n",
              "      <td>2020-04-18</td>\n",
              "      <td>Spain</td>\n",
              "      <td>NA</td>\n",
              "      <td>NA</td>\n",
              "      <td>191726.0</td>\n",
              "      <td>20043.0</td>\n",
              "      <td>74797.0</td>\n",
              "      <td>96886.0</td>\n",
              "    </tr>\n",
              "    <tr>\n",
              "      <th>3017</th>\n",
              "      <td>2020-04-17</td>\n",
              "      <td>Spain</td>\n",
              "      <td>NA</td>\n",
              "      <td>NA</td>\n",
              "      <td>190839.0</td>\n",
              "      <td>20002.0</td>\n",
              "      <td>74797.0</td>\n",
              "      <td>96040.0</td>\n",
              "    </tr>\n",
              "    <tr>\n",
              "      <th>3013</th>\n",
              "      <td>2020-04-16</td>\n",
              "      <td>Spain</td>\n",
              "      <td>NA</td>\n",
              "      <td>NA</td>\n",
              "      <td>184948.0</td>\n",
              "      <td>19315.0</td>\n",
              "      <td>74797.0</td>\n",
              "      <td>90836.0</td>\n",
              "    </tr>\n",
              "  </tbody>\n",
              "</table>\n",
              "</div>"
            ],
            "text/plain": [
              "           Date Country State  ... DeathsAcum  RecoveredAcum  ActiveAcum\n",
              "3053 2020-04-20   Spain    NA  ...    20852.0        80587.0     98771.0\n",
              "3044 2020-04-19   Spain    NA  ...    20453.0        77357.0    100864.0\n",
              "3025 2020-04-18   Spain    NA  ...    20043.0        74797.0     96886.0\n",
              "3017 2020-04-17   Spain    NA  ...    20002.0        74797.0     96040.0\n",
              "3013 2020-04-16   Spain    NA  ...    19315.0        74797.0     90836.0\n",
              "\n",
              "[5 rows x 8 columns]"
            ]
          },
          "metadata": {
            "tags": []
          },
          "execution_count": 18
        }
      ]
    },
    {
      "cell_type": "markdown",
      "metadata": {
        "id": "Hy7ezfe71YfW",
        "colab_type": "text"
      },
      "source": [
        "Perfect :-)"
      ]
    },
    {
      "cell_type": "markdown",
      "metadata": {
        "id": "QXWtfzg61dT8",
        "colab_type": "text"
      },
      "source": [
        "Now, I am going to group and summarize the data because I want to be sure that there is only one row per Date, Country, State and Admin2"
      ]
    },
    {
      "cell_type": "code",
      "metadata": {
        "id": "Sv6N4XzATqDb",
        "colab_type": "code",
        "colab": {}
      },
      "source": [
        "data = data.groupby([\"Date\", \"Country\", \"State\", \"Admin2\"]).agg(\"sum\").reset_index()"
      ],
      "execution_count": 0,
      "outputs": []
    },
    {
      "cell_type": "code",
      "metadata": {
        "id": "uMxyZOlHoMuf",
        "colab_type": "code",
        "outputId": "ecfa842d-a936-45ab-f02d-9a24bba739e1",
        "colab": {
          "base_uri": "https://localhost:8080/",
          "height": 206
        }
      },
      "source": [
        "data.head()"
      ],
      "execution_count": 20,
      "outputs": [
        {
          "output_type": "execute_result",
          "data": {
            "text/html": [
              "<div>\n",
              "<style scoped>\n",
              "    .dataframe tbody tr th:only-of-type {\n",
              "        vertical-align: middle;\n",
              "    }\n",
              "\n",
              "    .dataframe tbody tr th {\n",
              "        vertical-align: top;\n",
              "    }\n",
              "\n",
              "    .dataframe thead th {\n",
              "        text-align: right;\n",
              "    }\n",
              "</style>\n",
              "<table border=\"1\" class=\"dataframe\">\n",
              "  <thead>\n",
              "    <tr style=\"text-align: right;\">\n",
              "      <th></th>\n",
              "      <th>Date</th>\n",
              "      <th>Country</th>\n",
              "      <th>State</th>\n",
              "      <th>Admin2</th>\n",
              "      <th>ConfirmedAcum</th>\n",
              "      <th>DeathsAcum</th>\n",
              "      <th>RecoveredAcum</th>\n",
              "      <th>ActiveAcum</th>\n",
              "    </tr>\n",
              "  </thead>\n",
              "  <tbody>\n",
              "    <tr>\n",
              "      <th>0</th>\n",
              "      <td>2020-01-22</td>\n",
              "      <td>China</td>\n",
              "      <td>Anhui</td>\n",
              "      <td>NA</td>\n",
              "      <td>1.0</td>\n",
              "      <td>0.0</td>\n",
              "      <td>0.0</td>\n",
              "      <td>0.0</td>\n",
              "    </tr>\n",
              "    <tr>\n",
              "      <th>1</th>\n",
              "      <td>2020-01-22</td>\n",
              "      <td>China</td>\n",
              "      <td>Beijing</td>\n",
              "      <td>NA</td>\n",
              "      <td>14.0</td>\n",
              "      <td>0.0</td>\n",
              "      <td>0.0</td>\n",
              "      <td>0.0</td>\n",
              "    </tr>\n",
              "    <tr>\n",
              "      <th>2</th>\n",
              "      <td>2020-01-22</td>\n",
              "      <td>China</td>\n",
              "      <td>Chongqing</td>\n",
              "      <td>NA</td>\n",
              "      <td>6.0</td>\n",
              "      <td>0.0</td>\n",
              "      <td>0.0</td>\n",
              "      <td>0.0</td>\n",
              "    </tr>\n",
              "    <tr>\n",
              "      <th>3</th>\n",
              "      <td>2020-01-22</td>\n",
              "      <td>China</td>\n",
              "      <td>Fujian</td>\n",
              "      <td>NA</td>\n",
              "      <td>1.0</td>\n",
              "      <td>0.0</td>\n",
              "      <td>0.0</td>\n",
              "      <td>0.0</td>\n",
              "    </tr>\n",
              "    <tr>\n",
              "      <th>4</th>\n",
              "      <td>2020-01-22</td>\n",
              "      <td>China</td>\n",
              "      <td>Gansu</td>\n",
              "      <td>NA</td>\n",
              "      <td>0.0</td>\n",
              "      <td>0.0</td>\n",
              "      <td>0.0</td>\n",
              "      <td>0.0</td>\n",
              "    </tr>\n",
              "  </tbody>\n",
              "</table>\n",
              "</div>"
            ],
            "text/plain": [
              "        Date Country      State  ... DeathsAcum  RecoveredAcum  ActiveAcum\n",
              "0 2020-01-22   China      Anhui  ...        0.0            0.0         0.0\n",
              "1 2020-01-22   China    Beijing  ...        0.0            0.0         0.0\n",
              "2 2020-01-22   China  Chongqing  ...        0.0            0.0         0.0\n",
              "3 2020-01-22   China     Fujian  ...        0.0            0.0         0.0\n",
              "4 2020-01-22   China      Gansu  ...        0.0            0.0         0.0\n",
              "\n",
              "[5 rows x 8 columns]"
            ]
          },
          "metadata": {
            "tags": []
          },
          "execution_count": 20
        }
      ]
    },
    {
      "cell_type": "markdown",
      "metadata": {
        "id": "TZbi_Sr6SbO5",
        "colab_type": "text"
      },
      "source": [
        "# Daily Cases\n",
        "I am going to enrich the data by creating new columns with the daily cases.  \n",
        "\n",
        "First I create new columns with the cases from the previous day"
      ]
    },
    {
      "cell_type": "code",
      "metadata": {
        "id": "g8MHMIevPoA0",
        "colab_type": "code",
        "colab": {}
      },
      "source": [
        "data = data.sort_values(['State', 'Country', 'Date']).\\\n",
        "            assign(ConfirmedPrevious = data.groupby(['Admin2', 'State', 'Country']).shift(1)[\"ConfirmedAcum\"],\n",
        "                   DeathsPrevious = data.groupby(['Admin2', 'State', 'Country']).shift(1)[\"DeathsAcum\"],\n",
        "                   RecoveredPrevious = data.groupby(['Admin2', 'State', 'Country']).shift(1)[\"RecoveredAcum\"],\n",
        "                   ActivePrevious = data.groupby(['Admin2', 'State', 'Country']).shift(1)[\"ActiveAcum\"],\n",
        "            ).\\\n",
        "            fillna({ 'ConfirmedPrevious' : 0, 'DeathsPrevious' : 0, 'RecoveredPrevious' : 0 })"
      ],
      "execution_count": 0,
      "outputs": []
    },
    {
      "cell_type": "code",
      "metadata": {
        "id": "DDT2ontmYspr",
        "colab_type": "code",
        "outputId": "ad152470-0a0d-4a7b-bd54-e0291926599b",
        "colab": {
          "base_uri": "https://localhost:8080/",
          "height": 206
        }
      },
      "source": [
        "data.head()"
      ],
      "execution_count": 22,
      "outputs": [
        {
          "output_type": "execute_result",
          "data": {
            "text/html": [
              "<div>\n",
              "<style scoped>\n",
              "    .dataframe tbody tr th:only-of-type {\n",
              "        vertical-align: middle;\n",
              "    }\n",
              "\n",
              "    .dataframe tbody tr th {\n",
              "        vertical-align: top;\n",
              "    }\n",
              "\n",
              "    .dataframe thead th {\n",
              "        text-align: right;\n",
              "    }\n",
              "</style>\n",
              "<table border=\"1\" class=\"dataframe\">\n",
              "  <thead>\n",
              "    <tr style=\"text-align: right;\">\n",
              "      <th></th>\n",
              "      <th>Date</th>\n",
              "      <th>Country</th>\n",
              "      <th>State</th>\n",
              "      <th>Admin2</th>\n",
              "      <th>ConfirmedAcum</th>\n",
              "      <th>DeathsAcum</th>\n",
              "      <th>RecoveredAcum</th>\n",
              "      <th>ActiveAcum</th>\n",
              "      <th>ConfirmedPrevious</th>\n",
              "      <th>DeathsPrevious</th>\n",
              "      <th>RecoveredPrevious</th>\n",
              "      <th>ActivePrevious</th>\n",
              "    </tr>\n",
              "  </thead>\n",
              "  <tbody>\n",
              "    <tr>\n",
              "      <th>2599</th>\n",
              "      <td>2020-02-28</td>\n",
              "      <td>Canada</td>\n",
              "      <td>Montreal, QC</td>\n",
              "      <td>NA</td>\n",
              "      <td>1.0</td>\n",
              "      <td>0.0</td>\n",
              "      <td>0.0</td>\n",
              "      <td>1.0</td>\n",
              "      <td>0.0</td>\n",
              "      <td>0.0</td>\n",
              "      <td>0.0</td>\n",
              "      <td>NaN</td>\n",
              "    </tr>\n",
              "    <tr>\n",
              "      <th>2713</th>\n",
              "      <td>2020-02-29</td>\n",
              "      <td>Canada</td>\n",
              "      <td>Montreal, QC</td>\n",
              "      <td>NA</td>\n",
              "      <td>1.0</td>\n",
              "      <td>0.0</td>\n",
              "      <td>0.0</td>\n",
              "      <td>1.0</td>\n",
              "      <td>1.0</td>\n",
              "      <td>0.0</td>\n",
              "      <td>0.0</td>\n",
              "      <td>1.0</td>\n",
              "    </tr>\n",
              "    <tr>\n",
              "      <th>2834</th>\n",
              "      <td>2020-03-01</td>\n",
              "      <td>Canada</td>\n",
              "      <td>Montreal, QC</td>\n",
              "      <td>NA</td>\n",
              "      <td>1.0</td>\n",
              "      <td>0.0</td>\n",
              "      <td>0.0</td>\n",
              "      <td>1.0</td>\n",
              "      <td>1.0</td>\n",
              "      <td>0.0</td>\n",
              "      <td>0.0</td>\n",
              "      <td>1.0</td>\n",
              "    </tr>\n",
              "    <tr>\n",
              "      <th>2961</th>\n",
              "      <td>2020-03-02</td>\n",
              "      <td>Canada</td>\n",
              "      <td>Montreal, QC</td>\n",
              "      <td>NA</td>\n",
              "      <td>1.0</td>\n",
              "      <td>0.0</td>\n",
              "      <td>0.0</td>\n",
              "      <td>1.0</td>\n",
              "      <td>1.0</td>\n",
              "      <td>0.0</td>\n",
              "      <td>0.0</td>\n",
              "      <td>1.0</td>\n",
              "    </tr>\n",
              "    <tr>\n",
              "      <th>3103</th>\n",
              "      <td>2020-03-03</td>\n",
              "      <td>Canada</td>\n",
              "      <td>Montreal, QC</td>\n",
              "      <td>NA</td>\n",
              "      <td>1.0</td>\n",
              "      <td>0.0</td>\n",
              "      <td>0.0</td>\n",
              "      <td>1.0</td>\n",
              "      <td>1.0</td>\n",
              "      <td>0.0</td>\n",
              "      <td>0.0</td>\n",
              "      <td>1.0</td>\n",
              "    </tr>\n",
              "  </tbody>\n",
              "</table>\n",
              "</div>"
            ],
            "text/plain": [
              "           Date Country  ... RecoveredPrevious ActivePrevious\n",
              "2599 2020-02-28  Canada  ...               0.0            NaN\n",
              "2713 2020-02-29  Canada  ...               0.0            1.0\n",
              "2834 2020-03-01  Canada  ...               0.0            1.0\n",
              "2961 2020-03-02  Canada  ...               0.0            1.0\n",
              "3103 2020-03-03  Canada  ...               0.0            1.0\n",
              "\n",
              "[5 rows x 12 columns]"
            ]
          },
          "metadata": {
            "tags": []
          },
          "execution_count": 22
        }
      ]
    },
    {
      "cell_type": "markdown",
      "metadata": {
        "id": "7sbEQUt06Cw9",
        "colab_type": "text"
      },
      "source": [
        "After that I am going to assign the new fields subtracting the previous acum cases to the actual acum cases"
      ]
    },
    {
      "cell_type": "code",
      "metadata": {
        "id": "95W2LJ4yXESe",
        "colab_type": "code",
        "colab": {}
      },
      "source": [
        "data = data.assign(Confirmed = data.ConfirmedAcum -  data.ConfirmedPrevious,\n",
        "            Deaths = data.DeathsAcum - data.DeathsPrevious,\n",
        "            Recovered = data.RecoveredAcum - data.RecoveredPrevious,\n",
        "            Active = data.ActiveAcum - data.ActivePrevious\n",
        "            )"
      ],
      "execution_count": 0,
      "outputs": []
    },
    {
      "cell_type": "markdown",
      "metadata": {
        "id": "R3aiurFY6btc",
        "colab_type": "text"
      },
      "source": [
        "I no longer need the fields I used to make the calculation so I can drop them"
      ]
    },
    {
      "cell_type": "code",
      "metadata": {
        "id": "EyYZ8SAA51rY",
        "colab_type": "code",
        "colab": {}
      },
      "source": [
        "data = data.drop(['ConfirmedPrevious', 'DeathsPrevious', 'RecoveredPrevious', 'ActivePrevious'], axis = 1)"
      ],
      "execution_count": 0,
      "outputs": []
    },
    {
      "cell_type": "markdown",
      "metadata": {
        "id": "kv94Eilb6t22",
        "colab_type": "text"
      },
      "source": [
        "Does the data look good?"
      ]
    },
    {
      "cell_type": "code",
      "metadata": {
        "id": "vrr3xpFIRlfW",
        "colab_type": "code",
        "outputId": "1a28f475-a5ef-4fef-b974-7334e95e2a85",
        "colab": {
          "base_uri": "https://localhost:8080/",
          "height": 424
        }
      },
      "source": [
        "data.query(\"Country == 'Spain'\")"
      ],
      "execution_count": 25,
      "outputs": [
        {
          "output_type": "execute_result",
          "data": {
            "text/html": [
              "<div>\n",
              "<style scoped>\n",
              "    .dataframe tbody tr th:only-of-type {\n",
              "        vertical-align: middle;\n",
              "    }\n",
              "\n",
              "    .dataframe tbody tr th {\n",
              "        vertical-align: top;\n",
              "    }\n",
              "\n",
              "    .dataframe thead th {\n",
              "        text-align: right;\n",
              "    }\n",
              "</style>\n",
              "<table border=\"1\" class=\"dataframe\">\n",
              "  <thead>\n",
              "    <tr style=\"text-align: right;\">\n",
              "      <th></th>\n",
              "      <th>Date</th>\n",
              "      <th>Country</th>\n",
              "      <th>State</th>\n",
              "      <th>Admin2</th>\n",
              "      <th>ConfirmedAcum</th>\n",
              "      <th>DeathsAcum</th>\n",
              "      <th>RecoveredAcum</th>\n",
              "      <th>ActiveAcum</th>\n",
              "      <th>Confirmed</th>\n",
              "      <th>Deaths</th>\n",
              "      <th>Recovered</th>\n",
              "      <th>Active</th>\n",
              "    </tr>\n",
              "  </thead>\n",
              "  <tbody>\n",
              "    <tr>\n",
              "      <th>545</th>\n",
              "      <td>2020-02-01</td>\n",
              "      <td>Spain</td>\n",
              "      <td>NA</td>\n",
              "      <td>NA</td>\n",
              "      <td>1.0</td>\n",
              "      <td>0.0</td>\n",
              "      <td>0.0</td>\n",
              "      <td>1.0</td>\n",
              "      <td>1.0</td>\n",
              "      <td>0.0</td>\n",
              "      <td>0.0</td>\n",
              "      <td>NaN</td>\n",
              "    </tr>\n",
              "    <tr>\n",
              "      <th>612</th>\n",
              "      <td>2020-02-02</td>\n",
              "      <td>Spain</td>\n",
              "      <td>NA</td>\n",
              "      <td>NA</td>\n",
              "      <td>1.0</td>\n",
              "      <td>0.0</td>\n",
              "      <td>0.0</td>\n",
              "      <td>1.0</td>\n",
              "      <td>0.0</td>\n",
              "      <td>0.0</td>\n",
              "      <td>0.0</td>\n",
              "      <td>0.0</td>\n",
              "    </tr>\n",
              "    <tr>\n",
              "      <th>679</th>\n",
              "      <td>2020-02-03</td>\n",
              "      <td>Spain</td>\n",
              "      <td>NA</td>\n",
              "      <td>NA</td>\n",
              "      <td>1.0</td>\n",
              "      <td>0.0</td>\n",
              "      <td>0.0</td>\n",
              "      <td>1.0</td>\n",
              "      <td>0.0</td>\n",
              "      <td>0.0</td>\n",
              "      <td>0.0</td>\n",
              "      <td>0.0</td>\n",
              "    </tr>\n",
              "    <tr>\n",
              "      <th>749</th>\n",
              "      <td>2020-02-04</td>\n",
              "      <td>Spain</td>\n",
              "      <td>NA</td>\n",
              "      <td>NA</td>\n",
              "      <td>1.0</td>\n",
              "      <td>0.0</td>\n",
              "      <td>0.0</td>\n",
              "      <td>1.0</td>\n",
              "      <td>0.0</td>\n",
              "      <td>0.0</td>\n",
              "      <td>0.0</td>\n",
              "      <td>0.0</td>\n",
              "    </tr>\n",
              "    <tr>\n",
              "      <th>819</th>\n",
              "      <td>2020-02-05</td>\n",
              "      <td>Spain</td>\n",
              "      <td>NA</td>\n",
              "      <td>NA</td>\n",
              "      <td>1.0</td>\n",
              "      <td>0.0</td>\n",
              "      <td>0.0</td>\n",
              "      <td>1.0</td>\n",
              "      <td>0.0</td>\n",
              "      <td>0.0</td>\n",
              "      <td>0.0</td>\n",
              "      <td>0.0</td>\n",
              "    </tr>\n",
              "    <tr>\n",
              "      <th>...</th>\n",
              "      <td>...</td>\n",
              "      <td>...</td>\n",
              "      <td>...</td>\n",
              "      <td>...</td>\n",
              "      <td>...</td>\n",
              "      <td>...</td>\n",
              "      <td>...</td>\n",
              "      <td>...</td>\n",
              "      <td>...</td>\n",
              "      <td>...</td>\n",
              "      <td>...</td>\n",
              "      <td>...</td>\n",
              "    </tr>\n",
              "    <tr>\n",
              "      <th>83563</th>\n",
              "      <td>2020-04-16</td>\n",
              "      <td>Spain</td>\n",
              "      <td>NA</td>\n",
              "      <td>NA</td>\n",
              "      <td>184948.0</td>\n",
              "      <td>19315.0</td>\n",
              "      <td>74797.0</td>\n",
              "      <td>90836.0</td>\n",
              "      <td>7304.0</td>\n",
              "      <td>607.0</td>\n",
              "      <td>3944.0</td>\n",
              "      <td>2753.0</td>\n",
              "    </tr>\n",
              "    <tr>\n",
              "      <th>86603</th>\n",
              "      <td>2020-04-17</td>\n",
              "      <td>Spain</td>\n",
              "      <td>NA</td>\n",
              "      <td>NA</td>\n",
              "      <td>190839.0</td>\n",
              "      <td>20002.0</td>\n",
              "      <td>74797.0</td>\n",
              "      <td>96040.0</td>\n",
              "      <td>5891.0</td>\n",
              "      <td>687.0</td>\n",
              "      <td>0.0</td>\n",
              "      <td>5204.0</td>\n",
              "    </tr>\n",
              "    <tr>\n",
              "      <th>89647</th>\n",
              "      <td>2020-04-18</td>\n",
              "      <td>Spain</td>\n",
              "      <td>NA</td>\n",
              "      <td>NA</td>\n",
              "      <td>191726.0</td>\n",
              "      <td>20043.0</td>\n",
              "      <td>74797.0</td>\n",
              "      <td>96886.0</td>\n",
              "      <td>887.0</td>\n",
              "      <td>41.0</td>\n",
              "      <td>0.0</td>\n",
              "      <td>846.0</td>\n",
              "    </tr>\n",
              "    <tr>\n",
              "      <th>92699</th>\n",
              "      <td>2020-04-19</td>\n",
              "      <td>Spain</td>\n",
              "      <td>NA</td>\n",
              "      <td>NA</td>\n",
              "      <td>198674.0</td>\n",
              "      <td>20453.0</td>\n",
              "      <td>77357.0</td>\n",
              "      <td>100864.0</td>\n",
              "      <td>6948.0</td>\n",
              "      <td>410.0</td>\n",
              "      <td>2560.0</td>\n",
              "      <td>3978.0</td>\n",
              "    </tr>\n",
              "    <tr>\n",
              "      <th>95770</th>\n",
              "      <td>2020-04-20</td>\n",
              "      <td>Spain</td>\n",
              "      <td>NA</td>\n",
              "      <td>NA</td>\n",
              "      <td>200210.0</td>\n",
              "      <td>20852.0</td>\n",
              "      <td>80587.0</td>\n",
              "      <td>98771.0</td>\n",
              "      <td>1536.0</td>\n",
              "      <td>399.0</td>\n",
              "      <td>3230.0</td>\n",
              "      <td>-2093.0</td>\n",
              "    </tr>\n",
              "  </tbody>\n",
              "</table>\n",
              "<p>80 rows × 12 columns</p>\n",
              "</div>"
            ],
            "text/plain": [
              "            Date Country State Admin2  ...  Confirmed  Deaths  Recovered  Active\n",
              "545   2020-02-01   Spain    NA     NA  ...        1.0     0.0        0.0     NaN\n",
              "612   2020-02-02   Spain    NA     NA  ...        0.0     0.0        0.0     0.0\n",
              "679   2020-02-03   Spain    NA     NA  ...        0.0     0.0        0.0     0.0\n",
              "749   2020-02-04   Spain    NA     NA  ...        0.0     0.0        0.0     0.0\n",
              "819   2020-02-05   Spain    NA     NA  ...        0.0     0.0        0.0     0.0\n",
              "...          ...     ...   ...    ...  ...        ...     ...        ...     ...\n",
              "83563 2020-04-16   Spain    NA     NA  ...     7304.0   607.0     3944.0  2753.0\n",
              "86603 2020-04-17   Spain    NA     NA  ...     5891.0   687.0        0.0  5204.0\n",
              "89647 2020-04-18   Spain    NA     NA  ...      887.0    41.0        0.0   846.0\n",
              "92699 2020-04-19   Spain    NA     NA  ...     6948.0   410.0     2560.0  3978.0\n",
              "95770 2020-04-20   Spain    NA     NA  ...     1536.0   399.0     3230.0 -2093.0\n",
              "\n",
              "[80 rows x 12 columns]"
            ]
          },
          "metadata": {
            "tags": []
          },
          "execution_count": 25
        }
      ]
    },
    {
      "cell_type": "markdown",
      "metadata": {
        "id": "6iVrbLMbPK12",
        "colab_type": "text"
      },
      "source": [
        "## Data By Country\n",
        "\n",
        "\n"
      ]
    },
    {
      "cell_type": "markdown",
      "metadata": {
        "id": "WmgHcHDV8YwI",
        "colab_type": "text"
      },
      "source": [
        "So far, we have data by 3 geographical levels: Country, State and a lower level called Admin2"
      ]
    },
    {
      "cell_type": "markdown",
      "metadata": {
        "id": "Q27Z37fC8qp3",
        "colab_type": "text"
      },
      "source": [
        "The problem is that not all countries have this level of information, so I will create a new dataset only with the country level data"
      ]
    },
    {
      "cell_type": "code",
      "metadata": {
        "id": "HdFBOvQnoHyb",
        "colab_type": "code",
        "outputId": "4a036bb5-544b-49df-fab7-d575b607ba39",
        "colab": {
          "base_uri": "https://localhost:8080/",
          "height": 329
        }
      },
      "source": [
        "data_by_country = data.groupby([\"Date\", \"Country\"]).agg(\"sum\").reset_index()\n",
        "data_by_country = data_by_country.sort_values(['Country', 'Date'])\n",
        "data_by_country.info()"
      ],
      "execution_count": 26,
      "outputs": [
        {
          "output_type": "stream",
          "text": [
            "<class 'pandas.core.frame.DataFrame'>\n",
            "Int64Index: 9112 entries, 848 to 3045\n",
            "Data columns (total 10 columns):\n",
            " #   Column         Non-Null Count  Dtype         \n",
            "---  ------         --------------  -----         \n",
            " 0   Date           9112 non-null   datetime64[ns]\n",
            " 1   Country        9112 non-null   object        \n",
            " 2   ConfirmedAcum  9112 non-null   float64       \n",
            " 3   DeathsAcum     9112 non-null   float64       \n",
            " 4   RecoveredAcum  9112 non-null   float64       \n",
            " 5   ActiveAcum     9112 non-null   float64       \n",
            " 6   Confirmed      9112 non-null   float64       \n",
            " 7   Deaths         9112 non-null   float64       \n",
            " 8   Recovered      9112 non-null   float64       \n",
            " 9   Active         9112 non-null   float64       \n",
            "dtypes: datetime64[ns](1), float64(8), object(1)\n",
            "memory usage: 783.1+ KB\n"
          ],
          "name": "stdout"
        }
      ]
    },
    {
      "cell_type": "code",
      "metadata": {
        "id": "l4ZlhVtkoOUr",
        "colab_type": "code",
        "outputId": "a8cbf82e-1f17-4094-938d-b7d6fccde834",
        "colab": {
          "base_uri": "https://localhost:8080/",
          "height": 206
        }
      },
      "source": [
        "data_by_country.head()"
      ],
      "execution_count": 27,
      "outputs": [
        {
          "output_type": "execute_result",
          "data": {
            "text/html": [
              "<div>\n",
              "<style scoped>\n",
              "    .dataframe tbody tr th:only-of-type {\n",
              "        vertical-align: middle;\n",
              "    }\n",
              "\n",
              "    .dataframe tbody tr th {\n",
              "        vertical-align: top;\n",
              "    }\n",
              "\n",
              "    .dataframe thead th {\n",
              "        text-align: right;\n",
              "    }\n",
              "</style>\n",
              "<table border=\"1\" class=\"dataframe\">\n",
              "  <thead>\n",
              "    <tr style=\"text-align: right;\">\n",
              "      <th></th>\n",
              "      <th>Date</th>\n",
              "      <th>Country</th>\n",
              "      <th>ConfirmedAcum</th>\n",
              "      <th>DeathsAcum</th>\n",
              "      <th>RecoveredAcum</th>\n",
              "      <th>ActiveAcum</th>\n",
              "      <th>Confirmed</th>\n",
              "      <th>Deaths</th>\n",
              "      <th>Recovered</th>\n",
              "      <th>Active</th>\n",
              "    </tr>\n",
              "  </thead>\n",
              "  <tbody>\n",
              "    <tr>\n",
              "      <th>848</th>\n",
              "      <td>2020-02-24</td>\n",
              "      <td>Afghanistan</td>\n",
              "      <td>1.0</td>\n",
              "      <td>0.0</td>\n",
              "      <td>0.0</td>\n",
              "      <td>1.0</td>\n",
              "      <td>1.0</td>\n",
              "      <td>0.0</td>\n",
              "      <td>0.0</td>\n",
              "      <td>0.0</td>\n",
              "    </tr>\n",
              "    <tr>\n",
              "      <th>886</th>\n",
              "      <td>2020-02-25</td>\n",
              "      <td>Afghanistan</td>\n",
              "      <td>1.0</td>\n",
              "      <td>0.0</td>\n",
              "      <td>0.0</td>\n",
              "      <td>1.0</td>\n",
              "      <td>0.0</td>\n",
              "      <td>0.0</td>\n",
              "      <td>0.0</td>\n",
              "      <td>0.0</td>\n",
              "    </tr>\n",
              "    <tr>\n",
              "      <th>928</th>\n",
              "      <td>2020-02-26</td>\n",
              "      <td>Afghanistan</td>\n",
              "      <td>1.0</td>\n",
              "      <td>0.0</td>\n",
              "      <td>0.0</td>\n",
              "      <td>1.0</td>\n",
              "      <td>0.0</td>\n",
              "      <td>0.0</td>\n",
              "      <td>0.0</td>\n",
              "      <td>0.0</td>\n",
              "    </tr>\n",
              "    <tr>\n",
              "      <th>977</th>\n",
              "      <td>2020-02-27</td>\n",
              "      <td>Afghanistan</td>\n",
              "      <td>1.0</td>\n",
              "      <td>0.0</td>\n",
              "      <td>0.0</td>\n",
              "      <td>1.0</td>\n",
              "      <td>0.0</td>\n",
              "      <td>0.0</td>\n",
              "      <td>0.0</td>\n",
              "      <td>0.0</td>\n",
              "    </tr>\n",
              "    <tr>\n",
              "      <th>1030</th>\n",
              "      <td>2020-02-28</td>\n",
              "      <td>Afghanistan</td>\n",
              "      <td>1.0</td>\n",
              "      <td>0.0</td>\n",
              "      <td>0.0</td>\n",
              "      <td>1.0</td>\n",
              "      <td>0.0</td>\n",
              "      <td>0.0</td>\n",
              "      <td>0.0</td>\n",
              "      <td>0.0</td>\n",
              "    </tr>\n",
              "  </tbody>\n",
              "</table>\n",
              "</div>"
            ],
            "text/plain": [
              "           Date      Country  ConfirmedAcum  ...  Deaths  Recovered  Active\n",
              "848  2020-02-24  Afghanistan            1.0  ...     0.0        0.0     0.0\n",
              "886  2020-02-25  Afghanistan            1.0  ...     0.0        0.0     0.0\n",
              "928  2020-02-26  Afghanistan            1.0  ...     0.0        0.0     0.0\n",
              "977  2020-02-27  Afghanistan            1.0  ...     0.0        0.0     0.0\n",
              "1030 2020-02-28  Afghanistan            1.0  ...     0.0        0.0     0.0\n",
              "\n",
              "[5 rows x 10 columns]"
            ]
          },
          "metadata": {
            "tags": []
          },
          "execution_count": 27
        }
      ]
    },
    {
      "cell_type": "code",
      "metadata": {
        "id": "qEkuhtfkrW1l",
        "colab_type": "code",
        "outputId": "c069e2f9-44d8-4624-f28d-424eb9c1d3b1",
        "colab": {
          "base_uri": "https://localhost:8080/",
          "height": 424
        }
      },
      "source": [
        "data_by_country[data_by_country.Country == 'United States']"
      ],
      "execution_count": 28,
      "outputs": [
        {
          "output_type": "execute_result",
          "data": {
            "text/html": [
              "<div>\n",
              "<style scoped>\n",
              "    .dataframe tbody tr th:only-of-type {\n",
              "        vertical-align: middle;\n",
              "    }\n",
              "\n",
              "    .dataframe tbody tr th {\n",
              "        vertical-align: top;\n",
              "    }\n",
              "\n",
              "    .dataframe thead th {\n",
              "        text-align: right;\n",
              "    }\n",
              "</style>\n",
              "<table border=\"1\" class=\"dataframe\">\n",
              "  <thead>\n",
              "    <tr style=\"text-align: right;\">\n",
              "      <th></th>\n",
              "      <th>Date</th>\n",
              "      <th>Country</th>\n",
              "      <th>ConfirmedAcum</th>\n",
              "      <th>DeathsAcum</th>\n",
              "      <th>RecoveredAcum</th>\n",
              "      <th>ActiveAcum</th>\n",
              "      <th>Confirmed</th>\n",
              "      <th>Deaths</th>\n",
              "      <th>Recovered</th>\n",
              "      <th>Active</th>\n",
              "    </tr>\n",
              "  </thead>\n",
              "  <tbody>\n",
              "    <tr>\n",
              "      <th>7</th>\n",
              "      <td>2020-01-22</td>\n",
              "      <td>United States</td>\n",
              "      <td>1.0</td>\n",
              "      <td>0.0</td>\n",
              "      <td>0.0</td>\n",
              "      <td>0.0</td>\n",
              "      <td>1.0</td>\n",
              "      <td>0.0</td>\n",
              "      <td>0.0</td>\n",
              "      <td>0.0</td>\n",
              "    </tr>\n",
              "    <tr>\n",
              "      <th>22</th>\n",
              "      <td>2020-01-23</td>\n",
              "      <td>United States</td>\n",
              "      <td>1.0</td>\n",
              "      <td>0.0</td>\n",
              "      <td>0.0</td>\n",
              "      <td>0.0</td>\n",
              "      <td>0.0</td>\n",
              "      <td>0.0</td>\n",
              "      <td>0.0</td>\n",
              "      <td>0.0</td>\n",
              "    </tr>\n",
              "    <tr>\n",
              "      <th>33</th>\n",
              "      <td>2020-01-24</td>\n",
              "      <td>United States</td>\n",
              "      <td>2.0</td>\n",
              "      <td>0.0</td>\n",
              "      <td>0.0</td>\n",
              "      <td>0.0</td>\n",
              "      <td>1.0</td>\n",
              "      <td>0.0</td>\n",
              "      <td>0.0</td>\n",
              "      <td>0.0</td>\n",
              "    </tr>\n",
              "    <tr>\n",
              "      <th>47</th>\n",
              "      <td>2020-01-25</td>\n",
              "      <td>United States</td>\n",
              "      <td>2.0</td>\n",
              "      <td>0.0</td>\n",
              "      <td>0.0</td>\n",
              "      <td>0.0</td>\n",
              "      <td>1.0</td>\n",
              "      <td>0.0</td>\n",
              "      <td>0.0</td>\n",
              "      <td>0.0</td>\n",
              "    </tr>\n",
              "    <tr>\n",
              "      <th>62</th>\n",
              "      <td>2020-01-26</td>\n",
              "      <td>United States</td>\n",
              "      <td>5.0</td>\n",
              "      <td>0.0</td>\n",
              "      <td>0.0</td>\n",
              "      <td>0.0</td>\n",
              "      <td>3.0</td>\n",
              "      <td>0.0</td>\n",
              "      <td>0.0</td>\n",
              "      <td>0.0</td>\n",
              "    </tr>\n",
              "    <tr>\n",
              "      <th>...</th>\n",
              "      <td>...</td>\n",
              "      <td>...</td>\n",
              "      <td>...</td>\n",
              "      <td>...</td>\n",
              "      <td>...</td>\n",
              "      <td>...</td>\n",
              "      <td>...</td>\n",
              "      <td>...</td>\n",
              "      <td>...</td>\n",
              "      <td>...</td>\n",
              "    </tr>\n",
              "    <tr>\n",
              "      <th>8367</th>\n",
              "      <td>2020-04-16</td>\n",
              "      <td>United States</td>\n",
              "      <td>667801.0</td>\n",
              "      <td>32916.0</td>\n",
              "      <td>54703.0</td>\n",
              "      <td>580182.0</td>\n",
              "      <td>31449.0</td>\n",
              "      <td>4591.0</td>\n",
              "      <td>2607.0</td>\n",
              "      <td>24251.0</td>\n",
              "    </tr>\n",
              "    <tr>\n",
              "      <th>8551</th>\n",
              "      <td>2020-04-17</td>\n",
              "      <td>United States</td>\n",
              "      <td>699706.0</td>\n",
              "      <td>36773.0</td>\n",
              "      <td>58545.0</td>\n",
              "      <td>604388.0</td>\n",
              "      <td>31976.0</td>\n",
              "      <td>3857.0</td>\n",
              "      <td>3842.0</td>\n",
              "      <td>24277.0</td>\n",
              "    </tr>\n",
              "    <tr>\n",
              "      <th>8735</th>\n",
              "      <td>2020-04-18</td>\n",
              "      <td>United States</td>\n",
              "      <td>732197.0</td>\n",
              "      <td>38664.0</td>\n",
              "      <td>64840.0</td>\n",
              "      <td>628693.0</td>\n",
              "      <td>32491.0</td>\n",
              "      <td>1891.0</td>\n",
              "      <td>6295.0</td>\n",
              "      <td>24305.0</td>\n",
              "    </tr>\n",
              "    <tr>\n",
              "      <th>8919</th>\n",
              "      <td>2020-04-19</td>\n",
              "      <td>United States</td>\n",
              "      <td>759086.0</td>\n",
              "      <td>40661.0</td>\n",
              "      <td>70337.0</td>\n",
              "      <td>648088.0</td>\n",
              "      <td>27159.0</td>\n",
              "      <td>1997.0</td>\n",
              "      <td>5497.0</td>\n",
              "      <td>19397.0</td>\n",
              "    </tr>\n",
              "    <tr>\n",
              "      <th>9103</th>\n",
              "      <td>2020-04-20</td>\n",
              "      <td>United States</td>\n",
              "      <td>784326.0</td>\n",
              "      <td>42094.0</td>\n",
              "      <td>72329.0</td>\n",
              "      <td>669903.0</td>\n",
              "      <td>25211.0</td>\n",
              "      <td>1433.0</td>\n",
              "      <td>1992.0</td>\n",
              "      <td>21786.0</td>\n",
              "    </tr>\n",
              "  </tbody>\n",
              "</table>\n",
              "<p>90 rows × 10 columns</p>\n",
              "</div>"
            ],
            "text/plain": [
              "           Date        Country  ConfirmedAcum  ...  Deaths  Recovered   Active\n",
              "7    2020-01-22  United States            1.0  ...     0.0        0.0      0.0\n",
              "22   2020-01-23  United States            1.0  ...     0.0        0.0      0.0\n",
              "33   2020-01-24  United States            2.0  ...     0.0        0.0      0.0\n",
              "47   2020-01-25  United States            2.0  ...     0.0        0.0      0.0\n",
              "62   2020-01-26  United States            5.0  ...     0.0        0.0      0.0\n",
              "...         ...            ...            ...  ...     ...        ...      ...\n",
              "8367 2020-04-16  United States       667801.0  ...  4591.0     2607.0  24251.0\n",
              "8551 2020-04-17  United States       699706.0  ...  3857.0     3842.0  24277.0\n",
              "8735 2020-04-18  United States       732197.0  ...  1891.0     6295.0  24305.0\n",
              "8919 2020-04-19  United States       759086.0  ...  1997.0     5497.0  19397.0\n",
              "9103 2020-04-20  United States       784326.0  ...  1433.0     1992.0  21786.0\n",
              "\n",
              "[90 rows x 10 columns]"
            ]
          },
          "metadata": {
            "tags": []
          },
          "execution_count": 28
        }
      ]
    },
    {
      "cell_type": "markdown",
      "metadata": {
        "id": "5SkKjf2zaM33",
        "colab_type": "text"
      },
      "source": [
        "## Cases per million inhabitants\n",
        "\n"
      ]
    },
    {
      "cell_type": "markdown",
      "metadata": {
        "id": "9Doq50kGLEzX",
        "colab_type": "text"
      },
      "source": [
        "We are going to enrich the information with the number of cases per million inhabitants, so we need population data by country.\n",
        "\n",
        "A small internet search leads me to a page that has population data for 2020:\n",
        "\n",
        "https://www.worldometers.info/world-population/population-by-country/\n",
        "\n",
        "It seems that this information is protected to be downloaded automatically so I have no choice but to do it manually and upload the data to a GitHub Repository:\n",
        "\n",
        "https://github.com/dvillaj/world-population/\n",
        "\n"
      ]
    },
    {
      "cell_type": "markdown",
      "metadata": {
        "id": "QJuioEUaMoVZ",
        "colab_type": "text"
      },
      "source": [
        "I load the data to the Pandas, clean it up and just maintain the field of the population \n"
      ]
    },
    {
      "cell_type": "code",
      "metadata": {
        "id": "MP-rwsGkeHRv",
        "colab_type": "code",
        "colab": {}
      },
      "source": [
        "population = pd.read_excel(\"https://github.com/dvillaj/world-population/blob/master/data/world-popultation-2020.xlsx?raw=true\", sheet_name=\"Data\")"
      ],
      "execution_count": 0,
      "outputs": []
    },
    {
      "cell_type": "code",
      "metadata": {
        "id": "KqTM6UkHeRXA",
        "colab_type": "code",
        "outputId": "13e9adb4-bef6-40a2-c82d-fb014f19493d",
        "colab": {
          "base_uri": "https://localhost:8080/",
          "height": 348
        }
      },
      "source": [
        "population.info()"
      ],
      "execution_count": 30,
      "outputs": [
        {
          "output_type": "stream",
          "text": [
            "<class 'pandas.core.frame.DataFrame'>\n",
            "RangeIndex: 235 entries, 0 to 234\n",
            "Data columns (total 11 columns):\n",
            " #   Column             Non-Null Count  Dtype  \n",
            "---  ------             --------------  -----  \n",
            " 0   Country            235 non-null    object \n",
            " 1   Population (2020)  235 non-null    int64  \n",
            " 2   Yearly Change      235 non-null    float64\n",
            " 3   Net Change         235 non-null    int64  \n",
            " 4   Density (P/Km²)    235 non-null    float64\n",
            " 5   Land Area (Km²)    235 non-null    int64  \n",
            " 6   Migrants (net)     201 non-null    float64\n",
            " 7   Fertility Rate     201 non-null    float64\n",
            " 8   Average Age        201 non-null    float64\n",
            " 9   Urban Pop %        222 non-null    float64\n",
            " 10  World Share        235 non-null    float64\n",
            "dtypes: float64(7), int64(3), object(1)\n",
            "memory usage: 20.3+ KB\n"
          ],
          "name": "stdout"
        }
      ]
    },
    {
      "cell_type": "code",
      "metadata": {
        "id": "fssvIxSPs_xR",
        "colab_type": "code",
        "colab": {}
      },
      "source": [
        "population = population.rename(columns = {\n",
        "    'Population (2020)' : 'Population',\n",
        "    'Yearly Change' : 'Yearly_Change',\n",
        "    'Net Change' : 'Net_Change',\n",
        "    'Density (P/Km²)' : 'Density',\n",
        "    'Land Area (Km²)' : 'Land_Area',\n",
        "    'Migrants (net)' : 'igrants',\n",
        "    'Fertility Rate' : 'Fertility',\n",
        "    'Average Age' : 'Mean_Age',\n",
        "    'Urban Pop %' : 'Urban_Pop',\n",
        "    'World Share' : 'World_Share'\n",
        "})"
      ],
      "execution_count": 0,
      "outputs": []
    },
    {
      "cell_type": "code",
      "metadata": {
        "id": "s7kZJnI1E3lT",
        "colab_type": "code",
        "colab": {}
      },
      "source": [
        "population = population[['Country', 'Population']]"
      ],
      "execution_count": 0,
      "outputs": []
    },
    {
      "cell_type": "code",
      "metadata": {
        "id": "sgeL52pNrCR6",
        "colab_type": "code",
        "outputId": "92bda14b-0063-4da0-e50b-21005472e57e",
        "colab": {
          "base_uri": "https://localhost:8080/",
          "height": 206
        }
      },
      "source": [
        "population.head()"
      ],
      "execution_count": 33,
      "outputs": [
        {
          "output_type": "execute_result",
          "data": {
            "text/html": [
              "<div>\n",
              "<style scoped>\n",
              "    .dataframe tbody tr th:only-of-type {\n",
              "        vertical-align: middle;\n",
              "    }\n",
              "\n",
              "    .dataframe tbody tr th {\n",
              "        vertical-align: top;\n",
              "    }\n",
              "\n",
              "    .dataframe thead th {\n",
              "        text-align: right;\n",
              "    }\n",
              "</style>\n",
              "<table border=\"1\" class=\"dataframe\">\n",
              "  <thead>\n",
              "    <tr style=\"text-align: right;\">\n",
              "      <th></th>\n",
              "      <th>Country</th>\n",
              "      <th>Population</th>\n",
              "    </tr>\n",
              "  </thead>\n",
              "  <tbody>\n",
              "    <tr>\n",
              "      <th>0</th>\n",
              "      <td>Afghanistan</td>\n",
              "      <td>38928346</td>\n",
              "    </tr>\n",
              "    <tr>\n",
              "      <th>1</th>\n",
              "      <td>Albania</td>\n",
              "      <td>2877797</td>\n",
              "    </tr>\n",
              "    <tr>\n",
              "      <th>2</th>\n",
              "      <td>Algeria</td>\n",
              "      <td>43851044</td>\n",
              "    </tr>\n",
              "    <tr>\n",
              "      <th>3</th>\n",
              "      <td>American Samoa</td>\n",
              "      <td>55191</td>\n",
              "    </tr>\n",
              "    <tr>\n",
              "      <th>4</th>\n",
              "      <td>Andorra</td>\n",
              "      <td>77265</td>\n",
              "    </tr>\n",
              "  </tbody>\n",
              "</table>\n",
              "</div>"
            ],
            "text/plain": [
              "          Country  Population\n",
              "0     Afghanistan    38928346\n",
              "1         Albania     2877797\n",
              "2         Algeria    43851044\n",
              "3  American Samoa       55191\n",
              "4         Andorra       77265"
            ]
          },
          "metadata": {
            "tags": []
          },
          "execution_count": 33
        }
      ]
    },
    {
      "cell_type": "markdown",
      "metadata": {
        "id": "0KKRRJK7M_WN",
        "colab_type": "text"
      },
      "source": [
        "Now I join the population Dataset with the country data to have the population in this dataset"
      ]
    },
    {
      "cell_type": "code",
      "metadata": {
        "id": "FlmyQ_H0xLbP",
        "colab_type": "code",
        "colab": {}
      },
      "source": [
        "data_by_country = data_by_country.merge(population, how = 'left', on = 'Country')"
      ],
      "execution_count": 0,
      "outputs": []
    },
    {
      "cell_type": "code",
      "metadata": {
        "id": "mFuMJ5XvmBIF",
        "colab_type": "code",
        "outputId": "97b8f7cb-8a95-464a-9f02-72832cb4db2c",
        "colab": {
          "base_uri": "https://localhost:8080/",
          "height": 348
        }
      },
      "source": [
        "data_by_country.info()"
      ],
      "execution_count": 35,
      "outputs": [
        {
          "output_type": "stream",
          "text": [
            "<class 'pandas.core.frame.DataFrame'>\n",
            "Int64Index: 9112 entries, 0 to 9111\n",
            "Data columns (total 11 columns):\n",
            " #   Column         Non-Null Count  Dtype         \n",
            "---  ------         --------------  -----         \n",
            " 0   Date           9112 non-null   datetime64[ns]\n",
            " 1   Country        9112 non-null   object        \n",
            " 2   ConfirmedAcum  9112 non-null   float64       \n",
            " 3   DeathsAcum     9112 non-null   float64       \n",
            " 4   RecoveredAcum  9112 non-null   float64       \n",
            " 5   ActiveAcum     9112 non-null   float64       \n",
            " 6   Confirmed      9112 non-null   float64       \n",
            " 7   Deaths         9112 non-null   float64       \n",
            " 8   Recovered      9112 non-null   float64       \n",
            " 9   Active         9112 non-null   float64       \n",
            " 10  Population     8783 non-null   float64       \n",
            "dtypes: datetime64[ns](1), float64(9), object(1)\n",
            "memory usage: 854.2+ KB\n"
          ],
          "name": "stdout"
        }
      ]
    },
    {
      "cell_type": "code",
      "metadata": {
        "id": "A-TiQcLCFGaw",
        "colab_type": "code",
        "outputId": "27655bdf-7a75-4b70-ac97-23ec594f8aa8",
        "colab": {
          "base_uri": "https://localhost:8080/",
          "height": 206
        }
      },
      "source": [
        "data_by_country.head()"
      ],
      "execution_count": 36,
      "outputs": [
        {
          "output_type": "execute_result",
          "data": {
            "text/html": [
              "<div>\n",
              "<style scoped>\n",
              "    .dataframe tbody tr th:only-of-type {\n",
              "        vertical-align: middle;\n",
              "    }\n",
              "\n",
              "    .dataframe tbody tr th {\n",
              "        vertical-align: top;\n",
              "    }\n",
              "\n",
              "    .dataframe thead th {\n",
              "        text-align: right;\n",
              "    }\n",
              "</style>\n",
              "<table border=\"1\" class=\"dataframe\">\n",
              "  <thead>\n",
              "    <tr style=\"text-align: right;\">\n",
              "      <th></th>\n",
              "      <th>Date</th>\n",
              "      <th>Country</th>\n",
              "      <th>ConfirmedAcum</th>\n",
              "      <th>DeathsAcum</th>\n",
              "      <th>RecoveredAcum</th>\n",
              "      <th>ActiveAcum</th>\n",
              "      <th>Confirmed</th>\n",
              "      <th>Deaths</th>\n",
              "      <th>Recovered</th>\n",
              "      <th>Active</th>\n",
              "      <th>Population</th>\n",
              "    </tr>\n",
              "  </thead>\n",
              "  <tbody>\n",
              "    <tr>\n",
              "      <th>0</th>\n",
              "      <td>2020-02-24</td>\n",
              "      <td>Afghanistan</td>\n",
              "      <td>1.0</td>\n",
              "      <td>0.0</td>\n",
              "      <td>0.0</td>\n",
              "      <td>1.0</td>\n",
              "      <td>1.0</td>\n",
              "      <td>0.0</td>\n",
              "      <td>0.0</td>\n",
              "      <td>0.0</td>\n",
              "      <td>38928346.0</td>\n",
              "    </tr>\n",
              "    <tr>\n",
              "      <th>1</th>\n",
              "      <td>2020-02-25</td>\n",
              "      <td>Afghanistan</td>\n",
              "      <td>1.0</td>\n",
              "      <td>0.0</td>\n",
              "      <td>0.0</td>\n",
              "      <td>1.0</td>\n",
              "      <td>0.0</td>\n",
              "      <td>0.0</td>\n",
              "      <td>0.0</td>\n",
              "      <td>0.0</td>\n",
              "      <td>38928346.0</td>\n",
              "    </tr>\n",
              "    <tr>\n",
              "      <th>2</th>\n",
              "      <td>2020-02-26</td>\n",
              "      <td>Afghanistan</td>\n",
              "      <td>1.0</td>\n",
              "      <td>0.0</td>\n",
              "      <td>0.0</td>\n",
              "      <td>1.0</td>\n",
              "      <td>0.0</td>\n",
              "      <td>0.0</td>\n",
              "      <td>0.0</td>\n",
              "      <td>0.0</td>\n",
              "      <td>38928346.0</td>\n",
              "    </tr>\n",
              "    <tr>\n",
              "      <th>3</th>\n",
              "      <td>2020-02-27</td>\n",
              "      <td>Afghanistan</td>\n",
              "      <td>1.0</td>\n",
              "      <td>0.0</td>\n",
              "      <td>0.0</td>\n",
              "      <td>1.0</td>\n",
              "      <td>0.0</td>\n",
              "      <td>0.0</td>\n",
              "      <td>0.0</td>\n",
              "      <td>0.0</td>\n",
              "      <td>38928346.0</td>\n",
              "    </tr>\n",
              "    <tr>\n",
              "      <th>4</th>\n",
              "      <td>2020-02-28</td>\n",
              "      <td>Afghanistan</td>\n",
              "      <td>1.0</td>\n",
              "      <td>0.0</td>\n",
              "      <td>0.0</td>\n",
              "      <td>1.0</td>\n",
              "      <td>0.0</td>\n",
              "      <td>0.0</td>\n",
              "      <td>0.0</td>\n",
              "      <td>0.0</td>\n",
              "      <td>38928346.0</td>\n",
              "    </tr>\n",
              "  </tbody>\n",
              "</table>\n",
              "</div>"
            ],
            "text/plain": [
              "        Date      Country  ConfirmedAcum  ...  Recovered  Active  Population\n",
              "0 2020-02-24  Afghanistan            1.0  ...        0.0     0.0  38928346.0\n",
              "1 2020-02-25  Afghanistan            1.0  ...        0.0     0.0  38928346.0\n",
              "2 2020-02-26  Afghanistan            1.0  ...        0.0     0.0  38928346.0\n",
              "3 2020-02-27  Afghanistan            1.0  ...        0.0     0.0  38928346.0\n",
              "4 2020-02-28  Afghanistan            1.0  ...        0.0     0.0  38928346.0\n",
              "\n",
              "[5 rows x 11 columns]"
            ]
          },
          "metadata": {
            "tags": []
          },
          "execution_count": 36
        }
      ]
    },
    {
      "cell_type": "markdown",
      "metadata": {
        "id": "tLyawi0QNN8E",
        "colab_type": "text"
      },
      "source": [
        "And finally I calculate the number of cases per million inhabitants"
      ]
    },
    {
      "cell_type": "code",
      "metadata": {
        "id": "Q3B760gwH1JI",
        "colab_type": "code",
        "outputId": "3545ecd0-fcb9-4f34-c3bf-fc69acef66f8",
        "colab": {
          "base_uri": "https://localhost:8080/",
          "height": 206
        }
      },
      "source": [
        "data_by_country = data_by_country.assign(ConfirmedAcum_Millon = data_by_country.ConfirmedAcum / data_by_country.Population * 1000000)\n",
        "data_by_country.head()"
      ],
      "execution_count": 37,
      "outputs": [
        {
          "output_type": "execute_result",
          "data": {
            "text/html": [
              "<div>\n",
              "<style scoped>\n",
              "    .dataframe tbody tr th:only-of-type {\n",
              "        vertical-align: middle;\n",
              "    }\n",
              "\n",
              "    .dataframe tbody tr th {\n",
              "        vertical-align: top;\n",
              "    }\n",
              "\n",
              "    .dataframe thead th {\n",
              "        text-align: right;\n",
              "    }\n",
              "</style>\n",
              "<table border=\"1\" class=\"dataframe\">\n",
              "  <thead>\n",
              "    <tr style=\"text-align: right;\">\n",
              "      <th></th>\n",
              "      <th>Date</th>\n",
              "      <th>Country</th>\n",
              "      <th>ConfirmedAcum</th>\n",
              "      <th>DeathsAcum</th>\n",
              "      <th>RecoveredAcum</th>\n",
              "      <th>ActiveAcum</th>\n",
              "      <th>Confirmed</th>\n",
              "      <th>Deaths</th>\n",
              "      <th>Recovered</th>\n",
              "      <th>Active</th>\n",
              "      <th>Population</th>\n",
              "      <th>ConfirmedAcum_Millon</th>\n",
              "    </tr>\n",
              "  </thead>\n",
              "  <tbody>\n",
              "    <tr>\n",
              "      <th>0</th>\n",
              "      <td>2020-02-24</td>\n",
              "      <td>Afghanistan</td>\n",
              "      <td>1.0</td>\n",
              "      <td>0.0</td>\n",
              "      <td>0.0</td>\n",
              "      <td>1.0</td>\n",
              "      <td>1.0</td>\n",
              "      <td>0.0</td>\n",
              "      <td>0.0</td>\n",
              "      <td>0.0</td>\n",
              "      <td>38928346.0</td>\n",
              "      <td>0.025688</td>\n",
              "    </tr>\n",
              "    <tr>\n",
              "      <th>1</th>\n",
              "      <td>2020-02-25</td>\n",
              "      <td>Afghanistan</td>\n",
              "      <td>1.0</td>\n",
              "      <td>0.0</td>\n",
              "      <td>0.0</td>\n",
              "      <td>1.0</td>\n",
              "      <td>0.0</td>\n",
              "      <td>0.0</td>\n",
              "      <td>0.0</td>\n",
              "      <td>0.0</td>\n",
              "      <td>38928346.0</td>\n",
              "      <td>0.025688</td>\n",
              "    </tr>\n",
              "    <tr>\n",
              "      <th>2</th>\n",
              "      <td>2020-02-26</td>\n",
              "      <td>Afghanistan</td>\n",
              "      <td>1.0</td>\n",
              "      <td>0.0</td>\n",
              "      <td>0.0</td>\n",
              "      <td>1.0</td>\n",
              "      <td>0.0</td>\n",
              "      <td>0.0</td>\n",
              "      <td>0.0</td>\n",
              "      <td>0.0</td>\n",
              "      <td>38928346.0</td>\n",
              "      <td>0.025688</td>\n",
              "    </tr>\n",
              "    <tr>\n",
              "      <th>3</th>\n",
              "      <td>2020-02-27</td>\n",
              "      <td>Afghanistan</td>\n",
              "      <td>1.0</td>\n",
              "      <td>0.0</td>\n",
              "      <td>0.0</td>\n",
              "      <td>1.0</td>\n",
              "      <td>0.0</td>\n",
              "      <td>0.0</td>\n",
              "      <td>0.0</td>\n",
              "      <td>0.0</td>\n",
              "      <td>38928346.0</td>\n",
              "      <td>0.025688</td>\n",
              "    </tr>\n",
              "    <tr>\n",
              "      <th>4</th>\n",
              "      <td>2020-02-28</td>\n",
              "      <td>Afghanistan</td>\n",
              "      <td>1.0</td>\n",
              "      <td>0.0</td>\n",
              "      <td>0.0</td>\n",
              "      <td>1.0</td>\n",
              "      <td>0.0</td>\n",
              "      <td>0.0</td>\n",
              "      <td>0.0</td>\n",
              "      <td>0.0</td>\n",
              "      <td>38928346.0</td>\n",
              "      <td>0.025688</td>\n",
              "    </tr>\n",
              "  </tbody>\n",
              "</table>\n",
              "</div>"
            ],
            "text/plain": [
              "        Date      Country  ...  Population  ConfirmedAcum_Millon\n",
              "0 2020-02-24  Afghanistan  ...  38928346.0              0.025688\n",
              "1 2020-02-25  Afghanistan  ...  38928346.0              0.025688\n",
              "2 2020-02-26  Afghanistan  ...  38928346.0              0.025688\n",
              "3 2020-02-27  Afghanistan  ...  38928346.0              0.025688\n",
              "4 2020-02-28  Afghanistan  ...  38928346.0              0.025688\n",
              "\n",
              "[5 rows x 12 columns]"
            ]
          },
          "metadata": {
            "tags": []
          },
          "execution_count": 37
        }
      ]
    },
    {
      "cell_type": "markdown",
      "metadata": {
        "id": "Vke4moEnmMci",
        "colab_type": "text"
      },
      "source": [
        "## Rankins"
      ]
    },
    {
      "cell_type": "markdown",
      "metadata": {
        "id": "6PFpzjJPNXlx",
        "colab_type": "text"
      },
      "source": [
        "I'm going to create a dataset of last day's cases. \n",
        "\n",
        "The goal is to get a set of rankings that tell me the countries with the most cases\n",
        "\n",
        "So I need a variable that contains the last date of the dataset"
      ]
    },
    {
      "cell_type": "code",
      "metadata": {
        "id": "fpjj8I1gIDkH",
        "colab_type": "code",
        "outputId": "3f3bbffa-0391-4f2e-e615-5162e93d1680",
        "colab": {
          "base_uri": "https://localhost:8080/",
          "height": 35
        }
      },
      "source": [
        "last_day = list(data_by_country.Date.sort_values(ascending = False))[0]\n",
        "last_day"
      ],
      "execution_count": 38,
      "outputs": [
        {
          "output_type": "execute_result",
          "data": {
            "text/plain": [
              "Timestamp('2020-04-20 00:00:00')"
            ]
          },
          "metadata": {
            "tags": []
          },
          "execution_count": 38
        }
      ]
    },
    {
      "cell_type": "markdown",
      "metadata": {
        "id": "iNaG20HENndT",
        "colab_type": "text"
      },
      "source": [
        "Now I can filter the data by this date"
      ]
    },
    {
      "cell_type": "code",
      "metadata": {
        "id": "5xYLSoqXIH7o",
        "colab_type": "code",
        "outputId": "ac41c60f-977d-4b2c-dc21-1f8416f9d197",
        "colab": {
          "base_uri": "https://localhost:8080/",
          "height": 366
        }
      },
      "source": [
        "last_day_data = data_by_country[data_by_country.Date == last_day]\n",
        "last_day_data.info()"
      ],
      "execution_count": 39,
      "outputs": [
        {
          "output_type": "stream",
          "text": [
            "<class 'pandas.core.frame.DataFrame'>\n",
            "Int64Index: 184 entries, 56 to 9104\n",
            "Data columns (total 12 columns):\n",
            " #   Column                Non-Null Count  Dtype         \n",
            "---  ------                --------------  -----         \n",
            " 0   Date                  184 non-null    datetime64[ns]\n",
            " 1   Country               184 non-null    object        \n",
            " 2   ConfirmedAcum         184 non-null    float64       \n",
            " 3   DeathsAcum            184 non-null    float64       \n",
            " 4   RecoveredAcum         184 non-null    float64       \n",
            " 5   ActiveAcum            184 non-null    float64       \n",
            " 6   Confirmed             184 non-null    float64       \n",
            " 7   Deaths                184 non-null    float64       \n",
            " 8   Recovered             184 non-null    float64       \n",
            " 9   Active                184 non-null    float64       \n",
            " 10  Population            178 non-null    float64       \n",
            " 11  ConfirmedAcum_Millon  178 non-null    float64       \n",
            "dtypes: datetime64[ns](1), float64(10), object(1)\n",
            "memory usage: 18.7+ KB\n"
          ],
          "name": "stdout"
        }
      ]
    },
    {
      "cell_type": "code",
      "metadata": {
        "id": "cwirZFd_IK0I",
        "colab_type": "code",
        "outputId": "1d3cac9a-8c09-4e9b-8f35-bcf5b559ec94",
        "colab": {
          "base_uri": "https://localhost:8080/",
          "height": 424
        }
      },
      "source": [
        "last_day_data"
      ],
      "execution_count": 40,
      "outputs": [
        {
          "output_type": "execute_result",
          "data": {
            "text/html": [
              "<div>\n",
              "<style scoped>\n",
              "    .dataframe tbody tr th:only-of-type {\n",
              "        vertical-align: middle;\n",
              "    }\n",
              "\n",
              "    .dataframe tbody tr th {\n",
              "        vertical-align: top;\n",
              "    }\n",
              "\n",
              "    .dataframe thead th {\n",
              "        text-align: right;\n",
              "    }\n",
              "</style>\n",
              "<table border=\"1\" class=\"dataframe\">\n",
              "  <thead>\n",
              "    <tr style=\"text-align: right;\">\n",
              "      <th></th>\n",
              "      <th>Date</th>\n",
              "      <th>Country</th>\n",
              "      <th>ConfirmedAcum</th>\n",
              "      <th>DeathsAcum</th>\n",
              "      <th>RecoveredAcum</th>\n",
              "      <th>ActiveAcum</th>\n",
              "      <th>Confirmed</th>\n",
              "      <th>Deaths</th>\n",
              "      <th>Recovered</th>\n",
              "      <th>Active</th>\n",
              "      <th>Population</th>\n",
              "      <th>ConfirmedAcum_Millon</th>\n",
              "    </tr>\n",
              "  </thead>\n",
              "  <tbody>\n",
              "    <tr>\n",
              "      <th>56</th>\n",
              "      <td>2020-04-20</td>\n",
              "      <td>Afghanistan</td>\n",
              "      <td>1026.0</td>\n",
              "      <td>36.0</td>\n",
              "      <td>135.0</td>\n",
              "      <td>855.0</td>\n",
              "      <td>30.0</td>\n",
              "      <td>3.0</td>\n",
              "      <td>4.0</td>\n",
              "      <td>23.0</td>\n",
              "      <td>38928346.0</td>\n",
              "      <td>26.356116</td>\n",
              "    </tr>\n",
              "    <tr>\n",
              "      <th>99</th>\n",
              "      <td>2020-04-20</td>\n",
              "      <td>Albania</td>\n",
              "      <td>584.0</td>\n",
              "      <td>26.0</td>\n",
              "      <td>327.0</td>\n",
              "      <td>231.0</td>\n",
              "      <td>22.0</td>\n",
              "      <td>0.0</td>\n",
              "      <td>13.0</td>\n",
              "      <td>9.0</td>\n",
              "      <td>2877797.0</td>\n",
              "      <td>202.933007</td>\n",
              "    </tr>\n",
              "    <tr>\n",
              "      <th>155</th>\n",
              "      <td>2020-04-20</td>\n",
              "      <td>Algeria</td>\n",
              "      <td>2718.0</td>\n",
              "      <td>384.0</td>\n",
              "      <td>1099.0</td>\n",
              "      <td>1235.0</td>\n",
              "      <td>89.0</td>\n",
              "      <td>9.0</td>\n",
              "      <td>52.0</td>\n",
              "      <td>28.0</td>\n",
              "      <td>43851044.0</td>\n",
              "      <td>61.982561</td>\n",
              "    </tr>\n",
              "    <tr>\n",
              "      <th>205</th>\n",
              "      <td>2020-04-20</td>\n",
              "      <td>Andorra</td>\n",
              "      <td>717.0</td>\n",
              "      <td>37.0</td>\n",
              "      <td>248.0</td>\n",
              "      <td>432.0</td>\n",
              "      <td>4.0</td>\n",
              "      <td>1.0</td>\n",
              "      <td>13.0</td>\n",
              "      <td>-10.0</td>\n",
              "      <td>77265.0</td>\n",
              "      <td>9279.751505</td>\n",
              "    </tr>\n",
              "    <tr>\n",
              "      <th>237</th>\n",
              "      <td>2020-04-20</td>\n",
              "      <td>Angola</td>\n",
              "      <td>24.0</td>\n",
              "      <td>2.0</td>\n",
              "      <td>6.0</td>\n",
              "      <td>16.0</td>\n",
              "      <td>0.0</td>\n",
              "      <td>0.0</td>\n",
              "      <td>0.0</td>\n",
              "      <td>0.0</td>\n",
              "      <td>32866272.0</td>\n",
              "      <td>0.730232</td>\n",
              "    </tr>\n",
              "    <tr>\n",
              "      <th>...</th>\n",
              "      <td>...</td>\n",
              "      <td>...</td>\n",
              "      <td>...</td>\n",
              "      <td>...</td>\n",
              "      <td>...</td>\n",
              "      <td>...</td>\n",
              "      <td>...</td>\n",
              "      <td>...</td>\n",
              "      <td>...</td>\n",
              "      <td>...</td>\n",
              "      <td>...</td>\n",
              "      <td>...</td>\n",
              "    </tr>\n",
              "    <tr>\n",
              "      <th>9011</th>\n",
              "      <td>2020-04-20</td>\n",
              "      <td>Vietnam</td>\n",
              "      <td>268.0</td>\n",
              "      <td>0.0</td>\n",
              "      <td>214.0</td>\n",
              "      <td>54.0</td>\n",
              "      <td>0.0</td>\n",
              "      <td>0.0</td>\n",
              "      <td>12.0</td>\n",
              "      <td>-12.0</td>\n",
              "      <td>97338579.0</td>\n",
              "      <td>2.753276</td>\n",
              "    </tr>\n",
              "    <tr>\n",
              "      <th>9027</th>\n",
              "      <td>2020-04-20</td>\n",
              "      <td>Western Sahara</td>\n",
              "      <td>6.0</td>\n",
              "      <td>0.0</td>\n",
              "      <td>0.0</td>\n",
              "      <td>6.0</td>\n",
              "      <td>0.0</td>\n",
              "      <td>0.0</td>\n",
              "      <td>0.0</td>\n",
              "      <td>0.0</td>\n",
              "      <td>597339.0</td>\n",
              "      <td>10.044548</td>\n",
              "    </tr>\n",
              "    <tr>\n",
              "      <th>9038</th>\n",
              "      <td>2020-04-20</td>\n",
              "      <td>Yemen</td>\n",
              "      <td>1.0</td>\n",
              "      <td>0.0</td>\n",
              "      <td>0.0</td>\n",
              "      <td>1.0</td>\n",
              "      <td>0.0</td>\n",
              "      <td>0.0</td>\n",
              "      <td>0.0</td>\n",
              "      <td>0.0</td>\n",
              "      <td>29825964.0</td>\n",
              "      <td>0.033528</td>\n",
              "    </tr>\n",
              "    <tr>\n",
              "      <th>9072</th>\n",
              "      <td>2020-04-20</td>\n",
              "      <td>Zambia</td>\n",
              "      <td>65.0</td>\n",
              "      <td>3.0</td>\n",
              "      <td>35.0</td>\n",
              "      <td>27.0</td>\n",
              "      <td>4.0</td>\n",
              "      <td>0.0</td>\n",
              "      <td>2.0</td>\n",
              "      <td>2.0</td>\n",
              "      <td>18383955.0</td>\n",
              "      <td>3.535692</td>\n",
              "    </tr>\n",
              "    <tr>\n",
              "      <th>9104</th>\n",
              "      <td>2020-04-20</td>\n",
              "      <td>Zimbabwe</td>\n",
              "      <td>25.0</td>\n",
              "      <td>3.0</td>\n",
              "      <td>2.0</td>\n",
              "      <td>20.0</td>\n",
              "      <td>0.0</td>\n",
              "      <td>0.0</td>\n",
              "      <td>0.0</td>\n",
              "      <td>0.0</td>\n",
              "      <td>14862924.0</td>\n",
              "      <td>1.682038</td>\n",
              "    </tr>\n",
              "  </tbody>\n",
              "</table>\n",
              "<p>184 rows × 12 columns</p>\n",
              "</div>"
            ],
            "text/plain": [
              "           Date         Country  ...  Population  ConfirmedAcum_Millon\n",
              "56   2020-04-20     Afghanistan  ...  38928346.0             26.356116\n",
              "99   2020-04-20         Albania  ...   2877797.0            202.933007\n",
              "155  2020-04-20         Algeria  ...  43851044.0             61.982561\n",
              "205  2020-04-20         Andorra  ...     77265.0           9279.751505\n",
              "237  2020-04-20          Angola  ...  32866272.0              0.730232\n",
              "...         ...             ...  ...         ...                   ...\n",
              "9011 2020-04-20         Vietnam  ...  97338579.0              2.753276\n",
              "9027 2020-04-20  Western Sahara  ...    597339.0             10.044548\n",
              "9038 2020-04-20           Yemen  ...  29825964.0              0.033528\n",
              "9072 2020-04-20          Zambia  ...  18383955.0              3.535692\n",
              "9104 2020-04-20        Zimbabwe  ...  14862924.0              1.682038\n",
              "\n",
              "[184 rows x 12 columns]"
            ]
          },
          "metadata": {
            "tags": []
          },
          "execution_count": 40
        }
      ]
    },
    {
      "cell_type": "markdown",
      "metadata": {
        "id": "mmTBsUOROG6s",
        "colab_type": "text"
      },
      "source": [
        "Let's assign new columns with the most interesting rankins ..."
      ]
    },
    {
      "cell_type": "code",
      "metadata": {
        "id": "6jBUyahqINJ6",
        "colab_type": "code",
        "outputId": "7b940f8f-052f-4cdd-b392-a9e00af6f1e8",
        "colab": {
          "base_uri": "https://localhost:8080/",
          "height": 424
        }
      },
      "source": [
        "last_day_data = last_day_data.assign(\n",
        "    Rank_ConfirmedAcum = last_day_data.ConfirmedAcum.rank(),\n",
        "    Rank_Confirmed = last_day_data.Confirmed.rank(),\n",
        "    Rank_ActiveAcum = last_day_data.ActiveAcum.rank(),\n",
        "    Rank_Active = last_day_data.Active.rank(),\n",
        "    Rank_ConfirmedAcum_Millon = last_day_data.ConfirmedAcum_Millon.rank()\n",
        ")\n",
        "last_day_data"
      ],
      "execution_count": 41,
      "outputs": [
        {
          "output_type": "execute_result",
          "data": {
            "text/html": [
              "<div>\n",
              "<style scoped>\n",
              "    .dataframe tbody tr th:only-of-type {\n",
              "        vertical-align: middle;\n",
              "    }\n",
              "\n",
              "    .dataframe tbody tr th {\n",
              "        vertical-align: top;\n",
              "    }\n",
              "\n",
              "    .dataframe thead th {\n",
              "        text-align: right;\n",
              "    }\n",
              "</style>\n",
              "<table border=\"1\" class=\"dataframe\">\n",
              "  <thead>\n",
              "    <tr style=\"text-align: right;\">\n",
              "      <th></th>\n",
              "      <th>Date</th>\n",
              "      <th>Country</th>\n",
              "      <th>ConfirmedAcum</th>\n",
              "      <th>DeathsAcum</th>\n",
              "      <th>RecoveredAcum</th>\n",
              "      <th>ActiveAcum</th>\n",
              "      <th>Confirmed</th>\n",
              "      <th>Deaths</th>\n",
              "      <th>Recovered</th>\n",
              "      <th>Active</th>\n",
              "      <th>Population</th>\n",
              "      <th>ConfirmedAcum_Millon</th>\n",
              "      <th>Rank_ConfirmedAcum</th>\n",
              "      <th>Rank_Confirmed</th>\n",
              "      <th>Rank_ActiveAcum</th>\n",
              "      <th>Rank_Active</th>\n",
              "      <th>Rank_ConfirmedAcum_Millon</th>\n",
              "    </tr>\n",
              "  </thead>\n",
              "  <tbody>\n",
              "    <tr>\n",
              "      <th>56</th>\n",
              "      <td>2020-04-20</td>\n",
              "      <td>Afghanistan</td>\n",
              "      <td>1026.0</td>\n",
              "      <td>36.0</td>\n",
              "      <td>135.0</td>\n",
              "      <td>855.0</td>\n",
              "      <td>30.0</td>\n",
              "      <td>3.0</td>\n",
              "      <td>4.0</td>\n",
              "      <td>23.0</td>\n",
              "      <td>38928346.0</td>\n",
              "      <td>26.356116</td>\n",
              "      <td>105.0</td>\n",
              "      <td>113.0</td>\n",
              "      <td>113.0</td>\n",
              "      <td>132.0</td>\n",
              "      <td>56.0</td>\n",
              "    </tr>\n",
              "    <tr>\n",
              "      <th>99</th>\n",
              "      <td>2020-04-20</td>\n",
              "      <td>Albania</td>\n",
              "      <td>584.0</td>\n",
              "      <td>26.0</td>\n",
              "      <td>327.0</td>\n",
              "      <td>231.0</td>\n",
              "      <td>22.0</td>\n",
              "      <td>0.0</td>\n",
              "      <td>13.0</td>\n",
              "      <td>9.0</td>\n",
              "      <td>2877797.0</td>\n",
              "      <td>202.933007</td>\n",
              "      <td>91.0</td>\n",
              "      <td>107.0</td>\n",
              "      <td>81.0</td>\n",
              "      <td>117.5</td>\n",
              "      <td>108.0</td>\n",
              "    </tr>\n",
              "    <tr>\n",
              "      <th>155</th>\n",
              "      <td>2020-04-20</td>\n",
              "      <td>Algeria</td>\n",
              "      <td>2718.0</td>\n",
              "      <td>384.0</td>\n",
              "      <td>1099.0</td>\n",
              "      <td>1235.0</td>\n",
              "      <td>89.0</td>\n",
              "      <td>9.0</td>\n",
              "      <td>52.0</td>\n",
              "      <td>28.0</td>\n",
              "      <td>43851044.0</td>\n",
              "      <td>61.982561</td>\n",
              "      <td>129.0</td>\n",
              "      <td>137.0</td>\n",
              "      <td>123.0</td>\n",
              "      <td>135.5</td>\n",
              "      <td>78.0</td>\n",
              "    </tr>\n",
              "    <tr>\n",
              "      <th>205</th>\n",
              "      <td>2020-04-20</td>\n",
              "      <td>Andorra</td>\n",
              "      <td>717.0</td>\n",
              "      <td>37.0</td>\n",
              "      <td>248.0</td>\n",
              "      <td>432.0</td>\n",
              "      <td>4.0</td>\n",
              "      <td>1.0</td>\n",
              "      <td>13.0</td>\n",
              "      <td>-10.0</td>\n",
              "      <td>77265.0</td>\n",
              "      <td>9279.751505</td>\n",
              "      <td>98.0</td>\n",
              "      <td>71.0</td>\n",
              "      <td>93.0</td>\n",
              "      <td>31.0</td>\n",
              "      <td>176.0</td>\n",
              "    </tr>\n",
              "    <tr>\n",
              "      <th>237</th>\n",
              "      <td>2020-04-20</td>\n",
              "      <td>Angola</td>\n",
              "      <td>24.0</td>\n",
              "      <td>2.0</td>\n",
              "      <td>6.0</td>\n",
              "      <td>16.0</td>\n",
              "      <td>0.0</td>\n",
              "      <td>0.0</td>\n",
              "      <td>0.0</td>\n",
              "      <td>0.0</td>\n",
              "      <td>32866272.0</td>\n",
              "      <td>0.730232</td>\n",
              "      <td>29.5</td>\n",
              "      <td>28.0</td>\n",
              "      <td>27.0</td>\n",
              "      <td>72.0</td>\n",
              "      <td>4.0</td>\n",
              "    </tr>\n",
              "    <tr>\n",
              "      <th>...</th>\n",
              "      <td>...</td>\n",
              "      <td>...</td>\n",
              "      <td>...</td>\n",
              "      <td>...</td>\n",
              "      <td>...</td>\n",
              "      <td>...</td>\n",
              "      <td>...</td>\n",
              "      <td>...</td>\n",
              "      <td>...</td>\n",
              "      <td>...</td>\n",
              "      <td>...</td>\n",
              "      <td>...</td>\n",
              "      <td>...</td>\n",
              "      <td>...</td>\n",
              "      <td>...</td>\n",
              "      <td>...</td>\n",
              "      <td>...</td>\n",
              "    </tr>\n",
              "    <tr>\n",
              "      <th>9011</th>\n",
              "      <td>2020-04-20</td>\n",
              "      <td>Vietnam</td>\n",
              "      <td>268.0</td>\n",
              "      <td>0.0</td>\n",
              "      <td>214.0</td>\n",
              "      <td>54.0</td>\n",
              "      <td>0.0</td>\n",
              "      <td>0.0</td>\n",
              "      <td>12.0</td>\n",
              "      <td>-12.0</td>\n",
              "      <td>97338579.0</td>\n",
              "      <td>2.753276</td>\n",
              "      <td>71.0</td>\n",
              "      <td>28.0</td>\n",
              "      <td>52.5</td>\n",
              "      <td>26.5</td>\n",
              "      <td>19.0</td>\n",
              "    </tr>\n",
              "    <tr>\n",
              "      <th>9027</th>\n",
              "      <td>2020-04-20</td>\n",
              "      <td>Western Sahara</td>\n",
              "      <td>6.0</td>\n",
              "      <td>0.0</td>\n",
              "      <td>0.0</td>\n",
              "      <td>6.0</td>\n",
              "      <td>0.0</td>\n",
              "      <td>0.0</td>\n",
              "      <td>0.0</td>\n",
              "      <td>0.0</td>\n",
              "      <td>597339.0</td>\n",
              "      <td>10.044548</td>\n",
              "      <td>6.0</td>\n",
              "      <td>28.0</td>\n",
              "      <td>10.5</td>\n",
              "      <td>72.0</td>\n",
              "      <td>35.0</td>\n",
              "    </tr>\n",
              "    <tr>\n",
              "      <th>9038</th>\n",
              "      <td>2020-04-20</td>\n",
              "      <td>Yemen</td>\n",
              "      <td>1.0</td>\n",
              "      <td>0.0</td>\n",
              "      <td>0.0</td>\n",
              "      <td>1.0</td>\n",
              "      <td>0.0</td>\n",
              "      <td>0.0</td>\n",
              "      <td>0.0</td>\n",
              "      <td>0.0</td>\n",
              "      <td>29825964.0</td>\n",
              "      <td>0.033528</td>\n",
              "      <td>1.0</td>\n",
              "      <td>28.0</td>\n",
              "      <td>3.0</td>\n",
              "      <td>72.0</td>\n",
              "      <td>1.0</td>\n",
              "    </tr>\n",
              "    <tr>\n",
              "      <th>9072</th>\n",
              "      <td>2020-04-20</td>\n",
              "      <td>Zambia</td>\n",
              "      <td>65.0</td>\n",
              "      <td>3.0</td>\n",
              "      <td>35.0</td>\n",
              "      <td>27.0</td>\n",
              "      <td>4.0</td>\n",
              "      <td>0.0</td>\n",
              "      <td>2.0</td>\n",
              "      <td>2.0</td>\n",
              "      <td>18383955.0</td>\n",
              "      <td>3.535692</td>\n",
              "      <td>45.5</td>\n",
              "      <td>71.0</td>\n",
              "      <td>40.5</td>\n",
              "      <td>100.0</td>\n",
              "      <td>21.0</td>\n",
              "    </tr>\n",
              "    <tr>\n",
              "      <th>9104</th>\n",
              "      <td>2020-04-20</td>\n",
              "      <td>Zimbabwe</td>\n",
              "      <td>25.0</td>\n",
              "      <td>3.0</td>\n",
              "      <td>2.0</td>\n",
              "      <td>20.0</td>\n",
              "      <td>0.0</td>\n",
              "      <td>0.0</td>\n",
              "      <td>0.0</td>\n",
              "      <td>0.0</td>\n",
              "      <td>14862924.0</td>\n",
              "      <td>1.682038</td>\n",
              "      <td>31.0</td>\n",
              "      <td>28.0</td>\n",
              "      <td>32.0</td>\n",
              "      <td>72.0</td>\n",
              "      <td>13.0</td>\n",
              "    </tr>\n",
              "  </tbody>\n",
              "</table>\n",
              "<p>184 rows × 17 columns</p>\n",
              "</div>"
            ],
            "text/plain": [
              "           Date         Country  ...  Rank_Active  Rank_ConfirmedAcum_Millon\n",
              "56   2020-04-20     Afghanistan  ...        132.0                       56.0\n",
              "99   2020-04-20         Albania  ...        117.5                      108.0\n",
              "155  2020-04-20         Algeria  ...        135.5                       78.0\n",
              "205  2020-04-20         Andorra  ...         31.0                      176.0\n",
              "237  2020-04-20          Angola  ...         72.0                        4.0\n",
              "...         ...             ...  ...          ...                        ...\n",
              "9011 2020-04-20         Vietnam  ...         26.5                       19.0\n",
              "9027 2020-04-20  Western Sahara  ...         72.0                       35.0\n",
              "9038 2020-04-20           Yemen  ...         72.0                        1.0\n",
              "9072 2020-04-20          Zambia  ...        100.0                       21.0\n",
              "9104 2020-04-20        Zimbabwe  ...         72.0                       13.0\n",
              "\n",
              "[184 rows x 17 columns]"
            ]
          },
          "metadata": {
            "tags": []
          },
          "execution_count": 41
        }
      ]
    },
    {
      "cell_type": "markdown",
      "metadata": {
        "id": "HivVOvHXONay",
        "colab_type": "text"
      },
      "source": [
        "Which countries have the most confirmed cases?"
      ]
    },
    {
      "cell_type": "code",
      "metadata": {
        "id": "_7PM3zGbIPso",
        "colab_type": "code",
        "outputId": "7db0f83c-92a0-4b91-f48f-1c6371fc1635",
        "colab": {
          "base_uri": "https://localhost:8080/",
          "height": 363
        }
      },
      "source": [
        "last_day_data.sort_values('Rank_ConfirmedAcum', ascending = False)[['Country', 'ConfirmedAcum']].reset_index(drop = True).head(10)"
      ],
      "execution_count": 42,
      "outputs": [
        {
          "output_type": "execute_result",
          "data": {
            "text/html": [
              "<div>\n",
              "<style scoped>\n",
              "    .dataframe tbody tr th:only-of-type {\n",
              "        vertical-align: middle;\n",
              "    }\n",
              "\n",
              "    .dataframe tbody tr th {\n",
              "        vertical-align: top;\n",
              "    }\n",
              "\n",
              "    .dataframe thead th {\n",
              "        text-align: right;\n",
              "    }\n",
              "</style>\n",
              "<table border=\"1\" class=\"dataframe\">\n",
              "  <thead>\n",
              "    <tr style=\"text-align: right;\">\n",
              "      <th></th>\n",
              "      <th>Country</th>\n",
              "      <th>ConfirmedAcum</th>\n",
              "    </tr>\n",
              "  </thead>\n",
              "  <tbody>\n",
              "    <tr>\n",
              "      <th>0</th>\n",
              "      <td>United States</td>\n",
              "      <td>784326.0</td>\n",
              "    </tr>\n",
              "    <tr>\n",
              "      <th>1</th>\n",
              "      <td>Spain</td>\n",
              "      <td>200210.0</td>\n",
              "    </tr>\n",
              "    <tr>\n",
              "      <th>2</th>\n",
              "      <td>Italy</td>\n",
              "      <td>181228.0</td>\n",
              "    </tr>\n",
              "    <tr>\n",
              "      <th>3</th>\n",
              "      <td>France</td>\n",
              "      <td>156480.0</td>\n",
              "    </tr>\n",
              "    <tr>\n",
              "      <th>4</th>\n",
              "      <td>Germany</td>\n",
              "      <td>147065.0</td>\n",
              "    </tr>\n",
              "    <tr>\n",
              "      <th>5</th>\n",
              "      <td>United Kingdom</td>\n",
              "      <td>125856.0</td>\n",
              "    </tr>\n",
              "    <tr>\n",
              "      <th>6</th>\n",
              "      <td>Turkey</td>\n",
              "      <td>90980.0</td>\n",
              "    </tr>\n",
              "    <tr>\n",
              "      <th>7</th>\n",
              "      <td>China</td>\n",
              "      <td>83817.0</td>\n",
              "    </tr>\n",
              "    <tr>\n",
              "      <th>8</th>\n",
              "      <td>Iran</td>\n",
              "      <td>83505.0</td>\n",
              "    </tr>\n",
              "    <tr>\n",
              "      <th>9</th>\n",
              "      <td>Russia</td>\n",
              "      <td>47121.0</td>\n",
              "    </tr>\n",
              "  </tbody>\n",
              "</table>\n",
              "</div>"
            ],
            "text/plain": [
              "          Country  ConfirmedAcum\n",
              "0   United States       784326.0\n",
              "1           Spain       200210.0\n",
              "2           Italy       181228.0\n",
              "3          France       156480.0\n",
              "4         Germany       147065.0\n",
              "5  United Kingdom       125856.0\n",
              "6          Turkey        90980.0\n",
              "7           China        83817.0\n",
              "8            Iran        83505.0\n",
              "9          Russia        47121.0"
            ]
          },
          "metadata": {
            "tags": []
          },
          "execution_count": 42
        }
      ]
    },
    {
      "cell_type": "markdown",
      "metadata": {
        "id": "Zlu8j_bvOYCT",
        "colab_type": "text"
      },
      "source": [
        "Which countries have more confirmed cases on the last day?"
      ]
    },
    {
      "cell_type": "code",
      "metadata": {
        "id": "PCYQySQTISh4",
        "colab_type": "code",
        "outputId": "f450ffe5-8ace-40b4-e5aa-8ec56636caf9",
        "colab": {
          "base_uri": "https://localhost:8080/",
          "height": 363
        }
      },
      "source": [
        "last_day_data.sort_values('Rank_Confirmed', ascending = False)[['Country', 'Confirmed']].reset_index(drop = True).head(10)"
      ],
      "execution_count": 43,
      "outputs": [
        {
          "output_type": "execute_result",
          "data": {
            "text/html": [
              "<div>\n",
              "<style scoped>\n",
              "    .dataframe tbody tr th:only-of-type {\n",
              "        vertical-align: middle;\n",
              "    }\n",
              "\n",
              "    .dataframe tbody tr th {\n",
              "        vertical-align: top;\n",
              "    }\n",
              "\n",
              "    .dataframe thead th {\n",
              "        text-align: right;\n",
              "    }\n",
              "</style>\n",
              "<table border=\"1\" class=\"dataframe\">\n",
              "  <thead>\n",
              "    <tr style=\"text-align: right;\">\n",
              "      <th></th>\n",
              "      <th>Country</th>\n",
              "      <th>Confirmed</th>\n",
              "    </tr>\n",
              "  </thead>\n",
              "  <tbody>\n",
              "    <tr>\n",
              "      <th>0</th>\n",
              "      <td>United States</td>\n",
              "      <td>25211.0</td>\n",
              "    </tr>\n",
              "    <tr>\n",
              "      <th>1</th>\n",
              "      <td>United Kingdom</td>\n",
              "      <td>4684.0</td>\n",
              "    </tr>\n",
              "    <tr>\n",
              "      <th>2</th>\n",
              "      <td>Turkey</td>\n",
              "      <td>4674.0</td>\n",
              "    </tr>\n",
              "    <tr>\n",
              "      <th>3</th>\n",
              "      <td>Russia</td>\n",
              "      <td>4268.0</td>\n",
              "    </tr>\n",
              "    <tr>\n",
              "      <th>4</th>\n",
              "      <td>France</td>\n",
              "      <td>2383.0</td>\n",
              "    </tr>\n",
              "    <tr>\n",
              "      <th>5</th>\n",
              "      <td>Italy</td>\n",
              "      <td>2256.0</td>\n",
              "    </tr>\n",
              "    <tr>\n",
              "      <th>6</th>\n",
              "      <td>Brazil</td>\n",
              "      <td>2089.0</td>\n",
              "    </tr>\n",
              "    <tr>\n",
              "      <th>7</th>\n",
              "      <td>Canada</td>\n",
              "      <td>2025.0</td>\n",
              "    </tr>\n",
              "    <tr>\n",
              "      <th>8</th>\n",
              "      <td>Germany</td>\n",
              "      <td>1881.0</td>\n",
              "    </tr>\n",
              "    <tr>\n",
              "      <th>9</th>\n",
              "      <td>Spain</td>\n",
              "      <td>1536.0</td>\n",
              "    </tr>\n",
              "  </tbody>\n",
              "</table>\n",
              "</div>"
            ],
            "text/plain": [
              "          Country  Confirmed\n",
              "0   United States    25211.0\n",
              "1  United Kingdom     4684.0\n",
              "2          Turkey     4674.0\n",
              "3          Russia     4268.0\n",
              "4          France     2383.0\n",
              "5           Italy     2256.0\n",
              "6          Brazil     2089.0\n",
              "7          Canada     2025.0\n",
              "8         Germany     1881.0\n",
              "9           Spain     1536.0"
            ]
          },
          "metadata": {
            "tags": []
          },
          "execution_count": 43
        }
      ]
    },
    {
      "cell_type": "markdown",
      "metadata": {
        "id": "3m_EcGT6OhPK",
        "colab_type": "text"
      },
      "source": [
        "Which countries have the most active cases?"
      ]
    },
    {
      "cell_type": "code",
      "metadata": {
        "id": "VjKAEOvNIVvY",
        "colab_type": "code",
        "outputId": "8b482184-bf87-4bbb-8da5-ddf39db6a2ad",
        "colab": {
          "base_uri": "https://localhost:8080/",
          "height": 363
        }
      },
      "source": [
        "last_day_data.sort_values('Rank_ActiveAcum', ascending = False)[['Country', 'ActiveAcum']].reset_index(drop = True).head(10)"
      ],
      "execution_count": 44,
      "outputs": [
        {
          "output_type": "execute_result",
          "data": {
            "text/html": [
              "<div>\n",
              "<style scoped>\n",
              "    .dataframe tbody tr th:only-of-type {\n",
              "        vertical-align: middle;\n",
              "    }\n",
              "\n",
              "    .dataframe tbody tr th {\n",
              "        vertical-align: top;\n",
              "    }\n",
              "\n",
              "    .dataframe thead th {\n",
              "        text-align: right;\n",
              "    }\n",
              "</style>\n",
              "<table border=\"1\" class=\"dataframe\">\n",
              "  <thead>\n",
              "    <tr style=\"text-align: right;\">\n",
              "      <th></th>\n",
              "      <th>Country</th>\n",
              "      <th>ActiveAcum</th>\n",
              "    </tr>\n",
              "  </thead>\n",
              "  <tbody>\n",
              "    <tr>\n",
              "      <th>0</th>\n",
              "      <td>United States</td>\n",
              "      <td>669903.0</td>\n",
              "    </tr>\n",
              "    <tr>\n",
              "      <th>1</th>\n",
              "      <td>United Kingdom</td>\n",
              "      <td>108860.0</td>\n",
              "    </tr>\n",
              "    <tr>\n",
              "      <th>2</th>\n",
              "      <td>Italy</td>\n",
              "      <td>108237.0</td>\n",
              "    </tr>\n",
              "    <tr>\n",
              "      <th>3</th>\n",
              "      <td>Spain</td>\n",
              "      <td>98771.0</td>\n",
              "    </tr>\n",
              "    <tr>\n",
              "      <th>4</th>\n",
              "      <td>France</td>\n",
              "      <td>98152.0</td>\n",
              "    </tr>\n",
              "    <tr>\n",
              "      <th>5</th>\n",
              "      <td>Turkey</td>\n",
              "      <td>75410.0</td>\n",
              "    </tr>\n",
              "    <tr>\n",
              "      <th>6</th>\n",
              "      <td>Germany</td>\n",
              "      <td>50703.0</td>\n",
              "    </tr>\n",
              "    <tr>\n",
              "      <th>7</th>\n",
              "      <td>Russia</td>\n",
              "      <td>43270.0</td>\n",
              "    </tr>\n",
              "    <tr>\n",
              "      <th>8</th>\n",
              "      <td>Netherlands</td>\n",
              "      <td>29502.0</td>\n",
              "    </tr>\n",
              "    <tr>\n",
              "      <th>9</th>\n",
              "      <td>Belgium</td>\n",
              "      <td>25260.0</td>\n",
              "    </tr>\n",
              "  </tbody>\n",
              "</table>\n",
              "</div>"
            ],
            "text/plain": [
              "          Country  ActiveAcum\n",
              "0   United States    669903.0\n",
              "1  United Kingdom    108860.0\n",
              "2           Italy    108237.0\n",
              "3           Spain     98771.0\n",
              "4          France     98152.0\n",
              "5          Turkey     75410.0\n",
              "6         Germany     50703.0\n",
              "7          Russia     43270.0\n",
              "8     Netherlands     29502.0\n",
              "9         Belgium     25260.0"
            ]
          },
          "metadata": {
            "tags": []
          },
          "execution_count": 44
        }
      ]
    },
    {
      "cell_type": "markdown",
      "metadata": {
        "id": "0TybT0p1OmEG",
        "colab_type": "text"
      },
      "source": [
        "Which countries had the most active cases on the last day?"
      ]
    },
    {
      "cell_type": "code",
      "metadata": {
        "id": "h76bTP6rIavQ",
        "colab_type": "code",
        "outputId": "8ec5d57f-454c-4e5e-91bb-cd841caf5b08",
        "colab": {
          "base_uri": "https://localhost:8080/",
          "height": 363
        }
      },
      "source": [
        "last_day_data.sort_values('Rank_Active', ascending = False)[['Country', 'Active']].reset_index(drop = True).head(10)"
      ],
      "execution_count": 45,
      "outputs": [
        {
          "output_type": "execute_result",
          "data": {
            "text/html": [
              "<div>\n",
              "<style scoped>\n",
              "    .dataframe tbody tr th:only-of-type {\n",
              "        vertical-align: middle;\n",
              "    }\n",
              "\n",
              "    .dataframe tbody tr th {\n",
              "        vertical-align: top;\n",
              "    }\n",
              "\n",
              "    .dataframe thead th {\n",
              "        text-align: right;\n",
              "    }\n",
              "</style>\n",
              "<table border=\"1\" class=\"dataframe\">\n",
              "  <thead>\n",
              "    <tr style=\"text-align: right;\">\n",
              "      <th></th>\n",
              "      <th>Country</th>\n",
              "      <th>Active</th>\n",
              "    </tr>\n",
              "  </thead>\n",
              "  <tbody>\n",
              "    <tr>\n",
              "      <th>0</th>\n",
              "      <td>United States</td>\n",
              "      <td>21786.0</td>\n",
              "    </tr>\n",
              "    <tr>\n",
              "      <th>1</th>\n",
              "      <td>United Kingdom</td>\n",
              "      <td>4219.0</td>\n",
              "    </tr>\n",
              "    <tr>\n",
              "      <th>2</th>\n",
              "      <td>Russia</td>\n",
              "      <td>4069.0</td>\n",
              "    </tr>\n",
              "    <tr>\n",
              "      <th>3</th>\n",
              "      <td>Turkey</td>\n",
              "      <td>3097.0</td>\n",
              "    </tr>\n",
              "    <tr>\n",
              "      <th>4</th>\n",
              "      <td>Brazil</td>\n",
              "      <td>1964.0</td>\n",
              "    </tr>\n",
              "    <tr>\n",
              "      <th>5</th>\n",
              "      <td>Belarus</td>\n",
              "      <td>1461.0</td>\n",
              "    </tr>\n",
              "    <tr>\n",
              "      <th>6</th>\n",
              "      <td>Singapore</td>\n",
              "      <td>1393.0</td>\n",
              "    </tr>\n",
              "    <tr>\n",
              "      <th>7</th>\n",
              "      <td>Belgium</td>\n",
              "      <td>1204.0</td>\n",
              "    </tr>\n",
              "    <tr>\n",
              "      <th>8</th>\n",
              "      <td>Canada</td>\n",
              "      <td>1167.0</td>\n",
              "    </tr>\n",
              "    <tr>\n",
              "      <th>9</th>\n",
              "      <td>Saudi Arabia</td>\n",
              "      <td>1024.0</td>\n",
              "    </tr>\n",
              "  </tbody>\n",
              "</table>\n",
              "</div>"
            ],
            "text/plain": [
              "          Country   Active\n",
              "0   United States  21786.0\n",
              "1  United Kingdom   4219.0\n",
              "2          Russia   4069.0\n",
              "3          Turkey   3097.0\n",
              "4          Brazil   1964.0\n",
              "5         Belarus   1461.0\n",
              "6       Singapore   1393.0\n",
              "7         Belgium   1204.0\n",
              "8          Canada   1167.0\n",
              "9    Saudi Arabia   1024.0"
            ]
          },
          "metadata": {
            "tags": []
          },
          "execution_count": 45
        }
      ]
    },
    {
      "cell_type": "markdown",
      "metadata": {
        "id": "g560FCcvOrm4",
        "colab_type": "text"
      },
      "source": [
        "Which countries have the most active cases per million inhabitants?"
      ]
    },
    {
      "cell_type": "code",
      "metadata": {
        "id": "lycUSCknKvYW",
        "colab_type": "code",
        "outputId": "43765ec1-1490-4292-db9f-5f9403acdd22",
        "colab": {
          "base_uri": "https://localhost:8080/",
          "height": 677
        }
      },
      "source": [
        "last_day_data.sort_values('Rank_ConfirmedAcum_Millon', ascending = False)[['Country', 'ConfirmedAcum_Millon']].reset_index(drop = True).head(20)"
      ],
      "execution_count": 46,
      "outputs": [
        {
          "output_type": "execute_result",
          "data": {
            "text/html": [
              "<div>\n",
              "<style scoped>\n",
              "    .dataframe tbody tr th:only-of-type {\n",
              "        vertical-align: middle;\n",
              "    }\n",
              "\n",
              "    .dataframe tbody tr th {\n",
              "        vertical-align: top;\n",
              "    }\n",
              "\n",
              "    .dataframe thead th {\n",
              "        text-align: right;\n",
              "    }\n",
              "</style>\n",
              "<table border=\"1\" class=\"dataframe\">\n",
              "  <thead>\n",
              "    <tr style=\"text-align: right;\">\n",
              "      <th></th>\n",
              "      <th>Country</th>\n",
              "      <th>ConfirmedAcum_Millon</th>\n",
              "    </tr>\n",
              "  </thead>\n",
              "  <tbody>\n",
              "    <tr>\n",
              "      <th>0</th>\n",
              "      <td>San Marino</td>\n",
              "      <td>13615.867496</td>\n",
              "    </tr>\n",
              "    <tr>\n",
              "      <th>1</th>\n",
              "      <td>Holy See</td>\n",
              "      <td>11235.955056</td>\n",
              "    </tr>\n",
              "    <tr>\n",
              "      <th>2</th>\n",
              "      <td>Andorra</td>\n",
              "      <td>9279.751505</td>\n",
              "    </tr>\n",
              "    <tr>\n",
              "      <th>3</th>\n",
              "      <td>Luxembourg</td>\n",
              "      <td>5683.905824</td>\n",
              "    </tr>\n",
              "    <tr>\n",
              "      <th>4</th>\n",
              "      <td>Iceland</td>\n",
              "      <td>5195.710974</td>\n",
              "    </tr>\n",
              "    <tr>\n",
              "      <th>5</th>\n",
              "      <td>Spain</td>\n",
              "      <td>4282.129198</td>\n",
              "    </tr>\n",
              "    <tr>\n",
              "      <th>6</th>\n",
              "      <td>Belgium</td>\n",
              "      <td>3449.896515</td>\n",
              "    </tr>\n",
              "    <tr>\n",
              "      <th>7</th>\n",
              "      <td>Switzerland</td>\n",
              "      <td>3228.794972</td>\n",
              "    </tr>\n",
              "    <tr>\n",
              "      <th>8</th>\n",
              "      <td>Ireland</td>\n",
              "      <td>3169.841706</td>\n",
              "    </tr>\n",
              "    <tr>\n",
              "      <th>9</th>\n",
              "      <td>Italy</td>\n",
              "      <td>2997.395414</td>\n",
              "    </tr>\n",
              "    <tr>\n",
              "      <th>10</th>\n",
              "      <td>France</td>\n",
              "      <td>2397.297121</td>\n",
              "    </tr>\n",
              "    <tr>\n",
              "      <th>11</th>\n",
              "      <td>Monaco</td>\n",
              "      <td>2395.392692</td>\n",
              "    </tr>\n",
              "    <tr>\n",
              "      <th>12</th>\n",
              "      <td>United States</td>\n",
              "      <td>2369.545977</td>\n",
              "    </tr>\n",
              "    <tr>\n",
              "      <th>13</th>\n",
              "      <td>Liechtenstein</td>\n",
              "      <td>2124.422996</td>\n",
              "    </tr>\n",
              "    <tr>\n",
              "      <th>14</th>\n",
              "      <td>Qatar</td>\n",
              "      <td>2087.778323</td>\n",
              "    </tr>\n",
              "    <tr>\n",
              "      <th>15</th>\n",
              "      <td>Portugal</td>\n",
              "      <td>2046.052310</td>\n",
              "    </tr>\n",
              "    <tr>\n",
              "      <th>16</th>\n",
              "      <td>Netherlands</td>\n",
              "      <td>1960.213067</td>\n",
              "    </tr>\n",
              "    <tr>\n",
              "      <th>17</th>\n",
              "      <td>United Kingdom</td>\n",
              "      <td>1853.931291</td>\n",
              "    </tr>\n",
              "    <tr>\n",
              "      <th>18</th>\n",
              "      <td>Germany</td>\n",
              "      <td>1755.288621</td>\n",
              "    </tr>\n",
              "    <tr>\n",
              "      <th>19</th>\n",
              "      <td>Austria</td>\n",
              "      <td>1642.721097</td>\n",
              "    </tr>\n",
              "  </tbody>\n",
              "</table>\n",
              "</div>"
            ],
            "text/plain": [
              "           Country  ConfirmedAcum_Millon\n",
              "0       San Marino          13615.867496\n",
              "1         Holy See          11235.955056\n",
              "2          Andorra           9279.751505\n",
              "3       Luxembourg           5683.905824\n",
              "4          Iceland           5195.710974\n",
              "5            Spain           4282.129198\n",
              "6          Belgium           3449.896515\n",
              "7      Switzerland           3228.794972\n",
              "8          Ireland           3169.841706\n",
              "9            Italy           2997.395414\n",
              "10          France           2397.297121\n",
              "11          Monaco           2395.392692\n",
              "12   United States           2369.545977\n",
              "13   Liechtenstein           2124.422996\n",
              "14           Qatar           2087.778323\n",
              "15        Portugal           2046.052310\n",
              "16     Netherlands           1960.213067\n",
              "17  United Kingdom           1853.931291\n",
              "18         Germany           1755.288621\n",
              "19         Austria           1642.721097"
            ]
          },
          "metadata": {
            "tags": []
          },
          "execution_count": 46
        }
      ]
    },
    {
      "cell_type": "markdown",
      "metadata": {
        "id": "6P2fEQV6NAtA",
        "colab_type": "text"
      },
      "source": [
        "What is the total number of cases?"
      ]
    },
    {
      "cell_type": "code",
      "metadata": {
        "id": "alM4NqMRLoYG",
        "colab_type": "code",
        "colab": {
          "base_uri": "https://localhost:8080/",
          "height": 81
        },
        "outputId": "b07dcbf7-21aa-417c-cd9a-e70b7c0a9e99"
      },
      "source": [
        "import locale\n",
        "locale.setlocale(locale.LC_ALL, '')\n",
        "\n",
        "total = pd.DataFrame(last_day_data[[\"ConfirmedAcum\", \"RecoveredAcum\", \"DeathsAcum\"]].aggregate(\"sum\")\\\n",
        "                     .apply(lambda value : locale.format(\"%d\", value, grouping=True)))\n",
        "total.columns = [\"Total Cases\"]\n",
        "total.index = ['Confirmed', 'Deaths', 'Recovered']\n",
        "display(total.T)\n"
      ],
      "execution_count": 100,
      "outputs": [
        {
          "output_type": "display_data",
          "data": {
            "text/html": [
              "<div>\n",
              "<style scoped>\n",
              "    .dataframe tbody tr th:only-of-type {\n",
              "        vertical-align: middle;\n",
              "    }\n",
              "\n",
              "    .dataframe tbody tr th {\n",
              "        vertical-align: top;\n",
              "    }\n",
              "\n",
              "    .dataframe thead th {\n",
              "        text-align: right;\n",
              "    }\n",
              "</style>\n",
              "<table border=\"1\" class=\"dataframe\">\n",
              "  <thead>\n",
              "    <tr style=\"text-align: right;\">\n",
              "      <th></th>\n",
              "      <th>Confirmed</th>\n",
              "      <th>Deaths</th>\n",
              "      <th>Recovered</th>\n",
              "    </tr>\n",
              "  </thead>\n",
              "  <tbody>\n",
              "    <tr>\n",
              "      <th>Total Cases</th>\n",
              "      <td>2,472,259</td>\n",
              "      <td>645,738</td>\n",
              "      <td>169,986</td>\n",
              "    </tr>\n",
              "  </tbody>\n",
              "</table>\n",
              "</div>"
            ],
            "text/plain": [
              "             Confirmed   Deaths Recovered\n",
              "Total Cases  2,472,259  645,738   169,986"
            ]
          },
          "metadata": {
            "tags": []
          }
        }
      ]
    },
    {
      "cell_type": "markdown",
      "metadata": {
        "id": "avu2mpN0I0G5",
        "colab_type": "text"
      },
      "source": [
        "## Saving the clean dataset"
      ]
    },
    {
      "cell_type": "markdown",
      "metadata": {
        "id": "CtsWStYjPJfB",
        "colab_type": "text"
      },
      "source": [
        "Finally I will create an Excel file with the information per country once it is clean and in perfect condition to apply some machine learning algorithms ..."
      ]
    },
    {
      "cell_type": "code",
      "metadata": {
        "id": "Dba5dgwrl9Hq",
        "colab_type": "code",
        "colab": {}
      },
      "source": [
        "data_by_country.to_excel(\"All_data.xlsx\", index = False)"
      ],
      "execution_count": 0,
      "outputs": []
    },
    {
      "cell_type": "markdown",
      "metadata": {
        "id": "ZJfrwxxqBw0E",
        "colab_type": "text"
      },
      "source": [
        "## Convert to PDF"
      ]
    },
    {
      "cell_type": "markdown",
      "metadata": {
        "id": "KmnVL-1hQgGI",
        "colab_type": "text"
      },
      "source": [
        "[Google Colab](https://colab.research.google.com) does not have a 'export to PDF' feature so let's install the packages needed to export this notebook to pdf manually."
      ]
    },
    {
      "cell_type": "markdown",
      "metadata": {
        "id": "BGnOuy6yZM_w",
        "colab_type": "text"
      },
      "source": [
        "```\n",
        "!apt-get install texlive texlive-xetex texlive-latex-extra pandoc\n",
        "!pip install pypandoc\n",
        "```"
      ]
    },
    {
      "cell_type": "markdown",
      "metadata": {
        "id": "kbI8rID3Q_go",
        "colab_type": "text"
      },
      "source": [
        "\n",
        "Now let's mount our 'google drive' unit into this notebook so we can access to it.\n",
        "\n"
      ]
    },
    {
      "cell_type": "markdown",
      "metadata": {
        "id": "AT-CcNDnZQgY",
        "colab_type": "text"
      },
      "source": [
        "``` \n",
        "from google.colab import drive\n",
        "drive.mount('/content/drive')\n",
        "```"
      ]
    },
    {
      "cell_type": "markdown",
      "metadata": {
        "id": "cr0aRjrURRBW",
        "colab_type": "text"
      },
      "source": [
        "Let's list the notebooks in 'Google Drive' to check that everything is fine and copy it to the local directory"
      ]
    },
    {
      "cell_type": "markdown",
      "metadata": {
        "id": "-mewsE2IZ7G5",
        "colab_type": "text"
      },
      "source": [
        "```\n",
        "ls -la \"./drive/My Drive/Colab Notebooks/\"\n",
        "```"
      ]
    },
    {
      "cell_type": "markdown",
      "metadata": {
        "id": "RbYuMo3RaNEJ",
        "colab_type": "text"
      },
      "source": [
        "```\n",
        "!cp \"./drive/My Drive/Colab Notebooks/Covid-19.ipynb\" .\n",
        "```"
      ]
    },
    {
      "cell_type": "markdown",
      "metadata": {
        "id": "EksU7CpiRtcJ",
        "colab_type": "text"
      },
      "source": [
        "The last step is generate a PDF from this notebook :-)"
      ]
    },
    {
      "cell_type": "markdown",
      "metadata": {
        "id": "aeL4AzONbcF6",
        "colab_type": "text"
      },
      "source": [
        "```\n",
        "!jupyter nbconvert --to PDF \"Covid-19.ipynb\"\n",
        "````"
      ]
    }
  ]
}