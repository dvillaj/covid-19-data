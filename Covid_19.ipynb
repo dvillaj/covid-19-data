{
  "nbformat": 4,
  "nbformat_minor": 0,
  "metadata": {
    "colab": {
      "name": "Covid-19",
      "provenance": [],
      "collapsed_sections": [],
      "toc_visible": true
    },
    "kernelspec": {
      "name": "python3",
      "display_name": "Python 3"
    }
  },
  "cells": [
    {
      "cell_type": "markdown",
      "metadata": {
        "id": "aXl3EuBPcUwQ",
        "colab_type": "text"
      },
      "source": [
        "# Pandas and Covid-19"
      ]
    },
    {
      "cell_type": "markdown",
      "metadata": {
        "id": "u1D4tS_27Hvp",
        "colab_type": "text"
      },
      "source": [
        "This notebook is an example of data analysis and manipulation with Pandas.\n",
        "\n",
        "Enjoy it!"
      ]
    },
    {
      "cell_type": "code",
      "metadata": {
        "id": "Ak8L8x7IcWYq",
        "colab_type": "code",
        "colab": {}
      },
      "source": [
        "import numpy as np\n",
        "import pandas as pd"
      ],
      "execution_count": 0,
      "outputs": []
    },
    {
      "cell_type": "markdown",
      "metadata": {
        "id": "xwUVHjYncbDi",
        "colab_type": "text"
      },
      "source": [
        "## The Data\n",
        "\n",
        "To get some data I and going to download it from Data Repository by Johns Hopkins CSSE\n",
        "\n",
        "https://github.com/CSSEGISandData/COVID-19"
      ]
    },
    {
      "cell_type": "markdown",
      "metadata": {
        "id": "d4xNQXcnyseg",
        "colab_type": "text"
      },
      "source": [
        "I first remove the folder where I am goint to store the data so I can re-execute this sentences without any problems ..."
      ]
    },
    {
      "cell_type": "code",
      "metadata": {
        "id": "A08RQDq5gWAH",
        "colab_type": "code",
        "colab": {}
      },
      "source": [
        "!rm -rf ./COVID-19"
      ],
      "execution_count": 0,
      "outputs": []
    },
    {
      "cell_type": "markdown",
      "metadata": {
        "id": "kopIho38y-6Y",
        "colab_type": "text"
      },
      "source": [
        "The dataset is avaible in GitHub so I use the `git` command to get it"
      ]
    },
    {
      "cell_type": "code",
      "metadata": {
        "id": "hZeguxIvckRR",
        "colab_type": "code",
        "outputId": "ccdbbf38-1acc-43c5-cd4b-2d8bf59f381e",
        "colab": {
          "base_uri": "https://localhost:8080/",
          "height": 146
        }
      },
      "source": [
        "!git clone https://github.com/CSSEGISandData/COVID-19.git"
      ],
      "execution_count": 3,
      "outputs": [
        {
          "output_type": "stream",
          "text": [
            "Cloning into 'COVID-19'...\n",
            "remote: Enumerating objects: 7, done.\u001b[K\n",
            "remote: Counting objects:  14% (1/7)\u001b[K\rremote: Counting objects:  28% (2/7)\u001b[K\rremote: Counting objects:  42% (3/7)\u001b[K\rremote: Counting objects:  57% (4/7)\u001b[K\rremote: Counting objects:  71% (5/7)\u001b[K\rremote: Counting objects:  85% (6/7)\u001b[K\rremote: Counting objects: 100% (7/7)\u001b[K\rremote: Counting objects: 100% (7/7), done.\u001b[K\n",
            "remote: Compressing objects: 100% (7/7), done.\u001b[K\n",
            "remote: Total 21226 (delta 0), reused 2 (delta 0), pack-reused 21219\u001b[K\n",
            "Receiving objects: 100% (21226/21226), 89.05 MiB | 32.87 MiB/s, done.\n",
            "Resolving deltas: 100% (11301/11301), done.\n"
          ],
          "name": "stdout"
        }
      ]
    },
    {
      "cell_type": "markdown",
      "metadata": {
        "id": "HGm4qwtpOicp",
        "colab_type": "text"
      },
      "source": [
        "## Exporing the data\n"
      ]
    },
    {
      "cell_type": "code",
      "metadata": {
        "id": "ecwwk7FHcu1T",
        "colab_type": "code",
        "outputId": "dbf105ea-a55a-4faa-bb02-b4f9b4d0df9c",
        "colab": {
          "base_uri": "https://localhost:8080/",
          "height": 201
        }
      },
      "source": [
        "!ls -lt ./COVID-19/csse_covid_19_data/csse_covid_19_daily_reports | head"
      ],
      "execution_count": 4,
      "outputs": [
        {
          "output_type": "stream",
          "text": [
            "total 9232\n",
            "-rw-r--r-- 1 root root 317954 Apr 20 06:22 04-19-2020.csv\n",
            "-rw-r--r-- 1 root root      0 Apr 20 06:22 README.md\n",
            "-rw-r--r-- 1 root root 315926 Apr 20 06:22 04-18-2020.csv\n",
            "-rw-r--r-- 1 root root 314848 Apr 20 06:22 04-17-2020.csv\n",
            "-rw-r--r-- 1 root root 314226 Apr 20 06:22 04-16-2020.csv\n",
            "-rw-r--r-- 1 root root 309742 Apr 20 06:22 04-13-2020.csv\n",
            "-rw-r--r-- 1 root root 311068 Apr 20 06:22 04-14-2020.csv\n",
            "-rw-r--r-- 1 root root 312551 Apr 20 06:22 04-15-2020.csv\n",
            "-rw-r--r-- 1 root root 305548 Apr 20 06:22 04-12-2020.csv\n"
          ],
          "name": "stdout"
        }
      ]
    },
    {
      "cell_type": "markdown",
      "metadata": {
        "id": "bT58_j-syjxN",
        "colab_type": "text"
      },
      "source": [
        "Yes!!!  \n",
        "We have data files ..."
      ]
    },
    {
      "cell_type": "markdown",
      "metadata": {
        "id": "-5p6k2r3ySM8",
        "colab_type": "text"
      },
      "source": [
        "Perfect. Let's explore the first dataset generated ..."
      ]
    },
    {
      "cell_type": "code",
      "metadata": {
        "id": "SmcipMo7d0Y6",
        "colab_type": "code",
        "colab": {}
      },
      "source": [
        "first = pd.read_csv(\"./COVID-19/csse_covid_19_data/csse_covid_19_daily_reports/01-22-2020.csv\")"
      ],
      "execution_count": 0,
      "outputs": []
    },
    {
      "cell_type": "code",
      "metadata": {
        "id": "5KWgFLIJesbq",
        "colab_type": "code",
        "outputId": "74edad80-19f8-492c-e939-f3e9f0cdf1f5",
        "colab": {
          "base_uri": "https://localhost:8080/",
          "height": 206
        }
      },
      "source": [
        "first.head()"
      ],
      "execution_count": 6,
      "outputs": [
        {
          "output_type": "execute_result",
          "data": {
            "text/html": [
              "<div>\n",
              "<style scoped>\n",
              "    .dataframe tbody tr th:only-of-type {\n",
              "        vertical-align: middle;\n",
              "    }\n",
              "\n",
              "    .dataframe tbody tr th {\n",
              "        vertical-align: top;\n",
              "    }\n",
              "\n",
              "    .dataframe thead th {\n",
              "        text-align: right;\n",
              "    }\n",
              "</style>\n",
              "<table border=\"1\" class=\"dataframe\">\n",
              "  <thead>\n",
              "    <tr style=\"text-align: right;\">\n",
              "      <th></th>\n",
              "      <th>Province/State</th>\n",
              "      <th>Country/Region</th>\n",
              "      <th>Last Update</th>\n",
              "      <th>Confirmed</th>\n",
              "      <th>Deaths</th>\n",
              "      <th>Recovered</th>\n",
              "    </tr>\n",
              "  </thead>\n",
              "  <tbody>\n",
              "    <tr>\n",
              "      <th>0</th>\n",
              "      <td>Anhui</td>\n",
              "      <td>Mainland China</td>\n",
              "      <td>1/22/2020 17:00</td>\n",
              "      <td>1.0</td>\n",
              "      <td>NaN</td>\n",
              "      <td>NaN</td>\n",
              "    </tr>\n",
              "    <tr>\n",
              "      <th>1</th>\n",
              "      <td>Beijing</td>\n",
              "      <td>Mainland China</td>\n",
              "      <td>1/22/2020 17:00</td>\n",
              "      <td>14.0</td>\n",
              "      <td>NaN</td>\n",
              "      <td>NaN</td>\n",
              "    </tr>\n",
              "    <tr>\n",
              "      <th>2</th>\n",
              "      <td>Chongqing</td>\n",
              "      <td>Mainland China</td>\n",
              "      <td>1/22/2020 17:00</td>\n",
              "      <td>6.0</td>\n",
              "      <td>NaN</td>\n",
              "      <td>NaN</td>\n",
              "    </tr>\n",
              "    <tr>\n",
              "      <th>3</th>\n",
              "      <td>Fujian</td>\n",
              "      <td>Mainland China</td>\n",
              "      <td>1/22/2020 17:00</td>\n",
              "      <td>1.0</td>\n",
              "      <td>NaN</td>\n",
              "      <td>NaN</td>\n",
              "    </tr>\n",
              "    <tr>\n",
              "      <th>4</th>\n",
              "      <td>Gansu</td>\n",
              "      <td>Mainland China</td>\n",
              "      <td>1/22/2020 17:00</td>\n",
              "      <td>NaN</td>\n",
              "      <td>NaN</td>\n",
              "      <td>NaN</td>\n",
              "    </tr>\n",
              "  </tbody>\n",
              "</table>\n",
              "</div>"
            ],
            "text/plain": [
              "  Province/State  Country/Region      Last Update  Confirmed  Deaths  Recovered\n",
              "0          Anhui  Mainland China  1/22/2020 17:00        1.0     NaN        NaN\n",
              "1        Beijing  Mainland China  1/22/2020 17:00       14.0     NaN        NaN\n",
              "2      Chongqing  Mainland China  1/22/2020 17:00        6.0     NaN        NaN\n",
              "3         Fujian  Mainland China  1/22/2020 17:00        1.0     NaN        NaN\n",
              "4          Gansu  Mainland China  1/22/2020 17:00        NaN     NaN        NaN"
            ]
          },
          "metadata": {
            "tags": []
          },
          "execution_count": 6
        }
      ]
    },
    {
      "cell_type": "markdown",
      "metadata": {
        "id": "XrJfIWFWyXcX",
        "colab_type": "text"
      },
      "source": [
        "And one of the last ones ..."
      ]
    },
    {
      "cell_type": "code",
      "metadata": {
        "id": "5FjlQ7HneuYR",
        "colab_type": "code",
        "colab": {}
      },
      "source": [
        "last = pd.read_csv(\"./COVID-19/csse_covid_19_data/csse_covid_19_daily_reports/04-18-2020.csv\")"
      ],
      "execution_count": 0,
      "outputs": []
    },
    {
      "cell_type": "code",
      "metadata": {
        "id": "E3TYyKhoe_Yz",
        "colab_type": "code",
        "outputId": "c2016df6-3130-484c-f049-a97823418a0f",
        "colab": {
          "base_uri": "https://localhost:8080/",
          "height": 206
        }
      },
      "source": [
        "last.head()"
      ],
      "execution_count": 8,
      "outputs": [
        {
          "output_type": "execute_result",
          "data": {
            "text/html": [
              "<div>\n",
              "<style scoped>\n",
              "    .dataframe tbody tr th:only-of-type {\n",
              "        vertical-align: middle;\n",
              "    }\n",
              "\n",
              "    .dataframe tbody tr th {\n",
              "        vertical-align: top;\n",
              "    }\n",
              "\n",
              "    .dataframe thead th {\n",
              "        text-align: right;\n",
              "    }\n",
              "</style>\n",
              "<table border=\"1\" class=\"dataframe\">\n",
              "  <thead>\n",
              "    <tr style=\"text-align: right;\">\n",
              "      <th></th>\n",
              "      <th>FIPS</th>\n",
              "      <th>Admin2</th>\n",
              "      <th>Province_State</th>\n",
              "      <th>Country_Region</th>\n",
              "      <th>Last_Update</th>\n",
              "      <th>Lat</th>\n",
              "      <th>Long_</th>\n",
              "      <th>Confirmed</th>\n",
              "      <th>Deaths</th>\n",
              "      <th>Recovered</th>\n",
              "      <th>Active</th>\n",
              "      <th>Combined_Key</th>\n",
              "    </tr>\n",
              "  </thead>\n",
              "  <tbody>\n",
              "    <tr>\n",
              "      <th>0</th>\n",
              "      <td>45001.0</td>\n",
              "      <td>Abbeville</td>\n",
              "      <td>South Carolina</td>\n",
              "      <td>US</td>\n",
              "      <td>2020-04-18 22:32:47</td>\n",
              "      <td>34.223334</td>\n",
              "      <td>-82.461707</td>\n",
              "      <td>15</td>\n",
              "      <td>0</td>\n",
              "      <td>0</td>\n",
              "      <td>15</td>\n",
              "      <td>Abbeville, South Carolina, US</td>\n",
              "    </tr>\n",
              "    <tr>\n",
              "      <th>1</th>\n",
              "      <td>22001.0</td>\n",
              "      <td>Acadia</td>\n",
              "      <td>Louisiana</td>\n",
              "      <td>US</td>\n",
              "      <td>2020-04-18 22:32:47</td>\n",
              "      <td>30.295065</td>\n",
              "      <td>-92.414197</td>\n",
              "      <td>110</td>\n",
              "      <td>7</td>\n",
              "      <td>0</td>\n",
              "      <td>103</td>\n",
              "      <td>Acadia, Louisiana, US</td>\n",
              "    </tr>\n",
              "    <tr>\n",
              "      <th>2</th>\n",
              "      <td>51001.0</td>\n",
              "      <td>Accomack</td>\n",
              "      <td>Virginia</td>\n",
              "      <td>US</td>\n",
              "      <td>2020-04-18 22:32:47</td>\n",
              "      <td>37.767072</td>\n",
              "      <td>-75.632346</td>\n",
              "      <td>33</td>\n",
              "      <td>0</td>\n",
              "      <td>0</td>\n",
              "      <td>33</td>\n",
              "      <td>Accomack, Virginia, US</td>\n",
              "    </tr>\n",
              "    <tr>\n",
              "      <th>3</th>\n",
              "      <td>16001.0</td>\n",
              "      <td>Ada</td>\n",
              "      <td>Idaho</td>\n",
              "      <td>US</td>\n",
              "      <td>2020-04-18 22:32:47</td>\n",
              "      <td>43.452658</td>\n",
              "      <td>-116.241552</td>\n",
              "      <td>593</td>\n",
              "      <td>9</td>\n",
              "      <td>0</td>\n",
              "      <td>584</td>\n",
              "      <td>Ada, Idaho, US</td>\n",
              "    </tr>\n",
              "    <tr>\n",
              "      <th>4</th>\n",
              "      <td>19001.0</td>\n",
              "      <td>Adair</td>\n",
              "      <td>Iowa</td>\n",
              "      <td>US</td>\n",
              "      <td>2020-04-18 22:32:47</td>\n",
              "      <td>41.330756</td>\n",
              "      <td>-94.471059</td>\n",
              "      <td>1</td>\n",
              "      <td>0</td>\n",
              "      <td>0</td>\n",
              "      <td>1</td>\n",
              "      <td>Adair, Iowa, US</td>\n",
              "    </tr>\n",
              "  </tbody>\n",
              "</table>\n",
              "</div>"
            ],
            "text/plain": [
              "      FIPS     Admin2  ... Active                   Combined_Key\n",
              "0  45001.0  Abbeville  ...     15  Abbeville, South Carolina, US\n",
              "1  22001.0     Acadia  ...    103          Acadia, Louisiana, US\n",
              "2  51001.0   Accomack  ...     33         Accomack, Virginia, US\n",
              "3  16001.0        Ada  ...    584                 Ada, Idaho, US\n",
              "4  19001.0      Adair  ...      1                Adair, Iowa, US\n",
              "\n",
              "[5 rows x 12 columns]"
            ]
          },
          "metadata": {
            "tags": []
          },
          "execution_count": 8
        }
      ]
    },
    {
      "cell_type": "markdown",
      "metadata": {
        "id": "3BwR-LBfycpM",
        "colab_type": "text"
      },
      "source": [
        "Can I concatenate both datasets?"
      ]
    },
    {
      "cell_type": "code",
      "metadata": {
        "id": "WkKG-beB4jHf",
        "colab_type": "code",
        "outputId": "876f1021-57b1-4665-c2a9-6d4d0147e3be",
        "colab": {
          "base_uri": "https://localhost:8080/",
          "height": 81
        }
      },
      "source": [
        "last.query(\"Country_Region == 'Spain'\")"
      ],
      "execution_count": 9,
      "outputs": [
        {
          "output_type": "execute_result",
          "data": {
            "text/html": [
              "<div>\n",
              "<style scoped>\n",
              "    .dataframe tbody tr th:only-of-type {\n",
              "        vertical-align: middle;\n",
              "    }\n",
              "\n",
              "    .dataframe tbody tr th {\n",
              "        vertical-align: top;\n",
              "    }\n",
              "\n",
              "    .dataframe thead th {\n",
              "        text-align: right;\n",
              "    }\n",
              "</style>\n",
              "<table border=\"1\" class=\"dataframe\">\n",
              "  <thead>\n",
              "    <tr style=\"text-align: right;\">\n",
              "      <th></th>\n",
              "      <th>FIPS</th>\n",
              "      <th>Admin2</th>\n",
              "      <th>Province_State</th>\n",
              "      <th>Country_Region</th>\n",
              "      <th>Last_Update</th>\n",
              "      <th>Lat</th>\n",
              "      <th>Long_</th>\n",
              "      <th>Confirmed</th>\n",
              "      <th>Deaths</th>\n",
              "      <th>Recovered</th>\n",
              "      <th>Active</th>\n",
              "      <th>Combined_Key</th>\n",
              "    </tr>\n",
              "  </thead>\n",
              "  <tbody>\n",
              "    <tr>\n",
              "      <th>3025</th>\n",
              "      <td>NaN</td>\n",
              "      <td>NaN</td>\n",
              "      <td>NaN</td>\n",
              "      <td>Spain</td>\n",
              "      <td>2020-04-18 22:32:28</td>\n",
              "      <td>40.463667</td>\n",
              "      <td>-3.74922</td>\n",
              "      <td>191726</td>\n",
              "      <td>20043</td>\n",
              "      <td>74797</td>\n",
              "      <td>96886</td>\n",
              "      <td>Spain</td>\n",
              "    </tr>\n",
              "  </tbody>\n",
              "</table>\n",
              "</div>"
            ],
            "text/plain": [
              "      FIPS Admin2 Province_State  ... Recovered Active  Combined_Key\n",
              "3025   NaN    NaN            NaN  ...     74797  96886         Spain\n",
              "\n",
              "[1 rows x 12 columns]"
            ]
          },
          "metadata": {
            "tags": []
          },
          "execution_count": 9
        }
      ]
    },
    {
      "cell_type": "code",
      "metadata": {
        "id": "ud-ibwwtfgnJ",
        "colab_type": "code",
        "outputId": "f48281d3-1273-4592-aae2-5a92d6424ce1",
        "colab": {
          "base_uri": "https://localhost:8080/",
          "height": 424
        }
      },
      "source": [
        "pd.concat((first, last), axis = 0)"
      ],
      "execution_count": 10,
      "outputs": [
        {
          "output_type": "execute_result",
          "data": {
            "text/html": [
              "<div>\n",
              "<style scoped>\n",
              "    .dataframe tbody tr th:only-of-type {\n",
              "        vertical-align: middle;\n",
              "    }\n",
              "\n",
              "    .dataframe tbody tr th {\n",
              "        vertical-align: top;\n",
              "    }\n",
              "\n",
              "    .dataframe thead th {\n",
              "        text-align: right;\n",
              "    }\n",
              "</style>\n",
              "<table border=\"1\" class=\"dataframe\">\n",
              "  <thead>\n",
              "    <tr style=\"text-align: right;\">\n",
              "      <th></th>\n",
              "      <th>Province/State</th>\n",
              "      <th>Country/Region</th>\n",
              "      <th>Last Update</th>\n",
              "      <th>Confirmed</th>\n",
              "      <th>Deaths</th>\n",
              "      <th>Recovered</th>\n",
              "      <th>FIPS</th>\n",
              "      <th>Admin2</th>\n",
              "      <th>Province_State</th>\n",
              "      <th>Country_Region</th>\n",
              "      <th>Last_Update</th>\n",
              "      <th>Lat</th>\n",
              "      <th>Long_</th>\n",
              "      <th>Active</th>\n",
              "      <th>Combined_Key</th>\n",
              "    </tr>\n",
              "  </thead>\n",
              "  <tbody>\n",
              "    <tr>\n",
              "      <th>0</th>\n",
              "      <td>Anhui</td>\n",
              "      <td>Mainland China</td>\n",
              "      <td>1/22/2020 17:00</td>\n",
              "      <td>1.0</td>\n",
              "      <td>NaN</td>\n",
              "      <td>NaN</td>\n",
              "      <td>NaN</td>\n",
              "      <td>NaN</td>\n",
              "      <td>NaN</td>\n",
              "      <td>NaN</td>\n",
              "      <td>NaN</td>\n",
              "      <td>NaN</td>\n",
              "      <td>NaN</td>\n",
              "      <td>NaN</td>\n",
              "      <td>NaN</td>\n",
              "    </tr>\n",
              "    <tr>\n",
              "      <th>1</th>\n",
              "      <td>Beijing</td>\n",
              "      <td>Mainland China</td>\n",
              "      <td>1/22/2020 17:00</td>\n",
              "      <td>14.0</td>\n",
              "      <td>NaN</td>\n",
              "      <td>NaN</td>\n",
              "      <td>NaN</td>\n",
              "      <td>NaN</td>\n",
              "      <td>NaN</td>\n",
              "      <td>NaN</td>\n",
              "      <td>NaN</td>\n",
              "      <td>NaN</td>\n",
              "      <td>NaN</td>\n",
              "      <td>NaN</td>\n",
              "      <td>NaN</td>\n",
              "    </tr>\n",
              "    <tr>\n",
              "      <th>2</th>\n",
              "      <td>Chongqing</td>\n",
              "      <td>Mainland China</td>\n",
              "      <td>1/22/2020 17:00</td>\n",
              "      <td>6.0</td>\n",
              "      <td>NaN</td>\n",
              "      <td>NaN</td>\n",
              "      <td>NaN</td>\n",
              "      <td>NaN</td>\n",
              "      <td>NaN</td>\n",
              "      <td>NaN</td>\n",
              "      <td>NaN</td>\n",
              "      <td>NaN</td>\n",
              "      <td>NaN</td>\n",
              "      <td>NaN</td>\n",
              "      <td>NaN</td>\n",
              "    </tr>\n",
              "    <tr>\n",
              "      <th>3</th>\n",
              "      <td>Fujian</td>\n",
              "      <td>Mainland China</td>\n",
              "      <td>1/22/2020 17:00</td>\n",
              "      <td>1.0</td>\n",
              "      <td>NaN</td>\n",
              "      <td>NaN</td>\n",
              "      <td>NaN</td>\n",
              "      <td>NaN</td>\n",
              "      <td>NaN</td>\n",
              "      <td>NaN</td>\n",
              "      <td>NaN</td>\n",
              "      <td>NaN</td>\n",
              "      <td>NaN</td>\n",
              "      <td>NaN</td>\n",
              "      <td>NaN</td>\n",
              "    </tr>\n",
              "    <tr>\n",
              "      <th>4</th>\n",
              "      <td>Gansu</td>\n",
              "      <td>Mainland China</td>\n",
              "      <td>1/22/2020 17:00</td>\n",
              "      <td>NaN</td>\n",
              "      <td>NaN</td>\n",
              "      <td>NaN</td>\n",
              "      <td>NaN</td>\n",
              "      <td>NaN</td>\n",
              "      <td>NaN</td>\n",
              "      <td>NaN</td>\n",
              "      <td>NaN</td>\n",
              "      <td>NaN</td>\n",
              "      <td>NaN</td>\n",
              "      <td>NaN</td>\n",
              "      <td>NaN</td>\n",
              "    </tr>\n",
              "    <tr>\n",
              "      <th>...</th>\n",
              "      <td>...</td>\n",
              "      <td>...</td>\n",
              "      <td>...</td>\n",
              "      <td>...</td>\n",
              "      <td>...</td>\n",
              "      <td>...</td>\n",
              "      <td>...</td>\n",
              "      <td>...</td>\n",
              "      <td>...</td>\n",
              "      <td>...</td>\n",
              "      <td>...</td>\n",
              "      <td>...</td>\n",
              "      <td>...</td>\n",
              "      <td>...</td>\n",
              "      <td>...</td>\n",
              "    </tr>\n",
              "    <tr>\n",
              "      <th>3048</th>\n",
              "      <td>NaN</td>\n",
              "      <td>NaN</td>\n",
              "      <td>NaN</td>\n",
              "      <td>418.0</td>\n",
              "      <td>2.0</td>\n",
              "      <td>69.0</td>\n",
              "      <td>NaN</td>\n",
              "      <td>NaN</td>\n",
              "      <td>NaN</td>\n",
              "      <td>West Bank and Gaza</td>\n",
              "      <td>2020-04-18 22:32:28</td>\n",
              "      <td>31.952200</td>\n",
              "      <td>35.233200</td>\n",
              "      <td>347.0</td>\n",
              "      <td>West Bank and Gaza</td>\n",
              "    </tr>\n",
              "    <tr>\n",
              "      <th>3049</th>\n",
              "      <td>NaN</td>\n",
              "      <td>NaN</td>\n",
              "      <td>NaN</td>\n",
              "      <td>6.0</td>\n",
              "      <td>0.0</td>\n",
              "      <td>0.0</td>\n",
              "      <td>NaN</td>\n",
              "      <td>NaN</td>\n",
              "      <td>NaN</td>\n",
              "      <td>Western Sahara</td>\n",
              "      <td>2020-04-18 22:32:28</td>\n",
              "      <td>24.215500</td>\n",
              "      <td>-12.885800</td>\n",
              "      <td>6.0</td>\n",
              "      <td>Western Sahara</td>\n",
              "    </tr>\n",
              "    <tr>\n",
              "      <th>3050</th>\n",
              "      <td>NaN</td>\n",
              "      <td>NaN</td>\n",
              "      <td>NaN</td>\n",
              "      <td>1.0</td>\n",
              "      <td>0.0</td>\n",
              "      <td>0.0</td>\n",
              "      <td>NaN</td>\n",
              "      <td>NaN</td>\n",
              "      <td>NaN</td>\n",
              "      <td>Yemen</td>\n",
              "      <td>2020-04-18 22:32:28</td>\n",
              "      <td>15.552727</td>\n",
              "      <td>48.516388</td>\n",
              "      <td>1.0</td>\n",
              "      <td>Yemen</td>\n",
              "    </tr>\n",
              "    <tr>\n",
              "      <th>3051</th>\n",
              "      <td>NaN</td>\n",
              "      <td>NaN</td>\n",
              "      <td>NaN</td>\n",
              "      <td>57.0</td>\n",
              "      <td>2.0</td>\n",
              "      <td>33.0</td>\n",
              "      <td>NaN</td>\n",
              "      <td>NaN</td>\n",
              "      <td>NaN</td>\n",
              "      <td>Zambia</td>\n",
              "      <td>2020-04-18 22:32:28</td>\n",
              "      <td>-13.133897</td>\n",
              "      <td>27.849332</td>\n",
              "      <td>22.0</td>\n",
              "      <td>Zambia</td>\n",
              "    </tr>\n",
              "    <tr>\n",
              "      <th>3052</th>\n",
              "      <td>NaN</td>\n",
              "      <td>NaN</td>\n",
              "      <td>NaN</td>\n",
              "      <td>25.0</td>\n",
              "      <td>3.0</td>\n",
              "      <td>2.0</td>\n",
              "      <td>NaN</td>\n",
              "      <td>NaN</td>\n",
              "      <td>NaN</td>\n",
              "      <td>Zimbabwe</td>\n",
              "      <td>2020-04-18 22:32:28</td>\n",
              "      <td>-19.015438</td>\n",
              "      <td>29.154857</td>\n",
              "      <td>20.0</td>\n",
              "      <td>Zimbabwe</td>\n",
              "    </tr>\n",
              "  </tbody>\n",
              "</table>\n",
              "<p>3091 rows × 15 columns</p>\n",
              "</div>"
            ],
            "text/plain": [
              "     Province/State  Country/Region  ... Active        Combined_Key\n",
              "0             Anhui  Mainland China  ...    NaN                 NaN\n",
              "1           Beijing  Mainland China  ...    NaN                 NaN\n",
              "2         Chongqing  Mainland China  ...    NaN                 NaN\n",
              "3            Fujian  Mainland China  ...    NaN                 NaN\n",
              "4             Gansu  Mainland China  ...    NaN                 NaN\n",
              "...             ...             ...  ...    ...                 ...\n",
              "3048            NaN             NaN  ...  347.0  West Bank and Gaza\n",
              "3049            NaN             NaN  ...    6.0      Western Sahara\n",
              "3050            NaN             NaN  ...    1.0               Yemen\n",
              "3051            NaN             NaN  ...   22.0              Zambia\n",
              "3052            NaN             NaN  ...   20.0            Zimbabwe\n",
              "\n",
              "[3091 rows x 15 columns]"
            ]
          },
          "metadata": {
            "tags": []
          },
          "execution_count": 10
        }
      ]
    },
    {
      "cell_type": "markdown",
      "metadata": {
        "id": "qp0FzW2Iw5eN",
        "colab_type": "text"
      },
      "source": [
        "Ups!!! The column names don't match :-("
      ]
    },
    {
      "cell_type": "markdown",
      "metadata": {
        "id": "ghaZx5_9OorK",
        "colab_type": "text"
      },
      "source": [
        "#Loading the data into Pandas  and cleaning it"
      ]
    },
    {
      "cell_type": "code",
      "metadata": {
        "id": "M9bC8STciFTa",
        "colab_type": "code",
        "colab": {}
      },
      "source": [
        "import glob\n",
        "import os\n",
        "\n",
        "files = glob.glob(\"./COVID-19/csse_covid_19_data/csse_covid_19_daily_reports/*.csv\")\n",
        "files.sort(key=os.path.getmtime)"
      ],
      "execution_count": 0,
      "outputs": []
    },
    {
      "cell_type": "markdown",
      "metadata": {
        "id": "vs7_lsZlxYuL",
        "colab_type": "text"
      },
      "source": [
        "We are going to:\n",
        "- Create a blank Dataset to store all the data\n",
        "- Load every dataset unifying the column names so we can concatenate it without any problem.\n",
        "- Remove extra blank spaces from the country field\n",
        "- Enrich the information with the date of the data in the correct type"
      ]
    },
    {
      "cell_type": "code",
      "metadata": {
        "id": "FT8e_Vu2jjG6",
        "colab_type": "code",
        "colab": {}
      },
      "source": [
        "data = pd.DataFrame()\n",
        "for file in files:  \n",
        "  df = pd.read_csv(file).rename(columns = {'Province/State' : 'State', \n",
        "                        \"Country/Region\" : 'Country',\n",
        "                        'Province_State' : 'State', \n",
        "                        \"Country_Region\" : 'Country',\n",
        "                        'Last Update' : 'Last_Update',\n",
        "                        'Confirmed' : 'ConfirmedAcum',\n",
        "                        'Deaths' : 'DeathsAcum',\n",
        "                        'Recovered' : 'RecoveredAcum'})\n",
        "  df = df.assign(Date = pd.to_datetime(file[-14:-4], format = '%m-%d-%Y'),\n",
        "                 Country = df.Country.str.strip())\n",
        "  data = pd.concat((data, df), axis = 0)\n"
      ],
      "execution_count": 0,
      "outputs": []
    },
    {
      "cell_type": "markdown",
      "metadata": {
        "id": "eYgaZTZRxPef",
        "colab_type": "text"
      },
      "source": [
        "I noticed that the country names were a little messy.   \n",
        "Let's fix it ..."
      ]
    },
    {
      "cell_type": "code",
      "metadata": {
        "id": "k4Ivs-ocj9ZD",
        "colab_type": "code",
        "colab": {}
      },
      "source": [
        "data['Country'] = data.Country.replace({'Bahamas, The' : 'Bahamas',\n",
        "                         'Congo (Brazzaville)' : 'Congo',\n",
        "                         'Congo (Kinshasa)' : 'Congo',\n",
        "                         \"Cote d'Ivoire\" : \"Cote d'Ivoire\",\n",
        "                         \"Curacao\" : \"Curaçao\",\n",
        "                         'Czech Republic' : 'Czech Republic (Czechia)',\n",
        "                         'Czechia' : 'Czech Republic (Czechia)',\n",
        "                         'Faroe Islands' : 'Faeroe Islands',\n",
        "                         'Macau' : 'Macao',\n",
        "                         'Mainland China' : 'China',\n",
        "                         'Palestine' : 'State of Palestine',\n",
        "                         'Reunion' : 'Réunion',\n",
        "                         'Saint Kitts and Nevis' : 'Saint Kitts & Nevis',\n",
        "                         'Sao Tome and Principe' : 'Sao Tome & Principe',\n",
        "                         'US' : 'United States',\n",
        "                         'Gambia, The' : 'Gambia',\n",
        "                         'Hong Kong SAR' : 'Hong Kong',\n",
        "                         'Korea, South' : 'South Korea',\n",
        "                         'Macao SAR' : 'Macao',\n",
        "                         'Taiwan*' : 'Taiwan',\n",
        "                         'Viet Nam' : 'Vietnam',\n",
        "                         'West Bank and Gaza' : 'State of Palestine'\n",
        "                         })"
      ],
      "execution_count": 0,
      "outputs": []
    },
    {
      "cell_type": "markdown",
      "metadata": {
        "id": "UULovmSp076p",
        "colab_type": "text"
      },
      "source": [
        "I'm going to fill in the null values ​​of the 'State' and 'Admin2' fields so that I can later group the data correctly"
      ]
    },
    {
      "cell_type": "code",
      "metadata": {
        "id": "sqOtm5KZ02bb",
        "colab_type": "code",
        "colab": {}
      },
      "source": [
        "data = data.fillna({'State' : 'NA', 'Admin2' : 'NA'})"
      ],
      "execution_count": 0,
      "outputs": []
    },
    {
      "cell_type": "markdown",
      "metadata": {
        "id": "stPODK5u2kK7",
        "colab_type": "text"
      },
      "source": [
        "Finally I am going to be left alone with the columns that interest me"
      ]
    },
    {
      "cell_type": "code",
      "metadata": {
        "id": "tN2qJzZ92j7C",
        "colab_type": "code",
        "colab": {}
      },
      "source": [
        "data = data[['Date', 'Country', 'State', 'Admin2', 'ConfirmedAcum', 'DeathsAcum', 'RecoveredAcum']]"
      ],
      "execution_count": 0,
      "outputs": []
    },
    {
      "cell_type": "markdown",
      "metadata": {
        "id": "eKGKWEv81QOC",
        "colab_type": "text"
      },
      "source": [
        "Let's verify the structure of the dateset ..."
      ]
    },
    {
      "cell_type": "code",
      "metadata": {
        "id": "PaHfgHxw02f6",
        "colab_type": "code",
        "outputId": "bad74196-c122-4a28-bfa8-55a0a9d8a30b",
        "colab": {
          "base_uri": "https://localhost:8080/",
          "height": 274
        }
      },
      "source": [
        "data.info()"
      ],
      "execution_count": 16,
      "outputs": [
        {
          "output_type": "stream",
          "text": [
            "<class 'pandas.core.frame.DataFrame'>\n",
            "Int64Index: 95588 entries, 0 to 3071\n",
            "Data columns (total 7 columns):\n",
            " #   Column         Non-Null Count  Dtype         \n",
            "---  ------         --------------  -----         \n",
            " 0   Date           95588 non-null  datetime64[ns]\n",
            " 1   Country        95588 non-null  object        \n",
            " 2   State          95588 non-null  object        \n",
            " 3   Admin2         95588 non-null  object        \n",
            " 4   ConfirmedAcum  95569 non-null  float64       \n",
            " 5   DeathsAcum     95147 non-null  float64       \n",
            " 6   RecoveredAcum  95200 non-null  float64       \n",
            "dtypes: datetime64[ns](1), float64(3), object(3)\n",
            "memory usage: 5.8+ MB\n"
          ],
          "name": "stdout"
        }
      ]
    },
    {
      "cell_type": "markdown",
      "metadata": {
        "id": "KHTrGOkI3EZ5",
        "colab_type": "text"
      },
      "source": [
        "Wait a set, I think that can be interesting have a column the the active cases. Let's create it ..."
      ]
    },
    {
      "cell_type": "code",
      "metadata": {
        "id": "MHo4mEHk3SV-",
        "colab_type": "code",
        "colab": {}
      },
      "source": [
        "data['ActiveAcum'] = data.ConfirmedAcum  - data.DeathsAcum - data.RecoveredAcum"
      ],
      "execution_count": 0,
      "outputs": []
    },
    {
      "cell_type": "code",
      "metadata": {
        "id": "rWWw4HKt3kem",
        "colab_type": "code",
        "outputId": "b4ecef48-7701-42e2-b2d0-511bfd1a8cc9",
        "colab": {
          "base_uri": "https://localhost:8080/",
          "height": 206
        }
      },
      "source": [
        "data.query(\"Country == 'Spain'\").sort_values('Date', ascending = False).head()"
      ],
      "execution_count": 18,
      "outputs": [
        {
          "output_type": "execute_result",
          "data": {
            "text/html": [
              "<div>\n",
              "<style scoped>\n",
              "    .dataframe tbody tr th:only-of-type {\n",
              "        vertical-align: middle;\n",
              "    }\n",
              "\n",
              "    .dataframe tbody tr th {\n",
              "        vertical-align: top;\n",
              "    }\n",
              "\n",
              "    .dataframe thead th {\n",
              "        text-align: right;\n",
              "    }\n",
              "</style>\n",
              "<table border=\"1\" class=\"dataframe\">\n",
              "  <thead>\n",
              "    <tr style=\"text-align: right;\">\n",
              "      <th></th>\n",
              "      <th>Date</th>\n",
              "      <th>Country</th>\n",
              "      <th>State</th>\n",
              "      <th>Admin2</th>\n",
              "      <th>ConfirmedAcum</th>\n",
              "      <th>DeathsAcum</th>\n",
              "      <th>RecoveredAcum</th>\n",
              "      <th>ActiveAcum</th>\n",
              "    </tr>\n",
              "  </thead>\n",
              "  <tbody>\n",
              "    <tr>\n",
              "      <th>3044</th>\n",
              "      <td>2020-04-19</td>\n",
              "      <td>Spain</td>\n",
              "      <td>NA</td>\n",
              "      <td>NA</td>\n",
              "      <td>198674.0</td>\n",
              "      <td>20453.0</td>\n",
              "      <td>77357.0</td>\n",
              "      <td>100864.0</td>\n",
              "    </tr>\n",
              "    <tr>\n",
              "      <th>3025</th>\n",
              "      <td>2020-04-18</td>\n",
              "      <td>Spain</td>\n",
              "      <td>NA</td>\n",
              "      <td>NA</td>\n",
              "      <td>191726.0</td>\n",
              "      <td>20043.0</td>\n",
              "      <td>74797.0</td>\n",
              "      <td>96886.0</td>\n",
              "    </tr>\n",
              "    <tr>\n",
              "      <th>3017</th>\n",
              "      <td>2020-04-17</td>\n",
              "      <td>Spain</td>\n",
              "      <td>NA</td>\n",
              "      <td>NA</td>\n",
              "      <td>190839.0</td>\n",
              "      <td>20002.0</td>\n",
              "      <td>74797.0</td>\n",
              "      <td>96040.0</td>\n",
              "    </tr>\n",
              "    <tr>\n",
              "      <th>3013</th>\n",
              "      <td>2020-04-16</td>\n",
              "      <td>Spain</td>\n",
              "      <td>NA</td>\n",
              "      <td>NA</td>\n",
              "      <td>184948.0</td>\n",
              "      <td>19315.0</td>\n",
              "      <td>74797.0</td>\n",
              "      <td>90836.0</td>\n",
              "    </tr>\n",
              "    <tr>\n",
              "      <th>2998</th>\n",
              "      <td>2020-04-15</td>\n",
              "      <td>Spain</td>\n",
              "      <td>NA</td>\n",
              "      <td>NA</td>\n",
              "      <td>177644.0</td>\n",
              "      <td>18708.0</td>\n",
              "      <td>70853.0</td>\n",
              "      <td>88083.0</td>\n",
              "    </tr>\n",
              "  </tbody>\n",
              "</table>\n",
              "</div>"
            ],
            "text/plain": [
              "           Date Country State  ... DeathsAcum  RecoveredAcum  ActiveAcum\n",
              "3044 2020-04-19   Spain    NA  ...    20453.0        77357.0    100864.0\n",
              "3025 2020-04-18   Spain    NA  ...    20043.0        74797.0     96886.0\n",
              "3017 2020-04-17   Spain    NA  ...    20002.0        74797.0     96040.0\n",
              "3013 2020-04-16   Spain    NA  ...    19315.0        74797.0     90836.0\n",
              "2998 2020-04-15   Spain    NA  ...    18708.0        70853.0     88083.0\n",
              "\n",
              "[5 rows x 8 columns]"
            ]
          },
          "metadata": {
            "tags": []
          },
          "execution_count": 18
        }
      ]
    },
    {
      "cell_type": "markdown",
      "metadata": {
        "id": "Hy7ezfe71YfW",
        "colab_type": "text"
      },
      "source": [
        "Perfect :-)"
      ]
    },
    {
      "cell_type": "markdown",
      "metadata": {
        "id": "QXWtfzg61dT8",
        "colab_type": "text"
      },
      "source": [
        "Now, I am going to group and summarize the data because I want to be sure that there is only one row per Date, Country, State and Admin2"
      ]
    },
    {
      "cell_type": "code",
      "metadata": {
        "id": "Sv6N4XzATqDb",
        "colab_type": "code",
        "colab": {}
      },
      "source": [
        "data = data.groupby([\"Date\", \"Country\", \"State\", \"Admin2\"]).agg(\"sum\").reset_index()"
      ],
      "execution_count": 0,
      "outputs": []
    },
    {
      "cell_type": "code",
      "metadata": {
        "id": "uMxyZOlHoMuf",
        "colab_type": "code",
        "outputId": "ea720fa2-38cf-4087-f292-043abcf44b1d",
        "colab": {
          "base_uri": "https://localhost:8080/",
          "height": 206
        }
      },
      "source": [
        "data.head()"
      ],
      "execution_count": 20,
      "outputs": [
        {
          "output_type": "execute_result",
          "data": {
            "text/html": [
              "<div>\n",
              "<style scoped>\n",
              "    .dataframe tbody tr th:only-of-type {\n",
              "        vertical-align: middle;\n",
              "    }\n",
              "\n",
              "    .dataframe tbody tr th {\n",
              "        vertical-align: top;\n",
              "    }\n",
              "\n",
              "    .dataframe thead th {\n",
              "        text-align: right;\n",
              "    }\n",
              "</style>\n",
              "<table border=\"1\" class=\"dataframe\">\n",
              "  <thead>\n",
              "    <tr style=\"text-align: right;\">\n",
              "      <th></th>\n",
              "      <th>Date</th>\n",
              "      <th>Country</th>\n",
              "      <th>State</th>\n",
              "      <th>Admin2</th>\n",
              "      <th>ConfirmedAcum</th>\n",
              "      <th>DeathsAcum</th>\n",
              "      <th>RecoveredAcum</th>\n",
              "      <th>ActiveAcum</th>\n",
              "    </tr>\n",
              "  </thead>\n",
              "  <tbody>\n",
              "    <tr>\n",
              "      <th>0</th>\n",
              "      <td>2020-01-22</td>\n",
              "      <td>China</td>\n",
              "      <td>Anhui</td>\n",
              "      <td>NA</td>\n",
              "      <td>1.0</td>\n",
              "      <td>0.0</td>\n",
              "      <td>0.0</td>\n",
              "      <td>0.0</td>\n",
              "    </tr>\n",
              "    <tr>\n",
              "      <th>1</th>\n",
              "      <td>2020-01-22</td>\n",
              "      <td>China</td>\n",
              "      <td>Beijing</td>\n",
              "      <td>NA</td>\n",
              "      <td>14.0</td>\n",
              "      <td>0.0</td>\n",
              "      <td>0.0</td>\n",
              "      <td>0.0</td>\n",
              "    </tr>\n",
              "    <tr>\n",
              "      <th>2</th>\n",
              "      <td>2020-01-22</td>\n",
              "      <td>China</td>\n",
              "      <td>Chongqing</td>\n",
              "      <td>NA</td>\n",
              "      <td>6.0</td>\n",
              "      <td>0.0</td>\n",
              "      <td>0.0</td>\n",
              "      <td>0.0</td>\n",
              "    </tr>\n",
              "    <tr>\n",
              "      <th>3</th>\n",
              "      <td>2020-01-22</td>\n",
              "      <td>China</td>\n",
              "      <td>Fujian</td>\n",
              "      <td>NA</td>\n",
              "      <td>1.0</td>\n",
              "      <td>0.0</td>\n",
              "      <td>0.0</td>\n",
              "      <td>0.0</td>\n",
              "    </tr>\n",
              "    <tr>\n",
              "      <th>4</th>\n",
              "      <td>2020-01-22</td>\n",
              "      <td>China</td>\n",
              "      <td>Gansu</td>\n",
              "      <td>NA</td>\n",
              "      <td>0.0</td>\n",
              "      <td>0.0</td>\n",
              "      <td>0.0</td>\n",
              "      <td>0.0</td>\n",
              "    </tr>\n",
              "  </tbody>\n",
              "</table>\n",
              "</div>"
            ],
            "text/plain": [
              "        Date Country      State  ... DeathsAcum  RecoveredAcum  ActiveAcum\n",
              "0 2020-01-22   China      Anhui  ...        0.0            0.0         0.0\n",
              "1 2020-01-22   China    Beijing  ...        0.0            0.0         0.0\n",
              "2 2020-01-22   China  Chongqing  ...        0.0            0.0         0.0\n",
              "3 2020-01-22   China     Fujian  ...        0.0            0.0         0.0\n",
              "4 2020-01-22   China      Gansu  ...        0.0            0.0         0.0\n",
              "\n",
              "[5 rows x 8 columns]"
            ]
          },
          "metadata": {
            "tags": []
          },
          "execution_count": 20
        }
      ]
    },
    {
      "cell_type": "markdown",
      "metadata": {
        "id": "TZbi_Sr6SbO5",
        "colab_type": "text"
      },
      "source": [
        "# Daily Cases\n",
        "I am going to enrich the data by creating new columns with the daily cases.  \n",
        "\n",
        "First I create new columns with the cases from the previous day"
      ]
    },
    {
      "cell_type": "code",
      "metadata": {
        "id": "g8MHMIevPoA0",
        "colab_type": "code",
        "colab": {}
      },
      "source": [
        "data = data.sort_values(['State', 'Country', 'Date']).\\\n",
        "            assign(ConfirmedPrevious = data.groupby(['Admin2', 'State', 'Country']).shift(1)[\"ConfirmedAcum\"],\n",
        "                   DeathsPrevious = data.groupby(['Admin2', 'State', 'Country']).shift(1)[\"DeathsAcum\"],\n",
        "                   RecoveredPrevious = data.groupby(['Admin2', 'State', 'Country']).shift(1)[\"RecoveredAcum\"],\n",
        "                   ActivePrevious = data.groupby(['Admin2', 'State', 'Country']).shift(1)[\"ActiveAcum\"],\n",
        "            ).\\\n",
        "            fillna({ 'ConfirmedPrevious' : 0, 'DeathsPrevious' : 0, 'RecoveredPrevious' : 0 })"
      ],
      "execution_count": 0,
      "outputs": []
    },
    {
      "cell_type": "code",
      "metadata": {
        "id": "DDT2ontmYspr",
        "colab_type": "code",
        "outputId": "b5b11593-d492-4be4-b6df-8c46ea3d761c",
        "colab": {
          "base_uri": "https://localhost:8080/",
          "height": 206
        }
      },
      "source": [
        "data.head()"
      ],
      "execution_count": 22,
      "outputs": [
        {
          "output_type": "execute_result",
          "data": {
            "text/html": [
              "<div>\n",
              "<style scoped>\n",
              "    .dataframe tbody tr th:only-of-type {\n",
              "        vertical-align: middle;\n",
              "    }\n",
              "\n",
              "    .dataframe tbody tr th {\n",
              "        vertical-align: top;\n",
              "    }\n",
              "\n",
              "    .dataframe thead th {\n",
              "        text-align: right;\n",
              "    }\n",
              "</style>\n",
              "<table border=\"1\" class=\"dataframe\">\n",
              "  <thead>\n",
              "    <tr style=\"text-align: right;\">\n",
              "      <th></th>\n",
              "      <th>Date</th>\n",
              "      <th>Country</th>\n",
              "      <th>State</th>\n",
              "      <th>Admin2</th>\n",
              "      <th>ConfirmedAcum</th>\n",
              "      <th>DeathsAcum</th>\n",
              "      <th>RecoveredAcum</th>\n",
              "      <th>ActiveAcum</th>\n",
              "      <th>ConfirmedPrevious</th>\n",
              "      <th>DeathsPrevious</th>\n",
              "      <th>RecoveredPrevious</th>\n",
              "      <th>ActivePrevious</th>\n",
              "    </tr>\n",
              "  </thead>\n",
              "  <tbody>\n",
              "    <tr>\n",
              "      <th>2599</th>\n",
              "      <td>2020-02-28</td>\n",
              "      <td>Canada</td>\n",
              "      <td>Montreal, QC</td>\n",
              "      <td>NA</td>\n",
              "      <td>1.0</td>\n",
              "      <td>0.0</td>\n",
              "      <td>0.0</td>\n",
              "      <td>1.0</td>\n",
              "      <td>0.0</td>\n",
              "      <td>0.0</td>\n",
              "      <td>0.0</td>\n",
              "      <td>NaN</td>\n",
              "    </tr>\n",
              "    <tr>\n",
              "      <th>2713</th>\n",
              "      <td>2020-02-29</td>\n",
              "      <td>Canada</td>\n",
              "      <td>Montreal, QC</td>\n",
              "      <td>NA</td>\n",
              "      <td>1.0</td>\n",
              "      <td>0.0</td>\n",
              "      <td>0.0</td>\n",
              "      <td>1.0</td>\n",
              "      <td>1.0</td>\n",
              "      <td>0.0</td>\n",
              "      <td>0.0</td>\n",
              "      <td>1.0</td>\n",
              "    </tr>\n",
              "    <tr>\n",
              "      <th>2834</th>\n",
              "      <td>2020-03-01</td>\n",
              "      <td>Canada</td>\n",
              "      <td>Montreal, QC</td>\n",
              "      <td>NA</td>\n",
              "      <td>1.0</td>\n",
              "      <td>0.0</td>\n",
              "      <td>0.0</td>\n",
              "      <td>1.0</td>\n",
              "      <td>1.0</td>\n",
              "      <td>0.0</td>\n",
              "      <td>0.0</td>\n",
              "      <td>1.0</td>\n",
              "    </tr>\n",
              "    <tr>\n",
              "      <th>2961</th>\n",
              "      <td>2020-03-02</td>\n",
              "      <td>Canada</td>\n",
              "      <td>Montreal, QC</td>\n",
              "      <td>NA</td>\n",
              "      <td>1.0</td>\n",
              "      <td>0.0</td>\n",
              "      <td>0.0</td>\n",
              "      <td>1.0</td>\n",
              "      <td>1.0</td>\n",
              "      <td>0.0</td>\n",
              "      <td>0.0</td>\n",
              "      <td>1.0</td>\n",
              "    </tr>\n",
              "    <tr>\n",
              "      <th>3103</th>\n",
              "      <td>2020-03-03</td>\n",
              "      <td>Canada</td>\n",
              "      <td>Montreal, QC</td>\n",
              "      <td>NA</td>\n",
              "      <td>1.0</td>\n",
              "      <td>0.0</td>\n",
              "      <td>0.0</td>\n",
              "      <td>1.0</td>\n",
              "      <td>1.0</td>\n",
              "      <td>0.0</td>\n",
              "      <td>0.0</td>\n",
              "      <td>1.0</td>\n",
              "    </tr>\n",
              "  </tbody>\n",
              "</table>\n",
              "</div>"
            ],
            "text/plain": [
              "           Date Country  ... RecoveredPrevious ActivePrevious\n",
              "2599 2020-02-28  Canada  ...               0.0            NaN\n",
              "2713 2020-02-29  Canada  ...               0.0            1.0\n",
              "2834 2020-03-01  Canada  ...               0.0            1.0\n",
              "2961 2020-03-02  Canada  ...               0.0            1.0\n",
              "3103 2020-03-03  Canada  ...               0.0            1.0\n",
              "\n",
              "[5 rows x 12 columns]"
            ]
          },
          "metadata": {
            "tags": []
          },
          "execution_count": 22
        }
      ]
    },
    {
      "cell_type": "markdown",
      "metadata": {
        "id": "7sbEQUt06Cw9",
        "colab_type": "text"
      },
      "source": [
        "After that I am going to assign the new fields subtracting the previous acum cases to the actual acum cases"
      ]
    },
    {
      "cell_type": "code",
      "metadata": {
        "id": "95W2LJ4yXESe",
        "colab_type": "code",
        "colab": {}
      },
      "source": [
        "data = data.assign(Confirmed = data.ConfirmedAcum -  data.ConfirmedPrevious,\n",
        "            Deaths = data.DeathsAcum - data.DeathsPrevious,\n",
        "            Recovered = data.RecoveredAcum - data.RecoveredPrevious,\n",
        "            Active = data.ActiveAcum - data.ActivePrevious\n",
        "            )"
      ],
      "execution_count": 0,
      "outputs": []
    },
    {
      "cell_type": "markdown",
      "metadata": {
        "id": "R3aiurFY6btc",
        "colab_type": "text"
      },
      "source": [
        "I no longer need the fields I used to make the calculation so I can drop them"
      ]
    },
    {
      "cell_type": "code",
      "metadata": {
        "id": "EyYZ8SAA51rY",
        "colab_type": "code",
        "colab": {}
      },
      "source": [
        "data = data.drop(['ConfirmedPrevious', 'DeathsPrevious', 'RecoveredPrevious', 'ActivePrevious'], axis = 1)"
      ],
      "execution_count": 0,
      "outputs": []
    },
    {
      "cell_type": "markdown",
      "metadata": {
        "id": "kv94Eilb6t22",
        "colab_type": "text"
      },
      "source": [
        "Does the data look good?"
      ]
    },
    {
      "cell_type": "code",
      "metadata": {
        "id": "vrr3xpFIRlfW",
        "colab_type": "code",
        "outputId": "cc6f9e21-2493-45d7-c7cf-b65c4e27b3a2",
        "colab": {
          "base_uri": "https://localhost:8080/",
          "height": 424
        }
      },
      "source": [
        "data.query(\"Country == 'Spain'\")"
      ],
      "execution_count": 25,
      "outputs": [
        {
          "output_type": "execute_result",
          "data": {
            "text/html": [
              "<div>\n",
              "<style scoped>\n",
              "    .dataframe tbody tr th:only-of-type {\n",
              "        vertical-align: middle;\n",
              "    }\n",
              "\n",
              "    .dataframe tbody tr th {\n",
              "        vertical-align: top;\n",
              "    }\n",
              "\n",
              "    .dataframe thead th {\n",
              "        text-align: right;\n",
              "    }\n",
              "</style>\n",
              "<table border=\"1\" class=\"dataframe\">\n",
              "  <thead>\n",
              "    <tr style=\"text-align: right;\">\n",
              "      <th></th>\n",
              "      <th>Date</th>\n",
              "      <th>Country</th>\n",
              "      <th>State</th>\n",
              "      <th>Admin2</th>\n",
              "      <th>ConfirmedAcum</th>\n",
              "      <th>DeathsAcum</th>\n",
              "      <th>RecoveredAcum</th>\n",
              "      <th>ActiveAcum</th>\n",
              "      <th>Confirmed</th>\n",
              "      <th>Deaths</th>\n",
              "      <th>Recovered</th>\n",
              "      <th>Active</th>\n",
              "    </tr>\n",
              "  </thead>\n",
              "  <tbody>\n",
              "    <tr>\n",
              "      <th>545</th>\n",
              "      <td>2020-02-01</td>\n",
              "      <td>Spain</td>\n",
              "      <td>NA</td>\n",
              "      <td>NA</td>\n",
              "      <td>1.0</td>\n",
              "      <td>0.0</td>\n",
              "      <td>0.0</td>\n",
              "      <td>1.0</td>\n",
              "      <td>1.0</td>\n",
              "      <td>0.0</td>\n",
              "      <td>0.0</td>\n",
              "      <td>NaN</td>\n",
              "    </tr>\n",
              "    <tr>\n",
              "      <th>612</th>\n",
              "      <td>2020-02-02</td>\n",
              "      <td>Spain</td>\n",
              "      <td>NA</td>\n",
              "      <td>NA</td>\n",
              "      <td>1.0</td>\n",
              "      <td>0.0</td>\n",
              "      <td>0.0</td>\n",
              "      <td>1.0</td>\n",
              "      <td>0.0</td>\n",
              "      <td>0.0</td>\n",
              "      <td>0.0</td>\n",
              "      <td>0.0</td>\n",
              "    </tr>\n",
              "    <tr>\n",
              "      <th>679</th>\n",
              "      <td>2020-02-03</td>\n",
              "      <td>Spain</td>\n",
              "      <td>NA</td>\n",
              "      <td>NA</td>\n",
              "      <td>1.0</td>\n",
              "      <td>0.0</td>\n",
              "      <td>0.0</td>\n",
              "      <td>1.0</td>\n",
              "      <td>0.0</td>\n",
              "      <td>0.0</td>\n",
              "      <td>0.0</td>\n",
              "      <td>0.0</td>\n",
              "    </tr>\n",
              "    <tr>\n",
              "      <th>749</th>\n",
              "      <td>2020-02-04</td>\n",
              "      <td>Spain</td>\n",
              "      <td>NA</td>\n",
              "      <td>NA</td>\n",
              "      <td>1.0</td>\n",
              "      <td>0.0</td>\n",
              "      <td>0.0</td>\n",
              "      <td>1.0</td>\n",
              "      <td>0.0</td>\n",
              "      <td>0.0</td>\n",
              "      <td>0.0</td>\n",
              "      <td>0.0</td>\n",
              "    </tr>\n",
              "    <tr>\n",
              "      <th>819</th>\n",
              "      <td>2020-02-05</td>\n",
              "      <td>Spain</td>\n",
              "      <td>NA</td>\n",
              "      <td>NA</td>\n",
              "      <td>1.0</td>\n",
              "      <td>0.0</td>\n",
              "      <td>0.0</td>\n",
              "      <td>1.0</td>\n",
              "      <td>0.0</td>\n",
              "      <td>0.0</td>\n",
              "      <td>0.0</td>\n",
              "      <td>0.0</td>\n",
              "    </tr>\n",
              "    <tr>\n",
              "      <th>...</th>\n",
              "      <td>...</td>\n",
              "      <td>...</td>\n",
              "      <td>...</td>\n",
              "      <td>...</td>\n",
              "      <td>...</td>\n",
              "      <td>...</td>\n",
              "      <td>...</td>\n",
              "      <td>...</td>\n",
              "      <td>...</td>\n",
              "      <td>...</td>\n",
              "      <td>...</td>\n",
              "      <td>...</td>\n",
              "    </tr>\n",
              "    <tr>\n",
              "      <th>80538</th>\n",
              "      <td>2020-04-15</td>\n",
              "      <td>Spain</td>\n",
              "      <td>NA</td>\n",
              "      <td>NA</td>\n",
              "      <td>177644.0</td>\n",
              "      <td>18708.0</td>\n",
              "      <td>70853.0</td>\n",
              "      <td>88083.0</td>\n",
              "      <td>5103.0</td>\n",
              "      <td>652.0</td>\n",
              "      <td>3349.0</td>\n",
              "      <td>1102.0</td>\n",
              "    </tr>\n",
              "    <tr>\n",
              "      <th>83563</th>\n",
              "      <td>2020-04-16</td>\n",
              "      <td>Spain</td>\n",
              "      <td>NA</td>\n",
              "      <td>NA</td>\n",
              "      <td>184948.0</td>\n",
              "      <td>19315.0</td>\n",
              "      <td>74797.0</td>\n",
              "      <td>90836.0</td>\n",
              "      <td>7304.0</td>\n",
              "      <td>607.0</td>\n",
              "      <td>3944.0</td>\n",
              "      <td>2753.0</td>\n",
              "    </tr>\n",
              "    <tr>\n",
              "      <th>86603</th>\n",
              "      <td>2020-04-17</td>\n",
              "      <td>Spain</td>\n",
              "      <td>NA</td>\n",
              "      <td>NA</td>\n",
              "      <td>190839.0</td>\n",
              "      <td>20002.0</td>\n",
              "      <td>74797.0</td>\n",
              "      <td>96040.0</td>\n",
              "      <td>5891.0</td>\n",
              "      <td>687.0</td>\n",
              "      <td>0.0</td>\n",
              "      <td>5204.0</td>\n",
              "    </tr>\n",
              "    <tr>\n",
              "      <th>89647</th>\n",
              "      <td>2020-04-18</td>\n",
              "      <td>Spain</td>\n",
              "      <td>NA</td>\n",
              "      <td>NA</td>\n",
              "      <td>191726.0</td>\n",
              "      <td>20043.0</td>\n",
              "      <td>74797.0</td>\n",
              "      <td>96886.0</td>\n",
              "      <td>887.0</td>\n",
              "      <td>41.0</td>\n",
              "      <td>0.0</td>\n",
              "      <td>846.0</td>\n",
              "    </tr>\n",
              "    <tr>\n",
              "      <th>92699</th>\n",
              "      <td>2020-04-19</td>\n",
              "      <td>Spain</td>\n",
              "      <td>NA</td>\n",
              "      <td>NA</td>\n",
              "      <td>198674.0</td>\n",
              "      <td>20453.0</td>\n",
              "      <td>77357.0</td>\n",
              "      <td>100864.0</td>\n",
              "      <td>6948.0</td>\n",
              "      <td>410.0</td>\n",
              "      <td>2560.0</td>\n",
              "      <td>3978.0</td>\n",
              "    </tr>\n",
              "  </tbody>\n",
              "</table>\n",
              "<p>79 rows × 12 columns</p>\n",
              "</div>"
            ],
            "text/plain": [
              "            Date Country State Admin2  ...  Confirmed  Deaths  Recovered  Active\n",
              "545   2020-02-01   Spain    NA     NA  ...        1.0     0.0        0.0     NaN\n",
              "612   2020-02-02   Spain    NA     NA  ...        0.0     0.0        0.0     0.0\n",
              "679   2020-02-03   Spain    NA     NA  ...        0.0     0.0        0.0     0.0\n",
              "749   2020-02-04   Spain    NA     NA  ...        0.0     0.0        0.0     0.0\n",
              "819   2020-02-05   Spain    NA     NA  ...        0.0     0.0        0.0     0.0\n",
              "...          ...     ...   ...    ...  ...        ...     ...        ...     ...\n",
              "80538 2020-04-15   Spain    NA     NA  ...     5103.0   652.0     3349.0  1102.0\n",
              "83563 2020-04-16   Spain    NA     NA  ...     7304.0   607.0     3944.0  2753.0\n",
              "86603 2020-04-17   Spain    NA     NA  ...     5891.0   687.0        0.0  5204.0\n",
              "89647 2020-04-18   Spain    NA     NA  ...      887.0    41.0        0.0   846.0\n",
              "92699 2020-04-19   Spain    NA     NA  ...     6948.0   410.0     2560.0  3978.0\n",
              "\n",
              "[79 rows x 12 columns]"
            ]
          },
          "metadata": {
            "tags": []
          },
          "execution_count": 25
        }
      ]
    },
    {
      "cell_type": "markdown",
      "metadata": {
        "id": "6iVrbLMbPK12",
        "colab_type": "text"
      },
      "source": [
        "## Data By Country\n",
        "\n",
        "\n"
      ]
    },
    {
      "cell_type": "markdown",
      "metadata": {
        "id": "WmgHcHDV8YwI",
        "colab_type": "text"
      },
      "source": [
        "So far, we have data by 3 geographical levels: Country, State and a lower level called Admin2"
      ]
    },
    {
      "cell_type": "markdown",
      "metadata": {
        "id": "Q27Z37fC8qp3",
        "colab_type": "text"
      },
      "source": [
        "The problem is that not all countries have this level of information, so I will create a new dataset only with the country level data"
      ]
    },
    {
      "cell_type": "code",
      "metadata": {
        "id": "HdFBOvQnoHyb",
        "colab_type": "code",
        "outputId": "8dbf552d-9b02-43a5-bfdb-9dc7ca6de96e",
        "colab": {
          "base_uri": "https://localhost:8080/",
          "height": 329
        }
      },
      "source": [
        "data_by_country = data.groupby([\"Date\", \"Country\"]).agg(\"sum\").reset_index()\n",
        "data_by_country = data_by_country.sort_values(['Country', 'Date'])\n",
        "data_by_country.info()"
      ],
      "execution_count": 26,
      "outputs": [
        {
          "output_type": "stream",
          "text": [
            "<class 'pandas.core.frame.DataFrame'>\n",
            "Int64Index: 8928 entries, 848 to 3045\n",
            "Data columns (total 10 columns):\n",
            " #   Column         Non-Null Count  Dtype         \n",
            "---  ------         --------------  -----         \n",
            " 0   Date           8928 non-null   datetime64[ns]\n",
            " 1   Country        8928 non-null   object        \n",
            " 2   ConfirmedAcum  8928 non-null   float64       \n",
            " 3   DeathsAcum     8928 non-null   float64       \n",
            " 4   RecoveredAcum  8928 non-null   float64       \n",
            " 5   ActiveAcum     8928 non-null   float64       \n",
            " 6   Confirmed      8928 non-null   float64       \n",
            " 7   Deaths         8928 non-null   float64       \n",
            " 8   Recovered      8928 non-null   float64       \n",
            " 9   Active         8928 non-null   float64       \n",
            "dtypes: datetime64[ns](1), float64(8), object(1)\n",
            "memory usage: 767.2+ KB\n"
          ],
          "name": "stdout"
        }
      ]
    },
    {
      "cell_type": "code",
      "metadata": {
        "id": "l4ZlhVtkoOUr",
        "colab_type": "code",
        "outputId": "03431fad-1f2c-4c07-e454-130089a26905",
        "colab": {
          "base_uri": "https://localhost:8080/",
          "height": 206
        }
      },
      "source": [
        "data_by_country.head()"
      ],
      "execution_count": 27,
      "outputs": [
        {
          "output_type": "execute_result",
          "data": {
            "text/html": [
              "<div>\n",
              "<style scoped>\n",
              "    .dataframe tbody tr th:only-of-type {\n",
              "        vertical-align: middle;\n",
              "    }\n",
              "\n",
              "    .dataframe tbody tr th {\n",
              "        vertical-align: top;\n",
              "    }\n",
              "\n",
              "    .dataframe thead th {\n",
              "        text-align: right;\n",
              "    }\n",
              "</style>\n",
              "<table border=\"1\" class=\"dataframe\">\n",
              "  <thead>\n",
              "    <tr style=\"text-align: right;\">\n",
              "      <th></th>\n",
              "      <th>Date</th>\n",
              "      <th>Country</th>\n",
              "      <th>ConfirmedAcum</th>\n",
              "      <th>DeathsAcum</th>\n",
              "      <th>RecoveredAcum</th>\n",
              "      <th>ActiveAcum</th>\n",
              "      <th>Confirmed</th>\n",
              "      <th>Deaths</th>\n",
              "      <th>Recovered</th>\n",
              "      <th>Active</th>\n",
              "    </tr>\n",
              "  </thead>\n",
              "  <tbody>\n",
              "    <tr>\n",
              "      <th>848</th>\n",
              "      <td>2020-02-24</td>\n",
              "      <td>Afghanistan</td>\n",
              "      <td>1.0</td>\n",
              "      <td>0.0</td>\n",
              "      <td>0.0</td>\n",
              "      <td>1.0</td>\n",
              "      <td>1.0</td>\n",
              "      <td>0.0</td>\n",
              "      <td>0.0</td>\n",
              "      <td>0.0</td>\n",
              "    </tr>\n",
              "    <tr>\n",
              "      <th>886</th>\n",
              "      <td>2020-02-25</td>\n",
              "      <td>Afghanistan</td>\n",
              "      <td>1.0</td>\n",
              "      <td>0.0</td>\n",
              "      <td>0.0</td>\n",
              "      <td>1.0</td>\n",
              "      <td>0.0</td>\n",
              "      <td>0.0</td>\n",
              "      <td>0.0</td>\n",
              "      <td>0.0</td>\n",
              "    </tr>\n",
              "    <tr>\n",
              "      <th>928</th>\n",
              "      <td>2020-02-26</td>\n",
              "      <td>Afghanistan</td>\n",
              "      <td>1.0</td>\n",
              "      <td>0.0</td>\n",
              "      <td>0.0</td>\n",
              "      <td>1.0</td>\n",
              "      <td>0.0</td>\n",
              "      <td>0.0</td>\n",
              "      <td>0.0</td>\n",
              "      <td>0.0</td>\n",
              "    </tr>\n",
              "    <tr>\n",
              "      <th>977</th>\n",
              "      <td>2020-02-27</td>\n",
              "      <td>Afghanistan</td>\n",
              "      <td>1.0</td>\n",
              "      <td>0.0</td>\n",
              "      <td>0.0</td>\n",
              "      <td>1.0</td>\n",
              "      <td>0.0</td>\n",
              "      <td>0.0</td>\n",
              "      <td>0.0</td>\n",
              "      <td>0.0</td>\n",
              "    </tr>\n",
              "    <tr>\n",
              "      <th>1030</th>\n",
              "      <td>2020-02-28</td>\n",
              "      <td>Afghanistan</td>\n",
              "      <td>1.0</td>\n",
              "      <td>0.0</td>\n",
              "      <td>0.0</td>\n",
              "      <td>1.0</td>\n",
              "      <td>0.0</td>\n",
              "      <td>0.0</td>\n",
              "      <td>0.0</td>\n",
              "      <td>0.0</td>\n",
              "    </tr>\n",
              "  </tbody>\n",
              "</table>\n",
              "</div>"
            ],
            "text/plain": [
              "           Date      Country  ConfirmedAcum  ...  Deaths  Recovered  Active\n",
              "848  2020-02-24  Afghanistan            1.0  ...     0.0        0.0     0.0\n",
              "886  2020-02-25  Afghanistan            1.0  ...     0.0        0.0     0.0\n",
              "928  2020-02-26  Afghanistan            1.0  ...     0.0        0.0     0.0\n",
              "977  2020-02-27  Afghanistan            1.0  ...     0.0        0.0     0.0\n",
              "1030 2020-02-28  Afghanistan            1.0  ...     0.0        0.0     0.0\n",
              "\n",
              "[5 rows x 10 columns]"
            ]
          },
          "metadata": {
            "tags": []
          },
          "execution_count": 27
        }
      ]
    },
    {
      "cell_type": "code",
      "metadata": {
        "id": "qEkuhtfkrW1l",
        "colab_type": "code",
        "outputId": "530d7b61-43fa-40e5-aeb9-d70d1f25c086",
        "colab": {
          "base_uri": "https://localhost:8080/",
          "height": 424
        }
      },
      "source": [
        "data_by_country[data_by_country.Country == 'United States']"
      ],
      "execution_count": 28,
      "outputs": [
        {
          "output_type": "execute_result",
          "data": {
            "text/html": [
              "<div>\n",
              "<style scoped>\n",
              "    .dataframe tbody tr th:only-of-type {\n",
              "        vertical-align: middle;\n",
              "    }\n",
              "\n",
              "    .dataframe tbody tr th {\n",
              "        vertical-align: top;\n",
              "    }\n",
              "\n",
              "    .dataframe thead th {\n",
              "        text-align: right;\n",
              "    }\n",
              "</style>\n",
              "<table border=\"1\" class=\"dataframe\">\n",
              "  <thead>\n",
              "    <tr style=\"text-align: right;\">\n",
              "      <th></th>\n",
              "      <th>Date</th>\n",
              "      <th>Country</th>\n",
              "      <th>ConfirmedAcum</th>\n",
              "      <th>DeathsAcum</th>\n",
              "      <th>RecoveredAcum</th>\n",
              "      <th>ActiveAcum</th>\n",
              "      <th>Confirmed</th>\n",
              "      <th>Deaths</th>\n",
              "      <th>Recovered</th>\n",
              "      <th>Active</th>\n",
              "    </tr>\n",
              "  </thead>\n",
              "  <tbody>\n",
              "    <tr>\n",
              "      <th>7</th>\n",
              "      <td>2020-01-22</td>\n",
              "      <td>United States</td>\n",
              "      <td>1.0</td>\n",
              "      <td>0.0</td>\n",
              "      <td>0.0</td>\n",
              "      <td>0.0</td>\n",
              "      <td>1.0</td>\n",
              "      <td>0.0</td>\n",
              "      <td>0.0</td>\n",
              "      <td>0.0</td>\n",
              "    </tr>\n",
              "    <tr>\n",
              "      <th>22</th>\n",
              "      <td>2020-01-23</td>\n",
              "      <td>United States</td>\n",
              "      <td>1.0</td>\n",
              "      <td>0.0</td>\n",
              "      <td>0.0</td>\n",
              "      <td>0.0</td>\n",
              "      <td>0.0</td>\n",
              "      <td>0.0</td>\n",
              "      <td>0.0</td>\n",
              "      <td>0.0</td>\n",
              "    </tr>\n",
              "    <tr>\n",
              "      <th>33</th>\n",
              "      <td>2020-01-24</td>\n",
              "      <td>United States</td>\n",
              "      <td>2.0</td>\n",
              "      <td>0.0</td>\n",
              "      <td>0.0</td>\n",
              "      <td>0.0</td>\n",
              "      <td>1.0</td>\n",
              "      <td>0.0</td>\n",
              "      <td>0.0</td>\n",
              "      <td>0.0</td>\n",
              "    </tr>\n",
              "    <tr>\n",
              "      <th>47</th>\n",
              "      <td>2020-01-25</td>\n",
              "      <td>United States</td>\n",
              "      <td>2.0</td>\n",
              "      <td>0.0</td>\n",
              "      <td>0.0</td>\n",
              "      <td>0.0</td>\n",
              "      <td>1.0</td>\n",
              "      <td>0.0</td>\n",
              "      <td>0.0</td>\n",
              "      <td>0.0</td>\n",
              "    </tr>\n",
              "    <tr>\n",
              "      <th>62</th>\n",
              "      <td>2020-01-26</td>\n",
              "      <td>United States</td>\n",
              "      <td>5.0</td>\n",
              "      <td>0.0</td>\n",
              "      <td>0.0</td>\n",
              "      <td>0.0</td>\n",
              "      <td>3.0</td>\n",
              "      <td>0.0</td>\n",
              "      <td>0.0</td>\n",
              "      <td>0.0</td>\n",
              "    </tr>\n",
              "    <tr>\n",
              "      <th>...</th>\n",
              "      <td>...</td>\n",
              "      <td>...</td>\n",
              "      <td>...</td>\n",
              "      <td>...</td>\n",
              "      <td>...</td>\n",
              "      <td>...</td>\n",
              "      <td>...</td>\n",
              "      <td>...</td>\n",
              "      <td>...</td>\n",
              "      <td>...</td>\n",
              "    </tr>\n",
              "    <tr>\n",
              "      <th>8183</th>\n",
              "      <td>2020-04-15</td>\n",
              "      <td>United States</td>\n",
              "      <td>636350.0</td>\n",
              "      <td>28325.0</td>\n",
              "      <td>52096.0</td>\n",
              "      <td>555929.0</td>\n",
              "      <td>28671.0</td>\n",
              "      <td>2494.0</td>\n",
              "      <td>4333.0</td>\n",
              "      <td>21844.0</td>\n",
              "    </tr>\n",
              "    <tr>\n",
              "      <th>8367</th>\n",
              "      <td>2020-04-16</td>\n",
              "      <td>United States</td>\n",
              "      <td>667801.0</td>\n",
              "      <td>32916.0</td>\n",
              "      <td>54703.0</td>\n",
              "      <td>580182.0</td>\n",
              "      <td>31449.0</td>\n",
              "      <td>4591.0</td>\n",
              "      <td>2607.0</td>\n",
              "      <td>24251.0</td>\n",
              "    </tr>\n",
              "    <tr>\n",
              "      <th>8551</th>\n",
              "      <td>2020-04-17</td>\n",
              "      <td>United States</td>\n",
              "      <td>699706.0</td>\n",
              "      <td>36773.0</td>\n",
              "      <td>58545.0</td>\n",
              "      <td>604388.0</td>\n",
              "      <td>31976.0</td>\n",
              "      <td>3857.0</td>\n",
              "      <td>3842.0</td>\n",
              "      <td>24277.0</td>\n",
              "    </tr>\n",
              "    <tr>\n",
              "      <th>8735</th>\n",
              "      <td>2020-04-18</td>\n",
              "      <td>United States</td>\n",
              "      <td>732197.0</td>\n",
              "      <td>38664.0</td>\n",
              "      <td>64840.0</td>\n",
              "      <td>628693.0</td>\n",
              "      <td>32491.0</td>\n",
              "      <td>1891.0</td>\n",
              "      <td>6295.0</td>\n",
              "      <td>24305.0</td>\n",
              "    </tr>\n",
              "    <tr>\n",
              "      <th>8919</th>\n",
              "      <td>2020-04-19</td>\n",
              "      <td>United States</td>\n",
              "      <td>759086.0</td>\n",
              "      <td>40661.0</td>\n",
              "      <td>70337.0</td>\n",
              "      <td>648088.0</td>\n",
              "      <td>27159.0</td>\n",
              "      <td>1997.0</td>\n",
              "      <td>5497.0</td>\n",
              "      <td>19397.0</td>\n",
              "    </tr>\n",
              "  </tbody>\n",
              "</table>\n",
              "<p>89 rows × 10 columns</p>\n",
              "</div>"
            ],
            "text/plain": [
              "           Date        Country  ConfirmedAcum  ...  Deaths  Recovered   Active\n",
              "7    2020-01-22  United States            1.0  ...     0.0        0.0      0.0\n",
              "22   2020-01-23  United States            1.0  ...     0.0        0.0      0.0\n",
              "33   2020-01-24  United States            2.0  ...     0.0        0.0      0.0\n",
              "47   2020-01-25  United States            2.0  ...     0.0        0.0      0.0\n",
              "62   2020-01-26  United States            5.0  ...     0.0        0.0      0.0\n",
              "...         ...            ...            ...  ...     ...        ...      ...\n",
              "8183 2020-04-15  United States       636350.0  ...  2494.0     4333.0  21844.0\n",
              "8367 2020-04-16  United States       667801.0  ...  4591.0     2607.0  24251.0\n",
              "8551 2020-04-17  United States       699706.0  ...  3857.0     3842.0  24277.0\n",
              "8735 2020-04-18  United States       732197.0  ...  1891.0     6295.0  24305.0\n",
              "8919 2020-04-19  United States       759086.0  ...  1997.0     5497.0  19397.0\n",
              "\n",
              "[89 rows x 10 columns]"
            ]
          },
          "metadata": {
            "tags": []
          },
          "execution_count": 28
        }
      ]
    },
    {
      "cell_type": "markdown",
      "metadata": {
        "id": "5SkKjf2zaM33",
        "colab_type": "text"
      },
      "source": [
        "## Cases per million inhabitants\n",
        "\n"
      ]
    },
    {
      "cell_type": "markdown",
      "metadata": {
        "id": "9Doq50kGLEzX",
        "colab_type": "text"
      },
      "source": [
        "We are going to enrich the information with the number of cases per million inhabitants, so we need population data by country.\n",
        "\n",
        "A small internet search leads me to a page that has population data for 2020:\n",
        "\n",
        "https://www.worldometers.info/world-population/population-by-country/\n",
        "\n",
        "It seems that this information is protected to be downloaded automatically so I have no choice but to do it manually and upload the data to a GitHub Repository:\n",
        "\n",
        "https://github.com/dvillaj/world-population/\n",
        "\n"
      ]
    },
    {
      "cell_type": "markdown",
      "metadata": {
        "id": "QJuioEUaMoVZ",
        "colab_type": "text"
      },
      "source": [
        "I load the data to the Pandas, clean it up and just maintain the field of the population \n"
      ]
    },
    {
      "cell_type": "code",
      "metadata": {
        "id": "MP-rwsGkeHRv",
        "colab_type": "code",
        "colab": {}
      },
      "source": [
        "population = pd.read_excel(\"https://github.com/dvillaj/world-population/blob/master/data/world-popultation-2020.xlsx?raw=true\", sheet_name=\"Data\")"
      ],
      "execution_count": 0,
      "outputs": []
    },
    {
      "cell_type": "code",
      "metadata": {
        "id": "KqTM6UkHeRXA",
        "colab_type": "code",
        "outputId": "69192a78-0402-4a89-d8eb-ed1033c35f7a",
        "colab": {
          "base_uri": "https://localhost:8080/",
          "height": 348
        }
      },
      "source": [
        "population.info()"
      ],
      "execution_count": 30,
      "outputs": [
        {
          "output_type": "stream",
          "text": [
            "<class 'pandas.core.frame.DataFrame'>\n",
            "RangeIndex: 235 entries, 0 to 234\n",
            "Data columns (total 11 columns):\n",
            " #   Column             Non-Null Count  Dtype  \n",
            "---  ------             --------------  -----  \n",
            " 0   Country            235 non-null    object \n",
            " 1   Population (2020)  235 non-null    int64  \n",
            " 2   Yearly Change      235 non-null    float64\n",
            " 3   Net Change         235 non-null    int64  \n",
            " 4   Density (P/Km²)    235 non-null    float64\n",
            " 5   Land Area (Km²)    235 non-null    int64  \n",
            " 6   Migrants (net)     201 non-null    float64\n",
            " 7   Fertility Rate     201 non-null    float64\n",
            " 8   Average Age        201 non-null    float64\n",
            " 9   Urban Pop %        222 non-null    float64\n",
            " 10  World Share        235 non-null    float64\n",
            "dtypes: float64(7), int64(3), object(1)\n",
            "memory usage: 20.3+ KB\n"
          ],
          "name": "stdout"
        }
      ]
    },
    {
      "cell_type": "code",
      "metadata": {
        "id": "fssvIxSPs_xR",
        "colab_type": "code",
        "colab": {}
      },
      "source": [
        "population = population.rename(columns = {\n",
        "    'Population (2020)' : 'Population',\n",
        "    'Yearly Change' : 'Yearly_Change',\n",
        "    'Net Change' : 'Net_Change',\n",
        "    'Density (P/Km²)' : 'Density',\n",
        "    'Land Area (Km²)' : 'Land_Area',\n",
        "    'Migrants (net)' : 'igrants',\n",
        "    'Fertility Rate' : 'Fertility',\n",
        "    'Average Age' : 'Mean_Age',\n",
        "    'Urban Pop %' : 'Urban_Pop',\n",
        "    'World Share' : 'World_Share'\n",
        "})"
      ],
      "execution_count": 0,
      "outputs": []
    },
    {
      "cell_type": "code",
      "metadata": {
        "id": "s7kZJnI1E3lT",
        "colab_type": "code",
        "colab": {}
      },
      "source": [
        "population = population[['Country', 'Population']]"
      ],
      "execution_count": 0,
      "outputs": []
    },
    {
      "cell_type": "code",
      "metadata": {
        "id": "sgeL52pNrCR6",
        "colab_type": "code",
        "outputId": "8db6045c-fb56-4fe5-f802-3b0e2014ca9b",
        "colab": {
          "base_uri": "https://localhost:8080/",
          "height": 206
        }
      },
      "source": [
        "population.head()"
      ],
      "execution_count": 33,
      "outputs": [
        {
          "output_type": "execute_result",
          "data": {
            "text/html": [
              "<div>\n",
              "<style scoped>\n",
              "    .dataframe tbody tr th:only-of-type {\n",
              "        vertical-align: middle;\n",
              "    }\n",
              "\n",
              "    .dataframe tbody tr th {\n",
              "        vertical-align: top;\n",
              "    }\n",
              "\n",
              "    .dataframe thead th {\n",
              "        text-align: right;\n",
              "    }\n",
              "</style>\n",
              "<table border=\"1\" class=\"dataframe\">\n",
              "  <thead>\n",
              "    <tr style=\"text-align: right;\">\n",
              "      <th></th>\n",
              "      <th>Country</th>\n",
              "      <th>Population</th>\n",
              "    </tr>\n",
              "  </thead>\n",
              "  <tbody>\n",
              "    <tr>\n",
              "      <th>0</th>\n",
              "      <td>Afghanistan</td>\n",
              "      <td>38928346</td>\n",
              "    </tr>\n",
              "    <tr>\n",
              "      <th>1</th>\n",
              "      <td>Albania</td>\n",
              "      <td>2877797</td>\n",
              "    </tr>\n",
              "    <tr>\n",
              "      <th>2</th>\n",
              "      <td>Algeria</td>\n",
              "      <td>43851044</td>\n",
              "    </tr>\n",
              "    <tr>\n",
              "      <th>3</th>\n",
              "      <td>American Samoa</td>\n",
              "      <td>55191</td>\n",
              "    </tr>\n",
              "    <tr>\n",
              "      <th>4</th>\n",
              "      <td>Andorra</td>\n",
              "      <td>77265</td>\n",
              "    </tr>\n",
              "  </tbody>\n",
              "</table>\n",
              "</div>"
            ],
            "text/plain": [
              "          Country  Population\n",
              "0     Afghanistan    38928346\n",
              "1         Albania     2877797\n",
              "2         Algeria    43851044\n",
              "3  American Samoa       55191\n",
              "4         Andorra       77265"
            ]
          },
          "metadata": {
            "tags": []
          },
          "execution_count": 33
        }
      ]
    },
    {
      "cell_type": "markdown",
      "metadata": {
        "id": "0KKRRJK7M_WN",
        "colab_type": "text"
      },
      "source": [
        "Now I join the population Dataset with the country data to have the population in this dataset"
      ]
    },
    {
      "cell_type": "code",
      "metadata": {
        "id": "FlmyQ_H0xLbP",
        "colab_type": "code",
        "colab": {}
      },
      "source": [
        "data_by_country = data_by_country.merge(population, how = 'left', on = 'Country')"
      ],
      "execution_count": 0,
      "outputs": []
    },
    {
      "cell_type": "code",
      "metadata": {
        "id": "mFuMJ5XvmBIF",
        "colab_type": "code",
        "outputId": "75e2850e-4d2e-4778-e67c-877c5c8a3dbe",
        "colab": {
          "base_uri": "https://localhost:8080/",
          "height": 348
        }
      },
      "source": [
        "data_by_country.info()"
      ],
      "execution_count": 35,
      "outputs": [
        {
          "output_type": "stream",
          "text": [
            "<class 'pandas.core.frame.DataFrame'>\n",
            "Int64Index: 8928 entries, 0 to 8927\n",
            "Data columns (total 11 columns):\n",
            " #   Column         Non-Null Count  Dtype         \n",
            "---  ------         --------------  -----         \n",
            " 0   Date           8928 non-null   datetime64[ns]\n",
            " 1   Country        8928 non-null   object        \n",
            " 2   ConfirmedAcum  8928 non-null   float64       \n",
            " 3   DeathsAcum     8928 non-null   float64       \n",
            " 4   RecoveredAcum  8928 non-null   float64       \n",
            " 5   ActiveAcum     8928 non-null   float64       \n",
            " 6   Confirmed      8928 non-null   float64       \n",
            " 7   Deaths         8928 non-null   float64       \n",
            " 8   Recovered      8928 non-null   float64       \n",
            " 9   Active         8928 non-null   float64       \n",
            " 10  Population     8605 non-null   float64       \n",
            "dtypes: datetime64[ns](1), float64(9), object(1)\n",
            "memory usage: 837.0+ KB\n"
          ],
          "name": "stdout"
        }
      ]
    },
    {
      "cell_type": "code",
      "metadata": {
        "id": "A-TiQcLCFGaw",
        "colab_type": "code",
        "outputId": "31ae9a68-0e67-438b-f390-19bbf946e474",
        "colab": {
          "base_uri": "https://localhost:8080/",
          "height": 206
        }
      },
      "source": [
        "data_by_country.head()"
      ],
      "execution_count": 36,
      "outputs": [
        {
          "output_type": "execute_result",
          "data": {
            "text/html": [
              "<div>\n",
              "<style scoped>\n",
              "    .dataframe tbody tr th:only-of-type {\n",
              "        vertical-align: middle;\n",
              "    }\n",
              "\n",
              "    .dataframe tbody tr th {\n",
              "        vertical-align: top;\n",
              "    }\n",
              "\n",
              "    .dataframe thead th {\n",
              "        text-align: right;\n",
              "    }\n",
              "</style>\n",
              "<table border=\"1\" class=\"dataframe\">\n",
              "  <thead>\n",
              "    <tr style=\"text-align: right;\">\n",
              "      <th></th>\n",
              "      <th>Date</th>\n",
              "      <th>Country</th>\n",
              "      <th>ConfirmedAcum</th>\n",
              "      <th>DeathsAcum</th>\n",
              "      <th>RecoveredAcum</th>\n",
              "      <th>ActiveAcum</th>\n",
              "      <th>Confirmed</th>\n",
              "      <th>Deaths</th>\n",
              "      <th>Recovered</th>\n",
              "      <th>Active</th>\n",
              "      <th>Population</th>\n",
              "    </tr>\n",
              "  </thead>\n",
              "  <tbody>\n",
              "    <tr>\n",
              "      <th>0</th>\n",
              "      <td>2020-02-24</td>\n",
              "      <td>Afghanistan</td>\n",
              "      <td>1.0</td>\n",
              "      <td>0.0</td>\n",
              "      <td>0.0</td>\n",
              "      <td>1.0</td>\n",
              "      <td>1.0</td>\n",
              "      <td>0.0</td>\n",
              "      <td>0.0</td>\n",
              "      <td>0.0</td>\n",
              "      <td>38928346.0</td>\n",
              "    </tr>\n",
              "    <tr>\n",
              "      <th>1</th>\n",
              "      <td>2020-02-25</td>\n",
              "      <td>Afghanistan</td>\n",
              "      <td>1.0</td>\n",
              "      <td>0.0</td>\n",
              "      <td>0.0</td>\n",
              "      <td>1.0</td>\n",
              "      <td>0.0</td>\n",
              "      <td>0.0</td>\n",
              "      <td>0.0</td>\n",
              "      <td>0.0</td>\n",
              "      <td>38928346.0</td>\n",
              "    </tr>\n",
              "    <tr>\n",
              "      <th>2</th>\n",
              "      <td>2020-02-26</td>\n",
              "      <td>Afghanistan</td>\n",
              "      <td>1.0</td>\n",
              "      <td>0.0</td>\n",
              "      <td>0.0</td>\n",
              "      <td>1.0</td>\n",
              "      <td>0.0</td>\n",
              "      <td>0.0</td>\n",
              "      <td>0.0</td>\n",
              "      <td>0.0</td>\n",
              "      <td>38928346.0</td>\n",
              "    </tr>\n",
              "    <tr>\n",
              "      <th>3</th>\n",
              "      <td>2020-02-27</td>\n",
              "      <td>Afghanistan</td>\n",
              "      <td>1.0</td>\n",
              "      <td>0.0</td>\n",
              "      <td>0.0</td>\n",
              "      <td>1.0</td>\n",
              "      <td>0.0</td>\n",
              "      <td>0.0</td>\n",
              "      <td>0.0</td>\n",
              "      <td>0.0</td>\n",
              "      <td>38928346.0</td>\n",
              "    </tr>\n",
              "    <tr>\n",
              "      <th>4</th>\n",
              "      <td>2020-02-28</td>\n",
              "      <td>Afghanistan</td>\n",
              "      <td>1.0</td>\n",
              "      <td>0.0</td>\n",
              "      <td>0.0</td>\n",
              "      <td>1.0</td>\n",
              "      <td>0.0</td>\n",
              "      <td>0.0</td>\n",
              "      <td>0.0</td>\n",
              "      <td>0.0</td>\n",
              "      <td>38928346.0</td>\n",
              "    </tr>\n",
              "  </tbody>\n",
              "</table>\n",
              "</div>"
            ],
            "text/plain": [
              "        Date      Country  ConfirmedAcum  ...  Recovered  Active  Population\n",
              "0 2020-02-24  Afghanistan            1.0  ...        0.0     0.0  38928346.0\n",
              "1 2020-02-25  Afghanistan            1.0  ...        0.0     0.0  38928346.0\n",
              "2 2020-02-26  Afghanistan            1.0  ...        0.0     0.0  38928346.0\n",
              "3 2020-02-27  Afghanistan            1.0  ...        0.0     0.0  38928346.0\n",
              "4 2020-02-28  Afghanistan            1.0  ...        0.0     0.0  38928346.0\n",
              "\n",
              "[5 rows x 11 columns]"
            ]
          },
          "metadata": {
            "tags": []
          },
          "execution_count": 36
        }
      ]
    },
    {
      "cell_type": "markdown",
      "metadata": {
        "id": "tLyawi0QNN8E",
        "colab_type": "text"
      },
      "source": [
        "And finally I calculate the number of cases per million inhabitants"
      ]
    },
    {
      "cell_type": "code",
      "metadata": {
        "id": "Q3B760gwH1JI",
        "colab_type": "code",
        "outputId": "26a0f6cf-f274-457c-a92a-2550804b473e",
        "colab": {
          "base_uri": "https://localhost:8080/",
          "height": 206
        }
      },
      "source": [
        "data_by_country = data_by_country.assign(ConfirmedAcum_Millon = data_by_country.ConfirmedAcum / data_by_country.Population * 1000000)\n",
        "data_by_country.head()"
      ],
      "execution_count": 37,
      "outputs": [
        {
          "output_type": "execute_result",
          "data": {
            "text/html": [
              "<div>\n",
              "<style scoped>\n",
              "    .dataframe tbody tr th:only-of-type {\n",
              "        vertical-align: middle;\n",
              "    }\n",
              "\n",
              "    .dataframe tbody tr th {\n",
              "        vertical-align: top;\n",
              "    }\n",
              "\n",
              "    .dataframe thead th {\n",
              "        text-align: right;\n",
              "    }\n",
              "</style>\n",
              "<table border=\"1\" class=\"dataframe\">\n",
              "  <thead>\n",
              "    <tr style=\"text-align: right;\">\n",
              "      <th></th>\n",
              "      <th>Date</th>\n",
              "      <th>Country</th>\n",
              "      <th>ConfirmedAcum</th>\n",
              "      <th>DeathsAcum</th>\n",
              "      <th>RecoveredAcum</th>\n",
              "      <th>ActiveAcum</th>\n",
              "      <th>Confirmed</th>\n",
              "      <th>Deaths</th>\n",
              "      <th>Recovered</th>\n",
              "      <th>Active</th>\n",
              "      <th>Population</th>\n",
              "      <th>ConfirmedAcum_Millon</th>\n",
              "    </tr>\n",
              "  </thead>\n",
              "  <tbody>\n",
              "    <tr>\n",
              "      <th>0</th>\n",
              "      <td>2020-02-24</td>\n",
              "      <td>Afghanistan</td>\n",
              "      <td>1.0</td>\n",
              "      <td>0.0</td>\n",
              "      <td>0.0</td>\n",
              "      <td>1.0</td>\n",
              "      <td>1.0</td>\n",
              "      <td>0.0</td>\n",
              "      <td>0.0</td>\n",
              "      <td>0.0</td>\n",
              "      <td>38928346.0</td>\n",
              "      <td>0.025688</td>\n",
              "    </tr>\n",
              "    <tr>\n",
              "      <th>1</th>\n",
              "      <td>2020-02-25</td>\n",
              "      <td>Afghanistan</td>\n",
              "      <td>1.0</td>\n",
              "      <td>0.0</td>\n",
              "      <td>0.0</td>\n",
              "      <td>1.0</td>\n",
              "      <td>0.0</td>\n",
              "      <td>0.0</td>\n",
              "      <td>0.0</td>\n",
              "      <td>0.0</td>\n",
              "      <td>38928346.0</td>\n",
              "      <td>0.025688</td>\n",
              "    </tr>\n",
              "    <tr>\n",
              "      <th>2</th>\n",
              "      <td>2020-02-26</td>\n",
              "      <td>Afghanistan</td>\n",
              "      <td>1.0</td>\n",
              "      <td>0.0</td>\n",
              "      <td>0.0</td>\n",
              "      <td>1.0</td>\n",
              "      <td>0.0</td>\n",
              "      <td>0.0</td>\n",
              "      <td>0.0</td>\n",
              "      <td>0.0</td>\n",
              "      <td>38928346.0</td>\n",
              "      <td>0.025688</td>\n",
              "    </tr>\n",
              "    <tr>\n",
              "      <th>3</th>\n",
              "      <td>2020-02-27</td>\n",
              "      <td>Afghanistan</td>\n",
              "      <td>1.0</td>\n",
              "      <td>0.0</td>\n",
              "      <td>0.0</td>\n",
              "      <td>1.0</td>\n",
              "      <td>0.0</td>\n",
              "      <td>0.0</td>\n",
              "      <td>0.0</td>\n",
              "      <td>0.0</td>\n",
              "      <td>38928346.0</td>\n",
              "      <td>0.025688</td>\n",
              "    </tr>\n",
              "    <tr>\n",
              "      <th>4</th>\n",
              "      <td>2020-02-28</td>\n",
              "      <td>Afghanistan</td>\n",
              "      <td>1.0</td>\n",
              "      <td>0.0</td>\n",
              "      <td>0.0</td>\n",
              "      <td>1.0</td>\n",
              "      <td>0.0</td>\n",
              "      <td>0.0</td>\n",
              "      <td>0.0</td>\n",
              "      <td>0.0</td>\n",
              "      <td>38928346.0</td>\n",
              "      <td>0.025688</td>\n",
              "    </tr>\n",
              "  </tbody>\n",
              "</table>\n",
              "</div>"
            ],
            "text/plain": [
              "        Date      Country  ...  Population  ConfirmedAcum_Millon\n",
              "0 2020-02-24  Afghanistan  ...  38928346.0              0.025688\n",
              "1 2020-02-25  Afghanistan  ...  38928346.0              0.025688\n",
              "2 2020-02-26  Afghanistan  ...  38928346.0              0.025688\n",
              "3 2020-02-27  Afghanistan  ...  38928346.0              0.025688\n",
              "4 2020-02-28  Afghanistan  ...  38928346.0              0.025688\n",
              "\n",
              "[5 rows x 12 columns]"
            ]
          },
          "metadata": {
            "tags": []
          },
          "execution_count": 37
        }
      ]
    },
    {
      "cell_type": "markdown",
      "metadata": {
        "id": "Vke4moEnmMci",
        "colab_type": "text"
      },
      "source": [
        "## Rankins"
      ]
    },
    {
      "cell_type": "markdown",
      "metadata": {
        "id": "6PFpzjJPNXlx",
        "colab_type": "text"
      },
      "source": [
        "I'm going to create a dataset of last day's cases. \n",
        "\n",
        "The goal is to get a set of rankings that tell me the countries with the most cases\n",
        "\n",
        "So I need a variable that contains the last date of the dataset"
      ]
    },
    {
      "cell_type": "code",
      "metadata": {
        "id": "fpjj8I1gIDkH",
        "colab_type": "code",
        "outputId": "13bf9b1e-1154-4231-9131-67d2bdc2ee5d",
        "colab": {
          "base_uri": "https://localhost:8080/",
          "height": 35
        }
      },
      "source": [
        "last_day = list(data_by_country.Date.sort_values(ascending = False))[0]\n",
        "last_day"
      ],
      "execution_count": 38,
      "outputs": [
        {
          "output_type": "execute_result",
          "data": {
            "text/plain": [
              "Timestamp('2020-04-19 00:00:00')"
            ]
          },
          "metadata": {
            "tags": []
          },
          "execution_count": 38
        }
      ]
    },
    {
      "cell_type": "markdown",
      "metadata": {
        "id": "iNaG20HENndT",
        "colab_type": "text"
      },
      "source": [
        "Now I can filter the data by this date"
      ]
    },
    {
      "cell_type": "code",
      "metadata": {
        "id": "5xYLSoqXIH7o",
        "colab_type": "code",
        "outputId": "af33fda7-60e6-4859-e5d6-ba4b6a9c80c6",
        "colab": {
          "base_uri": "https://localhost:8080/",
          "height": 366
        }
      },
      "source": [
        "last_day_data = data_by_country[data_by_country.Date == last_day]\n",
        "last_day_data.info()"
      ],
      "execution_count": 39,
      "outputs": [
        {
          "output_type": "stream",
          "text": [
            "<class 'pandas.core.frame.DataFrame'>\n",
            "Int64Index: 184 entries, 55 to 8920\n",
            "Data columns (total 12 columns):\n",
            " #   Column                Non-Null Count  Dtype         \n",
            "---  ------                --------------  -----         \n",
            " 0   Date                  184 non-null    datetime64[ns]\n",
            " 1   Country               184 non-null    object        \n",
            " 2   ConfirmedAcum         184 non-null    float64       \n",
            " 3   DeathsAcum            184 non-null    float64       \n",
            " 4   RecoveredAcum         184 non-null    float64       \n",
            " 5   ActiveAcum            184 non-null    float64       \n",
            " 6   Confirmed             184 non-null    float64       \n",
            " 7   Deaths                184 non-null    float64       \n",
            " 8   Recovered             184 non-null    float64       \n",
            " 9   Active                184 non-null    float64       \n",
            " 10  Population            178 non-null    float64       \n",
            " 11  ConfirmedAcum_Millon  178 non-null    float64       \n",
            "dtypes: datetime64[ns](1), float64(10), object(1)\n",
            "memory usage: 18.7+ KB\n"
          ],
          "name": "stdout"
        }
      ]
    },
    {
      "cell_type": "code",
      "metadata": {
        "id": "cwirZFd_IK0I",
        "colab_type": "code",
        "outputId": "7e4517af-0205-4685-e7f3-dea3c19b9329",
        "colab": {
          "base_uri": "https://localhost:8080/",
          "height": 424
        }
      },
      "source": [
        "last_day_data"
      ],
      "execution_count": 40,
      "outputs": [
        {
          "output_type": "execute_result",
          "data": {
            "text/html": [
              "<div>\n",
              "<style scoped>\n",
              "    .dataframe tbody tr th:only-of-type {\n",
              "        vertical-align: middle;\n",
              "    }\n",
              "\n",
              "    .dataframe tbody tr th {\n",
              "        vertical-align: top;\n",
              "    }\n",
              "\n",
              "    .dataframe thead th {\n",
              "        text-align: right;\n",
              "    }\n",
              "</style>\n",
              "<table border=\"1\" class=\"dataframe\">\n",
              "  <thead>\n",
              "    <tr style=\"text-align: right;\">\n",
              "      <th></th>\n",
              "      <th>Date</th>\n",
              "      <th>Country</th>\n",
              "      <th>ConfirmedAcum</th>\n",
              "      <th>DeathsAcum</th>\n",
              "      <th>RecoveredAcum</th>\n",
              "      <th>ActiveAcum</th>\n",
              "      <th>Confirmed</th>\n",
              "      <th>Deaths</th>\n",
              "      <th>Recovered</th>\n",
              "      <th>Active</th>\n",
              "      <th>Population</th>\n",
              "      <th>ConfirmedAcum_Millon</th>\n",
              "    </tr>\n",
              "  </thead>\n",
              "  <tbody>\n",
              "    <tr>\n",
              "      <th>55</th>\n",
              "      <td>2020-04-19</td>\n",
              "      <td>Afghanistan</td>\n",
              "      <td>996.0</td>\n",
              "      <td>33.0</td>\n",
              "      <td>131.0</td>\n",
              "      <td>832.0</td>\n",
              "      <td>63.0</td>\n",
              "      <td>3.0</td>\n",
              "      <td>19.0</td>\n",
              "      <td>41.0</td>\n",
              "      <td>38928346.0</td>\n",
              "      <td>25.585469</td>\n",
              "    </tr>\n",
              "    <tr>\n",
              "      <th>97</th>\n",
              "      <td>2020-04-19</td>\n",
              "      <td>Albania</td>\n",
              "      <td>562.0</td>\n",
              "      <td>26.0</td>\n",
              "      <td>314.0</td>\n",
              "      <td>222.0</td>\n",
              "      <td>14.0</td>\n",
              "      <td>0.0</td>\n",
              "      <td>12.0</td>\n",
              "      <td>2.0</td>\n",
              "      <td>2877797.0</td>\n",
              "      <td>195.288271</td>\n",
              "    </tr>\n",
              "    <tr>\n",
              "      <th>152</th>\n",
              "      <td>2020-04-19</td>\n",
              "      <td>Algeria</td>\n",
              "      <td>2629.0</td>\n",
              "      <td>375.0</td>\n",
              "      <td>1047.0</td>\n",
              "      <td>1207.0</td>\n",
              "      <td>95.0</td>\n",
              "      <td>8.0</td>\n",
              "      <td>153.0</td>\n",
              "      <td>-66.0</td>\n",
              "      <td>43851044.0</td>\n",
              "      <td>59.952963</td>\n",
              "    </tr>\n",
              "    <tr>\n",
              "      <th>201</th>\n",
              "      <td>2020-04-19</td>\n",
              "      <td>Andorra</td>\n",
              "      <td>713.0</td>\n",
              "      <td>36.0</td>\n",
              "      <td>235.0</td>\n",
              "      <td>442.0</td>\n",
              "      <td>9.0</td>\n",
              "      <td>1.0</td>\n",
              "      <td>30.0</td>\n",
              "      <td>-22.0</td>\n",
              "      <td>77265.0</td>\n",
              "      <td>9227.981622</td>\n",
              "    </tr>\n",
              "    <tr>\n",
              "      <th>232</th>\n",
              "      <td>2020-04-19</td>\n",
              "      <td>Angola</td>\n",
              "      <td>24.0</td>\n",
              "      <td>2.0</td>\n",
              "      <td>6.0</td>\n",
              "      <td>16.0</td>\n",
              "      <td>0.0</td>\n",
              "      <td>0.0</td>\n",
              "      <td>0.0</td>\n",
              "      <td>0.0</td>\n",
              "      <td>32866272.0</td>\n",
              "      <td>0.730232</td>\n",
              "    </tr>\n",
              "    <tr>\n",
              "      <th>...</th>\n",
              "      <td>...</td>\n",
              "      <td>...</td>\n",
              "      <td>...</td>\n",
              "      <td>...</td>\n",
              "      <td>...</td>\n",
              "      <td>...</td>\n",
              "      <td>...</td>\n",
              "      <td>...</td>\n",
              "      <td>...</td>\n",
              "      <td>...</td>\n",
              "      <td>...</td>\n",
              "      <td>...</td>\n",
              "    </tr>\n",
              "    <tr>\n",
              "      <th>8831</th>\n",
              "      <td>2020-04-19</td>\n",
              "      <td>Vietnam</td>\n",
              "      <td>268.0</td>\n",
              "      <td>0.0</td>\n",
              "      <td>202.0</td>\n",
              "      <td>66.0</td>\n",
              "      <td>0.0</td>\n",
              "      <td>0.0</td>\n",
              "      <td>1.0</td>\n",
              "      <td>-1.0</td>\n",
              "      <td>97338579.0</td>\n",
              "      <td>2.753276</td>\n",
              "    </tr>\n",
              "    <tr>\n",
              "      <th>8846</th>\n",
              "      <td>2020-04-19</td>\n",
              "      <td>Western Sahara</td>\n",
              "      <td>6.0</td>\n",
              "      <td>0.0</td>\n",
              "      <td>0.0</td>\n",
              "      <td>6.0</td>\n",
              "      <td>0.0</td>\n",
              "      <td>0.0</td>\n",
              "      <td>0.0</td>\n",
              "      <td>0.0</td>\n",
              "      <td>597339.0</td>\n",
              "      <td>10.044548</td>\n",
              "    </tr>\n",
              "    <tr>\n",
              "      <th>8856</th>\n",
              "      <td>2020-04-19</td>\n",
              "      <td>Yemen</td>\n",
              "      <td>1.0</td>\n",
              "      <td>0.0</td>\n",
              "      <td>0.0</td>\n",
              "      <td>1.0</td>\n",
              "      <td>0.0</td>\n",
              "      <td>0.0</td>\n",
              "      <td>0.0</td>\n",
              "      <td>0.0</td>\n",
              "      <td>29825964.0</td>\n",
              "      <td>0.033528</td>\n",
              "    </tr>\n",
              "    <tr>\n",
              "      <th>8889</th>\n",
              "      <td>2020-04-19</td>\n",
              "      <td>Zambia</td>\n",
              "      <td>61.0</td>\n",
              "      <td>3.0</td>\n",
              "      <td>33.0</td>\n",
              "      <td>25.0</td>\n",
              "      <td>4.0</td>\n",
              "      <td>1.0</td>\n",
              "      <td>0.0</td>\n",
              "      <td>3.0</td>\n",
              "      <td>18383955.0</td>\n",
              "      <td>3.318111</td>\n",
              "    </tr>\n",
              "    <tr>\n",
              "      <th>8920</th>\n",
              "      <td>2020-04-19</td>\n",
              "      <td>Zimbabwe</td>\n",
              "      <td>25.0</td>\n",
              "      <td>3.0</td>\n",
              "      <td>2.0</td>\n",
              "      <td>20.0</td>\n",
              "      <td>0.0</td>\n",
              "      <td>0.0</td>\n",
              "      <td>0.0</td>\n",
              "      <td>0.0</td>\n",
              "      <td>14862924.0</td>\n",
              "      <td>1.682038</td>\n",
              "    </tr>\n",
              "  </tbody>\n",
              "</table>\n",
              "<p>184 rows × 12 columns</p>\n",
              "</div>"
            ],
            "text/plain": [
              "           Date         Country  ...  Population  ConfirmedAcum_Millon\n",
              "55   2020-04-19     Afghanistan  ...  38928346.0             25.585469\n",
              "97   2020-04-19         Albania  ...   2877797.0            195.288271\n",
              "152  2020-04-19         Algeria  ...  43851044.0             59.952963\n",
              "201  2020-04-19         Andorra  ...     77265.0           9227.981622\n",
              "232  2020-04-19          Angola  ...  32866272.0              0.730232\n",
              "...         ...             ...  ...         ...                   ...\n",
              "8831 2020-04-19         Vietnam  ...  97338579.0              2.753276\n",
              "8846 2020-04-19  Western Sahara  ...    597339.0             10.044548\n",
              "8856 2020-04-19           Yemen  ...  29825964.0              0.033528\n",
              "8889 2020-04-19          Zambia  ...  18383955.0              3.318111\n",
              "8920 2020-04-19        Zimbabwe  ...  14862924.0              1.682038\n",
              "\n",
              "[184 rows x 12 columns]"
            ]
          },
          "metadata": {
            "tags": []
          },
          "execution_count": 40
        }
      ]
    },
    {
      "cell_type": "markdown",
      "metadata": {
        "id": "mmTBsUOROG6s",
        "colab_type": "text"
      },
      "source": [
        "Let's assign new columns with the most interesting rankins ..."
      ]
    },
    {
      "cell_type": "code",
      "metadata": {
        "id": "6jBUyahqINJ6",
        "colab_type": "code",
        "outputId": "7a509013-fbab-43f6-d92b-264de155768d",
        "colab": {
          "base_uri": "https://localhost:8080/",
          "height": 424
        }
      },
      "source": [
        "last_day_data = last_day_data.assign(\n",
        "    Rank_ConfirmedAcum = last_day_data.ConfirmedAcum.rank(),\n",
        "    Rank_Confirmed = last_day_data.Confirmed.rank(),\n",
        "    Rank_ActiveAcum = last_day_data.ActiveAcum.rank(),\n",
        "    Rank_Active = last_day_data.Active.rank(),\n",
        "    Rank_ConfirmedAcum_Millon = last_day_data.ConfirmedAcum_Millon.rank()\n",
        ")\n",
        "last_day_data"
      ],
      "execution_count": 41,
      "outputs": [
        {
          "output_type": "execute_result",
          "data": {
            "text/html": [
              "<div>\n",
              "<style scoped>\n",
              "    .dataframe tbody tr th:only-of-type {\n",
              "        vertical-align: middle;\n",
              "    }\n",
              "\n",
              "    .dataframe tbody tr th {\n",
              "        vertical-align: top;\n",
              "    }\n",
              "\n",
              "    .dataframe thead th {\n",
              "        text-align: right;\n",
              "    }\n",
              "</style>\n",
              "<table border=\"1\" class=\"dataframe\">\n",
              "  <thead>\n",
              "    <tr style=\"text-align: right;\">\n",
              "      <th></th>\n",
              "      <th>Date</th>\n",
              "      <th>Country</th>\n",
              "      <th>ConfirmedAcum</th>\n",
              "      <th>DeathsAcum</th>\n",
              "      <th>RecoveredAcum</th>\n",
              "      <th>ActiveAcum</th>\n",
              "      <th>Confirmed</th>\n",
              "      <th>Deaths</th>\n",
              "      <th>Recovered</th>\n",
              "      <th>Active</th>\n",
              "      <th>Population</th>\n",
              "      <th>ConfirmedAcum_Millon</th>\n",
              "      <th>Rank_ConfirmedAcum</th>\n",
              "      <th>Rank_Confirmed</th>\n",
              "      <th>Rank_ActiveAcum</th>\n",
              "      <th>Rank_Active</th>\n",
              "      <th>Rank_ConfirmedAcum_Millon</th>\n",
              "    </tr>\n",
              "  </thead>\n",
              "  <tbody>\n",
              "    <tr>\n",
              "      <th>55</th>\n",
              "      <td>2020-04-19</td>\n",
              "      <td>Afghanistan</td>\n",
              "      <td>996.0</td>\n",
              "      <td>33.0</td>\n",
              "      <td>131.0</td>\n",
              "      <td>832.0</td>\n",
              "      <td>63.0</td>\n",
              "      <td>3.0</td>\n",
              "      <td>19.0</td>\n",
              "      <td>41.0</td>\n",
              "      <td>38928346.0</td>\n",
              "      <td>25.585469</td>\n",
              "      <td>105.0</td>\n",
              "      <td>125.5</td>\n",
              "      <td>113.0</td>\n",
              "      <td>134.0</td>\n",
              "      <td>56.0</td>\n",
              "    </tr>\n",
              "    <tr>\n",
              "      <th>97</th>\n",
              "      <td>2020-04-19</td>\n",
              "      <td>Albania</td>\n",
              "      <td>562.0</td>\n",
              "      <td>26.0</td>\n",
              "      <td>314.0</td>\n",
              "      <td>222.0</td>\n",
              "      <td>14.0</td>\n",
              "      <td>0.0</td>\n",
              "      <td>12.0</td>\n",
              "      <td>2.0</td>\n",
              "      <td>2877797.0</td>\n",
              "      <td>195.288271</td>\n",
              "      <td>90.0</td>\n",
              "      <td>92.0</td>\n",
              "      <td>80.0</td>\n",
              "      <td>89.0</td>\n",
              "      <td>108.0</td>\n",
              "    </tr>\n",
              "    <tr>\n",
              "      <th>152</th>\n",
              "      <td>2020-04-19</td>\n",
              "      <td>Algeria</td>\n",
              "      <td>2629.0</td>\n",
              "      <td>375.0</td>\n",
              "      <td>1047.0</td>\n",
              "      <td>1207.0</td>\n",
              "      <td>95.0</td>\n",
              "      <td>8.0</td>\n",
              "      <td>153.0</td>\n",
              "      <td>-66.0</td>\n",
              "      <td>43851044.0</td>\n",
              "      <td>59.952963</td>\n",
              "      <td>130.0</td>\n",
              "      <td>136.0</td>\n",
              "      <td>123.0</td>\n",
              "      <td>12.0</td>\n",
              "      <td>80.0</td>\n",
              "    </tr>\n",
              "    <tr>\n",
              "      <th>201</th>\n",
              "      <td>2020-04-19</td>\n",
              "      <td>Andorra</td>\n",
              "      <td>713.0</td>\n",
              "      <td>36.0</td>\n",
              "      <td>235.0</td>\n",
              "      <td>442.0</td>\n",
              "      <td>9.0</td>\n",
              "      <td>1.0</td>\n",
              "      <td>30.0</td>\n",
              "      <td>-22.0</td>\n",
              "      <td>77265.0</td>\n",
              "      <td>9227.981622</td>\n",
              "      <td>98.0</td>\n",
              "      <td>82.5</td>\n",
              "      <td>93.0</td>\n",
              "      <td>18.0</td>\n",
              "      <td>176.0</td>\n",
              "    </tr>\n",
              "    <tr>\n",
              "      <th>232</th>\n",
              "      <td>2020-04-19</td>\n",
              "      <td>Angola</td>\n",
              "      <td>24.0</td>\n",
              "      <td>2.0</td>\n",
              "      <td>6.0</td>\n",
              "      <td>16.0</td>\n",
              "      <td>0.0</td>\n",
              "      <td>0.0</td>\n",
              "      <td>0.0</td>\n",
              "      <td>0.0</td>\n",
              "      <td>32866272.0</td>\n",
              "      <td>0.730232</td>\n",
              "      <td>30.0</td>\n",
              "      <td>24.0</td>\n",
              "      <td>25.5</td>\n",
              "      <td>61.0</td>\n",
              "      <td>4.0</td>\n",
              "    </tr>\n",
              "    <tr>\n",
              "      <th>...</th>\n",
              "      <td>...</td>\n",
              "      <td>...</td>\n",
              "      <td>...</td>\n",
              "      <td>...</td>\n",
              "      <td>...</td>\n",
              "      <td>...</td>\n",
              "      <td>...</td>\n",
              "      <td>...</td>\n",
              "      <td>...</td>\n",
              "      <td>...</td>\n",
              "      <td>...</td>\n",
              "      <td>...</td>\n",
              "      <td>...</td>\n",
              "      <td>...</td>\n",
              "      <td>...</td>\n",
              "      <td>...</td>\n",
              "      <td>...</td>\n",
              "    </tr>\n",
              "    <tr>\n",
              "      <th>8831</th>\n",
              "      <td>2020-04-19</td>\n",
              "      <td>Vietnam</td>\n",
              "      <td>268.0</td>\n",
              "      <td>0.0</td>\n",
              "      <td>202.0</td>\n",
              "      <td>66.0</td>\n",
              "      <td>0.0</td>\n",
              "      <td>0.0</td>\n",
              "      <td>1.0</td>\n",
              "      <td>-1.0</td>\n",
              "      <td>97338579.0</td>\n",
              "      <td>2.753276</td>\n",
              "      <td>72.0</td>\n",
              "      <td>24.0</td>\n",
              "      <td>56.0</td>\n",
              "      <td>38.5</td>\n",
              "      <td>19.0</td>\n",
              "    </tr>\n",
              "    <tr>\n",
              "      <th>8846</th>\n",
              "      <td>2020-04-19</td>\n",
              "      <td>Western Sahara</td>\n",
              "      <td>6.0</td>\n",
              "      <td>0.0</td>\n",
              "      <td>0.0</td>\n",
              "      <td>6.0</td>\n",
              "      <td>0.0</td>\n",
              "      <td>0.0</td>\n",
              "      <td>0.0</td>\n",
              "      <td>0.0</td>\n",
              "      <td>597339.0</td>\n",
              "      <td>10.044548</td>\n",
              "      <td>6.0</td>\n",
              "      <td>24.0</td>\n",
              "      <td>11.0</td>\n",
              "      <td>61.0</td>\n",
              "      <td>36.0</td>\n",
              "    </tr>\n",
              "    <tr>\n",
              "      <th>8856</th>\n",
              "      <td>2020-04-19</td>\n",
              "      <td>Yemen</td>\n",
              "      <td>1.0</td>\n",
              "      <td>0.0</td>\n",
              "      <td>0.0</td>\n",
              "      <td>1.0</td>\n",
              "      <td>0.0</td>\n",
              "      <td>0.0</td>\n",
              "      <td>0.0</td>\n",
              "      <td>0.0</td>\n",
              "      <td>29825964.0</td>\n",
              "      <td>0.033528</td>\n",
              "      <td>1.0</td>\n",
              "      <td>24.0</td>\n",
              "      <td>2.0</td>\n",
              "      <td>61.0</td>\n",
              "      <td>1.0</td>\n",
              "    </tr>\n",
              "    <tr>\n",
              "      <th>8889</th>\n",
              "      <td>2020-04-19</td>\n",
              "      <td>Zambia</td>\n",
              "      <td>61.0</td>\n",
              "      <td>3.0</td>\n",
              "      <td>33.0</td>\n",
              "      <td>25.0</td>\n",
              "      <td>4.0</td>\n",
              "      <td>1.0</td>\n",
              "      <td>0.0</td>\n",
              "      <td>3.0</td>\n",
              "      <td>18383955.0</td>\n",
              "      <td>3.318111</td>\n",
              "      <td>46.5</td>\n",
              "      <td>69.0</td>\n",
              "      <td>36.5</td>\n",
              "      <td>92.5</td>\n",
              "      <td>23.0</td>\n",
              "    </tr>\n",
              "    <tr>\n",
              "      <th>8920</th>\n",
              "      <td>2020-04-19</td>\n",
              "      <td>Zimbabwe</td>\n",
              "      <td>25.0</td>\n",
              "      <td>3.0</td>\n",
              "      <td>2.0</td>\n",
              "      <td>20.0</td>\n",
              "      <td>0.0</td>\n",
              "      <td>0.0</td>\n",
              "      <td>0.0</td>\n",
              "      <td>0.0</td>\n",
              "      <td>14862924.0</td>\n",
              "      <td>1.682038</td>\n",
              "      <td>31.0</td>\n",
              "      <td>24.0</td>\n",
              "      <td>33.0</td>\n",
              "      <td>61.0</td>\n",
              "      <td>14.0</td>\n",
              "    </tr>\n",
              "  </tbody>\n",
              "</table>\n",
              "<p>184 rows × 17 columns</p>\n",
              "</div>"
            ],
            "text/plain": [
              "           Date         Country  ...  Rank_Active  Rank_ConfirmedAcum_Millon\n",
              "55   2020-04-19     Afghanistan  ...        134.0                       56.0\n",
              "97   2020-04-19         Albania  ...         89.0                      108.0\n",
              "152  2020-04-19         Algeria  ...         12.0                       80.0\n",
              "201  2020-04-19         Andorra  ...         18.0                      176.0\n",
              "232  2020-04-19          Angola  ...         61.0                        4.0\n",
              "...         ...             ...  ...          ...                        ...\n",
              "8831 2020-04-19         Vietnam  ...         38.5                       19.0\n",
              "8846 2020-04-19  Western Sahara  ...         61.0                       36.0\n",
              "8856 2020-04-19           Yemen  ...         61.0                        1.0\n",
              "8889 2020-04-19          Zambia  ...         92.5                       23.0\n",
              "8920 2020-04-19        Zimbabwe  ...         61.0                       14.0\n",
              "\n",
              "[184 rows x 17 columns]"
            ]
          },
          "metadata": {
            "tags": []
          },
          "execution_count": 41
        }
      ]
    },
    {
      "cell_type": "markdown",
      "metadata": {
        "id": "HivVOvHXONay",
        "colab_type": "text"
      },
      "source": [
        "Which countries have the most confirmed cases?"
      ]
    },
    {
      "cell_type": "code",
      "metadata": {
        "id": "_7PM3zGbIPso",
        "colab_type": "code",
        "outputId": "34708633-ab15-4a04-9c58-3253714f4eba",
        "colab": {
          "base_uri": "https://localhost:8080/",
          "height": 363
        }
      },
      "source": [
        "last_day_data.sort_values('Rank_ConfirmedAcum', ascending = False)[['Country', 'ConfirmedAcum']].reset_index(drop = True).head(10)"
      ],
      "execution_count": 42,
      "outputs": [
        {
          "output_type": "execute_result",
          "data": {
            "text/html": [
              "<div>\n",
              "<style scoped>\n",
              "    .dataframe tbody tr th:only-of-type {\n",
              "        vertical-align: middle;\n",
              "    }\n",
              "\n",
              "    .dataframe tbody tr th {\n",
              "        vertical-align: top;\n",
              "    }\n",
              "\n",
              "    .dataframe thead th {\n",
              "        text-align: right;\n",
              "    }\n",
              "</style>\n",
              "<table border=\"1\" class=\"dataframe\">\n",
              "  <thead>\n",
              "    <tr style=\"text-align: right;\">\n",
              "      <th></th>\n",
              "      <th>Country</th>\n",
              "      <th>ConfirmedAcum</th>\n",
              "    </tr>\n",
              "  </thead>\n",
              "  <tbody>\n",
              "    <tr>\n",
              "      <th>0</th>\n",
              "      <td>United States</td>\n",
              "      <td>759086.0</td>\n",
              "    </tr>\n",
              "    <tr>\n",
              "      <th>1</th>\n",
              "      <td>Spain</td>\n",
              "      <td>198674.0</td>\n",
              "    </tr>\n",
              "    <tr>\n",
              "      <th>2</th>\n",
              "      <td>Italy</td>\n",
              "      <td>178972.0</td>\n",
              "    </tr>\n",
              "    <tr>\n",
              "      <th>3</th>\n",
              "      <td>France</td>\n",
              "      <td>154097.0</td>\n",
              "    </tr>\n",
              "    <tr>\n",
              "      <th>4</th>\n",
              "      <td>Germany</td>\n",
              "      <td>145184.0</td>\n",
              "    </tr>\n",
              "    <tr>\n",
              "      <th>5</th>\n",
              "      <td>United Kingdom</td>\n",
              "      <td>121172.0</td>\n",
              "    </tr>\n",
              "    <tr>\n",
              "      <th>6</th>\n",
              "      <td>Turkey</td>\n",
              "      <td>86306.0</td>\n",
              "    </tr>\n",
              "    <tr>\n",
              "      <th>7</th>\n",
              "      <td>China</td>\n",
              "      <td>83805.0</td>\n",
              "    </tr>\n",
              "    <tr>\n",
              "      <th>8</th>\n",
              "      <td>Iran</td>\n",
              "      <td>82211.0</td>\n",
              "    </tr>\n",
              "    <tr>\n",
              "      <th>9</th>\n",
              "      <td>Russia</td>\n",
              "      <td>42853.0</td>\n",
              "    </tr>\n",
              "  </tbody>\n",
              "</table>\n",
              "</div>"
            ],
            "text/plain": [
              "          Country  ConfirmedAcum\n",
              "0   United States       759086.0\n",
              "1           Spain       198674.0\n",
              "2           Italy       178972.0\n",
              "3          France       154097.0\n",
              "4         Germany       145184.0\n",
              "5  United Kingdom       121172.0\n",
              "6          Turkey        86306.0\n",
              "7           China        83805.0\n",
              "8            Iran        82211.0\n",
              "9          Russia        42853.0"
            ]
          },
          "metadata": {
            "tags": []
          },
          "execution_count": 42
        }
      ]
    },
    {
      "cell_type": "markdown",
      "metadata": {
        "id": "Zlu8j_bvOYCT",
        "colab_type": "text"
      },
      "source": [
        "Which countries have more confirmed cases on the last day?"
      ]
    },
    {
      "cell_type": "code",
      "metadata": {
        "id": "PCYQySQTISh4",
        "colab_type": "code",
        "outputId": "a9e9cd61-3865-4eb4-dee6-5c89fa5031a1",
        "colab": {
          "base_uri": "https://localhost:8080/",
          "height": 363
        }
      },
      "source": [
        "last_day_data.sort_values('Rank_Confirmed', ascending = False)[['Country', 'Confirmed']].reset_index(drop = True).head(10)"
      ],
      "execution_count": 43,
      "outputs": [
        {
          "output_type": "execute_result",
          "data": {
            "text/html": [
              "<div>\n",
              "<style scoped>\n",
              "    .dataframe tbody tr th:only-of-type {\n",
              "        vertical-align: middle;\n",
              "    }\n",
              "\n",
              "    .dataframe tbody tr th {\n",
              "        vertical-align: top;\n",
              "    }\n",
              "\n",
              "    .dataframe thead th {\n",
              "        text-align: right;\n",
              "    }\n",
              "</style>\n",
              "<table border=\"1\" class=\"dataframe\">\n",
              "  <thead>\n",
              "    <tr style=\"text-align: right;\">\n",
              "      <th></th>\n",
              "      <th>Country</th>\n",
              "      <th>Confirmed</th>\n",
              "    </tr>\n",
              "  </thead>\n",
              "  <tbody>\n",
              "    <tr>\n",
              "      <th>0</th>\n",
              "      <td>United States</td>\n",
              "      <td>27159.0</td>\n",
              "    </tr>\n",
              "    <tr>\n",
              "      <th>1</th>\n",
              "      <td>Spain</td>\n",
              "      <td>6948.0</td>\n",
              "    </tr>\n",
              "    <tr>\n",
              "      <th>2</th>\n",
              "      <td>Russia</td>\n",
              "      <td>6060.0</td>\n",
              "    </tr>\n",
              "    <tr>\n",
              "      <th>3</th>\n",
              "      <td>United Kingdom</td>\n",
              "      <td>5858.0</td>\n",
              "    </tr>\n",
              "    <tr>\n",
              "      <th>4</th>\n",
              "      <td>France</td>\n",
              "      <td>4948.0</td>\n",
              "    </tr>\n",
              "    <tr>\n",
              "      <th>5</th>\n",
              "      <td>Turkey</td>\n",
              "      <td>3977.0</td>\n",
              "    </tr>\n",
              "    <tr>\n",
              "      <th>6</th>\n",
              "      <td>Italy</td>\n",
              "      <td>3047.0</td>\n",
              "    </tr>\n",
              "    <tr>\n",
              "      <th>7</th>\n",
              "      <td>Brazil</td>\n",
              "      <td>1996.0</td>\n",
              "    </tr>\n",
              "    <tr>\n",
              "      <th>8</th>\n",
              "      <td>India</td>\n",
              "      <td>1893.0</td>\n",
              "    </tr>\n",
              "    <tr>\n",
              "      <th>9</th>\n",
              "      <td>Germany</td>\n",
              "      <td>1842.0</td>\n",
              "    </tr>\n",
              "  </tbody>\n",
              "</table>\n",
              "</div>"
            ],
            "text/plain": [
              "          Country  Confirmed\n",
              "0   United States    27159.0\n",
              "1           Spain     6948.0\n",
              "2          Russia     6060.0\n",
              "3  United Kingdom     5858.0\n",
              "4          France     4948.0\n",
              "5          Turkey     3977.0\n",
              "6           Italy     3047.0\n",
              "7          Brazil     1996.0\n",
              "8           India     1893.0\n",
              "9         Germany     1842.0"
            ]
          },
          "metadata": {
            "tags": []
          },
          "execution_count": 43
        }
      ]
    },
    {
      "cell_type": "markdown",
      "metadata": {
        "id": "3m_EcGT6OhPK",
        "colab_type": "text"
      },
      "source": [
        "Which countries have the most active cases?"
      ]
    },
    {
      "cell_type": "code",
      "metadata": {
        "id": "VjKAEOvNIVvY",
        "colab_type": "code",
        "outputId": "128a09a5-e798-49a2-b557-ca597da19e14",
        "colab": {
          "base_uri": "https://localhost:8080/",
          "height": 363
        }
      },
      "source": [
        "last_day_data.sort_values('Rank_ActiveAcum', ascending = False)[['Country', 'ActiveAcum']].reset_index(drop = True).head(10)"
      ],
      "execution_count": 44,
      "outputs": [
        {
          "output_type": "execute_result",
          "data": {
            "text/html": [
              "<div>\n",
              "<style scoped>\n",
              "    .dataframe tbody tr th:only-of-type {\n",
              "        vertical-align: middle;\n",
              "    }\n",
              "\n",
              "    .dataframe tbody tr th {\n",
              "        vertical-align: top;\n",
              "    }\n",
              "\n",
              "    .dataframe thead th {\n",
              "        text-align: right;\n",
              "    }\n",
              "</style>\n",
              "<table border=\"1\" class=\"dataframe\">\n",
              "  <thead>\n",
              "    <tr style=\"text-align: right;\">\n",
              "      <th></th>\n",
              "      <th>Country</th>\n",
              "      <th>ActiveAcum</th>\n",
              "    </tr>\n",
              "  </thead>\n",
              "  <tbody>\n",
              "    <tr>\n",
              "      <th>0</th>\n",
              "      <td>United States</td>\n",
              "      <td>648088.0</td>\n",
              "    </tr>\n",
              "    <tr>\n",
              "      <th>1</th>\n",
              "      <td>Italy</td>\n",
              "      <td>108257.0</td>\n",
              "    </tr>\n",
              "    <tr>\n",
              "      <th>2</th>\n",
              "      <td>United Kingdom</td>\n",
              "      <td>104641.0</td>\n",
              "    </tr>\n",
              "    <tr>\n",
              "      <th>3</th>\n",
              "      <td>Spain</td>\n",
              "      <td>100864.0</td>\n",
              "    </tr>\n",
              "    <tr>\n",
              "      <th>4</th>\n",
              "      <td>France</td>\n",
              "      <td>97170.0</td>\n",
              "    </tr>\n",
              "    <tr>\n",
              "      <th>5</th>\n",
              "      <td>Turkey</td>\n",
              "      <td>72313.0</td>\n",
              "    </tr>\n",
              "    <tr>\n",
              "      <th>6</th>\n",
              "      <td>Germany</td>\n",
              "      <td>52598.0</td>\n",
              "    </tr>\n",
              "    <tr>\n",
              "      <th>7</th>\n",
              "      <td>Russia</td>\n",
              "      <td>39201.0</td>\n",
              "    </tr>\n",
              "    <tr>\n",
              "      <th>8</th>\n",
              "      <td>Netherlands</td>\n",
              "      <td>28819.0</td>\n",
              "    </tr>\n",
              "    <tr>\n",
              "      <th>9</th>\n",
              "      <td>Belgium</td>\n",
              "      <td>24056.0</td>\n",
              "    </tr>\n",
              "  </tbody>\n",
              "</table>\n",
              "</div>"
            ],
            "text/plain": [
              "          Country  ActiveAcum\n",
              "0   United States    648088.0\n",
              "1           Italy    108257.0\n",
              "2  United Kingdom    104641.0\n",
              "3           Spain    100864.0\n",
              "4          France     97170.0\n",
              "5          Turkey     72313.0\n",
              "6         Germany     52598.0\n",
              "7          Russia     39201.0\n",
              "8     Netherlands     28819.0\n",
              "9         Belgium     24056.0"
            ]
          },
          "metadata": {
            "tags": []
          },
          "execution_count": 44
        }
      ]
    },
    {
      "cell_type": "markdown",
      "metadata": {
        "id": "0TybT0p1OmEG",
        "colab_type": "text"
      },
      "source": [
        "Which countries had the most active cases on the last day?"
      ]
    },
    {
      "cell_type": "code",
      "metadata": {
        "id": "h76bTP6rIavQ",
        "colab_type": "code",
        "outputId": "481266d3-b37e-4983-de81-bc06da70635a",
        "colab": {
          "base_uri": "https://localhost:8080/",
          "height": 363
        }
      },
      "source": [
        "last_day_data.sort_values('Rank_Active', ascending = False)[['Country', 'Active']].reset_index(drop = True).head(10)"
      ],
      "execution_count": 51,
      "outputs": [
        {
          "output_type": "execute_result",
          "data": {
            "text/html": [
              "<div>\n",
              "<style scoped>\n",
              "    .dataframe tbody tr th:only-of-type {\n",
              "        vertical-align: middle;\n",
              "    }\n",
              "\n",
              "    .dataframe tbody tr th {\n",
              "        vertical-align: top;\n",
              "    }\n",
              "\n",
              "    .dataframe thead th {\n",
              "        text-align: right;\n",
              "    }\n",
              "</style>\n",
              "<table border=\"1\" class=\"dataframe\">\n",
              "  <thead>\n",
              "    <tr style=\"text-align: right;\">\n",
              "      <th></th>\n",
              "      <th>Country</th>\n",
              "      <th>Active</th>\n",
              "    </tr>\n",
              "  </thead>\n",
              "  <tbody>\n",
              "    <tr>\n",
              "      <th>0</th>\n",
              "      <td>United States</td>\n",
              "      <td>19397.0</td>\n",
              "    </tr>\n",
              "    <tr>\n",
              "      <th>1</th>\n",
              "      <td>Russia</td>\n",
              "      <td>5778.0</td>\n",
              "    </tr>\n",
              "    <tr>\n",
              "      <th>2</th>\n",
              "      <td>United Kingdom</td>\n",
              "      <td>5239.0</td>\n",
              "    </tr>\n",
              "    <tr>\n",
              "      <th>3</th>\n",
              "      <td>Spain</td>\n",
              "      <td>3978.0</td>\n",
              "    </tr>\n",
              "    <tr>\n",
              "      <th>4</th>\n",
              "      <td>France</td>\n",
              "      <td>3953.0</td>\n",
              "    </tr>\n",
              "    <tr>\n",
              "      <th>5</th>\n",
              "      <td>Turkey</td>\n",
              "      <td>2327.0</td>\n",
              "    </tr>\n",
              "    <tr>\n",
              "      <th>6</th>\n",
              "      <td>India</td>\n",
              "      <td>1464.0</td>\n",
              "    </tr>\n",
              "    <tr>\n",
              "      <th>7</th>\n",
              "      <td>Peru</td>\n",
              "      <td>1029.0</td>\n",
              "    </tr>\n",
              "    <tr>\n",
              "      <th>8</th>\n",
              "      <td>Saudi Arabia</td>\n",
              "      <td>1014.0</td>\n",
              "    </tr>\n",
              "    <tr>\n",
              "      <th>9</th>\n",
              "      <td>Netherlands</td>\n",
              "      <td>983.0</td>\n",
              "    </tr>\n",
              "  </tbody>\n",
              "</table>\n",
              "</div>"
            ],
            "text/plain": [
              "          Country   Active\n",
              "0   United States  19397.0\n",
              "1          Russia   5778.0\n",
              "2  United Kingdom   5239.0\n",
              "3           Spain   3978.0\n",
              "4          France   3953.0\n",
              "5          Turkey   2327.0\n",
              "6           India   1464.0\n",
              "7            Peru   1029.0\n",
              "8    Saudi Arabia   1014.0\n",
              "9     Netherlands    983.0"
            ]
          },
          "metadata": {
            "tags": []
          },
          "execution_count": 51
        }
      ]
    },
    {
      "cell_type": "markdown",
      "metadata": {
        "id": "g560FCcvOrm4",
        "colab_type": "text"
      },
      "source": [
        "Which countries have the most active cases per million inhabitants?"
      ]
    },
    {
      "cell_type": "code",
      "metadata": {
        "id": "lycUSCknKvYW",
        "colab_type": "code",
        "outputId": "787254da-a9fb-4131-c7de-2394512d7edf",
        "colab": {
          "base_uri": "https://localhost:8080/",
          "height": 677
        }
      },
      "source": [
        "last_day_data.sort_values('Rank_ConfirmedAcum_Millon', ascending = False)[['Country', 'ConfirmedAcum_Millon']].reset_index(drop = True).head(20)"
      ],
      "execution_count": 52,
      "outputs": [
        {
          "output_type": "execute_result",
          "data": {
            "text/html": [
              "<div>\n",
              "<style scoped>\n",
              "    .dataframe tbody tr th:only-of-type {\n",
              "        vertical-align: middle;\n",
              "    }\n",
              "\n",
              "    .dataframe tbody tr th {\n",
              "        vertical-align: top;\n",
              "    }\n",
              "\n",
              "    .dataframe thead th {\n",
              "        text-align: right;\n",
              "    }\n",
              "</style>\n",
              "<table border=\"1\" class=\"dataframe\">\n",
              "  <thead>\n",
              "    <tr style=\"text-align: right;\">\n",
              "      <th></th>\n",
              "      <th>Country</th>\n",
              "      <th>ConfirmedAcum_Millon</th>\n",
              "    </tr>\n",
              "  </thead>\n",
              "  <tbody>\n",
              "    <tr>\n",
              "      <th>0</th>\n",
              "      <td>San Marino</td>\n",
              "      <td>13586.395921</td>\n",
              "    </tr>\n",
              "    <tr>\n",
              "      <th>1</th>\n",
              "      <td>Holy See</td>\n",
              "      <td>9987.515605</td>\n",
              "    </tr>\n",
              "    <tr>\n",
              "      <th>2</th>\n",
              "      <td>Andorra</td>\n",
              "      <td>9227.981622</td>\n",
              "    </tr>\n",
              "    <tr>\n",
              "      <th>3</th>\n",
              "      <td>Luxembourg</td>\n",
              "      <td>5671.125822</td>\n",
              "    </tr>\n",
              "    <tr>\n",
              "      <th>4</th>\n",
              "      <td>Iceland</td>\n",
              "      <td>5189.850048</td>\n",
              "    </tr>\n",
              "    <tr>\n",
              "      <th>5</th>\n",
              "      <td>Spain</td>\n",
              "      <td>4249.276940</td>\n",
              "    </tr>\n",
              "    <tr>\n",
              "      <th>6</th>\n",
              "      <td>Belgium</td>\n",
              "      <td>3321.592083</td>\n",
              "    </tr>\n",
              "    <tr>\n",
              "      <th>7</th>\n",
              "      <td>Switzerland</td>\n",
              "      <td>3205.223752</td>\n",
              "    </tr>\n",
              "    <tr>\n",
              "      <th>8</th>\n",
              "      <td>Ireland</td>\n",
              "      <td>3088.631221</td>\n",
              "    </tr>\n",
              "    <tr>\n",
              "      <th>9</th>\n",
              "      <td>Italy</td>\n",
              "      <td>2960.082615</td>\n",
              "    </tr>\n",
              "    <tr>\n",
              "      <th>10</th>\n",
              "      <td>Monaco</td>\n",
              "      <td>2395.392692</td>\n",
              "    </tr>\n",
              "    <tr>\n",
              "      <th>11</th>\n",
              "      <td>France</td>\n",
              "      <td>2360.789203</td>\n",
              "    </tr>\n",
              "    <tr>\n",
              "      <th>12</th>\n",
              "      <td>United States</td>\n",
              "      <td>2293.292811</td>\n",
              "    </tr>\n",
              "    <tr>\n",
              "      <th>13</th>\n",
              "      <td>Liechtenstein</td>\n",
              "      <td>2124.422996</td>\n",
              "    </tr>\n",
              "    <tr>\n",
              "      <th>14</th>\n",
              "      <td>Portugal</td>\n",
              "      <td>1981.619756</td>\n",
              "    </tr>\n",
              "    <tr>\n",
              "      <th>15</th>\n",
              "      <td>Netherlands</td>\n",
              "      <td>1916.442679</td>\n",
              "    </tr>\n",
              "    <tr>\n",
              "      <th>16</th>\n",
              "      <td>Qatar</td>\n",
              "      <td>1890.975279</td>\n",
              "    </tr>\n",
              "    <tr>\n",
              "      <th>17</th>\n",
              "      <td>United Kingdom</td>\n",
              "      <td>1784.933276</td>\n",
              "    </tr>\n",
              "    <tr>\n",
              "      <th>18</th>\n",
              "      <td>Germany</td>\n",
              "      <td>1732.838018</td>\n",
              "    </tr>\n",
              "    <tr>\n",
              "      <th>19</th>\n",
              "      <td>Austria</td>\n",
              "      <td>1637.613616</td>\n",
              "    </tr>\n",
              "  </tbody>\n",
              "</table>\n",
              "</div>"
            ],
            "text/plain": [
              "           Country  ConfirmedAcum_Millon\n",
              "0       San Marino          13586.395921\n",
              "1         Holy See           9987.515605\n",
              "2          Andorra           9227.981622\n",
              "3       Luxembourg           5671.125822\n",
              "4          Iceland           5189.850048\n",
              "5            Spain           4249.276940\n",
              "6          Belgium           3321.592083\n",
              "7      Switzerland           3205.223752\n",
              "8          Ireland           3088.631221\n",
              "9            Italy           2960.082615\n",
              "10          Monaco           2395.392692\n",
              "11          France           2360.789203\n",
              "12   United States           2293.292811\n",
              "13   Liechtenstein           2124.422996\n",
              "14        Portugal           1981.619756\n",
              "15     Netherlands           1916.442679\n",
              "16           Qatar           1890.975279\n",
              "17  United Kingdom           1784.933276\n",
              "18         Germany           1732.838018\n",
              "19         Austria           1637.613616"
            ]
          },
          "metadata": {
            "tags": []
          },
          "execution_count": 52
        }
      ]
    },
    {
      "cell_type": "markdown",
      "metadata": {
        "id": "avu2mpN0I0G5",
        "colab_type": "text"
      },
      "source": [
        "## Saving the clean dataset"
      ]
    },
    {
      "cell_type": "markdown",
      "metadata": {
        "id": "CtsWStYjPJfB",
        "colab_type": "text"
      },
      "source": [
        "Finally I will create an Excel file with the information per country once it is clean and in perfect condition to apply some machine learning algorithms ..."
      ]
    },
    {
      "cell_type": "code",
      "metadata": {
        "id": "Dba5dgwrl9Hq",
        "colab_type": "code",
        "colab": {}
      },
      "source": [
        "data_by_country.to_excel(\"All_data.xlsx\", index = False)"
      ],
      "execution_count": 0,
      "outputs": []
    },
    {
      "cell_type": "markdown",
      "metadata": {
        "id": "ZJfrwxxqBw0E",
        "colab_type": "text"
      },
      "source": [
        "## Convert to PDF"
      ]
    },
    {
      "cell_type": "code",
      "metadata": {
        "id": "BGnOuy6yZM_w",
        "colab_type": "code",
        "colab": {
          "base_uri": "https://localhost:8080/",
          "height": 1000
        },
        "outputId": "53980ea3-e6bf-405b-b832-146dbb06ca8a"
      },
      "source": [
        "!apt-get install texlive texlive-xetex texlive-latex-extra pandoc\n",
        "!pip install pypandoc"
      ],
      "execution_count": 54,
      "outputs": [
        {
          "output_type": "stream",
          "text": [
            "Reading package lists... Done\n",
            "Building dependency tree       \n",
            "Reading state information... Done\n",
            "pandoc is already the newest version (1.19.2.4~dfsg-1build4).\n",
            "pandoc set to manually installed.\n",
            "The following additional packages will be installed:\n",
            "  fonts-droid-fallback fonts-lato fonts-lmodern fonts-noto-mono fonts-texgyre\n",
            "  javascript-common libcupsfilters1 libcupsimage2 libgs9 libgs9-common\n",
            "  libijs-0.35 libjbig2dec0 libjs-jquery libkpathsea6 libpotrace0 libptexenc1\n",
            "  libruby2.5 libsynctex1 libtexlua52 libtexluajit2 libzzip-0-13 lmodern\n",
            "  poppler-data preview-latex-style rake ruby ruby-did-you-mean ruby-minitest\n",
            "  ruby-net-telnet ruby-power-assert ruby-test-unit ruby2.5\n",
            "  rubygems-integration t1utils tex-common tex-gyre texlive-base\n",
            "  texlive-binaries texlive-fonts-recommended texlive-latex-base\n",
            "  texlive-latex-recommended texlive-pictures texlive-plain-generic tipa\n",
            "Suggested packages:\n",
            "  fonts-noto apache2 | lighttpd | httpd poppler-utils ghostscript\n",
            "  fonts-japanese-mincho | fonts-ipafont-mincho fonts-japanese-gothic\n",
            "  | fonts-ipafont-gothic fonts-arphic-ukai fonts-arphic-uming fonts-nanum ri\n",
            "  ruby-dev bundler debhelper gv | postscript-viewer perl-tk xpdf-reader\n",
            "  | pdf-viewer texlive-fonts-recommended-doc texlive-latex-base-doc\n",
            "  python-pygments icc-profiles libfile-which-perl\n",
            "  libspreadsheet-parseexcel-perl texlive-latex-extra-doc\n",
            "  texlive-latex-recommended-doc texlive-pstricks dot2tex prerex ruby-tcltk\n",
            "  | libtcltk-ruby texlive-pictures-doc vprerex\n",
            "The following NEW packages will be installed:\n",
            "  fonts-droid-fallback fonts-lato fonts-lmodern fonts-noto-mono fonts-texgyre\n",
            "  javascript-common libcupsfilters1 libcupsimage2 libgs9 libgs9-common\n",
            "  libijs-0.35 libjbig2dec0 libjs-jquery libkpathsea6 libpotrace0 libptexenc1\n",
            "  libruby2.5 libsynctex1 libtexlua52 libtexluajit2 libzzip-0-13 lmodern\n",
            "  poppler-data preview-latex-style rake ruby ruby-did-you-mean ruby-minitest\n",
            "  ruby-net-telnet ruby-power-assert ruby-test-unit ruby2.5\n",
            "  rubygems-integration t1utils tex-common tex-gyre texlive texlive-base\n",
            "  texlive-binaries texlive-fonts-recommended texlive-latex-base\n",
            "  texlive-latex-extra texlive-latex-recommended texlive-pictures\n",
            "  texlive-plain-generic texlive-xetex tipa\n",
            "0 upgraded, 47 newly installed, 0 to remove and 25 not upgraded.\n",
            "Need to get 146 MB of archives.\n",
            "After this operation, 460 MB of additional disk space will be used.\n",
            "Get:1 http://archive.ubuntu.com/ubuntu bionic/main amd64 fonts-droid-fallback all 1:6.0.1r16-1.1 [1,805 kB]\n",
            "Get:2 http://archive.ubuntu.com/ubuntu bionic/main amd64 fonts-lato all 2.0-2 [2,698 kB]\n",
            "Get:3 http://archive.ubuntu.com/ubuntu bionic/main amd64 poppler-data all 0.4.8-2 [1,479 kB]\n",
            "Get:4 http://archive.ubuntu.com/ubuntu bionic/main amd64 tex-common all 6.09 [33.0 kB]\n",
            "Get:5 http://archive.ubuntu.com/ubuntu bionic/main amd64 fonts-lmodern all 2.004.5-3 [4,551 kB]\n",
            "Get:6 http://archive.ubuntu.com/ubuntu bionic/main amd64 fonts-noto-mono all 20171026-2 [75.5 kB]\n",
            "Get:7 http://archive.ubuntu.com/ubuntu bionic/universe amd64 fonts-texgyre all 20160520-1 [8,761 kB]\n",
            "Get:8 http://archive.ubuntu.com/ubuntu bionic/main amd64 javascript-common all 11 [6,066 B]\n",
            "Get:9 http://archive.ubuntu.com/ubuntu bionic-updates/main amd64 libcupsfilters1 amd64 1.20.2-0ubuntu3.1 [108 kB]\n",
            "Get:10 http://archive.ubuntu.com/ubuntu bionic-updates/main amd64 libcupsimage2 amd64 2.2.7-1ubuntu2.7 [18.6 kB]\n",
            "Get:11 http://archive.ubuntu.com/ubuntu bionic/main amd64 libijs-0.35 amd64 0.35-13 [15.5 kB]\n",
            "Get:12 http://archive.ubuntu.com/ubuntu bionic/main amd64 libjbig2dec0 amd64 0.13-6 [55.9 kB]\n",
            "Get:13 http://archive.ubuntu.com/ubuntu bionic-updates/main amd64 libgs9-common all 9.26~dfsg+0-0ubuntu0.18.04.12 [5,092 kB]\n",
            "Get:14 http://archive.ubuntu.com/ubuntu bionic-updates/main amd64 libgs9 amd64 9.26~dfsg+0-0ubuntu0.18.04.12 [2,264 kB]\n",
            "Get:15 http://archive.ubuntu.com/ubuntu bionic/main amd64 libjs-jquery all 3.2.1-1 [152 kB]\n",
            "Get:16 http://archive.ubuntu.com/ubuntu bionic-updates/main amd64 libkpathsea6 amd64 2017.20170613.44572-8ubuntu0.1 [54.9 kB]\n",
            "Get:17 http://archive.ubuntu.com/ubuntu bionic/main amd64 libpotrace0 amd64 1.14-2 [17.4 kB]\n",
            "Get:18 http://archive.ubuntu.com/ubuntu bionic-updates/main amd64 libptexenc1 amd64 2017.20170613.44572-8ubuntu0.1 [34.5 kB]\n",
            "Get:19 http://archive.ubuntu.com/ubuntu bionic/main amd64 rubygems-integration all 1.11 [4,994 B]\n",
            "Get:20 http://archive.ubuntu.com/ubuntu bionic-updates/main amd64 ruby2.5 amd64 2.5.1-1ubuntu1.6 [48.6 kB]\n",
            "Get:21 http://archive.ubuntu.com/ubuntu bionic/main amd64 ruby amd64 1:2.5.1 [5,712 B]\n",
            "Get:22 http://archive.ubuntu.com/ubuntu bionic-updates/main amd64 rake all 12.3.1-1ubuntu0.1 [44.9 kB]\n",
            "Get:23 http://archive.ubuntu.com/ubuntu bionic/main amd64 ruby-did-you-mean all 1.2.0-2 [9,700 B]\n",
            "Get:24 http://archive.ubuntu.com/ubuntu bionic/main amd64 ruby-minitest all 5.10.3-1 [38.6 kB]\n",
            "Get:25 http://archive.ubuntu.com/ubuntu bionic/main amd64 ruby-net-telnet all 0.1.1-2 [12.6 kB]\n",
            "Get:26 http://archive.ubuntu.com/ubuntu bionic/main amd64 ruby-power-assert all 0.3.0-1 [7,952 B]\n",
            "Get:27 http://archive.ubuntu.com/ubuntu bionic/main amd64 ruby-test-unit all 3.2.5-1 [61.1 kB]\n",
            "Get:28 http://archive.ubuntu.com/ubuntu bionic-updates/main amd64 libruby2.5 amd64 2.5.1-1ubuntu1.6 [3,069 kB]\n",
            "Get:29 http://archive.ubuntu.com/ubuntu bionic-updates/main amd64 libsynctex1 amd64 2017.20170613.44572-8ubuntu0.1 [41.4 kB]\n",
            "Get:30 http://archive.ubuntu.com/ubuntu bionic-updates/main amd64 libtexlua52 amd64 2017.20170613.44572-8ubuntu0.1 [91.2 kB]\n",
            "Get:31 http://archive.ubuntu.com/ubuntu bionic-updates/main amd64 libtexluajit2 amd64 2017.20170613.44572-8ubuntu0.1 [230 kB]\n",
            "Get:32 http://archive.ubuntu.com/ubuntu bionic-updates/main amd64 libzzip-0-13 amd64 0.13.62-3.1ubuntu0.18.04.1 [26.0 kB]\n",
            "Get:33 http://archive.ubuntu.com/ubuntu bionic/main amd64 lmodern all 2.004.5-3 [9,631 kB]\n",
            "Get:34 http://archive.ubuntu.com/ubuntu bionic/main amd64 preview-latex-style all 11.91-1ubuntu1 [185 kB]\n",
            "Get:35 http://archive.ubuntu.com/ubuntu bionic/main amd64 t1utils amd64 1.41-2 [56.0 kB]\n",
            "Get:36 http://archive.ubuntu.com/ubuntu bionic/universe amd64 tex-gyre all 20160520-1 [4,998 kB]\n",
            "Get:37 http://archive.ubuntu.com/ubuntu bionic-updates/main amd64 texlive-binaries amd64 2017.20170613.44572-8ubuntu0.1 [8,179 kB]\n",
            "Get:38 http://archive.ubuntu.com/ubuntu bionic/main amd64 texlive-base all 2017.20180305-1 [18.7 MB]\n",
            "Get:39 http://archive.ubuntu.com/ubuntu bionic/universe amd64 texlive-fonts-recommended all 2017.20180305-1 [5,262 kB]\n",
            "Get:40 http://archive.ubuntu.com/ubuntu bionic/main amd64 texlive-latex-base all 2017.20180305-1 [951 kB]\n",
            "Get:41 http://archive.ubuntu.com/ubuntu bionic/main amd64 texlive-latex-recommended all 2017.20180305-1 [14.9 MB]\n",
            "Get:42 http://archive.ubuntu.com/ubuntu bionic/universe amd64 texlive all 2017.20180305-1 [14.4 kB]\n",
            "Get:43 http://archive.ubuntu.com/ubuntu bionic/universe amd64 texlive-pictures all 2017.20180305-1 [4,026 kB]\n",
            "Get:44 http://archive.ubuntu.com/ubuntu bionic/universe amd64 texlive-latex-extra all 2017.20180305-2 [10.6 MB]\n",
            "Get:45 http://archive.ubuntu.com/ubuntu bionic/universe amd64 texlive-plain-generic all 2017.20180305-2 [23.6 MB]\n",
            "Get:46 http://archive.ubuntu.com/ubuntu bionic/universe amd64 tipa all 2:1.3-20 [2,978 kB]\n",
            "Get:47 http://archive.ubuntu.com/ubuntu bionic/universe amd64 texlive-xetex all 2017.20180305-1 [10.7 MB]\n",
            "Fetched 146 MB in 5s (27.3 MB/s)\n",
            "Extracting templates from packages: 100%\n",
            "Preconfiguring packages ...\n",
            "Selecting previously unselected package fonts-droid-fallback.\n",
            "(Reading database ... 144568 files and directories currently installed.)\n",
            "Preparing to unpack .../00-fonts-droid-fallback_1%3a6.0.1r16-1.1_all.deb ...\n",
            "Unpacking fonts-droid-fallback (1:6.0.1r16-1.1) ...\n",
            "Selecting previously unselected package fonts-lato.\n",
            "Preparing to unpack .../01-fonts-lato_2.0-2_all.deb ...\n",
            "Unpacking fonts-lato (2.0-2) ...\n",
            "Selecting previously unselected package poppler-data.\n",
            "Preparing to unpack .../02-poppler-data_0.4.8-2_all.deb ...\n",
            "Unpacking poppler-data (0.4.8-2) ...\n",
            "Selecting previously unselected package tex-common.\n",
            "Preparing to unpack .../03-tex-common_6.09_all.deb ...\n",
            "Unpacking tex-common (6.09) ...\n",
            "Selecting previously unselected package fonts-lmodern.\n",
            "Preparing to unpack .../04-fonts-lmodern_2.004.5-3_all.deb ...\n",
            "Unpacking fonts-lmodern (2.004.5-3) ...\n",
            "Selecting previously unselected package fonts-noto-mono.\n",
            "Preparing to unpack .../05-fonts-noto-mono_20171026-2_all.deb ...\n",
            "Unpacking fonts-noto-mono (20171026-2) ...\n",
            "Selecting previously unselected package fonts-texgyre.\n",
            "Preparing to unpack .../06-fonts-texgyre_20160520-1_all.deb ...\n",
            "Unpacking fonts-texgyre (20160520-1) ...\n",
            "Selecting previously unselected package javascript-common.\n",
            "Preparing to unpack .../07-javascript-common_11_all.deb ...\n",
            "Unpacking javascript-common (11) ...\n",
            "Selecting previously unselected package libcupsfilters1:amd64.\n",
            "Preparing to unpack .../08-libcupsfilters1_1.20.2-0ubuntu3.1_amd64.deb ...\n",
            "Unpacking libcupsfilters1:amd64 (1.20.2-0ubuntu3.1) ...\n",
            "Selecting previously unselected package libcupsimage2:amd64.\n",
            "Preparing to unpack .../09-libcupsimage2_2.2.7-1ubuntu2.7_amd64.deb ...\n",
            "Unpacking libcupsimage2:amd64 (2.2.7-1ubuntu2.7) ...\n",
            "Selecting previously unselected package libijs-0.35:amd64.\n",
            "Preparing to unpack .../10-libijs-0.35_0.35-13_amd64.deb ...\n",
            "Unpacking libijs-0.35:amd64 (0.35-13) ...\n",
            "Selecting previously unselected package libjbig2dec0:amd64.\n",
            "Preparing to unpack .../11-libjbig2dec0_0.13-6_amd64.deb ...\n",
            "Unpacking libjbig2dec0:amd64 (0.13-6) ...\n",
            "Selecting previously unselected package libgs9-common.\n",
            "Preparing to unpack .../12-libgs9-common_9.26~dfsg+0-0ubuntu0.18.04.12_all.deb ...\n",
            "Unpacking libgs9-common (9.26~dfsg+0-0ubuntu0.18.04.12) ...\n",
            "Selecting previously unselected package libgs9:amd64.\n",
            "Preparing to unpack .../13-libgs9_9.26~dfsg+0-0ubuntu0.18.04.12_amd64.deb ...\n",
            "Unpacking libgs9:amd64 (9.26~dfsg+0-0ubuntu0.18.04.12) ...\n",
            "Selecting previously unselected package libjs-jquery.\n",
            "Preparing to unpack .../14-libjs-jquery_3.2.1-1_all.deb ...\n",
            "Unpacking libjs-jquery (3.2.1-1) ...\n",
            "Selecting previously unselected package libkpathsea6:amd64.\n",
            "Preparing to unpack .../15-libkpathsea6_2017.20170613.44572-8ubuntu0.1_amd64.deb ...\n",
            "Unpacking libkpathsea6:amd64 (2017.20170613.44572-8ubuntu0.1) ...\n",
            "Selecting previously unselected package libpotrace0.\n",
            "Preparing to unpack .../16-libpotrace0_1.14-2_amd64.deb ...\n",
            "Unpacking libpotrace0 (1.14-2) ...\n",
            "Selecting previously unselected package libptexenc1:amd64.\n",
            "Preparing to unpack .../17-libptexenc1_2017.20170613.44572-8ubuntu0.1_amd64.deb ...\n",
            "Unpacking libptexenc1:amd64 (2017.20170613.44572-8ubuntu0.1) ...\n",
            "Selecting previously unselected package rubygems-integration.\n",
            "Preparing to unpack .../18-rubygems-integration_1.11_all.deb ...\n",
            "Unpacking rubygems-integration (1.11) ...\n",
            "Selecting previously unselected package ruby2.5.\n",
            "Preparing to unpack .../19-ruby2.5_2.5.1-1ubuntu1.6_amd64.deb ...\n",
            "Unpacking ruby2.5 (2.5.1-1ubuntu1.6) ...\n",
            "Selecting previously unselected package ruby.\n",
            "Preparing to unpack .../20-ruby_1%3a2.5.1_amd64.deb ...\n",
            "Unpacking ruby (1:2.5.1) ...\n",
            "Selecting previously unselected package rake.\n",
            "Preparing to unpack .../21-rake_12.3.1-1ubuntu0.1_all.deb ...\n",
            "Unpacking rake (12.3.1-1ubuntu0.1) ...\n",
            "Selecting previously unselected package ruby-did-you-mean.\n",
            "Preparing to unpack .../22-ruby-did-you-mean_1.2.0-2_all.deb ...\n",
            "Unpacking ruby-did-you-mean (1.2.0-2) ...\n",
            "Selecting previously unselected package ruby-minitest.\n",
            "Preparing to unpack .../23-ruby-minitest_5.10.3-1_all.deb ...\n",
            "Unpacking ruby-minitest (5.10.3-1) ...\n",
            "Selecting previously unselected package ruby-net-telnet.\n",
            "Preparing to unpack .../24-ruby-net-telnet_0.1.1-2_all.deb ...\n",
            "Unpacking ruby-net-telnet (0.1.1-2) ...\n",
            "Selecting previously unselected package ruby-power-assert.\n",
            "Preparing to unpack .../25-ruby-power-assert_0.3.0-1_all.deb ...\n",
            "Unpacking ruby-power-assert (0.3.0-1) ...\n",
            "Selecting previously unselected package ruby-test-unit.\n",
            "Preparing to unpack .../26-ruby-test-unit_3.2.5-1_all.deb ...\n",
            "Unpacking ruby-test-unit (3.2.5-1) ...\n",
            "Selecting previously unselected package libruby2.5:amd64.\n",
            "Preparing to unpack .../27-libruby2.5_2.5.1-1ubuntu1.6_amd64.deb ...\n",
            "Unpacking libruby2.5:amd64 (2.5.1-1ubuntu1.6) ...\n",
            "Selecting previously unselected package libsynctex1:amd64.\n",
            "Preparing to unpack .../28-libsynctex1_2017.20170613.44572-8ubuntu0.1_amd64.deb ...\n",
            "Unpacking libsynctex1:amd64 (2017.20170613.44572-8ubuntu0.1) ...\n",
            "Selecting previously unselected package libtexlua52:amd64.\n",
            "Preparing to unpack .../29-libtexlua52_2017.20170613.44572-8ubuntu0.1_amd64.deb ...\n",
            "Unpacking libtexlua52:amd64 (2017.20170613.44572-8ubuntu0.1) ...\n",
            "Selecting previously unselected package libtexluajit2:amd64.\n",
            "Preparing to unpack .../30-libtexluajit2_2017.20170613.44572-8ubuntu0.1_amd64.deb ...\n",
            "Unpacking libtexluajit2:amd64 (2017.20170613.44572-8ubuntu0.1) ...\n",
            "Selecting previously unselected package libzzip-0-13:amd64.\n",
            "Preparing to unpack .../31-libzzip-0-13_0.13.62-3.1ubuntu0.18.04.1_amd64.deb ...\n",
            "Unpacking libzzip-0-13:amd64 (0.13.62-3.1ubuntu0.18.04.1) ...\n",
            "Selecting previously unselected package lmodern.\n",
            "Preparing to unpack .../32-lmodern_2.004.5-3_all.deb ...\n",
            "Unpacking lmodern (2.004.5-3) ...\n",
            "Selecting previously unselected package preview-latex-style.\n",
            "Preparing to unpack .../33-preview-latex-style_11.91-1ubuntu1_all.deb ...\n",
            "Unpacking preview-latex-style (11.91-1ubuntu1) ...\n",
            "Selecting previously unselected package t1utils.\n",
            "Preparing to unpack .../34-t1utils_1.41-2_amd64.deb ...\n",
            "Unpacking t1utils (1.41-2) ...\n",
            "Selecting previously unselected package tex-gyre.\n",
            "Preparing to unpack .../35-tex-gyre_20160520-1_all.deb ...\n",
            "Unpacking tex-gyre (20160520-1) ...\n",
            "Selecting previously unselected package texlive-binaries.\n",
            "Preparing to unpack .../36-texlive-binaries_2017.20170613.44572-8ubuntu0.1_amd64.deb ...\n",
            "Unpacking texlive-binaries (2017.20170613.44572-8ubuntu0.1) ...\n",
            "Selecting previously unselected package texlive-base.\n",
            "Preparing to unpack .../37-texlive-base_2017.20180305-1_all.deb ...\n",
            "Unpacking texlive-base (2017.20180305-1) ...\n",
            "Selecting previously unselected package texlive-fonts-recommended.\n",
            "Preparing to unpack .../38-texlive-fonts-recommended_2017.20180305-1_all.deb ...\n",
            "Unpacking texlive-fonts-recommended (2017.20180305-1) ...\n",
            "Selecting previously unselected package texlive-latex-base.\n",
            "Preparing to unpack .../39-texlive-latex-base_2017.20180305-1_all.deb ...\n",
            "Unpacking texlive-latex-base (2017.20180305-1) ...\n",
            "Selecting previously unselected package texlive-latex-recommended.\n",
            "Preparing to unpack .../40-texlive-latex-recommended_2017.20180305-1_all.deb ...\n",
            "Unpacking texlive-latex-recommended (2017.20180305-1) ...\n",
            "Selecting previously unselected package texlive.\n",
            "Preparing to unpack .../41-texlive_2017.20180305-1_all.deb ...\n",
            "Unpacking texlive (2017.20180305-1) ...\n",
            "Selecting previously unselected package texlive-pictures.\n",
            "Preparing to unpack .../42-texlive-pictures_2017.20180305-1_all.deb ...\n",
            "Unpacking texlive-pictures (2017.20180305-1) ...\n",
            "Selecting previously unselected package texlive-latex-extra.\n",
            "Preparing to unpack .../43-texlive-latex-extra_2017.20180305-2_all.deb ...\n",
            "Unpacking texlive-latex-extra (2017.20180305-2) ...\n",
            "Selecting previously unselected package texlive-plain-generic.\n",
            "Preparing to unpack .../44-texlive-plain-generic_2017.20180305-2_all.deb ...\n",
            "Unpacking texlive-plain-generic (2017.20180305-2) ...\n",
            "Selecting previously unselected package tipa.\n",
            "Preparing to unpack .../45-tipa_2%3a1.3-20_all.deb ...\n",
            "Unpacking tipa (2:1.3-20) ...\n",
            "Selecting previously unselected package texlive-xetex.\n",
            "Preparing to unpack .../46-texlive-xetex_2017.20180305-1_all.deb ...\n",
            "Unpacking texlive-xetex (2017.20180305-1) ...\n",
            "Setting up libgs9-common (9.26~dfsg+0-0ubuntu0.18.04.12) ...\n",
            "Setting up libkpathsea6:amd64 (2017.20170613.44572-8ubuntu0.1) ...\n",
            "Setting up libjs-jquery (3.2.1-1) ...\n",
            "Setting up libtexlua52:amd64 (2017.20170613.44572-8ubuntu0.1) ...\n",
            "Setting up fonts-droid-fallback (1:6.0.1r16-1.1) ...\n",
            "Setting up libsynctex1:amd64 (2017.20170613.44572-8ubuntu0.1) ...\n",
            "Setting up libptexenc1:amd64 (2017.20170613.44572-8ubuntu0.1) ...\n",
            "Setting up tex-common (6.09) ...\n",
            "update-language: texlive-base not installed and configured, doing nothing!\n",
            "Setting up poppler-data (0.4.8-2) ...\n",
            "Setting up tex-gyre (20160520-1) ...\n",
            "Setting up preview-latex-style (11.91-1ubuntu1) ...\n",
            "Setting up fonts-texgyre (20160520-1) ...\n",
            "Setting up fonts-noto-mono (20171026-2) ...\n",
            "Setting up fonts-lato (2.0-2) ...\n",
            "Setting up libcupsfilters1:amd64 (1.20.2-0ubuntu3.1) ...\n",
            "Setting up libcupsimage2:amd64 (2.2.7-1ubuntu2.7) ...\n",
            "Setting up libjbig2dec0:amd64 (0.13-6) ...\n",
            "Setting up ruby-did-you-mean (1.2.0-2) ...\n",
            "Setting up t1utils (1.41-2) ...\n",
            "Setting up ruby-net-telnet (0.1.1-2) ...\n",
            "Setting up libijs-0.35:amd64 (0.35-13) ...\n",
            "Setting up rubygems-integration (1.11) ...\n",
            "Setting up libpotrace0 (1.14-2) ...\n",
            "Setting up javascript-common (11) ...\n",
            "Setting up ruby-minitest (5.10.3-1) ...\n",
            "Setting up libzzip-0-13:amd64 (0.13.62-3.1ubuntu0.18.04.1) ...\n",
            "Setting up libgs9:amd64 (9.26~dfsg+0-0ubuntu0.18.04.12) ...\n",
            "Setting up libtexluajit2:amd64 (2017.20170613.44572-8ubuntu0.1) ...\n",
            "Setting up fonts-lmodern (2.004.5-3) ...\n",
            "Setting up ruby-power-assert (0.3.0-1) ...\n",
            "Setting up texlive-binaries (2017.20170613.44572-8ubuntu0.1) ...\n",
            "update-alternatives: using /usr/bin/xdvi-xaw to provide /usr/bin/xdvi.bin (xdvi.bin) in auto mode\n",
            "update-alternatives: using /usr/bin/bibtex.original to provide /usr/bin/bibtex (bibtex) in auto mode\n",
            "Setting up texlive-base (2017.20180305-1) ...\n",
            "mktexlsr: Updating /var/lib/texmf/ls-R-TEXLIVEDIST... \n",
            "mktexlsr: Updating /var/lib/texmf/ls-R-TEXMFMAIN... \n",
            "mktexlsr: Updating /var/lib/texmf/ls-R... \n",
            "mktexlsr: Done.\n",
            "tl-paper: setting paper size for dvips to a4: /var/lib/texmf/dvips/config/config-paper.ps\n",
            "tl-paper: setting paper size for dvipdfmx to a4: /var/lib/texmf/dvipdfmx/dvipdfmx-paper.cfg\n",
            "tl-paper: setting paper size for xdvi to a4: /var/lib/texmf/xdvi/XDvi-paper\n",
            "tl-paper: setting paper size for pdftex to a4: /var/lib/texmf/tex/generic/config/pdftexconfig.tex\n",
            "Setting up texlive-fonts-recommended (2017.20180305-1) ...\n",
            "Setting up texlive-plain-generic (2017.20180305-2) ...\n",
            "Setting up texlive-latex-base (2017.20180305-1) ...\n",
            "Setting up lmodern (2.004.5-3) ...\n",
            "Setting up texlive-latex-recommended (2017.20180305-1) ...\n",
            "Setting up texlive-pictures (2017.20180305-1) ...\n",
            "Setting up tipa (2:1.3-20) ...\n",
            "Regenerating '/var/lib/texmf/fmtutil.cnf-DEBIAN'... done.\n",
            "Regenerating '/var/lib/texmf/fmtutil.cnf-TEXLIVEDIST'... done.\n",
            "update-fmtutil has updated the following file(s):\n",
            "\t/var/lib/texmf/fmtutil.cnf-DEBIAN\n",
            "\t/var/lib/texmf/fmtutil.cnf-TEXLIVEDIST\n",
            "If you want to activate the changes in the above file(s),\n",
            "you should run fmtutil-sys or fmtutil.\n",
            "Setting up texlive (2017.20180305-1) ...\n",
            "Setting up texlive-latex-extra (2017.20180305-2) ...\n",
            "Setting up texlive-xetex (2017.20180305-1) ...\n",
            "Setting up ruby2.5 (2.5.1-1ubuntu1.6) ...\n",
            "Setting up ruby (1:2.5.1) ...\n",
            "Setting up ruby-test-unit (3.2.5-1) ...\n",
            "Setting up rake (12.3.1-1ubuntu0.1) ...\n",
            "Setting up libruby2.5:amd64 (2.5.1-1ubuntu1.6) ...\n",
            "Processing triggers for mime-support (3.60ubuntu1) ...\n",
            "Processing triggers for libc-bin (2.27-3ubuntu1) ...\n",
            "/sbin/ldconfig.real: /usr/local/lib/python3.6/dist-packages/ideep4py/lib/libmkldnn.so.0 is not a symbolic link\n",
            "\n",
            "Processing triggers for man-db (2.8.3-2ubuntu0.1) ...\n",
            "Processing triggers for fontconfig (2.12.6-0ubuntu2) ...\n",
            "Processing triggers for tex-common (6.09) ...\n",
            "Running updmap-sys. This may take some time... done.\n",
            "Running mktexlsr /var/lib/texmf ... done.\n",
            "Building format(s) --all.\n",
            "\tThis may take some time... done.\n",
            "Collecting pypandoc\n",
            "  Downloading https://files.pythonhosted.org/packages/d6/b7/5050dc1769c8a93d3ec7c4bd55be161991c94b8b235f88bf7c764449e708/pypandoc-1.5.tar.gz\n",
            "Requirement already satisfied: setuptools in /usr/local/lib/python3.6/dist-packages (from pypandoc) (46.1.3)\n",
            "Requirement already satisfied: pip>=8.1.0 in /usr/local/lib/python3.6/dist-packages (from pypandoc) (19.3.1)\n",
            "Requirement already satisfied: wheel>=0.25.0 in /usr/local/lib/python3.6/dist-packages (from pypandoc) (0.34.2)\n",
            "Building wheels for collected packages: pypandoc\n",
            "  Building wheel for pypandoc (setup.py) ... \u001b[?25l\u001b[?25hdone\n",
            "  Created wheel for pypandoc: filename=pypandoc-1.5-cp36-none-any.whl size=17037 sha256=f5d8427d2db5cca28b83e19828000b300466589f4cf575a416bae2acbc3a01b9\n",
            "  Stored in directory: /root/.cache/pip/wheels/bb/7d/d6/2f9af55e800d37e42e546106bcbd36a86e24e725e303d17e04\n",
            "Successfully built pypandoc\n",
            "Installing collected packages: pypandoc\n",
            "Successfully installed pypandoc-1.5\n"
          ],
          "name": "stdout"
        }
      ]
    },
    {
      "cell_type": "code",
      "metadata": {
        "id": "AT-CcNDnZQgY",
        "colab_type": "code",
        "colab": {
          "base_uri": "https://localhost:8080/",
          "height": 129
        },
        "outputId": "22d0324e-6134-4ba9-c842-d8175efb2d9d"
      },
      "source": [
        "from google.colab import drive\n",
        "drive.mount('/content/drive')"
      ],
      "execution_count": 55,
      "outputs": [
        {
          "output_type": "stream",
          "text": [
            "Go to this URL in a browser: https://accounts.google.com/o/oauth2/auth?client_id=947318989803-6bn6qk8qdgf4n4g3pfee6491hc0brc4i.apps.googleusercontent.com&redirect_uri=urn%3aietf%3awg%3aoauth%3a2.0%3aoob&response_type=code&scope=email%20https%3a%2f%2fwww.googleapis.com%2fauth%2fdocs.test%20https%3a%2f%2fwww.googleapis.com%2fauth%2fdrive%20https%3a%2f%2fwww.googleapis.com%2fauth%2fdrive.photos.readonly%20https%3a%2f%2fwww.googleapis.com%2fauth%2fpeopleapi.readonly\n",
            "\n",
            "Enter your authorization code:\n",
            "··········\n",
            "Mounted at /content/drive\n"
          ],
          "name": "stdout"
        }
      ]
    },
    {
      "cell_type": "code",
      "metadata": {
        "id": "-mewsE2IZ7G5",
        "colab_type": "code",
        "colab": {
          "base_uri": "https://localhost:8080/",
          "height": 201
        },
        "outputId": "08439bb5-22d0-4034-ef40-51e6ce0fc7d5"
      },
      "source": [
        "ls -la \"./drive/My Drive/Colab Notebooks/\""
      ],
      "execution_count": 68,
      "outputs": [
        {
          "output_type": "stream",
          "text": [
            "total 1442\n",
            "-rw------- 1 root root  80931 Apr  8 05:33  Covib19.ipynb\n",
            "-rw------- 1 root root 133795 Apr 20 07:14  Covid-19.ipynb\n",
            "-rw------- 1 root root  68277 Apr 14 04:04 'Module 1.1 - Vector and Matrices.ipynb'\n",
            "-rw------- 1 root root 251701 Apr 14 04:05 'Module 1.2 - Main Probability Distributions.ipynb'\n",
            "-rw------- 1 root root  56997 Apr 18 04:06  NumPy.ipynb\n",
            "-rw------- 1 root root 555477 Apr 19 05:56  Pandas.ipynb\n",
            "-rw------- 1 root root  73495 Apr 13 05:17 'Pivot Table.ipynb'\n",
            "-rw------- 1 root root 252815 Apr 19 05:01 'Python for Data Analysis - Exercises.ipynb'\n",
            "-rw------- 1 root root    333 Apr 13 07:18  Untitled0.ipynb\n"
          ],
          "name": "stdout"
        }
      ]
    },
    {
      "cell_type": "code",
      "metadata": {
        "id": "RbYuMo3RaNEJ",
        "colab_type": "code",
        "colab": {}
      },
      "source": [
        "!cp \"./drive/My Drive/Colab Notebooks/Covid-19.ipynb\" ."
      ],
      "execution_count": 0,
      "outputs": []
    },
    {
      "cell_type": "code",
      "metadata": {
        "id": "aeL4AzONbcF6",
        "colab_type": "code",
        "colab": {
          "base_uri": "https://localhost:8080/",
          "height": 164
        },
        "outputId": "c29ce0e7-15d1-424c-fc13-11f1ed9359fc"
      },
      "source": [
        "!jupyter nbconvert --to PDF \"Covid-19.ipynb\""
      ],
      "execution_count": 72,
      "outputs": [
        {
          "output_type": "stream",
          "text": [
            "[NbConvertApp] Converting notebook Covid-19.ipynb to PDF\n",
            "[NbConvertApp] Writing 105522 bytes to ./notebook.tex\n",
            "[NbConvertApp] Building PDF\n",
            "[NbConvertApp] Running xelatex 3 times: [u'xelatex', u'./notebook.tex', '-quiet']\n",
            "[NbConvertApp] Running bibtex 1 time: [u'bibtex', u'./notebook']\n",
            "[NbConvertApp] WARNING | bibtex had problems, most likely because there were no citations\n",
            "[NbConvertApp] PDF successfully created\n",
            "[NbConvertApp] Writing 74970 bytes to Covid-19.pdf\n"
          ],
          "name": "stdout"
        }
      ]
    },
    {
      "cell_type": "code",
      "metadata": {
        "id": "nKo0OsiBbi0Q",
        "colab_type": "code",
        "colab": {}
      },
      "source": [
        ""
      ],
      "execution_count": 0,
      "outputs": []
    }
  ]
}