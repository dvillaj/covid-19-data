{
  "nbformat": 4,
  "nbformat_minor": 0,
  "metadata": {
    "colab": {
      "name": "Covid-19",
      "provenance": [],
      "collapsed_sections": [],
      "toc_visible": true
    },
    "kernelspec": {
      "name": "python3",
      "display_name": "Python 3"
    }
  },
  "cells": [
    {
      "cell_type": "markdown",
      "metadata": {
        "id": "aXl3EuBPcUwQ"
      },
      "source": [
        "# Pandas and Covid-19"
      ]
    },
    {
      "cell_type": "markdown",
      "metadata": {
        "id": "u1D4tS_27Hvp"
      },
      "source": [
        "This notebook is an example of data analysis and manipulation with **Pandas** and has beed created in [Google Colab](https://colab.research.google.com)\n",
        "\n",
        "Enjoy it!"
      ]
    },
    {
      "cell_type": "code",
      "metadata": {
        "id": "Ak8L8x7IcWYq"
      },
      "source": [
        "import numpy as np\n",
        "import pandas as pd"
      ],
      "execution_count": 1,
      "outputs": []
    },
    {
      "cell_type": "markdown",
      "metadata": {
        "id": "xwUVHjYncbDi"
      },
      "source": [
        "## The Data\n",
        "\n",
        "To get some data I and going to download it from Data Repository by Johns Hopkins CSSE\n",
        "\n",
        "https://github.com/CSSEGISandData/COVID-19"
      ]
    },
    {
      "cell_type": "markdown",
      "metadata": {
        "id": "d4xNQXcnyseg"
      },
      "source": [
        "I first remove the folder where I am goint to store the data so I can re-execute this sentences without any problems ..."
      ]
    },
    {
      "cell_type": "code",
      "metadata": {
        "id": "A08RQDq5gWAH"
      },
      "source": [
        "!rm -rf ./COVID-19"
      ],
      "execution_count": 2,
      "outputs": []
    },
    {
      "cell_type": "markdown",
      "metadata": {
        "id": "kopIho38y-6Y"
      },
      "source": [
        "The dataset is avaible in GitHub so I use the `git` command to get it"
      ]
    },
    {
      "cell_type": "code",
      "metadata": {
        "id": "hZeguxIvckRR",
        "outputId": "36dedd56-3137-47bd-fc2c-46ef40ca4f7f",
        "colab": {
          "base_uri": "https://localhost:8080/"
        }
      },
      "source": [
        "!git clone https://github.com/CSSEGISandData/COVID-19.git"
      ],
      "execution_count": 3,
      "outputs": [
        {
          "output_type": "stream",
          "text": [
            "Cloning into 'COVID-19'...\n",
            "remote: Enumerating objects: 30, done.\u001b[K\n",
            "remote: Counting objects: 100% (30/30), done.\u001b[K\n",
            "remote: Compressing objects: 100% (17/17), done.\u001b[K\n",
            "remote: Total 61431 (delta 16), reused 24 (delta 13), pack-reused 61401\u001b[K\n",
            "Receiving objects: 100% (61431/61431), 521.10 MiB | 20.10 MiB/s, done.\n",
            "Resolving deltas: 100% (39091/39091), done.\n",
            "Checking out files: 100% (718/718), done.\n"
          ],
          "name": "stdout"
        }
      ]
    },
    {
      "cell_type": "markdown",
      "metadata": {
        "id": "HGm4qwtpOicp"
      },
      "source": [
        "## Exporing the data\n"
      ]
    },
    {
      "cell_type": "code",
      "metadata": {
        "id": "ecwwk7FHcu1T",
        "outputId": "83d6e376-5b27-4862-d68b-429b8983c588",
        "colab": {
          "base_uri": "https://localhost:8080/"
        }
      },
      "source": [
        "!ls -lt ./COVID-19/csse_covid_19_data/csse_covid_19_daily_reports | head"
      ],
      "execution_count": 4,
      "outputs": [
        {
          "output_type": "stream",
          "text": [
            "total 103652\n",
            "-rw-r--r-- 1 root root 557044 Nov  2 12:29 11-01-2020.csv\n",
            "-rw-r--r-- 1 root root      0 Nov  2 12:29 README.md\n",
            "-rw-r--r-- 1 root root 557091 Nov  2 12:29 10-31-2020.csv\n",
            "-rw-r--r-- 1 root root 556796 Nov  2 12:29 10-30-2020.csv\n",
            "-rw-r--r-- 1 root root 556837 Nov  2 12:29 10-29-2020.csv\n",
            "-rw-r--r-- 1 root root 556561 Nov  2 12:29 10-28-2020.csv\n",
            "-rw-r--r-- 1 root root 555889 Nov  2 12:29 10-27-2020.csv\n",
            "-rw-r--r-- 1 root root 555947 Nov  2 12:29 10-26-2020.csv\n",
            "-rw-r--r-- 1 root root 556029 Nov  2 12:29 10-25-2020.csv\n"
          ],
          "name": "stdout"
        }
      ]
    },
    {
      "cell_type": "markdown",
      "metadata": {
        "id": "bT58_j-syjxN"
      },
      "source": [
        "Yes!!!  \n",
        "We have data files ..."
      ]
    },
    {
      "cell_type": "markdown",
      "metadata": {
        "id": "-5p6k2r3ySM8"
      },
      "source": [
        "Perfect. Let's explore the first dataset generated ..."
      ]
    },
    {
      "cell_type": "code",
      "metadata": {
        "id": "SmcipMo7d0Y6"
      },
      "source": [
        "first = pd.read_csv(\"./COVID-19/csse_covid_19_data/csse_covid_19_daily_reports/01-22-2020.csv\")"
      ],
      "execution_count": 5,
      "outputs": []
    },
    {
      "cell_type": "code",
      "metadata": {
        "id": "5KWgFLIJesbq",
        "outputId": "d7b00d2b-a8fd-45dd-9243-4753fa52eae4",
        "colab": {
          "base_uri": "https://localhost:8080/",
          "height": 206
        }
      },
      "source": [
        "first.head()"
      ],
      "execution_count": 6,
      "outputs": [
        {
          "output_type": "execute_result",
          "data": {
            "text/html": [
              "<div>\n",
              "<style scoped>\n",
              "    .dataframe tbody tr th:only-of-type {\n",
              "        vertical-align: middle;\n",
              "    }\n",
              "\n",
              "    .dataframe tbody tr th {\n",
              "        vertical-align: top;\n",
              "    }\n",
              "\n",
              "    .dataframe thead th {\n",
              "        text-align: right;\n",
              "    }\n",
              "</style>\n",
              "<table border=\"1\" class=\"dataframe\">\n",
              "  <thead>\n",
              "    <tr style=\"text-align: right;\">\n",
              "      <th></th>\n",
              "      <th>Province/State</th>\n",
              "      <th>Country/Region</th>\n",
              "      <th>Last Update</th>\n",
              "      <th>Confirmed</th>\n",
              "      <th>Deaths</th>\n",
              "      <th>Recovered</th>\n",
              "    </tr>\n",
              "  </thead>\n",
              "  <tbody>\n",
              "    <tr>\n",
              "      <th>0</th>\n",
              "      <td>Anhui</td>\n",
              "      <td>Mainland China</td>\n",
              "      <td>1/22/2020 17:00</td>\n",
              "      <td>1.0</td>\n",
              "      <td>NaN</td>\n",
              "      <td>NaN</td>\n",
              "    </tr>\n",
              "    <tr>\n",
              "      <th>1</th>\n",
              "      <td>Beijing</td>\n",
              "      <td>Mainland China</td>\n",
              "      <td>1/22/2020 17:00</td>\n",
              "      <td>14.0</td>\n",
              "      <td>NaN</td>\n",
              "      <td>NaN</td>\n",
              "    </tr>\n",
              "    <tr>\n",
              "      <th>2</th>\n",
              "      <td>Chongqing</td>\n",
              "      <td>Mainland China</td>\n",
              "      <td>1/22/2020 17:00</td>\n",
              "      <td>6.0</td>\n",
              "      <td>NaN</td>\n",
              "      <td>NaN</td>\n",
              "    </tr>\n",
              "    <tr>\n",
              "      <th>3</th>\n",
              "      <td>Fujian</td>\n",
              "      <td>Mainland China</td>\n",
              "      <td>1/22/2020 17:00</td>\n",
              "      <td>1.0</td>\n",
              "      <td>NaN</td>\n",
              "      <td>NaN</td>\n",
              "    </tr>\n",
              "    <tr>\n",
              "      <th>4</th>\n",
              "      <td>Gansu</td>\n",
              "      <td>Mainland China</td>\n",
              "      <td>1/22/2020 17:00</td>\n",
              "      <td>NaN</td>\n",
              "      <td>NaN</td>\n",
              "      <td>NaN</td>\n",
              "    </tr>\n",
              "  </tbody>\n",
              "</table>\n",
              "</div>"
            ],
            "text/plain": [
              "  Province/State  Country/Region      Last Update  Confirmed  Deaths  Recovered\n",
              "0          Anhui  Mainland China  1/22/2020 17:00        1.0     NaN        NaN\n",
              "1        Beijing  Mainland China  1/22/2020 17:00       14.0     NaN        NaN\n",
              "2      Chongqing  Mainland China  1/22/2020 17:00        6.0     NaN        NaN\n",
              "3         Fujian  Mainland China  1/22/2020 17:00        1.0     NaN        NaN\n",
              "4          Gansu  Mainland China  1/22/2020 17:00        NaN     NaN        NaN"
            ]
          },
          "metadata": {
            "tags": []
          },
          "execution_count": 6
        }
      ]
    },
    {
      "cell_type": "markdown",
      "metadata": {
        "id": "XrJfIWFWyXcX"
      },
      "source": [
        "And one of the last ones ..."
      ]
    },
    {
      "cell_type": "code",
      "metadata": {
        "id": "5FjlQ7HneuYR"
      },
      "source": [
        "last = pd.read_csv(\"./COVID-19/csse_covid_19_data/csse_covid_19_daily_reports/11-01-2020.csv\")"
      ],
      "execution_count": 7,
      "outputs": []
    },
    {
      "cell_type": "code",
      "metadata": {
        "id": "E3TYyKhoe_Yz",
        "outputId": "6dc7f104-81e5-4eb9-9c04-b11c30607ecb",
        "colab": {
          "base_uri": "https://localhost:8080/",
          "height": 206
        }
      },
      "source": [
        "last.head()"
      ],
      "execution_count": 8,
      "outputs": [
        {
          "output_type": "execute_result",
          "data": {
            "text/html": [
              "<div>\n",
              "<style scoped>\n",
              "    .dataframe tbody tr th:only-of-type {\n",
              "        vertical-align: middle;\n",
              "    }\n",
              "\n",
              "    .dataframe tbody tr th {\n",
              "        vertical-align: top;\n",
              "    }\n",
              "\n",
              "    .dataframe thead th {\n",
              "        text-align: right;\n",
              "    }\n",
              "</style>\n",
              "<table border=\"1\" class=\"dataframe\">\n",
              "  <thead>\n",
              "    <tr style=\"text-align: right;\">\n",
              "      <th></th>\n",
              "      <th>FIPS</th>\n",
              "      <th>Admin2</th>\n",
              "      <th>Province_State</th>\n",
              "      <th>Country_Region</th>\n",
              "      <th>Last_Update</th>\n",
              "      <th>Lat</th>\n",
              "      <th>Long_</th>\n",
              "      <th>Confirmed</th>\n",
              "      <th>Deaths</th>\n",
              "      <th>Recovered</th>\n",
              "      <th>Active</th>\n",
              "      <th>Combined_Key</th>\n",
              "      <th>Incidence_Rate</th>\n",
              "      <th>Case-Fatality_Ratio</th>\n",
              "    </tr>\n",
              "  </thead>\n",
              "  <tbody>\n",
              "    <tr>\n",
              "      <th>0</th>\n",
              "      <td>NaN</td>\n",
              "      <td>NaN</td>\n",
              "      <td>NaN</td>\n",
              "      <td>Afghanistan</td>\n",
              "      <td>2020-11-02 05:25:04</td>\n",
              "      <td>33.93911</td>\n",
              "      <td>67.709953</td>\n",
              "      <td>41501</td>\n",
              "      <td>1536</td>\n",
              "      <td>34326</td>\n",
              "      <td>5639.0</td>\n",
              "      <td>Afghanistan</td>\n",
              "      <td>106.608704</td>\n",
              "      <td>3.701116</td>\n",
              "    </tr>\n",
              "    <tr>\n",
              "      <th>1</th>\n",
              "      <td>NaN</td>\n",
              "      <td>NaN</td>\n",
              "      <td>NaN</td>\n",
              "      <td>Albania</td>\n",
              "      <td>2020-11-02 05:25:04</td>\n",
              "      <td>41.15330</td>\n",
              "      <td>20.168300</td>\n",
              "      <td>21202</td>\n",
              "      <td>518</td>\n",
              "      <td>11246</td>\n",
              "      <td>9438.0</td>\n",
              "      <td>Albania</td>\n",
              "      <td>736.743346</td>\n",
              "      <td>2.443166</td>\n",
              "    </tr>\n",
              "    <tr>\n",
              "      <th>2</th>\n",
              "      <td>NaN</td>\n",
              "      <td>NaN</td>\n",
              "      <td>NaN</td>\n",
              "      <td>Algeria</td>\n",
              "      <td>2020-11-02 05:25:04</td>\n",
              "      <td>28.03390</td>\n",
              "      <td>1.659600</td>\n",
              "      <td>58272</td>\n",
              "      <td>1973</td>\n",
              "      <td>40395</td>\n",
              "      <td>15904.0</td>\n",
              "      <td>Algeria</td>\n",
              "      <td>132.886235</td>\n",
              "      <td>3.385846</td>\n",
              "    </tr>\n",
              "    <tr>\n",
              "      <th>3</th>\n",
              "      <td>NaN</td>\n",
              "      <td>NaN</td>\n",
              "      <td>NaN</td>\n",
              "      <td>Andorra</td>\n",
              "      <td>2020-11-02 05:25:04</td>\n",
              "      <td>42.50630</td>\n",
              "      <td>1.521800</td>\n",
              "      <td>4825</td>\n",
              "      <td>75</td>\n",
              "      <td>3475</td>\n",
              "      <td>1275.0</td>\n",
              "      <td>Andorra</td>\n",
              "      <td>6244.742121</td>\n",
              "      <td>1.554404</td>\n",
              "    </tr>\n",
              "    <tr>\n",
              "      <th>4</th>\n",
              "      <td>NaN</td>\n",
              "      <td>NaN</td>\n",
              "      <td>NaN</td>\n",
              "      <td>Angola</td>\n",
              "      <td>2020-11-02 05:25:04</td>\n",
              "      <td>-11.20270</td>\n",
              "      <td>17.873900</td>\n",
              "      <td>11035</td>\n",
              "      <td>286</td>\n",
              "      <td>4920</td>\n",
              "      <td>5829.0</td>\n",
              "      <td>Angola</td>\n",
              "      <td>33.575458</td>\n",
              "      <td>2.591754</td>\n",
              "    </tr>\n",
              "  </tbody>\n",
              "</table>\n",
              "</div>"
            ],
            "text/plain": [
              "   FIPS Admin2 Province_State  ... Combined_Key Incidence_Rate  Case-Fatality_Ratio\n",
              "0   NaN    NaN            NaN  ...  Afghanistan     106.608704             3.701116\n",
              "1   NaN    NaN            NaN  ...      Albania     736.743346             2.443166\n",
              "2   NaN    NaN            NaN  ...      Algeria     132.886235             3.385846\n",
              "3   NaN    NaN            NaN  ...      Andorra    6244.742121             1.554404\n",
              "4   NaN    NaN            NaN  ...       Angola      33.575458             2.591754\n",
              "\n",
              "[5 rows x 14 columns]"
            ]
          },
          "metadata": {
            "tags": []
          },
          "execution_count": 8
        }
      ]
    },
    {
      "cell_type": "markdown",
      "metadata": {
        "id": "3BwR-LBfycpM"
      },
      "source": [
        "Can I concatenate both datasets?"
      ]
    },
    {
      "cell_type": "code",
      "metadata": {
        "id": "WkKG-beB4jHf",
        "outputId": "22ad75ce-3259-44e6-dd00-7983429188c1",
        "colab": {
          "base_uri": "https://localhost:8080/",
          "height": 677
        }
      },
      "source": [
        "last.query(\"Country_Region == 'Spain'\")"
      ],
      "execution_count": 9,
      "outputs": [
        {
          "output_type": "execute_result",
          "data": {
            "text/html": [
              "<div>\n",
              "<style scoped>\n",
              "    .dataframe tbody tr th:only-of-type {\n",
              "        vertical-align: middle;\n",
              "    }\n",
              "\n",
              "    .dataframe tbody tr th {\n",
              "        vertical-align: top;\n",
              "    }\n",
              "\n",
              "    .dataframe thead th {\n",
              "        text-align: right;\n",
              "    }\n",
              "</style>\n",
              "<table border=\"1\" class=\"dataframe\">\n",
              "  <thead>\n",
              "    <tr style=\"text-align: right;\">\n",
              "      <th></th>\n",
              "      <th>FIPS</th>\n",
              "      <th>Admin2</th>\n",
              "      <th>Province_State</th>\n",
              "      <th>Country_Region</th>\n",
              "      <th>Last_Update</th>\n",
              "      <th>Lat</th>\n",
              "      <th>Long_</th>\n",
              "      <th>Confirmed</th>\n",
              "      <th>Deaths</th>\n",
              "      <th>Recovered</th>\n",
              "      <th>Active</th>\n",
              "      <th>Combined_Key</th>\n",
              "      <th>Incidence_Rate</th>\n",
              "      <th>Case-Fatality_Ratio</th>\n",
              "    </tr>\n",
              "  </thead>\n",
              "  <tbody>\n",
              "    <tr>\n",
              "      <th>579</th>\n",
              "      <td>NaN</td>\n",
              "      <td>NaN</td>\n",
              "      <td>Andalusia</td>\n",
              "      <td>Spain</td>\n",
              "      <td>2020-11-02 05:25:04</td>\n",
              "      <td>37.544300</td>\n",
              "      <td>-4.727800</td>\n",
              "      <td>130191</td>\n",
              "      <td>2470</td>\n",
              "      <td>10671</td>\n",
              "      <td>117050.0</td>\n",
              "      <td>Andalusia, Spain</td>\n",
              "      <td>1544.852775</td>\n",
              "      <td>1.897213</td>\n",
              "    </tr>\n",
              "    <tr>\n",
              "      <th>580</th>\n",
              "      <td>NaN</td>\n",
              "      <td>NaN</td>\n",
              "      <td>Aragon</td>\n",
              "      <td>Spain</td>\n",
              "      <td>2020-11-02 05:25:04</td>\n",
              "      <td>41.597600</td>\n",
              "      <td>-0.905700</td>\n",
              "      <td>56181</td>\n",
              "      <td>1654</td>\n",
              "      <td>3772</td>\n",
              "      <td>50755.0</td>\n",
              "      <td>Aragon, Spain</td>\n",
              "      <td>4254.247735</td>\n",
              "      <td>2.944056</td>\n",
              "    </tr>\n",
              "    <tr>\n",
              "      <th>581</th>\n",
              "      <td>NaN</td>\n",
              "      <td>NaN</td>\n",
              "      <td>Asturias</td>\n",
              "      <td>Spain</td>\n",
              "      <td>2020-11-02 05:25:04</td>\n",
              "      <td>43.361400</td>\n",
              "      <td>-5.859300</td>\n",
              "      <td>11795</td>\n",
              "      <td>437</td>\n",
              "      <td>1063</td>\n",
              "      <td>10295.0</td>\n",
              "      <td>Asturias, Spain</td>\n",
              "      <td>1153.878136</td>\n",
              "      <td>3.704960</td>\n",
              "    </tr>\n",
              "    <tr>\n",
              "      <th>582</th>\n",
              "      <td>NaN</td>\n",
              "      <td>NaN</td>\n",
              "      <td>Baleares</td>\n",
              "      <td>Spain</td>\n",
              "      <td>2020-11-02 05:25:04</td>\n",
              "      <td>39.710358</td>\n",
              "      <td>2.995148</td>\n",
              "      <td>18361</td>\n",
              "      <td>362</td>\n",
              "      <td>1533</td>\n",
              "      <td>16466.0</td>\n",
              "      <td>Baleares, Spain</td>\n",
              "      <td>1545.252563</td>\n",
              "      <td>1.971570</td>\n",
              "    </tr>\n",
              "    <tr>\n",
              "      <th>583</th>\n",
              "      <td>NaN</td>\n",
              "      <td>NaN</td>\n",
              "      <td>C. Valenciana</td>\n",
              "      <td>Spain</td>\n",
              "      <td>2020-11-02 05:25:04</td>\n",
              "      <td>39.484000</td>\n",
              "      <td>-0.753300</td>\n",
              "      <td>61592</td>\n",
              "      <td>1773</td>\n",
              "      <td>9970</td>\n",
              "      <td>49849.0</td>\n",
              "      <td>C. Valenciana, Spain</td>\n",
              "      <td>1238.037865</td>\n",
              "      <td>2.878621</td>\n",
              "    </tr>\n",
              "    <tr>\n",
              "      <th>584</th>\n",
              "      <td>NaN</td>\n",
              "      <td>NaN</td>\n",
              "      <td>Canarias</td>\n",
              "      <td>Spain</td>\n",
              "      <td>2020-11-02 05:25:04</td>\n",
              "      <td>28.291600</td>\n",
              "      <td>-16.629100</td>\n",
              "      <td>17263</td>\n",
              "      <td>282</td>\n",
              "      <td>1537</td>\n",
              "      <td>15444.0</td>\n",
              "      <td>Canarias, Spain</td>\n",
              "      <td>782.228111</td>\n",
              "      <td>1.633552</td>\n",
              "    </tr>\n",
              "    <tr>\n",
              "      <th>585</th>\n",
              "      <td>NaN</td>\n",
              "      <td>NaN</td>\n",
              "      <td>Cantabria</td>\n",
              "      <td>Spain</td>\n",
              "      <td>2020-11-02 05:25:04</td>\n",
              "      <td>43.182800</td>\n",
              "      <td>-3.987800</td>\n",
              "      <td>9699</td>\n",
              "      <td>252</td>\n",
              "      <td>2287</td>\n",
              "      <td>7160.0</td>\n",
              "      <td>Cantabria, Spain</td>\n",
              "      <td>1667.523438</td>\n",
              "      <td>2.598206</td>\n",
              "    </tr>\n",
              "    <tr>\n",
              "      <th>586</th>\n",
              "      <td>NaN</td>\n",
              "      <td>NaN</td>\n",
              "      <td>Castilla - La Mancha</td>\n",
              "      <td>Spain</td>\n",
              "      <td>2020-11-02 05:25:04</td>\n",
              "      <td>39.279600</td>\n",
              "      <td>-3.097700</td>\n",
              "      <td>64042</td>\n",
              "      <td>3425</td>\n",
              "      <td>6392</td>\n",
              "      <td>54225.0</td>\n",
              "      <td>Castilla - La Mancha, Spain</td>\n",
              "      <td>3147.217252</td>\n",
              "      <td>5.348053</td>\n",
              "    </tr>\n",
              "    <tr>\n",
              "      <th>587</th>\n",
              "      <td>NaN</td>\n",
              "      <td>NaN</td>\n",
              "      <td>Castilla y Leon</td>\n",
              "      <td>Spain</td>\n",
              "      <td>2020-11-02 05:25:04</td>\n",
              "      <td>41.835700</td>\n",
              "      <td>-4.397600</td>\n",
              "      <td>81036</td>\n",
              "      <td>3599</td>\n",
              "      <td>8716</td>\n",
              "      <td>68721.0</td>\n",
              "      <td>Castilla y Leon, Spain</td>\n",
              "      <td>3365.655577</td>\n",
              "      <td>4.441236</td>\n",
              "    </tr>\n",
              "    <tr>\n",
              "      <th>588</th>\n",
              "      <td>NaN</td>\n",
              "      <td>NaN</td>\n",
              "      <td>Catalonia</td>\n",
              "      <td>Spain</td>\n",
              "      <td>2020-11-02 05:25:04</td>\n",
              "      <td>41.591200</td>\n",
              "      <td>1.520900</td>\n",
              "      <td>228000</td>\n",
              "      <td>5991</td>\n",
              "      <td>26203</td>\n",
              "      <td>195806.0</td>\n",
              "      <td>Catalonia, Spain</td>\n",
              "      <td>3013.309710</td>\n",
              "      <td>2.627632</td>\n",
              "    </tr>\n",
              "    <tr>\n",
              "      <th>589</th>\n",
              "      <td>NaN</td>\n",
              "      <td>NaN</td>\n",
              "      <td>Ceuta</td>\n",
              "      <td>Spain</td>\n",
              "      <td>2020-11-02 05:25:04</td>\n",
              "      <td>35.889400</td>\n",
              "      <td>-5.321300</td>\n",
              "      <td>1571</td>\n",
              "      <td>19</td>\n",
              "      <td>163</td>\n",
              "      <td>1389.0</td>\n",
              "      <td>Ceuta, Spain</td>\n",
              "      <td>1851.961004</td>\n",
              "      <td>1.209421</td>\n",
              "    </tr>\n",
              "    <tr>\n",
              "      <th>590</th>\n",
              "      <td>NaN</td>\n",
              "      <td>NaN</td>\n",
              "      <td>Extremadura</td>\n",
              "      <td>Spain</td>\n",
              "      <td>2020-11-02 05:25:04</td>\n",
              "      <td>39.493700</td>\n",
              "      <td>-6.067900</td>\n",
              "      <td>19307</td>\n",
              "      <td>714</td>\n",
              "      <td>2652</td>\n",
              "      <td>15941.0</td>\n",
              "      <td>Extremadura, Spain</td>\n",
              "      <td>1812.142396</td>\n",
              "      <td>3.698141</td>\n",
              "    </tr>\n",
              "    <tr>\n",
              "      <th>591</th>\n",
              "      <td>NaN</td>\n",
              "      <td>NaN</td>\n",
              "      <td>Galicia</td>\n",
              "      <td>Spain</td>\n",
              "      <td>2020-11-02 05:25:04</td>\n",
              "      <td>42.575100</td>\n",
              "      <td>-8.133900</td>\n",
              "      <td>33222</td>\n",
              "      <td>904</td>\n",
              "      <td>9204</td>\n",
              "      <td>23114.0</td>\n",
              "      <td>Galicia, Spain</td>\n",
              "      <td>1230.243505</td>\n",
              "      <td>2.721088</td>\n",
              "    </tr>\n",
              "    <tr>\n",
              "      <th>592</th>\n",
              "      <td>NaN</td>\n",
              "      <td>NaN</td>\n",
              "      <td>La Rioja</td>\n",
              "      <td>Spain</td>\n",
              "      <td>2020-11-02 05:25:04</td>\n",
              "      <td>42.287100</td>\n",
              "      <td>-2.539600</td>\n",
              "      <td>12510</td>\n",
              "      <td>463</td>\n",
              "      <td>3107</td>\n",
              "      <td>8940.0</td>\n",
              "      <td>La Rioja, Spain</td>\n",
              "      <td>3989.527093</td>\n",
              "      <td>3.701039</td>\n",
              "    </tr>\n",
              "    <tr>\n",
              "      <th>593</th>\n",
              "      <td>NaN</td>\n",
              "      <td>NaN</td>\n",
              "      <td>Madrid</td>\n",
              "      <td>Spain</td>\n",
              "      <td>2020-11-02 05:25:04</td>\n",
              "      <td>40.416800</td>\n",
              "      <td>-3.703800</td>\n",
              "      <td>306335</td>\n",
              "      <td>10419</td>\n",
              "      <td>40736</td>\n",
              "      <td>255180.0</td>\n",
              "      <td>Madrid, Spain</td>\n",
              "      <td>4612.333473</td>\n",
              "      <td>3.401178</td>\n",
              "    </tr>\n",
              "    <tr>\n",
              "      <th>594</th>\n",
              "      <td>NaN</td>\n",
              "      <td>NaN</td>\n",
              "      <td>Melilla</td>\n",
              "      <td>Spain</td>\n",
              "      <td>2020-11-02 05:25:04</td>\n",
              "      <td>35.292300</td>\n",
              "      <td>-2.938100</td>\n",
              "      <td>2745</td>\n",
              "      <td>12</td>\n",
              "      <td>125</td>\n",
              "      <td>2608.0</td>\n",
              "      <td>Melilla, Spain</td>\n",
              "      <td>3241.271003</td>\n",
              "      <td>0.437158</td>\n",
              "    </tr>\n",
              "    <tr>\n",
              "      <th>595</th>\n",
              "      <td>NaN</td>\n",
              "      <td>NaN</td>\n",
              "      <td>Murcia</td>\n",
              "      <td>Spain</td>\n",
              "      <td>2020-11-02 05:25:04</td>\n",
              "      <td>37.992200</td>\n",
              "      <td>-1.130700</td>\n",
              "      <td>34363</td>\n",
              "      <td>317</td>\n",
              "      <td>2180</td>\n",
              "      <td>31866.0</td>\n",
              "      <td>Murcia, Spain</td>\n",
              "      <td>2309.864532</td>\n",
              "      <td>0.922504</td>\n",
              "    </tr>\n",
              "    <tr>\n",
              "      <th>596</th>\n",
              "      <td>NaN</td>\n",
              "      <td>NaN</td>\n",
              "      <td>Navarra</td>\n",
              "      <td>Spain</td>\n",
              "      <td>2020-11-02 05:25:04</td>\n",
              "      <td>42.695400</td>\n",
              "      <td>-1.676100</td>\n",
              "      <td>32150</td>\n",
              "      <td>703</td>\n",
              "      <td>3905</td>\n",
              "      <td>27542.0</td>\n",
              "      <td>Navarra, Spain</td>\n",
              "      <td>4946.564792</td>\n",
              "      <td>2.186625</td>\n",
              "    </tr>\n",
              "    <tr>\n",
              "      <th>597</th>\n",
              "      <td>NaN</td>\n",
              "      <td>NaN</td>\n",
              "      <td>Pais Vasco</td>\n",
              "      <td>Spain</td>\n",
              "      <td>2020-11-02 05:25:04</td>\n",
              "      <td>42.989600</td>\n",
              "      <td>-2.618900</td>\n",
              "      <td>65315</td>\n",
              "      <td>2082</td>\n",
              "      <td>16160</td>\n",
              "      <td>47073.0</td>\n",
              "      <td>Pais Vasco, Spain</td>\n",
              "      <td>2999.017393</td>\n",
              "      <td>3.187629</td>\n",
              "    </tr>\n",
              "    <tr>\n",
              "      <th>598</th>\n",
              "      <td>NaN</td>\n",
              "      <td>NaN</td>\n",
              "      <td>Unknown</td>\n",
              "      <td>Spain</td>\n",
              "      <td>2020-11-02 05:25:04</td>\n",
              "      <td>NaN</td>\n",
              "      <td>NaN</td>\n",
              "      <td>0</td>\n",
              "      <td>0</td>\n",
              "      <td>0</td>\n",
              "      <td>0.0</td>\n",
              "      <td>Unknown, Spain</td>\n",
              "      <td>NaN</td>\n",
              "      <td>NaN</td>\n",
              "    </tr>\n",
              "  </tbody>\n",
              "</table>\n",
              "</div>"
            ],
            "text/plain": [
              "     FIPS Admin2  ... Incidence_Rate Case-Fatality_Ratio\n",
              "579   NaN    NaN  ...    1544.852775            1.897213\n",
              "580   NaN    NaN  ...    4254.247735            2.944056\n",
              "581   NaN    NaN  ...    1153.878136            3.704960\n",
              "582   NaN    NaN  ...    1545.252563            1.971570\n",
              "583   NaN    NaN  ...    1238.037865            2.878621\n",
              "584   NaN    NaN  ...     782.228111            1.633552\n",
              "585   NaN    NaN  ...    1667.523438            2.598206\n",
              "586   NaN    NaN  ...    3147.217252            5.348053\n",
              "587   NaN    NaN  ...    3365.655577            4.441236\n",
              "588   NaN    NaN  ...    3013.309710            2.627632\n",
              "589   NaN    NaN  ...    1851.961004            1.209421\n",
              "590   NaN    NaN  ...    1812.142396            3.698141\n",
              "591   NaN    NaN  ...    1230.243505            2.721088\n",
              "592   NaN    NaN  ...    3989.527093            3.701039\n",
              "593   NaN    NaN  ...    4612.333473            3.401178\n",
              "594   NaN    NaN  ...    3241.271003            0.437158\n",
              "595   NaN    NaN  ...    2309.864532            0.922504\n",
              "596   NaN    NaN  ...    4946.564792            2.186625\n",
              "597   NaN    NaN  ...    2999.017393            3.187629\n",
              "598   NaN    NaN  ...            NaN                 NaN\n",
              "\n",
              "[20 rows x 14 columns]"
            ]
          },
          "metadata": {
            "tags": []
          },
          "execution_count": 9
        }
      ]
    },
    {
      "cell_type": "code",
      "metadata": {
        "id": "ud-ibwwtfgnJ",
        "outputId": "8390fa3d-543a-4995-aa2f-4f8dbb8812ba",
        "colab": {
          "base_uri": "https://localhost:8080/",
          "height": 615
        }
      },
      "source": [
        "pd.concat((first, last), axis = 0)"
      ],
      "execution_count": 10,
      "outputs": [
        {
          "output_type": "execute_result",
          "data": {
            "text/html": [
              "<div>\n",
              "<style scoped>\n",
              "    .dataframe tbody tr th:only-of-type {\n",
              "        vertical-align: middle;\n",
              "    }\n",
              "\n",
              "    .dataframe tbody tr th {\n",
              "        vertical-align: top;\n",
              "    }\n",
              "\n",
              "    .dataframe thead th {\n",
              "        text-align: right;\n",
              "    }\n",
              "</style>\n",
              "<table border=\"1\" class=\"dataframe\">\n",
              "  <thead>\n",
              "    <tr style=\"text-align: right;\">\n",
              "      <th></th>\n",
              "      <th>Province/State</th>\n",
              "      <th>Country/Region</th>\n",
              "      <th>Last Update</th>\n",
              "      <th>Confirmed</th>\n",
              "      <th>Deaths</th>\n",
              "      <th>Recovered</th>\n",
              "      <th>FIPS</th>\n",
              "      <th>Admin2</th>\n",
              "      <th>Province_State</th>\n",
              "      <th>Country_Region</th>\n",
              "      <th>Last_Update</th>\n",
              "      <th>Lat</th>\n",
              "      <th>Long_</th>\n",
              "      <th>Active</th>\n",
              "      <th>Combined_Key</th>\n",
              "      <th>Incidence_Rate</th>\n",
              "      <th>Case-Fatality_Ratio</th>\n",
              "    </tr>\n",
              "  </thead>\n",
              "  <tbody>\n",
              "    <tr>\n",
              "      <th>0</th>\n",
              "      <td>Anhui</td>\n",
              "      <td>Mainland China</td>\n",
              "      <td>1/22/2020 17:00</td>\n",
              "      <td>1.0</td>\n",
              "      <td>NaN</td>\n",
              "      <td>NaN</td>\n",
              "      <td>NaN</td>\n",
              "      <td>NaN</td>\n",
              "      <td>NaN</td>\n",
              "      <td>NaN</td>\n",
              "      <td>NaN</td>\n",
              "      <td>NaN</td>\n",
              "      <td>NaN</td>\n",
              "      <td>NaN</td>\n",
              "      <td>NaN</td>\n",
              "      <td>NaN</td>\n",
              "      <td>NaN</td>\n",
              "    </tr>\n",
              "    <tr>\n",
              "      <th>1</th>\n",
              "      <td>Beijing</td>\n",
              "      <td>Mainland China</td>\n",
              "      <td>1/22/2020 17:00</td>\n",
              "      <td>14.0</td>\n",
              "      <td>NaN</td>\n",
              "      <td>NaN</td>\n",
              "      <td>NaN</td>\n",
              "      <td>NaN</td>\n",
              "      <td>NaN</td>\n",
              "      <td>NaN</td>\n",
              "      <td>NaN</td>\n",
              "      <td>NaN</td>\n",
              "      <td>NaN</td>\n",
              "      <td>NaN</td>\n",
              "      <td>NaN</td>\n",
              "      <td>NaN</td>\n",
              "      <td>NaN</td>\n",
              "    </tr>\n",
              "    <tr>\n",
              "      <th>2</th>\n",
              "      <td>Chongqing</td>\n",
              "      <td>Mainland China</td>\n",
              "      <td>1/22/2020 17:00</td>\n",
              "      <td>6.0</td>\n",
              "      <td>NaN</td>\n",
              "      <td>NaN</td>\n",
              "      <td>NaN</td>\n",
              "      <td>NaN</td>\n",
              "      <td>NaN</td>\n",
              "      <td>NaN</td>\n",
              "      <td>NaN</td>\n",
              "      <td>NaN</td>\n",
              "      <td>NaN</td>\n",
              "      <td>NaN</td>\n",
              "      <td>NaN</td>\n",
              "      <td>NaN</td>\n",
              "      <td>NaN</td>\n",
              "    </tr>\n",
              "    <tr>\n",
              "      <th>3</th>\n",
              "      <td>Fujian</td>\n",
              "      <td>Mainland China</td>\n",
              "      <td>1/22/2020 17:00</td>\n",
              "      <td>1.0</td>\n",
              "      <td>NaN</td>\n",
              "      <td>NaN</td>\n",
              "      <td>NaN</td>\n",
              "      <td>NaN</td>\n",
              "      <td>NaN</td>\n",
              "      <td>NaN</td>\n",
              "      <td>NaN</td>\n",
              "      <td>NaN</td>\n",
              "      <td>NaN</td>\n",
              "      <td>NaN</td>\n",
              "      <td>NaN</td>\n",
              "      <td>NaN</td>\n",
              "      <td>NaN</td>\n",
              "    </tr>\n",
              "    <tr>\n",
              "      <th>4</th>\n",
              "      <td>Gansu</td>\n",
              "      <td>Mainland China</td>\n",
              "      <td>1/22/2020 17:00</td>\n",
              "      <td>NaN</td>\n",
              "      <td>NaN</td>\n",
              "      <td>NaN</td>\n",
              "      <td>NaN</td>\n",
              "      <td>NaN</td>\n",
              "      <td>NaN</td>\n",
              "      <td>NaN</td>\n",
              "      <td>NaN</td>\n",
              "      <td>NaN</td>\n",
              "      <td>NaN</td>\n",
              "      <td>NaN</td>\n",
              "      <td>NaN</td>\n",
              "      <td>NaN</td>\n",
              "      <td>NaN</td>\n",
              "    </tr>\n",
              "    <tr>\n",
              "      <th>...</th>\n",
              "      <td>...</td>\n",
              "      <td>...</td>\n",
              "      <td>...</td>\n",
              "      <td>...</td>\n",
              "      <td>...</td>\n",
              "      <td>...</td>\n",
              "      <td>...</td>\n",
              "      <td>...</td>\n",
              "      <td>...</td>\n",
              "      <td>...</td>\n",
              "      <td>...</td>\n",
              "      <td>...</td>\n",
              "      <td>...</td>\n",
              "      <td>...</td>\n",
              "      <td>...</td>\n",
              "      <td>...</td>\n",
              "      <td>...</td>\n",
              "    </tr>\n",
              "    <tr>\n",
              "      <th>3954</th>\n",
              "      <td>NaN</td>\n",
              "      <td>NaN</td>\n",
              "      <td>NaN</td>\n",
              "      <td>54060.0</td>\n",
              "      <td>489.0</td>\n",
              "      <td>46773.0</td>\n",
              "      <td>NaN</td>\n",
              "      <td>NaN</td>\n",
              "      <td>NaN</td>\n",
              "      <td>West Bank and Gaza</td>\n",
              "      <td>2020-11-02 05:25:04</td>\n",
              "      <td>31.952200</td>\n",
              "      <td>35.233200</td>\n",
              "      <td>6798.0</td>\n",
              "      <td>West Bank and Gaza</td>\n",
              "      <td>1059.705776</td>\n",
              "      <td>0.904550</td>\n",
              "    </tr>\n",
              "    <tr>\n",
              "      <th>3955</th>\n",
              "      <td>NaN</td>\n",
              "      <td>NaN</td>\n",
              "      <td>NaN</td>\n",
              "      <td>10.0</td>\n",
              "      <td>1.0</td>\n",
              "      <td>8.0</td>\n",
              "      <td>NaN</td>\n",
              "      <td>NaN</td>\n",
              "      <td>NaN</td>\n",
              "      <td>Western Sahara</td>\n",
              "      <td>2020-11-02 05:25:04</td>\n",
              "      <td>24.215500</td>\n",
              "      <td>-12.885800</td>\n",
              "      <td>1.0</td>\n",
              "      <td>Western Sahara</td>\n",
              "      <td>1.674116</td>\n",
              "      <td>10.000000</td>\n",
              "    </tr>\n",
              "    <tr>\n",
              "      <th>3956</th>\n",
              "      <td>NaN</td>\n",
              "      <td>NaN</td>\n",
              "      <td>NaN</td>\n",
              "      <td>2063.0</td>\n",
              "      <td>600.0</td>\n",
              "      <td>1366.0</td>\n",
              "      <td>NaN</td>\n",
              "      <td>NaN</td>\n",
              "      <td>NaN</td>\n",
              "      <td>Yemen</td>\n",
              "      <td>2020-11-02 05:25:04</td>\n",
              "      <td>15.552727</td>\n",
              "      <td>48.516388</td>\n",
              "      <td>97.0</td>\n",
              "      <td>Yemen</td>\n",
              "      <td>6.916791</td>\n",
              "      <td>29.083858</td>\n",
              "    </tr>\n",
              "    <tr>\n",
              "      <th>3957</th>\n",
              "      <td>NaN</td>\n",
              "      <td>NaN</td>\n",
              "      <td>NaN</td>\n",
              "      <td>16480.0</td>\n",
              "      <td>349.0</td>\n",
              "      <td>15733.0</td>\n",
              "      <td>NaN</td>\n",
              "      <td>NaN</td>\n",
              "      <td>NaN</td>\n",
              "      <td>Zambia</td>\n",
              "      <td>2020-11-02 05:25:04</td>\n",
              "      <td>-13.133897</td>\n",
              "      <td>27.849332</td>\n",
              "      <td>398.0</td>\n",
              "      <td>Zambia</td>\n",
              "      <td>89.643383</td>\n",
              "      <td>2.117718</td>\n",
              "    </tr>\n",
              "    <tr>\n",
              "      <th>3958</th>\n",
              "      <td>NaN</td>\n",
              "      <td>NaN</td>\n",
              "      <td>NaN</td>\n",
              "      <td>8374.0</td>\n",
              "      <td>243.0</td>\n",
              "      <td>7927.0</td>\n",
              "      <td>NaN</td>\n",
              "      <td>NaN</td>\n",
              "      <td>NaN</td>\n",
              "      <td>Zimbabwe</td>\n",
              "      <td>2020-11-02 05:25:04</td>\n",
              "      <td>-19.015438</td>\n",
              "      <td>29.154857</td>\n",
              "      <td>204.0</td>\n",
              "      <td>Zimbabwe</td>\n",
              "      <td>56.341527</td>\n",
              "      <td>2.901839</td>\n",
              "    </tr>\n",
              "  </tbody>\n",
              "</table>\n",
              "<p>3997 rows × 17 columns</p>\n",
              "</div>"
            ],
            "text/plain": [
              "     Province/State  Country/Region  ... Incidence_Rate  Case-Fatality_Ratio\n",
              "0             Anhui  Mainland China  ...            NaN                  NaN\n",
              "1           Beijing  Mainland China  ...            NaN                  NaN\n",
              "2         Chongqing  Mainland China  ...            NaN                  NaN\n",
              "3            Fujian  Mainland China  ...            NaN                  NaN\n",
              "4             Gansu  Mainland China  ...            NaN                  NaN\n",
              "...             ...             ...  ...            ...                  ...\n",
              "3954            NaN             NaN  ...    1059.705776             0.904550\n",
              "3955            NaN             NaN  ...       1.674116            10.000000\n",
              "3956            NaN             NaN  ...       6.916791            29.083858\n",
              "3957            NaN             NaN  ...      89.643383             2.117718\n",
              "3958            NaN             NaN  ...      56.341527             2.901839\n",
              "\n",
              "[3997 rows x 17 columns]"
            ]
          },
          "metadata": {
            "tags": []
          },
          "execution_count": 10
        }
      ]
    },
    {
      "cell_type": "markdown",
      "metadata": {
        "id": "qp0FzW2Iw5eN"
      },
      "source": [
        "Ups!!! The column names don't match :-("
      ]
    },
    {
      "cell_type": "markdown",
      "metadata": {
        "id": "ghaZx5_9OorK"
      },
      "source": [
        "## Loading the data into Pandas and cleaning it"
      ]
    },
    {
      "cell_type": "code",
      "metadata": {
        "id": "M9bC8STciFTa"
      },
      "source": [
        "import glob\n",
        "import os\n",
        "\n",
        "files = glob.glob(\"./COVID-19/csse_covid_19_data/csse_covid_19_daily_reports/*.csv\")\n",
        "files.sort(key=os.path.getmtime)"
      ],
      "execution_count": 11,
      "outputs": []
    },
    {
      "cell_type": "markdown",
      "metadata": {
        "id": "vs7_lsZlxYuL"
      },
      "source": [
        "We are going to:\n",
        "- Create a blank Dataset to store all the data\n",
        "- Load every dataset unifying the column names so we can concatenate it without any problem.\n",
        "- Remove extra blank spaces from the country field\n",
        "- Enrich the information with the date of the data in the correct type"
      ]
    },
    {
      "cell_type": "code",
      "metadata": {
        "id": "FT8e_Vu2jjG6"
      },
      "source": [
        "data = pd.DataFrame()\n",
        "for file in files:  \n",
        "  df = pd.read_csv(file).rename(columns = {'Province/State' : 'State', \n",
        "                        \"Country/Region\" : 'Country',\n",
        "                        'Province_State' : 'State', \n",
        "                        \"Country_Region\" : 'Country',\n",
        "                        'Last Update' : 'Last_Update',\n",
        "                        'Confirmed' : 'ConfirmedAcum',\n",
        "                        'Deaths' : 'DeathsAcum',\n",
        "                        'Recovered' : 'RecoveredAcum'})\n",
        "  df = df.assign(Date = pd.to_datetime(file[-14:-4], format = '%m-%d-%Y'),\n",
        "                 Country = df.Country.str.strip())\n",
        "  data = pd.concat((data, df), axis = 0)\n"
      ],
      "execution_count": 12,
      "outputs": []
    },
    {
      "cell_type": "markdown",
      "metadata": {
        "id": "eYgaZTZRxPef"
      },
      "source": [
        "I noticed that the country names were a little messy.   \n",
        "Let's fix it ..."
      ]
    },
    {
      "cell_type": "code",
      "metadata": {
        "id": "k4Ivs-ocj9ZD"
      },
      "source": [
        "data['Country'] = data.Country.replace({'Bahamas, The' : 'Bahamas',\n",
        "                         'Congo (Brazzaville)' : 'Congo',\n",
        "                         'Congo (Kinshasa)' : 'Congo',\n",
        "                         \"Cote d'Ivoire\" : \"Cote d'Ivoire\",\n",
        "                         \"Curacao\" : \"Curaçao\",\n",
        "                         'Czech Republic' : 'Czech Republic (Czechia)',\n",
        "                         'Czechia' : 'Czech Republic (Czechia)',\n",
        "                         'Faroe Islands' : 'Faeroe Islands',\n",
        "                         'Macau' : 'Macao',\n",
        "                         'Mainland China' : 'China',\n",
        "                         'Palestine' : 'State of Palestine',\n",
        "                         'Reunion' : 'Réunion',\n",
        "                         'Saint Kitts and Nevis' : 'Saint Kitts & Nevis',\n",
        "                         'Sao Tome and Principe' : 'Sao Tome & Principe',\n",
        "                         'US' : 'United States',\n",
        "                         'Gambia, The' : 'Gambia',\n",
        "                         'Hong Kong SAR' : 'Hong Kong',\n",
        "                         'Korea, South' : 'South Korea',\n",
        "                         'Macao SAR' : 'Macao',\n",
        "                         'Taiwan*' : 'Taiwan',\n",
        "                         'Viet Nam' : 'Vietnam',\n",
        "                         'West Bank and Gaza' : 'State of Palestine',\n",
        "                         'occupied Palestinian territory' : 'State of Palestine'\n",
        "                         })"
      ],
      "execution_count": 13,
      "outputs": []
    },
    {
      "cell_type": "markdown",
      "metadata": {
        "id": "UULovmSp076p"
      },
      "source": [
        "I'm going to fill in the null values ​​of the 'State' and 'Admin2' fields so that I can later group the data correctly"
      ]
    },
    {
      "cell_type": "code",
      "metadata": {
        "id": "sqOtm5KZ02bb"
      },
      "source": [
        "data = data.fillna({'State' : 'NA', 'Admin2' : 'NA'})"
      ],
      "execution_count": 14,
      "outputs": []
    },
    {
      "cell_type": "markdown",
      "metadata": {
        "id": "stPODK5u2kK7"
      },
      "source": [
        "Finally I am going to be left alone with the columns that interest me"
      ]
    },
    {
      "cell_type": "code",
      "metadata": {
        "id": "tN2qJzZ92j7C"
      },
      "source": [
        "data = data[['Date', 'Country', 'State', 'Admin2', 'ConfirmedAcum', 'DeathsAcum', 'RecoveredAcum']]"
      ],
      "execution_count": 15,
      "outputs": []
    },
    {
      "cell_type": "markdown",
      "metadata": {
        "id": "eKGKWEv81QOC"
      },
      "source": [
        "Let's verify the structure of the dateset ..."
      ]
    },
    {
      "cell_type": "code",
      "metadata": {
        "id": "PaHfgHxw02f6",
        "outputId": "7267b55a-32ba-4282-9b76-187670a68a91",
        "colab": {
          "base_uri": "https://localhost:8080/"
        }
      },
      "source": [
        "data.info()"
      ],
      "execution_count": 16,
      "outputs": [
        {
          "output_type": "stream",
          "text": [
            "<class 'pandas.core.frame.DataFrame'>\n",
            "Int64Index: 832127 entries, 0 to 3958\n",
            "Data columns (total 7 columns):\n",
            " #   Column         Non-Null Count   Dtype         \n",
            "---  ------         --------------   -----         \n",
            " 0   Date           832127 non-null  datetime64[ns]\n",
            " 1   Country        832127 non-null  object        \n",
            " 2   State          832127 non-null  object        \n",
            " 3   Admin2         832127 non-null  object        \n",
            " 4   ConfirmedAcum  832108 non-null  float64       \n",
            " 5   DeathsAcum     831685 non-null  float64       \n",
            " 6   RecoveredAcum  831739 non-null  float64       \n",
            "dtypes: datetime64[ns](1), float64(3), object(3)\n",
            "memory usage: 50.8+ MB\n"
          ],
          "name": "stdout"
        }
      ]
    },
    {
      "cell_type": "markdown",
      "metadata": {
        "id": "KHTrGOkI3EZ5"
      },
      "source": [
        "Wait a set, I think that can be interesting have a column the the active cases. Let's create it ..."
      ]
    },
    {
      "cell_type": "code",
      "metadata": {
        "id": "MHo4mEHk3SV-"
      },
      "source": [
        "data['ActiveAcum'] = data.ConfirmedAcum  - data.DeathsAcum - data.RecoveredAcum"
      ],
      "execution_count": 17,
      "outputs": []
    },
    {
      "cell_type": "code",
      "metadata": {
        "id": "rWWw4HKt3kem",
        "outputId": "eb99e9dc-b0bb-4bea-fede-e739976c3d6a",
        "colab": {
          "base_uri": "https://localhost:8080/",
          "height": 206
        }
      },
      "source": [
        "data.query(\"Country == 'Spain'\").sort_values('Date', ascending = False).head()"
      ],
      "execution_count": 18,
      "outputs": [
        {
          "output_type": "execute_result",
          "data": {
            "text/html": [
              "<div>\n",
              "<style scoped>\n",
              "    .dataframe tbody tr th:only-of-type {\n",
              "        vertical-align: middle;\n",
              "    }\n",
              "\n",
              "    .dataframe tbody tr th {\n",
              "        vertical-align: top;\n",
              "    }\n",
              "\n",
              "    .dataframe thead th {\n",
              "        text-align: right;\n",
              "    }\n",
              "</style>\n",
              "<table border=\"1\" class=\"dataframe\">\n",
              "  <thead>\n",
              "    <tr style=\"text-align: right;\">\n",
              "      <th></th>\n",
              "      <th>Date</th>\n",
              "      <th>Country</th>\n",
              "      <th>State</th>\n",
              "      <th>Admin2</th>\n",
              "      <th>ConfirmedAcum</th>\n",
              "      <th>DeathsAcum</th>\n",
              "      <th>RecoveredAcum</th>\n",
              "      <th>ActiveAcum</th>\n",
              "    </tr>\n",
              "  </thead>\n",
              "  <tbody>\n",
              "    <tr>\n",
              "      <th>598</th>\n",
              "      <td>2020-11-01</td>\n",
              "      <td>Spain</td>\n",
              "      <td>Unknown</td>\n",
              "      <td>NA</td>\n",
              "      <td>0.0</td>\n",
              "      <td>0.0</td>\n",
              "      <td>0.0</td>\n",
              "      <td>0.0</td>\n",
              "    </tr>\n",
              "    <tr>\n",
              "      <th>588</th>\n",
              "      <td>2020-11-01</td>\n",
              "      <td>Spain</td>\n",
              "      <td>Catalonia</td>\n",
              "      <td>NA</td>\n",
              "      <td>228000.0</td>\n",
              "      <td>5991.0</td>\n",
              "      <td>26203.0</td>\n",
              "      <td>195806.0</td>\n",
              "    </tr>\n",
              "    <tr>\n",
              "      <th>579</th>\n",
              "      <td>2020-11-01</td>\n",
              "      <td>Spain</td>\n",
              "      <td>Andalusia</td>\n",
              "      <td>NA</td>\n",
              "      <td>130191.0</td>\n",
              "      <td>2470.0</td>\n",
              "      <td>10671.0</td>\n",
              "      <td>117050.0</td>\n",
              "    </tr>\n",
              "    <tr>\n",
              "      <th>580</th>\n",
              "      <td>2020-11-01</td>\n",
              "      <td>Spain</td>\n",
              "      <td>Aragon</td>\n",
              "      <td>NA</td>\n",
              "      <td>56181.0</td>\n",
              "      <td>1654.0</td>\n",
              "      <td>3772.0</td>\n",
              "      <td>50755.0</td>\n",
              "    </tr>\n",
              "    <tr>\n",
              "      <th>581</th>\n",
              "      <td>2020-11-01</td>\n",
              "      <td>Spain</td>\n",
              "      <td>Asturias</td>\n",
              "      <td>NA</td>\n",
              "      <td>11795.0</td>\n",
              "      <td>437.0</td>\n",
              "      <td>1063.0</td>\n",
              "      <td>10295.0</td>\n",
              "    </tr>\n",
              "  </tbody>\n",
              "</table>\n",
              "</div>"
            ],
            "text/plain": [
              "          Date Country      State  ... DeathsAcum  RecoveredAcum  ActiveAcum\n",
              "598 2020-11-01   Spain    Unknown  ...        0.0            0.0         0.0\n",
              "588 2020-11-01   Spain  Catalonia  ...     5991.0        26203.0    195806.0\n",
              "579 2020-11-01   Spain  Andalusia  ...     2470.0        10671.0    117050.0\n",
              "580 2020-11-01   Spain     Aragon  ...     1654.0         3772.0     50755.0\n",
              "581 2020-11-01   Spain   Asturias  ...      437.0         1063.0     10295.0\n",
              "\n",
              "[5 rows x 8 columns]"
            ]
          },
          "metadata": {
            "tags": []
          },
          "execution_count": 18
        }
      ]
    },
    {
      "cell_type": "markdown",
      "metadata": {
        "id": "Hy7ezfe71YfW"
      },
      "source": [
        "Perfect :-)"
      ]
    },
    {
      "cell_type": "markdown",
      "metadata": {
        "id": "QXWtfzg61dT8"
      },
      "source": [
        "Now, I am going to group and summarize the data because I want to be sure that there is only one row per Date, Country, State and Admin2"
      ]
    },
    {
      "cell_type": "code",
      "metadata": {
        "id": "Sv6N4XzATqDb"
      },
      "source": [
        "data = data.groupby([\"Date\", \"Country\", \"State\", \"Admin2\"]).agg(\"sum\").reset_index()"
      ],
      "execution_count": 19,
      "outputs": []
    },
    {
      "cell_type": "code",
      "metadata": {
        "id": "uMxyZOlHoMuf",
        "outputId": "5b7a7bf6-831a-4234-9f9c-0540bf21999f",
        "colab": {
          "base_uri": "https://localhost:8080/",
          "height": 206
        }
      },
      "source": [
        "data.head()"
      ],
      "execution_count": 20,
      "outputs": [
        {
          "output_type": "execute_result",
          "data": {
            "text/html": [
              "<div>\n",
              "<style scoped>\n",
              "    .dataframe tbody tr th:only-of-type {\n",
              "        vertical-align: middle;\n",
              "    }\n",
              "\n",
              "    .dataframe tbody tr th {\n",
              "        vertical-align: top;\n",
              "    }\n",
              "\n",
              "    .dataframe thead th {\n",
              "        text-align: right;\n",
              "    }\n",
              "</style>\n",
              "<table border=\"1\" class=\"dataframe\">\n",
              "  <thead>\n",
              "    <tr style=\"text-align: right;\">\n",
              "      <th></th>\n",
              "      <th>Date</th>\n",
              "      <th>Country</th>\n",
              "      <th>State</th>\n",
              "      <th>Admin2</th>\n",
              "      <th>ConfirmedAcum</th>\n",
              "      <th>DeathsAcum</th>\n",
              "      <th>RecoveredAcum</th>\n",
              "      <th>ActiveAcum</th>\n",
              "    </tr>\n",
              "  </thead>\n",
              "  <tbody>\n",
              "    <tr>\n",
              "      <th>0</th>\n",
              "      <td>2020-01-22</td>\n",
              "      <td>China</td>\n",
              "      <td>Anhui</td>\n",
              "      <td>NA</td>\n",
              "      <td>1.0</td>\n",
              "      <td>0.0</td>\n",
              "      <td>0.0</td>\n",
              "      <td>0.0</td>\n",
              "    </tr>\n",
              "    <tr>\n",
              "      <th>1</th>\n",
              "      <td>2020-01-22</td>\n",
              "      <td>China</td>\n",
              "      <td>Beijing</td>\n",
              "      <td>NA</td>\n",
              "      <td>14.0</td>\n",
              "      <td>0.0</td>\n",
              "      <td>0.0</td>\n",
              "      <td>0.0</td>\n",
              "    </tr>\n",
              "    <tr>\n",
              "      <th>2</th>\n",
              "      <td>2020-01-22</td>\n",
              "      <td>China</td>\n",
              "      <td>Chongqing</td>\n",
              "      <td>NA</td>\n",
              "      <td>6.0</td>\n",
              "      <td>0.0</td>\n",
              "      <td>0.0</td>\n",
              "      <td>0.0</td>\n",
              "    </tr>\n",
              "    <tr>\n",
              "      <th>3</th>\n",
              "      <td>2020-01-22</td>\n",
              "      <td>China</td>\n",
              "      <td>Fujian</td>\n",
              "      <td>NA</td>\n",
              "      <td>1.0</td>\n",
              "      <td>0.0</td>\n",
              "      <td>0.0</td>\n",
              "      <td>0.0</td>\n",
              "    </tr>\n",
              "    <tr>\n",
              "      <th>4</th>\n",
              "      <td>2020-01-22</td>\n",
              "      <td>China</td>\n",
              "      <td>Gansu</td>\n",
              "      <td>NA</td>\n",
              "      <td>0.0</td>\n",
              "      <td>0.0</td>\n",
              "      <td>0.0</td>\n",
              "      <td>0.0</td>\n",
              "    </tr>\n",
              "  </tbody>\n",
              "</table>\n",
              "</div>"
            ],
            "text/plain": [
              "        Date Country      State  ... DeathsAcum  RecoveredAcum  ActiveAcum\n",
              "0 2020-01-22   China      Anhui  ...        0.0            0.0         0.0\n",
              "1 2020-01-22   China    Beijing  ...        0.0            0.0         0.0\n",
              "2 2020-01-22   China  Chongqing  ...        0.0            0.0         0.0\n",
              "3 2020-01-22   China     Fujian  ...        0.0            0.0         0.0\n",
              "4 2020-01-22   China      Gansu  ...        0.0            0.0         0.0\n",
              "\n",
              "[5 rows x 8 columns]"
            ]
          },
          "metadata": {
            "tags": []
          },
          "execution_count": 20
        }
      ]
    },
    {
      "cell_type": "markdown",
      "metadata": {
        "id": "TZbi_Sr6SbO5"
      },
      "source": [
        "##  Daily Cases\n",
        "I am going to enrich the data by creating new columns with the daily cases.  \n",
        "\n",
        "First I create new columns with the cases from the previous day"
      ]
    },
    {
      "cell_type": "code",
      "metadata": {
        "id": "g8MHMIevPoA0"
      },
      "source": [
        "data = data.sort_values(['State', 'Country', 'Date']).\\\n",
        "            assign(ConfirmedPrevious = data.groupby(['Admin2', 'State', 'Country']).shift(1)[\"ConfirmedAcum\"],\n",
        "                   DeathsPrevious = data.groupby(['Admin2', 'State', 'Country']).shift(1)[\"DeathsAcum\"],\n",
        "                   RecoveredPrevious = data.groupby(['Admin2', 'State', 'Country']).shift(1)[\"RecoveredAcum\"],\n",
        "                   ActivePrevious = data.groupby(['Admin2', 'State', 'Country']).shift(1)[\"ActiveAcum\"],\n",
        "            ).\\\n",
        "            fillna({ 'ConfirmedPrevious' : 0, 'DeathsPrevious' : 0, 'RecoveredPrevious' : 0 })"
      ],
      "execution_count": 21,
      "outputs": []
    },
    {
      "cell_type": "code",
      "metadata": {
        "id": "DDT2ontmYspr",
        "outputId": "1f8e8d88-05ee-470a-edeb-2232115701c3",
        "colab": {
          "base_uri": "https://localhost:8080/",
          "height": 206
        }
      },
      "source": [
        "data.head()"
      ],
      "execution_count": 22,
      "outputs": [
        {
          "output_type": "execute_result",
          "data": {
            "text/html": [
              "<div>\n",
              "<style scoped>\n",
              "    .dataframe tbody tr th:only-of-type {\n",
              "        vertical-align: middle;\n",
              "    }\n",
              "\n",
              "    .dataframe tbody tr th {\n",
              "        vertical-align: top;\n",
              "    }\n",
              "\n",
              "    .dataframe thead th {\n",
              "        text-align: right;\n",
              "    }\n",
              "</style>\n",
              "<table border=\"1\" class=\"dataframe\">\n",
              "  <thead>\n",
              "    <tr style=\"text-align: right;\">\n",
              "      <th></th>\n",
              "      <th>Date</th>\n",
              "      <th>Country</th>\n",
              "      <th>State</th>\n",
              "      <th>Admin2</th>\n",
              "      <th>ConfirmedAcum</th>\n",
              "      <th>DeathsAcum</th>\n",
              "      <th>RecoveredAcum</th>\n",
              "      <th>ActiveAcum</th>\n",
              "      <th>ConfirmedPrevious</th>\n",
              "      <th>DeathsPrevious</th>\n",
              "      <th>RecoveredPrevious</th>\n",
              "      <th>ActivePrevious</th>\n",
              "    </tr>\n",
              "  </thead>\n",
              "  <tbody>\n",
              "    <tr>\n",
              "      <th>2599</th>\n",
              "      <td>2020-02-28</td>\n",
              "      <td>Canada</td>\n",
              "      <td>Montreal, QC</td>\n",
              "      <td>NA</td>\n",
              "      <td>1.0</td>\n",
              "      <td>0.0</td>\n",
              "      <td>0.0</td>\n",
              "      <td>1.0</td>\n",
              "      <td>0.0</td>\n",
              "      <td>0.0</td>\n",
              "      <td>0.0</td>\n",
              "      <td>NaN</td>\n",
              "    </tr>\n",
              "    <tr>\n",
              "      <th>2713</th>\n",
              "      <td>2020-02-29</td>\n",
              "      <td>Canada</td>\n",
              "      <td>Montreal, QC</td>\n",
              "      <td>NA</td>\n",
              "      <td>1.0</td>\n",
              "      <td>0.0</td>\n",
              "      <td>0.0</td>\n",
              "      <td>1.0</td>\n",
              "      <td>1.0</td>\n",
              "      <td>0.0</td>\n",
              "      <td>0.0</td>\n",
              "      <td>1.0</td>\n",
              "    </tr>\n",
              "    <tr>\n",
              "      <th>2834</th>\n",
              "      <td>2020-03-01</td>\n",
              "      <td>Canada</td>\n",
              "      <td>Montreal, QC</td>\n",
              "      <td>NA</td>\n",
              "      <td>1.0</td>\n",
              "      <td>0.0</td>\n",
              "      <td>0.0</td>\n",
              "      <td>1.0</td>\n",
              "      <td>1.0</td>\n",
              "      <td>0.0</td>\n",
              "      <td>0.0</td>\n",
              "      <td>1.0</td>\n",
              "    </tr>\n",
              "    <tr>\n",
              "      <th>2961</th>\n",
              "      <td>2020-03-02</td>\n",
              "      <td>Canada</td>\n",
              "      <td>Montreal, QC</td>\n",
              "      <td>NA</td>\n",
              "      <td>1.0</td>\n",
              "      <td>0.0</td>\n",
              "      <td>0.0</td>\n",
              "      <td>1.0</td>\n",
              "      <td>1.0</td>\n",
              "      <td>0.0</td>\n",
              "      <td>0.0</td>\n",
              "      <td>1.0</td>\n",
              "    </tr>\n",
              "    <tr>\n",
              "      <th>3103</th>\n",
              "      <td>2020-03-03</td>\n",
              "      <td>Canada</td>\n",
              "      <td>Montreal, QC</td>\n",
              "      <td>NA</td>\n",
              "      <td>1.0</td>\n",
              "      <td>0.0</td>\n",
              "      <td>0.0</td>\n",
              "      <td>1.0</td>\n",
              "      <td>1.0</td>\n",
              "      <td>0.0</td>\n",
              "      <td>0.0</td>\n",
              "      <td>1.0</td>\n",
              "    </tr>\n",
              "  </tbody>\n",
              "</table>\n",
              "</div>"
            ],
            "text/plain": [
              "           Date Country  ... RecoveredPrevious ActivePrevious\n",
              "2599 2020-02-28  Canada  ...               0.0            NaN\n",
              "2713 2020-02-29  Canada  ...               0.0            1.0\n",
              "2834 2020-03-01  Canada  ...               0.0            1.0\n",
              "2961 2020-03-02  Canada  ...               0.0            1.0\n",
              "3103 2020-03-03  Canada  ...               0.0            1.0\n",
              "\n",
              "[5 rows x 12 columns]"
            ]
          },
          "metadata": {
            "tags": []
          },
          "execution_count": 22
        }
      ]
    },
    {
      "cell_type": "markdown",
      "metadata": {
        "id": "7sbEQUt06Cw9"
      },
      "source": [
        "After that I am going to assign the new fields subtracting the previous acum cases to the actual acum cases"
      ]
    },
    {
      "cell_type": "code",
      "metadata": {
        "id": "95W2LJ4yXESe"
      },
      "source": [
        "data = data.assign(Confirmed = data.ConfirmedAcum -  data.ConfirmedPrevious,\n",
        "            Deaths = data.DeathsAcum - data.DeathsPrevious,\n",
        "            Recovered = data.RecoveredAcum - data.RecoveredPrevious,\n",
        "            Active = data.ActiveAcum - data.ActivePrevious\n",
        "            )"
      ],
      "execution_count": 23,
      "outputs": []
    },
    {
      "cell_type": "markdown",
      "metadata": {
        "id": "R3aiurFY6btc"
      },
      "source": [
        "I no longer need the fields I used to make the calculation so I can drop them"
      ]
    },
    {
      "cell_type": "code",
      "metadata": {
        "id": "EyYZ8SAA51rY"
      },
      "source": [
        "data = data.drop(['ConfirmedPrevious', 'DeathsPrevious', 'RecoveredPrevious', 'ActivePrevious'], axis = 1)"
      ],
      "execution_count": 24,
      "outputs": []
    },
    {
      "cell_type": "markdown",
      "metadata": {
        "id": "kv94Eilb6t22"
      },
      "source": [
        "Does the data look good?"
      ]
    },
    {
      "cell_type": "code",
      "metadata": {
        "id": "vrr3xpFIRlfW",
        "outputId": "246553eb-30fd-45a4-ffe0-ac8f03a51e39",
        "colab": {
          "base_uri": "https://localhost:8080/",
          "height": 424
        }
      },
      "source": [
        "data.query(\"Country == 'Spain'\")"
      ],
      "execution_count": 25,
      "outputs": [
        {
          "output_type": "execute_result",
          "data": {
            "text/html": [
              "<div>\n",
              "<style scoped>\n",
              "    .dataframe tbody tr th:only-of-type {\n",
              "        vertical-align: middle;\n",
              "    }\n",
              "\n",
              "    .dataframe tbody tr th {\n",
              "        vertical-align: top;\n",
              "    }\n",
              "\n",
              "    .dataframe thead th {\n",
              "        text-align: right;\n",
              "    }\n",
              "</style>\n",
              "<table border=\"1\" class=\"dataframe\">\n",
              "  <thead>\n",
              "    <tr style=\"text-align: right;\">\n",
              "      <th></th>\n",
              "      <th>Date</th>\n",
              "      <th>Country</th>\n",
              "      <th>State</th>\n",
              "      <th>Admin2</th>\n",
              "      <th>ConfirmedAcum</th>\n",
              "      <th>DeathsAcum</th>\n",
              "      <th>RecoveredAcum</th>\n",
              "      <th>ActiveAcum</th>\n",
              "      <th>Confirmed</th>\n",
              "      <th>Deaths</th>\n",
              "      <th>Recovered</th>\n",
              "      <th>Active</th>\n",
              "    </tr>\n",
              "  </thead>\n",
              "  <tbody>\n",
              "    <tr>\n",
              "      <th>172072</th>\n",
              "      <td>2020-05-14</td>\n",
              "      <td>Spain</td>\n",
              "      <td>Andalusia</td>\n",
              "      <td>NA</td>\n",
              "      <td>12359.0</td>\n",
              "      <td>1336.0</td>\n",
              "      <td>9918.0</td>\n",
              "      <td>1105.0</td>\n",
              "      <td>12359.0</td>\n",
              "      <td>1336.0</td>\n",
              "      <td>9918.0</td>\n",
              "      <td>NaN</td>\n",
              "    </tr>\n",
              "    <tr>\n",
              "      <th>175365</th>\n",
              "      <td>2020-05-15</td>\n",
              "      <td>Spain</td>\n",
              "      <td>Andalusia</td>\n",
              "      <td>NA</td>\n",
              "      <td>12401.0</td>\n",
              "      <td>1344.0</td>\n",
              "      <td>10148.0</td>\n",
              "      <td>909.0</td>\n",
              "      <td>42.0</td>\n",
              "      <td>8.0</td>\n",
              "      <td>230.0</td>\n",
              "      <td>-196.0</td>\n",
              "    </tr>\n",
              "    <tr>\n",
              "      <th>178664</th>\n",
              "      <td>2020-05-16</td>\n",
              "      <td>Spain</td>\n",
              "      <td>Andalusia</td>\n",
              "      <td>NA</td>\n",
              "      <td>12420.0</td>\n",
              "      <td>1355.0</td>\n",
              "      <td>10319.0</td>\n",
              "      <td>746.0</td>\n",
              "      <td>19.0</td>\n",
              "      <td>11.0</td>\n",
              "      <td>171.0</td>\n",
              "      <td>-163.0</td>\n",
              "    </tr>\n",
              "    <tr>\n",
              "      <th>181967</th>\n",
              "      <td>2020-05-17</td>\n",
              "      <td>Spain</td>\n",
              "      <td>Andalusia</td>\n",
              "      <td>NA</td>\n",
              "      <td>12420.0</td>\n",
              "      <td>1355.0</td>\n",
              "      <td>10319.0</td>\n",
              "      <td>746.0</td>\n",
              "      <td>0.0</td>\n",
              "      <td>0.0</td>\n",
              "      <td>0.0</td>\n",
              "      <td>0.0</td>\n",
              "    </tr>\n",
              "    <tr>\n",
              "      <th>185273</th>\n",
              "      <td>2020-05-18</td>\n",
              "      <td>Spain</td>\n",
              "      <td>Andalusia</td>\n",
              "      <td>NA</td>\n",
              "      <td>12458.0</td>\n",
              "      <td>1358.0</td>\n",
              "      <td>10671.0</td>\n",
              "      <td>429.0</td>\n",
              "      <td>38.0</td>\n",
              "      <td>3.0</td>\n",
              "      <td>352.0</td>\n",
              "      <td>-317.0</td>\n",
              "    </tr>\n",
              "    <tr>\n",
              "      <th>...</th>\n",
              "      <td>...</td>\n",
              "      <td>...</td>\n",
              "      <td>...</td>\n",
              "      <td>...</td>\n",
              "      <td>...</td>\n",
              "      <td>...</td>\n",
              "      <td>...</td>\n",
              "      <td>...</td>\n",
              "      <td>...</td>\n",
              "      <td>...</td>\n",
              "      <td>...</td>\n",
              "      <td>...</td>\n",
              "    </tr>\n",
              "    <tr>\n",
              "      <th>812697</th>\n",
              "      <td>2020-10-28</td>\n",
              "      <td>Spain</td>\n",
              "      <td>Unknown</td>\n",
              "      <td>NA</td>\n",
              "      <td>0.0</td>\n",
              "      <td>0.0</td>\n",
              "      <td>0.0</td>\n",
              "      <td>0.0</td>\n",
              "      <td>0.0</td>\n",
              "      <td>0.0</td>\n",
              "      <td>0.0</td>\n",
              "      <td>0.0</td>\n",
              "    </tr>\n",
              "    <tr>\n",
              "      <th>816655</th>\n",
              "      <td>2020-10-29</td>\n",
              "      <td>Spain</td>\n",
              "      <td>Unknown</td>\n",
              "      <td>NA</td>\n",
              "      <td>0.0</td>\n",
              "      <td>0.0</td>\n",
              "      <td>0.0</td>\n",
              "      <td>0.0</td>\n",
              "      <td>0.0</td>\n",
              "      <td>0.0</td>\n",
              "      <td>0.0</td>\n",
              "      <td>0.0</td>\n",
              "    </tr>\n",
              "    <tr>\n",
              "      <th>820613</th>\n",
              "      <td>2020-10-30</td>\n",
              "      <td>Spain</td>\n",
              "      <td>Unknown</td>\n",
              "      <td>NA</td>\n",
              "      <td>0.0</td>\n",
              "      <td>0.0</td>\n",
              "      <td>0.0</td>\n",
              "      <td>0.0</td>\n",
              "      <td>0.0</td>\n",
              "      <td>0.0</td>\n",
              "      <td>0.0</td>\n",
              "      <td>0.0</td>\n",
              "    </tr>\n",
              "    <tr>\n",
              "      <th>824571</th>\n",
              "      <td>2020-10-31</td>\n",
              "      <td>Spain</td>\n",
              "      <td>Unknown</td>\n",
              "      <td>NA</td>\n",
              "      <td>0.0</td>\n",
              "      <td>0.0</td>\n",
              "      <td>0.0</td>\n",
              "      <td>0.0</td>\n",
              "      <td>0.0</td>\n",
              "      <td>0.0</td>\n",
              "      <td>0.0</td>\n",
              "      <td>0.0</td>\n",
              "    </tr>\n",
              "    <tr>\n",
              "      <th>828529</th>\n",
              "      <td>2020-11-01</td>\n",
              "      <td>Spain</td>\n",
              "      <td>Unknown</td>\n",
              "      <td>NA</td>\n",
              "      <td>0.0</td>\n",
              "      <td>0.0</td>\n",
              "      <td>0.0</td>\n",
              "      <td>0.0</td>\n",
              "      <td>0.0</td>\n",
              "      <td>0.0</td>\n",
              "      <td>0.0</td>\n",
              "      <td>0.0</td>\n",
              "    </tr>\n",
              "  </tbody>\n",
              "</table>\n",
              "<p>3538 rows × 12 columns</p>\n",
              "</div>"
            ],
            "text/plain": [
              "             Date Country      State  ...  Deaths  Recovered  Active\n",
              "172072 2020-05-14   Spain  Andalusia  ...  1336.0     9918.0     NaN\n",
              "175365 2020-05-15   Spain  Andalusia  ...     8.0      230.0  -196.0\n",
              "178664 2020-05-16   Spain  Andalusia  ...    11.0      171.0  -163.0\n",
              "181967 2020-05-17   Spain  Andalusia  ...     0.0        0.0     0.0\n",
              "185273 2020-05-18   Spain  Andalusia  ...     3.0      352.0  -317.0\n",
              "...           ...     ...        ...  ...     ...        ...     ...\n",
              "812697 2020-10-28   Spain    Unknown  ...     0.0        0.0     0.0\n",
              "816655 2020-10-29   Spain    Unknown  ...     0.0        0.0     0.0\n",
              "820613 2020-10-30   Spain    Unknown  ...     0.0        0.0     0.0\n",
              "824571 2020-10-31   Spain    Unknown  ...     0.0        0.0     0.0\n",
              "828529 2020-11-01   Spain    Unknown  ...     0.0        0.0     0.0\n",
              "\n",
              "[3538 rows x 12 columns]"
            ]
          },
          "metadata": {
            "tags": []
          },
          "execution_count": 25
        }
      ]
    },
    {
      "cell_type": "markdown",
      "metadata": {
        "id": "6iVrbLMbPK12"
      },
      "source": [
        "## Data By Country\n",
        "\n",
        "\n"
      ]
    },
    {
      "cell_type": "markdown",
      "metadata": {
        "id": "WmgHcHDV8YwI"
      },
      "source": [
        "So far, we have data by 3 geographical levels: Country, State and a lower level called Admin2"
      ]
    },
    {
      "cell_type": "markdown",
      "metadata": {
        "id": "Q27Z37fC8qp3"
      },
      "source": [
        "The problem is that not all countries have this level of information, so I will create a new dataset only with the country level data"
      ]
    },
    {
      "cell_type": "code",
      "metadata": {
        "id": "HdFBOvQnoHyb",
        "outputId": "3f102da2-1d09-4004-bc47-a2d345a92421",
        "colab": {
          "base_uri": "https://localhost:8080/"
        }
      },
      "source": [
        "data_by_country = data.groupby([\"Date\", \"Country\"]).agg(\"sum\").reset_index()\n",
        "data_by_country = data_by_country.sort_values(['Country', 'Date'])\n",
        "data_by_country.info()"
      ],
      "execution_count": 26,
      "outputs": [
        {
          "output_type": "stream",
          "text": [
            "<class 'pandas.core.frame.DataFrame'>\n",
            "Int64Index: 45563 entries, 848 to 45562\n",
            "Data columns (total 10 columns):\n",
            " #   Column         Non-Null Count  Dtype         \n",
            "---  ------         --------------  -----         \n",
            " 0   Date           45563 non-null  datetime64[ns]\n",
            " 1   Country        45563 non-null  object        \n",
            " 2   ConfirmedAcum  45563 non-null  float64       \n",
            " 3   DeathsAcum     45563 non-null  float64       \n",
            " 4   RecoveredAcum  45563 non-null  float64       \n",
            " 5   ActiveAcum     45563 non-null  float64       \n",
            " 6   Confirmed      45563 non-null  float64       \n",
            " 7   Deaths         45563 non-null  float64       \n",
            " 8   Recovered      45563 non-null  float64       \n",
            " 9   Active         45563 non-null  float64       \n",
            "dtypes: datetime64[ns](1), float64(8), object(1)\n",
            "memory usage: 3.8+ MB\n"
          ],
          "name": "stdout"
        }
      ]
    },
    {
      "cell_type": "code",
      "metadata": {
        "id": "l4ZlhVtkoOUr",
        "outputId": "b1c23380-4ccb-466c-d0f5-ec0fc0bdd840",
        "colab": {
          "base_uri": "https://localhost:8080/",
          "height": 206
        }
      },
      "source": [
        "data_by_country.head()"
      ],
      "execution_count": 27,
      "outputs": [
        {
          "output_type": "execute_result",
          "data": {
            "text/html": [
              "<div>\n",
              "<style scoped>\n",
              "    .dataframe tbody tr th:only-of-type {\n",
              "        vertical-align: middle;\n",
              "    }\n",
              "\n",
              "    .dataframe tbody tr th {\n",
              "        vertical-align: top;\n",
              "    }\n",
              "\n",
              "    .dataframe thead th {\n",
              "        text-align: right;\n",
              "    }\n",
              "</style>\n",
              "<table border=\"1\" class=\"dataframe\">\n",
              "  <thead>\n",
              "    <tr style=\"text-align: right;\">\n",
              "      <th></th>\n",
              "      <th>Date</th>\n",
              "      <th>Country</th>\n",
              "      <th>ConfirmedAcum</th>\n",
              "      <th>DeathsAcum</th>\n",
              "      <th>RecoveredAcum</th>\n",
              "      <th>ActiveAcum</th>\n",
              "      <th>Confirmed</th>\n",
              "      <th>Deaths</th>\n",
              "      <th>Recovered</th>\n",
              "      <th>Active</th>\n",
              "    </tr>\n",
              "  </thead>\n",
              "  <tbody>\n",
              "    <tr>\n",
              "      <th>848</th>\n",
              "      <td>2020-02-24</td>\n",
              "      <td>Afghanistan</td>\n",
              "      <td>1.0</td>\n",
              "      <td>0.0</td>\n",
              "      <td>0.0</td>\n",
              "      <td>1.0</td>\n",
              "      <td>1.0</td>\n",
              "      <td>0.0</td>\n",
              "      <td>0.0</td>\n",
              "      <td>0.0</td>\n",
              "    </tr>\n",
              "    <tr>\n",
              "      <th>886</th>\n",
              "      <td>2020-02-25</td>\n",
              "      <td>Afghanistan</td>\n",
              "      <td>1.0</td>\n",
              "      <td>0.0</td>\n",
              "      <td>0.0</td>\n",
              "      <td>1.0</td>\n",
              "      <td>0.0</td>\n",
              "      <td>0.0</td>\n",
              "      <td>0.0</td>\n",
              "      <td>0.0</td>\n",
              "    </tr>\n",
              "    <tr>\n",
              "      <th>928</th>\n",
              "      <td>2020-02-26</td>\n",
              "      <td>Afghanistan</td>\n",
              "      <td>1.0</td>\n",
              "      <td>0.0</td>\n",
              "      <td>0.0</td>\n",
              "      <td>1.0</td>\n",
              "      <td>0.0</td>\n",
              "      <td>0.0</td>\n",
              "      <td>0.0</td>\n",
              "      <td>0.0</td>\n",
              "    </tr>\n",
              "    <tr>\n",
              "      <th>977</th>\n",
              "      <td>2020-02-27</td>\n",
              "      <td>Afghanistan</td>\n",
              "      <td>1.0</td>\n",
              "      <td>0.0</td>\n",
              "      <td>0.0</td>\n",
              "      <td>1.0</td>\n",
              "      <td>0.0</td>\n",
              "      <td>0.0</td>\n",
              "      <td>0.0</td>\n",
              "      <td>0.0</td>\n",
              "    </tr>\n",
              "    <tr>\n",
              "      <th>1030</th>\n",
              "      <td>2020-02-28</td>\n",
              "      <td>Afghanistan</td>\n",
              "      <td>1.0</td>\n",
              "      <td>0.0</td>\n",
              "      <td>0.0</td>\n",
              "      <td>1.0</td>\n",
              "      <td>0.0</td>\n",
              "      <td>0.0</td>\n",
              "      <td>0.0</td>\n",
              "      <td>0.0</td>\n",
              "    </tr>\n",
              "  </tbody>\n",
              "</table>\n",
              "</div>"
            ],
            "text/plain": [
              "           Date      Country  ConfirmedAcum  ...  Deaths  Recovered  Active\n",
              "848  2020-02-24  Afghanistan            1.0  ...     0.0        0.0     0.0\n",
              "886  2020-02-25  Afghanistan            1.0  ...     0.0        0.0     0.0\n",
              "928  2020-02-26  Afghanistan            1.0  ...     0.0        0.0     0.0\n",
              "977  2020-02-27  Afghanistan            1.0  ...     0.0        0.0     0.0\n",
              "1030 2020-02-28  Afghanistan            1.0  ...     0.0        0.0     0.0\n",
              "\n",
              "[5 rows x 10 columns]"
            ]
          },
          "metadata": {
            "tags": []
          },
          "execution_count": 27
        }
      ]
    },
    {
      "cell_type": "code",
      "metadata": {
        "id": "qEkuhtfkrW1l",
        "outputId": "9ed2b2d9-07e5-48ec-d0e6-d261e090d1ff",
        "colab": {
          "base_uri": "https://localhost:8080/",
          "height": 424
        }
      },
      "source": [
        "data_by_country[data_by_country.Country == 'United States']"
      ],
      "execution_count": 28,
      "outputs": [
        {
          "output_type": "execute_result",
          "data": {
            "text/html": [
              "<div>\n",
              "<style scoped>\n",
              "    .dataframe tbody tr th:only-of-type {\n",
              "        vertical-align: middle;\n",
              "    }\n",
              "\n",
              "    .dataframe tbody tr th {\n",
              "        vertical-align: top;\n",
              "    }\n",
              "\n",
              "    .dataframe thead th {\n",
              "        text-align: right;\n",
              "    }\n",
              "</style>\n",
              "<table border=\"1\" class=\"dataframe\">\n",
              "  <thead>\n",
              "    <tr style=\"text-align: right;\">\n",
              "      <th></th>\n",
              "      <th>Date</th>\n",
              "      <th>Country</th>\n",
              "      <th>ConfirmedAcum</th>\n",
              "      <th>DeathsAcum</th>\n",
              "      <th>RecoveredAcum</th>\n",
              "      <th>ActiveAcum</th>\n",
              "      <th>Confirmed</th>\n",
              "      <th>Deaths</th>\n",
              "      <th>Recovered</th>\n",
              "      <th>Active</th>\n",
              "    </tr>\n",
              "  </thead>\n",
              "  <tbody>\n",
              "    <tr>\n",
              "      <th>7</th>\n",
              "      <td>2020-01-22</td>\n",
              "      <td>United States</td>\n",
              "      <td>1.0</td>\n",
              "      <td>0.0</td>\n",
              "      <td>0.0</td>\n",
              "      <td>0.0</td>\n",
              "      <td>1.0</td>\n",
              "      <td>0.0</td>\n",
              "      <td>0.0</td>\n",
              "      <td>0.0</td>\n",
              "    </tr>\n",
              "    <tr>\n",
              "      <th>22</th>\n",
              "      <td>2020-01-23</td>\n",
              "      <td>United States</td>\n",
              "      <td>1.0</td>\n",
              "      <td>0.0</td>\n",
              "      <td>0.0</td>\n",
              "      <td>0.0</td>\n",
              "      <td>0.0</td>\n",
              "      <td>0.0</td>\n",
              "      <td>0.0</td>\n",
              "      <td>0.0</td>\n",
              "    </tr>\n",
              "    <tr>\n",
              "      <th>33</th>\n",
              "      <td>2020-01-24</td>\n",
              "      <td>United States</td>\n",
              "      <td>2.0</td>\n",
              "      <td>0.0</td>\n",
              "      <td>0.0</td>\n",
              "      <td>0.0</td>\n",
              "      <td>1.0</td>\n",
              "      <td>0.0</td>\n",
              "      <td>0.0</td>\n",
              "      <td>0.0</td>\n",
              "    </tr>\n",
              "    <tr>\n",
              "      <th>47</th>\n",
              "      <td>2020-01-25</td>\n",
              "      <td>United States</td>\n",
              "      <td>2.0</td>\n",
              "      <td>0.0</td>\n",
              "      <td>0.0</td>\n",
              "      <td>0.0</td>\n",
              "      <td>1.0</td>\n",
              "      <td>0.0</td>\n",
              "      <td>0.0</td>\n",
              "      <td>0.0</td>\n",
              "    </tr>\n",
              "    <tr>\n",
              "      <th>62</th>\n",
              "      <td>2020-01-26</td>\n",
              "      <td>United States</td>\n",
              "      <td>5.0</td>\n",
              "      <td>0.0</td>\n",
              "      <td>0.0</td>\n",
              "      <td>0.0</td>\n",
              "      <td>3.0</td>\n",
              "      <td>0.0</td>\n",
              "      <td>0.0</td>\n",
              "      <td>0.0</td>\n",
              "    </tr>\n",
              "    <tr>\n",
              "      <th>...</th>\n",
              "      <td>...</td>\n",
              "      <td>...</td>\n",
              "      <td>...</td>\n",
              "      <td>...</td>\n",
              "      <td>...</td>\n",
              "      <td>...</td>\n",
              "      <td>...</td>\n",
              "      <td>...</td>\n",
              "      <td>...</td>\n",
              "      <td>...</td>\n",
              "    </tr>\n",
              "    <tr>\n",
              "      <th>44798</th>\n",
              "      <td>2020-10-28</td>\n",
              "      <td>United States</td>\n",
              "      <td>8856413.0</td>\n",
              "      <td>227685.0</td>\n",
              "      <td>3518140.0</td>\n",
              "      <td>5110588.0</td>\n",
              "      <td>78358.0</td>\n",
              "      <td>989.0</td>\n",
              "      <td>30474.0</td>\n",
              "      <td>46895.0</td>\n",
              "    </tr>\n",
              "    <tr>\n",
              "      <th>44987</th>\n",
              "      <td>2020-10-29</td>\n",
              "      <td>United States</td>\n",
              "      <td>8944934.0</td>\n",
              "      <td>228656.0</td>\n",
              "      <td>3554336.0</td>\n",
              "      <td>5161942.0</td>\n",
              "      <td>88521.0</td>\n",
              "      <td>971.0</td>\n",
              "      <td>36196.0</td>\n",
              "      <td>51354.0</td>\n",
              "    </tr>\n",
              "    <tr>\n",
              "      <th>45176</th>\n",
              "      <td>2020-10-30</td>\n",
              "      <td>United States</td>\n",
              "      <td>9044255.0</td>\n",
              "      <td>229686.0</td>\n",
              "      <td>3578452.0</td>\n",
              "      <td>5236117.0</td>\n",
              "      <td>99321.0</td>\n",
              "      <td>1030.0</td>\n",
              "      <td>24116.0</td>\n",
              "      <td>74175.0</td>\n",
              "    </tr>\n",
              "    <tr>\n",
              "      <th>45365</th>\n",
              "      <td>2020-10-31</td>\n",
              "      <td>United States</td>\n",
              "      <td>9125482.0</td>\n",
              "      <td>230548.0</td>\n",
              "      <td>3612478.0</td>\n",
              "      <td>5282456.0</td>\n",
              "      <td>81227.0</td>\n",
              "      <td>862.0</td>\n",
              "      <td>34026.0</td>\n",
              "      <td>46339.0</td>\n",
              "    </tr>\n",
              "    <tr>\n",
              "      <th>45554</th>\n",
              "      <td>2020-11-01</td>\n",
              "      <td>United States</td>\n",
              "      <td>9206975.0</td>\n",
              "      <td>230995.0</td>\n",
              "      <td>3630579.0</td>\n",
              "      <td>5345401.0</td>\n",
              "      <td>81493.0</td>\n",
              "      <td>447.0</td>\n",
              "      <td>18101.0</td>\n",
              "      <td>62945.0</td>\n",
              "    </tr>\n",
              "  </tbody>\n",
              "</table>\n",
              "<p>285 rows × 10 columns</p>\n",
              "</div>"
            ],
            "text/plain": [
              "            Date        Country  ConfirmedAcum  ...  Deaths  Recovered   Active\n",
              "7     2020-01-22  United States            1.0  ...     0.0        0.0      0.0\n",
              "22    2020-01-23  United States            1.0  ...     0.0        0.0      0.0\n",
              "33    2020-01-24  United States            2.0  ...     0.0        0.0      0.0\n",
              "47    2020-01-25  United States            2.0  ...     0.0        0.0      0.0\n",
              "62    2020-01-26  United States            5.0  ...     0.0        0.0      0.0\n",
              "...          ...            ...            ...  ...     ...        ...      ...\n",
              "44798 2020-10-28  United States      8856413.0  ...   989.0    30474.0  46895.0\n",
              "44987 2020-10-29  United States      8944934.0  ...   971.0    36196.0  51354.0\n",
              "45176 2020-10-30  United States      9044255.0  ...  1030.0    24116.0  74175.0\n",
              "45365 2020-10-31  United States      9125482.0  ...   862.0    34026.0  46339.0\n",
              "45554 2020-11-01  United States      9206975.0  ...   447.0    18101.0  62945.0\n",
              "\n",
              "[285 rows x 10 columns]"
            ]
          },
          "metadata": {
            "tags": []
          },
          "execution_count": 28
        }
      ]
    },
    {
      "cell_type": "markdown",
      "metadata": {
        "id": "5SkKjf2zaM33"
      },
      "source": [
        "## Cases per million inhabitants\n",
        "\n"
      ]
    },
    {
      "cell_type": "markdown",
      "metadata": {
        "id": "9Doq50kGLEzX"
      },
      "source": [
        "We are going to enrich the information with the number of cases per million inhabitants, so we need population data by country.\n",
        "\n",
        "A small internet search leads me to a page that has population data for 2020:\n",
        "\n",
        "https://www.worldometers.info/world-population/population-by-country/\n",
        "\n",
        "It seems that this information is protected to be downloaded automatically so I have no choice but to do it manually and upload the data to a GitHub Repository:\n",
        "\n",
        "https://github.com/dvillaj/world-population/\n",
        "\n"
      ]
    },
    {
      "cell_type": "markdown",
      "metadata": {
        "id": "QJuioEUaMoVZ"
      },
      "source": [
        "I load the data to the Pandas, clean it up and just maintain the field of the population \n"
      ]
    },
    {
      "cell_type": "code",
      "metadata": {
        "id": "MP-rwsGkeHRv"
      },
      "source": [
        "population = pd.read_excel(\"https://github.com/dvillaj/world-population/blob/master/data/world-popultation-2020.xlsx?raw=true\", sheet_name=\"Data\")"
      ],
      "execution_count": 29,
      "outputs": []
    },
    {
      "cell_type": "code",
      "metadata": {
        "id": "KqTM6UkHeRXA",
        "outputId": "b5db91d7-81b7-469c-eadc-80e44cfddb4f",
        "colab": {
          "base_uri": "https://localhost:8080/"
        }
      },
      "source": [
        "population.info()"
      ],
      "execution_count": 30,
      "outputs": [
        {
          "output_type": "stream",
          "text": [
            "<class 'pandas.core.frame.DataFrame'>\n",
            "RangeIndex: 235 entries, 0 to 234\n",
            "Data columns (total 11 columns):\n",
            " #   Column             Non-Null Count  Dtype  \n",
            "---  ------             --------------  -----  \n",
            " 0   Country            235 non-null    object \n",
            " 1   Population (2020)  235 non-null    int64  \n",
            " 2   Yearly Change      235 non-null    float64\n",
            " 3   Net Change         235 non-null    int64  \n",
            " 4   Density (P/Km²)    235 non-null    float64\n",
            " 5   Land Area (Km²)    235 non-null    int64  \n",
            " 6   Migrants (net)     201 non-null    float64\n",
            " 7   Fertility Rate     201 non-null    float64\n",
            " 8   Average Age        201 non-null    float64\n",
            " 9   Urban Pop %        222 non-null    float64\n",
            " 10  World Share        235 non-null    float64\n",
            "dtypes: float64(7), int64(3), object(1)\n",
            "memory usage: 20.3+ KB\n"
          ],
          "name": "stdout"
        }
      ]
    },
    {
      "cell_type": "code",
      "metadata": {
        "id": "fssvIxSPs_xR"
      },
      "source": [
        "population = population.rename(columns = {\n",
        "    'Population (2020)' : 'Population',\n",
        "    'Yearly Change' : 'Yearly_Change',\n",
        "    'Net Change' : 'Net_Change',\n",
        "    'Density (P/Km²)' : 'Density',\n",
        "    'Land Area (Km²)' : 'Land_Area',\n",
        "    'Migrants (net)' : 'igrants',\n",
        "    'Fertility Rate' : 'Fertility',\n",
        "    'Average Age' : 'Mean_Age',\n",
        "    'Urban Pop %' : 'Urban_Pop',\n",
        "    'World Share' : 'World_Share'\n",
        "})"
      ],
      "execution_count": 31,
      "outputs": []
    },
    {
      "cell_type": "code",
      "metadata": {
        "id": "s7kZJnI1E3lT"
      },
      "source": [
        "population = population[['Country', 'Population']]"
      ],
      "execution_count": 32,
      "outputs": []
    },
    {
      "cell_type": "code",
      "metadata": {
        "id": "sgeL52pNrCR6",
        "outputId": "c7524559-ca94-463c-d13b-babceed0edee",
        "colab": {
          "base_uri": "https://localhost:8080/",
          "height": 206
        }
      },
      "source": [
        "population.head()"
      ],
      "execution_count": 33,
      "outputs": [
        {
          "output_type": "execute_result",
          "data": {
            "text/html": [
              "<div>\n",
              "<style scoped>\n",
              "    .dataframe tbody tr th:only-of-type {\n",
              "        vertical-align: middle;\n",
              "    }\n",
              "\n",
              "    .dataframe tbody tr th {\n",
              "        vertical-align: top;\n",
              "    }\n",
              "\n",
              "    .dataframe thead th {\n",
              "        text-align: right;\n",
              "    }\n",
              "</style>\n",
              "<table border=\"1\" class=\"dataframe\">\n",
              "  <thead>\n",
              "    <tr style=\"text-align: right;\">\n",
              "      <th></th>\n",
              "      <th>Country</th>\n",
              "      <th>Population</th>\n",
              "    </tr>\n",
              "  </thead>\n",
              "  <tbody>\n",
              "    <tr>\n",
              "      <th>0</th>\n",
              "      <td>Afghanistan</td>\n",
              "      <td>38928346</td>\n",
              "    </tr>\n",
              "    <tr>\n",
              "      <th>1</th>\n",
              "      <td>Albania</td>\n",
              "      <td>2877797</td>\n",
              "    </tr>\n",
              "    <tr>\n",
              "      <th>2</th>\n",
              "      <td>Algeria</td>\n",
              "      <td>43851044</td>\n",
              "    </tr>\n",
              "    <tr>\n",
              "      <th>3</th>\n",
              "      <td>American Samoa</td>\n",
              "      <td>55191</td>\n",
              "    </tr>\n",
              "    <tr>\n",
              "      <th>4</th>\n",
              "      <td>Andorra</td>\n",
              "      <td>77265</td>\n",
              "    </tr>\n",
              "  </tbody>\n",
              "</table>\n",
              "</div>"
            ],
            "text/plain": [
              "          Country  Population\n",
              "0     Afghanistan    38928346\n",
              "1         Albania     2877797\n",
              "2         Algeria    43851044\n",
              "3  American Samoa       55191\n",
              "4         Andorra       77265"
            ]
          },
          "metadata": {
            "tags": []
          },
          "execution_count": 33
        }
      ]
    },
    {
      "cell_type": "markdown",
      "metadata": {
        "id": "0KKRRJK7M_WN"
      },
      "source": [
        "Now I join the population Dataset with the country data to have the population in this dataset"
      ]
    },
    {
      "cell_type": "code",
      "metadata": {
        "id": "FlmyQ_H0xLbP"
      },
      "source": [
        "data_by_country = data_by_country.merge(population, how = 'left', on = 'Country')"
      ],
      "execution_count": 34,
      "outputs": []
    },
    {
      "cell_type": "code",
      "metadata": {
        "id": "mFuMJ5XvmBIF",
        "outputId": "23ae9922-8dee-4fa4-afef-2ce8a1babc3f",
        "colab": {
          "base_uri": "https://localhost:8080/"
        }
      },
      "source": [
        "data_by_country.info()"
      ],
      "execution_count": 35,
      "outputs": [
        {
          "output_type": "stream",
          "text": [
            "<class 'pandas.core.frame.DataFrame'>\n",
            "Int64Index: 45563 entries, 0 to 45562\n",
            "Data columns (total 11 columns):\n",
            " #   Column         Non-Null Count  Dtype         \n",
            "---  ------         --------------  -----         \n",
            " 0   Date           45563 non-null  datetime64[ns]\n",
            " 1   Country        45563 non-null  object        \n",
            " 2   ConfirmedAcum  45563 non-null  float64       \n",
            " 3   DeathsAcum     45563 non-null  float64       \n",
            " 4   RecoveredAcum  45563 non-null  float64       \n",
            " 5   ActiveAcum     45563 non-null  float64       \n",
            " 6   Confirmed      45563 non-null  float64       \n",
            " 7   Deaths         45563 non-null  float64       \n",
            " 8   Recovered      45563 non-null  float64       \n",
            " 9   Active         45563 non-null  float64       \n",
            " 10  Population     44071 non-null  float64       \n",
            "dtypes: datetime64[ns](1), float64(9), object(1)\n",
            "memory usage: 4.2+ MB\n"
          ],
          "name": "stdout"
        }
      ]
    },
    {
      "cell_type": "code",
      "metadata": {
        "id": "A-TiQcLCFGaw",
        "outputId": "74c9ba11-b0db-4121-dd5a-c2f7315ab44c",
        "colab": {
          "base_uri": "https://localhost:8080/",
          "height": 206
        }
      },
      "source": [
        "data_by_country.head()"
      ],
      "execution_count": 36,
      "outputs": [
        {
          "output_type": "execute_result",
          "data": {
            "text/html": [
              "<div>\n",
              "<style scoped>\n",
              "    .dataframe tbody tr th:only-of-type {\n",
              "        vertical-align: middle;\n",
              "    }\n",
              "\n",
              "    .dataframe tbody tr th {\n",
              "        vertical-align: top;\n",
              "    }\n",
              "\n",
              "    .dataframe thead th {\n",
              "        text-align: right;\n",
              "    }\n",
              "</style>\n",
              "<table border=\"1\" class=\"dataframe\">\n",
              "  <thead>\n",
              "    <tr style=\"text-align: right;\">\n",
              "      <th></th>\n",
              "      <th>Date</th>\n",
              "      <th>Country</th>\n",
              "      <th>ConfirmedAcum</th>\n",
              "      <th>DeathsAcum</th>\n",
              "      <th>RecoveredAcum</th>\n",
              "      <th>ActiveAcum</th>\n",
              "      <th>Confirmed</th>\n",
              "      <th>Deaths</th>\n",
              "      <th>Recovered</th>\n",
              "      <th>Active</th>\n",
              "      <th>Population</th>\n",
              "    </tr>\n",
              "  </thead>\n",
              "  <tbody>\n",
              "    <tr>\n",
              "      <th>0</th>\n",
              "      <td>2020-02-24</td>\n",
              "      <td>Afghanistan</td>\n",
              "      <td>1.0</td>\n",
              "      <td>0.0</td>\n",
              "      <td>0.0</td>\n",
              "      <td>1.0</td>\n",
              "      <td>1.0</td>\n",
              "      <td>0.0</td>\n",
              "      <td>0.0</td>\n",
              "      <td>0.0</td>\n",
              "      <td>38928346.0</td>\n",
              "    </tr>\n",
              "    <tr>\n",
              "      <th>1</th>\n",
              "      <td>2020-02-25</td>\n",
              "      <td>Afghanistan</td>\n",
              "      <td>1.0</td>\n",
              "      <td>0.0</td>\n",
              "      <td>0.0</td>\n",
              "      <td>1.0</td>\n",
              "      <td>0.0</td>\n",
              "      <td>0.0</td>\n",
              "      <td>0.0</td>\n",
              "      <td>0.0</td>\n",
              "      <td>38928346.0</td>\n",
              "    </tr>\n",
              "    <tr>\n",
              "      <th>2</th>\n",
              "      <td>2020-02-26</td>\n",
              "      <td>Afghanistan</td>\n",
              "      <td>1.0</td>\n",
              "      <td>0.0</td>\n",
              "      <td>0.0</td>\n",
              "      <td>1.0</td>\n",
              "      <td>0.0</td>\n",
              "      <td>0.0</td>\n",
              "      <td>0.0</td>\n",
              "      <td>0.0</td>\n",
              "      <td>38928346.0</td>\n",
              "    </tr>\n",
              "    <tr>\n",
              "      <th>3</th>\n",
              "      <td>2020-02-27</td>\n",
              "      <td>Afghanistan</td>\n",
              "      <td>1.0</td>\n",
              "      <td>0.0</td>\n",
              "      <td>0.0</td>\n",
              "      <td>1.0</td>\n",
              "      <td>0.0</td>\n",
              "      <td>0.0</td>\n",
              "      <td>0.0</td>\n",
              "      <td>0.0</td>\n",
              "      <td>38928346.0</td>\n",
              "    </tr>\n",
              "    <tr>\n",
              "      <th>4</th>\n",
              "      <td>2020-02-28</td>\n",
              "      <td>Afghanistan</td>\n",
              "      <td>1.0</td>\n",
              "      <td>0.0</td>\n",
              "      <td>0.0</td>\n",
              "      <td>1.0</td>\n",
              "      <td>0.0</td>\n",
              "      <td>0.0</td>\n",
              "      <td>0.0</td>\n",
              "      <td>0.0</td>\n",
              "      <td>38928346.0</td>\n",
              "    </tr>\n",
              "  </tbody>\n",
              "</table>\n",
              "</div>"
            ],
            "text/plain": [
              "        Date      Country  ConfirmedAcum  ...  Recovered  Active  Population\n",
              "0 2020-02-24  Afghanistan            1.0  ...        0.0     0.0  38928346.0\n",
              "1 2020-02-25  Afghanistan            1.0  ...        0.0     0.0  38928346.0\n",
              "2 2020-02-26  Afghanistan            1.0  ...        0.0     0.0  38928346.0\n",
              "3 2020-02-27  Afghanistan            1.0  ...        0.0     0.0  38928346.0\n",
              "4 2020-02-28  Afghanistan            1.0  ...        0.0     0.0  38928346.0\n",
              "\n",
              "[5 rows x 11 columns]"
            ]
          },
          "metadata": {
            "tags": []
          },
          "execution_count": 36
        }
      ]
    },
    {
      "cell_type": "markdown",
      "metadata": {
        "id": "tLyawi0QNN8E"
      },
      "source": [
        "And finally I calculate the number of cases per million inhabitants"
      ]
    },
    {
      "cell_type": "code",
      "metadata": {
        "id": "Q3B760gwH1JI",
        "outputId": "907de54b-fe2b-4b56-8800-ae7fdef192a0",
        "colab": {
          "base_uri": "https://localhost:8080/",
          "height": 206
        }
      },
      "source": [
        "data_by_country = data_by_country.assign(ConfirmedAcum_Millon = data_by_country.ConfirmedAcum / data_by_country.Population * 1000000)\n",
        "data_by_country.head()"
      ],
      "execution_count": 37,
      "outputs": [
        {
          "output_type": "execute_result",
          "data": {
            "text/html": [
              "<div>\n",
              "<style scoped>\n",
              "    .dataframe tbody tr th:only-of-type {\n",
              "        vertical-align: middle;\n",
              "    }\n",
              "\n",
              "    .dataframe tbody tr th {\n",
              "        vertical-align: top;\n",
              "    }\n",
              "\n",
              "    .dataframe thead th {\n",
              "        text-align: right;\n",
              "    }\n",
              "</style>\n",
              "<table border=\"1\" class=\"dataframe\">\n",
              "  <thead>\n",
              "    <tr style=\"text-align: right;\">\n",
              "      <th></th>\n",
              "      <th>Date</th>\n",
              "      <th>Country</th>\n",
              "      <th>ConfirmedAcum</th>\n",
              "      <th>DeathsAcum</th>\n",
              "      <th>RecoveredAcum</th>\n",
              "      <th>ActiveAcum</th>\n",
              "      <th>Confirmed</th>\n",
              "      <th>Deaths</th>\n",
              "      <th>Recovered</th>\n",
              "      <th>Active</th>\n",
              "      <th>Population</th>\n",
              "      <th>ConfirmedAcum_Millon</th>\n",
              "    </tr>\n",
              "  </thead>\n",
              "  <tbody>\n",
              "    <tr>\n",
              "      <th>0</th>\n",
              "      <td>2020-02-24</td>\n",
              "      <td>Afghanistan</td>\n",
              "      <td>1.0</td>\n",
              "      <td>0.0</td>\n",
              "      <td>0.0</td>\n",
              "      <td>1.0</td>\n",
              "      <td>1.0</td>\n",
              "      <td>0.0</td>\n",
              "      <td>0.0</td>\n",
              "      <td>0.0</td>\n",
              "      <td>38928346.0</td>\n",
              "      <td>0.025688</td>\n",
              "    </tr>\n",
              "    <tr>\n",
              "      <th>1</th>\n",
              "      <td>2020-02-25</td>\n",
              "      <td>Afghanistan</td>\n",
              "      <td>1.0</td>\n",
              "      <td>0.0</td>\n",
              "      <td>0.0</td>\n",
              "      <td>1.0</td>\n",
              "      <td>0.0</td>\n",
              "      <td>0.0</td>\n",
              "      <td>0.0</td>\n",
              "      <td>0.0</td>\n",
              "      <td>38928346.0</td>\n",
              "      <td>0.025688</td>\n",
              "    </tr>\n",
              "    <tr>\n",
              "      <th>2</th>\n",
              "      <td>2020-02-26</td>\n",
              "      <td>Afghanistan</td>\n",
              "      <td>1.0</td>\n",
              "      <td>0.0</td>\n",
              "      <td>0.0</td>\n",
              "      <td>1.0</td>\n",
              "      <td>0.0</td>\n",
              "      <td>0.0</td>\n",
              "      <td>0.0</td>\n",
              "      <td>0.0</td>\n",
              "      <td>38928346.0</td>\n",
              "      <td>0.025688</td>\n",
              "    </tr>\n",
              "    <tr>\n",
              "      <th>3</th>\n",
              "      <td>2020-02-27</td>\n",
              "      <td>Afghanistan</td>\n",
              "      <td>1.0</td>\n",
              "      <td>0.0</td>\n",
              "      <td>0.0</td>\n",
              "      <td>1.0</td>\n",
              "      <td>0.0</td>\n",
              "      <td>0.0</td>\n",
              "      <td>0.0</td>\n",
              "      <td>0.0</td>\n",
              "      <td>38928346.0</td>\n",
              "      <td>0.025688</td>\n",
              "    </tr>\n",
              "    <tr>\n",
              "      <th>4</th>\n",
              "      <td>2020-02-28</td>\n",
              "      <td>Afghanistan</td>\n",
              "      <td>1.0</td>\n",
              "      <td>0.0</td>\n",
              "      <td>0.0</td>\n",
              "      <td>1.0</td>\n",
              "      <td>0.0</td>\n",
              "      <td>0.0</td>\n",
              "      <td>0.0</td>\n",
              "      <td>0.0</td>\n",
              "      <td>38928346.0</td>\n",
              "      <td>0.025688</td>\n",
              "    </tr>\n",
              "  </tbody>\n",
              "</table>\n",
              "</div>"
            ],
            "text/plain": [
              "        Date      Country  ...  Population  ConfirmedAcum_Millon\n",
              "0 2020-02-24  Afghanistan  ...  38928346.0              0.025688\n",
              "1 2020-02-25  Afghanistan  ...  38928346.0              0.025688\n",
              "2 2020-02-26  Afghanistan  ...  38928346.0              0.025688\n",
              "3 2020-02-27  Afghanistan  ...  38928346.0              0.025688\n",
              "4 2020-02-28  Afghanistan  ...  38928346.0              0.025688\n",
              "\n",
              "[5 rows x 12 columns]"
            ]
          },
          "metadata": {
            "tags": []
          },
          "execution_count": 37
        }
      ]
    },
    {
      "cell_type": "markdown",
      "metadata": {
        "id": "Vke4moEnmMci"
      },
      "source": [
        "## Rankins"
      ]
    },
    {
      "cell_type": "markdown",
      "metadata": {
        "id": "6PFpzjJPNXlx"
      },
      "source": [
        "I'm going to create a dataset of last day's cases. \n",
        "\n",
        "The goal is to get a set of rankings that tell me the countries with the most cases\n",
        "\n",
        "So I need a variable that contains the last date of the dataset"
      ]
    },
    {
      "cell_type": "code",
      "metadata": {
        "id": "fpjj8I1gIDkH",
        "outputId": "f1b6ec3c-d83e-4a1e-d48e-699aeafa6fac",
        "colab": {
          "base_uri": "https://localhost:8080/"
        }
      },
      "source": [
        "last_day = list(data_by_country.Date.sort_values(ascending = False))[0]\n",
        "last_day"
      ],
      "execution_count": 38,
      "outputs": [
        {
          "output_type": "execute_result",
          "data": {
            "text/plain": [
              "Timestamp('2020-11-01 00:00:00')"
            ]
          },
          "metadata": {
            "tags": []
          },
          "execution_count": 38
        }
      ]
    },
    {
      "cell_type": "markdown",
      "metadata": {
        "id": "iNaG20HENndT"
      },
      "source": [
        "Now I can filter the data by this date"
      ]
    },
    {
      "cell_type": "code",
      "metadata": {
        "id": "5xYLSoqXIH7o",
        "outputId": "c85a3ef2-fcb6-4c32-9e66-c4790e103e2c",
        "colab": {
          "base_uri": "https://localhost:8080/"
        }
      },
      "source": [
        "last_day_data = data_by_country[data_by_country.Date == last_day]\n",
        "last_day_data.info()"
      ],
      "execution_count": 39,
      "outputs": [
        {
          "output_type": "stream",
          "text": [
            "<class 'pandas.core.frame.DataFrame'>\n",
            "Int64Index: 189 entries, 251 to 45562\n",
            "Data columns (total 12 columns):\n",
            " #   Column                Non-Null Count  Dtype         \n",
            "---  ------                --------------  -----         \n",
            " 0   Date                  189 non-null    datetime64[ns]\n",
            " 1   Country               189 non-null    object        \n",
            " 2   ConfirmedAcum         189 non-null    float64       \n",
            " 3   DeathsAcum            189 non-null    float64       \n",
            " 4   RecoveredAcum         189 non-null    float64       \n",
            " 5   ActiveAcum            189 non-null    float64       \n",
            " 6   Confirmed             189 non-null    float64       \n",
            " 7   Deaths                189 non-null    float64       \n",
            " 8   Recovered             189 non-null    float64       \n",
            " 9   Active                189 non-null    float64       \n",
            " 10  Population            183 non-null    float64       \n",
            " 11  ConfirmedAcum_Millon  183 non-null    float64       \n",
            "dtypes: datetime64[ns](1), float64(10), object(1)\n",
            "memory usage: 19.2+ KB\n"
          ],
          "name": "stdout"
        }
      ]
    },
    {
      "cell_type": "code",
      "metadata": {
        "id": "cwirZFd_IK0I",
        "outputId": "b503ba27-a5c1-4dca-dbc7-a8d1b6f34c31",
        "colab": {
          "base_uri": "https://localhost:8080/",
          "height": 424
        }
      },
      "source": [
        "last_day_data"
      ],
      "execution_count": 40,
      "outputs": [
        {
          "output_type": "execute_result",
          "data": {
            "text/html": [
              "<div>\n",
              "<style scoped>\n",
              "    .dataframe tbody tr th:only-of-type {\n",
              "        vertical-align: middle;\n",
              "    }\n",
              "\n",
              "    .dataframe tbody tr th {\n",
              "        vertical-align: top;\n",
              "    }\n",
              "\n",
              "    .dataframe thead th {\n",
              "        text-align: right;\n",
              "    }\n",
              "</style>\n",
              "<table border=\"1\" class=\"dataframe\">\n",
              "  <thead>\n",
              "    <tr style=\"text-align: right;\">\n",
              "      <th></th>\n",
              "      <th>Date</th>\n",
              "      <th>Country</th>\n",
              "      <th>ConfirmedAcum</th>\n",
              "      <th>DeathsAcum</th>\n",
              "      <th>RecoveredAcum</th>\n",
              "      <th>ActiveAcum</th>\n",
              "      <th>Confirmed</th>\n",
              "      <th>Deaths</th>\n",
              "      <th>Recovered</th>\n",
              "      <th>Active</th>\n",
              "      <th>Population</th>\n",
              "      <th>ConfirmedAcum_Millon</th>\n",
              "    </tr>\n",
              "  </thead>\n",
              "  <tbody>\n",
              "    <tr>\n",
              "      <th>251</th>\n",
              "      <td>2020-11-01</td>\n",
              "      <td>Afghanistan</td>\n",
              "      <td>41501.0</td>\n",
              "      <td>1536.0</td>\n",
              "      <td>34326.0</td>\n",
              "      <td>5639.0</td>\n",
              "      <td>76.0</td>\n",
              "      <td>0.0</td>\n",
              "      <td>5.0</td>\n",
              "      <td>71.0</td>\n",
              "      <td>38928346.0</td>\n",
              "      <td>1066.086907</td>\n",
              "    </tr>\n",
              "    <tr>\n",
              "      <th>489</th>\n",
              "      <td>2020-11-01</td>\n",
              "      <td>Albania</td>\n",
              "      <td>21202.0</td>\n",
              "      <td>518.0</td>\n",
              "      <td>11246.0</td>\n",
              "      <td>9438.0</td>\n",
              "      <td>327.0</td>\n",
              "      <td>9.0</td>\n",
              "      <td>57.0</td>\n",
              "      <td>261.0</td>\n",
              "      <td>2877797.0</td>\n",
              "      <td>7367.441136</td>\n",
              "    </tr>\n",
              "    <tr>\n",
              "      <th>740</th>\n",
              "      <td>2020-11-01</td>\n",
              "      <td>Algeria</td>\n",
              "      <td>58272.0</td>\n",
              "      <td>1973.0</td>\n",
              "      <td>40395.0</td>\n",
              "      <td>15904.0</td>\n",
              "      <td>330.0</td>\n",
              "      <td>9.0</td>\n",
              "      <td>194.0</td>\n",
              "      <td>127.0</td>\n",
              "      <td>43851044.0</td>\n",
              "      <td>1328.862319</td>\n",
              "    </tr>\n",
              "    <tr>\n",
              "      <th>985</th>\n",
              "      <td>2020-11-01</td>\n",
              "      <td>Andorra</td>\n",
              "      <td>4825.0</td>\n",
              "      <td>75.0</td>\n",
              "      <td>3475.0</td>\n",
              "      <td>1275.0</td>\n",
              "      <td>69.0</td>\n",
              "      <td>0.0</td>\n",
              "      <td>0.0</td>\n",
              "      <td>69.0</td>\n",
              "      <td>77265.0</td>\n",
              "      <td>62447.421213</td>\n",
              "    </tr>\n",
              "    <tr>\n",
              "      <th>1212</th>\n",
              "      <td>2020-11-01</td>\n",
              "      <td>Angola</td>\n",
              "      <td>11035.0</td>\n",
              "      <td>286.0</td>\n",
              "      <td>4920.0</td>\n",
              "      <td>5829.0</td>\n",
              "      <td>230.0</td>\n",
              "      <td>2.0</td>\n",
              "      <td>397.0</td>\n",
              "      <td>-169.0</td>\n",
              "      <td>32866272.0</td>\n",
              "      <td>335.754539</td>\n",
              "    </tr>\n",
              "    <tr>\n",
              "      <th>...</th>\n",
              "      <td>...</td>\n",
              "      <td>...</td>\n",
              "      <td>...</td>\n",
              "      <td>...</td>\n",
              "      <td>...</td>\n",
              "      <td>...</td>\n",
              "      <td>...</td>\n",
              "      <td>...</td>\n",
              "      <td>...</td>\n",
              "      <td>...</td>\n",
              "      <td>...</td>\n",
              "      <td>...</td>\n",
              "    </tr>\n",
              "    <tr>\n",
              "      <th>44689</th>\n",
              "      <td>2020-11-01</td>\n",
              "      <td>Vietnam</td>\n",
              "      <td>1180.0</td>\n",
              "      <td>35.0</td>\n",
              "      <td>1063.0</td>\n",
              "      <td>82.0</td>\n",
              "      <td>0.0</td>\n",
              "      <td>0.0</td>\n",
              "      <td>1.0</td>\n",
              "      <td>-1.0</td>\n",
              "      <td>97338579.0</td>\n",
              "      <td>12.122634</td>\n",
              "    </tr>\n",
              "    <tr>\n",
              "      <th>44900</th>\n",
              "      <td>2020-11-01</td>\n",
              "      <td>Western Sahara</td>\n",
              "      <td>10.0</td>\n",
              "      <td>1.0</td>\n",
              "      <td>8.0</td>\n",
              "      <td>1.0</td>\n",
              "      <td>0.0</td>\n",
              "      <td>0.0</td>\n",
              "      <td>0.0</td>\n",
              "      <td>0.0</td>\n",
              "      <td>597339.0</td>\n",
              "      <td>16.740913</td>\n",
              "    </tr>\n",
              "    <tr>\n",
              "      <th>45106</th>\n",
              "      <td>2020-11-01</td>\n",
              "      <td>Yemen</td>\n",
              "      <td>2063.0</td>\n",
              "      <td>600.0</td>\n",
              "      <td>1366.0</td>\n",
              "      <td>97.0</td>\n",
              "      <td>0.0</td>\n",
              "      <td>1.0</td>\n",
              "      <td>0.0</td>\n",
              "      <td>-1.0</td>\n",
              "      <td>29825964.0</td>\n",
              "      <td>69.167924</td>\n",
              "    </tr>\n",
              "    <tr>\n",
              "      <th>45335</th>\n",
              "      <td>2020-11-01</td>\n",
              "      <td>Zambia</td>\n",
              "      <td>16480.0</td>\n",
              "      <td>349.0</td>\n",
              "      <td>15733.0</td>\n",
              "      <td>398.0</td>\n",
              "      <td>48.0</td>\n",
              "      <td>0.0</td>\n",
              "      <td>53.0</td>\n",
              "      <td>-5.0</td>\n",
              "      <td>18383955.0</td>\n",
              "      <td>896.433874</td>\n",
              "    </tr>\n",
              "    <tr>\n",
              "      <th>45562</th>\n",
              "      <td>2020-11-01</td>\n",
              "      <td>Zimbabwe</td>\n",
              "      <td>8374.0</td>\n",
              "      <td>243.0</td>\n",
              "      <td>7927.0</td>\n",
              "      <td>204.0</td>\n",
              "      <td>7.0</td>\n",
              "      <td>0.0</td>\n",
              "      <td>33.0</td>\n",
              "      <td>-26.0</td>\n",
              "      <td>14862924.0</td>\n",
              "      <td>563.415382</td>\n",
              "    </tr>\n",
              "  </tbody>\n",
              "</table>\n",
              "<p>189 rows × 12 columns</p>\n",
              "</div>"
            ],
            "text/plain": [
              "            Date         Country  ...  Population  ConfirmedAcum_Millon\n",
              "251   2020-11-01     Afghanistan  ...  38928346.0           1066.086907\n",
              "489   2020-11-01         Albania  ...   2877797.0           7367.441136\n",
              "740   2020-11-01         Algeria  ...  43851044.0           1328.862319\n",
              "985   2020-11-01         Andorra  ...     77265.0          62447.421213\n",
              "1212  2020-11-01          Angola  ...  32866272.0            335.754539\n",
              "...          ...             ...  ...         ...                   ...\n",
              "44689 2020-11-01         Vietnam  ...  97338579.0             12.122634\n",
              "44900 2020-11-01  Western Sahara  ...    597339.0             16.740913\n",
              "45106 2020-11-01           Yemen  ...  29825964.0             69.167924\n",
              "45335 2020-11-01          Zambia  ...  18383955.0            896.433874\n",
              "45562 2020-11-01        Zimbabwe  ...  14862924.0            563.415382\n",
              "\n",
              "[189 rows x 12 columns]"
            ]
          },
          "metadata": {
            "tags": []
          },
          "execution_count": 40
        }
      ]
    },
    {
      "cell_type": "markdown",
      "metadata": {
        "id": "mmTBsUOROG6s"
      },
      "source": [
        "Let's assign new columns with the most interesting rankins ..."
      ]
    },
    {
      "cell_type": "code",
      "metadata": {
        "id": "6jBUyahqINJ6",
        "outputId": "2e78c7f4-f29f-42f4-d29b-7686ebd0dd06",
        "colab": {
          "base_uri": "https://localhost:8080/",
          "height": 461
        }
      },
      "source": [
        "last_day_data = last_day_data.assign(\n",
        "    Rank_ConfirmedAcum = last_day_data.ConfirmedAcum.rank(),\n",
        "    Rank_Confirmed = last_day_data.Confirmed.rank(),\n",
        "    Rank_ActiveAcum = last_day_data.ActiveAcum.rank(),\n",
        "    Rank_Active = last_day_data.Active.rank(),\n",
        "    Rank_ConfirmedAcum_Millon = last_day_data.ConfirmedAcum_Millon.rank()\n",
        ")\n",
        "last_day_data"
      ],
      "execution_count": 41,
      "outputs": [
        {
          "output_type": "execute_result",
          "data": {
            "text/html": [
              "<div>\n",
              "<style scoped>\n",
              "    .dataframe tbody tr th:only-of-type {\n",
              "        vertical-align: middle;\n",
              "    }\n",
              "\n",
              "    .dataframe tbody tr th {\n",
              "        vertical-align: top;\n",
              "    }\n",
              "\n",
              "    .dataframe thead th {\n",
              "        text-align: right;\n",
              "    }\n",
              "</style>\n",
              "<table border=\"1\" class=\"dataframe\">\n",
              "  <thead>\n",
              "    <tr style=\"text-align: right;\">\n",
              "      <th></th>\n",
              "      <th>Date</th>\n",
              "      <th>Country</th>\n",
              "      <th>ConfirmedAcum</th>\n",
              "      <th>DeathsAcum</th>\n",
              "      <th>RecoveredAcum</th>\n",
              "      <th>ActiveAcum</th>\n",
              "      <th>Confirmed</th>\n",
              "      <th>Deaths</th>\n",
              "      <th>Recovered</th>\n",
              "      <th>Active</th>\n",
              "      <th>Population</th>\n",
              "      <th>ConfirmedAcum_Millon</th>\n",
              "      <th>Rank_ConfirmedAcum</th>\n",
              "      <th>Rank_Confirmed</th>\n",
              "      <th>Rank_ActiveAcum</th>\n",
              "      <th>Rank_Active</th>\n",
              "      <th>Rank_ConfirmedAcum_Millon</th>\n",
              "    </tr>\n",
              "  </thead>\n",
              "  <tbody>\n",
              "    <tr>\n",
              "      <th>251</th>\n",
              "      <td>2020-11-01</td>\n",
              "      <td>Afghanistan</td>\n",
              "      <td>41501.0</td>\n",
              "      <td>1536.0</td>\n",
              "      <td>34326.0</td>\n",
              "      <td>5639.0</td>\n",
              "      <td>76.0</td>\n",
              "      <td>0.0</td>\n",
              "      <td>5.0</td>\n",
              "      <td>71.0</td>\n",
              "      <td>38928346.0</td>\n",
              "      <td>1066.086907</td>\n",
              "      <td>108.0</td>\n",
              "      <td>93.5</td>\n",
              "      <td>107.0</td>\n",
              "      <td>139.0</td>\n",
              "      <td>65.0</td>\n",
              "    </tr>\n",
              "    <tr>\n",
              "      <th>489</th>\n",
              "      <td>2020-11-01</td>\n",
              "      <td>Albania</td>\n",
              "      <td>21202.0</td>\n",
              "      <td>518.0</td>\n",
              "      <td>11246.0</td>\n",
              "      <td>9438.0</td>\n",
              "      <td>327.0</td>\n",
              "      <td>9.0</td>\n",
              "      <td>57.0</td>\n",
              "      <td>261.0</td>\n",
              "      <td>2877797.0</td>\n",
              "      <td>7367.441136</td>\n",
              "      <td>98.0</td>\n",
              "      <td>116.0</td>\n",
              "      <td>121.0</td>\n",
              "      <td>151.0</td>\n",
              "      <td>112.0</td>\n",
              "    </tr>\n",
              "    <tr>\n",
              "      <th>740</th>\n",
              "      <td>2020-11-01</td>\n",
              "      <td>Algeria</td>\n",
              "      <td>58272.0</td>\n",
              "      <td>1973.0</td>\n",
              "      <td>40395.0</td>\n",
              "      <td>15904.0</td>\n",
              "      <td>330.0</td>\n",
              "      <td>9.0</td>\n",
              "      <td>194.0</td>\n",
              "      <td>127.0</td>\n",
              "      <td>43851044.0</td>\n",
              "      <td>1328.862319</td>\n",
              "      <td>120.0</td>\n",
              "      <td>117.0</td>\n",
              "      <td>133.0</td>\n",
              "      <td>145.0</td>\n",
              "      <td>70.0</td>\n",
              "    </tr>\n",
              "    <tr>\n",
              "      <th>985</th>\n",
              "      <td>2020-11-01</td>\n",
              "      <td>Andorra</td>\n",
              "      <td>4825.0</td>\n",
              "      <td>75.0</td>\n",
              "      <td>3475.0</td>\n",
              "      <td>1275.0</td>\n",
              "      <td>69.0</td>\n",
              "      <td>0.0</td>\n",
              "      <td>0.0</td>\n",
              "      <td>69.0</td>\n",
              "      <td>77265.0</td>\n",
              "      <td>62447.421213</td>\n",
              "      <td>54.0</td>\n",
              "      <td>91.5</td>\n",
              "      <td>76.0</td>\n",
              "      <td>137.0</td>\n",
              "      <td>183.0</td>\n",
              "    </tr>\n",
              "    <tr>\n",
              "      <th>1212</th>\n",
              "      <td>2020-11-01</td>\n",
              "      <td>Angola</td>\n",
              "      <td>11035.0</td>\n",
              "      <td>286.0</td>\n",
              "      <td>4920.0</td>\n",
              "      <td>5829.0</td>\n",
              "      <td>230.0</td>\n",
              "      <td>2.0</td>\n",
              "      <td>397.0</td>\n",
              "      <td>-169.0</td>\n",
              "      <td>32866272.0</td>\n",
              "      <td>335.754539</td>\n",
              "      <td>78.0</td>\n",
              "      <td>108.0</td>\n",
              "      <td>108.0</td>\n",
              "      <td>26.0</td>\n",
              "      <td>34.0</td>\n",
              "    </tr>\n",
              "    <tr>\n",
              "      <th>...</th>\n",
              "      <td>...</td>\n",
              "      <td>...</td>\n",
              "      <td>...</td>\n",
              "      <td>...</td>\n",
              "      <td>...</td>\n",
              "      <td>...</td>\n",
              "      <td>...</td>\n",
              "      <td>...</td>\n",
              "      <td>...</td>\n",
              "      <td>...</td>\n",
              "      <td>...</td>\n",
              "      <td>...</td>\n",
              "      <td>...</td>\n",
              "      <td>...</td>\n",
              "      <td>...</td>\n",
              "      <td>...</td>\n",
              "      <td>...</td>\n",
              "    </tr>\n",
              "    <tr>\n",
              "      <th>44689</th>\n",
              "      <td>2020-11-01</td>\n",
              "      <td>Vietnam</td>\n",
              "      <td>1180.0</td>\n",
              "      <td>35.0</td>\n",
              "      <td>1063.0</td>\n",
              "      <td>82.0</td>\n",
              "      <td>0.0</td>\n",
              "      <td>0.0</td>\n",
              "      <td>1.0</td>\n",
              "      <td>-1.0</td>\n",
              "      <td>97338579.0</td>\n",
              "      <td>12.122634</td>\n",
              "      <td>33.0</td>\n",
              "      <td>23.5</td>\n",
              "      <td>38.0</td>\n",
              "      <td>57.5</td>\n",
              "      <td>4.0</td>\n",
              "    </tr>\n",
              "    <tr>\n",
              "      <th>44900</th>\n",
              "      <td>2020-11-01</td>\n",
              "      <td>Western Sahara</td>\n",
              "      <td>10.0</td>\n",
              "      <td>1.0</td>\n",
              "      <td>8.0</td>\n",
              "      <td>1.0</td>\n",
              "      <td>0.0</td>\n",
              "      <td>0.0</td>\n",
              "      <td>0.0</td>\n",
              "      <td>0.0</td>\n",
              "      <td>597339.0</td>\n",
              "      <td>16.740913</td>\n",
              "      <td>4.0</td>\n",
              "      <td>23.5</td>\n",
              "      <td>4.0</td>\n",
              "      <td>81.0</td>\n",
              "      <td>5.0</td>\n",
              "    </tr>\n",
              "    <tr>\n",
              "      <th>45106</th>\n",
              "      <td>2020-11-01</td>\n",
              "      <td>Yemen</td>\n",
              "      <td>2063.0</td>\n",
              "      <td>600.0</td>\n",
              "      <td>1366.0</td>\n",
              "      <td>97.0</td>\n",
              "      <td>0.0</td>\n",
              "      <td>1.0</td>\n",
              "      <td>0.0</td>\n",
              "      <td>-1.0</td>\n",
              "      <td>29825964.0</td>\n",
              "      <td>69.167924</td>\n",
              "      <td>39.0</td>\n",
              "      <td>23.5</td>\n",
              "      <td>40.0</td>\n",
              "      <td>57.5</td>\n",
              "      <td>16.0</td>\n",
              "    </tr>\n",
              "    <tr>\n",
              "      <th>45335</th>\n",
              "      <td>2020-11-01</td>\n",
              "      <td>Zambia</td>\n",
              "      <td>16480.0</td>\n",
              "      <td>349.0</td>\n",
              "      <td>15733.0</td>\n",
              "      <td>398.0</td>\n",
              "      <td>48.0</td>\n",
              "      <td>0.0</td>\n",
              "      <td>53.0</td>\n",
              "      <td>-5.0</td>\n",
              "      <td>18383955.0</td>\n",
              "      <td>896.433874</td>\n",
              "      <td>90.0</td>\n",
              "      <td>85.5</td>\n",
              "      <td>55.0</td>\n",
              "      <td>50.5</td>\n",
              "      <td>56.0</td>\n",
              "    </tr>\n",
              "    <tr>\n",
              "      <th>45562</th>\n",
              "      <td>2020-11-01</td>\n",
              "      <td>Zimbabwe</td>\n",
              "      <td>8374.0</td>\n",
              "      <td>243.0</td>\n",
              "      <td>7927.0</td>\n",
              "      <td>204.0</td>\n",
              "      <td>7.0</td>\n",
              "      <td>0.0</td>\n",
              "      <td>33.0</td>\n",
              "      <td>-26.0</td>\n",
              "      <td>14862924.0</td>\n",
              "      <td>563.415382</td>\n",
              "      <td>73.0</td>\n",
              "      <td>65.0</td>\n",
              "      <td>49.0</td>\n",
              "      <td>42.0</td>\n",
              "      <td>45.0</td>\n",
              "    </tr>\n",
              "  </tbody>\n",
              "</table>\n",
              "<p>189 rows × 17 columns</p>\n",
              "</div>"
            ],
            "text/plain": [
              "            Date         Country  ...  Rank_Active  Rank_ConfirmedAcum_Millon\n",
              "251   2020-11-01     Afghanistan  ...        139.0                       65.0\n",
              "489   2020-11-01         Albania  ...        151.0                      112.0\n",
              "740   2020-11-01         Algeria  ...        145.0                       70.0\n",
              "985   2020-11-01         Andorra  ...        137.0                      183.0\n",
              "1212  2020-11-01          Angola  ...         26.0                       34.0\n",
              "...          ...             ...  ...          ...                        ...\n",
              "44689 2020-11-01         Vietnam  ...         57.5                        4.0\n",
              "44900 2020-11-01  Western Sahara  ...         81.0                        5.0\n",
              "45106 2020-11-01           Yemen  ...         57.5                       16.0\n",
              "45335 2020-11-01          Zambia  ...         50.5                       56.0\n",
              "45562 2020-11-01        Zimbabwe  ...         42.0                       45.0\n",
              "\n",
              "[189 rows x 17 columns]"
            ]
          },
          "metadata": {
            "tags": []
          },
          "execution_count": 41
        }
      ]
    },
    {
      "cell_type": "markdown",
      "metadata": {
        "id": "HivVOvHXONay"
      },
      "source": [
        "Which countries have the most confirmed cases?"
      ]
    },
    {
      "cell_type": "code",
      "metadata": {
        "id": "_7PM3zGbIPso",
        "outputId": "5178155d-cc6c-4c77-bccd-70c69c65481d",
        "colab": {
          "base_uri": "https://localhost:8080/",
          "height": 363
        }
      },
      "source": [
        "last_day_data.sort_values('Rank_ConfirmedAcum', ascending = False)[['Country', 'ConfirmedAcum']].reset_index(drop = True).head(10)"
      ],
      "execution_count": 42,
      "outputs": [
        {
          "output_type": "execute_result",
          "data": {
            "text/html": [
              "<div>\n",
              "<style scoped>\n",
              "    .dataframe tbody tr th:only-of-type {\n",
              "        vertical-align: middle;\n",
              "    }\n",
              "\n",
              "    .dataframe tbody tr th {\n",
              "        vertical-align: top;\n",
              "    }\n",
              "\n",
              "    .dataframe thead th {\n",
              "        text-align: right;\n",
              "    }\n",
              "</style>\n",
              "<table border=\"1\" class=\"dataframe\">\n",
              "  <thead>\n",
              "    <tr style=\"text-align: right;\">\n",
              "      <th></th>\n",
              "      <th>Country</th>\n",
              "      <th>ConfirmedAcum</th>\n",
              "    </tr>\n",
              "  </thead>\n",
              "  <tbody>\n",
              "    <tr>\n",
              "      <th>0</th>\n",
              "      <td>United States</td>\n",
              "      <td>9206975.0</td>\n",
              "    </tr>\n",
              "    <tr>\n",
              "      <th>1</th>\n",
              "      <td>India</td>\n",
              "      <td>8229313.0</td>\n",
              "    </tr>\n",
              "    <tr>\n",
              "      <th>2</th>\n",
              "      <td>Brazil</td>\n",
              "      <td>5545705.0</td>\n",
              "    </tr>\n",
              "    <tr>\n",
              "      <th>3</th>\n",
              "      <td>Russia</td>\n",
              "      <td>1624648.0</td>\n",
              "    </tr>\n",
              "    <tr>\n",
              "      <th>4</th>\n",
              "      <td>France</td>\n",
              "      <td>1458999.0</td>\n",
              "    </tr>\n",
              "    <tr>\n",
              "      <th>5</th>\n",
              "      <td>Spain</td>\n",
              "      <td>1185678.0</td>\n",
              "    </tr>\n",
              "    <tr>\n",
              "      <th>6</th>\n",
              "      <td>Argentina</td>\n",
              "      <td>1173533.0</td>\n",
              "    </tr>\n",
              "    <tr>\n",
              "      <th>7</th>\n",
              "      <td>Colombia</td>\n",
              "      <td>1082767.0</td>\n",
              "    </tr>\n",
              "    <tr>\n",
              "      <th>8</th>\n",
              "      <td>United Kingdom</td>\n",
              "      <td>1038054.0</td>\n",
              "    </tr>\n",
              "    <tr>\n",
              "      <th>9</th>\n",
              "      <td>Mexico</td>\n",
              "      <td>929392.0</td>\n",
              "    </tr>\n",
              "  </tbody>\n",
              "</table>\n",
              "</div>"
            ],
            "text/plain": [
              "          Country  ConfirmedAcum\n",
              "0   United States      9206975.0\n",
              "1           India      8229313.0\n",
              "2          Brazil      5545705.0\n",
              "3          Russia      1624648.0\n",
              "4          France      1458999.0\n",
              "5           Spain      1185678.0\n",
              "6       Argentina      1173533.0\n",
              "7        Colombia      1082767.0\n",
              "8  United Kingdom      1038054.0\n",
              "9          Mexico       929392.0"
            ]
          },
          "metadata": {
            "tags": []
          },
          "execution_count": 42
        }
      ]
    },
    {
      "cell_type": "markdown",
      "metadata": {
        "id": "Zlu8j_bvOYCT"
      },
      "source": [
        "Which countries have more confirmed cases on the last day?"
      ]
    },
    {
      "cell_type": "code",
      "metadata": {
        "id": "PCYQySQTISh4",
        "outputId": "23ca96df-8050-451e-89e6-78c69d649b82",
        "colab": {
          "base_uri": "https://localhost:8080/",
          "height": 363
        }
      },
      "source": [
        "last_day_data.sort_values('Rank_Confirmed', ascending = False)[['Country', 'Confirmed']].reset_index(drop = True).head(10)"
      ],
      "execution_count": 43,
      "outputs": [
        {
          "output_type": "execute_result",
          "data": {
            "text/html": [
              "<div>\n",
              "<style scoped>\n",
              "    .dataframe tbody tr th:only-of-type {\n",
              "        vertical-align: middle;\n",
              "    }\n",
              "\n",
              "    .dataframe tbody tr th {\n",
              "        vertical-align: top;\n",
              "    }\n",
              "\n",
              "    .dataframe thead th {\n",
              "        text-align: right;\n",
              "    }\n",
              "</style>\n",
              "<table border=\"1\" class=\"dataframe\">\n",
              "  <thead>\n",
              "    <tr style=\"text-align: right;\">\n",
              "      <th></th>\n",
              "      <th>Country</th>\n",
              "      <th>Confirmed</th>\n",
              "    </tr>\n",
              "  </thead>\n",
              "  <tbody>\n",
              "    <tr>\n",
              "      <th>0</th>\n",
              "      <td>United States</td>\n",
              "      <td>81493.0</td>\n",
              "    </tr>\n",
              "    <tr>\n",
              "      <th>1</th>\n",
              "      <td>France</td>\n",
              "      <td>46290.0</td>\n",
              "    </tr>\n",
              "    <tr>\n",
              "      <th>2</th>\n",
              "      <td>India</td>\n",
              "      <td>45231.0</td>\n",
              "    </tr>\n",
              "    <tr>\n",
              "      <th>3</th>\n",
              "      <td>Italy</td>\n",
              "      <td>29905.0</td>\n",
              "    </tr>\n",
              "    <tr>\n",
              "      <th>4</th>\n",
              "      <td>United Kingdom</td>\n",
              "      <td>23261.0</td>\n",
              "    </tr>\n",
              "    <tr>\n",
              "      <th>5</th>\n",
              "      <td>Germany</td>\n",
              "      <td>20270.0</td>\n",
              "    </tr>\n",
              "    <tr>\n",
              "      <th>6</th>\n",
              "      <td>Russia</td>\n",
              "      <td>18381.0</td>\n",
              "    </tr>\n",
              "    <tr>\n",
              "      <th>7</th>\n",
              "      <td>Poland</td>\n",
              "      <td>17171.0</td>\n",
              "    </tr>\n",
              "    <tr>\n",
              "      <th>8</th>\n",
              "      <td>Belgium</td>\n",
              "      <td>11789.0</td>\n",
              "    </tr>\n",
              "    <tr>\n",
              "      <th>9</th>\n",
              "      <td>Brazil</td>\n",
              "      <td>10100.0</td>\n",
              "    </tr>\n",
              "  </tbody>\n",
              "</table>\n",
              "</div>"
            ],
            "text/plain": [
              "          Country  Confirmed\n",
              "0   United States    81493.0\n",
              "1          France    46290.0\n",
              "2           India    45231.0\n",
              "3           Italy    29905.0\n",
              "4  United Kingdom    23261.0\n",
              "5         Germany    20270.0\n",
              "6          Russia    18381.0\n",
              "7          Poland    17171.0\n",
              "8         Belgium    11789.0\n",
              "9          Brazil    10100.0"
            ]
          },
          "metadata": {
            "tags": []
          },
          "execution_count": 43
        }
      ]
    },
    {
      "cell_type": "markdown",
      "metadata": {
        "id": "3m_EcGT6OhPK"
      },
      "source": [
        "Which countries have the most active cases?"
      ]
    },
    {
      "cell_type": "code",
      "metadata": {
        "id": "VjKAEOvNIVvY",
        "outputId": "ad34489d-674c-4c4f-ae5d-21b336ab3141",
        "colab": {
          "base_uri": "https://localhost:8080/",
          "height": 363
        }
      },
      "source": [
        "last_day_data.sort_values('Rank_ActiveAcum', ascending = False)[['Country', 'ActiveAcum']].reset_index(drop = True).head(10)"
      ],
      "execution_count": 44,
      "outputs": [
        {
          "output_type": "execute_result",
          "data": {
            "text/html": [
              "<div>\n",
              "<style scoped>\n",
              "    .dataframe tbody tr th:only-of-type {\n",
              "        vertical-align: middle;\n",
              "    }\n",
              "\n",
              "    .dataframe tbody tr th {\n",
              "        vertical-align: top;\n",
              "    }\n",
              "\n",
              "    .dataframe thead th {\n",
              "        text-align: right;\n",
              "    }\n",
              "</style>\n",
              "<table border=\"1\" class=\"dataframe\">\n",
              "  <thead>\n",
              "    <tr style=\"text-align: right;\">\n",
              "      <th></th>\n",
              "      <th>Country</th>\n",
              "      <th>ActiveAcum</th>\n",
              "    </tr>\n",
              "  </thead>\n",
              "  <tbody>\n",
              "    <tr>\n",
              "      <th>0</th>\n",
              "      <td>United States</td>\n",
              "      <td>5345401.0</td>\n",
              "    </tr>\n",
              "    <tr>\n",
              "      <th>1</th>\n",
              "      <td>France</td>\n",
              "      <td>1298278.0</td>\n",
              "    </tr>\n",
              "    <tr>\n",
              "      <th>2</th>\n",
              "      <td>Spain</td>\n",
              "      <td>999424.0</td>\n",
              "    </tr>\n",
              "    <tr>\n",
              "      <th>3</th>\n",
              "      <td>United Kingdom</td>\n",
              "      <td>988406.0</td>\n",
              "    </tr>\n",
              "    <tr>\n",
              "      <th>4</th>\n",
              "      <td>India</td>\n",
              "      <td>561908.0</td>\n",
              "    </tr>\n",
              "    <tr>\n",
              "      <th>5</th>\n",
              "      <td>Belgium</td>\n",
              "      <td>403462.0</td>\n",
              "    </tr>\n",
              "    <tr>\n",
              "      <th>6</th>\n",
              "      <td>Italy</td>\n",
              "      <td>378129.0</td>\n",
              "    </tr>\n",
              "    <tr>\n",
              "      <th>7</th>\n",
              "      <td>Russia</td>\n",
              "      <td>378003.0</td>\n",
              "    </tr>\n",
              "    <tr>\n",
              "      <th>8</th>\n",
              "      <td>Brazil</td>\n",
              "      <td>363293.0</td>\n",
              "    </tr>\n",
              "    <tr>\n",
              "      <th>9</th>\n",
              "      <td>Netherlands</td>\n",
              "      <td>352945.0</td>\n",
              "    </tr>\n",
              "  </tbody>\n",
              "</table>\n",
              "</div>"
            ],
            "text/plain": [
              "          Country  ActiveAcum\n",
              "0   United States   5345401.0\n",
              "1          France   1298278.0\n",
              "2           Spain    999424.0\n",
              "3  United Kingdom    988406.0\n",
              "4           India    561908.0\n",
              "5         Belgium    403462.0\n",
              "6           Italy    378129.0\n",
              "7          Russia    378003.0\n",
              "8          Brazil    363293.0\n",
              "9     Netherlands    352945.0"
            ]
          },
          "metadata": {
            "tags": []
          },
          "execution_count": 44
        }
      ]
    },
    {
      "cell_type": "markdown",
      "metadata": {
        "id": "0TybT0p1OmEG"
      },
      "source": [
        "Which countries had the most active cases on the last day?"
      ]
    },
    {
      "cell_type": "code",
      "metadata": {
        "id": "h76bTP6rIavQ",
        "outputId": "91ae0a5d-7e09-40c0-f8ed-1fa0a0545c14",
        "colab": {
          "base_uri": "https://localhost:8080/",
          "height": 363
        }
      },
      "source": [
        "last_day_data.sort_values('Rank_Active', ascending = False)[['Country', 'Active']].reset_index(drop = True).head(10)"
      ],
      "execution_count": 45,
      "outputs": [
        {
          "output_type": "execute_result",
          "data": {
            "text/html": [
              "<div>\n",
              "<style scoped>\n",
              "    .dataframe tbody tr th:only-of-type {\n",
              "        vertical-align: middle;\n",
              "    }\n",
              "\n",
              "    .dataframe tbody tr th {\n",
              "        vertical-align: top;\n",
              "    }\n",
              "\n",
              "    .dataframe thead th {\n",
              "        text-align: right;\n",
              "    }\n",
              "</style>\n",
              "<table border=\"1\" class=\"dataframe\">\n",
              "  <thead>\n",
              "    <tr style=\"text-align: right;\">\n",
              "      <th></th>\n",
              "      <th>Country</th>\n",
              "      <th>Active</th>\n",
              "    </tr>\n",
              "  </thead>\n",
              "  <tbody>\n",
              "    <tr>\n",
              "      <th>0</th>\n",
              "      <td>United States</td>\n",
              "      <td>62945.0</td>\n",
              "    </tr>\n",
              "    <tr>\n",
              "      <th>1</th>\n",
              "      <td>France</td>\n",
              "      <td>45490.0</td>\n",
              "    </tr>\n",
              "    <tr>\n",
              "      <th>2</th>\n",
              "      <td>Italy</td>\n",
              "      <td>26743.0</td>\n",
              "    </tr>\n",
              "    <tr>\n",
              "      <th>3</th>\n",
              "      <td>United Kingdom</td>\n",
              "      <td>23097.0</td>\n",
              "    </tr>\n",
              "    <tr>\n",
              "      <th>4</th>\n",
              "      <td>Germany</td>\n",
              "      <td>13077.0</td>\n",
              "    </tr>\n",
              "    <tr>\n",
              "      <th>5</th>\n",
              "      <td>Belgium</td>\n",
              "      <td>11427.0</td>\n",
              "    </tr>\n",
              "    <tr>\n",
              "      <th>6</th>\n",
              "      <td>Poland</td>\n",
              "      <td>10704.0</td>\n",
              "    </tr>\n",
              "    <tr>\n",
              "      <th>7</th>\n",
              "      <td>Netherlands</td>\n",
              "      <td>8646.0</td>\n",
              "    </tr>\n",
              "    <tr>\n",
              "      <th>8</th>\n",
              "      <td>Russia</td>\n",
              "      <td>7963.0</td>\n",
              "    </tr>\n",
              "    <tr>\n",
              "      <th>9</th>\n",
              "      <td>Ukraine</td>\n",
              "      <td>5534.0</td>\n",
              "    </tr>\n",
              "  </tbody>\n",
              "</table>\n",
              "</div>"
            ],
            "text/plain": [
              "          Country   Active\n",
              "0   United States  62945.0\n",
              "1          France  45490.0\n",
              "2           Italy  26743.0\n",
              "3  United Kingdom  23097.0\n",
              "4         Germany  13077.0\n",
              "5         Belgium  11427.0\n",
              "6          Poland  10704.0\n",
              "7     Netherlands   8646.0\n",
              "8          Russia   7963.0\n",
              "9         Ukraine   5534.0"
            ]
          },
          "metadata": {
            "tags": []
          },
          "execution_count": 45
        }
      ]
    },
    {
      "cell_type": "markdown",
      "metadata": {
        "id": "g560FCcvOrm4"
      },
      "source": [
        "Which countries have the most active cases per million inhabitants?"
      ]
    },
    {
      "cell_type": "code",
      "metadata": {
        "id": "lycUSCknKvYW",
        "outputId": "522df1dd-92c6-49c6-9bb6-09f0e7010e36",
        "colab": {
          "base_uri": "https://localhost:8080/",
          "height": 677
        }
      },
      "source": [
        "last_day_data.sort_values('Rank_ConfirmedAcum_Millon', ascending = False)[['Country', 'ConfirmedAcum_Millon']].reset_index(drop = True).head(20)"
      ],
      "execution_count": 46,
      "outputs": [
        {
          "output_type": "execute_result",
          "data": {
            "text/html": [
              "<div>\n",
              "<style scoped>\n",
              "    .dataframe tbody tr th:only-of-type {\n",
              "        vertical-align: middle;\n",
              "    }\n",
              "\n",
              "    .dataframe tbody tr th {\n",
              "        vertical-align: top;\n",
              "    }\n",
              "\n",
              "    .dataframe thead th {\n",
              "        text-align: right;\n",
              "    }\n",
              "</style>\n",
              "<table border=\"1\" class=\"dataframe\">\n",
              "  <thead>\n",
              "    <tr style=\"text-align: right;\">\n",
              "      <th></th>\n",
              "      <th>Country</th>\n",
              "      <th>ConfirmedAcum_Millon</th>\n",
              "    </tr>\n",
              "  </thead>\n",
              "  <tbody>\n",
              "    <tr>\n",
              "      <th>0</th>\n",
              "      <td>Andorra</td>\n",
              "      <td>62447.421213</td>\n",
              "    </tr>\n",
              "    <tr>\n",
              "      <th>1</th>\n",
              "      <td>Bahrain</td>\n",
              "      <td>48145.394708</td>\n",
              "    </tr>\n",
              "    <tr>\n",
              "      <th>2</th>\n",
              "      <td>Qatar</td>\n",
              "      <td>46066.490273</td>\n",
              "    </tr>\n",
              "    <tr>\n",
              "      <th>3</th>\n",
              "      <td>Belgium</td>\n",
              "      <td>38052.833988</td>\n",
              "    </tr>\n",
              "    <tr>\n",
              "      <th>4</th>\n",
              "      <td>Israel</td>\n",
              "      <td>36386.312342</td>\n",
              "    </tr>\n",
              "    <tr>\n",
              "      <th>5</th>\n",
              "      <td>Holy See</td>\n",
              "      <td>33707.865169</td>\n",
              "    </tr>\n",
              "    <tr>\n",
              "      <th>6</th>\n",
              "      <td>Czech Republic (Czechia)</td>\n",
              "      <td>31902.568508</td>\n",
              "    </tr>\n",
              "    <tr>\n",
              "      <th>7</th>\n",
              "      <td>Panama</td>\n",
              "      <td>31134.010249</td>\n",
              "    </tr>\n",
              "    <tr>\n",
              "      <th>8</th>\n",
              "      <td>Armenia</td>\n",
              "      <td>31132.782563</td>\n",
              "    </tr>\n",
              "    <tr>\n",
              "      <th>9</th>\n",
              "      <td>Montenegro</td>\n",
              "      <td>29796.231606</td>\n",
              "    </tr>\n",
              "    <tr>\n",
              "      <th>10</th>\n",
              "      <td>Kuwait</td>\n",
              "      <td>29629.293132</td>\n",
              "    </tr>\n",
              "    <tr>\n",
              "      <th>11</th>\n",
              "      <td>United States</td>\n",
              "      <td>27815.411666</td>\n",
              "    </tr>\n",
              "    <tr>\n",
              "      <th>12</th>\n",
              "      <td>Peru</td>\n",
              "      <td>27371.921518</td>\n",
              "    </tr>\n",
              "    <tr>\n",
              "      <th>13</th>\n",
              "      <td>Luxembourg</td>\n",
              "      <td>27371.568969</td>\n",
              "    </tr>\n",
              "    <tr>\n",
              "      <th>14</th>\n",
              "      <td>San Marino</td>\n",
              "      <td>27349.621290</td>\n",
              "    </tr>\n",
              "    <tr>\n",
              "      <th>15</th>\n",
              "      <td>Chile</td>\n",
              "      <td>26776.449986</td>\n",
              "    </tr>\n",
              "    <tr>\n",
              "      <th>16</th>\n",
              "      <td>Brazil</td>\n",
              "      <td>26090.140245</td>\n",
              "    </tr>\n",
              "    <tr>\n",
              "      <th>17</th>\n",
              "      <td>Argentina</td>\n",
              "      <td>25965.547133</td>\n",
              "    </tr>\n",
              "    <tr>\n",
              "      <th>18</th>\n",
              "      <td>Spain</td>\n",
              "      <td>25359.504434</td>\n",
              "    </tr>\n",
              "    <tr>\n",
              "      <th>19</th>\n",
              "      <td>Oman</td>\n",
              "      <td>22663.496406</td>\n",
              "    </tr>\n",
              "  </tbody>\n",
              "</table>\n",
              "</div>"
            ],
            "text/plain": [
              "                     Country  ConfirmedAcum_Millon\n",
              "0                    Andorra          62447.421213\n",
              "1                    Bahrain          48145.394708\n",
              "2                      Qatar          46066.490273\n",
              "3                    Belgium          38052.833988\n",
              "4                     Israel          36386.312342\n",
              "5                   Holy See          33707.865169\n",
              "6   Czech Republic (Czechia)          31902.568508\n",
              "7                     Panama          31134.010249\n",
              "8                    Armenia          31132.782563\n",
              "9                 Montenegro          29796.231606\n",
              "10                    Kuwait          29629.293132\n",
              "11             United States          27815.411666\n",
              "12                      Peru          27371.921518\n",
              "13                Luxembourg          27371.568969\n",
              "14                San Marino          27349.621290\n",
              "15                     Chile          26776.449986\n",
              "16                    Brazil          26090.140245\n",
              "17                 Argentina          25965.547133\n",
              "18                     Spain          25359.504434\n",
              "19                      Oman          22663.496406"
            ]
          },
          "metadata": {
            "tags": []
          },
          "execution_count": 46
        }
      ]
    },
    {
      "cell_type": "markdown",
      "metadata": {
        "id": "6P2fEQV6NAtA"
      },
      "source": [
        "What is the total number of cases?"
      ]
    },
    {
      "cell_type": "code",
      "metadata": {
        "id": "alM4NqMRLoYG",
        "outputId": "3cc3033f-a549-4ced-b4a0-6bcc7c26d53e",
        "colab": {
          "base_uri": "https://localhost:8080/",
          "height": 81
        }
      },
      "source": [
        "import locale\n",
        "locale.setlocale(locale.LC_ALL, '')\n",
        "\n",
        "total = pd.DataFrame(last_day_data[[\"ConfirmedAcum\", \"RecoveredAcum\", \"DeathsAcum\"]].aggregate(\"sum\")\\\n",
        "                     .apply(lambda value : locale.format(\"%d\", value, grouping=True)))\n",
        "total.columns = [\"Total Cases\"]\n",
        "total.index = ['Confirmed', 'Deaths', 'Recovered']\n",
        "display(total.T)\n"
      ],
      "execution_count": 47,
      "outputs": [
        {
          "output_type": "display_data",
          "data": {
            "text/html": [
              "<div>\n",
              "<style scoped>\n",
              "    .dataframe tbody tr th:only-of-type {\n",
              "        vertical-align: middle;\n",
              "    }\n",
              "\n",
              "    .dataframe tbody tr th {\n",
              "        vertical-align: top;\n",
              "    }\n",
              "\n",
              "    .dataframe thead th {\n",
              "        text-align: right;\n",
              "    }\n",
              "</style>\n",
              "<table border=\"1\" class=\"dataframe\">\n",
              "  <thead>\n",
              "    <tr style=\"text-align: right;\">\n",
              "      <th></th>\n",
              "      <th>Confirmed</th>\n",
              "      <th>Deaths</th>\n",
              "      <th>Recovered</th>\n",
              "    </tr>\n",
              "  </thead>\n",
              "  <tbody>\n",
              "    <tr>\n",
              "      <th>Total Cases</th>\n",
              "      <td>46,509,232</td>\n",
              "      <td>31,078,769</td>\n",
              "      <td>1,200,361</td>\n",
              "    </tr>\n",
              "  </tbody>\n",
              "</table>\n",
              "</div>"
            ],
            "text/plain": [
              "              Confirmed      Deaths  Recovered\n",
              "Total Cases  46,509,232  31,078,769  1,200,361"
            ]
          },
          "metadata": {
            "tags": []
          }
        }
      ]
    },
    {
      "cell_type": "markdown",
      "metadata": {
        "id": "avu2mpN0I0G5"
      },
      "source": [
        "## Saving the clean dataset"
      ]
    },
    {
      "cell_type": "markdown",
      "metadata": {
        "id": "CtsWStYjPJfB"
      },
      "source": [
        "Finally I will create an Excel file with the information per country once it is clean and in perfect condition to apply some machine learning algorithms ..."
      ]
    },
    {
      "cell_type": "code",
      "metadata": {
        "id": "Dba5dgwrl9Hq"
      },
      "source": [
        "data_by_country.to_excel(\"All_data.xlsx\", index = False)"
      ],
      "execution_count": 48,
      "outputs": []
    },
    {
      "cell_type": "markdown",
      "metadata": {
        "id": "ZJfrwxxqBw0E"
      },
      "source": [
        "## Convert to PDF"
      ]
    },
    {
      "cell_type": "markdown",
      "metadata": {
        "id": "KmnVL-1hQgGI"
      },
      "source": [
        "[Google Colab](https://colab.research.google.com) does not have a 'export to PDF' feature so let's install the packages needed to export this notebook to pdf manually."
      ]
    },
    {
      "cell_type": "markdown",
      "metadata": {
        "id": "BGnOuy6yZM_w"
      },
      "source": [
        "```\n",
        "!apt-get install texlive texlive-xetex texlive-latex-extra pandoc\n",
        "!pip install pypandoc\n",
        "```"
      ]
    },
    {
      "cell_type": "markdown",
      "metadata": {
        "id": "kbI8rID3Q_go"
      },
      "source": [
        "\n",
        "Now let's mount our 'google drive' unit into this notebook so we can access to it.\n",
        "\n"
      ]
    },
    {
      "cell_type": "markdown",
      "metadata": {
        "id": "AT-CcNDnZQgY"
      },
      "source": [
        "``` \n",
        "from google.colab import drive\n",
        "drive.mount('/content/drive')\n",
        "```"
      ]
    },
    {
      "cell_type": "markdown",
      "metadata": {
        "id": "cr0aRjrURRBW"
      },
      "source": [
        "Let's list the notebooks in 'Google Drive' to check that everything is fine and copy it to the local directory"
      ]
    },
    {
      "cell_type": "markdown",
      "metadata": {
        "id": "-mewsE2IZ7G5"
      },
      "source": [
        "```\n",
        "ls -la \"./drive/My Drive/Colab Notebooks/\"\n",
        "```"
      ]
    },
    {
      "cell_type": "markdown",
      "metadata": {
        "id": "RbYuMo3RaNEJ"
      },
      "source": [
        "```\n",
        "!cp \"./drive/My Drive/Colab Notebooks/Covid-19.ipynb\" .\n",
        "```"
      ]
    },
    {
      "cell_type": "markdown",
      "metadata": {
        "id": "EksU7CpiRtcJ"
      },
      "source": [
        "The last step is generate a PDF from this notebook :-)"
      ]
    },
    {
      "cell_type": "markdown",
      "metadata": {
        "id": "aeL4AzONbcF6"
      },
      "source": [
        "```\n",
        "!jupyter nbconvert --to PDF \"Covid-19.ipynb\"\n",
        "````"
      ]
    }
  ]
}